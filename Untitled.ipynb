{
 "cells": [
  {
   "cell_type": "code",
   "execution_count": 1,
   "id": "76a0baa9",
   "metadata": {},
   "outputs": [
    {
     "data": {
      "text/html": [
       "\n",
       "    <div class=\"bk-root\">\n",
       "        <a href=\"https://bokeh.org\" target=\"_blank\" class=\"bk-logo bk-logo-small bk-logo-notebook\"></a>\n",
       "        <span id=\"1002\">Loading BokehJS ...</span>\n",
       "    </div>"
      ]
     },
     "metadata": {},
     "output_type": "display_data"
    },
    {
     "data": {
      "application/javascript": [
       "\n",
       "(function(root) {\n",
       "  function now() {\n",
       "    return new Date();\n",
       "  }\n",
       "\n",
       "  var force = true;\n",
       "\n",
       "  if (typeof root._bokeh_onload_callbacks === \"undefined\" || force === true) {\n",
       "    root._bokeh_onload_callbacks = [];\n",
       "    root._bokeh_is_loading = undefined;\n",
       "  }\n",
       "\n",
       "  var JS_MIME_TYPE = 'application/javascript';\n",
       "  var HTML_MIME_TYPE = 'text/html';\n",
       "  var EXEC_MIME_TYPE = 'application/vnd.bokehjs_exec.v0+json';\n",
       "  var CLASS_NAME = 'output_bokeh rendered_html';\n",
       "\n",
       "  /**\n",
       "   * Render data to the DOM node\n",
       "   */\n",
       "  function render(props, node) {\n",
       "    var script = document.createElement(\"script\");\n",
       "    node.appendChild(script);\n",
       "  }\n",
       "\n",
       "  /**\n",
       "   * Handle when an output is cleared or removed\n",
       "   */\n",
       "  function handleClearOutput(event, handle) {\n",
       "    var cell = handle.cell;\n",
       "\n",
       "    var id = cell.output_area._bokeh_element_id;\n",
       "    var server_id = cell.output_area._bokeh_server_id;\n",
       "    // Clean up Bokeh references\n",
       "    if (id != null && id in Bokeh.index) {\n",
       "      Bokeh.index[id].model.document.clear();\n",
       "      delete Bokeh.index[id];\n",
       "    }\n",
       "\n",
       "    if (server_id !== undefined) {\n",
       "      // Clean up Bokeh references\n",
       "      var cmd = \"from bokeh.io.state import curstate; print(curstate().uuid_to_server['\" + server_id + \"'].get_sessions()[0].document.roots[0]._id)\";\n",
       "      cell.notebook.kernel.execute(cmd, {\n",
       "        iopub: {\n",
       "          output: function(msg) {\n",
       "            var id = msg.content.text.trim();\n",
       "            if (id in Bokeh.index) {\n",
       "              Bokeh.index[id].model.document.clear();\n",
       "              delete Bokeh.index[id];\n",
       "            }\n",
       "          }\n",
       "        }\n",
       "      });\n",
       "      // Destroy server and session\n",
       "      var cmd = \"import bokeh.io.notebook as ion; ion.destroy_server('\" + server_id + \"')\";\n",
       "      cell.notebook.kernel.execute(cmd);\n",
       "    }\n",
       "  }\n",
       "\n",
       "  /**\n",
       "   * Handle when a new output is added\n",
       "   */\n",
       "  function handleAddOutput(event, handle) {\n",
       "    var output_area = handle.output_area;\n",
       "    var output = handle.output;\n",
       "\n",
       "    // limit handleAddOutput to display_data with EXEC_MIME_TYPE content only\n",
       "    if ((output.output_type != \"display_data\") || (!Object.prototype.hasOwnProperty.call(output.data, EXEC_MIME_TYPE))) {\n",
       "      return\n",
       "    }\n",
       "\n",
       "    var toinsert = output_area.element.find(\".\" + CLASS_NAME.split(' ')[0]);\n",
       "\n",
       "    if (output.metadata[EXEC_MIME_TYPE][\"id\"] !== undefined) {\n",
       "      toinsert[toinsert.length - 1].firstChild.textContent = output.data[JS_MIME_TYPE];\n",
       "      // store reference to embed id on output_area\n",
       "      output_area._bokeh_element_id = output.metadata[EXEC_MIME_TYPE][\"id\"];\n",
       "    }\n",
       "    if (output.metadata[EXEC_MIME_TYPE][\"server_id\"] !== undefined) {\n",
       "      var bk_div = document.createElement(\"div\");\n",
       "      bk_div.innerHTML = output.data[HTML_MIME_TYPE];\n",
       "      var script_attrs = bk_div.children[0].attributes;\n",
       "      for (var i = 0; i < script_attrs.length; i++) {\n",
       "        toinsert[toinsert.length - 1].firstChild.setAttribute(script_attrs[i].name, script_attrs[i].value);\n",
       "        toinsert[toinsert.length - 1].firstChild.textContent = bk_div.children[0].textContent\n",
       "      }\n",
       "      // store reference to server id on output_area\n",
       "      output_area._bokeh_server_id = output.metadata[EXEC_MIME_TYPE][\"server_id\"];\n",
       "    }\n",
       "  }\n",
       "\n",
       "  function register_renderer(events, OutputArea) {\n",
       "\n",
       "    function append_mime(data, metadata, element) {\n",
       "      // create a DOM node to render to\n",
       "      var toinsert = this.create_output_subarea(\n",
       "        metadata,\n",
       "        CLASS_NAME,\n",
       "        EXEC_MIME_TYPE\n",
       "      );\n",
       "      this.keyboard_manager.register_events(toinsert);\n",
       "      // Render to node\n",
       "      var props = {data: data, metadata: metadata[EXEC_MIME_TYPE]};\n",
       "      render(props, toinsert[toinsert.length - 1]);\n",
       "      element.append(toinsert);\n",
       "      return toinsert\n",
       "    }\n",
       "\n",
       "    /* Handle when an output is cleared or removed */\n",
       "    events.on('clear_output.CodeCell', handleClearOutput);\n",
       "    events.on('delete.Cell', handleClearOutput);\n",
       "\n",
       "    /* Handle when a new output is added */\n",
       "    events.on('output_added.OutputArea', handleAddOutput);\n",
       "\n",
       "    /**\n",
       "     * Register the mime type and append_mime function with output_area\n",
       "     */\n",
       "    OutputArea.prototype.register_mime_type(EXEC_MIME_TYPE, append_mime, {\n",
       "      /* Is output safe? */\n",
       "      safe: true,\n",
       "      /* Index of renderer in `output_area.display_order` */\n",
       "      index: 0\n",
       "    });\n",
       "  }\n",
       "\n",
       "  // register the mime type if in Jupyter Notebook environment and previously unregistered\n",
       "  if (root.Jupyter !== undefined) {\n",
       "    var events = require('base/js/events');\n",
       "    var OutputArea = require('notebook/js/outputarea').OutputArea;\n",
       "\n",
       "    if (OutputArea.prototype.mime_types().indexOf(EXEC_MIME_TYPE) == -1) {\n",
       "      register_renderer(events, OutputArea);\n",
       "    }\n",
       "  }\n",
       "\n",
       "  \n",
       "  if (typeof (root._bokeh_timeout) === \"undefined\" || force === true) {\n",
       "    root._bokeh_timeout = Date.now() + 5000;\n",
       "    root._bokeh_failed_load = false;\n",
       "  }\n",
       "\n",
       "  var NB_LOAD_WARNING = {'data': {'text/html':\n",
       "     \"<div style='background-color: #fdd'>\\n\"+\n",
       "     \"<p>\\n\"+\n",
       "     \"BokehJS does not appear to have successfully loaded. If loading BokehJS from CDN, this \\n\"+\n",
       "     \"may be due to a slow or bad network connection. Possible fixes:\\n\"+\n",
       "     \"</p>\\n\"+\n",
       "     \"<ul>\\n\"+\n",
       "     \"<li>re-rerun `output_notebook()` to attempt to load from CDN again, or</li>\\n\"+\n",
       "     \"<li>use INLINE resources instead, as so:</li>\\n\"+\n",
       "     \"</ul>\\n\"+\n",
       "     \"<code>\\n\"+\n",
       "     \"from bokeh.resources import INLINE\\n\"+\n",
       "     \"output_notebook(resources=INLINE)\\n\"+\n",
       "     \"</code>\\n\"+\n",
       "     \"</div>\"}};\n",
       "\n",
       "  function display_loaded() {\n",
       "    var el = document.getElementById(\"1002\");\n",
       "    if (el != null) {\n",
       "      el.textContent = \"BokehJS is loading...\";\n",
       "    }\n",
       "    if (root.Bokeh !== undefined) {\n",
       "      if (el != null) {\n",
       "        el.textContent = \"BokehJS \" + root.Bokeh.version + \" successfully loaded.\";\n",
       "      }\n",
       "    } else if (Date.now() < root._bokeh_timeout) {\n",
       "      setTimeout(display_loaded, 100)\n",
       "    }\n",
       "  }\n",
       "\n",
       "\n",
       "  function run_callbacks() {\n",
       "    try {\n",
       "      root._bokeh_onload_callbacks.forEach(function(callback) {\n",
       "        if (callback != null)\n",
       "          callback();\n",
       "      });\n",
       "    } finally {\n",
       "      delete root._bokeh_onload_callbacks\n",
       "    }\n",
       "    console.debug(\"Bokeh: all callbacks have finished\");\n",
       "  }\n",
       "\n",
       "  function load_libs(css_urls, js_urls, callback) {\n",
       "    if (css_urls == null) css_urls = [];\n",
       "    if (js_urls == null) js_urls = [];\n",
       "\n",
       "    root._bokeh_onload_callbacks.push(callback);\n",
       "    if (root._bokeh_is_loading > 0) {\n",
       "      console.debug(\"Bokeh: BokehJS is being loaded, scheduling callback at\", now());\n",
       "      return null;\n",
       "    }\n",
       "    if (js_urls == null || js_urls.length === 0) {\n",
       "      run_callbacks();\n",
       "      return null;\n",
       "    }\n",
       "    console.debug(\"Bokeh: BokehJS not loaded, scheduling load and callback at\", now());\n",
       "    root._bokeh_is_loading = css_urls.length + js_urls.length;\n",
       "\n",
       "    function on_load() {\n",
       "      root._bokeh_is_loading--;\n",
       "      if (root._bokeh_is_loading === 0) {\n",
       "        console.debug(\"Bokeh: all BokehJS libraries/stylesheets loaded\");\n",
       "        run_callbacks()\n",
       "      }\n",
       "    }\n",
       "\n",
       "    function on_error(url) {\n",
       "      console.error(\"failed to load \" + url);\n",
       "    }\n",
       "\n",
       "    for (let i = 0; i < css_urls.length; i++) {\n",
       "      const url = css_urls[i];\n",
       "      const element = document.createElement(\"link\");\n",
       "      element.onload = on_load;\n",
       "      element.onerror = on_error.bind(null, url);\n",
       "      element.rel = \"stylesheet\";\n",
       "      element.type = \"text/css\";\n",
       "      element.href = url;\n",
       "      console.debug(\"Bokeh: injecting link tag for BokehJS stylesheet: \", url);\n",
       "      document.body.appendChild(element);\n",
       "    }\n",
       "\n",
       "    const hashes = {\"https://cdn.bokeh.org/bokeh/release/bokeh-2.3.3.min.js\": \"dM3QQsP+wXdHg42wTqW85BjZQdLNNIXqlPw/BgKoExPmTG7ZLML4EGqLMfqHT6ON\", \"https://cdn.bokeh.org/bokeh/release/bokeh-tables-2.3.3.min.js\": \"8x57I4YuIfu8XyZfFo0XVr2WAT8EK4rh/uDe3wF7YuW2FNUSNEpJbsPaB1nJ2fz2\", \"https://cdn.bokeh.org/bokeh/release/bokeh-widgets-2.3.3.min.js\": \"3QTqdz9LyAm2i0sG5XTePsHec3UHWwVsrOL68SYRoAXsafvfAyqtQ+h440+qIBhS\"};\n",
       "\n",
       "    for (let i = 0; i < js_urls.length; i++) {\n",
       "      const url = js_urls[i];\n",
       "      const element = document.createElement('script');\n",
       "      element.onload = on_load;\n",
       "      element.onerror = on_error.bind(null, url);\n",
       "      element.async = false;\n",
       "      element.src = url;\n",
       "      if (url in hashes) {\n",
       "        element.crossOrigin = \"anonymous\";\n",
       "        element.integrity = \"sha384-\" + hashes[url];\n",
       "      }\n",
       "      console.debug(\"Bokeh: injecting script tag for BokehJS library: \", url);\n",
       "      document.head.appendChild(element);\n",
       "    }\n",
       "  };\n",
       "\n",
       "  function inject_raw_css(css) {\n",
       "    const element = document.createElement(\"style\");\n",
       "    element.appendChild(document.createTextNode(css));\n",
       "    document.body.appendChild(element);\n",
       "  }\n",
       "\n",
       "  \n",
       "  var js_urls = [\"https://cdn.bokeh.org/bokeh/release/bokeh-2.3.3.min.js\", \"https://cdn.bokeh.org/bokeh/release/bokeh-widgets-2.3.3.min.js\", \"https://cdn.bokeh.org/bokeh/release/bokeh-tables-2.3.3.min.js\"];\n",
       "  var css_urls = [];\n",
       "  \n",
       "\n",
       "  var inline_js = [\n",
       "    function(Bokeh) {\n",
       "      Bokeh.set_log_level(\"info\");\n",
       "    },\n",
       "    function(Bokeh) {\n",
       "    \n",
       "    \n",
       "    }\n",
       "  ];\n",
       "\n",
       "  function run_inline_js() {\n",
       "    \n",
       "    if (root.Bokeh !== undefined || force === true) {\n",
       "      \n",
       "    for (var i = 0; i < inline_js.length; i++) {\n",
       "      inline_js[i].call(root, root.Bokeh);\n",
       "    }\n",
       "    if (force === true) {\n",
       "        display_loaded();\n",
       "      }} else if (Date.now() < root._bokeh_timeout) {\n",
       "      setTimeout(run_inline_js, 100);\n",
       "    } else if (!root._bokeh_failed_load) {\n",
       "      console.log(\"Bokeh: BokehJS failed to load within specified timeout.\");\n",
       "      root._bokeh_failed_load = true;\n",
       "    } else if (force !== true) {\n",
       "      var cell = $(document.getElementById(\"1002\")).parents('.cell').data().cell;\n",
       "      cell.output_area.append_execute_result(NB_LOAD_WARNING)\n",
       "    }\n",
       "\n",
       "  }\n",
       "\n",
       "  if (root._bokeh_is_loading === 0) {\n",
       "    console.debug(\"Bokeh: BokehJS loaded, going straight to plotting\");\n",
       "    run_inline_js();\n",
       "  } else {\n",
       "    load_libs(css_urls, js_urls, function() {\n",
       "      console.debug(\"Bokeh: BokehJS plotting callback run at\", now());\n",
       "      run_inline_js();\n",
       "    });\n",
       "  }\n",
       "}(window));"
      ],
      "application/vnd.bokehjs_load.v0+json": "\n(function(root) {\n  function now() {\n    return new Date();\n  }\n\n  var force = true;\n\n  if (typeof root._bokeh_onload_callbacks === \"undefined\" || force === true) {\n    root._bokeh_onload_callbacks = [];\n    root._bokeh_is_loading = undefined;\n  }\n\n  \n\n  \n  if (typeof (root._bokeh_timeout) === \"undefined\" || force === true) {\n    root._bokeh_timeout = Date.now() + 5000;\n    root._bokeh_failed_load = false;\n  }\n\n  var NB_LOAD_WARNING = {'data': {'text/html':\n     \"<div style='background-color: #fdd'>\\n\"+\n     \"<p>\\n\"+\n     \"BokehJS does not appear to have successfully loaded. If loading BokehJS from CDN, this \\n\"+\n     \"may be due to a slow or bad network connection. Possible fixes:\\n\"+\n     \"</p>\\n\"+\n     \"<ul>\\n\"+\n     \"<li>re-rerun `output_notebook()` to attempt to load from CDN again, or</li>\\n\"+\n     \"<li>use INLINE resources instead, as so:</li>\\n\"+\n     \"</ul>\\n\"+\n     \"<code>\\n\"+\n     \"from bokeh.resources import INLINE\\n\"+\n     \"output_notebook(resources=INLINE)\\n\"+\n     \"</code>\\n\"+\n     \"</div>\"}};\n\n  function display_loaded() {\n    var el = document.getElementById(\"1002\");\n    if (el != null) {\n      el.textContent = \"BokehJS is loading...\";\n    }\n    if (root.Bokeh !== undefined) {\n      if (el != null) {\n        el.textContent = \"BokehJS \" + root.Bokeh.version + \" successfully loaded.\";\n      }\n    } else if (Date.now() < root._bokeh_timeout) {\n      setTimeout(display_loaded, 100)\n    }\n  }\n\n\n  function run_callbacks() {\n    try {\n      root._bokeh_onload_callbacks.forEach(function(callback) {\n        if (callback != null)\n          callback();\n      });\n    } finally {\n      delete root._bokeh_onload_callbacks\n    }\n    console.debug(\"Bokeh: all callbacks have finished\");\n  }\n\n  function load_libs(css_urls, js_urls, callback) {\n    if (css_urls == null) css_urls = [];\n    if (js_urls == null) js_urls = [];\n\n    root._bokeh_onload_callbacks.push(callback);\n    if (root._bokeh_is_loading > 0) {\n      console.debug(\"Bokeh: BokehJS is being loaded, scheduling callback at\", now());\n      return null;\n    }\n    if (js_urls == null || js_urls.length === 0) {\n      run_callbacks();\n      return null;\n    }\n    console.debug(\"Bokeh: BokehJS not loaded, scheduling load and callback at\", now());\n    root._bokeh_is_loading = css_urls.length + js_urls.length;\n\n    function on_load() {\n      root._bokeh_is_loading--;\n      if (root._bokeh_is_loading === 0) {\n        console.debug(\"Bokeh: all BokehJS libraries/stylesheets loaded\");\n        run_callbacks()\n      }\n    }\n\n    function on_error(url) {\n      console.error(\"failed to load \" + url);\n    }\n\n    for (let i = 0; i < css_urls.length; i++) {\n      const url = css_urls[i];\n      const element = document.createElement(\"link\");\n      element.onload = on_load;\n      element.onerror = on_error.bind(null, url);\n      element.rel = \"stylesheet\";\n      element.type = \"text/css\";\n      element.href = url;\n      console.debug(\"Bokeh: injecting link tag for BokehJS stylesheet: \", url);\n      document.body.appendChild(element);\n    }\n\n    const hashes = {\"https://cdn.bokeh.org/bokeh/release/bokeh-2.3.3.min.js\": \"dM3QQsP+wXdHg42wTqW85BjZQdLNNIXqlPw/BgKoExPmTG7ZLML4EGqLMfqHT6ON\", \"https://cdn.bokeh.org/bokeh/release/bokeh-tables-2.3.3.min.js\": \"8x57I4YuIfu8XyZfFo0XVr2WAT8EK4rh/uDe3wF7YuW2FNUSNEpJbsPaB1nJ2fz2\", \"https://cdn.bokeh.org/bokeh/release/bokeh-widgets-2.3.3.min.js\": \"3QTqdz9LyAm2i0sG5XTePsHec3UHWwVsrOL68SYRoAXsafvfAyqtQ+h440+qIBhS\"};\n\n    for (let i = 0; i < js_urls.length; i++) {\n      const url = js_urls[i];\n      const element = document.createElement('script');\n      element.onload = on_load;\n      element.onerror = on_error.bind(null, url);\n      element.async = false;\n      element.src = url;\n      if (url in hashes) {\n        element.crossOrigin = \"anonymous\";\n        element.integrity = \"sha384-\" + hashes[url];\n      }\n      console.debug(\"Bokeh: injecting script tag for BokehJS library: \", url);\n      document.head.appendChild(element);\n    }\n  };\n\n  function inject_raw_css(css) {\n    const element = document.createElement(\"style\");\n    element.appendChild(document.createTextNode(css));\n    document.body.appendChild(element);\n  }\n\n  \n  var js_urls = [\"https://cdn.bokeh.org/bokeh/release/bokeh-2.3.3.min.js\", \"https://cdn.bokeh.org/bokeh/release/bokeh-widgets-2.3.3.min.js\", \"https://cdn.bokeh.org/bokeh/release/bokeh-tables-2.3.3.min.js\"];\n  var css_urls = [];\n  \n\n  var inline_js = [\n    function(Bokeh) {\n      Bokeh.set_log_level(\"info\");\n    },\n    function(Bokeh) {\n    \n    \n    }\n  ];\n\n  function run_inline_js() {\n    \n    if (root.Bokeh !== undefined || force === true) {\n      \n    for (var i = 0; i < inline_js.length; i++) {\n      inline_js[i].call(root, root.Bokeh);\n    }\n    if (force === true) {\n        display_loaded();\n      }} else if (Date.now() < root._bokeh_timeout) {\n      setTimeout(run_inline_js, 100);\n    } else if (!root._bokeh_failed_load) {\n      console.log(\"Bokeh: BokehJS failed to load within specified timeout.\");\n      root._bokeh_failed_load = true;\n    } else if (force !== true) {\n      var cell = $(document.getElementById(\"1002\")).parents('.cell').data().cell;\n      cell.output_area.append_execute_result(NB_LOAD_WARNING)\n    }\n\n  }\n\n  if (root._bokeh_is_loading === 0) {\n    console.debug(\"Bokeh: BokehJS loaded, going straight to plotting\");\n    run_inline_js();\n  } else {\n    load_libs(css_urls, js_urls, function() {\n      console.debug(\"Bokeh: BokehJS plotting callback run at\", now());\n      run_inline_js();\n    });\n  }\n}(window));"
     },
     "metadata": {},
     "output_type": "display_data"
    }
   ],
   "source": [
    "import numpy as np\n",
    "import pandas as pd\n",
    "import scipy.optimize\n",
    "import bokeh.plotting\n",
    "import bokeh.io\n",
    "bokeh.io.output_notebook()"
   ]
  },
  {
   "cell_type": "code",
   "execution_count": 2,
   "id": "87e8ccf1",
   "metadata": {},
   "outputs": [],
   "source": [
    "def agonist_only_p_active_theory(c_agonist, log_Kd_active, log_Kd_inactive, beta_deltaE):\n",
    "    \"theoretical curve for mglur5 active probability\"\n",
    "    Kd_active = np.exp(log_Kd_active)\n",
    "    Kd_inactive = np.exp(log_Kd_inactive)\n",
    "    a = (1 + c_agonist/Kd_active)**2\n",
    "\n",
    "    b = (1 + c_agonist/Kd_inactive)**2\n",
    "\n",
    "    return a/(a+b*np.exp(-beta_deltaE))\n",
    "\n",
    "def resid(param, c, p_active):\n",
    "    return p_active - agonist_only_p_active_theory(c, *param)\n"
   ]
  },
  {
   "cell_type": "code",
   "execution_count": 7,
   "id": "4a20938a",
   "metadata": {},
   "outputs": [],
   "source": [
    "def PAM_only_p_active_theory(c_pam, log_Kd_active, log_Kd_inactive, beta_deltaE):\n",
    "    \"theoretical curve for mglur5 active probability\"\n",
    "    Kd_active = np.exp(log_Kd_active)\n",
    "    Kd_inactive = np.exp(log_Kd_inactive)\n",
    "    a = (1 + c_pam/Kd_active)\n",
    "\n",
    "    b = (1 + c_pam/Kd_inactive)\n",
    "\n",
    "    return a/(a+b*np.exp(-beta_deltaE))\n",
    "\n",
    "def resid_PAM(param, c, p_active):\n",
    "    return p_active - PAM_only_p_active_theory(c, *param)\n"
   ]
  },
  {
   "cell_type": "code",
   "execution_count": 3,
   "id": "bd092dd4",
   "metadata": {},
   "outputs": [
    {
     "data": {
      "text/html": [
       "\n",
       "\n",
       "\n",
       "\n",
       "\n",
       "\n",
       "  <div class=\"bk-root\" id=\"061b7ad0-62e8-4d69-ac9a-37f1ee1a946a\" data-root-id=\"1003\"></div>\n"
      ]
     },
     "metadata": {},
     "output_type": "display_data"
    },
    {
     "data": {
      "application/javascript": [
       "(function(root) {\n",
       "  function embed_document(root) {\n",
       "    \n",
       "  var docs_json = {\"c837c639-f9ee-4988-9796-6e5a89ccf28f\":{\"defs\":[],\"roots\":{\"references\":[{\"attributes\":{\"below\":[{\"id\":\"1012\"}],\"center\":[{\"id\":\"1015\"},{\"id\":\"1019\"}],\"height\":300,\"left\":[{\"id\":\"1016\"}],\"renderers\":[{\"id\":\"1037\"}],\"title\":{\"id\":\"1040\"},\"toolbar\":{\"id\":\"1027\"},\"x_range\":{\"id\":\"1004\"},\"x_scale\":{\"id\":\"1008\"},\"y_range\":{\"id\":\"1006\"},\"y_scale\":{\"id\":\"1010\"}},\"id\":\"1003\",\"subtype\":\"Figure\",\"type\":\"Plot\"},{\"attributes\":{},\"id\":\"1040\",\"type\":\"Title\"},{\"attributes\":{\"bottom_units\":\"screen\",\"fill_alpha\":0.5,\"fill_color\":\"lightgrey\",\"left_units\":\"screen\",\"level\":\"overlay\",\"line_alpha\":1.0,\"line_color\":\"black\",\"line_dash\":[4,4],\"line_width\":2,\"right_units\":\"screen\",\"syncable\":false,\"top_units\":\"screen\"},\"id\":\"1026\",\"type\":\"BoxAnnotation\"},{\"attributes\":{},\"id\":\"1004\",\"type\":\"DataRange1d\"},{\"attributes\":{\"ticker\":null},\"id\":\"1041\",\"type\":\"LogTickFormatter\"},{\"attributes\":{\"num_minor_ticks\":10},\"id\":\"1013\",\"type\":\"LogTicker\"},{\"attributes\":{\"axis\":{\"id\":\"1012\"},\"ticker\":null},\"id\":\"1015\",\"type\":\"Grid\"},{\"attributes\":{},\"id\":\"1043\",\"type\":\"AllLabels\"},{\"attributes\":{},\"id\":\"1010\",\"type\":\"LinearScale\"},{\"attributes\":{\"axis_label\":\"active_probability\",\"formatter\":{\"id\":\"1044\"},\"major_label_policy\":{\"id\":\"1046\"},\"ticker\":{\"id\":\"1017\"}},\"id\":\"1016\",\"type\":\"LinearAxis\"},{\"attributes\":{},\"id\":\"1025\",\"type\":\"HelpTool\"},{\"attributes\":{\"axis\":{\"id\":\"1016\"},\"dimension\":1,\"ticker\":null},\"id\":\"1019\",\"type\":\"Grid\"},{\"attributes\":{},\"id\":\"1017\",\"type\":\"BasicTicker\"},{\"attributes\":{},\"id\":\"1023\",\"type\":\"SaveTool\"},{\"attributes\":{\"active_multi\":null,\"tools\":[{\"id\":\"1020\"},{\"id\":\"1021\"},{\"id\":\"1022\"},{\"id\":\"1023\"},{\"id\":\"1024\"},{\"id\":\"1025\"}]},\"id\":\"1027\",\"type\":\"Toolbar\"},{\"attributes\":{},\"id\":\"1008\",\"type\":\"LogScale\"},{\"attributes\":{},\"id\":\"1020\",\"type\":\"PanTool\"},{\"attributes\":{},\"id\":\"1044\",\"type\":\"BasicTickFormatter\"},{\"attributes\":{},\"id\":\"1024\",\"type\":\"ResetTool\"},{\"attributes\":{\"line_alpha\":0.1,\"line_color\":\"#1f77b4\",\"x\":{\"field\":\"x\"},\"y\":{\"field\":\"y\"}},\"id\":\"1036\",\"type\":\"Line\"},{\"attributes\":{},\"id\":\"1046\",\"type\":\"AllLabels\"},{\"attributes\":{},\"id\":\"1006\",\"type\":\"DataRange1d\"},{\"attributes\":{\"source\":{\"id\":\"1034\"}},\"id\":\"1038\",\"type\":\"CDSView\"},{\"attributes\":{\"line_color\":\"#1f77b4\",\"x\":{\"field\":\"x\"},\"y\":{\"field\":\"y\"}},\"id\":\"1035\",\"type\":\"Line\"},{\"attributes\":{},\"id\":\"1021\",\"type\":\"WheelZoomTool\"},{\"attributes\":{\"data\":{\"x\":{\"__ndarray__\":\"/Knx0k1iUD90n2MsbtZSP1RV/n+fqFU/eBw5GfjmWD/XV+tUqqFcP+hoJ8GqdWA/EzBdcLHsYj8NzDdFOMJlPwNTMDFmBGk/QttjtYDDbD+zv5WRHolwP5WZ3gMPA3M/KXmqSu/bdT9/KyER9yF5PwG9RBN/5Xw/yBFIX6mcgD+8EgAGhxmDP3GsFrTE9YU/GJUm4qo/iT9WztCdpQeNP7m4aUVLsJA/7JH+lRkwkz8q9maluA+WP1gTjM2BXZk/NruChPQpnT8iKkZfBMSgP374O9PGRqM/31iwQssppj9Y9838e3upP0VMDfdrTK0/lR1JyNTXsD91Pj/djl2zP7B7MrD8Q7Y/mpmZmZmZuT8lqVslDG+9P6qy/pu868A/PZ6003F0wz+n3FcSTV7GP+qTzc3at8k/HZuRP9WRzT9qlxP2u//QP9vAbdZvi9M/TAO2jbx41j+I+3nDP9bZP/jPC3bHtN0/qC5V8tIT4T/76WEFiaLjP6mzDUdLk+Y/yZvgpMj06T9FHWD54tftP7i2sawBKPE/eySugL258z8wIUtj+a32P6QwdZx1E/o/BcRd+if7/T9QcDhBSDwBQB1vlWgN0QNAQiKGB8fIBkDWod3URjIKQEW0DaqWHg5AccUZzKZQEUA/6YDdeOgTQJljAlm04xZAOT7yeDxRGkCW0bI5L0IeQKJwp2kdZSFAAAAAAAAAJEAlnC99wf4mQCr3vbNWcCpAQDfK2vFlLkBdpFQ2rHkxQImbyPCiFzRAKMGpme4ZN0CdnH6wlY86QF59C7/eiT5AmDK2TlOOQUCITLfQYS9EQHo6OdQ7NUdA5xilmvmuSkCY/WgY9q1OQFy0gs8So1FAtXnPwDxHVEDeFtNSqVBXQICt1Z2CzlpAABkQGTjSXkDtsZLV6rdhQPqNO+IzX2RAHUGZOzdsZ0CFL+jlMO5qQKZ9afOk9m5AycrgfdvMcUB1Jk1WR3d0QN202rTlh3dAgETongQOe0BzbBnaPBt/QNDdieXk4YFAnEB9PnePhEC9sxPltKOHQPyfFfX9LYtAAAAAAABAj0A=\",\"dtype\":\"float64\",\"order\":\"little\",\"shape\":[100]},\"y\":{\"__ndarray__\":\"Xrh4oRDHgT82YOS1DG2CP+iQOUkAL4M/yxywfRAShD93YCHHcByFP4n3bPyfVYY/xcXdtbPGhz+Ye8IMtXqJP5O0AjwSf4s/WOK68ijkjT9epvCf9l6QP1KaklJYEpI/k1Jp5QUblD9o0amI9YqWP6fy6SHdd5k//ML+oNL7nD/UWBFx9pqgPwKQUilqJaM/UqZHvpQypj8QTGVOztqpP+EgUMxCOa4/g54+Y7C1sT9M0GzI5ce0P3okbb9aYrg/kVzCWMqSvD+NJFfbD7LAP0nJEgBpbsM/ebsbqp9+xj86SVRfJt/JPwr+XmJNiM0/qAwSAyW30D/7HoCX3sDSP3+8LdNY2NQ/+v346ffz1j9V03p6OArZP7rbempbEts/6CXdv+sE3T/XWUDEENzePzMiFVfVSeA/pWaE16AU4T8tEpNX6s3hPycILhHLdeI/8sWGttEM4z9nx1Lu35PjP7zjAEkMDOQ/c9yR2Il25D+2kVSCldTkPxDgkH5oJ+U/gz0kLi9w5T+XOatcA7DlP+SJThbp5+U/eBSiWM0Y5j9nx7kKhkPmP79bRsvSaOY/SiRGQV6J5j/Hasezv6XmP2u+rL98vuY/V5cgEAvU5j+qy1cI0ubmP06tR1Qs9+Y/crTKWmkF5z+VOu2OzhHnP3rKN6CYHOc/hhodi/wl5z8thHaLKC7nP21FYPNENec/kzLv6HQ75z9UEjoN10DnP+0BGQ+GRec/71LXK5lJ5z+LQOefJE3nP2sedwk6UOc/MBqYvuhS5z8eD3kYPlXnP889DbVFV+c/kHVPsAlZ5z+Zji7WklrnP5zyD87oW+c/6DW4QBJd5z84NFD5FF7nP9CAJgL2Xuc/D/y4vblf5z9lxoD8Y2DnP4FQ6w/4YOc/Qrbd2nhh5z9trhPg6GHnP83xoE5KYuc/vePSDJ9i5z8tVKjB6GLnP0BDDt0oY+c/dYEKn2Bj5z/Lv/cdkWPnP3EJ8ku7Y+c/Ap6O+99j5z+npPbj/2PnP5IleaQbZOc/tRCmxzNk5z/IyQHGSGTnP4KvXghbZOc/DVTo6Wpk5z8=\",\"dtype\":\"float64\",\"order\":\"little\",\"shape\":[100]}},\"selected\":{\"id\":\"1049\"},\"selection_policy\":{\"id\":\"1048\"}},\"id\":\"1034\",\"type\":\"ColumnDataSource\"},{\"attributes\":{},\"id\":\"1048\",\"type\":\"UnionRenderers\"},{\"attributes\":{\"data_source\":{\"id\":\"1034\"},\"glyph\":{\"id\":\"1035\"},\"hover_glyph\":null,\"muted_glyph\":null,\"nonselection_glyph\":{\"id\":\"1036\"},\"view\":{\"id\":\"1038\"}},\"id\":\"1037\",\"type\":\"GlyphRenderer\"},{\"attributes\":{\"overlay\":{\"id\":\"1026\"}},\"id\":\"1022\",\"type\":\"BoxZoomTool\"},{\"attributes\":{\"axis_label\":\"[L-Quis] uM\",\"formatter\":{\"id\":\"1041\"},\"major_label_policy\":{\"id\":\"1043\"},\"ticker\":{\"id\":\"1013\"}},\"id\":\"1012\",\"type\":\"LogAxis\"},{\"attributes\":{},\"id\":\"1049\",\"type\":\"Selection\"}],\"root_ids\":[\"1003\"]},\"title\":\"Bokeh Application\",\"version\":\"2.3.3\"}};\n",
       "  var render_items = [{\"docid\":\"c837c639-f9ee-4988-9796-6e5a89ccf28f\",\"root_ids\":[\"1003\"],\"roots\":{\"1003\":\"061b7ad0-62e8-4d69-ac9a-37f1ee1a946a\"}}];\n",
       "  root.Bokeh.embed.embed_items_notebook(docs_json, render_items);\n",
       "\n",
       "  }\n",
       "  if (root.Bokeh !== undefined) {\n",
       "    embed_document(root);\n",
       "  } else {\n",
       "    var attempts = 0;\n",
       "    var timer = setInterval(function(root) {\n",
       "      if (root.Bokeh !== undefined) {\n",
       "        clearInterval(timer);\n",
       "        embed_document(root);\n",
       "      } else {\n",
       "        attempts++;\n",
       "        if (attempts > 100) {\n",
       "          clearInterval(timer);\n",
       "          console.log(\"Bokeh: ERROR: Unable to run BokehJS code because BokehJS library is missing\");\n",
       "        }\n",
       "      }\n",
       "    }, 10, root)\n",
       "  }\n",
       "})(window);"
      ],
      "application/vnd.bokehjs_exec.v0+json": ""
     },
     "metadata": {
      "application/vnd.bokehjs_exec.v0+json": {
       "id": "1003"
      }
     },
     "output_type": "display_data"
    }
   ],
   "source": [
    "#set up plot\n",
    "from bokeh.plotting import curdoc \n",
    "curdoc().clear()\n",
    "p = bokeh.plotting.figure(plot_height=300,\n",
    "                         plot_width=600,\n",
    "                         x_axis_label='[L-Quis] uM',\n",
    "                          y_axis_label='active_probability',\n",
    "                          x_axis_type='log')\n",
    "\n",
    "L_Quis_smooth=np.logspace(-3,3,100)\n",
    "p.line(L_Quis_smooth, agonist_only_p_active_theory(L_Quis_smooth, -5, -2, -5))\n",
    "\n",
    "bokeh.io.show(p);"
   ]
  },
  {
   "cell_type": "code",
   "execution_count": 4,
   "id": "f15df5c2",
   "metadata": {},
   "outputs": [
    {
     "data": {
      "text/html": [
       "\n",
       "\n",
       "\n",
       "\n",
       "\n",
       "\n",
       "  <div class=\"bk-root\" id=\"4884d865-f69c-4a3b-bffb-b56b4228cce7\" data-root-id=\"1105\"></div>\n"
      ]
     },
     "metadata": {},
     "output_type": "display_data"
    },
    {
     "data": {
      "application/javascript": [
       "(function(root) {\n",
       "  function embed_document(root) {\n",
       "    \n",
       "  var docs_json = {\"518db5c2-ff34-4b7f-a2f6-fdf20b1e9f47\":{\"defs\":[],\"roots\":{\"references\":[{\"attributes\":{\"below\":[{\"id\":\"1114\"}],\"center\":[{\"id\":\"1117\"},{\"id\":\"1121\"}],\"height\":300,\"left\":[{\"id\":\"1118\"}],\"renderers\":[{\"id\":\"1139\"},{\"id\":\"1144\"}],\"title\":{\"id\":\"1147\"},\"toolbar\":{\"id\":\"1129\"},\"x_range\":{\"id\":\"1106\"},\"x_scale\":{\"id\":\"1110\"},\"y_range\":{\"id\":\"1108\"},\"y_scale\":{\"id\":\"1112\"}},\"id\":\"1105\",\"subtype\":\"Figure\",\"type\":\"Plot\"},{\"attributes\":{},\"id\":\"1155\",\"type\":\"UnionRenderers\"},{\"attributes\":{\"data_source\":{\"id\":\"1141\"},\"glyph\":{\"id\":\"1142\"},\"hover_glyph\":null,\"muted_glyph\":null,\"nonselection_glyph\":{\"id\":\"1143\"},\"view\":{\"id\":\"1145\"}},\"id\":\"1144\",\"type\":\"GlyphRenderer\"},{\"attributes\":{\"bottom_units\":\"screen\",\"fill_alpha\":0.5,\"fill_color\":\"lightgrey\",\"left_units\":\"screen\",\"level\":\"overlay\",\"line_alpha\":1.0,\"line_color\":\"black\",\"line_dash\":[4,4],\"line_width\":2,\"right_units\":\"screen\",\"syncable\":false,\"top_units\":\"screen\"},\"id\":\"1128\",\"type\":\"BoxAnnotation\"},{\"attributes\":{},\"id\":\"1153\",\"type\":\"AllLabels\"},{\"attributes\":{},\"id\":\"1156\",\"type\":\"Selection\"},{\"attributes\":{},\"id\":\"1106\",\"type\":\"DataRange1d\"},{\"attributes\":{\"axis_label\":\"[L-Quis] uM\",\"formatter\":{\"id\":\"1148\"},\"major_label_policy\":{\"id\":\"1150\"},\"ticker\":{\"id\":\"1115\"}},\"id\":\"1114\",\"type\":\"LogAxis\"},{\"attributes\":{\"fill_alpha\":{\"value\":0.1},\"fill_color\":{\"value\":\"#1f77b4\"},\"line_alpha\":{\"value\":0.1},\"line_color\":{\"value\":\"#1f77b4\"},\"size\":{\"value\":7},\"x\":{\"field\":\"x\"},\"y\":{\"field\":\"y\"}},\"id\":\"1143\",\"type\":\"Circle\"},{\"attributes\":{\"source\":{\"id\":\"1141\"}},\"id\":\"1145\",\"type\":\"CDSView\"},{\"attributes\":{},\"id\":\"1127\",\"type\":\"HelpTool\"},{\"attributes\":{\"data\":{\"x\":{\"__ndarray__\":\"AAAAAAAA8D/9pNqn4zHTP5mZmZmZmbk/+weRDDm2nj97FK5H4XqEPy/TQD3HkWg//Knx0k1iUD9YD2eX0qczP/Bo44i1+OQ+AAAAAAAA8D/9pNqn4zHTP5mZmZmZmbk/+weRDDm2nj97FK5H4XqEPy/TQD3HkWg//Knx0k1iUD9YD2eX0qczP/Bo44i1+OQ+AAAAAAAA8D/9pNqn4zHTP5mZmZmZmbk/+weRDDm2nj97FK5H4XqEPy/TQD3HkWg//Knx0k1iUD9YD2eX0qczP/Bo44i1+OQ+AAAAAAAA8D/9pNqn4zHTP5mZmZmZmbk/+weRDDm2nj97FK5H4XqEPy/TQD3HkWg//Knx0k1iUD9YD2eX0qczP/Bo44i1+OQ+\",\"dtype\":\"float64\",\"order\":\"little\",\"shape\":[36]},\"y\":{\"__ndarray__\":\"wFiy9j0i5z/7A5tygnDnP6Qmr8pUPOc/BDFwQwOW5D+vHaEqU/HcP9f/4a2uWZ0/EoRllPnTpj/saLav+dOWP3aYzDAfkZM/wFiy9j0i5z+yT+koU/HsPw4Jyc3qMOo/ha3JevnT5j+g+7NdaMDSPwHNtrFETpA/Ac22sUROkD8BzbaxRE6QPwHNtrFETpA/8yT1VodR5j8sifuuWR3mP9SrDwcs6eU//+bbAAAA4D/aWG0kJwjXP2E0zC7UFpo/7Gi2r/nTlj92mMwwH5GTP+xotq/505Y/Ku2cRE4Q7j+NPkDhbuzrP3rr4tCAJe0/FzaenmtW5z9f2Hh6rlndP6D4PMZmdbg/KmJuZx+Rgz+T951YQFsrPk6pvK3VFmo/\",\"dtype\":\"float64\",\"order\":\"little\",\"shape\":[36]}},\"selected\":{\"id\":\"1158\"},\"selection_policy\":{\"id\":\"1157\"}},\"id\":\"1141\",\"type\":\"ColumnDataSource\"},{\"attributes\":{},\"id\":\"1151\",\"type\":\"BasicTickFormatter\"},{\"attributes\":{\"num_minor_ticks\":10},\"id\":\"1115\",\"type\":\"LogTicker\"},{\"attributes\":{\"line_color\":\"#1f77b4\",\"x\":{\"field\":\"x\"},\"y\":{\"field\":\"y\"}},\"id\":\"1137\",\"type\":\"Line\"},{\"attributes\":{},\"id\":\"1125\",\"type\":\"SaveTool\"},{\"attributes\":{},\"id\":\"1157\",\"type\":\"UnionRenderers\"},{\"attributes\":{},\"id\":\"1119\",\"type\":\"BasicTicker\"},{\"attributes\":{\"overlay\":{\"id\":\"1128\"}},\"id\":\"1124\",\"type\":\"BoxZoomTool\"},{\"attributes\":{},\"id\":\"1126\",\"type\":\"ResetTool\"},{\"attributes\":{},\"id\":\"1158\",\"type\":\"Selection\"},{\"attributes\":{\"fill_color\":{\"value\":\"#1f77b4\"},\"line_color\":{\"value\":\"#1f77b4\"},\"size\":{\"value\":7},\"x\":{\"field\":\"x\"},\"y\":{\"field\":\"y\"}},\"id\":\"1142\",\"type\":\"Circle\"},{\"attributes\":{},\"id\":\"1150\",\"type\":\"AllLabels\"},{\"attributes\":{\"ticker\":null},\"id\":\"1148\",\"type\":\"LogTickFormatter\"},{\"attributes\":{},\"id\":\"1110\",\"type\":\"LogScale\"},{\"attributes\":{\"axis_label\":\"active_probability\",\"formatter\":{\"id\":\"1151\"},\"major_label_policy\":{\"id\":\"1153\"},\"ticker\":{\"id\":\"1119\"}},\"id\":\"1118\",\"type\":\"LinearAxis\"},{\"attributes\":{\"axis\":{\"id\":\"1114\"},\"ticker\":null},\"id\":\"1117\",\"type\":\"Grid\"},{\"attributes\":{},\"id\":\"1147\",\"type\":\"Title\"},{\"attributes\":{},\"id\":\"1122\",\"type\":\"PanTool\"},{\"attributes\":{\"active_multi\":null,\"tools\":[{\"id\":\"1122\"},{\"id\":\"1123\"},{\"id\":\"1124\"},{\"id\":\"1125\"},{\"id\":\"1126\"},{\"id\":\"1127\"}]},\"id\":\"1129\",\"type\":\"Toolbar\"},{\"attributes\":{},\"id\":\"1123\",\"type\":\"WheelZoomTool\"},{\"attributes\":{},\"id\":\"1112\",\"type\":\"LinearScale\"},{\"attributes\":{},\"id\":\"1108\",\"type\":\"DataRange1d\"},{\"attributes\":{\"data\":{\"x\":{\"__ndarray__\":\"/Knx0k1iUD90n2MsbtZSP1RV/n+fqFU/eBw5GfjmWD/XV+tUqqFcP+hoJ8GqdWA/EzBdcLHsYj8NzDdFOMJlPwNTMDFmBGk/QttjtYDDbD+zv5WRHolwP5WZ3gMPA3M/KXmqSu/bdT9/KyER9yF5PwG9RBN/5Xw/yBFIX6mcgD+8EgAGhxmDP3GsFrTE9YU/GJUm4qo/iT9WztCdpQeNP7m4aUVLsJA/7JH+lRkwkz8q9maluA+WP1gTjM2BXZk/NruChPQpnT8iKkZfBMSgP374O9PGRqM/31iwQssppj9Y9838e3upP0VMDfdrTK0/lR1JyNTXsD91Pj/djl2zP7B7MrD8Q7Y/mpmZmZmZuT8lqVslDG+9P6qy/pu868A/PZ6003F0wz+n3FcSTV7GP+qTzc3at8k/HZuRP9WRzT9qlxP2u//QP9vAbdZvi9M/TAO2jbx41j+I+3nDP9bZP/jPC3bHtN0/qC5V8tIT4T/76WEFiaLjP6mzDUdLk+Y/yZvgpMj06T9FHWD54tftP7i2sawBKPE/eySugL258z8wIUtj+a32P6QwdZx1E/o/BcRd+if7/T9QcDhBSDwBQB1vlWgN0QNAQiKGB8fIBkDWod3URjIKQEW0DaqWHg5AccUZzKZQEUA/6YDdeOgTQJljAlm04xZAOT7yeDxRGkCW0bI5L0IeQKJwp2kdZSFAAAAAAAAAJEAlnC99wf4mQCr3vbNWcCpAQDfK2vFlLkBdpFQ2rHkxQImbyPCiFzRAKMGpme4ZN0CdnH6wlY86QF59C7/eiT5AmDK2TlOOQUCITLfQYS9EQHo6OdQ7NUdA5xilmvmuSkCY/WgY9q1OQFy0gs8So1FAtXnPwDxHVEDeFtNSqVBXQICt1Z2CzlpAABkQGTjSXkDtsZLV6rdhQPqNO+IzX2RAHUGZOzdsZ0CFL+jlMO5qQKZ9afOk9m5AycrgfdvMcUB1Jk1WR3d0QN202rTlh3dAgETongQOe0BzbBnaPBt/QNDdieXk4YFAnEB9PnePhEC9sxPltKOHQPyfFfX9LYtAAAAAAABAj0A=\",\"dtype\":\"float64\",\"order\":\"little\",\"shape\":[100]},\"y\":{\"__ndarray__\":\"Phh40k9yiz8XEkH2RcWRPwmnqyGt7pY/cdlkiWl5nT+0mHM+NtqiP7ZVFNJK/Kc//etUFA5Trj8Ur8Ty8wezP25n9lTzsLc/7XNQqWc4vT+NGPjXy9XBPysVzMIJh8U/GCBfsYKryT+IK/tjzTfOPwaGWBjIjNE/nmw4VUcc1D9AcxcwULzWPwlYIdYdXtk/GJMoW4zz2z+59GGUOHDeP/ggx4ghZeA/Yk/gYVN94T+YkV7hln7iPx4iWHoPaOM/vBRcJOI55D9oZWW08vTkP9RKDVKlmuU/ujVdkKks5j9e7PIr0azmP9gQRBvyHOc/Bo2AX9J+5z8Er0iRG9TnP/kV1ixUHug/RgYL59xe6D9U/jCv8JboP2hBGlmmx+g/CvJiNvPx6D/qS7IgrhbpPw648qKSNuk/PjLwDkRS6T/FnHJiUGrpP1FkSu0yf+k/RK74slaR6T9ENjyIGKHpP+F+BvDIruk/YtgHva266T9Ada99A8XpP22Pkrj+zek/VMrr/szV6T/6ZHTaldzpP36UVZt74uk/wzZpCpzn6T8S634DEezpP78y4vrw7+k/eJDxcE/z6T+cKjZWPfbpP2TQFmLJ+Ok/s4j3XQD76T9A71Zm7fzpP2V4QyOa/uk/viVT+Q4A6j+ORR80UwHqP6WcIittAuo/4gq6YWID6j86pO2iNwTqP3jBkRnxBOo/DjE8ZZIF6j9fAHmsHgbqP+7vm6yYBuo/JDZ/xwIH6j+ldnUPXwfqP3SKq1GvB+o/SqwuH/UH6j/Ep8TUMQjqPwikvaFmCOo/GOrhjZQI6j9zgJl+vAjqPz6JZzvfCOo/cejPcf0I6j8qw7q4FwnqP9zYZpMuCeo/6Hz5c0IJ6j8zCLm9UwnqP0js/MZiCeo/DRzd2m8J6j9zOak6ewnqP5HdLh+FCeo/YFvVuY0J6j9biJQ1lQnqPwldy7ebCeo/cZ76YKEJ6j+aNWdNpgnqP25gp5WqCeo/qH0dT64J6j9e2WKMsQnqP8qPpF20Ceo/bVb00LYJ6j8Qv47yuAnqP7pTGM26Ceo/w7zSabwJ6j8=\",\"dtype\":\"float64\",\"order\":\"little\",\"shape\":[100]}},\"selected\":{\"id\":\"1156\"},\"selection_policy\":{\"id\":\"1155\"}},\"id\":\"1136\",\"type\":\"ColumnDataSource\"},{\"attributes\":{\"line_alpha\":0.1,\"line_color\":\"#1f77b4\",\"x\":{\"field\":\"x\"},\"y\":{\"field\":\"y\"}},\"id\":\"1138\",\"type\":\"Line\"},{\"attributes\":{\"source\":{\"id\":\"1136\"}},\"id\":\"1140\",\"type\":\"CDSView\"},{\"attributes\":{\"axis\":{\"id\":\"1118\"},\"dimension\":1,\"ticker\":null},\"id\":\"1121\",\"type\":\"Grid\"},{\"attributes\":{\"data_source\":{\"id\":\"1136\"},\"glyph\":{\"id\":\"1137\"},\"hover_glyph\":null,\"muted_glyph\":null,\"nonselection_glyph\":{\"id\":\"1138\"},\"view\":{\"id\":\"1140\"}},\"id\":\"1139\",\"type\":\"GlyphRenderer\"}],\"root_ids\":[\"1105\"]},\"title\":\"Bokeh Application\",\"version\":\"2.3.3\"}};\n",
       "  var render_items = [{\"docid\":\"518db5c2-ff34-4b7f-a2f6-fdf20b1e9f47\",\"root_ids\":[\"1105\"],\"roots\":{\"1105\":\"4884d865-f69c-4a3b-bffb-b56b4228cce7\"}}];\n",
       "  root.Bokeh.embed.embed_items_notebook(docs_json, render_items);\n",
       "\n",
       "  }\n",
       "  if (root.Bokeh !== undefined) {\n",
       "    embed_document(root);\n",
       "  } else {\n",
       "    var attempts = 0;\n",
       "    var timer = setInterval(function(root) {\n",
       "      if (root.Bokeh !== undefined) {\n",
       "        clearInterval(timer);\n",
       "        embed_document(root);\n",
       "      } else {\n",
       "        attempts++;\n",
       "        if (attempts > 100) {\n",
       "          clearInterval(timer);\n",
       "          console.log(\"Bokeh: ERROR: Unable to run BokehJS code because BokehJS library is missing\");\n",
       "        }\n",
       "      }\n",
       "    }, 10, root)\n",
       "  }\n",
       "})(window);"
      ],
      "application/vnd.bokehjs_exec.v0+json": ""
     },
     "metadata": {
      "application/vnd.bokehjs_exec.v0+json": {
       "id": "1105"
      }
     },
     "output_type": "display_data"
    }
   ],
   "source": [
    "df = pd.read_excel('./L-quis_curves.xlsx')\n",
    "\n",
    "#get unit in uM\n",
    "df['conc'] *= 1e6\n",
    "df=df.rename(columns={'conc': 'conc uM'})\n",
    "df\n",
    "\n",
    "#initial parameter for optimization\n",
    "p0 = np.array([-7,-4,-5])\n",
    "c, p_active = df['conc uM'].values, df['p_open'].values/100\n",
    "\n",
    "#optimize kd and energy difference to fit the data\n",
    "res = scipy.optimize.least_squares(resid, p0, args = (c,p_active))\n",
    "\n",
    "curdoc().clear()\n",
    "p = bokeh.plotting.figure(plot_height=300,\n",
    "                         plot_width=600,\n",
    "                         x_axis_label='[L-Quis] uM',\n",
    "                          y_axis_label='active_probability',\n",
    "                          x_axis_type='log')\n",
    "\n",
    "p.line(L_Quis_smooth, agonist_only_p_active_theory(L_Quis_smooth, res.x[0],res.x[1],res.x[2]))\n",
    "p.circle(c, p_active, size=7)\n",
    "\n",
    "bokeh.io.show(p);"
   ]
  },
  {
   "cell_type": "code",
   "execution_count": 15,
   "id": "3cc42a7a",
   "metadata": {},
   "outputs": [
    {
     "data": {
      "text/html": [
       "\n",
       "\n",
       "\n",
       "\n",
       "\n",
       "\n",
       "  <div class=\"bk-root\" id=\"8068cf59-a0bf-461b-86ef-07111b4acb74\" data-root-id=\"1819\"></div>\n"
      ]
     },
     "metadata": {},
     "output_type": "display_data"
    },
    {
     "data": {
      "application/javascript": [
       "(function(root) {\n",
       "  function embed_document(root) {\n",
       "    \n",
       "  var docs_json = {\"067f57e1-3161-485c-8fce-b2ba7902cb55\":{\"defs\":[],\"roots\":{\"references\":[{\"attributes\":{\"below\":[{\"id\":\"1828\"}],\"center\":[{\"id\":\"1831\"},{\"id\":\"1835\"}],\"height\":300,\"left\":[{\"id\":\"1832\"}],\"renderers\":[{\"id\":\"1853\"},{\"id\":\"1858\"}],\"title\":{\"id\":\"1861\"},\"toolbar\":{\"id\":\"1843\"},\"x_range\":{\"id\":\"1820\"},\"x_scale\":{\"id\":\"1824\"},\"y_range\":{\"id\":\"1822\"},\"y_scale\":{\"id\":\"1826\"}},\"id\":\"1819\",\"subtype\":\"Figure\",\"type\":\"Plot\"},{\"attributes\":{},\"id\":\"1870\",\"type\":\"Selection\"},{\"attributes\":{\"overlay\":{\"id\":\"1842\"}},\"id\":\"1838\",\"type\":\"BoxZoomTool\"},{\"attributes\":{},\"id\":\"1833\",\"type\":\"BasicTicker\"},{\"attributes\":{},\"id\":\"1839\",\"type\":\"SaveTool\"},{\"attributes\":{},\"id\":\"1871\",\"type\":\"UnionRenderers\"},{\"attributes\":{\"axis\":{\"id\":\"1832\"},\"dimension\":1,\"ticker\":null},\"id\":\"1835\",\"type\":\"Grid\"},{\"attributes\":{},\"id\":\"1840\",\"type\":\"ResetTool\"},{\"attributes\":{\"active_multi\":null,\"tools\":[{\"id\":\"1836\"},{\"id\":\"1837\"},{\"id\":\"1838\"},{\"id\":\"1839\"},{\"id\":\"1840\"},{\"id\":\"1841\"}]},\"id\":\"1843\",\"type\":\"Toolbar\"},{\"attributes\":{\"data\":{\"x\":{\"__ndarray__\":\"odUJKnEASUAAAAAAAAAkQMpw6Shv//8/epIb3bGY2T/MYL80y3m0P0KS1jglYZA/84YkvJE0aj/waOOItfjkPqHVCSpxAElAAAAAAAAAJEDKcOkob///P3qSG92xmNk/zGC/NMt5tD9CktY4JWGQP/OGJLyRNGo/8GjjiLX45D6h1QkqcQBJQAAAAAAAACRAynDpKG///z96khvdsZjZP8xgvzTLebQ/QpLWOCVhkD/zhiS8kTRqP/Bo44i1+OQ+odUJKnEASUAAAAAAAAAkQMpw6Shv//8/epIb3bGY2T/MYL80y3m0P0KS1jglYZA/84YkvJE0aj/waOOItfjkPg==\",\"dtype\":\"float64\",\"order\":\"little\",\"shape\":[32]},\"y\":{\"__ndarray__\":\"RlR99oye6z9sGqlmHH7oP7emAEc7PeI/3nBnPsUuzT/lF2oYt62lP8yMvTFrrmo/S6K9MWuuij9Lor0xa66KPwnqDSry8uQ/HM0j4rli4z81Pg8XazLhPzynP5WgDdU/pF71lzgEnj9Lor0xa66KPxg/TmXQAoQ/GD9OZdAClD/VBzfAj1PpPw2xeOjmouQ/zVCBvfdc4D8gg9nkUVnMP6Re9Zc4BK4/S6K9MWuuij8AAAAAAAAAAAAAAAAAAAAAkeDU1qtd5T+wGCvKUd3iP8X1A2ho+dw/J/2+HuTtxj/MjL0xa65qP8yMvTFrrmo/zIy9MWuuaj9Lor0xa66KPw==\",\"dtype\":\"float64\",\"order\":\"little\",\"shape\":[32]}},\"selected\":{\"id\":\"1872\"},\"selection_policy\":{\"id\":\"1871\"}},\"id\":\"1855\",\"type\":\"ColumnDataSource\"},{\"attributes\":{},\"id\":\"1869\",\"type\":\"UnionRenderers\"},{\"attributes\":{},\"id\":\"1822\",\"type\":\"DataRange1d\"},{\"attributes\":{},\"id\":\"1864\",\"type\":\"AllLabels\"},{\"attributes\":{\"line_alpha\":0.1,\"line_color\":\"#1f77b4\",\"x\":{\"field\":\"x\"},\"y\":{\"field\":\"y\"}},\"id\":\"1852\",\"type\":\"Line\"},{\"attributes\":{},\"id\":\"1836\",\"type\":\"PanTool\"},{\"attributes\":{\"fill_alpha\":{\"value\":0.1},\"fill_color\":{\"value\":\"#1f77b4\"},\"line_alpha\":{\"value\":0.1},\"line_color\":{\"value\":\"#1f77b4\"},\"size\":{\"value\":7},\"x\":{\"field\":\"x\"},\"y\":{\"field\":\"y\"}},\"id\":\"1857\",\"type\":\"Circle\"},{\"attributes\":{\"source\":{\"id\":\"1855\"}},\"id\":\"1859\",\"type\":\"CDSView\"},{\"attributes\":{\"data_source\":{\"id\":\"1855\"},\"glyph\":{\"id\":\"1856\"},\"hover_glyph\":null,\"muted_glyph\":null,\"nonselection_glyph\":{\"id\":\"1857\"},\"view\":{\"id\":\"1859\"}},\"id\":\"1858\",\"type\":\"GlyphRenderer\"},{\"attributes\":{\"num_minor_ticks\":10},\"id\":\"1829\",\"type\":\"LogTicker\"},{\"attributes\":{\"axis\":{\"id\":\"1828\"},\"ticker\":null},\"id\":\"1831\",\"type\":\"Grid\"},{\"attributes\":{},\"id\":\"1820\",\"type\":\"DataRange1d\"},{\"attributes\":{},\"id\":\"1841\",\"type\":\"HelpTool\"},{\"attributes\":{\"axis_label\":\"active_probability\",\"formatter\":{\"id\":\"1865\"},\"major_label_policy\":{\"id\":\"1867\"},\"ticker\":{\"id\":\"1833\"}},\"id\":\"1832\",\"type\":\"LinearAxis\"},{\"attributes\":{},\"id\":\"1824\",\"type\":\"LogScale\"},{\"attributes\":{\"data\":{\"x\":{\"__ndarray__\":\"/Knx0k1iUD90n2MsbtZSP1RV/n+fqFU/eBw5GfjmWD/XV+tUqqFcP+hoJ8GqdWA/EzBdcLHsYj8NzDdFOMJlPwNTMDFmBGk/QttjtYDDbD+zv5WRHolwP5WZ3gMPA3M/KXmqSu/bdT9/KyER9yF5PwG9RBN/5Xw/yBFIX6mcgD+8EgAGhxmDP3GsFrTE9YU/GJUm4qo/iT9WztCdpQeNP7m4aUVLsJA/7JH+lRkwkz8q9maluA+WP1gTjM2BXZk/NruChPQpnT8iKkZfBMSgP374O9PGRqM/31iwQssppj9Y9838e3upP0VMDfdrTK0/lR1JyNTXsD91Pj/djl2zP7B7MrD8Q7Y/mpmZmZmZuT8lqVslDG+9P6qy/pu868A/PZ6003F0wz+n3FcSTV7GP+qTzc3at8k/HZuRP9WRzT9qlxP2u//QP9vAbdZvi9M/TAO2jbx41j+I+3nDP9bZP/jPC3bHtN0/qC5V8tIT4T/76WEFiaLjP6mzDUdLk+Y/yZvgpMj06T9FHWD54tftP7i2sawBKPE/eySugL258z8wIUtj+a32P6QwdZx1E/o/BcRd+if7/T9QcDhBSDwBQB1vlWgN0QNAQiKGB8fIBkDWod3URjIKQEW0DaqWHg5AccUZzKZQEUA/6YDdeOgTQJljAlm04xZAOT7yeDxRGkCW0bI5L0IeQKJwp2kdZSFAAAAAAAAAJEAlnC99wf4mQCr3vbNWcCpAQDfK2vFlLkBdpFQ2rHkxQImbyPCiFzRAKMGpme4ZN0CdnH6wlY86QF59C7/eiT5AmDK2TlOOQUCITLfQYS9EQHo6OdQ7NUdA5xilmvmuSkCY/WgY9q1OQFy0gs8So1FAtXnPwDxHVEDeFtNSqVBXQICt1Z2CzlpAABkQGTjSXkDtsZLV6rdhQPqNO+IzX2RAHUGZOzdsZ0CFL+jlMO5qQKZ9afOk9m5AycrgfdvMcUB1Jk1WR3d0QN202rTlh3dAgETongQOe0BzbBnaPBt/QNDdieXk4YFAnEB9PnePhEC9sxPltKOHQPyfFfX9LYtAAAAAAABAj0A=\",\"dtype\":\"float64\",\"order\":\"little\",\"shape\":[100]},\"y\":{\"__ndarray__\":\"/v3uXFYcSz9MCzLWXCpPPzm9rF206VE/jTqb6kaXVD9oJninJKtXP6SRGnCANFs/JQ837clEXz/buDkaAPhhP3jxxeOHpmQ/Y9jUqh67Zz8W4w9fz0RrP696NfbRVG8/pLL2TWz/cT9ax3s+s6x0P0JWDoIYv3c/hKOxKEZFez8mu4PL8U9/P6/SfXUP+YE/lzOCybOghD81IPqQJauHP74nRF9BJos/wMYCTa0hjz8L9Luhg9eRP8Rmh+oJcZQ/YWWkBHZolz8TagbzE8qaP7j9qGCBo54/3WO2YN2BoT/wKAt+kP2jP+mWME+6zaY/cHAmg+H7qT/totWuIJKtP+ZRxTSEzbA/51C50LkQsz+bxn7qJZi1P2AhUpwdabg/AyHRxaWIuz9jnsXIOPu+P2BynbhBYsE/IBD7gY1zwz8s4BnkF7LFP73hYWqgHcg/4cW4oeu0yj+oMj72p3XNP3UAbcguLtA/JlqVUTay0T9BQ1NaDkTTP0ibfQ1f4NQ/Yl8seW6D1j+xOtJzQSnYP8B1jqXBzdk/gbuvwuVs2z9slem32ALdP6uKuq0cjN4/cSCsq9MC4D9uqsPuerbgP+T0p9oLYOE/JgrBVNj+4T82uiGUeZLiPwHVvzbKGuM/0qQOMd6X4z/WXuiC+QnkPwhaM4OGceQ/9SlXawzP5D+NDmydJiPlP0FCKPN8buU/mDuKPL2x5T94oGv2le3lP0LpAiuyIuY/IzEoYLZR5j9nOJVvPnvmPyjcuiLcn+Y/LqqibBbA5j8zhF4fadzmP+iBv/5E9eY/0NO0FhAL5z8puE1AJh7nP5lMmsTZLuc/nlNmEHQ95z+ERvhuNkrnP1nhn8RaVec/zdb8QxRf5z8MWZAakGfnP7gNdBL2buc/C+IHKGl15z8zpB0TCHvnP+fsqsPtf+c/U0pj0jGE5z+uSdfl6IfnPxyd2Awli+c/ykr2DvaN5z/hUeqzaZDnP74s0AKMkuc/BtXzeWeU5z/ugP0/BZbnP3XAME9tl+c/hwdnm6aY5z8f1l4zt5nnP9oZ6l2kmuc/YG94s3Kb5z8=\",\"dtype\":\"float64\",\"order\":\"little\",\"shape\":[100]}},\"selected\":{\"id\":\"1870\"},\"selection_policy\":{\"id\":\"1869\"}},\"id\":\"1850\",\"type\":\"ColumnDataSource\"},{\"attributes\":{},\"id\":\"1837\",\"type\":\"WheelZoomTool\"},{\"attributes\":{\"axis_label\":\"[CDPPB] uM\",\"formatter\":{\"id\":\"1862\"},\"major_label_policy\":{\"id\":\"1864\"},\"ticker\":{\"id\":\"1829\"}},\"id\":\"1828\",\"type\":\"LogAxis\"},{\"attributes\":{},\"id\":\"1872\",\"type\":\"Selection\"},{\"attributes\":{\"line_color\":\"#1f77b4\",\"x\":{\"field\":\"x\"},\"y\":{\"field\":\"y\"}},\"id\":\"1851\",\"type\":\"Line\"},{\"attributes\":{},\"id\":\"1861\",\"type\":\"Title\"},{\"attributes\":{\"data_source\":{\"id\":\"1850\"},\"glyph\":{\"id\":\"1851\"},\"hover_glyph\":null,\"muted_glyph\":null,\"nonselection_glyph\":{\"id\":\"1852\"},\"view\":{\"id\":\"1854\"}},\"id\":\"1853\",\"type\":\"GlyphRenderer\"},{\"attributes\":{\"source\":{\"id\":\"1850\"}},\"id\":\"1854\",\"type\":\"CDSView\"},{\"attributes\":{\"ticker\":null},\"id\":\"1862\",\"type\":\"LogTickFormatter\"},{\"attributes\":{\"bottom_units\":\"screen\",\"fill_alpha\":0.5,\"fill_color\":\"lightgrey\",\"left_units\":\"screen\",\"level\":\"overlay\",\"line_alpha\":1.0,\"line_color\":\"black\",\"line_dash\":[4,4],\"line_width\":2,\"right_units\":\"screen\",\"syncable\":false,\"top_units\":\"screen\"},\"id\":\"1842\",\"type\":\"BoxAnnotation\"},{\"attributes\":{},\"id\":\"1865\",\"type\":\"BasicTickFormatter\"},{\"attributes\":{},\"id\":\"1867\",\"type\":\"AllLabels\"},{\"attributes\":{},\"id\":\"1826\",\"type\":\"LinearScale\"},{\"attributes\":{\"fill_color\":{\"value\":\"#1f77b4\"},\"line_color\":{\"value\":\"#1f77b4\"},\"size\":{\"value\":7},\"x\":{\"field\":\"x\"},\"y\":{\"field\":\"y\"}},\"id\":\"1856\",\"type\":\"Circle\"}],\"root_ids\":[\"1819\"]},\"title\":\"Bokeh Application\",\"version\":\"2.3.3\"}};\n",
       "  var render_items = [{\"docid\":\"067f57e1-3161-485c-8fce-b2ba7902cb55\",\"root_ids\":[\"1819\"],\"roots\":{\"1819\":\"8068cf59-a0bf-461b-86ef-07111b4acb74\"}}];\n",
       "  root.Bokeh.embed.embed_items_notebook(docs_json, render_items);\n",
       "\n",
       "  }\n",
       "  if (root.Bokeh !== undefined) {\n",
       "    embed_document(root);\n",
       "  } else {\n",
       "    var attempts = 0;\n",
       "    var timer = setInterval(function(root) {\n",
       "      if (root.Bokeh !== undefined) {\n",
       "        clearInterval(timer);\n",
       "        embed_document(root);\n",
       "      } else {\n",
       "        attempts++;\n",
       "        if (attempts > 100) {\n",
       "          clearInterval(timer);\n",
       "          console.log(\"Bokeh: ERROR: Unable to run BokehJS code because BokehJS library is missing\");\n",
       "        }\n",
       "      }\n",
       "    }, 10, root)\n",
       "  }\n",
       "})(window);"
      ],
      "application/vnd.bokehjs_exec.v0+json": ""
     },
     "metadata": {
      "application/vnd.bokehjs_exec.v0+json": {
       "id": "1819"
      }
     },
     "output_type": "display_data"
    }
   ],
   "source": [
    "df_pam = pd.read_excel('./CDPPB_curves.xlsx')\n",
    "\n",
    "#get unit in uM\n",
    "df_pam['conc'] *= 1e6\n",
    "df_pam=df_pam.rename(columns={'conc': 'conc uM'})\n",
    "\n",
    "\n",
    "#initial parameter for optimization\n",
    "p0 = np.array([-7,-4,-5])\n",
    "c_pam, p_active_pam = df_pam['conc uM'].values, df_pam['p_open'].values\n",
    "\n",
    "#optimize kd and energy difference to fit the data\n",
    "res_pam = scipy.optimize.least_squares(resid_PAM, p0, args = (c_pam,p_active_pam))\n",
    "\n",
    "curdoc().clear()\n",
    "p = bokeh.plotting.figure(plot_height=300,\n",
    "                         plot_width=600,\n",
    "                         x_axis_label='[CDPPB] uM',\n",
    "                          y_axis_label='active_probability',\n",
    "                          x_axis_type='log')\n",
    "\n",
    "CDPPB_smooth=np.logspace(-3,3,100)\n",
    "p.line(CDPPB_smooth, PAM_only_p_active_theory(CDPPB_smooth, res_pam.x[0],res_pam.x[1],res_pam.x[2]))\n",
    "p.circle(c_pam, p_active_pam, size=7)\n",
    "\n",
    "bokeh.io.show(p);"
   ]
  },
  {
   "cell_type": "code",
   "execution_count": 16,
   "id": "7eea14f2",
   "metadata": {},
   "outputs": [
    {
     "data": {
      "text/plain": [
       "array([-35.23937437,   1.22598544, -35.42777746])"
      ]
     },
     "execution_count": 16,
     "metadata": {},
     "output_type": "execute_result"
    }
   ],
   "source": [
    "res_pam.x"
   ]
  },
  {
   "cell_type": "code",
   "execution_count": 17,
   "id": "58cc1b06",
   "metadata": {},
   "outputs": [
    {
     "data": {
      "text/plain": [
       "array([-22.03116806,  -4.07860017, -34.43094447])"
      ]
     },
     "execution_count": 17,
     "metadata": {},
     "output_type": "execute_result"
    }
   ],
   "source": [
    "res.x"
   ]
  },
  {
   "cell_type": "code",
   "execution_count": 162,
   "id": "74b45767",
   "metadata": {},
   "outputs": [
    {
     "data": {
      "text/html": [
       "\n",
       "\n",
       "\n",
       "\n",
       "\n",
       "\n",
       "  <div class=\"bk-root\" id=\"4d232f9d-bd84-4e13-9ba4-ac3e14628363\" data-root-id=\"10430\"></div>\n"
      ]
     },
     "metadata": {},
     "output_type": "display_data"
    },
    {
     "data": {
      "application/javascript": [
       "(function(root) {\n",
       "  function embed_document(root) {\n",
       "    \n",
       "  var docs_json = {\"46d56aea-053f-4149-8654-bebfc3150eae\":{\"defs\":[],\"roots\":{\"references\":[{\"attributes\":{\"below\":[{\"id\":\"10439\"}],\"center\":[{\"id\":\"10442\"},{\"id\":\"10446\"}],\"height\":300,\"left\":[{\"id\":\"10443\"}],\"renderers\":[{\"id\":\"10464\"},{\"id\":\"10469\"}],\"title\":{\"id\":\"10472\"},\"toolbar\":{\"id\":\"10454\"},\"x_range\":{\"id\":\"10431\"},\"x_scale\":{\"id\":\"10435\"},\"y_range\":{\"id\":\"10433\"},\"y_scale\":{\"id\":\"10437\"}},\"id\":\"10430\",\"subtype\":\"Figure\",\"type\":\"Plot\"},{\"attributes\":{\"source\":{\"id\":\"10461\"}},\"id\":\"10465\",\"type\":\"CDSView\"},{\"attributes\":{},\"id\":\"10472\",\"type\":\"Title\"},{\"attributes\":{\"data\":{\"x\":{\"__ndarray__\":\"/Knx0k1iUD90n2MsbtZSP1RV/n+fqFU/eBw5GfjmWD/XV+tUqqFcP+hoJ8GqdWA/EzBdcLHsYj8NzDdFOMJlPwNTMDFmBGk/QttjtYDDbD+zv5WRHolwP5WZ3gMPA3M/KXmqSu/bdT9/KyER9yF5PwG9RBN/5Xw/yBFIX6mcgD+8EgAGhxmDP3GsFrTE9YU/GJUm4qo/iT9WztCdpQeNP7m4aUVLsJA/7JH+lRkwkz8q9maluA+WP1gTjM2BXZk/NruChPQpnT8iKkZfBMSgP374O9PGRqM/31iwQssppj9Y9838e3upP0VMDfdrTK0/lR1JyNTXsD91Pj/djl2zP7B7MrD8Q7Y/mpmZmZmZuT8lqVslDG+9P6qy/pu868A/PZ6003F0wz+n3FcSTV7GP+qTzc3at8k/HZuRP9WRzT9qlxP2u//QP9vAbdZvi9M/TAO2jbx41j+I+3nDP9bZP/jPC3bHtN0/qC5V8tIT4T/76WEFiaLjP6mzDUdLk+Y/yZvgpMj06T9FHWD54tftP7i2sawBKPE/eySugL258z8wIUtj+a32P6QwdZx1E/o/BcRd+if7/T9QcDhBSDwBQB1vlWgN0QNAQiKGB8fIBkDWod3URjIKQEW0DaqWHg5AccUZzKZQEUA/6YDdeOgTQJljAlm04xZAOT7yeDxRGkCW0bI5L0IeQKJwp2kdZSFAAAAAAAAAJEAlnC99wf4mQCr3vbNWcCpAQDfK2vFlLkBdpFQ2rHkxQImbyPCiFzRAKMGpme4ZN0CdnH6wlY86QF59C7/eiT5AmDK2TlOOQUCITLfQYS9EQHo6OdQ7NUdA5xilmvmuSkCY/WgY9q1OQFy0gs8So1FAtXnPwDxHVEDeFtNSqVBXQICt1Z2CzlpAABkQGTjSXkDtsZLV6rdhQPqNO+IzX2RAHUGZOzdsZ0CFL+jlMO5qQKZ9afOk9m5AycrgfdvMcUB1Jk1WR3d0QN202rTlh3dAgETongQOe0BzbBnaPBt/QNDdieXk4YFAnEB9PnePhEC9sxPltKOHQPyfFfX9LYtAAAAAAABAj0A=\",\"dtype\":\"float64\",\"order\":\"little\",\"shape\":[100]},\"y\":{\"__ndarray__\":\"Phh40k9yiz8XEkH2RcWRPwmnqyGt7pY/cdlkiWl5nT+0mHM+NtqiP7ZVFNJK/Kc//etUFA5Trj8Ur8Ty8wezP25n9lTzsLc/7XNQqWc4vT+NGPjXy9XBPysVzMIJh8U/GCBfsYKryT+IK/tjzTfOPwaGWBjIjNE/nmw4VUcc1D9AcxcwULzWPwlYIdYdXtk/GJMoW4zz2z+59GGUOHDeP/ggx4ghZeA/Yk/gYVN94T+YkV7hln7iPx4iWHoPaOM/vBRcJOI55D9oZWW08vTkP9RKDVKlmuU/ujVdkKks5j9e7PIr0azmP9gQRBvyHOc/Bo2AX9J+5z8Er0iRG9TnP/kV1ixUHug/RgYL59xe6D9U/jCv8JboP2hBGlmmx+g/CvJiNvPx6D/qS7IgrhbpPw648qKSNuk/PjLwDkRS6T/FnHJiUGrpP1FkSu0yf+k/RK74slaR6T9ENjyIGKHpP+F+BvDIruk/YtgHva266T9Ada99A8XpP22Pkrj+zek/VMrr/szV6T/6ZHTaldzpP36UVZt74uk/wzZpCpzn6T8S634DEezpP78y4vrw7+k/eJDxcE/z6T+cKjZWPfbpP2TQFmLJ+Ok/s4j3XQD76T9A71Zm7fzpP2V4QyOa/uk/viVT+Q4A6j+ORR80UwHqP6WcIittAuo/4gq6YWID6j86pO2iNwTqP3jBkRnxBOo/DjE8ZZIF6j9fAHmsHgbqP+7vm6yYBuo/JDZ/xwIH6j+ldnUPXwfqP3SKq1GvB+o/SqwuH/UH6j/Ep8TUMQjqPwikvaFmCOo/GOrhjZQI6j9zgJl+vAjqPz6JZzvfCOo/cejPcf0I6j8qw7q4FwnqP9zYZpMuCeo/6Hz5c0IJ6j8zCLm9UwnqP0js/MZiCeo/DRzd2m8J6j9zOak6ewnqP5HdLh+FCeo/YFvVuY0J6j9biJQ1lQnqPwldy7ebCeo/cZ76YKEJ6j+aNWdNpgnqP25gp5WqCeo/qH0dT64J6j9e2WKMsQnqP8qPpF20Ceo/bVb00LYJ6j8Qv47yuAnqP7pTGM26Ceo/w7zSabwJ6j8=\",\"dtype\":\"float64\",\"order\":\"little\",\"shape\":[100]}},\"selected\":{\"id\":\"10479\"},\"selection_policy\":{\"id\":\"10480\"}},\"id\":\"10461\",\"type\":\"ColumnDataSource\"},{\"attributes\":{},\"id\":\"10480\",\"type\":\"UnionRenderers\"},{\"attributes\":{},\"id\":\"10478\",\"type\":\"AllLabels\"},{\"attributes\":{\"source\":{\"id\":\"10466\"}},\"id\":\"10470\",\"type\":\"CDSView\"},{\"attributes\":{},\"id\":\"10475\",\"type\":\"AllLabels\"},{\"attributes\":{},\"id\":\"10433\",\"type\":\"DataRange1d\"},{\"attributes\":{\"line_alpha\":0.1,\"line_color\":\"#1f77b4\",\"x\":{\"field\":\"x\"},\"y\":{\"field\":\"y\"}},\"id\":\"10463\",\"type\":\"Line\"},{\"attributes\":{},\"id\":\"10431\",\"type\":\"DataRange1d\"},{\"attributes\":{},\"id\":\"10448\",\"type\":\"WheelZoomTool\"},{\"attributes\":{},\"id\":\"10447\",\"type\":\"PanTool\"},{\"attributes\":{},\"id\":\"10482\",\"type\":\"UnionRenderers\"},{\"attributes\":{\"axis\":{\"id\":\"10443\"},\"dimension\":1,\"ticker\":null},\"id\":\"10446\",\"type\":\"Grid\"},{\"attributes\":{},\"id\":\"10437\",\"type\":\"LinearScale\"},{\"attributes\":{\"line_color\":\"#1f77b4\",\"x\":{\"field\":\"x\"},\"y\":{\"field\":\"y\"}},\"id\":\"10462\",\"type\":\"Line\"},{\"attributes\":{\"fill_color\":{\"value\":\"#1f77b4\"},\"line_color\":{\"value\":\"#1f77b4\"},\"size\":{\"value\":7},\"x\":{\"field\":\"x\"},\"y\":{\"field\":\"y\"}},\"id\":\"10467\",\"type\":\"Circle\"},{\"attributes\":{},\"id\":\"10481\",\"type\":\"Selection\"},{\"attributes\":{},\"id\":\"10450\",\"type\":\"SaveTool\"},{\"attributes\":{\"data_source\":{\"id\":\"10461\"},\"glyph\":{\"id\":\"10462\"},\"hover_glyph\":null,\"muted_glyph\":null,\"nonselection_glyph\":{\"id\":\"10463\"},\"view\":{\"id\":\"10465\"}},\"id\":\"10464\",\"type\":\"GlyphRenderer\"},{\"attributes\":{},\"id\":\"10452\",\"type\":\"HelpTool\"},{\"attributes\":{\"data_source\":{\"id\":\"10466\"},\"glyph\":{\"id\":\"10467\"},\"hover_glyph\":null,\"muted_glyph\":null,\"nonselection_glyph\":{\"id\":\"10468\"},\"view\":{\"id\":\"10470\"}},\"id\":\"10469\",\"type\":\"GlyphRenderer\"},{\"attributes\":{},\"id\":\"10435\",\"type\":\"LogScale\"},{\"attributes\":{},\"id\":\"10479\",\"type\":\"Selection\"},{\"attributes\":{\"active_multi\":null,\"tools\":[{\"id\":\"10447\"},{\"id\":\"10448\"},{\"id\":\"10449\"},{\"id\":\"10450\"},{\"id\":\"10451\"},{\"id\":\"10452\"}]},\"id\":\"10454\",\"type\":\"Toolbar\"},{\"attributes\":{\"axis_label\":\"active_probability\",\"formatter\":{\"id\":\"10473\"},\"major_label_policy\":{\"id\":\"10475\"},\"ticker\":{\"id\":\"10444\"}},\"id\":\"10443\",\"type\":\"LinearAxis\"},{\"attributes\":{\"fill_alpha\":{\"value\":0.1},\"fill_color\":{\"value\":\"#1f77b4\"},\"line_alpha\":{\"value\":0.1},\"line_color\":{\"value\":\"#1f77b4\"},\"size\":{\"value\":7},\"x\":{\"field\":\"x\"},\"y\":{\"field\":\"y\"}},\"id\":\"10468\",\"type\":\"Circle\"},{\"attributes\":{\"bottom_units\":\"screen\",\"fill_alpha\":0.5,\"fill_color\":\"lightgrey\",\"left_units\":\"screen\",\"level\":\"overlay\",\"line_alpha\":1.0,\"line_color\":\"black\",\"line_dash\":[4,4],\"line_width\":2,\"right_units\":\"screen\",\"syncable\":false,\"top_units\":\"screen\"},\"id\":\"10453\",\"type\":\"BoxAnnotation\"},{\"attributes\":{\"num_minor_ticks\":10},\"id\":\"10440\",\"type\":\"LogTicker\"},{\"attributes\":{\"data\":{\"x\":{\"__ndarray__\":\"AAAAAAAA8D/9pNqn4zHTP5mZmZmZmbk/+weRDDm2nj97FK5H4XqEPy/TQD3HkWg//Knx0k1iUD9YD2eX0qczP/Bo44i1+OQ+AAAAAAAA8D/9pNqn4zHTP5mZmZmZmbk/+weRDDm2nj97FK5H4XqEPy/TQD3HkWg//Knx0k1iUD9YD2eX0qczP/Bo44i1+OQ+AAAAAAAA8D/9pNqn4zHTP5mZmZmZmbk/+weRDDm2nj97FK5H4XqEPy/TQD3HkWg//Knx0k1iUD9YD2eX0qczP/Bo44i1+OQ+AAAAAAAA8D/9pNqn4zHTP5mZmZmZmbk/+weRDDm2nj97FK5H4XqEPy/TQD3HkWg//Knx0k1iUD9YD2eX0qczP/Bo44i1+OQ+\",\"dtype\":\"float64\",\"order\":\"little\",\"shape\":[36]},\"y\":{\"__ndarray__\":\"wFiy9j0i5z/7A5tygnDnP6Qmr8pUPOc/BDFwQwOW5D+vHaEqU/HcP9f/4a2uWZ0/EoRllPnTpj/saLav+dOWP3aYzDAfkZM/wFiy9j0i5z+yT+koU/HsPw4Jyc3qMOo/ha3JevnT5j+g+7NdaMDSPwHNtrFETpA/Ac22sUROkD8BzbaxRE6QPwHNtrFETpA/8yT1VodR5j8sifuuWR3mP9SrDwcs6eU//+bbAAAA4D/aWG0kJwjXP2E0zC7UFpo/7Gi2r/nTlj92mMwwH5GTP+xotq/505Y/Ku2cRE4Q7j+NPkDhbuzrP3rr4tCAJe0/FzaenmtW5z9f2Hh6rlndP6D4PMZmdbg/KmJuZx+Rgz+T951YQFsrPk6pvK3VFmo/\",\"dtype\":\"float64\",\"order\":\"little\",\"shape\":[36]}},\"selected\":{\"id\":\"10481\"},\"selection_policy\":{\"id\":\"10482\"}},\"id\":\"10466\",\"type\":\"ColumnDataSource\"},{\"attributes\":{},\"id\":\"10444\",\"type\":\"BasicTicker\"},{\"attributes\":{},\"id\":\"10451\",\"type\":\"ResetTool\"},{\"attributes\":{\"ticker\":null},\"id\":\"10476\",\"type\":\"LogTickFormatter\"},{\"attributes\":{\"axis_label\":\"[L-Quis] uM\",\"formatter\":{\"id\":\"10476\"},\"major_label_policy\":{\"id\":\"10478\"},\"ticker\":{\"id\":\"10440\"}},\"id\":\"10439\",\"type\":\"LogAxis\"},{\"attributes\":{\"axis\":{\"id\":\"10439\"},\"ticker\":null},\"id\":\"10442\",\"type\":\"Grid\"},{\"attributes\":{},\"id\":\"10473\",\"type\":\"BasicTickFormatter\"},{\"attributes\":{\"overlay\":{\"id\":\"10453\"}},\"id\":\"10449\",\"type\":\"BoxZoomTool\"}],\"root_ids\":[\"10430\"]},\"title\":\"Bokeh Application\",\"version\":\"2.3.3\"}};\n",
       "  var render_items = [{\"docid\":\"46d56aea-053f-4149-8654-bebfc3150eae\",\"root_ids\":[\"10430\"],\"roots\":{\"10430\":\"4d232f9d-bd84-4e13-9ba4-ac3e14628363\"}}];\n",
       "  root.Bokeh.embed.embed_items_notebook(docs_json, render_items);\n",
       "\n",
       "  }\n",
       "  if (root.Bokeh !== undefined) {\n",
       "    embed_document(root);\n",
       "  } else {\n",
       "    var attempts = 0;\n",
       "    var timer = setInterval(function(root) {\n",
       "      if (root.Bokeh !== undefined) {\n",
       "        clearInterval(timer);\n",
       "        embed_document(root);\n",
       "      } else {\n",
       "        attempts++;\n",
       "        if (attempts > 100) {\n",
       "          clearInterval(timer);\n",
       "          console.log(\"Bokeh: ERROR: Unable to run BokehJS code because BokehJS library is missing\");\n",
       "        }\n",
       "      }\n",
       "    }, 10, root)\n",
       "  }\n",
       "})(window);"
      ],
      "application/vnd.bokehjs_exec.v0+json": ""
     },
     "metadata": {
      "application/vnd.bokehjs_exec.v0+json": {
       "id": "10430"
      }
     },
     "output_type": "display_data"
    }
   ],
   "source": [
    "curdoc().clear()\n",
    "p = bokeh.plotting.figure(plot_height=300,\n",
    "                         plot_width=600,\n",
    "                         x_axis_label='[L-Quis] uM',\n",
    "                          y_axis_label='active_probability',\n",
    "                          x_axis_type='log')\n",
    "\n",
    "p.line(L_Quis_smooth, agonist_only_p_active_theory(L_Quis_smooth, res.x[0],res.x[1],res.x[2]))\n",
    "p.circle(c, p_active, size=7)\n",
    "\n",
    "bokeh.io.show(p);"
   ]
  },
  {
   "cell_type": "code",
   "execution_count": 165,
   "id": "8ecda68f",
   "metadata": {},
   "outputs": [
    {
     "data": {
      "text/html": [
       "\n",
       "\n",
       "\n",
       "\n",
       "\n",
       "\n",
       "  <div class=\"bk-root\" id=\"498bfc96-5639-40e7-bb41-68aa7a7f962f\" data-root-id=\"10668\"></div>\n"
      ]
     },
     "metadata": {},
     "output_type": "display_data"
    },
    {
     "data": {
      "application/javascript": [
       "(function(root) {\n",
       "  function embed_document(root) {\n",
       "    \n",
       "  var docs_json = {\"4c485e2d-db37-4afb-9806-a1287161301c\":{\"defs\":[],\"roots\":{\"references\":[{\"attributes\":{\"below\":[{\"id\":\"10677\"}],\"center\":[{\"id\":\"10680\"},{\"id\":\"10684\"}],\"height\":300,\"left\":[{\"id\":\"10681\"}],\"renderers\":[{\"id\":\"10702\"},{\"id\":\"10707\"}],\"title\":{\"id\":\"10710\"},\"toolbar\":{\"id\":\"10692\"},\"x_range\":{\"id\":\"10669\"},\"x_scale\":{\"id\":\"10673\"},\"y_range\":{\"id\":\"10671\"},\"y_scale\":{\"id\":\"10675\"}},\"id\":\"10668\",\"subtype\":\"Figure\",\"type\":\"Plot\"},{\"attributes\":{\"overlay\":{\"id\":\"10691\"}},\"id\":\"10687\",\"type\":\"BoxZoomTool\"},{\"attributes\":{},\"id\":\"10720\",\"type\":\"UnionRenderers\"},{\"attributes\":{\"data_source\":{\"id\":\"10699\"},\"glyph\":{\"id\":\"10700\"},\"hover_glyph\":null,\"muted_glyph\":null,\"nonselection_glyph\":{\"id\":\"10701\"},\"view\":{\"id\":\"10703\"}},\"id\":\"10702\",\"type\":\"GlyphRenderer\"},{\"attributes\":{\"axis\":{\"id\":\"10681\"},\"dimension\":1,\"ticker\":null},\"id\":\"10684\",\"type\":\"Grid\"},{\"attributes\":{},\"id\":\"10711\",\"type\":\"BasicTickFormatter\"},{\"attributes\":{\"axis\":{\"id\":\"10677\"},\"ticker\":null},\"id\":\"10680\",\"type\":\"Grid\"},{\"attributes\":{\"active_multi\":null,\"tools\":[{\"id\":\"10685\"},{\"id\":\"10686\"},{\"id\":\"10687\"},{\"id\":\"10688\"},{\"id\":\"10689\"},{\"id\":\"10690\"}]},\"id\":\"10692\",\"type\":\"Toolbar\"},{\"attributes\":{},\"id\":\"10717\",\"type\":\"Selection\"},{\"attributes\":{},\"id\":\"10689\",\"type\":\"ResetTool\"},{\"attributes\":{\"ticker\":null},\"id\":\"10714\",\"type\":\"LogTickFormatter\"},{\"attributes\":{\"data\":{\"x\":{\"__ndarray__\":\"iaAoMzMzwz+Hh0SZmZmpPxU0dOtRuI4/AAZqR+F6dD9v9ly8dJNYP/s3u9JNYkA/uV5KMCqpIz/waOOItfjkPomgKDMzM8M/h4dEmZmZqT8VNHTrUbiOPwAGakfhenQ/b/ZcvHSTWD/7N7vSTWJAP7leSjAqqSM/8GjjiLX45D6JoCgzMzPDP4eHRJmZmak/FTR061G4jj8ABmpH4Xp0P2/2XLx0k1g/+ze70k1iQD+5XkowKqkjP/Bo44i1+OQ+iaAoMzMzwz+Hh0SZmZmpPxU0dOtRuI4/AAZqR+F6dD9v9ly8dJNYP/s3u9JNYkA/uV5KMCqpIz/waOOItfjkPomgKDMzM8M/h4dEmZmZqT8VNHTrUbiOPwAGakfhenQ/b/ZcvHSTWD/7N7vSTWJAP7leSjAqqSM/8GjjiLX45D4=\",\"dtype\":\"float64\",\"order\":\"little\",\"shape\":[40]},\"y\":{\"__ndarray__\":\"iuM4juM47j/c7CW0l9DqP+iE9hLaS+A/vdhLaC+hvT8AAAAAAAAAAAAAAAAAAAAADRuhvYT2cj8AAAAAAAAAAFIJ7SW0l+g/cmgvob2E5j9EvYT2EtrbP6pDewntJbQ/AAAAAAAAAAAAAAAAAAAAAAAAAAAAAAAAAAAAAAAAAACoqqqqqqrmP1IJ7SW0l+Q/RL2E9hLa2z+qQ3sJ7SW0Pw0bob2E9nI/DRuhvYT2cj8AAAAAAAAAAJw5ob2E9oI/xXEcx3Ec5z9SCe0ltJfkP3Ycx3Ecx9k/9GYvob2Etj8AAAAAAAAAAA0bob2E9nI/DRuhvYT2cj8AAAAAAAAAAMVxHMdxHOs/HcdxHMdx6D8dx3Ecx3HgP1fuJbSX0L4/nDmhvYT2gj8NG6G9hPZyPw0bob2E9nI/I8dxHMdxjD8=\",\"dtype\":\"float64\",\"order\":\"little\",\"shape\":[40]}},\"selected\":{\"id\":\"10719\"},\"selection_policy\":{\"id\":\"10720\"}},\"id\":\"10704\",\"type\":\"ColumnDataSource\"},{\"attributes\":{},\"id\":\"10673\",\"type\":\"LogScale\"},{\"attributes\":{\"bottom_units\":\"screen\",\"fill_alpha\":0.5,\"fill_color\":\"lightgrey\",\"left_units\":\"screen\",\"level\":\"overlay\",\"line_alpha\":1.0,\"line_color\":\"black\",\"line_dash\":[4,4],\"line_width\":2,\"right_units\":\"screen\",\"syncable\":false,\"top_units\":\"screen\"},\"id\":\"10691\",\"type\":\"BoxAnnotation\"},{\"attributes\":{\"axis_label\":\"active_probability\",\"formatter\":{\"id\":\"10711\"},\"major_label_policy\":{\"id\":\"10713\"},\"ticker\":{\"id\":\"10682\"}},\"id\":\"10681\",\"type\":\"LinearAxis\"},{\"attributes\":{\"source\":{\"id\":\"10704\"}},\"id\":\"10708\",\"type\":\"CDSView\"},{\"attributes\":{\"num_minor_ticks\":10},\"id\":\"10678\",\"type\":\"LogTicker\"},{\"attributes\":{\"data_source\":{\"id\":\"10704\"},\"glyph\":{\"id\":\"10705\"},\"hover_glyph\":null,\"muted_glyph\":null,\"nonselection_glyph\":{\"id\":\"10706\"},\"view\":{\"id\":\"10708\"}},\"id\":\"10707\",\"type\":\"GlyphRenderer\"},{\"attributes\":{\"axis_label\":\"[L-Quis] uM\",\"formatter\":{\"id\":\"10714\"},\"major_label_policy\":{\"id\":\"10716\"},\"ticker\":{\"id\":\"10678\"}},\"id\":\"10677\",\"type\":\"LogAxis\"},{\"attributes\":{\"line_color\":\"#1f77b4\",\"x\":{\"field\":\"x\"},\"y\":{\"field\":\"y\"}},\"id\":\"10700\",\"type\":\"Line\"},{\"attributes\":{\"data\":{\"x\":{\"__ndarray__\":\"/Knx0k1iUD90n2MsbtZSP1RV/n+fqFU/eBw5GfjmWD/XV+tUqqFcP+hoJ8GqdWA/EzBdcLHsYj8NzDdFOMJlPwNTMDFmBGk/QttjtYDDbD+zv5WRHolwP5WZ3gMPA3M/KXmqSu/bdT9/KyER9yF5PwG9RBN/5Xw/yBFIX6mcgD+8EgAGhxmDP3GsFrTE9YU/GJUm4qo/iT9WztCdpQeNP7m4aUVLsJA/7JH+lRkwkz8q9maluA+WP1gTjM2BXZk/NruChPQpnT8iKkZfBMSgP374O9PGRqM/31iwQssppj9Y9838e3upP0VMDfdrTK0/lR1JyNTXsD91Pj/djl2zP7B7MrD8Q7Y/mpmZmZmZuT8lqVslDG+9P6qy/pu868A/PZ6003F0wz+n3FcSTV7GP+qTzc3at8k/HZuRP9WRzT9qlxP2u//QP9vAbdZvi9M/TAO2jbx41j+I+3nDP9bZP/jPC3bHtN0/qC5V8tIT4T/76WEFiaLjP6mzDUdLk+Y/yZvgpMj06T9FHWD54tftP7i2sawBKPE/eySugL258z8wIUtj+a32P6QwdZx1E/o/BcRd+if7/T9QcDhBSDwBQB1vlWgN0QNAQiKGB8fIBkDWod3URjIKQEW0DaqWHg5AccUZzKZQEUA/6YDdeOgTQJljAlm04xZAOT7yeDxRGkCW0bI5L0IeQKJwp2kdZSFAAAAAAAAAJEAlnC99wf4mQCr3vbNWcCpAQDfK2vFlLkBdpFQ2rHkxQImbyPCiFzRAKMGpme4ZN0CdnH6wlY86QF59C7/eiT5AmDK2TlOOQUCITLfQYS9EQHo6OdQ7NUdA5xilmvmuSkCY/WgY9q1OQFy0gs8So1FAtXnPwDxHVEDeFtNSqVBXQICt1Z2CzlpAABkQGTjSXkDtsZLV6rdhQPqNO+IzX2RAHUGZOzdsZ0CFL+jlMO5qQKZ9afOk9m5AycrgfdvMcUB1Jk1WR3d0QN202rTlh3dAgETongQOe0BzbBnaPBt/QNDdieXk4YFAnEB9PnePhEC9sxPltKOHQPyfFfX9LYtAAAAAAABAj0A=\",\"dtype\":\"float64\",\"order\":\"little\",\"shape\":[100]},\"y\":{\"__ndarray__\":\"XOX8beTikz+XrFyoG7yZP4ZSrUOflqA/G/cbExNKpT+79Jyzni2rP/ZmqTOdPbE/IePPtFi3tT8sXxrtfCC7P+jce7VwyMA/jXl1EuaLxD9FwolZ5tvIPz02ewqYsc0/IdNNn4J+0T/5JbHYrVLUP2TUmvBMRdc/kk/aUT1E2j+KctfeCD3dP8/iaUNWD+A/ul64RX9t4T+ieNWcv7PiPwLPPyPG3uM/9pnl+Ant5D9ZBRTAe97lP9b+6HYmtOY/dgz2WNJv5z/9v6nctBPoPwNjxmEyoug/jJiXprEd6T9OkYyhfojpP4vyYG655Ok/nHqXAU406j/wp4HP8XjqPzc4ejQltOo/a40EBjfn6j87kQI1SRPrP8d/lMtVOes/kCkR2DNa6z9dcBgHnHbrP60tmM4sj+s/ZrmFH26k6z+6rdOf1LbrP/d/lXTExus/eF1Hp5PU6z82piUyjODrP9PxRL/t6us/8B9BJe/z6z+N/Terv/vrP//kjhyIAuw/Y6jXs2sI7D+T4RbjiA3sP0OOuv75Eew/K8W8z9UV7D8YtrkQMBnsPxEfJ9kZHOw/FYla+aEe7D9XkZ9J1SDsP+YWRe6+Iuw/jog8kmgk7D/3UaeZ2iXsP8p2eU0cJ+w/mggsATQo7D+X3FQzJynsP0SE2an6Kew/xxJZirIq7D9z1FFvUivsP+YjdXrdK+w/HGiLZFYs7D9YjDyLvyzsP/CLBf0aLew/LqiZg2ot7D/GSuWsry3sP4Y74dLrLew/eX1eIiAu7D/ztu2gTS7sP1FYADJ1Luw/rKpdm5cu7D9QcgKJtS7sP/nMfpDPLuw/iljjM+Yu7D8VbUzk+S7sPwZBGAQLL+w/7xzT6Bkv7D+uTOPcJi/sPxQ2/SAyL+w/eOJm7Tsv7D+EUxFzRC/sP5omjdxLL+w/YVHfTlIv7D+VITrqVy/sP7EenspcL+w//PJlCGEv7D9HGMC4ZC/sPxupGO5nL+w/w2d1uGov7D9dx8UlbS/sPy+HKEJvL+w/OTwoGHEv7D+Y9++wci/sP/QQeRR0L+w/qvmySXUv7D8=\",\"dtype\":\"float64\",\"order\":\"little\",\"shape\":[100]}},\"selected\":{\"id\":\"10717\"},\"selection_policy\":{\"id\":\"10718\"}},\"id\":\"10699\",\"type\":\"ColumnDataSource\"},{\"attributes\":{},\"id\":\"10690\",\"type\":\"HelpTool\"},{\"attributes\":{},\"id\":\"10716\",\"type\":\"AllLabels\"},{\"attributes\":{},\"id\":\"10675\",\"type\":\"LinearScale\"},{\"attributes\":{},\"id\":\"10719\",\"type\":\"Selection\"},{\"attributes\":{},\"id\":\"10713\",\"type\":\"AllLabels\"},{\"attributes\":{\"source\":{\"id\":\"10699\"}},\"id\":\"10703\",\"type\":\"CDSView\"},{\"attributes\":{},\"id\":\"10669\",\"type\":\"DataRange1d\"},{\"attributes\":{},\"id\":\"10671\",\"type\":\"DataRange1d\"},{\"attributes\":{\"fill_color\":{\"value\":\"#1f77b4\"},\"line_color\":{\"value\":\"#1f77b4\"},\"size\":{\"value\":7},\"x\":{\"field\":\"x\"},\"y\":{\"field\":\"y\"}},\"id\":\"10705\",\"type\":\"Circle\"},{\"attributes\":{\"fill_alpha\":{\"value\":0.1},\"fill_color\":{\"value\":\"#1f77b4\"},\"line_alpha\":{\"value\":0.1},\"line_color\":{\"value\":\"#1f77b4\"},\"size\":{\"value\":7},\"x\":{\"field\":\"x\"},\"y\":{\"field\":\"y\"}},\"id\":\"10706\",\"type\":\"Circle\"},{\"attributes\":{},\"id\":\"10682\",\"type\":\"BasicTicker\"},{\"attributes\":{},\"id\":\"10718\",\"type\":\"UnionRenderers\"},{\"attributes\":{},\"id\":\"10685\",\"type\":\"PanTool\"},{\"attributes\":{},\"id\":\"10710\",\"type\":\"Title\"},{\"attributes\":{},\"id\":\"10688\",\"type\":\"SaveTool\"},{\"attributes\":{},\"id\":\"10686\",\"type\":\"WheelZoomTool\"},{\"attributes\":{\"line_alpha\":0.1,\"line_color\":\"#1f77b4\",\"x\":{\"field\":\"x\"},\"y\":{\"field\":\"y\"}},\"id\":\"10701\",\"type\":\"Line\"}],\"root_ids\":[\"10668\"]},\"title\":\"Bokeh Application\",\"version\":\"2.3.3\"}};\n",
       "  var render_items = [{\"docid\":\"4c485e2d-db37-4afb-9806-a1287161301c\",\"root_ids\":[\"10668\"],\"roots\":{\"10668\":\"498bfc96-5639-40e7-bb41-68aa7a7f962f\"}}];\n",
       "  root.Bokeh.embed.embed_items_notebook(docs_json, render_items);\n",
       "\n",
       "  }\n",
       "  if (root.Bokeh !== undefined) {\n",
       "    embed_document(root);\n",
       "  } else {\n",
       "    var attempts = 0;\n",
       "    var timer = setInterval(function(root) {\n",
       "      if (root.Bokeh !== undefined) {\n",
       "        clearInterval(timer);\n",
       "        embed_document(root);\n",
       "      } else {\n",
       "        attempts++;\n",
       "        if (attempts > 100) {\n",
       "          clearInterval(timer);\n",
       "          console.log(\"Bokeh: ERROR: Unable to run BokehJS code because BokehJS library is missing\");\n",
       "        }\n",
       "      }\n",
       "    }, 10, root)\n",
       "  }\n",
       "})(window);"
      ],
      "application/vnd.bokehjs_exec.v0+json": ""
     },
     "metadata": {
      "application/vnd.bokehjs_exec.v0+json": {
       "id": "10668"
      }
     },
     "output_type": "display_data"
    }
   ],
   "source": [
    "df2 = pd.read_excel('./L-quis_curves_vehicle.xlsx')\n",
    "\n",
    "#get unit in uM\n",
    "df2['conc'] *= 1e6\n",
    "df2=df2.rename(columns={'conc': 'conc uM'})\n",
    "\n",
    "#initial parameter for optimization\n",
    "p0 = np.array([-22,-4,-34])\n",
    "c, p_active = df2['conc uM'].values, df2['p_open'].values/100\n",
    "\n",
    "curdoc().clear()\n",
    "p = bokeh.plotting.figure(plot_height=300,\n",
    "                         plot_width=600,\n",
    "                         x_axis_label='[L-Quis] uM',\n",
    "                          y_axis_label='active_probability',\n",
    "                          x_axis_type='log')\n",
    "\n",
    "p.line(L_Quis_smooth, agonist_only_p_active_theory(L_Quis_smooth, -22, -4, -34))\n",
    "p.circle(c, p_active, size=7)\n",
    "\n",
    "bokeh.io.show(p);"
   ]
  },
  {
   "cell_type": "code",
   "execution_count": 166,
   "id": "d8674d99",
   "metadata": {},
   "outputs": [],
   "source": [
    "res = scipy.optimize.least_squares(resid, p0, args = (c,p_active))"
   ]
  },
  {
   "cell_type": "code",
   "execution_count": 167,
   "id": "1115d230",
   "metadata": {},
   "outputs": [
    {
     "data": {
      "text/plain": [
       "array([-21.05280958,  -3.63054753, -33.06487402])"
      ]
     },
     "execution_count": 167,
     "metadata": {},
     "output_type": "execute_result"
    }
   ],
   "source": [
    "res.x"
   ]
  },
  {
   "cell_type": "code",
   "execution_count": 168,
   "id": "77c9746c",
   "metadata": {},
   "outputs": [
    {
     "data": {
      "text/html": [
       "\n",
       "\n",
       "\n",
       "\n",
       "\n",
       "\n",
       "  <div class=\"bk-root\" id=\"ba753bc9-4582-43fb-9b5b-8c1a9e518056\" data-root-id=\"10787\"></div>\n"
      ]
     },
     "metadata": {},
     "output_type": "display_data"
    },
    {
     "data": {
      "application/javascript": [
       "(function(root) {\n",
       "  function embed_document(root) {\n",
       "    \n",
       "  var docs_json = {\"e4d320ac-f500-4a5c-be36-226395383fd0\":{\"defs\":[],\"roots\":{\"references\":[{\"attributes\":{\"below\":[{\"id\":\"10796\"}],\"center\":[{\"id\":\"10799\"},{\"id\":\"10803\"}],\"height\":300,\"left\":[{\"id\":\"10800\"}],\"renderers\":[{\"id\":\"10821\"},{\"id\":\"10826\"}],\"title\":{\"id\":\"10829\"},\"toolbar\":{\"id\":\"10811\"},\"x_range\":{\"id\":\"10788\"},\"x_scale\":{\"id\":\"10792\"},\"y_range\":{\"id\":\"10790\"},\"y_scale\":{\"id\":\"10794\"}},\"id\":\"10787\",\"subtype\":\"Figure\",\"type\":\"Plot\"},{\"attributes\":{\"data_source\":{\"id\":\"10818\"},\"glyph\":{\"id\":\"10819\"},\"hover_glyph\":null,\"muted_glyph\":null,\"nonselection_glyph\":{\"id\":\"10820\"},\"view\":{\"id\":\"10822\"}},\"id\":\"10821\",\"type\":\"GlyphRenderer\"},{\"attributes\":{},\"id\":\"10805\",\"type\":\"WheelZoomTool\"},{\"attributes\":{},\"id\":\"10835\",\"type\":\"AllLabels\"},{\"attributes\":{},\"id\":\"10839\",\"type\":\"UnionRenderers\"},{\"attributes\":{},\"id\":\"10804\",\"type\":\"PanTool\"},{\"attributes\":{\"axis\":{\"id\":\"10800\"},\"dimension\":1,\"ticker\":null},\"id\":\"10803\",\"type\":\"Grid\"},{\"attributes\":{\"bottom_units\":\"screen\",\"fill_alpha\":0.5,\"fill_color\":\"lightgrey\",\"left_units\":\"screen\",\"level\":\"overlay\",\"line_alpha\":1.0,\"line_color\":\"black\",\"line_dash\":[4,4],\"line_width\":2,\"right_units\":\"screen\",\"syncable\":false,\"top_units\":\"screen\"},\"id\":\"10810\",\"type\":\"BoxAnnotation\"},{\"attributes\":{\"axis_label\":\"active_probability\",\"formatter\":{\"id\":\"10830\"},\"major_label_policy\":{\"id\":\"10832\"},\"ticker\":{\"id\":\"10801\"}},\"id\":\"10800\",\"type\":\"LinearAxis\"},{\"attributes\":{\"data_source\":{\"id\":\"10823\"},\"glyph\":{\"id\":\"10824\"},\"hover_glyph\":null,\"muted_glyph\":null,\"nonselection_glyph\":{\"id\":\"10825\"},\"view\":{\"id\":\"10827\"}},\"id\":\"10826\",\"type\":\"GlyphRenderer\"},{\"attributes\":{},\"id\":\"10792\",\"type\":\"LogScale\"},{\"attributes\":{},\"id\":\"10809\",\"type\":\"HelpTool\"},{\"attributes\":{\"fill_alpha\":{\"value\":0.1},\"fill_color\":{\"value\":\"#1f77b4\"},\"line_alpha\":{\"value\":0.1},\"line_color\":{\"value\":\"#1f77b4\"},\"size\":{\"value\":7},\"x\":{\"field\":\"x\"},\"y\":{\"field\":\"y\"}},\"id\":\"10825\",\"type\":\"Circle\"},{\"attributes\":{\"ticker\":null},\"id\":\"10833\",\"type\":\"LogTickFormatter\"},{\"attributes\":{},\"id\":\"10836\",\"type\":\"Selection\"},{\"attributes\":{\"source\":{\"id\":\"10818\"}},\"id\":\"10822\",\"type\":\"CDSView\"},{\"attributes\":{},\"id\":\"10808\",\"type\":\"ResetTool\"},{\"attributes\":{},\"id\":\"10829\",\"type\":\"Title\"},{\"attributes\":{\"data\":{\"x\":{\"__ndarray__\":\"iaAoMzMzwz+Hh0SZmZmpPxU0dOtRuI4/AAZqR+F6dD9v9ly8dJNYP/s3u9JNYkA/uV5KMCqpIz/waOOItfjkPomgKDMzM8M/h4dEmZmZqT8VNHTrUbiOPwAGakfhenQ/b/ZcvHSTWD/7N7vSTWJAP7leSjAqqSM/8GjjiLX45D6JoCgzMzPDP4eHRJmZmak/FTR061G4jj8ABmpH4Xp0P2/2XLx0k1g/+ze70k1iQD+5XkowKqkjP/Bo44i1+OQ+iaAoMzMzwz+Hh0SZmZmpPxU0dOtRuI4/AAZqR+F6dD9v9ly8dJNYP/s3u9JNYkA/uV5KMCqpIz/waOOItfjkPomgKDMzM8M/h4dEmZmZqT8VNHTrUbiOPwAGakfhenQ/b/ZcvHSTWD/7N7vSTWJAP7leSjAqqSM/8GjjiLX45D4=\",\"dtype\":\"float64\",\"order\":\"little\",\"shape\":[40]},\"y\":{\"__ndarray__\":\"iuM4juM47j/c7CW0l9DqP+iE9hLaS+A/vdhLaC+hvT8AAAAAAAAAAAAAAAAAAAAADRuhvYT2cj8AAAAAAAAAAFIJ7SW0l+g/cmgvob2E5j9EvYT2EtrbP6pDewntJbQ/AAAAAAAAAAAAAAAAAAAAAAAAAAAAAAAAAAAAAAAAAACoqqqqqqrmP1IJ7SW0l+Q/RL2E9hLa2z+qQ3sJ7SW0Pw0bob2E9nI/DRuhvYT2cj8AAAAAAAAAAJw5ob2E9oI/xXEcx3Ec5z9SCe0ltJfkP3Ycx3Ecx9k/9GYvob2Etj8AAAAAAAAAAA0bob2E9nI/DRuhvYT2cj8AAAAAAAAAAMVxHMdxHOs/HcdxHMdx6D8dx3Ecx3HgP1fuJbSX0L4/nDmhvYT2gj8NG6G9hPZyPw0bob2E9nI/I8dxHMdxjD8=\",\"dtype\":\"float64\",\"order\":\"little\",\"shape\":[40]}},\"selected\":{\"id\":\"10838\"},\"selection_policy\":{\"id\":\"10839\"}},\"id\":\"10823\",\"type\":\"ColumnDataSource\"},{\"attributes\":{\"axis_label\":\"[L-Quis] uM\",\"formatter\":{\"id\":\"10833\"},\"major_label_policy\":{\"id\":\"10835\"},\"ticker\":{\"id\":\"10797\"}},\"id\":\"10796\",\"type\":\"LogAxis\"},{\"attributes\":{\"num_minor_ticks\":10},\"id\":\"10797\",\"type\":\"LogTicker\"},{\"attributes\":{},\"id\":\"10832\",\"type\":\"AllLabels\"},{\"attributes\":{\"overlay\":{\"id\":\"10810\"}},\"id\":\"10806\",\"type\":\"BoxZoomTool\"},{\"attributes\":{\"fill_color\":{\"value\":\"#1f77b4\"},\"line_color\":{\"value\":\"#1f77b4\"},\"size\":{\"value\":7},\"x\":{\"field\":\"x\"},\"y\":{\"field\":\"y\"}},\"id\":\"10824\",\"type\":\"Circle\"},{\"attributes\":{\"axis\":{\"id\":\"10796\"},\"ticker\":null},\"id\":\"10799\",\"type\":\"Grid\"},{\"attributes\":{},\"id\":\"10837\",\"type\":\"UnionRenderers\"},{\"attributes\":{},\"id\":\"10801\",\"type\":\"BasicTicker\"},{\"attributes\":{},\"id\":\"10788\",\"type\":\"DataRange1d\"},{\"attributes\":{},\"id\":\"10838\",\"type\":\"Selection\"},{\"attributes\":{\"active_multi\":null,\"tools\":[{\"id\":\"10804\"},{\"id\":\"10805\"},{\"id\":\"10806\"},{\"id\":\"10807\"},{\"id\":\"10808\"},{\"id\":\"10809\"}]},\"id\":\"10811\",\"type\":\"Toolbar\"},{\"attributes\":{\"line_alpha\":0.1,\"line_color\":\"#1f77b4\",\"x\":{\"field\":\"x\"},\"y\":{\"field\":\"y\"}},\"id\":\"10820\",\"type\":\"Line\"},{\"attributes\":{\"data\":{\"x\":{\"__ndarray__\":\"/Knx0k1iUD90n2MsbtZSP1RV/n+fqFU/eBw5GfjmWD/XV+tUqqFcP+hoJ8GqdWA/EzBdcLHsYj8NzDdFOMJlPwNTMDFmBGk/QttjtYDDbD+zv5WRHolwP5WZ3gMPA3M/KXmqSu/bdT9/KyER9yF5PwG9RBN/5Xw/yBFIX6mcgD+8EgAGhxmDP3GsFrTE9YU/GJUm4qo/iT9WztCdpQeNP7m4aUVLsJA/7JH+lRkwkz8q9maluA+WP1gTjM2BXZk/NruChPQpnT8iKkZfBMSgP374O9PGRqM/31iwQssppj9Y9838e3upP0VMDfdrTK0/lR1JyNTXsD91Pj/djl2zP7B7MrD8Q7Y/mpmZmZmZuT8lqVslDG+9P6qy/pu868A/PZ6003F0wz+n3FcSTV7GP+qTzc3at8k/HZuRP9WRzT9qlxP2u//QP9vAbdZvi9M/TAO2jbx41j+I+3nDP9bZP/jPC3bHtN0/qC5V8tIT4T/76WEFiaLjP6mzDUdLk+Y/yZvgpMj06T9FHWD54tftP7i2sawBKPE/eySugL258z8wIUtj+a32P6QwdZx1E/o/BcRd+if7/T9QcDhBSDwBQB1vlWgN0QNAQiKGB8fIBkDWod3URjIKQEW0DaqWHg5AccUZzKZQEUA/6YDdeOgTQJljAlm04xZAOT7yeDxRGkCW0bI5L0IeQKJwp2kdZSFAAAAAAAAAJEAlnC99wf4mQCr3vbNWcCpAQDfK2vFlLkBdpFQ2rHkxQImbyPCiFzRAKMGpme4ZN0CdnH6wlY86QF59C7/eiT5AmDK2TlOOQUCITLfQYS9EQHo6OdQ7NUdA5xilmvmuSkCY/WgY9q1OQFy0gs8So1FAtXnPwDxHVEDeFtNSqVBXQICt1Z2CzlpAABkQGTjSXkDtsZLV6rdhQPqNO+IzX2RAHUGZOzdsZ0CFL+jlMO5qQKZ9afOk9m5AycrgfdvMcUB1Jk1WR3d0QN202rTlh3dAgETongQOe0BzbBnaPBt/QNDdieXk4YFAnEB9PnePhEC9sxPltKOHQPyfFfX9LYtAAAAAAABAj0A=\",\"dtype\":\"float64\",\"order\":\"little\",\"shape\":[100]},\"y\":{\"__ndarray__\":\"1yHDdkDafz8bI7emxcaEP6mbWWDiCos/F2UX12WNkT8uYZBKsraWP7I7g7izSJ0/JitHRJ/Loj8Xmpn2CwGoP4JsoPRhea4/KwV4TP81sz++9QEqkAe4P85YhJZKyb0/1agvaEFGwj9wCy08IyzGPxLAVEP3kso/NG4y5WRvzz91F79R7FbSPwjzL1zCGdU/7TDu/kfw1z/oqkthi8naPxzQ2Ygyld0/qvbUA3Ii4D+zs1yUn2bhPxX4R9Qlk+I/ceYULral4z9Af7OLe53kP4W/UKvNeuU/VZb/EN4+5j+5uplDa+vmPxqzXiKBguc/gbaFd0gG6D/u21fx5HjoP74eGi5f3Og/fSFyFZgy6T/2JUHjQn3pPyH8gLfjvek/eW+W/9D16T/BoRyENibqP25UQ0cZUOo/CCCpqVt06j8mzryAwZPqP3DqRO7zruo/9qzX4ITG6j/jsVo08trqPyPb1nKo7Oo/a+oUOwX86j/2vAVVWQnrPxuj63zqFOs/iCM67vQe6z/0+Zu2rCfrP68Bydg+L+s/U6L4RdI16z9TT+GziDvrP0aiZ1R/QOs/jpVlc89E6z94W07+jkjrP3fg5PjQS+s/gKTA4aVO6z8nJvQIHFHrPwxbz9o/U+s/8HptIBxV6z9Bt303ulbrPyOXgEIiWOs/qRCGUltZ6z9wzVGLa1rrP7k4qkJYW+s/thF7GyZc6z9Xflwd2VzrP75b+8h0Xes/Wj3OKfxd6z8Jv3PlcV7rP1gfCknYXus/LjTFVDFf6z+CcP7Ffl/rP36k8h/CX+s/+TBas/xf6z9CawKlL2DrP3TDifNbYOs/iMhbfIJg6z/wSAYApGDrPwt3/SXBYOs/SxTif9pg6z/XI1qM8GDrP515irkDYes/C5g9ZxRh6z90rMLoImHrPwcPjoYvYes/3m+jfzph6z87ydAKRGHrP0dBwFdMYes/Mlfmj1Nh6z9NBFHXWWHrP9vdW01fYes/+bxMDWRh6z84/NsuaGHrP2D0qsZrYes/wwir5m5h6z9XRneecWHrP49VovtzYes/jET6CXZh6z8=\",\"dtype\":\"float64\",\"order\":\"little\",\"shape\":[100]}},\"selected\":{\"id\":\"10836\"},\"selection_policy\":{\"id\":\"10837\"}},\"id\":\"10818\",\"type\":\"ColumnDataSource\"},{\"attributes\":{},\"id\":\"10830\",\"type\":\"BasicTickFormatter\"},{\"attributes\":{\"line_color\":\"#1f77b4\",\"x\":{\"field\":\"x\"},\"y\":{\"field\":\"y\"}},\"id\":\"10819\",\"type\":\"Line\"},{\"attributes\":{},\"id\":\"10790\",\"type\":\"DataRange1d\"},{\"attributes\":{\"source\":{\"id\":\"10823\"}},\"id\":\"10827\",\"type\":\"CDSView\"},{\"attributes\":{},\"id\":\"10794\",\"type\":\"LinearScale\"},{\"attributes\":{},\"id\":\"10807\",\"type\":\"SaveTool\"}],\"root_ids\":[\"10787\"]},\"title\":\"Bokeh Application\",\"version\":\"2.3.3\"}};\n",
       "  var render_items = [{\"docid\":\"e4d320ac-f500-4a5c-be36-226395383fd0\",\"root_ids\":[\"10787\"],\"roots\":{\"10787\":\"ba753bc9-4582-43fb-9b5b-8c1a9e518056\"}}];\n",
       "  root.Bokeh.embed.embed_items_notebook(docs_json, render_items);\n",
       "\n",
       "  }\n",
       "  if (root.Bokeh !== undefined) {\n",
       "    embed_document(root);\n",
       "  } else {\n",
       "    var attempts = 0;\n",
       "    var timer = setInterval(function(root) {\n",
       "      if (root.Bokeh !== undefined) {\n",
       "        clearInterval(timer);\n",
       "        embed_document(root);\n",
       "      } else {\n",
       "        attempts++;\n",
       "        if (attempts > 100) {\n",
       "          clearInterval(timer);\n",
       "          console.log(\"Bokeh: ERROR: Unable to run BokehJS code because BokehJS library is missing\");\n",
       "        }\n",
       "      }\n",
       "    }, 10, root)\n",
       "  }\n",
       "})(window);"
      ],
      "application/vnd.bokehjs_exec.v0+json": ""
     },
     "metadata": {
      "application/vnd.bokehjs_exec.v0+json": {
       "id": "10787"
      }
     },
     "output_type": "display_data"
    }
   ],
   "source": [
    "curdoc().clear()\n",
    "p = bokeh.plotting.figure(plot_height=300,\n",
    "                         plot_width=600,\n",
    "                         x_axis_label='[L-Quis] uM',\n",
    "                          y_axis_label='active_probability',\n",
    "                          x_axis_type='log')\n",
    "\n",
    "p.line(L_Quis_smooth, agonist_only_p_active_theory(L_Quis_smooth, res.x[0],res.x[1],res.x[2]))\n",
    "p.circle(c, p_active, size=7)\n",
    "\n",
    "bokeh.io.show(p);"
   ]
  },
  {
   "cell_type": "code",
   "execution_count": null,
   "id": "cb29b4ab",
   "metadata": {},
   "outputs": [],
   "source": []
  }
 ],
 "metadata": {
  "kernelspec": {
   "display_name": "Python 3",
   "language": "python",
   "name": "python3"
  },
  "language_info": {
   "codemirror_mode": {
    "name": "ipython",
    "version": 3
   },
   "file_extension": ".py",
   "mimetype": "text/x-python",
   "name": "python",
   "nbconvert_exporter": "python",
   "pygments_lexer": "ipython3",
   "version": "3.8.3"
  }
 },
 "nbformat": 4,
 "nbformat_minor": 5
}
