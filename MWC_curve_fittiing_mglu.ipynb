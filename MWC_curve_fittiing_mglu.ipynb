{
 "cells": [
  {
   "cell_type": "code",
   "execution_count": 1,
   "id": "76a0baa9",
   "metadata": {},
   "outputs": [
    {
     "data": {
      "text/html": [
       "\n",
       "    <div class=\"bk-root\">\n",
       "        <a href=\"https://bokeh.org\" target=\"_blank\" class=\"bk-logo bk-logo-small bk-logo-notebook\"></a>\n",
       "        <span id=\"1002\">Loading BokehJS ...</span>\n",
       "    </div>"
      ]
     },
     "metadata": {},
     "output_type": "display_data"
    },
    {
     "data": {
      "application/javascript": [
       "\n",
       "(function(root) {\n",
       "  function now() {\n",
       "    return new Date();\n",
       "  }\n",
       "\n",
       "  var force = true;\n",
       "\n",
       "  if (typeof root._bokeh_onload_callbacks === \"undefined\" || force === true) {\n",
       "    root._bokeh_onload_callbacks = [];\n",
       "    root._bokeh_is_loading = undefined;\n",
       "  }\n",
       "\n",
       "  var JS_MIME_TYPE = 'application/javascript';\n",
       "  var HTML_MIME_TYPE = 'text/html';\n",
       "  var EXEC_MIME_TYPE = 'application/vnd.bokehjs_exec.v0+json';\n",
       "  var CLASS_NAME = 'output_bokeh rendered_html';\n",
       "\n",
       "  /**\n",
       "   * Render data to the DOM node\n",
       "   */\n",
       "  function render(props, node) {\n",
       "    var script = document.createElement(\"script\");\n",
       "    node.appendChild(script);\n",
       "  }\n",
       "\n",
       "  /**\n",
       "   * Handle when an output is cleared or removed\n",
       "   */\n",
       "  function handleClearOutput(event, handle) {\n",
       "    var cell = handle.cell;\n",
       "\n",
       "    var id = cell.output_area._bokeh_element_id;\n",
       "    var server_id = cell.output_area._bokeh_server_id;\n",
       "    // Clean up Bokeh references\n",
       "    if (id != null && id in Bokeh.index) {\n",
       "      Bokeh.index[id].model.document.clear();\n",
       "      delete Bokeh.index[id];\n",
       "    }\n",
       "\n",
       "    if (server_id !== undefined) {\n",
       "      // Clean up Bokeh references\n",
       "      var cmd = \"from bokeh.io.state import curstate; print(curstate().uuid_to_server['\" + server_id + \"'].get_sessions()[0].document.roots[0]._id)\";\n",
       "      cell.notebook.kernel.execute(cmd, {\n",
       "        iopub: {\n",
       "          output: function(msg) {\n",
       "            var id = msg.content.text.trim();\n",
       "            if (id in Bokeh.index) {\n",
       "              Bokeh.index[id].model.document.clear();\n",
       "              delete Bokeh.index[id];\n",
       "            }\n",
       "          }\n",
       "        }\n",
       "      });\n",
       "      // Destroy server and session\n",
       "      var cmd = \"import bokeh.io.notebook as ion; ion.destroy_server('\" + server_id + \"')\";\n",
       "      cell.notebook.kernel.execute(cmd);\n",
       "    }\n",
       "  }\n",
       "\n",
       "  /**\n",
       "   * Handle when a new output is added\n",
       "   */\n",
       "  function handleAddOutput(event, handle) {\n",
       "    var output_area = handle.output_area;\n",
       "    var output = handle.output;\n",
       "\n",
       "    // limit handleAddOutput to display_data with EXEC_MIME_TYPE content only\n",
       "    if ((output.output_type != \"display_data\") || (!Object.prototype.hasOwnProperty.call(output.data, EXEC_MIME_TYPE))) {\n",
       "      return\n",
       "    }\n",
       "\n",
       "    var toinsert = output_area.element.find(\".\" + CLASS_NAME.split(' ')[0]);\n",
       "\n",
       "    if (output.metadata[EXEC_MIME_TYPE][\"id\"] !== undefined) {\n",
       "      toinsert[toinsert.length - 1].firstChild.textContent = output.data[JS_MIME_TYPE];\n",
       "      // store reference to embed id on output_area\n",
       "      output_area._bokeh_element_id = output.metadata[EXEC_MIME_TYPE][\"id\"];\n",
       "    }\n",
       "    if (output.metadata[EXEC_MIME_TYPE][\"server_id\"] !== undefined) {\n",
       "      var bk_div = document.createElement(\"div\");\n",
       "      bk_div.innerHTML = output.data[HTML_MIME_TYPE];\n",
       "      var script_attrs = bk_div.children[0].attributes;\n",
       "      for (var i = 0; i < script_attrs.length; i++) {\n",
       "        toinsert[toinsert.length - 1].firstChild.setAttribute(script_attrs[i].name, script_attrs[i].value);\n",
       "        toinsert[toinsert.length - 1].firstChild.textContent = bk_div.children[0].textContent\n",
       "      }\n",
       "      // store reference to server id on output_area\n",
       "      output_area._bokeh_server_id = output.metadata[EXEC_MIME_TYPE][\"server_id\"];\n",
       "    }\n",
       "  }\n",
       "\n",
       "  function register_renderer(events, OutputArea) {\n",
       "\n",
       "    function append_mime(data, metadata, element) {\n",
       "      // create a DOM node to render to\n",
       "      var toinsert = this.create_output_subarea(\n",
       "        metadata,\n",
       "        CLASS_NAME,\n",
       "        EXEC_MIME_TYPE\n",
       "      );\n",
       "      this.keyboard_manager.register_events(toinsert);\n",
       "      // Render to node\n",
       "      var props = {data: data, metadata: metadata[EXEC_MIME_TYPE]};\n",
       "      render(props, toinsert[toinsert.length - 1]);\n",
       "      element.append(toinsert);\n",
       "      return toinsert\n",
       "    }\n",
       "\n",
       "    /* Handle when an output is cleared or removed */\n",
       "    events.on('clear_output.CodeCell', handleClearOutput);\n",
       "    events.on('delete.Cell', handleClearOutput);\n",
       "\n",
       "    /* Handle when a new output is added */\n",
       "    events.on('output_added.OutputArea', handleAddOutput);\n",
       "\n",
       "    /**\n",
       "     * Register the mime type and append_mime function with output_area\n",
       "     */\n",
       "    OutputArea.prototype.register_mime_type(EXEC_MIME_TYPE, append_mime, {\n",
       "      /* Is output safe? */\n",
       "      safe: true,\n",
       "      /* Index of renderer in `output_area.display_order` */\n",
       "      index: 0\n",
       "    });\n",
       "  }\n",
       "\n",
       "  // register the mime type if in Jupyter Notebook environment and previously unregistered\n",
       "  if (root.Jupyter !== undefined) {\n",
       "    var events = require('base/js/events');\n",
       "    var OutputArea = require('notebook/js/outputarea').OutputArea;\n",
       "\n",
       "    if (OutputArea.prototype.mime_types().indexOf(EXEC_MIME_TYPE) == -1) {\n",
       "      register_renderer(events, OutputArea);\n",
       "    }\n",
       "  }\n",
       "\n",
       "  \n",
       "  if (typeof (root._bokeh_timeout) === \"undefined\" || force === true) {\n",
       "    root._bokeh_timeout = Date.now() + 5000;\n",
       "    root._bokeh_failed_load = false;\n",
       "  }\n",
       "\n",
       "  var NB_LOAD_WARNING = {'data': {'text/html':\n",
       "     \"<div style='background-color: #fdd'>\\n\"+\n",
       "     \"<p>\\n\"+\n",
       "     \"BokehJS does not appear to have successfully loaded. If loading BokehJS from CDN, this \\n\"+\n",
       "     \"may be due to a slow or bad network connection. Possible fixes:\\n\"+\n",
       "     \"</p>\\n\"+\n",
       "     \"<ul>\\n\"+\n",
       "     \"<li>re-rerun `output_notebook()` to attempt to load from CDN again, or</li>\\n\"+\n",
       "     \"<li>use INLINE resources instead, as so:</li>\\n\"+\n",
       "     \"</ul>\\n\"+\n",
       "     \"<code>\\n\"+\n",
       "     \"from bokeh.resources import INLINE\\n\"+\n",
       "     \"output_notebook(resources=INLINE)\\n\"+\n",
       "     \"</code>\\n\"+\n",
       "     \"</div>\"}};\n",
       "\n",
       "  function display_loaded() {\n",
       "    var el = document.getElementById(\"1002\");\n",
       "    if (el != null) {\n",
       "      el.textContent = \"BokehJS is loading...\";\n",
       "    }\n",
       "    if (root.Bokeh !== undefined) {\n",
       "      if (el != null) {\n",
       "        el.textContent = \"BokehJS \" + root.Bokeh.version + \" successfully loaded.\";\n",
       "      }\n",
       "    } else if (Date.now() < root._bokeh_timeout) {\n",
       "      setTimeout(display_loaded, 100)\n",
       "    }\n",
       "  }\n",
       "\n",
       "\n",
       "  function run_callbacks() {\n",
       "    try {\n",
       "      root._bokeh_onload_callbacks.forEach(function(callback) {\n",
       "        if (callback != null)\n",
       "          callback();\n",
       "      });\n",
       "    } finally {\n",
       "      delete root._bokeh_onload_callbacks\n",
       "    }\n",
       "    console.debug(\"Bokeh: all callbacks have finished\");\n",
       "  }\n",
       "\n",
       "  function load_libs(css_urls, js_urls, callback) {\n",
       "    if (css_urls == null) css_urls = [];\n",
       "    if (js_urls == null) js_urls = [];\n",
       "\n",
       "    root._bokeh_onload_callbacks.push(callback);\n",
       "    if (root._bokeh_is_loading > 0) {\n",
       "      console.debug(\"Bokeh: BokehJS is being loaded, scheduling callback at\", now());\n",
       "      return null;\n",
       "    }\n",
       "    if (js_urls == null || js_urls.length === 0) {\n",
       "      run_callbacks();\n",
       "      return null;\n",
       "    }\n",
       "    console.debug(\"Bokeh: BokehJS not loaded, scheduling load and callback at\", now());\n",
       "    root._bokeh_is_loading = css_urls.length + js_urls.length;\n",
       "\n",
       "    function on_load() {\n",
       "      root._bokeh_is_loading--;\n",
       "      if (root._bokeh_is_loading === 0) {\n",
       "        console.debug(\"Bokeh: all BokehJS libraries/stylesheets loaded\");\n",
       "        run_callbacks()\n",
       "      }\n",
       "    }\n",
       "\n",
       "    function on_error(url) {\n",
       "      console.error(\"failed to load \" + url);\n",
       "    }\n",
       "\n",
       "    for (let i = 0; i < css_urls.length; i++) {\n",
       "      const url = css_urls[i];\n",
       "      const element = document.createElement(\"link\");\n",
       "      element.onload = on_load;\n",
       "      element.onerror = on_error.bind(null, url);\n",
       "      element.rel = \"stylesheet\";\n",
       "      element.type = \"text/css\";\n",
       "      element.href = url;\n",
       "      console.debug(\"Bokeh: injecting link tag for BokehJS stylesheet: \", url);\n",
       "      document.body.appendChild(element);\n",
       "    }\n",
       "\n",
       "    const hashes = {\"https://cdn.bokeh.org/bokeh/release/bokeh-2.3.3.min.js\": \"dM3QQsP+wXdHg42wTqW85BjZQdLNNIXqlPw/BgKoExPmTG7ZLML4EGqLMfqHT6ON\", \"https://cdn.bokeh.org/bokeh/release/bokeh-tables-2.3.3.min.js\": \"8x57I4YuIfu8XyZfFo0XVr2WAT8EK4rh/uDe3wF7YuW2FNUSNEpJbsPaB1nJ2fz2\", \"https://cdn.bokeh.org/bokeh/release/bokeh-widgets-2.3.3.min.js\": \"3QTqdz9LyAm2i0sG5XTePsHec3UHWwVsrOL68SYRoAXsafvfAyqtQ+h440+qIBhS\"};\n",
       "\n",
       "    for (let i = 0; i < js_urls.length; i++) {\n",
       "      const url = js_urls[i];\n",
       "      const element = document.createElement('script');\n",
       "      element.onload = on_load;\n",
       "      element.onerror = on_error.bind(null, url);\n",
       "      element.async = false;\n",
       "      element.src = url;\n",
       "      if (url in hashes) {\n",
       "        element.crossOrigin = \"anonymous\";\n",
       "        element.integrity = \"sha384-\" + hashes[url];\n",
       "      }\n",
       "      console.debug(\"Bokeh: injecting script tag for BokehJS library: \", url);\n",
       "      document.head.appendChild(element);\n",
       "    }\n",
       "  };\n",
       "\n",
       "  function inject_raw_css(css) {\n",
       "    const element = document.createElement(\"style\");\n",
       "    element.appendChild(document.createTextNode(css));\n",
       "    document.body.appendChild(element);\n",
       "  }\n",
       "\n",
       "  \n",
       "  var js_urls = [\"https://cdn.bokeh.org/bokeh/release/bokeh-2.3.3.min.js\", \"https://cdn.bokeh.org/bokeh/release/bokeh-widgets-2.3.3.min.js\", \"https://cdn.bokeh.org/bokeh/release/bokeh-tables-2.3.3.min.js\"];\n",
       "  var css_urls = [];\n",
       "  \n",
       "\n",
       "  var inline_js = [\n",
       "    function(Bokeh) {\n",
       "      Bokeh.set_log_level(\"info\");\n",
       "    },\n",
       "    function(Bokeh) {\n",
       "    \n",
       "    \n",
       "    }\n",
       "  ];\n",
       "\n",
       "  function run_inline_js() {\n",
       "    \n",
       "    if (root.Bokeh !== undefined || force === true) {\n",
       "      \n",
       "    for (var i = 0; i < inline_js.length; i++) {\n",
       "      inline_js[i].call(root, root.Bokeh);\n",
       "    }\n",
       "    if (force === true) {\n",
       "        display_loaded();\n",
       "      }} else if (Date.now() < root._bokeh_timeout) {\n",
       "      setTimeout(run_inline_js, 100);\n",
       "    } else if (!root._bokeh_failed_load) {\n",
       "      console.log(\"Bokeh: BokehJS failed to load within specified timeout.\");\n",
       "      root._bokeh_failed_load = true;\n",
       "    } else if (force !== true) {\n",
       "      var cell = $(document.getElementById(\"1002\")).parents('.cell').data().cell;\n",
       "      cell.output_area.append_execute_result(NB_LOAD_WARNING)\n",
       "    }\n",
       "\n",
       "  }\n",
       "\n",
       "  if (root._bokeh_is_loading === 0) {\n",
       "    console.debug(\"Bokeh: BokehJS loaded, going straight to plotting\");\n",
       "    run_inline_js();\n",
       "  } else {\n",
       "    load_libs(css_urls, js_urls, function() {\n",
       "      console.debug(\"Bokeh: BokehJS plotting callback run at\", now());\n",
       "      run_inline_js();\n",
       "    });\n",
       "  }\n",
       "}(window));"
      ],
      "application/vnd.bokehjs_load.v0+json": "\n(function(root) {\n  function now() {\n    return new Date();\n  }\n\n  var force = true;\n\n  if (typeof root._bokeh_onload_callbacks === \"undefined\" || force === true) {\n    root._bokeh_onload_callbacks = [];\n    root._bokeh_is_loading = undefined;\n  }\n\n  \n\n  \n  if (typeof (root._bokeh_timeout) === \"undefined\" || force === true) {\n    root._bokeh_timeout = Date.now() + 5000;\n    root._bokeh_failed_load = false;\n  }\n\n  var NB_LOAD_WARNING = {'data': {'text/html':\n     \"<div style='background-color: #fdd'>\\n\"+\n     \"<p>\\n\"+\n     \"BokehJS does not appear to have successfully loaded. If loading BokehJS from CDN, this \\n\"+\n     \"may be due to a slow or bad network connection. Possible fixes:\\n\"+\n     \"</p>\\n\"+\n     \"<ul>\\n\"+\n     \"<li>re-rerun `output_notebook()` to attempt to load from CDN again, or</li>\\n\"+\n     \"<li>use INLINE resources instead, as so:</li>\\n\"+\n     \"</ul>\\n\"+\n     \"<code>\\n\"+\n     \"from bokeh.resources import INLINE\\n\"+\n     \"output_notebook(resources=INLINE)\\n\"+\n     \"</code>\\n\"+\n     \"</div>\"}};\n\n  function display_loaded() {\n    var el = document.getElementById(\"1002\");\n    if (el != null) {\n      el.textContent = \"BokehJS is loading...\";\n    }\n    if (root.Bokeh !== undefined) {\n      if (el != null) {\n        el.textContent = \"BokehJS \" + root.Bokeh.version + \" successfully loaded.\";\n      }\n    } else if (Date.now() < root._bokeh_timeout) {\n      setTimeout(display_loaded, 100)\n    }\n  }\n\n\n  function run_callbacks() {\n    try {\n      root._bokeh_onload_callbacks.forEach(function(callback) {\n        if (callback != null)\n          callback();\n      });\n    } finally {\n      delete root._bokeh_onload_callbacks\n    }\n    console.debug(\"Bokeh: all callbacks have finished\");\n  }\n\n  function load_libs(css_urls, js_urls, callback) {\n    if (css_urls == null) css_urls = [];\n    if (js_urls == null) js_urls = [];\n\n    root._bokeh_onload_callbacks.push(callback);\n    if (root._bokeh_is_loading > 0) {\n      console.debug(\"Bokeh: BokehJS is being loaded, scheduling callback at\", now());\n      return null;\n    }\n    if (js_urls == null || js_urls.length === 0) {\n      run_callbacks();\n      return null;\n    }\n    console.debug(\"Bokeh: BokehJS not loaded, scheduling load and callback at\", now());\n    root._bokeh_is_loading = css_urls.length + js_urls.length;\n\n    function on_load() {\n      root._bokeh_is_loading--;\n      if (root._bokeh_is_loading === 0) {\n        console.debug(\"Bokeh: all BokehJS libraries/stylesheets loaded\");\n        run_callbacks()\n      }\n    }\n\n    function on_error(url) {\n      console.error(\"failed to load \" + url);\n    }\n\n    for (let i = 0; i < css_urls.length; i++) {\n      const url = css_urls[i];\n      const element = document.createElement(\"link\");\n      element.onload = on_load;\n      element.onerror = on_error.bind(null, url);\n      element.rel = \"stylesheet\";\n      element.type = \"text/css\";\n      element.href = url;\n      console.debug(\"Bokeh: injecting link tag for BokehJS stylesheet: \", url);\n      document.body.appendChild(element);\n    }\n\n    const hashes = {\"https://cdn.bokeh.org/bokeh/release/bokeh-2.3.3.min.js\": \"dM3QQsP+wXdHg42wTqW85BjZQdLNNIXqlPw/BgKoExPmTG7ZLML4EGqLMfqHT6ON\", \"https://cdn.bokeh.org/bokeh/release/bokeh-tables-2.3.3.min.js\": \"8x57I4YuIfu8XyZfFo0XVr2WAT8EK4rh/uDe3wF7YuW2FNUSNEpJbsPaB1nJ2fz2\", \"https://cdn.bokeh.org/bokeh/release/bokeh-widgets-2.3.3.min.js\": \"3QTqdz9LyAm2i0sG5XTePsHec3UHWwVsrOL68SYRoAXsafvfAyqtQ+h440+qIBhS\"};\n\n    for (let i = 0; i < js_urls.length; i++) {\n      const url = js_urls[i];\n      const element = document.createElement('script');\n      element.onload = on_load;\n      element.onerror = on_error.bind(null, url);\n      element.async = false;\n      element.src = url;\n      if (url in hashes) {\n        element.crossOrigin = \"anonymous\";\n        element.integrity = \"sha384-\" + hashes[url];\n      }\n      console.debug(\"Bokeh: injecting script tag for BokehJS library: \", url);\n      document.head.appendChild(element);\n    }\n  };\n\n  function inject_raw_css(css) {\n    const element = document.createElement(\"style\");\n    element.appendChild(document.createTextNode(css));\n    document.body.appendChild(element);\n  }\n\n  \n  var js_urls = [\"https://cdn.bokeh.org/bokeh/release/bokeh-2.3.3.min.js\", \"https://cdn.bokeh.org/bokeh/release/bokeh-widgets-2.3.3.min.js\", \"https://cdn.bokeh.org/bokeh/release/bokeh-tables-2.3.3.min.js\"];\n  var css_urls = [];\n  \n\n  var inline_js = [\n    function(Bokeh) {\n      Bokeh.set_log_level(\"info\");\n    },\n    function(Bokeh) {\n    \n    \n    }\n  ];\n\n  function run_inline_js() {\n    \n    if (root.Bokeh !== undefined || force === true) {\n      \n    for (var i = 0; i < inline_js.length; i++) {\n      inline_js[i].call(root, root.Bokeh);\n    }\n    if (force === true) {\n        display_loaded();\n      }} else if (Date.now() < root._bokeh_timeout) {\n      setTimeout(run_inline_js, 100);\n    } else if (!root._bokeh_failed_load) {\n      console.log(\"Bokeh: BokehJS failed to load within specified timeout.\");\n      root._bokeh_failed_load = true;\n    } else if (force !== true) {\n      var cell = $(document.getElementById(\"1002\")).parents('.cell').data().cell;\n      cell.output_area.append_execute_result(NB_LOAD_WARNING)\n    }\n\n  }\n\n  if (root._bokeh_is_loading === 0) {\n    console.debug(\"Bokeh: BokehJS loaded, going straight to plotting\");\n    run_inline_js();\n  } else {\n    load_libs(css_urls, js_urls, function() {\n      console.debug(\"Bokeh: BokehJS plotting callback run at\", now());\n      run_inline_js();\n    });\n  }\n}(window));"
     },
     "metadata": {},
     "output_type": "display_data"
    }
   ],
   "source": [
    "import numpy as np\n",
    "import pandas as pd\n",
    "import scipy.optimize\n",
    "import bokeh.plotting\n",
    "import bokeh.io\n",
    "bokeh.io.output_notebook()"
   ]
  },
  {
   "cell_type": "code",
   "execution_count": 2,
   "id": "87e8ccf1",
   "metadata": {},
   "outputs": [],
   "source": [
    "def agonist_only_p_active_theory(c_agonist, log_Kd_active, log_Kd_inactive, beta_deltaE):\n",
    "    \"theoretical curve for mglur5 active probability\"\n",
    "    Kd_active = 10**log_Kd_active\n",
    "    Kd_inactive = 10**log_Kd_inactive\n",
    "    a = (1 + c_agonist/Kd_active)**2\n",
    "\n",
    "    b = (1 + c_agonist/Kd_inactive)**2\n",
    "\n",
    "    return a/(a+b*np.exp(-beta_deltaE))\n",
    "\n",
    "def resid(param, c, p_active):\n",
    "    return p_active - agonist_only_p_active_theory(c, *param)\n"
   ]
  },
  {
   "cell_type": "code",
   "execution_count": 3,
   "id": "be20131e",
   "metadata": {},
   "outputs": [],
   "source": [
    "def PAM_only_p_active_theory(c_pam, log_Kd_active, log_Kd_inactive, beta_deltaE):\n",
    "    \"theoretical curve for mglur5 active probability\"\n",
    "    beta_deltaE=-8\n",
    "    Kd_active = 10**log_Kd_active\n",
    "    Kd_inactive = 10**log_Kd_inactive\n",
    "    a = (1 + c_pam/Kd_active)\n",
    "\n",
    "    b = (1 + c_pam/Kd_inactive)\n",
    "\n",
    "    return a/(a+b*np.exp(-beta_deltaE))\n",
    "\n",
    "def resid_PAM(param, c, p_active):\n",
    "    return p_active - PAM_only_p_active_theory(c, *param)\n"
   ]
  },
  {
   "cell_type": "code",
   "execution_count": 4,
   "id": "f47fdab1",
   "metadata": {},
   "outputs": [
    {
     "data": {
      "text/html": [
       "\n",
       "\n",
       "\n",
       "\n",
       "\n",
       "\n",
       "  <div class=\"bk-root\" id=\"11afa0fa-bf94-4d76-8ae0-11ae71d84036\" data-root-id=\"1003\"></div>\n"
      ]
     },
     "metadata": {},
     "output_type": "display_data"
    },
    {
     "data": {
      "application/javascript": [
       "(function(root) {\n",
       "  function embed_document(root) {\n",
       "    \n",
       "  var docs_json = {\"6b4f86b7-0b53-487d-9e6e-a8698c08ea9e\":{\"defs\":[],\"roots\":{\"references\":[{\"attributes\":{\"below\":[{\"id\":\"1012\"}],\"center\":[{\"id\":\"1015\"},{\"id\":\"1019\"},{\"id\":\"1050\"}],\"height\":400,\"left\":[{\"id\":\"1016\"}],\"renderers\":[{\"id\":\"1037\"}],\"title\":{\"id\":\"1040\"},\"toolbar\":{\"id\":\"1027\"},\"x_range\":{\"id\":\"1004\"},\"x_scale\":{\"id\":\"1008\"},\"y_range\":{\"id\":\"1006\"},\"y_scale\":{\"id\":\"1010\"}},\"id\":\"1003\",\"subtype\":\"Figure\",\"type\":\"Plot\"},{\"attributes\":{},\"id\":\"1048\",\"type\":\"Selection\"},{\"attributes\":{\"overlay\":{\"id\":\"1026\"}},\"id\":\"1022\",\"type\":\"BoxZoomTool\"},{\"attributes\":{},\"id\":\"1023\",\"type\":\"SaveTool\"},{\"attributes\":{\"items\":[{\"id\":\"1051\"}]},\"id\":\"1050\",\"type\":\"Legend\"},{\"attributes\":{},\"id\":\"1024\",\"type\":\"ResetTool\"},{\"attributes\":{\"axis_label\":\"active_probability\",\"formatter\":{\"id\":\"1044\"},\"major_label_policy\":{\"id\":\"1045\"},\"ticker\":{\"id\":\"1017\"}},\"id\":\"1016\",\"type\":\"LinearAxis\"},{\"attributes\":{\"source\":{\"id\":\"1034\"}},\"id\":\"1038\",\"type\":\"CDSView\"},{\"attributes\":{\"line_alpha\":0.1,\"line_color\":\"#aec7e8\",\"x\":{\"field\":\"x\"},\"y\":{\"field\":\"y\"}},\"id\":\"1036\",\"type\":\"Line\"},{\"attributes\":{\"label\":{\"value\":\"-10,-8,-8\"},\"renderers\":[{\"id\":\"1037\"}]},\"id\":\"1051\",\"type\":\"LegendItem\"},{\"attributes\":{},\"id\":\"1040\",\"type\":\"Title\"},{\"attributes\":{},\"id\":\"1049\",\"type\":\"UnionRenderers\"},{\"attributes\":{},\"id\":\"1006\",\"type\":\"DataRange1d\"},{\"attributes\":{\"bottom_units\":\"screen\",\"fill_alpha\":0.5,\"fill_color\":\"lightgrey\",\"left_units\":\"screen\",\"level\":\"overlay\",\"line_alpha\":1.0,\"line_color\":\"black\",\"line_dash\":[4,4],\"line_width\":2,\"right_units\":\"screen\",\"syncable\":false,\"top_units\":\"screen\"},\"id\":\"1026\",\"type\":\"BoxAnnotation\"},{\"attributes\":{\"data\":{\"x\":{\"__ndarray__\":\"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\",\"dtype\":\"float64\",\"order\":\"little\",\"shape\":[200]},\"y\":{\"__ndarray__\":\"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\",\"dtype\":\"float64\",\"order\":\"little\",\"shape\":[200]}},\"selected\":{\"id\":\"1048\"},\"selection_policy\":{\"id\":\"1049\"}},\"id\":\"1034\",\"type\":\"ColumnDataSource\"},{\"attributes\":{},\"id\":\"1004\",\"type\":\"DataRange1d\"},{\"attributes\":{\"line_color\":\"#aec7e8\",\"x\":{\"field\":\"x\"},\"y\":{\"field\":\"y\"}},\"id\":\"1035\",\"type\":\"Line\"},{\"attributes\":{},\"id\":\"1010\",\"type\":\"LinearScale\"},{\"attributes\":{},\"id\":\"1008\",\"type\":\"LogScale\"},{\"attributes\":{\"ticker\":null},\"id\":\"1041\",\"type\":\"LogTickFormatter\"},{\"attributes\":{},\"id\":\"1042\",\"type\":\"AllLabels\"},{\"attributes\":{\"active_multi\":null,\"tools\":[{\"id\":\"1020\"},{\"id\":\"1021\"},{\"id\":\"1022\"},{\"id\":\"1023\"},{\"id\":\"1024\"},{\"id\":\"1025\"}]},\"id\":\"1027\",\"type\":\"Toolbar\"},{\"attributes\":{\"axis_label\":\"[L-Quis]M\",\"formatter\":{\"id\":\"1041\"},\"major_label_policy\":{\"id\":\"1042\"},\"ticker\":{\"id\":\"1013\"}},\"id\":\"1012\",\"type\":\"LogAxis\"},{\"attributes\":{\"axis\":{\"id\":\"1012\"},\"ticker\":null},\"id\":\"1015\",\"type\":\"Grid\"},{\"attributes\":{\"num_minor_ticks\":10},\"id\":\"1013\",\"type\":\"LogTicker\"},{\"attributes\":{},\"id\":\"1044\",\"type\":\"BasicTickFormatter\"},{\"attributes\":{},\"id\":\"1017\",\"type\":\"BasicTicker\"},{\"attributes\":{\"data_source\":{\"id\":\"1034\"},\"glyph\":{\"id\":\"1035\"},\"hover_glyph\":null,\"muted_glyph\":null,\"nonselection_glyph\":{\"id\":\"1036\"},\"view\":{\"id\":\"1038\"}},\"id\":\"1037\",\"type\":\"GlyphRenderer\"},{\"attributes\":{},\"id\":\"1045\",\"type\":\"AllLabels\"},{\"attributes\":{\"axis\":{\"id\":\"1016\"},\"dimension\":1,\"ticker\":null},\"id\":\"1019\",\"type\":\"Grid\"},{\"attributes\":{},\"id\":\"1021\",\"type\":\"WheelZoomTool\"},{\"attributes\":{},\"id\":\"1025\",\"type\":\"HelpTool\"},{\"attributes\":{},\"id\":\"1020\",\"type\":\"PanTool\"}],\"root_ids\":[\"1003\"]},\"title\":\"Bokeh Application\",\"version\":\"2.3.3\"}};\n",
       "  var render_items = [{\"docid\":\"6b4f86b7-0b53-487d-9e6e-a8698c08ea9e\",\"root_ids\":[\"1003\"],\"roots\":{\"1003\":\"11afa0fa-bf94-4d76-8ae0-11ae71d84036\"}}];\n",
       "  root.Bokeh.embed.embed_items_notebook(docs_json, render_items);\n",
       "\n",
       "  }\n",
       "  if (root.Bokeh !== undefined) {\n",
       "    embed_document(root);\n",
       "  } else {\n",
       "    var attempts = 0;\n",
       "    var timer = setInterval(function(root) {\n",
       "      if (root.Bokeh !== undefined) {\n",
       "        clearInterval(timer);\n",
       "        embed_document(root);\n",
       "      } else {\n",
       "        attempts++;\n",
       "        if (attempts > 100) {\n",
       "          clearInterval(timer);\n",
       "          console.log(\"Bokeh: ERROR: Unable to run BokehJS code because BokehJS library is missing\");\n",
       "        }\n",
       "      }\n",
       "    }, 10, root)\n",
       "  }\n",
       "})(window);"
      ],
      "application/vnd.bokehjs_exec.v0+json": ""
     },
     "metadata": {
      "application/vnd.bokehjs_exec.v0+json": {
       "id": "1003"
      }
     },
     "output_type": "display_data"
    }
   ],
   "source": [
    "#set up plot\n",
    "from bokeh.plotting import curdoc \n",
    "curdoc().clear()\n",
    "p = bokeh.plotting.figure(plot_height=400,\n",
    "                         plot_width=600,\n",
    "                         x_axis_label='[L-Quis]M',\n",
    "                          y_axis_label='active_probability',\n",
    "                          x_axis_type='log')\n",
    "\n",
    "colors=bokeh.palettes.d3['Category20'][20]\n",
    "\n",
    "ligand_smooth=np.logspace(-11,-3,200)\n",
    "\n",
    "\n",
    "p.line(ligand_smooth, agonist_only_p_active_theory(ligand_smooth, -4, -3, -8), color=colors[1],legend_label='-10,-8,-8')\n",
    "#p.line(ligand_smooth, agonist_only_p_active_theory(ligand_smooth, -15, -8, -31), color=colors[2],legend_label='-15,-8,-34')\n",
    "        \n",
    "\n",
    "\n",
    "bokeh.io.show(p);"
   ]
  },
  {
   "cell_type": "code",
   "execution_count": 5,
   "id": "bd092dd4",
   "metadata": {
    "scrolled": true
   },
   "outputs": [
    {
     "data": {
      "text/html": [
       "\n",
       "\n",
       "\n",
       "\n",
       "\n",
       "\n",
       "  <div class=\"bk-root\" id=\"b33c1727-0b0b-4d4a-ad5d-20fb01c7683c\" data-root-id=\"1118\"></div>\n"
      ]
     },
     "metadata": {},
     "output_type": "display_data"
    },
    {
     "data": {
      "application/javascript": [
       "(function(root) {\n",
       "  function embed_document(root) {\n",
       "    \n",
       "  var docs_json = {\"a3a77a72-9f34-4e41-a07d-639a49dbc8cd\":{\"defs\":[],\"roots\":{\"references\":[{\"attributes\":{\"below\":[{\"id\":\"1127\"}],\"center\":[{\"id\":\"1130\"},{\"id\":\"1134\"},{\"id\":\"1165\"}],\"height\":400,\"left\":[{\"id\":\"1131\"}],\"renderers\":[{\"id\":\"1152\"},{\"id\":\"1170\"},{\"id\":\"1189\"},{\"id\":\"1210\"},{\"id\":\"1233\"},{\"id\":\"1258\"},{\"id\":\"1285\"},{\"id\":\"1314\"}],\"title\":{\"id\":\"1155\"},\"toolbar\":{\"id\":\"1142\"},\"x_range\":{\"id\":\"1119\"},\"x_scale\":{\"id\":\"1123\"},\"y_range\":{\"id\":\"1121\"},\"y_scale\":{\"id\":\"1125\"}},\"id\":\"1118\",\"subtype\":\"Figure\",\"type\":\"Plot\"},{\"attributes\":{},\"id\":\"1339\",\"type\":\"Selection\"},{\"attributes\":{},\"id\":\"1340\",\"type\":\"UnionRenderers\"},{\"attributes\":{\"data\":{\"x\":{\"__ndarray__\":\"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\",\"dtype\":\"float64\",\"order\":\"little\",\"shape\":[200]},\"y\":{\"__ndarray__\":\"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\",\"dtype\":\"float64\",\"order\":\"little\",\"shape\":[200]}},\"selected\":{\"id\":\"1163\"},\"selection_policy\":{\"id\":\"1164\"}},\"id\":\"1149\",\"type\":\"ColumnDataSource\"},{\"attributes\":{},\"id\":\"1138\",\"type\":\"SaveTool\"},{\"attributes\":{},\"id\":\"1139\",\"type\":\"ResetTool\"},{\"attributes\":{},\"id\":\"1123\",\"type\":\"LogScale\"},{\"attributes\":{\"axis_label\":\"[L-Quis]M\",\"formatter\":{\"id\":\"1156\"},\"major_label_policy\":{\"id\":\"1157\"},\"ticker\":{\"id\":\"1128\"}},\"id\":\"1127\",\"type\":\"LogAxis\"},{\"attributes\":{\"data_source\":{\"id\":\"1149\"},\"glyph\":{\"id\":\"1150\"},\"hover_glyph\":null,\"muted_glyph\":null,\"nonselection_glyph\":{\"id\":\"1151\"},\"view\":{\"id\":\"1153\"}},\"id\":\"1152\",\"type\":\"GlyphRenderer\"},{\"attributes\":{},\"id\":\"1119\",\"type\":\"DataRange1d\"},{\"attributes\":{\"line_color\":\"#1f77b4\",\"x\":{\"field\":\"x\"},\"y\":{\"field\":\"y\"}},\"id\":\"1150\",\"type\":\"Line\"},{\"attributes\":{},\"id\":\"1125\",\"type\":\"LinearScale\"},{\"attributes\":{},\"id\":\"1121\",\"type\":\"DataRange1d\"},{\"attributes\":{\"axis_label\":\"active_probability\",\"formatter\":{\"id\":\"1159\"},\"major_label_policy\":{\"id\":\"1160\"},\"ticker\":{\"id\":\"1132\"}},\"id\":\"1131\",\"type\":\"LinearAxis\"},{\"attributes\":{\"num_minor_ticks\":10},\"id\":\"1128\",\"type\":\"LogTicker\"},{\"attributes\":{\"axis\":{\"id\":\"1127\"},\"ticker\":null},\"id\":\"1130\",\"type\":\"Grid\"},{\"attributes\":{},\"id\":\"1136\",\"type\":\"WheelZoomTool\"},{\"attributes\":{\"line_alpha\":0.1,\"line_color\":\"#1f77b4\",\"x\":{\"field\":\"x\"},\"y\":{\"field\":\"y\"}},\"id\":\"1151\",\"type\":\"Line\"},{\"attributes\":{\"axis\":{\"id\":\"1131\"},\"dimension\":1,\"ticker\":null},\"id\":\"1134\",\"type\":\"Grid\"},{\"attributes\":{},\"id\":\"1205\",\"type\":\"UnionRenderers\"},{\"attributes\":{},\"id\":\"1132\",\"type\":\"BasicTicker\"},{\"attributes\":{\"active_multi\":null,\"tools\":[{\"id\":\"1135\"},{\"id\":\"1136\"},{\"id\":\"1137\"},{\"id\":\"1138\"},{\"id\":\"1139\"},{\"id\":\"1140\"}]},\"id\":\"1142\",\"type\":\"Toolbar\"},{\"attributes\":{},\"id\":\"1140\",\"type\":\"HelpTool\"},{\"attributes\":{},\"id\":\"1135\",\"type\":\"PanTool\"},{\"attributes\":{\"overlay\":{\"id\":\"1141\"}},\"id\":\"1137\",\"type\":\"BoxZoomTool\"},{\"attributes\":{},\"id\":\"1204\",\"type\":\"Selection\"},{\"attributes\":{\"line_color\":\"#98df8a\",\"x\":{\"field\":\"x\"},\"y\":{\"field\":\"y\"}},\"id\":\"1256\",\"type\":\"Line\"},{\"attributes\":{\"bottom_units\":\"screen\",\"fill_alpha\":0.5,\"fill_color\":\"lightgrey\",\"left_units\":\"screen\",\"level\":\"overlay\",\"line_alpha\":1.0,\"line_color\":\"black\",\"line_dash\":[4,4],\"line_width\":2,\"right_units\":\"screen\",\"syncable\":false,\"top_units\":\"screen\"},\"id\":\"1141\",\"type\":\"BoxAnnotation\"},{\"attributes\":{\"source\":{\"id\":\"1255\"}},\"id\":\"1259\",\"type\":\"CDSView\"},{\"attributes\":{\"data_source\":{\"id\":\"1282\"},\"glyph\":{\"id\":\"1283\"},\"hover_glyph\":null,\"muted_glyph\":null,\"nonselection_glyph\":{\"id\":\"1284\"},\"view\":{\"id\":\"1286\"}},\"id\":\"1285\",\"type\":\"GlyphRenderer\"},{\"attributes\":{\"data_source\":{\"id\":\"1311\"},\"glyph\":{\"id\":\"1312\"},\"hover_glyph\":null,\"muted_glyph\":null,\"nonselection_glyph\":{\"id\":\"1313\"},\"view\":{\"id\":\"1315\"}},\"id\":\"1314\",\"type\":\"GlyphRenderer\"},{\"attributes\":{\"line_alpha\":0.1,\"line_color\":\"#98df8a\",\"x\":{\"field\":\"x\"},\"y\":{\"field\":\"y\"}},\"id\":\"1257\",\"type\":\"Line\"},{\"attributes\":{\"label\":{\"value\":\"delta E=-9\"},\"renderers\":[{\"id\":\"1258\"}]},\"id\":\"1281\",\"type\":\"LegendItem\"},{\"attributes\":{\"source\":{\"id\":\"1207\"}},\"id\":\"1211\",\"type\":\"CDSView\"},{\"attributes\":{\"data\":{\"x\":{\"__ndarray__\":\"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\",\"dtype\":\"float64\",\"order\":\"little\",\"shape\":[200]},\"y\":{\"__ndarray__\":\"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\",\"dtype\":\"float64\",\"order\":\"little\",\"shape\":[200]}},\"selected\":{\"id\":\"1227\"},\"selection_policy\":{\"id\":\"1228\"}},\"id\":\"1207\",\"type\":\"ColumnDataSource\"},{\"attributes\":{},\"id\":\"1163\",\"type\":\"Selection\"},{\"attributes\":{\"line_color\":\"#ffbb78\",\"x\":{\"field\":\"x\"},\"y\":{\"field\":\"y\"}},\"id\":\"1208\",\"type\":\"Line\"},{\"attributes\":{},\"id\":\"1164\",\"type\":\"UnionRenderers\"},{\"attributes\":{\"line_alpha\":0.1,\"line_color\":\"#ffbb78\",\"x\":{\"field\":\"x\"},\"y\":{\"field\":\"y\"}},\"id\":\"1209\",\"type\":\"Line\"},{\"attributes\":{},\"id\":\"1279\",\"type\":\"Selection\"},{\"attributes\":{},\"id\":\"1280\",\"type\":\"UnionRenderers\"},{\"attributes\":{\"label\":{\"value\":\"delta E=-7\"},\"renderers\":[{\"id\":\"1210\"}]},\"id\":\"1229\",\"type\":\"LegendItem\"},{\"attributes\":{\"source\":{\"id\":\"1149\"}},\"id\":\"1153\",\"type\":\"CDSView\"},{\"attributes\":{\"items\":[{\"id\":\"1166\"},{\"id\":\"1185\"},{\"id\":\"1206\"},{\"id\":\"1229\"},{\"id\":\"1254\"},{\"id\":\"1281\"},{\"id\":\"1310\"},{\"id\":\"1341\"}]},\"id\":\"1165\",\"type\":\"Legend\"},{\"attributes\":{\"data_source\":{\"id\":\"1167\"},\"glyph\":{\"id\":\"1168\"},\"hover_glyph\":null,\"muted_glyph\":null,\"nonselection_glyph\":{\"id\":\"1169\"},\"view\":{\"id\":\"1171\"}},\"id\":\"1170\",\"type\":\"GlyphRenderer\"},{\"attributes\":{\"label\":{\"value\":\"delta E=-4\"},\"renderers\":[{\"id\":\"1152\"}]},\"id\":\"1166\",\"type\":\"LegendItem\"},{\"attributes\":{},\"id\":\"1227\",\"type\":\"Selection\"},{\"attributes\":{},\"id\":\"1228\",\"type\":\"UnionRenderers\"},{\"attributes\":{\"line_color\":\"#d62728\",\"x\":{\"field\":\"x\"},\"y\":{\"field\":\"y\"}},\"id\":\"1283\",\"type\":\"Line\"},{\"attributes\":{},\"id\":\"1155\",\"type\":\"Title\"},{\"attributes\":{\"source\":{\"id\":\"1282\"}},\"id\":\"1286\",\"type\":\"CDSView\"},{\"attributes\":{\"data\":{\"x\":{\"__ndarray__\":\"EeotgZmXcT1+akKEYkxzPRpC2DCIK3U9Ky4oTiY5dz0ppVmlvnl5PXMQMeZC8ns9eFhggR+ofj3lOCbIo9CAPcMMNfIgcoI9RWVurRs8hD3EW+VJgTKGPYq38pegWYg9bKj/XDO2ij3ozhizaE2NPVVrBzV4EpA9jp+PwYOhkT0iEkbxQleTPcQUmap2N5U9+P6KBT1Glz0u04pVGoiZPe/mtRMDApw9UE5Gv2a5nj0oEwfmHdqgPZ9TmFyGfKI9cRhqNoNHpD396ij6Az+mPdm+uuVZZ6g9RwteaEHFqj1GhRWI7F2tPUZKmSSHG7A9g5mDmHOrsT1ovZp/KWKzPZ163t1rQ7U9/NtoHVtTtz0h8F4dfpa5PZMEySHMEbw9AGMiurfKvj2LEEdbnePAPXBX+KLxhsI9dsPcLPFSxD2ZpHm3jUvGPfppoO8adcg9JBvl71fUyj2aD+areW7NPdDtIS+bJNA95x4wCWm10T3W5bQyFm3TPTq1cs5nT9U9rCDqmYBg1z23kWUB6qTZPUg8axWeIdw9NqJxdxLc3j1j2egqIu3gPbR+oshikeI9uspllGVe5D2i3tCFHljmPcO5/7njgug9YRVd+Hbj6j0gZ8kjEH/tPX3ygVe0LfA9IT29FmS/8T1u9woOCXjzPQcpIoBqW/U9XIA5f61t9z2x3zAGXrP5Pd0yoPN4Mfw9hS+0/Hbt/j1eyPBXrPYAPmcM5tDZmwI+V52mcOBpBD6DLCpptmQGPgQkN0m0kAg+WumQhp7yCj79eQH1r48NPgCUm6DSNhA+AclUxGTJET7MURUVAoMTPnleu/ZzZxU+rQeE0eF6Fz5SlVUw2sEZPpZgbsFcQRw+I0htT+X+Hj5562TlOwAhPhohFL9WpiI+ObZCxWF1JD5JYINlVXEmPu+Up6GMnig+6zlOn84BKz4LLdMkWaAtPhyuUg32PzA+x18iFWvTMT47SU5LAY4zPkoDDzaEczU+dh35lB2INz7UAmuEXtA5PsYS34NJUTw+p0QjdV0QPz7xBE3W0AlBPrW7f5bZsEI+Sp3flemARD7ri9x++31GPoJwtMdsrEg++F5lRwcRSz7rXIa4C7FNPpO9jKAeSVA+HmhTDHfdUT7dJzK0BplTPqXr70Gbf1U+qYTKzWCVVz7XDgsH695ZPntt/j8/YVw+25pfc98hXz4+jLItaxNhPvK6fVpiu2I+megk5neMZD6WAji5qIpmPrqTw79Uumg+9Gapg0ggaz7C4GW1x8FtPg7hMF1MUnA+LBMXrYjncT6aLj9TEqRzPmUTMx65i3U+dV0sgKuidz7dN9K8f+15PtFs2/o9cXw+ON+uT2szfz4Gr6DuCh2BPkjeZA7xxYI+gD28uQyYhD7EWZoYXZeGPkdWPY5EyIg+ZhjwWJIviz72ir8gjdKNPgvaJ0Z/W5A+bF2e+p/xkT58lvUrJK+TPkafr87dl5U+YSZVsP2vlz68lV+qHPyZPvXmh7lFgZw+EsegDwFFnz4XUiQcsCahPsfGjbWF0KI+0VFRFKijpD7JagqhGKSmPr2LjDc81qg+dfMRzOQ+qz5IK+T/W+OtPsUNXF63ZLA+6w8c+Lz7sT6rkddBPLqzPiDePlcJpLU+2r19Yle9tz4X21TUwQq6PneNGIFWkbw+JCrIuKBWvz5ZEky5WjDBPlv4UlMg28I+/+yR+UmvxD7uU5FW27DGPhWFHsA75Mg+bTPq4T9Oyz5tkCdYNPTNPiWGuaj0bdA+JsHEqN8F0j5mTGmYWsXTPh9KvLs7sNU+fWPhmrjK1z7SVlY/bxnaPv3upFZwodw+IgS7UEpo3z7NRSjJCjrhPsnaEOvA5eI+RektbfK65D6/eTo9pb3mPtsRYyxD8ug+S9BWn6Nd6z7AieAuFgXuPqzyLSg3d/A+FdbODwgQ8j5n7jAzf9DzPveJBQB1vPU+bbm9XSHY9z6R9QrwJCj6Pt54Rz+Tsfw+53YS3f15/z6C/MpOwEMBP8i6JYBn8AI/1TTXcqHGBD9WiBNZdsoGP+qBzIBSAAk/SYA4CRBtCz/z6GiJARYOP2OpqN9+gBA/MoNyMDYaEj/Tm7YVqtsTPzRy+ie1yBU/qsVSr5HlFz8tQxzr4jYaPw==\",\"dtype\":\"float64\",\"order\":\"little\",\"shape\":[200]},\"y\":{\"__ndarray__\":\"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\",\"dtype\":\"float64\",\"order\":\"little\",\"shape\":[200]}},\"selected\":{\"id\":\"1308\"},\"selection_policy\":{\"id\":\"1309\"}},\"id\":\"1282\",\"type\":\"ColumnDataSource\"},{\"attributes\":{\"source\":{\"id\":\"1167\"}},\"id\":\"1171\",\"type\":\"CDSView\"},{\"attributes\":{\"line_alpha\":0.1,\"line_color\":\"#d62728\",\"x\":{\"field\":\"x\"},\"y\":{\"field\":\"y\"}},\"id\":\"1284\",\"type\":\"Line\"},{\"attributes\":{\"data\":{\"x\":{\"__ndarray__\":\"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\",\"dtype\":\"float64\",\"order\":\"little\",\"shape\":[200]},\"y\":{\"__ndarray__\":\"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\",\"dtype\":\"float64\",\"order\":\"little\",\"shape\":[200]}},\"selected\":{\"id\":\"1183\"},\"selection_policy\":{\"id\":\"1184\"}},\"id\":\"1167\",\"type\":\"ColumnDataSource\"},{\"attributes\":{\"label\":{\"value\":\"delta E=-10\"},\"renderers\":[{\"id\":\"1285\"}]},\"id\":\"1310\",\"type\":\"LegendItem\"},{\"attributes\":{\"line_color\":\"#aec7e8\",\"x\":{\"field\":\"x\"},\"y\":{\"field\":\"y\"}},\"id\":\"1168\",\"type\":\"Line\"},{\"attributes\":{\"line_alpha\":0.1,\"line_color\":\"#aec7e8\",\"x\":{\"field\":\"x\"},\"y\":{\"field\":\"y\"}},\"id\":\"1169\",\"type\":\"Line\"},{\"attributes\":{\"data_source\":{\"id\":\"1230\"},\"glyph\":{\"id\":\"1231\"},\"hover_glyph\":null,\"muted_glyph\":null,\"nonselection_glyph\":{\"id\":\"1232\"},\"view\":{\"id\":\"1234\"}},\"id\":\"1233\",\"type\":\"GlyphRenderer\"},{\"attributes\":{\"label\":{\"value\":\"delta E=-6\"},\"renderers\":[{\"id\":\"1189\"}]},\"id\":\"1206\",\"type\":\"LegendItem\"},{\"attributes\":{\"label\":{\"value\":\"delta E=-5\"},\"renderers\":[{\"id\":\"1170\"}]},\"id\":\"1185\",\"type\":\"LegendItem\"},{\"attributes\":{\"ticker\":null},\"id\":\"1156\",\"type\":\"LogTickFormatter\"},{\"attributes\":{\"source\":{\"id\":\"1230\"}},\"id\":\"1234\",\"type\":\"CDSView\"},{\"attributes\":{\"data\":{\"x\":{\"__ndarray__\":\"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\",\"dtype\":\"float64\",\"order\":\"little\",\"shape\":[200]},\"y\":{\"__ndarray__\":\"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\",\"dtype\":\"float64\",\"order\":\"little\",\"shape\":[200]}},\"selected\":{\"id\":\"1252\"},\"selection_policy\":{\"id\":\"1253\"}},\"id\":\"1230\",\"type\":\"ColumnDataSource\"},{\"attributes\":{},\"id\":\"1157\",\"type\":\"AllLabels\"},{\"attributes\":{\"line_color\":\"#2ca02c\",\"x\":{\"field\":\"x\"},\"y\":{\"field\":\"y\"}},\"id\":\"1231\",\"type\":\"Line\"},{\"attributes\":{\"line_alpha\":0.1,\"line_color\":\"#2ca02c\",\"x\":{\"field\":\"x\"},\"y\":{\"field\":\"y\"}},\"id\":\"1232\",\"type\":\"Line\"},{\"attributes\":{},\"id\":\"1308\",\"type\":\"Selection\"},{\"attributes\":{\"data\":{\"x\":{\"__ndarray__\":\"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\",\"dtype\":\"float64\",\"order\":\"little\",\"shape\":[200]},\"y\":{\"__ndarray__\":\"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\",\"dtype\":\"float64\",\"order\":\"little\",\"shape\":[200]}},\"selected\":{\"id\":\"1279\"},\"selection_policy\":{\"id\":\"1280\"}},\"id\":\"1255\",\"type\":\"ColumnDataSource\"},{\"attributes\":{},\"id\":\"1309\",\"type\":\"UnionRenderers\"},{\"attributes\":{\"data_source\":{\"id\":\"1255\"},\"glyph\":{\"id\":\"1256\"},\"hover_glyph\":null,\"muted_glyph\":null,\"nonselection_glyph\":{\"id\":\"1257\"},\"view\":{\"id\":\"1259\"}},\"id\":\"1258\",\"type\":\"GlyphRenderer\"},{\"attributes\":{\"label\":{\"value\":\"delta E=-8\"},\"renderers\":[{\"id\":\"1233\"}]},\"id\":\"1254\",\"type\":\"LegendItem\"},{\"attributes\":{},\"id\":\"1159\",\"type\":\"BasicTickFormatter\"},{\"attributes\":{},\"id\":\"1183\",\"type\":\"Selection\"},{\"attributes\":{},\"id\":\"1184\",\"type\":\"UnionRenderers\"},{\"attributes\":{},\"id\":\"1160\",\"type\":\"AllLabels\"},{\"attributes\":{},\"id\":\"1252\",\"type\":\"Selection\"},{\"attributes\":{},\"id\":\"1253\",\"type\":\"UnionRenderers\"},{\"attributes\":{\"line_color\":\"#ff9896\",\"x\":{\"field\":\"x\"},\"y\":{\"field\":\"y\"}},\"id\":\"1312\",\"type\":\"Line\"},{\"attributes\":{\"source\":{\"id\":\"1311\"}},\"id\":\"1315\",\"type\":\"CDSView\"},{\"attributes\":{\"data_source\":{\"id\":\"1186\"},\"glyph\":{\"id\":\"1187\"},\"hover_glyph\":null,\"muted_glyph\":null,\"nonselection_glyph\":{\"id\":\"1188\"},\"view\":{\"id\":\"1190\"}},\"id\":\"1189\",\"type\":\"GlyphRenderer\"},{\"attributes\":{\"data\":{\"x\":{\"__ndarray__\":\"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\",\"dtype\":\"float64\",\"order\":\"little\",\"shape\":[200]},\"y\":{\"__ndarray__\":\"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\",\"dtype\":\"float64\",\"order\":\"little\",\"shape\":[200]}},\"selected\":{\"id\":\"1339\"},\"selection_policy\":{\"id\":\"1340\"}},\"id\":\"1311\",\"type\":\"ColumnDataSource\"},{\"attributes\":{\"line_alpha\":0.1,\"line_color\":\"#ff9896\",\"x\":{\"field\":\"x\"},\"y\":{\"field\":\"y\"}},\"id\":\"1313\",\"type\":\"Line\"},{\"attributes\":{\"source\":{\"id\":\"1186\"}},\"id\":\"1190\",\"type\":\"CDSView\"},{\"attributes\":{\"data\":{\"x\":{\"__ndarray__\":\"EeotgZmXcT1+akKEYkxzPRpC2DCIK3U9Ky4oTiY5dz0ppVmlvnl5PXMQMeZC8ns9eFhggR+ofj3lOCbIo9CAPcMMNfIgcoI9RWVurRs8hD3EW+VJgTKGPYq38pegWYg9bKj/XDO2ij3ozhizaE2NPVVrBzV4EpA9jp+PwYOhkT0iEkbxQleTPcQUmap2N5U9+P6KBT1Glz0u04pVGoiZPe/mtRMDApw9UE5Gv2a5nj0oEwfmHdqgPZ9TmFyGfKI9cRhqNoNHpD396ij6Az+mPdm+uuVZZ6g9RwteaEHFqj1GhRWI7F2tPUZKmSSHG7A9g5mDmHOrsT1ovZp/KWKzPZ163t1rQ7U9/NtoHVtTtz0h8F4dfpa5PZMEySHMEbw9AGMiurfKvj2LEEdbnePAPXBX+KLxhsI9dsPcLPFSxD2ZpHm3jUvGPfppoO8adcg9JBvl71fUyj2aD+areW7NPdDtIS+bJNA95x4wCWm10T3W5bQyFm3TPTq1cs5nT9U9rCDqmYBg1z23kWUB6qTZPUg8axWeIdw9NqJxdxLc3j1j2egqIu3gPbR+oshikeI9uspllGVe5D2i3tCFHljmPcO5/7njgug9YRVd+Hbj6j0gZ8kjEH/tPX3ygVe0LfA9IT29FmS/8T1u9woOCXjzPQcpIoBqW/U9XIA5f61t9z2x3zAGXrP5Pd0yoPN4Mfw9hS+0/Hbt/j1eyPBXrPYAPmcM5tDZmwI+V52mcOBpBD6DLCpptmQGPgQkN0m0kAg+WumQhp7yCj79eQH1r48NPgCUm6DSNhA+AclUxGTJET7MURUVAoMTPnleu/ZzZxU+rQeE0eF6Fz5SlVUw2sEZPpZgbsFcQRw+I0htT+X+Hj5562TlOwAhPhohFL9WpiI+ObZCxWF1JD5JYINlVXEmPu+Up6GMnig+6zlOn84BKz4LLdMkWaAtPhyuUg32PzA+x18iFWvTMT47SU5LAY4zPkoDDzaEczU+dh35lB2INz7UAmuEXtA5PsYS34NJUTw+p0QjdV0QPz7xBE3W0AlBPrW7f5bZsEI+Sp3flemARD7ri9x++31GPoJwtMdsrEg++F5lRwcRSz7rXIa4C7FNPpO9jKAeSVA+HmhTDHfdUT7dJzK0BplTPqXr70Gbf1U+qYTKzWCVVz7XDgsH695ZPntt/j8/YVw+25pfc98hXz4+jLItaxNhPvK6fVpiu2I+megk5neMZD6WAji5qIpmPrqTw79Uumg+9Gapg0ggaz7C4GW1x8FtPg7hMF1MUnA+LBMXrYjncT6aLj9TEqRzPmUTMx65i3U+dV0sgKuidz7dN9K8f+15PtFs2/o9cXw+ON+uT2szfz4Gr6DuCh2BPkjeZA7xxYI+gD28uQyYhD7EWZoYXZeGPkdWPY5EyIg+ZhjwWJIviz72ir8gjdKNPgvaJ0Z/W5A+bF2e+p/xkT58lvUrJK+TPkafr87dl5U+YSZVsP2vlz68lV+qHPyZPvXmh7lFgZw+EsegDwFFnz4XUiQcsCahPsfGjbWF0KI+0VFRFKijpD7JagqhGKSmPr2LjDc81qg+dfMRzOQ+qz5IK+T/W+OtPsUNXF63ZLA+6w8c+Lz7sT6rkddBPLqzPiDePlcJpLU+2r19Yle9tz4X21TUwQq6PneNGIFWkbw+JCrIuKBWvz5ZEky5WjDBPlv4UlMg28I+/+yR+UmvxD7uU5FW27DGPhWFHsA75Mg+bTPq4T9Oyz5tkCdYNPTNPiWGuaj0bdA+JsHEqN8F0j5mTGmYWsXTPh9KvLs7sNU+fWPhmrjK1z7SVlY/bxnaPv3upFZwodw+IgS7UEpo3z7NRSjJCjrhPsnaEOvA5eI+RektbfK65D6/eTo9pb3mPtsRYyxD8ug+S9BWn6Nd6z7AieAuFgXuPqzyLSg3d/A+FdbODwgQ8j5n7jAzf9DzPveJBQB1vPU+bbm9XSHY9z6R9QrwJCj6Pt54Rz+Tsfw+53YS3f15/z6C/MpOwEMBP8i6JYBn8AI/1TTXcqHGBD9WiBNZdsoGP+qBzIBSAAk/SYA4CRBtCz/z6GiJARYOP2OpqN9+gBA/MoNyMDYaEj/Tm7YVqtsTPzRy+ie1yBU/qsVSr5HlFz8tQxzr4jYaPw==\",\"dtype\":\"float64\",\"order\":\"little\",\"shape\":[200]},\"y\":{\"__ndarray__\":\"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\",\"dtype\":\"float64\",\"order\":\"little\",\"shape\":[200]}},\"selected\":{\"id\":\"1204\"},\"selection_policy\":{\"id\":\"1205\"}},\"id\":\"1186\",\"type\":\"ColumnDataSource\"},{\"attributes\":{\"label\":{\"value\":\"delta E=-11\"},\"renderers\":[{\"id\":\"1314\"}]},\"id\":\"1341\",\"type\":\"LegendItem\"},{\"attributes\":{\"line_color\":\"#ff7f0e\",\"x\":{\"field\":\"x\"},\"y\":{\"field\":\"y\"}},\"id\":\"1187\",\"type\":\"Line\"},{\"attributes\":{\"line_alpha\":0.1,\"line_color\":\"#ff7f0e\",\"x\":{\"field\":\"x\"},\"y\":{\"field\":\"y\"}},\"id\":\"1188\",\"type\":\"Line\"},{\"attributes\":{\"data_source\":{\"id\":\"1207\"},\"glyph\":{\"id\":\"1208\"},\"hover_glyph\":null,\"muted_glyph\":null,\"nonselection_glyph\":{\"id\":\"1209\"},\"view\":{\"id\":\"1211\"}},\"id\":\"1210\",\"type\":\"GlyphRenderer\"}],\"root_ids\":[\"1118\"]},\"title\":\"Bokeh Application\",\"version\":\"2.3.3\"}};\n",
       "  var render_items = [{\"docid\":\"a3a77a72-9f34-4e41-a07d-639a49dbc8cd\",\"root_ids\":[\"1118\"],\"roots\":{\"1118\":\"b33c1727-0b0b-4d4a-ad5d-20fb01c7683c\"}}];\n",
       "  root.Bokeh.embed.embed_items_notebook(docs_json, render_items);\n",
       "\n",
       "  }\n",
       "  if (root.Bokeh !== undefined) {\n",
       "    embed_document(root);\n",
       "  } else {\n",
       "    var attempts = 0;\n",
       "    var timer = setInterval(function(root) {\n",
       "      if (root.Bokeh !== undefined) {\n",
       "        clearInterval(timer);\n",
       "        embed_document(root);\n",
       "      } else {\n",
       "        attempts++;\n",
       "        if (attempts > 100) {\n",
       "          clearInterval(timer);\n",
       "          console.log(\"Bokeh: ERROR: Unable to run BokehJS code because BokehJS library is missing\");\n",
       "        }\n",
       "      }\n",
       "    }, 10, root)\n",
       "  }\n",
       "})(window);"
      ],
      "application/vnd.bokehjs_exec.v0+json": ""
     },
     "metadata": {
      "application/vnd.bokehjs_exec.v0+json": {
       "id": "1118"
      }
     },
     "output_type": "display_data"
    }
   ],
   "source": [
    "#set up plot\n",
    "from bokeh.plotting import curdoc \n",
    "curdoc().clear()\n",
    "p = bokeh.plotting.figure(plot_height=400,\n",
    "                         plot_width=600,\n",
    "                         x_axis_label='[L-Quis]M',\n",
    "                          y_axis_label='active_probability',\n",
    "                          x_axis_type='log')\n",
    "\n",
    "colors=bokeh.palettes.d3['Category20'][20]\n",
    "\n",
    "ligand_smooth=np.logspace(-12,-4,200)\n",
    "\n",
    "for i,deltaE in enumerate(range(-4,-12,-1)):    \n",
    "    p.line(ligand_smooth, agonist_only_p_active_theory(ligand_smooth, -9.8, -7.7, deltaE), color=colors[i],legend_label='delta E='+str(deltaE))\n",
    "\n",
    "\n",
    "bokeh.io.show(p);"
   ]
  },
  {
   "cell_type": "code",
   "execution_count": 6,
   "id": "3966b589",
   "metadata": {},
   "outputs": [
    {
     "data": {
      "text/html": [
       "\n",
       "\n",
       "\n",
       "\n",
       "\n",
       "\n",
       "  <div class=\"bk-root\" id=\"1b829254-b5c6-47cd-9a9b-1bc1f4d404b7\" data-root-id=\"1492\"></div>\n"
      ]
     },
     "metadata": {},
     "output_type": "display_data"
    },
    {
     "data": {
      "application/javascript": [
       "(function(root) {\n",
       "  function embed_document(root) {\n",
       "    \n",
       "  var docs_json = {\"a3c7f015-874c-4d02-8e54-ab06e14e6c5c\":{\"defs\":[],\"roots\":{\"references\":[{\"attributes\":{\"below\":[{\"id\":\"1501\"}],\"center\":[{\"id\":\"1504\"},{\"id\":\"1508\"},{\"id\":\"1539\"}],\"left\":[{\"id\":\"1505\"}],\"renderers\":[{\"id\":\"1526\"},{\"id\":\"1544\"},{\"id\":\"1563\"},{\"id\":\"1584\"},{\"id\":\"1607\"},{\"id\":\"1632\"},{\"id\":\"1659\"},{\"id\":\"1688\"}],\"title\":{\"id\":\"1529\"},\"toolbar\":{\"id\":\"1516\"},\"x_range\":{\"id\":\"1493\"},\"x_scale\":{\"id\":\"1497\"},\"y_range\":{\"id\":\"1495\"},\"y_scale\":{\"id\":\"1499\"}},\"id\":\"1492\",\"subtype\":\"Figure\",\"type\":\"Plot\"},{\"attributes\":{\"source\":{\"id\":\"1581\"}},\"id\":\"1585\",\"type\":\"CDSView\"},{\"attributes\":{\"data\":{\"x\":{\"__ndarray__\":\"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\",\"dtype\":\"float64\",\"order\":\"little\",\"shape\":[200]},\"y\":{\"__ndarray__\":\"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\",\"dtype\":\"float64\",\"order\":\"little\",\"shape\":[200]}},\"selected\":{\"id\":\"1601\"},\"selection_policy\":{\"id\":\"1602\"}},\"id\":\"1581\",\"type\":\"ColumnDataSource\"},{\"attributes\":{\"line_color\":\"#ffbb78\",\"x\":{\"field\":\"x\"},\"y\":{\"field\":\"y\"}},\"id\":\"1582\",\"type\":\"Line\"},{\"attributes\":{\"line_alpha\":0.1,\"line_color\":\"#ffbb78\",\"x\":{\"field\":\"x\"},\"y\":{\"field\":\"y\"}},\"id\":\"1583\",\"type\":\"Line\"},{\"attributes\":{},\"id\":\"1653\",\"type\":\"Selection\"},{\"attributes\":{},\"id\":\"1654\",\"type\":\"UnionRenderers\"},{\"attributes\":{\"label\":{\"value\":\"log_Kd_active=-11\"},\"renderers\":[{\"id\":\"1584\"}]},\"id\":\"1603\",\"type\":\"LegendItem\"},{\"attributes\":{\"bottom_units\":\"screen\",\"fill_alpha\":0.5,\"fill_color\":\"lightgrey\",\"left_units\":\"screen\",\"level\":\"overlay\",\"line_alpha\":1.0,\"line_color\":\"black\",\"line_dash\":[4,4],\"line_width\":2,\"right_units\":\"screen\",\"syncable\":false,\"top_units\":\"screen\"},\"id\":\"1515\",\"type\":\"BoxAnnotation\"},{\"attributes\":{},\"id\":\"1578\",\"type\":\"Selection\"},{\"attributes\":{\"data_source\":{\"id\":\"1685\"},\"glyph\":{\"id\":\"1686\"},\"hover_glyph\":null,\"muted_glyph\":null,\"nonselection_glyph\":{\"id\":\"1687\"},\"view\":{\"id\":\"1689\"}},\"id\":\"1688\",\"type\":\"GlyphRenderer\"},{\"attributes\":{},\"id\":\"1601\",\"type\":\"Selection\"},{\"attributes\":{},\"id\":\"1602\",\"type\":\"UnionRenderers\"},{\"attributes\":{},\"id\":\"1579\",\"type\":\"UnionRenderers\"},{\"attributes\":{\"line_color\":\"#d62728\",\"x\":{\"field\":\"x\"},\"y\":{\"field\":\"y\"}},\"id\":\"1657\",\"type\":\"Line\"},{\"attributes\":{\"source\":{\"id\":\"1656\"}},\"id\":\"1660\",\"type\":\"CDSView\"},{\"attributes\":{\"data\":{\"x\":{\"__ndarray__\":\"lWR54X/9pT0dBVMlex+oPaBSDj1qdqo9tjmy4W8HrT10DrBOLtivPUiq3s9pd7E9SzfcsBMpsz0exy+6zAS1PfRPwi6pDrc9lv7JmCJLuT21sl6cIb+7PWxl770IcL49RMkfGuCxwD1Rge9vYVDCPStGSUIWF8Q9cofzseQJxj2qlpetEy3IPfVZP1VUhco9tr7tRswXzT35h+3qIOrPPVawUexBgdE98vCLN+Az0z3y14hfpRDVPYdovvOnG9c9jp4EBGRZ2T29JbP4xM7bPY9uKV8wgd49DMc64Ui74D1Mcw3Vs1riPdecv+1oIuQ943+kflAW5j3CbIHfszroPUQZVtVGlOo9/BLD5DEo7T0qrLakHfzvPdyiHZUfi/E94H1V1LI+8z2u1BiyhBz1PUtttguuKPc9U/QTeK1n+T3ADVglcd77PXmEiKthkv499jDv9bbEAD7AyW8LDGUCPkRp6vrBLQQ+oSZ8S8MiBj5LH2K/W0gIPoliD8JBowo+2KhkwKA4DT4Se99AEgcQPq0FY80ClRE+YgWniotJEz68D6O1aigVPmIey3q7NRc+aT1/+f51GT5LFkUnJu4bPjSof6icox4+XS06WyrOID504F0Wam8iPh1vYm0hOSQ+aYxsHD0vJj5KtY1RC1YoPkizKiBFsio+c+AH3xhJLT7Pi97DGhAwPsofRJjrnjE+s53wXWpUMz52+uxtVzQ1PoCPH0XQQjc+rUTQjFiEOT6jt3QD5P07PgbthFvhtD4+2JEaFKPXQD4+7CD5zXlCPgB5wkiHREQ+Qvtp9b07Rj5NplqawmNIPhg2avRQwUo+iAnlRZpZTT5TfTVeKBlQPl385PjZqFE+IU2kUU9fUz5XJr7eSkBVPlMp2W7sT1c+x2OTNrqSWT5bOOS+qg1cPjx6Ecovxl4+M+SQIyHhYD4c/AO3N4RiPqNZp5DzT2Q+ufdq2kVIZj6X2yGegXFoPhzEkkNl0Go+w2Q3+iRqbT7E4cISOyJwPrxra/LNsnE+9Ao2aTpqcz4tRuALRUx1PpWqH/wPXXc+nYRX+yOheT7mrpNeeh18PqKMofmH134+W1ufjKTqgD4T+lNTp46CPvjsr0hmW4Q+JUJoz9RUhj7UsT5hSH+IPo7maxKC34o+1CU9Abl6jT5G6WbkUiuQPm0E/4fHvJE+ycAbqCt1kz5NLx/5RViVPq8pHfE6apc+vyKu35WvmT48A4bnUi2cPqh4tO/p6J4+WOBJUi30oD55rF/RHJmiPlIZfXTfZqQ++Ndc2Gphpj5B+g7oFo2oPj7Yv2Wn7qo+0nQ3YFaLrT7qYgPWbzSwPgMkybzGxrE+g0vNESOAsz7I2kiqTWS1PtkV/lFtd7c+4Ewr6A++uT418MBeND28PtmrzLFV+r4+QA+Wd7v9wD7atnc0mKPCPo7QsRdfcsQ+x/RF+Qduxj4c/PI27ZrIPheHW0LV/co++W9qHP2bzT6WvXvqkT3QPlnw9JPL0NE+a3zEqSCL0z6cZi0jXHDVPnk48SKnhNc+RqZlGZLM2T57BU3JHk3cPq2ub0XLC98+KTiL/04H4T4Nm+5/Ga7iPjYR8zXlfeQ+5hMjNqx65j4Wdk1Sy6joPqiVDq0LDes+US0dO62s7T7uCLUkuUbwPmpYrxDW2vE+Vhp9cySW8z7vFp9ncXz1PnG2J2jokfc+P2j2dxzb+T7qqDUsEl38PlsmJrBKHf8+JGAy7ecQAT9Euhi3oLgCP67n59JxiQQ/b/H1kleHBj9/n4M+sbYIP6Zcq6pKHAs/XbyZwWa9DT9D9pWH5U8QP14VJzbm5BE/leJ0ci6hEz9BV3J7jYgVP3sR1SUxnxc/lmN5CK/pGT8vGImMDm0cP1HWe/fTLh8/L0KWQ4YaIT8YVkzdLcMiP1dvOfIElSQ/movCEwqUJj8BKv3/nsQoP3XsBkCSKys/yCcttSnOLT972QYWF1kwP4urjAf87jE/UIorqj6sMz+iu31isJQ1P3opL2CBrDc/CgKNz0n4OT9raljvE308P2Si/yBnQD8/LlDDBSokQT+YkeH1wM1CP7zTkpeeoEQ//yOPvMOgRj/HQiSblNJIP8EO+XHiOks/FXcnG/beTT/8qfHSTWJQPw==\",\"dtype\":\"float64\",\"order\":\"little\",\"shape\":[200]},\"y\":{\"__ndarray__\":\"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\",\"dtype\":\"float64\",\"order\":\"little\",\"shape\":[200]}},\"selected\":{\"id\":\"1682\"},\"selection_policy\":{\"id\":\"1683\"}},\"id\":\"1656\",\"type\":\"ColumnDataSource\"},{\"attributes\":{\"line_alpha\":0.1,\"line_color\":\"#d62728\",\"x\":{\"field\":\"x\"},\"y\":{\"field\":\"y\"}},\"id\":\"1658\",\"type\":\"Line\"},{\"attributes\":{\"label\":{\"value\":\"log_Kd_active=-14\"},\"renderers\":[{\"id\":\"1659\"}]},\"id\":\"1684\",\"type\":\"LegendItem\"},{\"attributes\":{\"data_source\":{\"id\":\"1604\"},\"glyph\":{\"id\":\"1605\"},\"hover_glyph\":null,\"muted_glyph\":null,\"nonselection_glyph\":{\"id\":\"1606\"},\"view\":{\"id\":\"1608\"}},\"id\":\"1607\",\"type\":\"GlyphRenderer\"},{\"attributes\":{\"source\":{\"id\":\"1604\"}},\"id\":\"1608\",\"type\":\"CDSView\"},{\"attributes\":{\"data\":{\"x\":{\"__ndarray__\":\"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\",\"dtype\":\"float64\",\"order\":\"little\",\"shape\":[200]},\"y\":{\"__ndarray__\":\"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\",\"dtype\":\"float64\",\"order\":\"little\",\"shape\":[200]}},\"selected\":{\"id\":\"1626\"},\"selection_policy\":{\"id\":\"1627\"}},\"id\":\"1604\",\"type\":\"ColumnDataSource\"},{\"attributes\":{\"line_color\":\"#2ca02c\",\"x\":{\"field\":\"x\"},\"y\":{\"field\":\"y\"}},\"id\":\"1605\",\"type\":\"Line\"},{\"attributes\":{},\"id\":\"1682\",\"type\":\"Selection\"},{\"attributes\":{\"line_alpha\":0.1,\"line_color\":\"#2ca02c\",\"x\":{\"field\":\"x\"},\"y\":{\"field\":\"y\"}},\"id\":\"1606\",\"type\":\"Line\"},{\"attributes\":{},\"id\":\"1683\",\"type\":\"UnionRenderers\"},{\"attributes\":{\"data_source\":{\"id\":\"1656\"},\"glyph\":{\"id\":\"1657\"},\"hover_glyph\":null,\"muted_glyph\":null,\"nonselection_glyph\":{\"id\":\"1658\"},\"view\":{\"id\":\"1660\"}},\"id\":\"1659\",\"type\":\"GlyphRenderer\"},{\"attributes\":{\"label\":{\"value\":\"log_Kd_active=-12\"},\"renderers\":[{\"id\":\"1607\"}]},\"id\":\"1628\",\"type\":\"LegendItem\"},{\"attributes\":{},\"id\":\"1626\",\"type\":\"Selection\"},{\"attributes\":{\"line_color\":\"#ff9896\",\"x\":{\"field\":\"x\"},\"y\":{\"field\":\"y\"}},\"id\":\"1686\",\"type\":\"Line\"},{\"attributes\":{},\"id\":\"1627\",\"type\":\"UnionRenderers\"},{\"attributes\":{\"source\":{\"id\":\"1685\"}},\"id\":\"1689\",\"type\":\"CDSView\"},{\"attributes\":{\"data\":{\"x\":{\"__ndarray__\":\"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\",\"dtype\":\"float64\",\"order\":\"little\",\"shape\":[200]},\"y\":{\"__ndarray__\":\"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\",\"dtype\":\"float64\",\"order\":\"little\",\"shape\":[200]}},\"selected\":{\"id\":\"1713\"},\"selection_policy\":{\"id\":\"1714\"}},\"id\":\"1685\",\"type\":\"ColumnDataSource\"},{\"attributes\":{\"line_alpha\":0.1,\"line_color\":\"#ff9896\",\"x\":{\"field\":\"x\"},\"y\":{\"field\":\"y\"}},\"id\":\"1687\",\"type\":\"Line\"},{\"attributes\":{\"label\":{\"value\":\"log_Kd_active=-15\"},\"renderers\":[{\"id\":\"1688\"}]},\"id\":\"1715\",\"type\":\"LegendItem\"},{\"attributes\":{\"data_source\":{\"id\":\"1629\"},\"glyph\":{\"id\":\"1630\"},\"hover_glyph\":null,\"muted_glyph\":null,\"nonselection_glyph\":{\"id\":\"1631\"},\"view\":{\"id\":\"1633\"}},\"id\":\"1632\",\"type\":\"GlyphRenderer\"},{\"attributes\":{\"source\":{\"id\":\"1629\"}},\"id\":\"1633\",\"type\":\"CDSView\"},{\"attributes\":{\"data\":{\"x\":{\"__ndarray__\":\"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\",\"dtype\":\"float64\",\"order\":\"little\",\"shape\":[200]},\"y\":{\"__ndarray__\":\"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\",\"dtype\":\"float64\",\"order\":\"little\",\"shape\":[200]}},\"selected\":{\"id\":\"1653\"},\"selection_policy\":{\"id\":\"1654\"}},\"id\":\"1629\",\"type\":\"ColumnDataSource\"},{\"attributes\":{},\"id\":\"1713\",\"type\":\"Selection\"},{\"attributes\":{\"line_color\":\"#98df8a\",\"x\":{\"field\":\"x\"},\"y\":{\"field\":\"y\"}},\"id\":\"1630\",\"type\":\"Line\"},{\"attributes\":{},\"id\":\"1714\",\"type\":\"UnionRenderers\"},{\"attributes\":{\"line_alpha\":0.1,\"line_color\":\"#98df8a\",\"x\":{\"field\":\"x\"},\"y\":{\"field\":\"y\"}},\"id\":\"1631\",\"type\":\"Line\"},{\"attributes\":{\"label\":{\"value\":\"log_Kd_active=-13\"},\"renderers\":[{\"id\":\"1632\"}]},\"id\":\"1655\",\"type\":\"LegendItem\"},{\"attributes\":{\"data_source\":{\"id\":\"1523\"},\"glyph\":{\"id\":\"1524\"},\"hover_glyph\":null,\"muted_glyph\":null,\"nonselection_glyph\":{\"id\":\"1525\"},\"view\":{\"id\":\"1527\"}},\"id\":\"1526\",\"type\":\"GlyphRenderer\"},{\"attributes\":{},\"id\":\"1537\",\"type\":\"Selection\"},{\"attributes\":{},\"id\":\"1538\",\"type\":\"UnionRenderers\"},{\"attributes\":{\"data\":{\"x\":{\"__ndarray__\":\"lWR54X/9pT0dBVMlex+oPaBSDj1qdqo9tjmy4W8HrT10DrBOLtivPUiq3s9pd7E9SzfcsBMpsz0exy+6zAS1PfRPwi6pDrc9lv7JmCJLuT21sl6cIb+7PWxl770IcL49RMkfGuCxwD1Rge9vYVDCPStGSUIWF8Q9cofzseQJxj2qlpetEy3IPfVZP1VUhco9tr7tRswXzT35h+3qIOrPPVawUexBgdE98vCLN+Az0z3y14hfpRDVPYdovvOnG9c9jp4EBGRZ2T29JbP4xM7bPY9uKV8wgd49DMc64Ui74D1Mcw3Vs1riPdecv+1oIuQ943+kflAW5j3CbIHfszroPUQZVtVGlOo9/BLD5DEo7T0qrLakHfzvPdyiHZUfi/E94H1V1LI+8z2u1BiyhBz1PUtttguuKPc9U/QTeK1n+T3ADVglcd77PXmEiKthkv499jDv9bbEAD7AyW8LDGUCPkRp6vrBLQQ+oSZ8S8MiBj5LH2K/W0gIPoliD8JBowo+2KhkwKA4DT4Se99AEgcQPq0FY80ClRE+YgWniotJEz68D6O1aigVPmIey3q7NRc+aT1/+f51GT5LFkUnJu4bPjSof6icox4+XS06WyrOID504F0Wam8iPh1vYm0hOSQ+aYxsHD0vJj5KtY1RC1YoPkizKiBFsio+c+AH3xhJLT7Pi97DGhAwPsofRJjrnjE+s53wXWpUMz52+uxtVzQ1PoCPH0XQQjc+rUTQjFiEOT6jt3QD5P07PgbthFvhtD4+2JEaFKPXQD4+7CD5zXlCPgB5wkiHREQ+Qvtp9b07Rj5NplqawmNIPhg2avRQwUo+iAnlRZpZTT5TfTVeKBlQPl385PjZqFE+IU2kUU9fUz5XJr7eSkBVPlMp2W7sT1c+x2OTNrqSWT5bOOS+qg1cPjx6Ecovxl4+M+SQIyHhYD4c/AO3N4RiPqNZp5DzT2Q+ufdq2kVIZj6X2yGegXFoPhzEkkNl0Go+w2Q3+iRqbT7E4cISOyJwPrxra/LNsnE+9Ao2aTpqcz4tRuALRUx1PpWqH/wPXXc+nYRX+yOheT7mrpNeeh18PqKMofmH134+W1ufjKTqgD4T+lNTp46CPvjsr0hmW4Q+JUJoz9RUhj7UsT5hSH+IPo7maxKC34o+1CU9Abl6jT5G6WbkUiuQPm0E/4fHvJE+ycAbqCt1kz5NLx/5RViVPq8pHfE6apc+vyKu35WvmT48A4bnUi2cPqh4tO/p6J4+WOBJUi30oD55rF/RHJmiPlIZfXTfZqQ++Ndc2Gphpj5B+g7oFo2oPj7Yv2Wn7qo+0nQ3YFaLrT7qYgPWbzSwPgMkybzGxrE+g0vNESOAsz7I2kiqTWS1PtkV/lFtd7c+4Ewr6A++uT418MBeND28PtmrzLFV+r4+QA+Wd7v9wD7atnc0mKPCPo7QsRdfcsQ+x/RF+Qduxj4c/PI27ZrIPheHW0LV/co++W9qHP2bzT6WvXvqkT3QPlnw9JPL0NE+a3zEqSCL0z6cZi0jXHDVPnk48SKnhNc+RqZlGZLM2T57BU3JHk3cPq2ub0XLC98+KTiL/04H4T4Nm+5/Ga7iPjYR8zXlfeQ+5hMjNqx65j4Wdk1Sy6joPqiVDq0LDes+US0dO62s7T7uCLUkuUbwPmpYrxDW2vE+Vhp9cySW8z7vFp9ncXz1PnG2J2jokfc+P2j2dxzb+T7qqDUsEl38PlsmJrBKHf8+JGAy7ecQAT9Euhi3oLgCP67n59JxiQQ/b/H1kleHBj9/n4M+sbYIP6Zcq6pKHAs/XbyZwWa9DT9D9pWH5U8QP14VJzbm5BE/leJ0ci6hEz9BV3J7jYgVP3sR1SUxnxc/lmN5CK/pGT8vGImMDm0cP1HWe/fTLh8/L0KWQ4YaIT8YVkzdLcMiP1dvOfIElSQ/movCEwqUJj8BKv3/nsQoP3XsBkCSKys/yCcttSnOLT972QYWF1kwP4urjAf87jE/UIorqj6sMz+iu31isJQ1P3opL2CBrDc/CgKNz0n4OT9raljvE308P2Si/yBnQD8/LlDDBSokQT+YkeH1wM1CP7zTkpeeoEQ//yOPvMOgRj/HQiSblNJIP8EO+XHiOks/FXcnG/beTT/8qfHSTWJQPw==\",\"dtype\":\"float64\",\"order\":\"little\",\"shape\":[200]},\"y\":{\"__ndarray__\":\"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\",\"dtype\":\"float64\",\"order\":\"little\",\"shape\":[200]}},\"selected\":{\"id\":\"1537\"},\"selection_policy\":{\"id\":\"1538\"}},\"id\":\"1523\",\"type\":\"ColumnDataSource\"},{\"attributes\":{\"source\":{\"id\":\"1523\"}},\"id\":\"1527\",\"type\":\"CDSView\"},{\"attributes\":{\"line_color\":\"#1f77b4\",\"x\":{\"field\":\"x\"},\"y\":{\"field\":\"y\"}},\"id\":\"1524\",\"type\":\"Line\"},{\"attributes\":{\"items\":[{\"id\":\"1540\"},{\"id\":\"1559\"},{\"id\":\"1580\"},{\"id\":\"1603\"},{\"id\":\"1628\"},{\"id\":\"1655\"},{\"id\":\"1684\"},{\"id\":\"1715\"}]},\"id\":\"1539\",\"type\":\"Legend\"},{\"attributes\":{\"line_alpha\":0.1,\"line_color\":\"#1f77b4\",\"x\":{\"field\":\"x\"},\"y\":{\"field\":\"y\"}},\"id\":\"1525\",\"type\":\"Line\"},{\"attributes\":{\"label\":{\"value\":\"log_Kd_active=-8\"},\"renderers\":[{\"id\":\"1526\"}]},\"id\":\"1540\",\"type\":\"LegendItem\"},{\"attributes\":{\"data_source\":{\"id\":\"1541\"},\"glyph\":{\"id\":\"1542\"},\"hover_glyph\":null,\"muted_glyph\":null,\"nonselection_glyph\":{\"id\":\"1543\"},\"view\":{\"id\":\"1545\"}},\"id\":\"1544\",\"type\":\"GlyphRenderer\"},{\"attributes\":{},\"id\":\"1529\",\"type\":\"Title\"},{\"attributes\":{\"source\":{\"id\":\"1541\"}},\"id\":\"1545\",\"type\":\"CDSView\"},{\"attributes\":{\"data\":{\"x\":{\"__ndarray__\":\"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\",\"dtype\":\"float64\",\"order\":\"little\",\"shape\":[200]},\"y\":{\"__ndarray__\":\"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\",\"dtype\":\"float64\",\"order\":\"little\",\"shape\":[200]}},\"selected\":{\"id\":\"1557\"},\"selection_policy\":{\"id\":\"1558\"}},\"id\":\"1541\",\"type\":\"ColumnDataSource\"},{\"attributes\":{\"line_color\":\"#aec7e8\",\"x\":{\"field\":\"x\"},\"y\":{\"field\":\"y\"}},\"id\":\"1542\",\"type\":\"Line\"},{\"attributes\":{\"line_alpha\":0.1,\"line_color\":\"#aec7e8\",\"x\":{\"field\":\"x\"},\"y\":{\"field\":\"y\"}},\"id\":\"1543\",\"type\":\"Line\"},{\"attributes\":{\"overlay\":{\"id\":\"1515\"}},\"id\":\"1511\",\"type\":\"BoxZoomTool\"},{\"attributes\":{\"label\":{\"value\":\"log_Kd_active=-9\"},\"renderers\":[{\"id\":\"1544\"}]},\"id\":\"1559\",\"type\":\"LegendItem\"},{\"attributes\":{\"ticker\":null},\"id\":\"1530\",\"type\":\"LogTickFormatter\"},{\"attributes\":{\"axis\":{\"id\":\"1505\"},\"dimension\":1,\"ticker\":null},\"id\":\"1508\",\"type\":\"Grid\"},{\"attributes\":{},\"id\":\"1531\",\"type\":\"AllLabels\"},{\"attributes\":{},\"id\":\"1514\",\"type\":\"HelpTool\"},{\"attributes\":{},\"id\":\"1497\",\"type\":\"LogScale\"},{\"attributes\":{},\"id\":\"1533\",\"type\":\"BasicTickFormatter\"},{\"attributes\":{},\"id\":\"1510\",\"type\":\"WheelZoomTool\"},{\"attributes\":{},\"id\":\"1534\",\"type\":\"AllLabels\"},{\"attributes\":{\"num_minor_ticks\":10},\"id\":\"1502\",\"type\":\"LogTicker\"},{\"attributes\":{},\"id\":\"1493\",\"type\":\"DataRange1d\"},{\"attributes\":{},\"id\":\"1557\",\"type\":\"Selection\"},{\"attributes\":{},\"id\":\"1495\",\"type\":\"DataRange1d\"},{\"attributes\":{},\"id\":\"1558\",\"type\":\"UnionRenderers\"},{\"attributes\":{},\"id\":\"1499\",\"type\":\"LinearScale\"},{\"attributes\":{},\"id\":\"1509\",\"type\":\"PanTool\"},{\"attributes\":{\"source\":{\"id\":\"1560\"}},\"id\":\"1564\",\"type\":\"CDSView\"},{\"attributes\":{\"data_source\":{\"id\":\"1581\"},\"glyph\":{\"id\":\"1582\"},\"hover_glyph\":null,\"muted_glyph\":null,\"nonselection_glyph\":{\"id\":\"1583\"},\"view\":{\"id\":\"1585\"}},\"id\":\"1584\",\"type\":\"GlyphRenderer\"},{\"attributes\":{},\"id\":\"1506\",\"type\":\"BasicTicker\"},{\"attributes\":{\"axis_label\":\"[L-Quis]M\",\"formatter\":{\"id\":\"1530\"},\"major_label_policy\":{\"id\":\"1531\"},\"ticker\":{\"id\":\"1502\"}},\"id\":\"1501\",\"type\":\"LogAxis\"},{\"attributes\":{\"data\":{\"x\":{\"__ndarray__\":\"lWR54X/9pT0dBVMlex+oPaBSDj1qdqo9tjmy4W8HrT10DrBOLtivPUiq3s9pd7E9SzfcsBMpsz0exy+6zAS1PfRPwi6pDrc9lv7JmCJLuT21sl6cIb+7PWxl770IcL49RMkfGuCxwD1Rge9vYVDCPStGSUIWF8Q9cofzseQJxj2qlpetEy3IPfVZP1VUhco9tr7tRswXzT35h+3qIOrPPVawUexBgdE98vCLN+Az0z3y14hfpRDVPYdovvOnG9c9jp4EBGRZ2T29JbP4xM7bPY9uKV8wgd49DMc64Ui74D1Mcw3Vs1riPdecv+1oIuQ943+kflAW5j3CbIHfszroPUQZVtVGlOo9/BLD5DEo7T0qrLakHfzvPdyiHZUfi/E94H1V1LI+8z2u1BiyhBz1PUtttguuKPc9U/QTeK1n+T3ADVglcd77PXmEiKthkv499jDv9bbEAD7AyW8LDGUCPkRp6vrBLQQ+oSZ8S8MiBj5LH2K/W0gIPoliD8JBowo+2KhkwKA4DT4Se99AEgcQPq0FY80ClRE+YgWniotJEz68D6O1aigVPmIey3q7NRc+aT1/+f51GT5LFkUnJu4bPjSof6icox4+XS06WyrOID504F0Wam8iPh1vYm0hOSQ+aYxsHD0vJj5KtY1RC1YoPkizKiBFsio+c+AH3xhJLT7Pi97DGhAwPsofRJjrnjE+s53wXWpUMz52+uxtVzQ1PoCPH0XQQjc+rUTQjFiEOT6jt3QD5P07PgbthFvhtD4+2JEaFKPXQD4+7CD5zXlCPgB5wkiHREQ+Qvtp9b07Rj5NplqawmNIPhg2avRQwUo+iAnlRZpZTT5TfTVeKBlQPl385PjZqFE+IU2kUU9fUz5XJr7eSkBVPlMp2W7sT1c+x2OTNrqSWT5bOOS+qg1cPjx6Ecovxl4+M+SQIyHhYD4c/AO3N4RiPqNZp5DzT2Q+ufdq2kVIZj6X2yGegXFoPhzEkkNl0Go+w2Q3+iRqbT7E4cISOyJwPrxra/LNsnE+9Ao2aTpqcz4tRuALRUx1PpWqH/wPXXc+nYRX+yOheT7mrpNeeh18PqKMofmH134+W1ufjKTqgD4T+lNTp46CPvjsr0hmW4Q+JUJoz9RUhj7UsT5hSH+IPo7maxKC34o+1CU9Abl6jT5G6WbkUiuQPm0E/4fHvJE+ycAbqCt1kz5NLx/5RViVPq8pHfE6apc+vyKu35WvmT48A4bnUi2cPqh4tO/p6J4+WOBJUi30oD55rF/RHJmiPlIZfXTfZqQ++Ndc2Gphpj5B+g7oFo2oPj7Yv2Wn7qo+0nQ3YFaLrT7qYgPWbzSwPgMkybzGxrE+g0vNESOAsz7I2kiqTWS1PtkV/lFtd7c+4Ewr6A++uT418MBeND28PtmrzLFV+r4+QA+Wd7v9wD7atnc0mKPCPo7QsRdfcsQ+x/RF+Qduxj4c/PI27ZrIPheHW0LV/co++W9qHP2bzT6WvXvqkT3QPlnw9JPL0NE+a3zEqSCL0z6cZi0jXHDVPnk48SKnhNc+RqZlGZLM2T57BU3JHk3cPq2ub0XLC98+KTiL/04H4T4Nm+5/Ga7iPjYR8zXlfeQ+5hMjNqx65j4Wdk1Sy6joPqiVDq0LDes+US0dO62s7T7uCLUkuUbwPmpYrxDW2vE+Vhp9cySW8z7vFp9ncXz1PnG2J2jokfc+P2j2dxzb+T7qqDUsEl38PlsmJrBKHf8+JGAy7ecQAT9Euhi3oLgCP67n59JxiQQ/b/H1kleHBj9/n4M+sbYIP6Zcq6pKHAs/XbyZwWa9DT9D9pWH5U8QP14VJzbm5BE/leJ0ci6hEz9BV3J7jYgVP3sR1SUxnxc/lmN5CK/pGT8vGImMDm0cP1HWe/fTLh8/L0KWQ4YaIT8YVkzdLcMiP1dvOfIElSQ/movCEwqUJj8BKv3/nsQoP3XsBkCSKys/yCcttSnOLT972QYWF1kwP4urjAf87jE/UIorqj6sMz+iu31isJQ1P3opL2CBrDc/CgKNz0n4OT9raljvE308P2Si/yBnQD8/LlDDBSokQT+YkeH1wM1CP7zTkpeeoEQ//yOPvMOgRj/HQiSblNJIP8EO+XHiOks/FXcnG/beTT/8qfHSTWJQPw==\",\"dtype\":\"float64\",\"order\":\"little\",\"shape\":[200]},\"y\":{\"__ndarray__\":\"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\",\"dtype\":\"float64\",\"order\":\"little\",\"shape\":[200]}},\"selected\":{\"id\":\"1578\"},\"selection_policy\":{\"id\":\"1579\"}},\"id\":\"1560\",\"type\":\"ColumnDataSource\"},{\"attributes\":{\"line_color\":\"#ff7f0e\",\"x\":{\"field\":\"x\"},\"y\":{\"field\":\"y\"}},\"id\":\"1561\",\"type\":\"Line\"},{\"attributes\":{\"data_source\":{\"id\":\"1560\"},\"glyph\":{\"id\":\"1561\"},\"hover_glyph\":null,\"muted_glyph\":null,\"nonselection_glyph\":{\"id\":\"1562\"},\"view\":{\"id\":\"1564\"}},\"id\":\"1563\",\"type\":\"GlyphRenderer\"},{\"attributes\":{\"axis_label\":\"active_probability\",\"formatter\":{\"id\":\"1533\"},\"major_label_policy\":{\"id\":\"1534\"},\"ticker\":{\"id\":\"1506\"}},\"id\":\"1505\",\"type\":\"LinearAxis\"},{\"attributes\":{},\"id\":\"1513\",\"type\":\"ResetTool\"},{\"attributes\":{\"label\":{\"value\":\"log_Kd_active=-10\"},\"renderers\":[{\"id\":\"1563\"}]},\"id\":\"1580\",\"type\":\"LegendItem\"},{\"attributes\":{\"axis\":{\"id\":\"1501\"},\"ticker\":null},\"id\":\"1504\",\"type\":\"Grid\"},{\"attributes\":{},\"id\":\"1512\",\"type\":\"SaveTool\"},{\"attributes\":{\"line_alpha\":0.1,\"line_color\":\"#ff7f0e\",\"x\":{\"field\":\"x\"},\"y\":{\"field\":\"y\"}},\"id\":\"1562\",\"type\":\"Line\"},{\"attributes\":{\"active_multi\":null,\"tools\":[{\"id\":\"1509\"},{\"id\":\"1510\"},{\"id\":\"1511\"},{\"id\":\"1512\"},{\"id\":\"1513\"},{\"id\":\"1514\"}]},\"id\":\"1516\",\"type\":\"Toolbar\"}],\"root_ids\":[\"1492\"]},\"title\":\"Bokeh Application\",\"version\":\"2.3.3\"}};\n",
       "  var render_items = [{\"docid\":\"a3c7f015-874c-4d02-8e54-ab06e14e6c5c\",\"root_ids\":[\"1492\"],\"roots\":{\"1492\":\"1b829254-b5c6-47cd-9a9b-1bc1f4d404b7\"}}];\n",
       "  root.Bokeh.embed.embed_items_notebook(docs_json, render_items);\n",
       "\n",
       "  }\n",
       "  if (root.Bokeh !== undefined) {\n",
       "    embed_document(root);\n",
       "  } else {\n",
       "    var attempts = 0;\n",
       "    var timer = setInterval(function(root) {\n",
       "      if (root.Bokeh !== undefined) {\n",
       "        clearInterval(timer);\n",
       "        embed_document(root);\n",
       "      } else {\n",
       "        attempts++;\n",
       "        if (attempts > 100) {\n",
       "          clearInterval(timer);\n",
       "          console.log(\"Bokeh: ERROR: Unable to run BokehJS code because BokehJS library is missing\");\n",
       "        }\n",
       "      }\n",
       "    }, 10, root)\n",
       "  }\n",
       "})(window);"
      ],
      "application/vnd.bokehjs_exec.v0+json": ""
     },
     "metadata": {
      "application/vnd.bokehjs_exec.v0+json": {
       "id": "1492"
      }
     },
     "output_type": "display_data"
    }
   ],
   "source": [
    "#set up plot\n",
    "from bokeh.plotting import curdoc \n",
    "curdoc().clear()\n",
    "p = bokeh.plotting.figure(plot_height=600,\n",
    "                         plot_width=600,\n",
    "                         x_axis_label='[L-Quis]M',\n",
    "                          y_axis_label='active_probability',\n",
    "                          x_axis_type='log')\n",
    "\n",
    "colors=bokeh.palettes.d3['Category20'][20]\n",
    "\n",
    "ligand_smooth=np.logspace(-11,-3,200)\n",
    "\n",
    "for i,log_Kd_active in enumerate(range(-8,-16,-1)):    \n",
    "    p.line(ligand_smooth, agonist_only_p_active_theory(ligand_smooth, log_Kd_active, -7.7, -8), color=colors[i],legend_label='log_Kd_active='+str(log_Kd_active))\n",
    "\n",
    "\n",
    "bokeh.io.show(p);"
   ]
  },
  {
   "cell_type": "code",
   "execution_count": 78,
   "id": "f15df5c2",
   "metadata": {},
   "outputs": [
    {
     "data": {
      "text/html": [
       "\n",
       "\n",
       "\n",
       "\n",
       "\n",
       "\n",
       "  <div class=\"bk-root\" id=\"4ee06ccb-91f9-46c4-acd4-371ba43237cc\" data-root-id=\"9283\"></div>\n"
      ]
     },
     "metadata": {},
     "output_type": "display_data"
    },
    {
     "data": {
      "application/javascript": [
       "(function(root) {\n",
       "  function embed_document(root) {\n",
       "    \n",
       "  var docs_json = {\"d904cdde-294d-45f6-ae96-d279028a1776\":{\"defs\":[],\"roots\":{\"references\":[{\"attributes\":{\"below\":[{\"id\":\"9292\"}],\"center\":[{\"id\":\"9295\"},{\"id\":\"9299\"}],\"height\":300,\"left\":[{\"id\":\"9296\"}],\"renderers\":[{\"id\":\"9317\"},{\"id\":\"9322\"}],\"title\":{\"id\":\"9325\"},\"toolbar\":{\"id\":\"9307\"},\"x_range\":{\"id\":\"9284\"},\"x_scale\":{\"id\":\"9288\"},\"y_range\":{\"id\":\"9286\"},\"y_scale\":{\"id\":\"9290\"}},\"id\":\"9283\",\"subtype\":\"Figure\",\"type\":\"Plot\"},{\"attributes\":{\"axis\":{\"id\":\"9296\"},\"dimension\":1,\"ticker\":null},\"id\":\"9299\",\"type\":\"Grid\"},{\"attributes\":{},\"id\":\"9334\",\"type\":\"UnionRenderers\"},{\"attributes\":{\"num_minor_ticks\":10},\"id\":\"9293\",\"type\":\"LogTicker\"},{\"attributes\":{},\"id\":\"9329\",\"type\":\"BasicTickFormatter\"},{\"attributes\":{},\"id\":\"9333\",\"type\":\"Selection\"},{\"attributes\":{\"source\":{\"id\":\"9319\"}},\"id\":\"9323\",\"type\":\"CDSView\"},{\"attributes\":{\"line_color\":\"#1f77b4\",\"x\":{\"field\":\"x\"},\"y\":{\"field\":\"y\"}},\"id\":\"9315\",\"type\":\"Line\"},{\"attributes\":{\"fill_alpha\":{\"value\":0.1},\"fill_color\":{\"value\":\"#1f77b4\"},\"line_alpha\":{\"value\":0.1},\"line_color\":{\"value\":\"#1f77b4\"},\"size\":{\"value\":7},\"x\":{\"field\":\"x\"},\"y\":{\"field\":\"y\"}},\"id\":\"9321\",\"type\":\"Circle\"},{\"attributes\":{\"data\":{\"x\":{\"__ndarray__\":\"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\",\"dtype\":\"float64\",\"order\":\"little\",\"shape\":[200]},\"y\":{\"__ndarray__\":\"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\",\"dtype\":\"float64\",\"order\":\"little\",\"shape\":[200]}},\"selected\":{\"id\":\"9333\"},\"selection_policy\":{\"id\":\"9334\"}},\"id\":\"9314\",\"type\":\"ColumnDataSource\"},{\"attributes\":{\"active_multi\":null,\"tools\":[{\"id\":\"9300\"},{\"id\":\"9301\"},{\"id\":\"9302\"},{\"id\":\"9303\"},{\"id\":\"9304\"},{\"id\":\"9305\"}]},\"id\":\"9307\",\"type\":\"Toolbar\"},{\"attributes\":{\"axis\":{\"id\":\"9292\"},\"ticker\":null},\"id\":\"9295\",\"type\":\"Grid\"},{\"attributes\":{},\"id\":\"9305\",\"type\":\"HelpTool\"},{\"attributes\":{},\"id\":\"9301\",\"type\":\"WheelZoomTool\"},{\"attributes\":{\"fill_color\":{\"value\":\"#1f77b4\"},\"line_color\":{\"value\":\"#1f77b4\"},\"size\":{\"value\":7},\"x\":{\"field\":\"x\"},\"y\":{\"field\":\"y\"}},\"id\":\"9320\",\"type\":\"Circle\"},{\"attributes\":{},\"id\":\"9286\",\"type\":\"DataRange1d\"},{\"attributes\":{},\"id\":\"9330\",\"type\":\"AllLabels\"},{\"attributes\":{\"data_source\":{\"id\":\"9314\"},\"glyph\":{\"id\":\"9315\"},\"hover_glyph\":null,\"muted_glyph\":null,\"nonselection_glyph\":{\"id\":\"9316\"},\"view\":{\"id\":\"9318\"}},\"id\":\"9317\",\"type\":\"GlyphRenderer\"},{\"attributes\":{},\"id\":\"9304\",\"type\":\"ResetTool\"},{\"attributes\":{},\"id\":\"9303\",\"type\":\"SaveTool\"},{\"attributes\":{\"overlay\":{\"id\":\"9306\"}},\"id\":\"9302\",\"type\":\"BoxZoomTool\"},{\"attributes\":{},\"id\":\"9335\",\"type\":\"Selection\"},{\"attributes\":{},\"id\":\"9288\",\"type\":\"LogScale\"},{\"attributes\":{\"source\":{\"id\":\"9314\"}},\"id\":\"9318\",\"type\":\"CDSView\"},{\"attributes\":{},\"id\":\"9290\",\"type\":\"LinearScale\"},{\"attributes\":{\"data\":{\"x\":{\"__ndarray__\":\"je21oPfGsD7myhKghSCUPkivvJry13o+swgPgAQaYD46jDDijnlFPkp0fmY6wyk+ldYm6AsuET7jKWW4Lpz0PZVkeeF//aU9je21oPfGsD7myhKghSCUPkivvJry13o+swgPgAQaYD46jDDijnlFPkp0fmY6wyk+ldYm6AsuET7jKWW4Lpz0PZVkeeF//aU9je21oPfGsD7myhKghSCUPkivvJry13o+swgPgAQaYD46jDDijnlFPkp0fmY6wyk+ldYm6AsuET7jKWW4Lpz0PZVkeeF//aU9je21oPfGsD7myhKghSCUPkivvJry13o+swgPgAQaYD46jDDijnlFPkp0fmY6wyk+ldYm6AsuET7jKWW4Lpz0PZVkeeF//aU9je21oPfGsD7myhKghSCUPkivvJry13o+swgPgAQaYD46jDDijnlFPkp0fmY6wyk+ldYm6AsuET7jKWW4Lpz0PZVkeeF//aU9\",\"dtype\":\"float64\",\"order\":\"little\",\"shape\":[45]},\"y\":{\"__ndarray__\":\"UrgehetR6D8EOm2g0wbqP4Eutz/IUOk/BiBkqOww5T8h7g8yVHbYPxMREREREbE/WBvotIFOmz+sxQ5Tl9ufPw64mnhWNJI/j0UjAd+86j/JDzJUdpjqPy/5xZJfLOk/FCsaCfjm5T9pw9Tl9gfZPxMREREREbE/BXHBFmzBlj9YG+i0gU6bP6zFDlOX258/dHd3d3d35z8tlvxiyS/mP1hVVVVVVeU/gbHkF0t+4T8x0GkDnTbQP1gb6LSBTps/OxvotIFOiz9YG+i0gU6bP1gb6LSBTps/3cPU5fYH6T8Agy3Ygi3oP3R3d3d3d+c/vz7pkz7p4z/aAN+8mnjWP3sUrkfheqQ/WqmaeFY0cj+sxpp4VjSCP6zGmnhWNII/SsdxHMdx7D9MG+i0gU7rP7IEfPNq4uk/XAyVHaYu5z89BHzzauLZP6zFDlOX258/WqmaeFY0cj8AAAAAAAAAADsb6LSBTos/\",\"dtype\":\"float64\",\"order\":\"little\",\"shape\":[45]}},\"selected\":{\"id\":\"9335\"},\"selection_policy\":{\"id\":\"9336\"}},\"id\":\"9319\",\"type\":\"ColumnDataSource\"},{\"attributes\":{\"axis_label\":\"active_probability\",\"formatter\":{\"id\":\"9329\"},\"major_label_policy\":{\"id\":\"9330\"},\"ticker\":{\"id\":\"9297\"}},\"id\":\"9296\",\"type\":\"LinearAxis\"},{\"attributes\":{\"line_alpha\":0.1,\"line_color\":\"#1f77b4\",\"x\":{\"field\":\"x\"},\"y\":{\"field\":\"y\"}},\"id\":\"9316\",\"type\":\"Line\"},{\"attributes\":{},\"id\":\"9336\",\"type\":\"UnionRenderers\"},{\"attributes\":{},\"id\":\"9300\",\"type\":\"PanTool\"},{\"attributes\":{\"ticker\":null},\"id\":\"9326\",\"type\":\"LogTickFormatter\"},{\"attributes\":{},\"id\":\"9325\",\"type\":\"Title\"},{\"attributes\":{},\"id\":\"9297\",\"type\":\"BasicTicker\"},{\"attributes\":{\"data_source\":{\"id\":\"9319\"},\"glyph\":{\"id\":\"9320\"},\"hover_glyph\":null,\"muted_glyph\":null,\"nonselection_glyph\":{\"id\":\"9321\"},\"view\":{\"id\":\"9323\"}},\"id\":\"9322\",\"type\":\"GlyphRenderer\"},{\"attributes\":{\"bottom_units\":\"screen\",\"fill_alpha\":0.5,\"fill_color\":\"lightgrey\",\"left_units\":\"screen\",\"level\":\"overlay\",\"line_alpha\":1.0,\"line_color\":\"black\",\"line_dash\":[4,4],\"line_width\":2,\"right_units\":\"screen\",\"syncable\":false,\"top_units\":\"screen\"},\"id\":\"9306\",\"type\":\"BoxAnnotation\"},{\"attributes\":{},\"id\":\"9327\",\"type\":\"AllLabels\"},{\"attributes\":{\"axis_label\":\"[L-Quis] M\",\"formatter\":{\"id\":\"9326\"},\"major_label_policy\":{\"id\":\"9327\"},\"ticker\":{\"id\":\"9293\"}},\"id\":\"9292\",\"type\":\"LogAxis\"},{\"attributes\":{},\"id\":\"9284\",\"type\":\"DataRange1d\"}],\"root_ids\":[\"9283\"]},\"title\":\"Bokeh Application\",\"version\":\"2.3.3\"}};\n",
       "  var render_items = [{\"docid\":\"d904cdde-294d-45f6-ae96-d279028a1776\",\"root_ids\":[\"9283\"],\"roots\":{\"9283\":\"4ee06ccb-91f9-46c4-acd4-371ba43237cc\"}}];\n",
       "  root.Bokeh.embed.embed_items_notebook(docs_json, render_items);\n",
       "\n",
       "  }\n",
       "  if (root.Bokeh !== undefined) {\n",
       "    embed_document(root);\n",
       "  } else {\n",
       "    var attempts = 0;\n",
       "    var timer = setInterval(function(root) {\n",
       "      if (root.Bokeh !== undefined) {\n",
       "        clearInterval(timer);\n",
       "        embed_document(root);\n",
       "      } else {\n",
       "        attempts++;\n",
       "        if (attempts > 100) {\n",
       "          clearInterval(timer);\n",
       "          console.log(\"Bokeh: ERROR: Unable to run BokehJS code because BokehJS library is missing\");\n",
       "        }\n",
       "      }\n",
       "    }, 10, root)\n",
       "  }\n",
       "})(window);"
      ],
      "application/vnd.bokehjs_exec.v0+json": ""
     },
     "metadata": {
      "application/vnd.bokehjs_exec.v0+json": {
       "id": "9283"
      }
     },
     "output_type": "display_data"
    },
    {
     "name": "stdout",
     "output_type": "stream",
     "text": [
      "[-9.7814372 -7.7206871 -8.       ]\n"
     ]
    }
   ],
   "source": [
    "df = pd.read_excel('./L-quis_nomedia_curves.xlsx')\n",
    "\n",
    "\n",
    "\n",
    "#initial parameter for optimization\n",
    "p0 = np.array([-9,-7,-6])\n",
    "c, p_active = df['conc'].values, df['p_open'].values/100\n",
    "\n",
    "#optimize kd and energy difference to fit the data\n",
    "res = scipy.optimize.least_squares(resid, p0, args = (c,p_active), bounds=([-14,-14,-8],[-4,-4,np.inf]))\n",
    "\n",
    "curdoc().clear()\n",
    "p = bokeh.plotting.figure(plot_height=300,\n",
    "                         plot_width=600,\n",
    "                         x_axis_label='[L-Quis] M',\n",
    "                          y_axis_label='active_probability',\n",
    "                          x_axis_type='log')\n",
    "ligand_smooth=np.logspace(-11,-4,200)\n",
    "\n",
    "p.line(ligand_smooth, agonist_only_p_active_theory(ligand_smooth, res.x[0],res.x[1],res.x[2]))\n",
    "p.circle(c, p_active, size=7)\n",
    "\n",
    "bokeh.io.show(p);\n",
    "print(res.x)"
   ]
  },
  {
   "cell_type": "code",
   "execution_count": 64,
   "id": "b7d7f696",
   "metadata": {},
   "outputs": [
    {
     "data": {
      "text/html": [
       "<div>\n",
       "<style scoped>\n",
       "    .dataframe tbody tr th:only-of-type {\n",
       "        vertical-align: middle;\n",
       "    }\n",
       "\n",
       "    .dataframe tbody tr th {\n",
       "        vertical-align: top;\n",
       "    }\n",
       "\n",
       "    .dataframe thead th {\n",
       "        text-align: right;\n",
       "    }\n",
       "</style>\n",
       "<table border=\"1\" class=\"dataframe\">\n",
       "  <thead>\n",
       "    <tr style=\"text-align: right;\">\n",
       "      <th></th>\n",
       "      <th>conc</th>\n",
       "      <th>p_open</th>\n",
       "    </tr>\n",
       "  </thead>\n",
       "  <tbody>\n",
       "    <tr>\n",
       "      <th>0</th>\n",
       "      <td>5.000345e-05</td>\n",
       "      <td>24.000000</td>\n",
       "    </tr>\n",
       "    <tr>\n",
       "      <th>1</th>\n",
       "      <td>1.000000e-05</td>\n",
       "      <td>15.555556</td>\n",
       "    </tr>\n",
       "    <tr>\n",
       "      <th>2</th>\n",
       "      <td>1.999862e-06</td>\n",
       "      <td>6.666667</td>\n",
       "    </tr>\n",
       "    <tr>\n",
       "      <th>3</th>\n",
       "      <td>3.999447e-07</td>\n",
       "      <td>2.222222</td>\n",
       "    </tr>\n",
       "    <tr>\n",
       "      <th>4</th>\n",
       "      <td>7.998343e-08</td>\n",
       "      <td>1.777778</td>\n",
       "    </tr>\n",
       "    <tr>\n",
       "      <th>5</th>\n",
       "      <td>1.599558e-08</td>\n",
       "      <td>1.333333</td>\n",
       "    </tr>\n",
       "    <tr>\n",
       "      <th>6</th>\n",
       "      <td>3.198895e-09</td>\n",
       "      <td>2.222222</td>\n",
       "    </tr>\n",
       "  </tbody>\n",
       "</table>\n",
       "</div>"
      ],
      "text/plain": [
       "           conc     p_open\n",
       "0  5.000345e-05  24.000000\n",
       "1  1.000000e-05  15.555556\n",
       "2  1.999862e-06   6.666667\n",
       "3  3.999447e-07   2.222222\n",
       "4  7.998343e-08   1.777778\n",
       "5  1.599558e-08   1.333333\n",
       "6  3.198895e-09   2.222222"
      ]
     },
     "execution_count": 64,
     "metadata": {},
     "output_type": "execute_result"
    }
   ],
   "source": [
    "df_pam = pd.read_excel('./CDPPB_nomedia_curves.xlsx')\n",
    "df_pam[0:7]\n"
   ]
  },
  {
   "cell_type": "code",
   "execution_count": 70,
   "id": "3cc42a7a",
   "metadata": {},
   "outputs": [
    {
     "data": {
      "text/html": [
       "\n",
       "\n",
       "\n",
       "\n",
       "\n",
       "\n",
       "  <div class=\"bk-root\" id=\"d2742410-29c1-4496-92de-117a0ac5c021\" data-root-id=\"8926\"></div>\n"
      ]
     },
     "metadata": {},
     "output_type": "display_data"
    },
    {
     "data": {
      "application/javascript": [
       "(function(root) {\n",
       "  function embed_document(root) {\n",
       "    \n",
       "  var docs_json = {\"efd2b2c0-84d6-4a93-9b12-7c976fa67711\":{\"defs\":[],\"roots\":{\"references\":[{\"attributes\":{\"below\":[{\"id\":\"8935\"}],\"center\":[{\"id\":\"8938\"},{\"id\":\"8942\"}],\"height\":300,\"left\":[{\"id\":\"8939\"}],\"renderers\":[{\"id\":\"8960\"},{\"id\":\"8965\"}],\"title\":{\"id\":\"8968\"},\"toolbar\":{\"id\":\"8950\"},\"x_range\":{\"id\":\"8927\"},\"x_scale\":{\"id\":\"8931\"},\"y_range\":{\"id\":\"8929\"},\"y_scale\":{\"id\":\"8933\"}},\"id\":\"8926\",\"subtype\":\"Figure\",\"type\":\"Plot\"},{\"attributes\":{\"axis\":{\"id\":\"8939\"},\"dimension\":1,\"ticker\":null},\"id\":\"8942\",\"type\":\"Grid\"},{\"attributes\":{},\"id\":\"8940\",\"type\":\"BasicTicker\"},{\"attributes\":{},\"id\":\"8931\",\"type\":\"LogScale\"},{\"attributes\":{},\"id\":\"8944\",\"type\":\"WheelZoomTool\"},{\"attributes\":{},\"id\":\"8948\",\"type\":\"HelpTool\"},{\"attributes\":{\"overlay\":{\"id\":\"8949\"}},\"id\":\"8945\",\"type\":\"BoxZoomTool\"},{\"attributes\":{\"source\":{\"id\":\"8962\"}},\"id\":\"8966\",\"type\":\"CDSView\"},{\"attributes\":{\"data\":{\"x\":{\"__ndarray__\":\"JLxllFk3Cj/xaOOItfjkPrv2lrCrxsA+D4t/nP/Wmj4/4UdNa3h1PmFBquXULFE+iTxe2nF6Kz6VZHnhf/2lPSS8ZZRZNwo/8WjjiLX45D679pawq8bAPg+Lf5z/1po+P+FHTWt4dT5hQarl1CxRPok8Xtpxeis+lWR54X/9pT0kvGWUWTcKP/Fo44i1+OQ+u/aWsKvGwD4Pi3+c/9aaPj/hR01reHU+YUGq5dQsUT6JPF7acXorPpVkeeF//aU9JLxllFk3Cj/xaOOItfjkPrv2lrCrxsA+D4t/nP/Wmj4/4UdNa3h1PmFBquXULFE+iTxe2nF6Kz6VZHnhf/2lPSS8ZZRZNwo/8WjjiLX45D679pawq8bAPg+Lf5z/1po+P+FHTWt4dT5hQarl1CxRPok8Xtpxeis+lWR54X/9pT0=\",\"dtype\":\"float64\",\"order\":\"little\",\"shape\":[40]},\"y\":{\"__ndarray__\":\"uB6F61G4zj80P+mTPunDPxMREREREbE/BXHBFmzBlj8OuJp4VjSSPzsb6LSBTos/BXHBFmzBlj8OuJp4VjSSP65BhsoOU9c/ycdxHMdxzD/0xXEcx3G8PwVxwRZswZY/rMaaeFY0gj8OuJp4VjSSP6zGmnhWNII/rMUOU5fbnz8x0GkDnTbQPwUREREREcE/exSuR+F6pD8AAAAAAAAAADsb6LSBTos/OxvotIFOiz87G+i0gU6LP1gb6LSBTps/Y/1BhsoO0z/xF0t+seTHPwG/N68mnrU/rMaaeFY0gj8AAAAAAAAAAAAAAAAAAAAAAAAAAAAAAACsxpp4VjSCP7p782riWdE/0pJfLPnFwj8uxtTl9gepPwAAAAAAAAAAAAAAAAAAAAAAAAAAAAAAAAAAAAAAAAAAOxvotIFOiz8=\",\"dtype\":\"float64\",\"order\":\"little\",\"shape\":[40]}},\"selected\":{\"id\":\"8978\"},\"selection_policy\":{\"id\":\"8979\"}},\"id\":\"8962\",\"type\":\"ColumnDataSource\"},{\"attributes\":{},\"id\":\"8933\",\"type\":\"LinearScale\"},{\"attributes\":{},\"id\":\"8943\",\"type\":\"PanTool\"},{\"attributes\":{\"line_alpha\":0.1,\"line_color\":\"#1f77b4\",\"x\":{\"field\":\"x\"},\"y\":{\"field\":\"y\"}},\"id\":\"8959\",\"type\":\"Line\"},{\"attributes\":{},\"id\":\"8977\",\"type\":\"UnionRenderers\"},{\"attributes\":{\"source\":{\"id\":\"8957\"}},\"id\":\"8961\",\"type\":\"CDSView\"},{\"attributes\":{\"active_multi\":null,\"tools\":[{\"id\":\"8943\"},{\"id\":\"8944\"},{\"id\":\"8945\"},{\"id\":\"8946\"},{\"id\":\"8947\"},{\"id\":\"8948\"}]},\"id\":\"8950\",\"type\":\"Toolbar\"},{\"attributes\":{\"axis\":{\"id\":\"8935\"},\"ticker\":null},\"id\":\"8938\",\"type\":\"Grid\"},{\"attributes\":{\"fill_color\":{\"value\":\"#1f77b4\"},\"line_color\":{\"value\":\"#1f77b4\"},\"size\":{\"value\":7},\"x\":{\"field\":\"x\"},\"y\":{\"field\":\"y\"}},\"id\":\"8963\",\"type\":\"Circle\"},{\"attributes\":{\"data\":{\"x\":{\"__ndarray__\":\"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\",\"dtype\":\"float64\",\"order\":\"little\",\"shape\":[200]},\"y\":{\"__ndarray__\":\"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\",\"dtype\":\"float64\",\"order\":\"little\",\"shape\":[200]}},\"selected\":{\"id\":\"8976\"},\"selection_policy\":{\"id\":\"8977\"}},\"id\":\"8957\",\"type\":\"ColumnDataSource\"},{\"attributes\":{},\"id\":\"8929\",\"type\":\"DataRange1d\"},{\"attributes\":{\"line_color\":\"#1f77b4\",\"x\":{\"field\":\"x\"},\"y\":{\"field\":\"y\"}},\"id\":\"8958\",\"type\":\"Line\"},{\"attributes\":{},\"id\":\"8968\",\"type\":\"Title\"},{\"attributes\":{},\"id\":\"8976\",\"type\":\"Selection\"},{\"attributes\":{},\"id\":\"8973\",\"type\":\"AllLabels\"},{\"attributes\":{},\"id\":\"8927\",\"type\":\"DataRange1d\"},{\"attributes\":{\"axis_label\":\"[CDPPB] M\",\"formatter\":{\"id\":\"8969\"},\"major_label_policy\":{\"id\":\"8970\"},\"ticker\":{\"id\":\"8936\"}},\"id\":\"8935\",\"type\":\"LogAxis\"},{\"attributes\":{},\"id\":\"8979\",\"type\":\"UnionRenderers\"},{\"attributes\":{},\"id\":\"8972\",\"type\":\"BasicTickFormatter\"},{\"attributes\":{},\"id\":\"8970\",\"type\":\"AllLabels\"},{\"attributes\":{},\"id\":\"8978\",\"type\":\"Selection\"},{\"attributes\":{\"bottom_units\":\"screen\",\"fill_alpha\":0.5,\"fill_color\":\"lightgrey\",\"left_units\":\"screen\",\"level\":\"overlay\",\"line_alpha\":1.0,\"line_color\":\"black\",\"line_dash\":[4,4],\"line_width\":2,\"right_units\":\"screen\",\"syncable\":false,\"top_units\":\"screen\"},\"id\":\"8949\",\"type\":\"BoxAnnotation\"},{\"attributes\":{\"num_minor_ticks\":10},\"id\":\"8936\",\"type\":\"LogTicker\"},{\"attributes\":{\"data_source\":{\"id\":\"8962\"},\"glyph\":{\"id\":\"8963\"},\"hover_glyph\":null,\"muted_glyph\":null,\"nonselection_glyph\":{\"id\":\"8964\"},\"view\":{\"id\":\"8966\"}},\"id\":\"8965\",\"type\":\"GlyphRenderer\"},{\"attributes\":{\"axis_label\":\"active_probability\",\"formatter\":{\"id\":\"8972\"},\"major_label_policy\":{\"id\":\"8973\"},\"ticker\":{\"id\":\"8940\"}},\"id\":\"8939\",\"type\":\"LinearAxis\"},{\"attributes\":{},\"id\":\"8947\",\"type\":\"ResetTool\"},{\"attributes\":{\"ticker\":null},\"id\":\"8969\",\"type\":\"LogTickFormatter\"},{\"attributes\":{\"fill_alpha\":{\"value\":0.1},\"fill_color\":{\"value\":\"#1f77b4\"},\"line_alpha\":{\"value\":0.1},\"line_color\":{\"value\":\"#1f77b4\"},\"size\":{\"value\":7},\"x\":{\"field\":\"x\"},\"y\":{\"field\":\"y\"}},\"id\":\"8964\",\"type\":\"Circle\"},{\"attributes\":{\"data_source\":{\"id\":\"8957\"},\"glyph\":{\"id\":\"8958\"},\"hover_glyph\":null,\"muted_glyph\":null,\"nonselection_glyph\":{\"id\":\"8959\"},\"view\":{\"id\":\"8961\"}},\"id\":\"8960\",\"type\":\"GlyphRenderer\"},{\"attributes\":{},\"id\":\"8946\",\"type\":\"SaveTool\"}],\"root_ids\":[\"8926\"]},\"title\":\"Bokeh Application\",\"version\":\"2.3.3\"}};\n",
       "  var render_items = [{\"docid\":\"efd2b2c0-84d6-4a93-9b12-7c976fa67711\",\"root_ids\":[\"8926\"],\"roots\":{\"8926\":\"d2742410-29c1-4496-92de-117a0ac5c021\"}}];\n",
       "  root.Bokeh.embed.embed_items_notebook(docs_json, render_items);\n",
       "\n",
       "  }\n",
       "  if (root.Bokeh !== undefined) {\n",
       "    embed_document(root);\n",
       "  } else {\n",
       "    var attempts = 0;\n",
       "    var timer = setInterval(function(root) {\n",
       "      if (root.Bokeh !== undefined) {\n",
       "        clearInterval(timer);\n",
       "        embed_document(root);\n",
       "      } else {\n",
       "        attempts++;\n",
       "        if (attempts > 100) {\n",
       "          clearInterval(timer);\n",
       "          console.log(\"Bokeh: ERROR: Unable to run BokehJS code because BokehJS library is missing\");\n",
       "        }\n",
       "      }\n",
       "    }, 10, root)\n",
       "  }\n",
       "})(window);"
      ],
      "application/vnd.bokehjs_exec.v0+json": ""
     },
     "metadata": {
      "application/vnd.bokehjs_exec.v0+json": {
       "id": "8926"
      }
     },
     "output_type": "display_data"
    },
    {
     "name": "stdout",
     "output_type": "stream",
     "text": [
      "[-8.03944723 -4.86304141 -8.        ]\n"
     ]
    }
   ],
   "source": [
    "df_pam = pd.read_excel('./CDPPB_nomedia_curves.xlsx')\n",
    "\n",
    "\n",
    "#initial parameter for optimization\n",
    "p0 = np.array([-4,-3,-8])\n",
    "c_pam, p_active_pam = df_pam['conc'].values, df_pam['p_open'].values/100\n",
    "\n",
    "#optimize kd and energy difference to fit the data\n",
    "res_pam = scipy.optimize.least_squares(resid_PAM, p0, args = (c_pam,p_active_pam))\n",
    "\n",
    "curdoc().clear()\n",
    "p = bokeh.plotting.figure(plot_height=300,\n",
    "                         plot_width=600,\n",
    "                         x_axis_label='[CDPPB] M',\n",
    "                          y_axis_label='active_probability',\n",
    "                          x_axis_type='log')\n",
    "\n",
    "\n",
    "ligand_smooth=np.logspace(-8,-2,200)\n",
    "p.line(ligand_smooth, PAM_only_p_active_theory(ligand_smooth, -8,-4.8,-8))\n",
    "p.circle(c_pam, p_active_pam, size=7)\n",
    "\n",
    "bokeh.io.show(p);\n",
    "print(res_pam.x)"
   ]
  },
  {
   "cell_type": "code",
   "execution_count": 75,
   "id": "d5c943c0",
   "metadata": {},
   "outputs": [],
   "source": [
    "def both_p_active_theory(c_agonist, c_pam, log_Ka, log_Ki, log_Kpa, log_Kpi):\n",
    "    \"theoretical curve for mglur5 active probability\"\n",
    "    beta_deltaE = -8\n",
    "    Ka = 10**log_Ka\n",
    "    Ki = 10**log_Ki\n",
    "    Kpa = 10**log_Kpa\n",
    "    Kpi = 10**log_Kpi\n",
    "    \n",
    "    a = (1 + c_agonist/Ka)**2\n",
    "\n",
    "    b = (1 + c_agonist/Ki)**2\n",
    "    \n",
    "    c = (1 + c_pam/Kpa)\n",
    "\n",
    "    d = (1 + c_pam/Kpi)\n",
    "\n",
    "    return a*c/(a*c+b*d*np.exp(-beta_deltaE))\n",
    "\n",
    "def both_resid(PAM_param, log_Ka, log_Ki, c_agonist, c_pam, p_active):\n",
    "    return p_active - both_p_active_theory(c_agonist, c_pam, log_Ka, log_Ki, *PAM_param)"
   ]
  },
  {
   "cell_type": "code",
   "execution_count": null,
   "id": "3cf3a260",
   "metadata": {},
   "outputs": [],
   "source": []
  },
  {
   "cell_type": "code",
   "execution_count": 79,
   "id": "06031cc5",
   "metadata": {},
   "outputs": [
    {
     "data": {
      "text/html": [
       "\n",
       "\n",
       "\n",
       "\n",
       "\n",
       "\n",
       "  <div class=\"bk-root\" id=\"618fe1b2-f5b7-46ec-8e47-f76ee8345396\" data-root-id=\"9402\"></div>\n"
      ]
     },
     "metadata": {},
     "output_type": "display_data"
    },
    {
     "data": {
      "application/javascript": [
       "(function(root) {\n",
       "  function embed_document(root) {\n",
       "    \n",
       "  var docs_json = {\"bc64fd38-5be7-4175-9d5e-5770249b1ed0\":{\"defs\":[],\"roots\":{\"references\":[{\"attributes\":{\"below\":[{\"id\":\"9411\"}],\"center\":[{\"id\":\"9414\"},{\"id\":\"9418\"}],\"height\":300,\"left\":[{\"id\":\"9415\"}],\"renderers\":[{\"id\":\"9436\"},{\"id\":\"9441\"}],\"title\":{\"id\":\"9444\"},\"toolbar\":{\"id\":\"9426\"},\"x_range\":{\"id\":\"9403\"},\"x_scale\":{\"id\":\"9407\"},\"y_range\":{\"id\":\"9405\"},\"y_scale\":{\"id\":\"9409\"}},\"id\":\"9402\",\"subtype\":\"Figure\",\"type\":\"Plot\"},{\"attributes\":{},\"id\":\"9444\",\"type\":\"Title\"},{\"attributes\":{\"data_source\":{\"id\":\"9438\"},\"glyph\":{\"id\":\"9439\"},\"hover_glyph\":null,\"muted_glyph\":null,\"nonselection_glyph\":{\"id\":\"9440\"},\"view\":{\"id\":\"9442\"}},\"id\":\"9441\",\"type\":\"GlyphRenderer\"},{\"attributes\":{\"data_source\":{\"id\":\"9433\"},\"glyph\":{\"id\":\"9434\"},\"hover_glyph\":null,\"muted_glyph\":null,\"nonselection_glyph\":{\"id\":\"9435\"},\"view\":{\"id\":\"9437\"}},\"id\":\"9436\",\"type\":\"GlyphRenderer\"},{\"attributes\":{},\"id\":\"9403\",\"type\":\"DataRange1d\"},{\"attributes\":{},\"id\":\"9449\",\"type\":\"AllLabels\"},{\"attributes\":{\"line_color\":\"#1f77b4\",\"x\":{\"field\":\"x\"},\"y\":{\"field\":\"y\"}},\"id\":\"9434\",\"type\":\"Line\"},{\"attributes\":{},\"id\":\"9452\",\"type\":\"Selection\"},{\"attributes\":{},\"id\":\"9454\",\"type\":\"Selection\"},{\"attributes\":{\"ticker\":null},\"id\":\"9445\",\"type\":\"LogTickFormatter\"},{\"attributes\":{\"source\":{\"id\":\"9438\"}},\"id\":\"9442\",\"type\":\"CDSView\"},{\"attributes\":{\"axis\":{\"id\":\"9411\"},\"ticker\":null},\"id\":\"9414\",\"type\":\"Grid\"},{\"attributes\":{\"data\":{\"x\":{\"__ndarray__\":\"UW0C9PUhhD5Se2Oa8tdqPquKmykrG1A+bi/p4Y55NT4JESzcEcUZPoa/7ecLLgE+AXRW46ed5D2VZHnhf/2lPVFtAvT1IYQ+UntjmvLXaj6ripspKxtQPm4v6eGOeTU+CREs3BHFGT6Gv+3nCy4BPgF0VuOnneQ9lWR54X/9pT1RbQL09SGEPlJ7Y5ry12o+q4qbKSsbUD5uL+nhjnk1PgkRLNwRxRk+hr/t5wsuAT4BdFbjp53kPZVkeeF//aU9UW0C9PUhhD5Se2Oa8tdqPquKmykrG1A+bi/p4Y55NT4JESzcEcUZPoa/7ecLLgE+AXRW46ed5D2VZHnhf/2lPVFtAvT1IYQ+UntjmvLXaj6ripspKxtQPm4v6eGOeTU+CREs3BHFGT6Gv+3nCy4BPgF0VuOnneQ9lWR54X/9pT0=\",\"dtype\":\"float64\",\"order\":\"little\",\"shape\":[40]},\"y\":{\"__ndarray__\":\"5TFUdpi67D8OjuM4juPoP4wFW7AFW+A/BRERERERwT9aqZp4VjRyPwAAAAAAAAAAAAAAAAAAAAClGui0gU57P04B37yaeOY/Y6nL7Q8y5D+xsAVbsAXbP2nC1OX2B7k/WqmaeFY0cj8AAAAAAAAAAFqpmnhWNHI/AAAAAAAAAABOAd+8mnjmP78+6ZM+6eM/btpApw102j8qdPuDDJW9PwAAAAAAAAAAAAAAAAAAAAAAAAAAAAAAAAAAAAAAAAAA8mvBFmzB5j/NSZ/0SZ/kP/iFyg5Tl9s/4G5eTTwryj/9zA5Tl9uvPzsb6LSBTos/WqmaeFY0cj87G+i0gU6LPwCDLdiCLeg/w/UoXI/C5T8UtKKRgG/eP93AN68mnsU/DriaeFY0kj8AAAAAAAAAAAAAAAAAAAAAOxvotIFOiz8=\",\"dtype\":\"float64\",\"order\":\"little\",\"shape\":[40]}},\"selected\":{\"id\":\"9454\"},\"selection_policy\":{\"id\":\"9455\"}},\"id\":\"9438\",\"type\":\"ColumnDataSource\"},{\"attributes\":{\"bottom_units\":\"screen\",\"fill_alpha\":0.5,\"fill_color\":\"lightgrey\",\"left_units\":\"screen\",\"level\":\"overlay\",\"line_alpha\":1.0,\"line_color\":\"black\",\"line_dash\":[4,4],\"line_width\":2,\"right_units\":\"screen\",\"syncable\":false,\"top_units\":\"screen\"},\"id\":\"9425\",\"type\":\"BoxAnnotation\"},{\"attributes\":{\"axis\":{\"id\":\"9415\"},\"dimension\":1,\"ticker\":null},\"id\":\"9418\",\"type\":\"Grid\"},{\"attributes\":{},\"id\":\"9448\",\"type\":\"BasicTickFormatter\"},{\"attributes\":{\"line_alpha\":0.1,\"line_color\":\"#1f77b4\",\"x\":{\"field\":\"x\"},\"y\":{\"field\":\"y\"}},\"id\":\"9435\",\"type\":\"Line\"},{\"attributes\":{\"fill_color\":{\"value\":\"#1f77b4\"},\"line_color\":{\"value\":\"#1f77b4\"},\"size\":{\"value\":7},\"x\":{\"field\":\"x\"},\"y\":{\"field\":\"y\"}},\"id\":\"9439\",\"type\":\"Circle\"},{\"attributes\":{},\"id\":\"9453\",\"type\":\"UnionRenderers\"},{\"attributes\":{},\"id\":\"9419\",\"type\":\"PanTool\"},{\"attributes\":{},\"id\":\"9455\",\"type\":\"UnionRenderers\"},{\"attributes\":{},\"id\":\"9407\",\"type\":\"LogScale\"},{\"attributes\":{},\"id\":\"9420\",\"type\":\"WheelZoomTool\"},{\"attributes\":{\"source\":{\"id\":\"9433\"}},\"id\":\"9437\",\"type\":\"CDSView\"},{\"attributes\":{\"axis_label\":\"active_probability\",\"formatter\":{\"id\":\"9448\"},\"major_label_policy\":{\"id\":\"9449\"},\"ticker\":{\"id\":\"9416\"}},\"id\":\"9415\",\"type\":\"LinearAxis\"},{\"attributes\":{\"overlay\":{\"id\":\"9425\"}},\"id\":\"9421\",\"type\":\"BoxZoomTool\"},{\"attributes\":{\"axis_label\":\"[L-QUIS] M\",\"formatter\":{\"id\":\"9445\"},\"major_label_policy\":{\"id\":\"9446\"},\"ticker\":{\"id\":\"9412\"}},\"id\":\"9411\",\"type\":\"LogAxis\"},{\"attributes\":{},\"id\":\"9422\",\"type\":\"SaveTool\"},{\"attributes\":{},\"id\":\"9423\",\"type\":\"ResetTool\"},{\"attributes\":{},\"id\":\"9446\",\"type\":\"AllLabels\"},{\"attributes\":{\"fill_alpha\":{\"value\":0.1},\"fill_color\":{\"value\":\"#1f77b4\"},\"line_alpha\":{\"value\":0.1},\"line_color\":{\"value\":\"#1f77b4\"},\"size\":{\"value\":7},\"x\":{\"field\":\"x\"},\"y\":{\"field\":\"y\"}},\"id\":\"9440\",\"type\":\"Circle\"},{\"attributes\":{},\"id\":\"9405\",\"type\":\"DataRange1d\"},{\"attributes\":{},\"id\":\"9424\",\"type\":\"HelpTool\"},{\"attributes\":{},\"id\":\"9416\",\"type\":\"BasicTicker\"},{\"attributes\":{\"data\":{\"x\":{\"__ndarray__\":\"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\",\"dtype\":\"float64\",\"order\":\"little\",\"shape\":[200]},\"y\":{\"__ndarray__\":\"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\",\"dtype\":\"float64\",\"order\":\"little\",\"shape\":[200]}},\"selected\":{\"id\":\"9452\"},\"selection_policy\":{\"id\":\"9453\"}},\"id\":\"9433\",\"type\":\"ColumnDataSource\"},{\"attributes\":{\"num_minor_ticks\":10},\"id\":\"9412\",\"type\":\"LogTicker\"},{\"attributes\":{},\"id\":\"9409\",\"type\":\"LinearScale\"},{\"attributes\":{\"active_multi\":null,\"tools\":[{\"id\":\"9419\"},{\"id\":\"9420\"},{\"id\":\"9421\"},{\"id\":\"9422\"},{\"id\":\"9423\"},{\"id\":\"9424\"}]},\"id\":\"9426\",\"type\":\"Toolbar\"}],\"root_ids\":[\"9402\"]},\"title\":\"Bokeh Application\",\"version\":\"2.3.3\"}};\n",
       "  var render_items = [{\"docid\":\"bc64fd38-5be7-4175-9d5e-5770249b1ed0\",\"root_ids\":[\"9402\"],\"roots\":{\"9402\":\"618fe1b2-f5b7-46ec-8e47-f76ee8345396\"}}];\n",
       "  root.Bokeh.embed.embed_items_notebook(docs_json, render_items);\n",
       "\n",
       "  }\n",
       "  if (root.Bokeh !== undefined) {\n",
       "    embed_document(root);\n",
       "  } else {\n",
       "    var attempts = 0;\n",
       "    var timer = setInterval(function(root) {\n",
       "      if (root.Bokeh !== undefined) {\n",
       "        clearInterval(timer);\n",
       "        embed_document(root);\n",
       "      } else {\n",
       "        attempts++;\n",
       "        if (attempts > 100) {\n",
       "          clearInterval(timer);\n",
       "          console.log(\"Bokeh: ERROR: Unable to run BokehJS code because BokehJS library is missing\");\n",
       "        }\n",
       "      }\n",
       "    }, 10, root)\n",
       "  }\n",
       "})(window);"
      ],
      "application/vnd.bokehjs_exec.v0+json": ""
     },
     "metadata": {
      "application/vnd.bokehjs_exec.v0+json": {
       "id": "9402"
      }
     },
     "output_type": "display_data"
    },
    {
     "name": "stdout",
     "output_type": "stream",
     "text": [
      "[11.24362676  4.84102654]\n"
     ]
    }
   ],
   "source": [
    "df_both = pd.read_excel('./L-quis+CDPPB.xlsx')\n",
    "\n",
    "\n",
    "#initial parameter for optimization\n",
    "p0 = np.array([-8,-4])\n",
    "c_agonist, p_active_both = df_both['conc'].values, df_both[400].values/100\n",
    "\n",
    "#optimize kd and energy difference to fit the data\n",
    "res_pam = scipy.optimize.least_squares(both_resid, p0, args = (res.x[0],res.x[1],c_agonist,4e-7, p_active_pam))\n",
    "\n",
    "curdoc().clear()\n",
    "p = bokeh.plotting.figure(plot_height=300,\n",
    "                         plot_width=600,\n",
    "                         x_axis_label='[L-QUIS] M',\n",
    "                          y_axis_label='active_probability',\n",
    "                          x_axis_type='log')\n",
    "\n",
    "\n",
    "ligand_smooth=np.logspace(-11,-6,200)\n",
    "\n",
    "p.line(ligand_smooth, both_p_active_theory(ligand_smooth, 4e-7,res.x[0], res.x[1], res_pam.x[0],res_pam.x[1]))\n",
    "p.circle(c_agonist, p_active_both, size=7)\n",
    "\n",
    "bokeh.io.show(p);\n",
    "print(res_pam.x)"
   ]
  },
  {
   "cell_type": "code",
   "execution_count": 24,
   "id": "04b8f1d9",
   "metadata": {},
   "outputs": [
    {
     "data": {
      "text/html": [
       "\n",
       "\n",
       "\n",
       "\n",
       "\n",
       "\n",
       "  <div class=\"bk-root\" id=\"c97a7140-5a6a-49d3-89dd-393e9953223b\" data-root-id=\"3634\"></div>\n"
      ]
     },
     "metadata": {},
     "output_type": "display_data"
    },
    {
     "data": {
      "application/javascript": [
       "(function(root) {\n",
       "  function embed_document(root) {\n",
       "    \n",
       "  var docs_json = {\"0b9c1cb3-e547-4362-9319-09cfa52b1652\":{\"defs\":[],\"roots\":{\"references\":[{\"attributes\":{\"below\":[{\"id\":\"3643\"}],\"center\":[{\"id\":\"3646\"},{\"id\":\"3650\"},{\"id\":\"3681\"}],\"height\":300,\"left\":[{\"id\":\"3647\"}],\"renderers\":[{\"id\":\"3668\"},{\"id\":\"3686\"},{\"id\":\"3691\"},{\"id\":\"3712\"},{\"id\":\"3717\"},{\"id\":\"3742\"},{\"id\":\"3747\"},{\"id\":\"3776\"}],\"title\":{\"id\":\"3671\"},\"toolbar\":{\"id\":\"3658\"},\"x_range\":{\"id\":\"3635\"},\"x_scale\":{\"id\":\"3639\"},\"y_range\":{\"id\":\"3637\"},\"y_scale\":{\"id\":\"3641\"}},\"id\":\"3634\",\"subtype\":\"Figure\",\"type\":\"Plot\"},{\"attributes\":{\"axis_label\":\"[L-Quis] M\",\"formatter\":{\"id\":\"3672\"},\"major_label_policy\":{\"id\":\"3673\"},\"ticker\":{\"id\":\"3644\"}},\"id\":\"3643\",\"type\":\"LogAxis\"},{\"attributes\":{},\"id\":\"3704\",\"type\":\"Selection\"},{\"attributes\":{},\"id\":\"3736\",\"type\":\"Selection\"},{\"attributes\":{\"line_color\":\"#2ca02c\",\"x\":{\"field\":\"x\"},\"y\":{\"field\":\"y\"}},\"id\":\"3740\",\"type\":\"Line\"},{\"attributes\":{\"line_color\":\"#1f77b4\",\"x\":{\"field\":\"x\"},\"y\":{\"field\":\"y\"}},\"id\":\"3684\",\"type\":\"Line\"},{\"attributes\":{\"line_alpha\":0.1,\"line_color\":\"#2ca02c\",\"x\":{\"field\":\"x\"},\"y\":{\"field\":\"y\"}},\"id\":\"3741\",\"type\":\"Line\"},{\"attributes\":{},\"id\":\"3654\",\"type\":\"SaveTool\"},{\"attributes\":{\"fill_color\":{\"value\":\"#d62728\"},\"line_color\":{\"value\":\"#d62728\"},\"size\":{\"value\":7},\"x\":{\"field\":\"x\"},\"y\":{\"field\":\"y\"}},\"id\":\"3745\",\"type\":\"Circle\"},{\"attributes\":{\"axis\":{\"id\":\"3643\"},\"ticker\":null},\"id\":\"3646\",\"type\":\"Grid\"},{\"attributes\":{\"data_source\":{\"id\":\"3739\"},\"glyph\":{\"id\":\"3740\"},\"hover_glyph\":null,\"muted_glyph\":null,\"nonselection_glyph\":{\"id\":\"3741\"},\"view\":{\"id\":\"3743\"}},\"id\":\"3742\",\"type\":\"GlyphRenderer\"},{\"attributes\":{},\"id\":\"3671\",\"type\":\"Title\"},{\"attributes\":{},\"id\":\"3679\",\"type\":\"Selection\"},{\"attributes\":{\"items\":[{\"id\":\"3682\"},{\"id\":\"3708\"},{\"id\":\"3738\"},{\"id\":\"3772\"}]},\"id\":\"3681\",\"type\":\"Legend\"},{\"attributes\":{},\"id\":\"3655\",\"type\":\"ResetTool\"},{\"attributes\":{\"label\":{\"value\":\"CDDPB conc: 0nM\"},\"renderers\":[{\"id\":\"3668\"}]},\"id\":\"3682\",\"type\":\"LegendItem\"},{\"attributes\":{\"fill_alpha\":{\"value\":0.1},\"fill_color\":{\"value\":\"#d62728\"},\"line_alpha\":{\"value\":0.1},\"line_color\":{\"value\":\"#d62728\"},\"size\":{\"value\":7},\"x\":{\"field\":\"x\"},\"y\":{\"field\":\"y\"}},\"id\":\"3746\",\"type\":\"Circle\"},{\"attributes\":{\"fill_color\":{\"value\":\"#ff7f0e\"},\"line_color\":{\"value\":\"#ff7f0e\"},\"size\":{\"value\":7},\"x\":{\"field\":\"x\"},\"y\":{\"field\":\"y\"}},\"id\":\"3689\",\"type\":\"Circle\"},{\"attributes\":{\"overlay\":{\"id\":\"3657\"}},\"id\":\"3653\",\"type\":\"BoxZoomTool\"},{\"attributes\":{\"source\":{\"id\":\"3739\"}},\"id\":\"3743\",\"type\":\"CDSView\"},{\"attributes\":{\"fill_alpha\":{\"value\":0.1},\"fill_color\":{\"value\":\"#ff7f0e\"},\"line_alpha\":{\"value\":0.1},\"line_color\":{\"value\":\"#ff7f0e\"},\"size\":{\"value\":7},\"x\":{\"field\":\"x\"},\"y\":{\"field\":\"y\"}},\"id\":\"3690\",\"type\":\"Circle\"},{\"attributes\":{},\"id\":\"3675\",\"type\":\"BasicTickFormatter\"},{\"attributes\":{\"data\":{\"x\":{\"__ndarray__\":\"UW0C9PUhhD5Se2Oa8tdqPquKmykrG1A+bi/p4Y55NT4JESzcEcUZPoa/7ecLLgE+AXRW46ed5D2VZHnhf/2lPVFtAvT1IYQ+UntjmvLXaj6ripspKxtQPm4v6eGOeTU+CREs3BHFGT6Gv+3nCy4BPgF0VuOnneQ9lWR54X/9pT1RbQL09SGEPlJ7Y5ry12o+q4qbKSsbUD5uL+nhjnk1PgkRLNwRxRk+hr/t5wsuAT4BdFbjp53kPZVkeeF//aU9UW0C9PUhhD5Se2Oa8tdqPquKmykrG1A+bi/p4Y55NT4JESzcEcUZPoa/7ecLLgE+AXRW46ed5D2VZHnhf/2lPVFtAvT1IYQ+UntjmvLXaj6ripspKxtQPm4v6eGOeTU+CREs3BHFGT6Gv+3nCy4BPgF0VuOnneQ9lWR54X/9pT0=\",\"dtype\":\"float64\",\"order\":\"little\",\"shape\":[40]},\"y\":{\"__ndarray__\":\"Bp020GkD7T/szopGAr7pP+n0SZ/0Sd8/9MVxHMdxvD8AAAAAAAAAAAAAAAAAAAAAWqmaeFY0cj8AAAAAAAAAAMasaCTgm+c/ccA3ryae5T8SRSMB37zaP+1pJOCbV7M/AAAAAAAAAAAAAAAAAAAAAAAAAAAAAAAAAAAAAAAAAADD9Shcj8LlP+8I+ObVxOM/EkUjAd+82j/taSTgm1ezP1qpmnhWNHI/WqmaeFY0cj8AAAAAAAAAAKzGmnhWNII/LZb8Yskv5j/vCPjm1cTjP8VY8oslv9g/Ab83ryaetT8AAAAAAAAAAFqpmnhWNHI/WqmaeFY0cj8AAAAAAAAAAAQ6baDTBuo/dHd3d3d35z+NXyz5xZLfPyp0+4MMlb0/rMaaeFY0gj9aqZp4VjRyP1qpmnhWNHI/OxvotIFOiz8=\",\"dtype\":\"float64\",\"order\":\"little\",\"shape\":[40]}},\"selected\":{\"id\":\"3679\"},\"selection_policy\":{\"id\":\"3680\"}},\"id\":\"3665\",\"type\":\"ColumnDataSource\"},{\"attributes\":{\"data\":{\"x\":{\"__ndarray__\":\"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\",\"dtype\":\"float64\",\"order\":\"little\",\"shape\":[200]},\"y\":{\"__ndarray__\":\"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\",\"dtype\":\"float64\",\"order\":\"little\",\"shape\":[200]}},\"selected\":{\"id\":\"3801\"},\"selection_policy\":{\"id\":\"3802\"}},\"id\":\"3773\",\"type\":\"ColumnDataSource\"},{\"attributes\":{\"source\":{\"id\":\"3773\"}},\"id\":\"3777\",\"type\":\"CDSView\"},{\"attributes\":{\"fill_alpha\":{\"value\":0.1},\"fill_color\":{\"value\":\"#1f77b4\"},\"line_alpha\":{\"value\":0.1},\"line_color\":{\"value\":\"#1f77b4\"},\"size\":{\"value\":7},\"x\":{\"field\":\"x\"},\"y\":{\"field\":\"y\"}},\"id\":\"3667\",\"type\":\"Circle\"},{\"attributes\":{\"data_source\":{\"id\":\"3665\"},\"glyph\":{\"id\":\"3666\"},\"hover_glyph\":null,\"muted_glyph\":null,\"nonselection_glyph\":{\"id\":\"3667\"},\"view\":{\"id\":\"3669\"}},\"id\":\"3668\",\"type\":\"GlyphRenderer\"},{\"attributes\":{\"data_source\":{\"id\":\"3773\"},\"glyph\":{\"id\":\"3774\"},\"hover_glyph\":null,\"muted_glyph\":null,\"nonselection_glyph\":{\"id\":\"3775\"},\"view\":{\"id\":\"3777\"}},\"id\":\"3776\",\"type\":\"GlyphRenderer\"},{\"attributes\":{},\"id\":\"3651\",\"type\":\"PanTool\"},{\"attributes\":{\"num_minor_ticks\":10},\"id\":\"3644\",\"type\":\"LogTicker\"},{\"attributes\":{},\"id\":\"3641\",\"type\":\"LinearScale\"},{\"attributes\":{},\"id\":\"3673\",\"type\":\"AllLabels\"},{\"attributes\":{\"line_color\":\"#d62728\",\"x\":{\"field\":\"x\"},\"y\":{\"field\":\"y\"}},\"id\":\"3774\",\"type\":\"Line\"},{\"attributes\":{\"data\":{\"x\":{\"__ndarray__\":\"UW0C9PUhhD5Se2Oa8tdqPquKmykrG1A+bi/p4Y55NT4JESzcEcUZPoa/7ecLLgE+AXRW46ed5D2VZHnhf/2lPVFtAvT1IYQ+UntjmvLXaj6ripspKxtQPm4v6eGOeTU+CREs3BHFGT6Gv+3nCy4BPgF0VuOnneQ9lWR54X/9pT1RbQL09SGEPlJ7Y5ry12o+q4qbKSsbUD5uL+nhjnk1PgkRLNwRxRk+hr/t5wsuAT4BdFbjp53kPZVkeeF//aU9UW0C9PUhhD5Se2Oa8tdqPquKmykrG1A+bi/p4Y55NT4JESzcEcUZPoa/7ecLLgE+AXRW46ed5D2VZHnhf/2lPVFtAvT1IYQ+UntjmvLXaj6ripspKxtQPm4v6eGOeTU+CREs3BHFGT6Gv+3nCy4BPgF0VuOnneQ9lWR54X/9pT0=\",\"dtype\":\"float64\",\"order\":\"little\",\"shape\":[40]},\"y\":{\"__ndarray__\":\"bYbKDlOX6z8v+cWSXyzpP+H9QYbKDuM/T1VVVVVV1T/YcF5NPCu6P3sUrkfheqQ/Ub+aeFY0oj97FK5H4XqkP6A20GkDneY/ccA3ryae5T/p9Emf9EnfP//zSZ/0Sc8/ExERERERsT87G+i0gU6LP1qpmnhWNHI/AAAAAAAAAAB0d3d3d3fnP6qKRgK+eeU/pHA9Ctej4D8DaSTgm1fTP/TFcRzHcbw/LsbU5fYHqT8FccEWbMGWP6zFDlOX258/gS63P8hQ6T/GrGgk4JvnP+H9QYbKDuM/PQR882ri2T/gbl5NPCvKP0bJDlOX278/ZhvotIFOuz/YcF5NPCu6P5qZmZmZmek/6BdLfrHk5z+d0wY6baDjP8VY8oslv9g/JJb8Yskvxj8BvzevJp61P1dw+4MMla0/LsbU5fYHqT8=\",\"dtype\":\"float64\",\"order\":\"little\",\"shape\":[40]}},\"selected\":{\"id\":\"3736\"},\"selection_policy\":{\"id\":\"3737\"}},\"id\":\"3714\",\"type\":\"ColumnDataSource\"},{\"attributes\":{\"line_alpha\":0.1,\"line_color\":\"#d62728\",\"x\":{\"field\":\"x\"},\"y\":{\"field\":\"y\"}},\"id\":\"3775\",\"type\":\"Line\"},{\"attributes\":{\"axis\":{\"id\":\"3647\"},\"dimension\":1,\"ticker\":null},\"id\":\"3650\",\"type\":\"Grid\"},{\"attributes\":{\"source\":{\"id\":\"3665\"}},\"id\":\"3669\",\"type\":\"CDSView\"},{\"attributes\":{\"bottom_units\":\"screen\",\"fill_alpha\":0.5,\"fill_color\":\"lightgrey\",\"left_units\":\"screen\",\"level\":\"overlay\",\"line_alpha\":1.0,\"line_color\":\"black\",\"line_dash\":[4,4],\"line_width\":2,\"right_units\":\"screen\",\"syncable\":false,\"top_units\":\"screen\"},\"id\":\"3657\",\"type\":\"BoxAnnotation\"},{\"attributes\":{\"data\":{\"x\":{\"__ndarray__\":\"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\",\"dtype\":\"float64\",\"order\":\"little\",\"shape\":[200]},\"y\":{\"__ndarray__\":\"Cnclc9o9Nj9VXHuyukI2P4580EP1RzY/lMCbu5BNNj8JQrsqlFM2PzvI4ycHWjY/AqvQ2fFgNj/WukQCXWg2P6Vo7glScDY/EzJDDdt4Nj+8UmjqAoI2PyjxQFDVizY/L3S8zl6WNj+ZbILorKE2P9ePHCbOrTY/SK7CKtK6Nj9JZfDKycg2Pw6a8CTH1zY/1puPu93nNj+2NSqTIvk2P/MMVlGsCzc/d4BmX5MfNz/Z8RgQ8jQ3P98OvMjkSzc/N30vLopkNz94WCRWA383P4NvE/1zmzc/L05swQK6Nz/NGpBk2do3PyZnPRIl/jc/K5UmrxYkOD/MrYMv40w4P/zlivbDeDg/EfzYP/enOD/KkvSTwNo4P+1LPklpETk/MEbLEkFMOT8NiNmenos5P7qhxkbgzzk/cGOx0mwZOj+QAjlTtGg6P7SxHxQxvjo/he/1qmgaOz8ZSmAl7X07P37fBFte6Ts/n5m6Z2tdPD+zbTRT1No8P6R5GexrYj0/o8xK3Rn1PT9UggQF3ZM+P16MlRbOPz8/G6CckCL6Pz8KJ4sJGGJAP08OCxG4z0A/5YnkMcJGQT/6aTG1HchBP8etbw7LVEI/myQO6ubtQj+FjV+irZRDPzgh2yh/SkQ/s+92c+MQRT+OeA6Aj+lFP5lmNgJr1kY/QiSe0pbZRz+xyjo6dPVIP+NC9zatLEo/8c2W2z2CSz8/5OXwfvlMP+CdTgMylk4/I8W7hkcuUD8wNGb7qShRP4kn3xHrPFI/EIydLgtuUz9SJbCua79UPyd3aKzbNFY/0vUwc6bSVz9sXwbZo51ZP3nkIrpKm1s/dm722cXRXT8kA8G5BSRgP7xcQ+X7gmE/3I9NizUKYz83tIGUtb5kP3vH8pokpmY/AGFxGObGaD+S4vIZMChrPwC1TrYl0m0/phNCRPpmcD/a4zm3+hJyP796+mXo8nM/DgxtR1MNdj9WNAcVnWl4P0MFzVkREHs/R9b4oP8Jfj+qdNDj67CAP++4+jKkkYI/JIudmK+thD8AVUSPVQyHPxFBRfevtYk/K7qMUb2yjD/OfNOLuQaQPz6JP95n6JE/HL6p33UElD/NUJqJhGGWP2hAn/jPBpk/B86s/TP8mz8zvAMxLkqfP97I8mLufKE/4QDZonyKoz8SFfUh59KlP4qA/IaTW6g/9MqVKhwqqz8fNqFtQESuP9UVzVHo17A/mpc7n0q5sj/3OxyJGMm0PxkwcV//Cbc/h1o2zHR+uT/RtQxeoSi8P6QiNbNJCr8/GZqxgVsSwT/Kulf9T7zCP9aHi4IJg8Q/CK4kpTFmxj97P1HTDGXIPzl6QHF1fso/doFtINqwzD/vWBScP/rOPzOrAjIjrNA/r3JGGhrk0T9rj0GFgCPTP22LBJqzaNQ/QwXN2/qx1T+Ki/IYkv3WP15l7JmzSdg/TSDRE6KU2T9b4WfqsdzaP+2aSV9RINw/PyBYYw9e3T/rbCLboJTePw8QuELkwt8/X3mo2/Fz4D+GFYPBagHhP6eysauNieE/2WMuNyAM4j8GNTNn+4jiP7ZzXvcJAOM/IWqyekZx4z8Y7RBhudzjP3oF3/h2QuQ/Pq4xfp2i5D9eTqNEU/3kP9IkAAXFUuU/rFOCVCSj5T8CmXJIpu7lP2DvtUaCNeY/HvMSAvF35j8oC72fK7bmPz304wJr8OY/djOQOucm5z/NleQN11nnP8CP4KJviec/PtbnO+S15z9XYZQIZt/nP09CpwYkBug/UL1C8Eoq6D9PXO80BUzoPytUQvt6a+g/XwtLKdKI6D/dVjZyLqToP4pZ12exveg/uKn/jnrV6D+SqMJ1p+voPzo/68pTAOk/MxAQdpkT6T8OQdGvkCXpP9j45BlQNuk/cjSt1uxF6T9EPiOgelTpPxx7890LYuk/3duvurFu6T/MjAg4fHrpP+3TAUJ6hek/aM0jwbmP6T8nIaWrR5npPxgmlRUwouk/fmEMQH6q6T+kF2ynPLLpP5HbthB1uek/5NEMljDA6T/RyVayd8bpP+t4K0xSzOk/ERz6v8fR6T9kjoXp3tbpP8iYuiye2+k/qtnrfQvg6T+hNH1pLOTpPxFACBsG6Ok/XqkCZJ3r6T8ZCe/B9u7pPw==\",\"dtype\":\"float64\",\"order\":\"little\",\"shape\":[200]}},\"selected\":{\"id\":\"3704\"},\"selection_policy\":{\"id\":\"3705\"}},\"id\":\"3683\",\"type\":\"ColumnDataSource\"},{\"attributes\":{\"data_source\":{\"id\":\"3683\"},\"glyph\":{\"id\":\"3684\"},\"hover_glyph\":null,\"muted_glyph\":null,\"nonselection_glyph\":{\"id\":\"3685\"},\"view\":{\"id\":\"3687\"}},\"id\":\"3686\",\"type\":\"GlyphRenderer\"},{\"attributes\":{},\"id\":\"3737\",\"type\":\"UnionRenderers\"},{\"attributes\":{},\"id\":\"3801\",\"type\":\"Selection\"},{\"attributes\":{\"label\":{\"value\":\"CDDPB conc: 400nM\"},\"renderers\":[{\"id\":\"3691\"}]},\"id\":\"3708\",\"type\":\"LegendItem\"},{\"attributes\":{},\"id\":\"3648\",\"type\":\"BasicTicker\"},{\"attributes\":{\"axis_label\":\"active_probability\",\"formatter\":{\"id\":\"3675\"},\"major_label_policy\":{\"id\":\"3676\"},\"ticker\":{\"id\":\"3648\"}},\"id\":\"3647\",\"type\":\"LinearAxis\"},{\"attributes\":{},\"id\":\"3771\",\"type\":\"UnionRenderers\"},{\"attributes\":{},\"id\":\"3656\",\"type\":\"HelpTool\"},{\"attributes\":{\"data\":{\"x\":{\"__ndarray__\":\"UW0C9PUhhD5Se2Oa8tdqPquKmykrG1A+bi/p4Y55NT4JESzcEcUZPoa/7ecLLgE+AXRW46ed5D2VZHnhf/2lPVFtAvT1IYQ+UntjmvLXaj6ripspKxtQPm4v6eGOeTU+CREs3BHFGT6Gv+3nCy4BPgF0VuOnneQ9lWR54X/9pT1RbQL09SGEPlJ7Y5ry12o+q4qbKSsbUD5uL+nhjnk1PgkRLNwRxRk+hr/t5wsuAT4BdFbjp53kPZVkeeF//aU9UW0C9PUhhD5Se2Oa8tdqPquKmykrG1A+bi/p4Y55NT4JESzcEcUZPoa/7ecLLgE+AXRW46ed5D2VZHnhf/2lPVFtAvT1IYQ+UntjmvLXaj6ripspKxtQPm4v6eGOeTU+CREs3BHFGT6Gv+3nCy4BPgF0VuOnneQ9lWR54X/9pT0=\",\"dtype\":\"float64\",\"order\":\"little\",\"shape\":[40]},\"y\":{\"__ndarray__\":\"5TFUdpi67D8OjuM4juPoP4wFW7AFW+A/BRERERERwT9aqZp4VjRyPwAAAAAAAAAAAAAAAAAAAAClGui0gU57P04B37yaeOY/Y6nL7Q8y5D+xsAVbsAXbP2nC1OX2B7k/WqmaeFY0cj8AAAAAAAAAAFqpmnhWNHI/AAAAAAAAAABOAd+8mnjmP78+6ZM+6eM/btpApw102j8qdPuDDJW9PwAAAAAAAAAAAAAAAAAAAAAAAAAAAAAAAAAAAAAAAAAA8mvBFmzB5j/NSZ/0SZ/kP/iFyg5Tl9s/4G5eTTwryj/9zA5Tl9uvPzsb6LSBTos/WqmaeFY0cj87G+i0gU6LPwCDLdiCLeg/w/UoXI/C5T8UtKKRgG/eP93AN68mnsU/DriaeFY0kj8AAAAAAAAAAAAAAAAAAAAAOxvotIFOiz8=\",\"dtype\":\"float64\",\"order\":\"little\",\"shape\":[40]}},\"selected\":{\"id\":\"3706\"},\"selection_policy\":{\"id\":\"3707\"}},\"id\":\"3688\",\"type\":\"ColumnDataSource\"},{\"attributes\":{\"data_source\":{\"id\":\"3688\"},\"glyph\":{\"id\":\"3689\"},\"hover_glyph\":null,\"muted_glyph\":null,\"nonselection_glyph\":{\"id\":\"3690\"},\"view\":{\"id\":\"3692\"}},\"id\":\"3691\",\"type\":\"GlyphRenderer\"},{\"attributes\":{\"fill_color\":{\"value\":\"#1f77b4\"},\"line_color\":{\"value\":\"#1f77b4\"},\"size\":{\"value\":7},\"x\":{\"field\":\"x\"},\"y\":{\"field\":\"y\"}},\"id\":\"3666\",\"type\":\"Circle\"},{\"attributes\":{\"line_alpha\":0.1,\"line_color\":\"#1f77b4\",\"x\":{\"field\":\"x\"},\"y\":{\"field\":\"y\"}},\"id\":\"3685\",\"type\":\"Line\"},{\"attributes\":{\"data_source\":{\"id\":\"3744\"},\"glyph\":{\"id\":\"3745\"},\"hover_glyph\":null,\"muted_glyph\":null,\"nonselection_glyph\":{\"id\":\"3746\"},\"view\":{\"id\":\"3748\"}},\"id\":\"3747\",\"type\":\"GlyphRenderer\"},{\"attributes\":{},\"id\":\"3652\",\"type\":\"WheelZoomTool\"},{\"attributes\":{\"source\":{\"id\":\"3683\"}},\"id\":\"3687\",\"type\":\"CDSView\"},{\"attributes\":{},\"id\":\"3770\",\"type\":\"Selection\"},{\"attributes\":{},\"id\":\"3635\",\"type\":\"DataRange1d\"},{\"attributes\":{\"source\":{\"id\":\"3688\"}},\"id\":\"3692\",\"type\":\"CDSView\"},{\"attributes\":{},\"id\":\"3680\",\"type\":\"UnionRenderers\"},{\"attributes\":{\"data\":{\"x\":{\"__ndarray__\":\"UW0C9PUhhD5Se2Oa8tdqPquKmykrG1A+bi/p4Y55NT4JESzcEcUZPoa/7ecLLgE+AXRW46ed5D2VZHnhf/2lPVFtAvT1IYQ+UntjmvLXaj6ripspKxtQPm4v6eGOeTU+CREs3BHFGT6Gv+3nCy4BPgF0VuOnneQ9lWR54X/9pT1RbQL09SGEPlJ7Y5ry12o+q4qbKSsbUD5uL+nhjnk1PgkRLNwRxRk+hr/t5wsuAT4BdFbjp53kPZVkeeF//aU9UW0C9PUhhD5Se2Oa8tdqPquKmykrG1A+bi/p4Y55NT4JESzcEcUZPoa/7ecLLgE+AXRW46ed5D2VZHnhf/2lPVFtAvT1IYQ+UntjmvLXaj6ripspKxtQPm4v6eGOeTU+CREs3BHFGT6Gv+3nCy4BPgF0VuOnneQ9lWR54X/9pT0=\",\"dtype\":\"float64\",\"order\":\"little\",\"shape\":[40]},\"y\":{\"__ndarray__\":\"BDptoNMG6j+BLrc/yFDpP6qKRgK+eeU/oQcZKjtM3T8byw5Tl9vPPySW/GLJL8Y/i72aeFY0wj9M5tXEs6LBPwQ6baDTBuo/XAyVHaYu5z8RdNpApw3kP7GwBVuwBds//EUjAd+8yj8FERERERHBPyp0+4MMlb0/9MVxHMdxvD8AAAAAAADwPwpUdpi63O4/BDptoNMG6j8OERERERHhPzHQaQOdNtA/TObVxLOiwT8qdPuDDJW9P2Yb6LSBTrs/j0UjAd+86j+k7Q8yVHboP3HAN68mnuU//Zw20GkD3T/gbl5NPCvKP0bJDlOX278/ZhvotIFOuz/pF0t+seS3P8kPMlR2mOo/3cPU5fYH6T9xwDevJp7lP+Td3d3d3d0/MdBpA5020D+qQobKDlPHP9KSXyz5xcI/wely+4MMxT8=\",\"dtype\":\"float64\",\"order\":\"little\",\"shape\":[40]}},\"selected\":{\"id\":\"3770\"},\"selection_policy\":{\"id\":\"3771\"}},\"id\":\"3744\",\"type\":\"ColumnDataSource\"},{\"attributes\":{\"label\":{\"value\":\"CDDPB conc: 10000nM\"},\"renderers\":[{\"id\":\"3747\"}]},\"id\":\"3772\",\"type\":\"LegendItem\"},{\"attributes\":{},\"id\":\"3705\",\"type\":\"UnionRenderers\"},{\"attributes\":{\"source\":{\"id\":\"3744\"}},\"id\":\"3748\",\"type\":\"CDSView\"},{\"attributes\":{\"ticker\":null},\"id\":\"3672\",\"type\":\"LogTickFormatter\"},{\"attributes\":{},\"id\":\"3802\",\"type\":\"UnionRenderers\"},{\"attributes\":{\"active_multi\":null,\"tools\":[{\"id\":\"3651\"},{\"id\":\"3652\"},{\"id\":\"3653\"},{\"id\":\"3654\"},{\"id\":\"3655\"},{\"id\":\"3656\"}]},\"id\":\"3658\",\"type\":\"Toolbar\"},{\"attributes\":{},\"id\":\"3676\",\"type\":\"AllLabels\"},{\"attributes\":{\"data\":{\"x\":{\"__ndarray__\":\"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\",\"dtype\":\"float64\",\"order\":\"little\",\"shape\":[200]},\"y\":{\"__ndarray__\":\"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\",\"dtype\":\"float64\",\"order\":\"little\",\"shape\":[200]}},\"selected\":{\"id\":\"3768\"},\"selection_policy\":{\"id\":\"3769\"}},\"id\":\"3739\",\"type\":\"ColumnDataSource\"},{\"attributes\":{\"source\":{\"id\":\"3714\"}},\"id\":\"3718\",\"type\":\"CDSView\"},{\"attributes\":{},\"id\":\"3768\",\"type\":\"Selection\"},{\"attributes\":{},\"id\":\"3706\",\"type\":\"Selection\"},{\"attributes\":{\"data_source\":{\"id\":\"3714\"},\"glyph\":{\"id\":\"3715\"},\"hover_glyph\":null,\"muted_glyph\":null,\"nonselection_glyph\":{\"id\":\"3716\"},\"view\":{\"id\":\"3718\"}},\"id\":\"3717\",\"type\":\"GlyphRenderer\"},{\"attributes\":{\"source\":{\"id\":\"3709\"}},\"id\":\"3713\",\"type\":\"CDSView\"},{\"attributes\":{\"fill_alpha\":{\"value\":0.1},\"fill_color\":{\"value\":\"#2ca02c\"},\"line_alpha\":{\"value\":0.1},\"line_color\":{\"value\":\"#2ca02c\"},\"size\":{\"value\":7},\"x\":{\"field\":\"x\"},\"y\":{\"field\":\"y\"}},\"id\":\"3716\",\"type\":\"Circle\"},{\"attributes\":{},\"id\":\"3769\",\"type\":\"UnionRenderers\"},{\"attributes\":{},\"id\":\"3639\",\"type\":\"LogScale\"},{\"attributes\":{\"line_color\":\"#ff7f0e\",\"x\":{\"field\":\"x\"},\"y\":{\"field\":\"y\"}},\"id\":\"3710\",\"type\":\"Line\"},{\"attributes\":{\"line_alpha\":0.1,\"line_color\":\"#ff7f0e\",\"x\":{\"field\":\"x\"},\"y\":{\"field\":\"y\"}},\"id\":\"3711\",\"type\":\"Line\"},{\"attributes\":{},\"id\":\"3707\",\"type\":\"UnionRenderers\"},{\"attributes\":{},\"id\":\"3637\",\"type\":\"DataRange1d\"},{\"attributes\":{},\"id\":\"3735\",\"type\":\"UnionRenderers\"},{\"attributes\":{},\"id\":\"3734\",\"type\":\"Selection\"},{\"attributes\":{\"label\":{\"value\":\"CDDPB conc: 2000nM\"},\"renderers\":[{\"id\":\"3717\"}]},\"id\":\"3738\",\"type\":\"LegendItem\"},{\"attributes\":{\"data_source\":{\"id\":\"3709\"},\"glyph\":{\"id\":\"3710\"},\"hover_glyph\":null,\"muted_glyph\":null,\"nonselection_glyph\":{\"id\":\"3711\"},\"view\":{\"id\":\"3713\"}},\"id\":\"3712\",\"type\":\"GlyphRenderer\"},{\"attributes\":{\"fill_color\":{\"value\":\"#2ca02c\"},\"line_color\":{\"value\":\"#2ca02c\"},\"size\":{\"value\":7},\"x\":{\"field\":\"x\"},\"y\":{\"field\":\"y\"}},\"id\":\"3715\",\"type\":\"Circle\"},{\"attributes\":{\"data\":{\"x\":{\"__ndarray__\":\"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\",\"dtype\":\"float64\",\"order\":\"little\",\"shape\":[200]},\"y\":{\"__ndarray__\":\"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\",\"dtype\":\"float64\",\"order\":\"little\",\"shape\":[200]}},\"selected\":{\"id\":\"3734\"},\"selection_policy\":{\"id\":\"3735\"}},\"id\":\"3709\",\"type\":\"ColumnDataSource\"}],\"root_ids\":[\"3634\"]},\"title\":\"Bokeh Application\",\"version\":\"2.3.3\"}};\n",
       "  var render_items = [{\"docid\":\"0b9c1cb3-e547-4362-9319-09cfa52b1652\",\"root_ids\":[\"3634\"],\"roots\":{\"3634\":\"c97a7140-5a6a-49d3-89dd-393e9953223b\"}}];\n",
       "  root.Bokeh.embed.embed_items_notebook(docs_json, render_items);\n",
       "\n",
       "  }\n",
       "  if (root.Bokeh !== undefined) {\n",
       "    embed_document(root);\n",
       "  } else {\n",
       "    var attempts = 0;\n",
       "    var timer = setInterval(function(root) {\n",
       "      if (root.Bokeh !== undefined) {\n",
       "        clearInterval(timer);\n",
       "        embed_document(root);\n",
       "      } else {\n",
       "        attempts++;\n",
       "        if (attempts > 100) {\n",
       "          clearInterval(timer);\n",
       "          console.log(\"Bokeh: ERROR: Unable to run BokehJS code because BokehJS library is missing\");\n",
       "        }\n",
       "      }\n",
       "    }, 10, root)\n",
       "  }\n",
       "})(window);"
      ],
      "application/vnd.bokehjs_exec.v0+json": ""
     },
     "metadata": {
      "application/vnd.bokehjs_exec.v0+json": {
       "id": "3634"
      }
     },
     "output_type": "display_data"
    }
   ],
   "source": [
    "df_both = pd.read_excel('./L-quis+CDPPB.xlsx')\n",
    "\n",
    "\n",
    "colors=bokeh.palettes.d3['Category10'][10]\n",
    "\n",
    "\n",
    "curdoc().clear()\n",
    "p = bokeh.plotting.figure(plot_height=300,\n",
    "                         plot_width=600,\n",
    "                         x_axis_label='[L-Quis] M',\n",
    "                          y_axis_label='active_probability',\n",
    "                          x_axis_type='log')\n",
    "\n",
    "ligand_smooth=np.logspace(-12,-6,200)\n",
    "\n",
    "for i,CDPPBconc in enumerate(df_both.columns[1:]):\n",
    "    c, p_active = df_both['conc'].values, df_both[CDPPBconc].values/100\n",
    "    p.circle(c, p_active, size=7, color=colors[i],legend_label='CDDPB conc: '+str(CDPPBconc)+'nM')\n",
    "    p.line(ligand_smooth, both_p_active_theory(ligand_smooth, CDPPBconc*1e-09, res.x[0],res.x[1], -7,res_pam.x[1], -8), color=colors[i])\n",
    "\n",
    "bokeh.io.show(p);"
   ]
  },
  {
   "cell_type": "code",
   "execution_count": 18,
   "id": "e7c80f12",
   "metadata": {},
   "outputs": [
    {
     "name": "stdout",
     "output_type": "stream",
     "text": [
      "0\n",
      "<class 'int'>\n",
      "400\n",
      "<class 'int'>\n",
      "2000\n",
      "<class 'int'>\n",
      "10000\n",
      "<class 'int'>\n"
     ]
    }
   ],
   "source": [
    "for i,CDPPBconc in enumerate(df_both.columns[1:]):\n",
    "    print(CDPPBconc)\n",
    "    print(type(CDPPBconc))"
   ]
  },
  {
   "cell_type": "code",
   "execution_count": 20,
   "id": "8aab2b27",
   "metadata": {},
   "outputs": [
    {
     "data": {
      "text/plain": [
       "1e-18"
      ]
     },
     "execution_count": 20,
     "metadata": {},
     "output_type": "execute_result"
    }
   ],
   "source": [
    "1e-09**2"
   ]
  },
  {
   "cell_type": "code",
   "execution_count": 138,
   "id": "1c806a8a",
   "metadata": {},
   "outputs": [
    {
     "data": {
      "text/plain": [
       "1e-05"
      ]
     },
     "execution_count": 138,
     "metadata": {},
     "output_type": "execute_result"
    }
   ],
   "source": [
    "10000*10**(-9)"
   ]
  },
  {
   "cell_type": "code",
   "execution_count": 139,
   "id": "b6cb21b8",
   "metadata": {},
   "outputs": [
    {
     "data": {
      "text/plain": [
       "1e-05"
      ]
     },
     "execution_count": 139,
     "metadata": {},
     "output_type": "execute_result"
    }
   ],
   "source": [
    "1e-05"
   ]
  },
  {
   "cell_type": "code",
   "execution_count": null,
   "id": "eda3bf3a",
   "metadata": {},
   "outputs": [],
   "source": []
  }
 ],
 "metadata": {
  "kernelspec": {
   "display_name": "Python 3",
   "language": "python",
   "name": "python3"
  },
  "language_info": {
   "codemirror_mode": {
    "name": "ipython",
    "version": 3
   },
   "file_extension": ".py",
   "mimetype": "text/x-python",
   "name": "python",
   "nbconvert_exporter": "python",
   "pygments_lexer": "ipython3",
   "version": "3.8.3"
  }
 },
 "nbformat": 4,
 "nbformat_minor": 5
}
