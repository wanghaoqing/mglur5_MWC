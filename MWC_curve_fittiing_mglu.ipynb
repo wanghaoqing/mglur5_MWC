{
 "cells": [
  {
   "cell_type": "code",
   "execution_count": 1,
   "id": "76a0baa9",
   "metadata": {},
   "outputs": [
    {
     "data": {
      "text/html": [
       "\n",
       "    <div class=\"bk-root\">\n",
       "        <a href=\"https://bokeh.org\" target=\"_blank\" class=\"bk-logo bk-logo-small bk-logo-notebook\"></a>\n",
       "        <span id=\"1002\">Loading BokehJS ...</span>\n",
       "    </div>"
      ]
     },
     "metadata": {},
     "output_type": "display_data"
    },
    {
     "data": {
      "application/javascript": [
       "\n",
       "(function(root) {\n",
       "  function now() {\n",
       "    return new Date();\n",
       "  }\n",
       "\n",
       "  var force = true;\n",
       "\n",
       "  if (typeof root._bokeh_onload_callbacks === \"undefined\" || force === true) {\n",
       "    root._bokeh_onload_callbacks = [];\n",
       "    root._bokeh_is_loading = undefined;\n",
       "  }\n",
       "\n",
       "  var JS_MIME_TYPE = 'application/javascript';\n",
       "  var HTML_MIME_TYPE = 'text/html';\n",
       "  var EXEC_MIME_TYPE = 'application/vnd.bokehjs_exec.v0+json';\n",
       "  var CLASS_NAME = 'output_bokeh rendered_html';\n",
       "\n",
       "  /**\n",
       "   * Render data to the DOM node\n",
       "   */\n",
       "  function render(props, node) {\n",
       "    var script = document.createElement(\"script\");\n",
       "    node.appendChild(script);\n",
       "  }\n",
       "\n",
       "  /**\n",
       "   * Handle when an output is cleared or removed\n",
       "   */\n",
       "  function handleClearOutput(event, handle) {\n",
       "    var cell = handle.cell;\n",
       "\n",
       "    var id = cell.output_area._bokeh_element_id;\n",
       "    var server_id = cell.output_area._bokeh_server_id;\n",
       "    // Clean up Bokeh references\n",
       "    if (id != null && id in Bokeh.index) {\n",
       "      Bokeh.index[id].model.document.clear();\n",
       "      delete Bokeh.index[id];\n",
       "    }\n",
       "\n",
       "    if (server_id !== undefined) {\n",
       "      // Clean up Bokeh references\n",
       "      var cmd = \"from bokeh.io.state import curstate; print(curstate().uuid_to_server['\" + server_id + \"'].get_sessions()[0].document.roots[0]._id)\";\n",
       "      cell.notebook.kernel.execute(cmd, {\n",
       "        iopub: {\n",
       "          output: function(msg) {\n",
       "            var id = msg.content.text.trim();\n",
       "            if (id in Bokeh.index) {\n",
       "              Bokeh.index[id].model.document.clear();\n",
       "              delete Bokeh.index[id];\n",
       "            }\n",
       "          }\n",
       "        }\n",
       "      });\n",
       "      // Destroy server and session\n",
       "      var cmd = \"import bokeh.io.notebook as ion; ion.destroy_server('\" + server_id + \"')\";\n",
       "      cell.notebook.kernel.execute(cmd);\n",
       "    }\n",
       "  }\n",
       "\n",
       "  /**\n",
       "   * Handle when a new output is added\n",
       "   */\n",
       "  function handleAddOutput(event, handle) {\n",
       "    var output_area = handle.output_area;\n",
       "    var output = handle.output;\n",
       "\n",
       "    // limit handleAddOutput to display_data with EXEC_MIME_TYPE content only\n",
       "    if ((output.output_type != \"display_data\") || (!Object.prototype.hasOwnProperty.call(output.data, EXEC_MIME_TYPE))) {\n",
       "      return\n",
       "    }\n",
       "\n",
       "    var toinsert = output_area.element.find(\".\" + CLASS_NAME.split(' ')[0]);\n",
       "\n",
       "    if (output.metadata[EXEC_MIME_TYPE][\"id\"] !== undefined) {\n",
       "      toinsert[toinsert.length - 1].firstChild.textContent = output.data[JS_MIME_TYPE];\n",
       "      // store reference to embed id on output_area\n",
       "      output_area._bokeh_element_id = output.metadata[EXEC_MIME_TYPE][\"id\"];\n",
       "    }\n",
       "    if (output.metadata[EXEC_MIME_TYPE][\"server_id\"] !== undefined) {\n",
       "      var bk_div = document.createElement(\"div\");\n",
       "      bk_div.innerHTML = output.data[HTML_MIME_TYPE];\n",
       "      var script_attrs = bk_div.children[0].attributes;\n",
       "      for (var i = 0; i < script_attrs.length; i++) {\n",
       "        toinsert[toinsert.length - 1].firstChild.setAttribute(script_attrs[i].name, script_attrs[i].value);\n",
       "        toinsert[toinsert.length - 1].firstChild.textContent = bk_div.children[0].textContent\n",
       "      }\n",
       "      // store reference to server id on output_area\n",
       "      output_area._bokeh_server_id = output.metadata[EXEC_MIME_TYPE][\"server_id\"];\n",
       "    }\n",
       "  }\n",
       "\n",
       "  function register_renderer(events, OutputArea) {\n",
       "\n",
       "    function append_mime(data, metadata, element) {\n",
       "      // create a DOM node to render to\n",
       "      var toinsert = this.create_output_subarea(\n",
       "        metadata,\n",
       "        CLASS_NAME,\n",
       "        EXEC_MIME_TYPE\n",
       "      );\n",
       "      this.keyboard_manager.register_events(toinsert);\n",
       "      // Render to node\n",
       "      var props = {data: data, metadata: metadata[EXEC_MIME_TYPE]};\n",
       "      render(props, toinsert[toinsert.length - 1]);\n",
       "      element.append(toinsert);\n",
       "      return toinsert\n",
       "    }\n",
       "\n",
       "    /* Handle when an output is cleared or removed */\n",
       "    events.on('clear_output.CodeCell', handleClearOutput);\n",
       "    events.on('delete.Cell', handleClearOutput);\n",
       "\n",
       "    /* Handle when a new output is added */\n",
       "    events.on('output_added.OutputArea', handleAddOutput);\n",
       "\n",
       "    /**\n",
       "     * Register the mime type and append_mime function with output_area\n",
       "     */\n",
       "    OutputArea.prototype.register_mime_type(EXEC_MIME_TYPE, append_mime, {\n",
       "      /* Is output safe? */\n",
       "      safe: true,\n",
       "      /* Index of renderer in `output_area.display_order` */\n",
       "      index: 0\n",
       "    });\n",
       "  }\n",
       "\n",
       "  // register the mime type if in Jupyter Notebook environment and previously unregistered\n",
       "  if (root.Jupyter !== undefined) {\n",
       "    var events = require('base/js/events');\n",
       "    var OutputArea = require('notebook/js/outputarea').OutputArea;\n",
       "\n",
       "    if (OutputArea.prototype.mime_types().indexOf(EXEC_MIME_TYPE) == -1) {\n",
       "      register_renderer(events, OutputArea);\n",
       "    }\n",
       "  }\n",
       "\n",
       "  \n",
       "  if (typeof (root._bokeh_timeout) === \"undefined\" || force === true) {\n",
       "    root._bokeh_timeout = Date.now() + 5000;\n",
       "    root._bokeh_failed_load = false;\n",
       "  }\n",
       "\n",
       "  var NB_LOAD_WARNING = {'data': {'text/html':\n",
       "     \"<div style='background-color: #fdd'>\\n\"+\n",
       "     \"<p>\\n\"+\n",
       "     \"BokehJS does not appear to have successfully loaded. If loading BokehJS from CDN, this \\n\"+\n",
       "     \"may be due to a slow or bad network connection. Possible fixes:\\n\"+\n",
       "     \"</p>\\n\"+\n",
       "     \"<ul>\\n\"+\n",
       "     \"<li>re-rerun `output_notebook()` to attempt to load from CDN again, or</li>\\n\"+\n",
       "     \"<li>use INLINE resources instead, as so:</li>\\n\"+\n",
       "     \"</ul>\\n\"+\n",
       "     \"<code>\\n\"+\n",
       "     \"from bokeh.resources import INLINE\\n\"+\n",
       "     \"output_notebook(resources=INLINE)\\n\"+\n",
       "     \"</code>\\n\"+\n",
       "     \"</div>\"}};\n",
       "\n",
       "  function display_loaded() {\n",
       "    var el = document.getElementById(\"1002\");\n",
       "    if (el != null) {\n",
       "      el.textContent = \"BokehJS is loading...\";\n",
       "    }\n",
       "    if (root.Bokeh !== undefined) {\n",
       "      if (el != null) {\n",
       "        el.textContent = \"BokehJS \" + root.Bokeh.version + \" successfully loaded.\";\n",
       "      }\n",
       "    } else if (Date.now() < root._bokeh_timeout) {\n",
       "      setTimeout(display_loaded, 100)\n",
       "    }\n",
       "  }\n",
       "\n",
       "\n",
       "  function run_callbacks() {\n",
       "    try {\n",
       "      root._bokeh_onload_callbacks.forEach(function(callback) {\n",
       "        if (callback != null)\n",
       "          callback();\n",
       "      });\n",
       "    } finally {\n",
       "      delete root._bokeh_onload_callbacks\n",
       "    }\n",
       "    console.debug(\"Bokeh: all callbacks have finished\");\n",
       "  }\n",
       "\n",
       "  function load_libs(css_urls, js_urls, callback) {\n",
       "    if (css_urls == null) css_urls = [];\n",
       "    if (js_urls == null) js_urls = [];\n",
       "\n",
       "    root._bokeh_onload_callbacks.push(callback);\n",
       "    if (root._bokeh_is_loading > 0) {\n",
       "      console.debug(\"Bokeh: BokehJS is being loaded, scheduling callback at\", now());\n",
       "      return null;\n",
       "    }\n",
       "    if (js_urls == null || js_urls.length === 0) {\n",
       "      run_callbacks();\n",
       "      return null;\n",
       "    }\n",
       "    console.debug(\"Bokeh: BokehJS not loaded, scheduling load and callback at\", now());\n",
       "    root._bokeh_is_loading = css_urls.length + js_urls.length;\n",
       "\n",
       "    function on_load() {\n",
       "      root._bokeh_is_loading--;\n",
       "      if (root._bokeh_is_loading === 0) {\n",
       "        console.debug(\"Bokeh: all BokehJS libraries/stylesheets loaded\");\n",
       "        run_callbacks()\n",
       "      }\n",
       "    }\n",
       "\n",
       "    function on_error(url) {\n",
       "      console.error(\"failed to load \" + url);\n",
       "    }\n",
       "\n",
       "    for (let i = 0; i < css_urls.length; i++) {\n",
       "      const url = css_urls[i];\n",
       "      const element = document.createElement(\"link\");\n",
       "      element.onload = on_load;\n",
       "      element.onerror = on_error.bind(null, url);\n",
       "      element.rel = \"stylesheet\";\n",
       "      element.type = \"text/css\";\n",
       "      element.href = url;\n",
       "      console.debug(\"Bokeh: injecting link tag for BokehJS stylesheet: \", url);\n",
       "      document.body.appendChild(element);\n",
       "    }\n",
       "\n",
       "    const hashes = {\"https://cdn.bokeh.org/bokeh/release/bokeh-2.3.3.min.js\": \"dM3QQsP+wXdHg42wTqW85BjZQdLNNIXqlPw/BgKoExPmTG7ZLML4EGqLMfqHT6ON\", \"https://cdn.bokeh.org/bokeh/release/bokeh-tables-2.3.3.min.js\": \"8x57I4YuIfu8XyZfFo0XVr2WAT8EK4rh/uDe3wF7YuW2FNUSNEpJbsPaB1nJ2fz2\", \"https://cdn.bokeh.org/bokeh/release/bokeh-widgets-2.3.3.min.js\": \"3QTqdz9LyAm2i0sG5XTePsHec3UHWwVsrOL68SYRoAXsafvfAyqtQ+h440+qIBhS\"};\n",
       "\n",
       "    for (let i = 0; i < js_urls.length; i++) {\n",
       "      const url = js_urls[i];\n",
       "      const element = document.createElement('script');\n",
       "      element.onload = on_load;\n",
       "      element.onerror = on_error.bind(null, url);\n",
       "      element.async = false;\n",
       "      element.src = url;\n",
       "      if (url in hashes) {\n",
       "        element.crossOrigin = \"anonymous\";\n",
       "        element.integrity = \"sha384-\" + hashes[url];\n",
       "      }\n",
       "      console.debug(\"Bokeh: injecting script tag for BokehJS library: \", url);\n",
       "      document.head.appendChild(element);\n",
       "    }\n",
       "  };\n",
       "\n",
       "  function inject_raw_css(css) {\n",
       "    const element = document.createElement(\"style\");\n",
       "    element.appendChild(document.createTextNode(css));\n",
       "    document.body.appendChild(element);\n",
       "  }\n",
       "\n",
       "  \n",
       "  var js_urls = [\"https://cdn.bokeh.org/bokeh/release/bokeh-2.3.3.min.js\", \"https://cdn.bokeh.org/bokeh/release/bokeh-widgets-2.3.3.min.js\", \"https://cdn.bokeh.org/bokeh/release/bokeh-tables-2.3.3.min.js\"];\n",
       "  var css_urls = [];\n",
       "  \n",
       "\n",
       "  var inline_js = [\n",
       "    function(Bokeh) {\n",
       "      Bokeh.set_log_level(\"info\");\n",
       "    },\n",
       "    function(Bokeh) {\n",
       "    \n",
       "    \n",
       "    }\n",
       "  ];\n",
       "\n",
       "  function run_inline_js() {\n",
       "    \n",
       "    if (root.Bokeh !== undefined || force === true) {\n",
       "      \n",
       "    for (var i = 0; i < inline_js.length; i++) {\n",
       "      inline_js[i].call(root, root.Bokeh);\n",
       "    }\n",
       "    if (force === true) {\n",
       "        display_loaded();\n",
       "      }} else if (Date.now() < root._bokeh_timeout) {\n",
       "      setTimeout(run_inline_js, 100);\n",
       "    } else if (!root._bokeh_failed_load) {\n",
       "      console.log(\"Bokeh: BokehJS failed to load within specified timeout.\");\n",
       "      root._bokeh_failed_load = true;\n",
       "    } else if (force !== true) {\n",
       "      var cell = $(document.getElementById(\"1002\")).parents('.cell').data().cell;\n",
       "      cell.output_area.append_execute_result(NB_LOAD_WARNING)\n",
       "    }\n",
       "\n",
       "  }\n",
       "\n",
       "  if (root._bokeh_is_loading === 0) {\n",
       "    console.debug(\"Bokeh: BokehJS loaded, going straight to plotting\");\n",
       "    run_inline_js();\n",
       "  } else {\n",
       "    load_libs(css_urls, js_urls, function() {\n",
       "      console.debug(\"Bokeh: BokehJS plotting callback run at\", now());\n",
       "      run_inline_js();\n",
       "    });\n",
       "  }\n",
       "}(window));"
      ],
      "application/vnd.bokehjs_load.v0+json": "\n(function(root) {\n  function now() {\n    return new Date();\n  }\n\n  var force = true;\n\n  if (typeof root._bokeh_onload_callbacks === \"undefined\" || force === true) {\n    root._bokeh_onload_callbacks = [];\n    root._bokeh_is_loading = undefined;\n  }\n\n  \n\n  \n  if (typeof (root._bokeh_timeout) === \"undefined\" || force === true) {\n    root._bokeh_timeout = Date.now() + 5000;\n    root._bokeh_failed_load = false;\n  }\n\n  var NB_LOAD_WARNING = {'data': {'text/html':\n     \"<div style='background-color: #fdd'>\\n\"+\n     \"<p>\\n\"+\n     \"BokehJS does not appear to have successfully loaded. If loading BokehJS from CDN, this \\n\"+\n     \"may be due to a slow or bad network connection. Possible fixes:\\n\"+\n     \"</p>\\n\"+\n     \"<ul>\\n\"+\n     \"<li>re-rerun `output_notebook()` to attempt to load from CDN again, or</li>\\n\"+\n     \"<li>use INLINE resources instead, as so:</li>\\n\"+\n     \"</ul>\\n\"+\n     \"<code>\\n\"+\n     \"from bokeh.resources import INLINE\\n\"+\n     \"output_notebook(resources=INLINE)\\n\"+\n     \"</code>\\n\"+\n     \"</div>\"}};\n\n  function display_loaded() {\n    var el = document.getElementById(\"1002\");\n    if (el != null) {\n      el.textContent = \"BokehJS is loading...\";\n    }\n    if (root.Bokeh !== undefined) {\n      if (el != null) {\n        el.textContent = \"BokehJS \" + root.Bokeh.version + \" successfully loaded.\";\n      }\n    } else if (Date.now() < root._bokeh_timeout) {\n      setTimeout(display_loaded, 100)\n    }\n  }\n\n\n  function run_callbacks() {\n    try {\n      root._bokeh_onload_callbacks.forEach(function(callback) {\n        if (callback != null)\n          callback();\n      });\n    } finally {\n      delete root._bokeh_onload_callbacks\n    }\n    console.debug(\"Bokeh: all callbacks have finished\");\n  }\n\n  function load_libs(css_urls, js_urls, callback) {\n    if (css_urls == null) css_urls = [];\n    if (js_urls == null) js_urls = [];\n\n    root._bokeh_onload_callbacks.push(callback);\n    if (root._bokeh_is_loading > 0) {\n      console.debug(\"Bokeh: BokehJS is being loaded, scheduling callback at\", now());\n      return null;\n    }\n    if (js_urls == null || js_urls.length === 0) {\n      run_callbacks();\n      return null;\n    }\n    console.debug(\"Bokeh: BokehJS not loaded, scheduling load and callback at\", now());\n    root._bokeh_is_loading = css_urls.length + js_urls.length;\n\n    function on_load() {\n      root._bokeh_is_loading--;\n      if (root._bokeh_is_loading === 0) {\n        console.debug(\"Bokeh: all BokehJS libraries/stylesheets loaded\");\n        run_callbacks()\n      }\n    }\n\n    function on_error(url) {\n      console.error(\"failed to load \" + url);\n    }\n\n    for (let i = 0; i < css_urls.length; i++) {\n      const url = css_urls[i];\n      const element = document.createElement(\"link\");\n      element.onload = on_load;\n      element.onerror = on_error.bind(null, url);\n      element.rel = \"stylesheet\";\n      element.type = \"text/css\";\n      element.href = url;\n      console.debug(\"Bokeh: injecting link tag for BokehJS stylesheet: \", url);\n      document.body.appendChild(element);\n    }\n\n    const hashes = {\"https://cdn.bokeh.org/bokeh/release/bokeh-2.3.3.min.js\": \"dM3QQsP+wXdHg42wTqW85BjZQdLNNIXqlPw/BgKoExPmTG7ZLML4EGqLMfqHT6ON\", \"https://cdn.bokeh.org/bokeh/release/bokeh-tables-2.3.3.min.js\": \"8x57I4YuIfu8XyZfFo0XVr2WAT8EK4rh/uDe3wF7YuW2FNUSNEpJbsPaB1nJ2fz2\", \"https://cdn.bokeh.org/bokeh/release/bokeh-widgets-2.3.3.min.js\": \"3QTqdz9LyAm2i0sG5XTePsHec3UHWwVsrOL68SYRoAXsafvfAyqtQ+h440+qIBhS\"};\n\n    for (let i = 0; i < js_urls.length; i++) {\n      const url = js_urls[i];\n      const element = document.createElement('script');\n      element.onload = on_load;\n      element.onerror = on_error.bind(null, url);\n      element.async = false;\n      element.src = url;\n      if (url in hashes) {\n        element.crossOrigin = \"anonymous\";\n        element.integrity = \"sha384-\" + hashes[url];\n      }\n      console.debug(\"Bokeh: injecting script tag for BokehJS library: \", url);\n      document.head.appendChild(element);\n    }\n  };\n\n  function inject_raw_css(css) {\n    const element = document.createElement(\"style\");\n    element.appendChild(document.createTextNode(css));\n    document.body.appendChild(element);\n  }\n\n  \n  var js_urls = [\"https://cdn.bokeh.org/bokeh/release/bokeh-2.3.3.min.js\", \"https://cdn.bokeh.org/bokeh/release/bokeh-widgets-2.3.3.min.js\", \"https://cdn.bokeh.org/bokeh/release/bokeh-tables-2.3.3.min.js\"];\n  var css_urls = [];\n  \n\n  var inline_js = [\n    function(Bokeh) {\n      Bokeh.set_log_level(\"info\");\n    },\n    function(Bokeh) {\n    \n    \n    }\n  ];\n\n  function run_inline_js() {\n    \n    if (root.Bokeh !== undefined || force === true) {\n      \n    for (var i = 0; i < inline_js.length; i++) {\n      inline_js[i].call(root, root.Bokeh);\n    }\n    if (force === true) {\n        display_loaded();\n      }} else if (Date.now() < root._bokeh_timeout) {\n      setTimeout(run_inline_js, 100);\n    } else if (!root._bokeh_failed_load) {\n      console.log(\"Bokeh: BokehJS failed to load within specified timeout.\");\n      root._bokeh_failed_load = true;\n    } else if (force !== true) {\n      var cell = $(document.getElementById(\"1002\")).parents('.cell').data().cell;\n      cell.output_area.append_execute_result(NB_LOAD_WARNING)\n    }\n\n  }\n\n  if (root._bokeh_is_loading === 0) {\n    console.debug(\"Bokeh: BokehJS loaded, going straight to plotting\");\n    run_inline_js();\n  } else {\n    load_libs(css_urls, js_urls, function() {\n      console.debug(\"Bokeh: BokehJS plotting callback run at\", now());\n      run_inline_js();\n    });\n  }\n}(window));"
     },
     "metadata": {},
     "output_type": "display_data"
    }
   ],
   "source": [
    "import numpy as np\n",
    "import pandas as pd\n",
    "import scipy.optimize\n",
    "import bokeh.plotting\n",
    "import bokeh.io\n",
    "bokeh.io.output_notebook()"
   ]
  },
  {
   "cell_type": "code",
   "execution_count": 125,
   "id": "87e8ccf1",
   "metadata": {},
   "outputs": [],
   "source": [
    "def agonist_only_p_active_theory(c_agonist, log_Kd_active, log_Kd_inactive, beta_deltaE):\n",
    "    \"theoretical curve for mglur5 active probability\"\n",
    "    #log_Kd_inactive = -7.7\n",
    "    beta_deltaE=-4.676\n",
    "    Kd_active = 10**log_Kd_active\n",
    "    Kd_inactive = 10**log_Kd_inactive\n",
    "    a = (1 + c_agonist/Kd_active)**2\n",
    "\n",
    "    b = (1 + c_agonist/Kd_inactive)**2\n",
    "\n",
    "    return a/(a+b*np.exp(-beta_deltaE))\n",
    "\n",
    "def resid(param, c, p_active):\n",
    "    return p_active - agonist_only_p_active_theory(c, *param)\n"
   ]
  },
  {
   "cell_type": "code",
   "execution_count": 126,
   "id": "be20131e",
   "metadata": {},
   "outputs": [],
   "source": [
    "def PAM_only_p_active_theory(c_pam, log_Kd_active, log_Kd_inactive, beta_deltaE):\n",
    "    \"theoretical curve for mglur5 active probability\"\n",
    "\n",
    "    Kd_active = 10**log_Kd_active\n",
    "    Kd_inactive = 10**log_Kd_inactive\n",
    "    a = (1 + c_pam/Kd_active)\n",
    "\n",
    "    b = (1 + c_pam/Kd_inactive)\n",
    "\n",
    "    return a/(a+b*np.exp(-beta_deltaE))\n",
    "\n",
    "def resid_PAM(param, c, p_active):\n",
    "    return p_active - PAM_only_p_active_theory(c, *param)\n"
   ]
  },
  {
   "cell_type": "code",
   "execution_count": 4,
   "id": "f47fdab1",
   "metadata": {},
   "outputs": [
    {
     "data": {
      "text/html": [
       "\n",
       "\n",
       "\n",
       "\n",
       "\n",
       "\n",
       "  <div class=\"bk-root\" id=\"6ea669e7-46e2-4897-8ed3-a3b817d9ee48\" data-root-id=\"1003\"></div>\n"
      ]
     },
     "metadata": {},
     "output_type": "display_data"
    },
    {
     "data": {
      "application/javascript": [
       "(function(root) {\n",
       "  function embed_document(root) {\n",
       "    \n",
       "  const docs_json = {\"5894d2d0-0b0f-41e4-b07e-efca24997918\":{\"defs\":[],\"roots\":{\"references\":[{\"attributes\":{\"below\":[{\"id\":\"1012\"}],\"center\":[{\"id\":\"1015\"},{\"id\":\"1019\"},{\"id\":\"1051\"}],\"height\":400,\"left\":[{\"id\":\"1016\"}],\"renderers\":[{\"id\":\"1038\"},{\"id\":\"1057\"}],\"title\":{\"id\":\"1040\"},\"toolbar\":{\"id\":\"1027\"},\"x_range\":{\"id\":\"1004\"},\"x_scale\":{\"id\":\"1008\"},\"y_range\":{\"id\":\"1006\"},\"y_scale\":{\"id\":\"1010\"}},\"id\":\"1003\",\"subtype\":\"Figure\",\"type\":\"Plot\"},{\"attributes\":{},\"id\":\"1017\",\"type\":\"BasicTicker\"},{\"attributes\":{},\"id\":\"1006\",\"type\":\"DataRange1d\"},{\"attributes\":{\"data\":{\"x\":{\"__ndarray__\":\"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\",\"dtype\":\"float64\",\"order\":\"little\",\"shape\":[200]},\"y\":{\"__ndarray__\":\"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\",\"dtype\":\"float64\",\"order\":\"little\",\"shape\":[200]}},\"selected\":{\"id\":\"1049\"},\"selection_policy\":{\"id\":\"1048\"}},\"id\":\"1034\",\"type\":\"ColumnDataSource\"},{\"attributes\":{\"line_color\":\"#aec7e8\",\"x\":{\"field\":\"x\"},\"y\":{\"field\":\"y\"}},\"id\":\"1035\",\"type\":\"Line\"},{\"attributes\":{\"source\":{\"id\":\"1053\"}},\"id\":\"1058\",\"type\":\"CDSView\"},{\"attributes\":{\"num_minor_ticks\":10},\"id\":\"1013\",\"type\":\"LogTicker\"},{\"attributes\":{},\"id\":\"1023\",\"type\":\"SaveTool\"},{\"attributes\":{},\"id\":\"1024\",\"type\":\"ResetTool\"},{\"attributes\":{},\"id\":\"1048\",\"type\":\"UnionRenderers\"},{\"attributes\":{},\"id\":\"1025\",\"type\":\"HelpTool\"},{\"attributes\":{},\"id\":\"1010\",\"type\":\"LinearScale\"},{\"attributes\":{\"axis_label\":\"active_probability\",\"coordinates\":null,\"formatter\":{\"id\":\"1043\"},\"group\":null,\"major_label_policy\":{\"id\":\"1044\"},\"ticker\":{\"id\":\"1017\"}},\"id\":\"1016\",\"type\":\"LinearAxis\"},{\"attributes\":{},\"id\":\"1047\",\"type\":\"AllLabels\"},{\"attributes\":{\"source\":{\"id\":\"1034\"}},\"id\":\"1039\",\"type\":\"CDSView\"},{\"attributes\":{\"coordinates\":null,\"data_source\":{\"id\":\"1034\"},\"glyph\":{\"id\":\"1035\"},\"group\":null,\"hover_glyph\":null,\"muted_glyph\":{\"id\":\"1037\"},\"nonselection_glyph\":{\"id\":\"1036\"},\"view\":{\"id\":\"1039\"}},\"id\":\"1038\",\"type\":\"GlyphRenderer\"},{\"attributes\":{\"axis\":{\"id\":\"1016\"},\"coordinates\":null,\"dimension\":1,\"group\":null,\"ticker\":null},\"id\":\"1019\",\"type\":\"Grid\"},{\"attributes\":{\"line_alpha\":0.2,\"line_color\":\"#aec7e8\",\"x\":{\"field\":\"x\"},\"y\":{\"field\":\"y\"}},\"id\":\"1037\",\"type\":\"Line\"},{\"attributes\":{},\"id\":\"1043\",\"type\":\"BasicTickFormatter\"},{\"attributes\":{\"line_alpha\":0.2,\"line_color\":\"#ff7f0e\",\"x\":{\"field\":\"x\"},\"y\":{\"field\":\"y\"}},\"id\":\"1056\",\"type\":\"Line\"},{\"attributes\":{},\"id\":\"1020\",\"type\":\"PanTool\"},{\"attributes\":{},\"id\":\"1044\",\"type\":\"AllLabels\"},{\"attributes\":{\"coordinates\":null,\"group\":null},\"id\":\"1040\",\"type\":\"Title\"},{\"attributes\":{\"line_alpha\":0.1,\"line_color\":\"#ff7f0e\",\"x\":{\"field\":\"x\"},\"y\":{\"field\":\"y\"}},\"id\":\"1055\",\"type\":\"Line\"},{\"attributes\":{},\"id\":\"1008\",\"type\":\"LogScale\"},{\"attributes\":{\"coordinates\":null,\"group\":null,\"items\":[{\"id\":\"1052\"},{\"id\":\"1072\"}]},\"id\":\"1051\",\"type\":\"Legend\"},{\"attributes\":{\"ticker\":null},\"id\":\"1046\",\"type\":\"LogTickFormatter\"},{\"attributes\":{\"label\":{\"value\":\"-15,-8,-34\"},\"renderers\":[{\"id\":\"1057\"}]},\"id\":\"1072\",\"type\":\"LegendItem\"},{\"attributes\":{},\"id\":\"1021\",\"type\":\"WheelZoomTool\"},{\"attributes\":{\"data\":{\"x\":{\"__ndarray__\":\"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\",\"dtype\":\"float64\",\"order\":\"little\",\"shape\":[200]},\"y\":{\"__ndarray__\":\"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\",\"dtype\":\"float64\",\"order\":\"little\",\"shape\":[200]}},\"selected\":{\"id\":\"1070\"},\"selection_policy\":{\"id\":\"1069\"}},\"id\":\"1053\",\"type\":\"ColumnDataSource\"},{\"attributes\":{\"line_color\":\"#ff7f0e\",\"x\":{\"field\":\"x\"},\"y\":{\"field\":\"y\"}},\"id\":\"1054\",\"type\":\"Line\"},{\"attributes\":{\"line_alpha\":0.1,\"line_color\":\"#aec7e8\",\"x\":{\"field\":\"x\"},\"y\":{\"field\":\"y\"}},\"id\":\"1036\",\"type\":\"Line\"},{\"attributes\":{\"tools\":[{\"id\":\"1020\"},{\"id\":\"1021\"},{\"id\":\"1022\"},{\"id\":\"1023\"},{\"id\":\"1024\"},{\"id\":\"1025\"}]},\"id\":\"1027\",\"type\":\"Toolbar\"},{\"attributes\":{\"label\":{\"value\":\"-10,-8,-8\"},\"renderers\":[{\"id\":\"1038\"}]},\"id\":\"1052\",\"type\":\"LegendItem\"},{\"attributes\":{\"bottom_units\":\"screen\",\"coordinates\":null,\"fill_alpha\":0.5,\"fill_color\":\"lightgrey\",\"group\":null,\"left_units\":\"screen\",\"level\":\"overlay\",\"line_alpha\":1.0,\"line_color\":\"black\",\"line_dash\":[4,4],\"line_width\":2,\"right_units\":\"screen\",\"syncable\":false,\"top_units\":\"screen\"},\"id\":\"1026\",\"type\":\"BoxAnnotation\"},{\"attributes\":{},\"id\":\"1069\",\"type\":\"UnionRenderers\"},{\"attributes\":{\"axis_label\":\"[L-Quis]M\",\"coordinates\":null,\"formatter\":{\"id\":\"1046\"},\"group\":null,\"major_label_policy\":{\"id\":\"1047\"},\"ticker\":{\"id\":\"1013\"}},\"id\":\"1012\",\"type\":\"LogAxis\"},{\"attributes\":{},\"id\":\"1070\",\"type\":\"Selection\"},{\"attributes\":{\"overlay\":{\"id\":\"1026\"}},\"id\":\"1022\",\"type\":\"BoxZoomTool\"},{\"attributes\":{\"axis\":{\"id\":\"1012\"},\"coordinates\":null,\"group\":null,\"ticker\":null},\"id\":\"1015\",\"type\":\"Grid\"},{\"attributes\":{\"coordinates\":null,\"data_source\":{\"id\":\"1053\"},\"glyph\":{\"id\":\"1054\"},\"group\":null,\"hover_glyph\":null,\"muted_glyph\":{\"id\":\"1056\"},\"nonselection_glyph\":{\"id\":\"1055\"},\"view\":{\"id\":\"1058\"}},\"id\":\"1057\",\"type\":\"GlyphRenderer\"},{\"attributes\":{},\"id\":\"1049\",\"type\":\"Selection\"},{\"attributes\":{},\"id\":\"1004\",\"type\":\"DataRange1d\"}],\"root_ids\":[\"1003\"]},\"title\":\"Bokeh Application\",\"version\":\"2.4.2\"}};\n",
       "  const render_items = [{\"docid\":\"5894d2d0-0b0f-41e4-b07e-efca24997918\",\"root_ids\":[\"1003\"],\"roots\":{\"1003\":\"6ea669e7-46e2-4897-8ed3-a3b817d9ee48\"}}];\n",
       "  root.Bokeh.embed.embed_items_notebook(docs_json, render_items);\n",
       "\n",
       "  }\n",
       "  if (root.Bokeh !== undefined) {\n",
       "    embed_document(root);\n",
       "  } else {\n",
       "    let attempts = 0;\n",
       "    const timer = setInterval(function(root) {\n",
       "      if (root.Bokeh !== undefined) {\n",
       "        clearInterval(timer);\n",
       "        embed_document(root);\n",
       "      } else {\n",
       "        attempts++;\n",
       "        if (attempts > 100) {\n",
       "          clearInterval(timer);\n",
       "          console.log(\"Bokeh: ERROR: Unable to run BokehJS code because BokehJS library is missing\");\n",
       "        }\n",
       "      }\n",
       "    }, 10, root)\n",
       "  }\n",
       "})(window);"
      ],
      "application/vnd.bokehjs_exec.v0+json": ""
     },
     "metadata": {
      "application/vnd.bokehjs_exec.v0+json": {
       "id": "1003"
      }
     },
     "output_type": "display_data"
    }
   ],
   "source": [
    "#set up plot\n",
    "from bokeh.plotting import curdoc \n",
    "curdoc().clear()\n",
    "p = bokeh.plotting.figure(plot_height=400,\n",
    "                         plot_width=600,\n",
    "                         x_axis_label='[L-Quis]M',\n",
    "                          y_axis_label='active_probability',\n",
    "                          x_axis_type='log')\n",
    "\n",
    "colors=bokeh.palettes.d3['Category20'][20]\n",
    "\n",
    "ligand_smooth=np.logspace(-11,-3,200)\n",
    "\n",
    "\n",
    "p.line(ligand_smooth, agonist_only_p_active_theory(ligand_smooth, -10, -8, -8), color=colors[1],legend_label='-10,-8,-8')\n",
    "p.line(ligand_smooth, agonist_only_p_active_theory(ligand_smooth, -15, -8, -31), color=colors[2],legend_label='-15,-8,-34')\n",
    "        \n",
    "\n",
    "\n",
    "bokeh.io.show(p);"
   ]
  },
  {
   "cell_type": "code",
   "execution_count": 54,
   "id": "bd092dd4",
   "metadata": {
    "scrolled": true
   },
   "outputs": [
    {
     "data": {
      "text/html": [
       "\n",
       "\n",
       "\n",
       "\n",
       "\n",
       "\n",
       "  <div class=\"bk-root\" id=\"45b9b231-d56c-4995-ad7b-1f00ee4e1536\" data-root-id=\"6011\"></div>\n"
      ]
     },
     "metadata": {},
     "output_type": "display_data"
    },
    {
     "data": {
      "application/javascript": [
       "(function(root) {\n",
       "  function embed_document(root) {\n",
       "    \n",
       "  var docs_json = {\"d27d1ec6-26df-46d0-9f12-1dd5feb29383\":{\"defs\":[],\"roots\":{\"references\":[{\"attributes\":{\"below\":[{\"id\":\"6020\"}],\"center\":[{\"id\":\"6023\"},{\"id\":\"6027\"},{\"id\":\"6058\"}],\"height\":400,\"left\":[{\"id\":\"6024\"}],\"renderers\":[{\"id\":\"6045\"},{\"id\":\"6063\"},{\"id\":\"6082\"},{\"id\":\"6103\"},{\"id\":\"6126\"},{\"id\":\"6151\"},{\"id\":\"6178\"},{\"id\":\"6207\"}],\"title\":{\"id\":\"6048\"},\"toolbar\":{\"id\":\"6035\"},\"x_range\":{\"id\":\"6012\"},\"x_scale\":{\"id\":\"6016\"},\"y_range\":{\"id\":\"6014\"},\"y_scale\":{\"id\":\"6018\"}},\"id\":\"6011\",\"subtype\":\"Figure\",\"type\":\"Plot\"},{\"attributes\":{\"items\":[{\"id\":\"6059\"},{\"id\":\"6078\"},{\"id\":\"6099\"},{\"id\":\"6122\"},{\"id\":\"6147\"},{\"id\":\"6174\"},{\"id\":\"6203\"},{\"id\":\"6234\"}]},\"id\":\"6058\",\"type\":\"Legend\"},{\"attributes\":{},\"id\":\"6031\",\"type\":\"SaveTool\"},{\"attributes\":{\"num_minor_ticks\":10},\"id\":\"6021\",\"type\":\"LogTicker\"},{\"attributes\":{},\"id\":\"6014\",\"type\":\"DataRange1d\"},{\"attributes\":{},\"id\":\"6048\",\"type\":\"Title\"},{\"attributes\":{\"axis_label\":\"active_probability\",\"formatter\":{\"id\":\"6052\"},\"major_label_policy\":{\"id\":\"6054\"},\"ticker\":{\"id\":\"6025\"}},\"id\":\"6024\",\"type\":\"LinearAxis\"},{\"attributes\":{},\"id\":\"6028\",\"type\":\"PanTool\"},{\"attributes\":{},\"id\":\"6029\",\"type\":\"WheelZoomTool\"},{\"attributes\":{\"axis\":{\"id\":\"6024\"},\"dimension\":1,\"ticker\":null},\"id\":\"6027\",\"type\":\"Grid\"},{\"attributes\":{\"data\":{\"x\":{\"__ndarray__\":\"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\",\"dtype\":\"float64\",\"order\":\"little\",\"shape\":[200]},\"y\":{\"__ndarray__\":\"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\",\"dtype\":\"float64\",\"order\":\"little\",\"shape\":[200]}},\"selected\":{\"id\":\"6056\"},\"selection_policy\":{\"id\":\"6057\"}},\"id\":\"6042\",\"type\":\"ColumnDataSource\"},{\"attributes\":{},\"id\":\"6025\",\"type\":\"BasicTicker\"},{\"attributes\":{},\"id\":\"6032\",\"type\":\"ResetTool\"},{\"attributes\":{\"label\":{\"value\":\"delta E=-4\"},\"renderers\":[{\"id\":\"6045\"}]},\"id\":\"6059\",\"type\":\"LegendItem\"},{\"attributes\":{\"overlay\":{\"id\":\"6034\"}},\"id\":\"6030\",\"type\":\"BoxZoomTool\"},{\"attributes\":{\"source\":{\"id\":\"6204\"}},\"id\":\"6208\",\"type\":\"CDSView\"},{\"attributes\":{},\"id\":\"6018\",\"type\":\"LinearScale\"},{\"attributes\":{\"label\":{\"value\":\"delta E=-11\"},\"renderers\":[{\"id\":\"6207\"}]},\"id\":\"6234\",\"type\":\"LegendItem\"},{\"attributes\":{},\"id\":\"6012\",\"type\":\"DataRange1d\"},{\"attributes\":{\"axis_label\":\"[L-Quis]M\",\"formatter\":{\"id\":\"6049\"},\"major_label_policy\":{\"id\":\"6051\"},\"ticker\":{\"id\":\"6021\"}},\"id\":\"6020\",\"type\":\"LogAxis\"},{\"attributes\":{},\"id\":\"6016\",\"type\":\"LogScale\"},{\"attributes\":{\"data_source\":{\"id\":\"6042\"},\"glyph\":{\"id\":\"6043\"},\"hover_glyph\":null,\"muted_glyph\":null,\"nonselection_glyph\":{\"id\":\"6044\"},\"view\":{\"id\":\"6046\"}},\"id\":\"6045\",\"type\":\"GlyphRenderer\"},{\"attributes\":{\"axis\":{\"id\":\"6020\"},\"ticker\":null},\"id\":\"6023\",\"type\":\"Grid\"},{\"attributes\":{\"active_multi\":null,\"tools\":[{\"id\":\"6028\"},{\"id\":\"6029\"},{\"id\":\"6030\"},{\"id\":\"6031\"},{\"id\":\"6032\"},{\"id\":\"6033\"}]},\"id\":\"6035\",\"type\":\"Toolbar\"},{\"attributes\":{},\"id\":\"6232\",\"type\":\"Selection\"},{\"attributes\":{},\"id\":\"6233\",\"type\":\"UnionRenderers\"},{\"attributes\":{\"source\":{\"id\":\"6042\"}},\"id\":\"6046\",\"type\":\"CDSView\"},{\"attributes\":{},\"id\":\"6033\",\"type\":\"HelpTool\"},{\"attributes\":{\"ticker\":null},\"id\":\"6049\",\"type\":\"LogTickFormatter\"},{\"attributes\":{},\"id\":\"6077\",\"type\":\"UnionRenderers\"},{\"attributes\":{\"label\":{\"value\":\"delta E=-8\"},\"renderers\":[{\"id\":\"6126\"}]},\"id\":\"6147\",\"type\":\"LegendItem\"},{\"attributes\":{},\"id\":\"6202\",\"type\":\"UnionRenderers\"},{\"attributes\":{\"data_source\":{\"id\":\"6079\"},\"glyph\":{\"id\":\"6080\"},\"hover_glyph\":null,\"muted_glyph\":null,\"nonselection_glyph\":{\"id\":\"6081\"},\"view\":{\"id\":\"6083\"}},\"id\":\"6082\",\"type\":\"GlyphRenderer\"},{\"attributes\":{\"data\":{\"x\":{\"__ndarray__\":\"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\",\"dtype\":\"float64\",\"order\":\"little\",\"shape\":[200]},\"y\":{\"__ndarray__\":\"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\",\"dtype\":\"float64\",\"order\":\"little\",\"shape\":[200]}},\"selected\":{\"id\":\"6232\"},\"selection_policy\":{\"id\":\"6233\"}},\"id\":\"6204\",\"type\":\"ColumnDataSource\"},{\"attributes\":{\"data\":{\"x\":{\"__ndarray__\":\"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\",\"dtype\":\"float64\",\"order\":\"little\",\"shape\":[200]},\"y\":{\"__ndarray__\":\"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\",\"dtype\":\"float64\",\"order\":\"little\",\"shape\":[200]}},\"selected\":{\"id\":\"6145\"},\"selection_policy\":{\"id\":\"6146\"}},\"id\":\"6123\",\"type\":\"ColumnDataSource\"},{\"attributes\":{\"source\":{\"id\":\"6123\"}},\"id\":\"6127\",\"type\":\"CDSView\"},{\"attributes\":{\"line_color\":\"#2ca02c\",\"x\":{\"field\":\"x\"},\"y\":{\"field\":\"y\"}},\"id\":\"6124\",\"type\":\"Line\"},{\"attributes\":{\"line_color\":\"#98df8a\",\"x\":{\"field\":\"x\"},\"y\":{\"field\":\"y\"}},\"id\":\"6149\",\"type\":\"Line\"},{\"attributes\":{\"line_color\":\"#ff9896\",\"x\":{\"field\":\"x\"},\"y\":{\"field\":\"y\"}},\"id\":\"6205\",\"type\":\"Line\"},{\"attributes\":{\"data_source\":{\"id\":\"6148\"},\"glyph\":{\"id\":\"6149\"},\"hover_glyph\":null,\"muted_glyph\":null,\"nonselection_glyph\":{\"id\":\"6150\"},\"view\":{\"id\":\"6152\"}},\"id\":\"6151\",\"type\":\"GlyphRenderer\"},{\"attributes\":{\"source\":{\"id\":\"6060\"}},\"id\":\"6064\",\"type\":\"CDSView\"},{\"attributes\":{\"data\":{\"x\":{\"__ndarray__\":\"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\",\"dtype\":\"float64\",\"order\":\"little\",\"shape\":[200]},\"y\":{\"__ndarray__\":\"3PgR+GtgID/H+LQPe2UgP9NRgqQIayA/xwv5KCFxID9jBf1N0ncgP7KrniMrfyA/+HBzPTyHID9EnuvaF5AgP8W3IBTSmSA/v4WoC4GkID/uTwwmPbAgPyFqmkchvSA/5mFiGUvLID/okkpW29ogP/FkUSH26yA/duM1ZsP+ID/hz/NFbxMhP80NuJAqKiE/Tts0TytDIT8pgYtdrV4hP/M1XRrzfCE/aGkBLUaeIT+0rF9m+MIhP7ShgsBk6yE/HS+sgfAXIj9i7IaIDEkiP3+XC8g2fyI/ru7a+vu6Ij9vay2X+fwiPxPLHQ7gRSM/48QFY3WWIz+I/fQpmO8jP5FKC/9CUiQ/oknGi5C/JD/42zgzwDglPynXx4I7vyU/VIuOipxUJj+sySJHtfomP7YcRk6Ysyc/p5ll+aKBKD/K7+JTiWcpP9b9VCBkaCo/mEmgV8GHKz8I+G2Xt8ksP6B5rAv9Mi4/nbEJeQLJLz+wx7uWCckwP8F5UmC9yjE/HW3x3NjtMj/HbSoySTc0P/HgbKvLrDU/JBIkvhJVNz+n3gre8Tc5P/uCkGKRXjs/dvIR96vTPT/MQuGo61FAP+uXxhzt7kE/9oyUHYnJQz8HDRrp9etFP3uzsh44Ykg/3mfKWnY6Sz9QIl2nW4VOP38W9ZlFK1E/1GFdDpRiUz/HF+8xOvZVP4catU1F9lg/Ew5IDpt1XD9wSQ1/O0VgP1q68cx9p2I/goIkqOxwZT/gMV/fhrNoP/p/i69ehGw/klmYYwp+cD+1slATsRtzP1kn3I/YK3Y/AKN5iuLBeT+PcTjYN/R9P4fK4ENUboE/x06Qr2dMhD9mx/PROqWHP2KH7WH5i4s/MsZEeSALkD8f8qdlIa6SPzQASPdrvJU/bfq6scBEmT8B6qXwJledP1E7Lk1nAqE///UiVu6voz+UWtNfj72mP7XK2h3RNKo/Stq2ixYfrj+OH4T7pUKxPzcl8PHCt7M/CerBUEpytj/NDDSjyHS5P/UlbFm1wLw/ZeO4uB4rwD/cXAN7CxrCP13FCQuxK8Q/ApTTCs5dxj/s2duaU63IP/EpcH10Fss/wTq+Er+UzT91ZRxgoBHQP3kNUi9YXtE/HLm7TM6t0j/cJMxtTf3TP1Yi3sA5StU/X5SrQySS1j9tNKVS2tLXP34YF99wCtk/hKOHK0s32j/V47RPHVjbP36JmQ7ra9w/Oo9jtQNy3T9zNK7L+2neP6nacFilU98/JSgxtYMX4D9xQFK6Kn7gP68vjnfz3eA/ryqZxBc34T+I9lEQ3InhP5B5AkuM1uE/UfX8Qnkd4j/4sGhw9l7iP6wzoChYm+I/6krnLvLS4j+SQwmXFgbjPy1aO+4UNeM/6uUXnzlg4z8KPGmGzYfjP4Wela8VrOM/rxOsMFPN4z9u5Dwfw+vjPyfYQJieB+Q/vOFP1hoh5D91PEdSaTjkP7l1P+u3TeQ/ZwFWEzFh5D8AQFb/+3LkP79Yvtc8g+Q/RB/46RSS5D8+e+jYop/kP4lBM8wCrOQ/gqPAnU635D8AezYFnsHkP3ikNMEGy+Q/keA5vpzT5D80qSc7ctvkP7sYaOuX4uQ/BVbCFh3p5D9bpfC2D+/kP6PYD5N89OQ/RdgCWW/55D+TwOa08v3kP9jgtGYQAuU/NQYwVtEF5T/CEjqlPQnlPyQYrsBcDOU/8B7abzUP5T8yibLizRHlP3en174rFOU/dLGEK1QW5T8v6H3cSxjlP7A+EhwXGuU/D4VD1Lkb5T/9uyaXNx3lP4LvjKaTHuU/H8AD+9Af5T/+mjtK8iDlP0uM4Az6IeU/d5Pxg+oi5T8PbqG9xSPlPwbsypmNJOU/lw4CzkMl5T8PcErp6SXlPyi/eleBJuU/RnJUZAsn5T+zPVY+iSflP61KT/n7J+U/Z6u4kGQo5T+AENrpwyjlP+tWvtUaKeU/hyD8Emop5T9mTVZPsinlPzHXNyn0KeU/akIOMTAq5T+SkoXqZirlPxhtqM2YKuU/itvmR8Yq5T9R5wW97yrlP18X+ocVK+U/06qu+zcr5T9GQrtjVyvlPzaDCQV0K+U/oR5sHo4r5T83hCjppSvlP31udJm7K+U/EFroXs8r5T8K4udk4SvlPw==\",\"dtype\":\"float64\",\"order\":\"little\",\"shape\":[200]}},\"selected\":{\"id\":\"6172\"},\"selection_policy\":{\"id\":\"6173\"}},\"id\":\"6148\",\"type\":\"ColumnDataSource\"},{\"attributes\":{\"data_source\":{\"id\":\"6060\"},\"glyph\":{\"id\":\"6061\"},\"hover_glyph\":null,\"muted_glyph\":null,\"nonselection_glyph\":{\"id\":\"6062\"},\"view\":{\"id\":\"6064\"}},\"id\":\"6063\",\"type\":\"GlyphRenderer\"},{\"attributes\":{\"data\":{\"x\":{\"__ndarray__\":\"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\",\"dtype\":\"float64\",\"order\":\"little\",\"shape\":[200]},\"y\":{\"__ndarray__\":\"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\",\"dtype\":\"float64\",\"order\":\"little\",\"shape\":[200]}},\"selected\":{\"id\":\"6097\"},\"selection_policy\":{\"id\":\"6098\"}},\"id\":\"6079\",\"type\":\"ColumnDataSource\"},{\"attributes\":{\"source\":{\"id\":\"6148\"}},\"id\":\"6152\",\"type\":\"CDSView\"},{\"attributes\":{\"line_color\":\"#ff7f0e\",\"x\":{\"field\":\"x\"},\"y\":{\"field\":\"y\"}},\"id\":\"6080\",\"type\":\"Line\"},{\"attributes\":{\"line_color\":\"#aec7e8\",\"x\":{\"field\":\"x\"},\"y\":{\"field\":\"y\"}},\"id\":\"6061\",\"type\":\"Line\"},{\"attributes\":{\"source\":{\"id\":\"6100\"}},\"id\":\"6104\",\"type\":\"CDSView\"},{\"attributes\":{},\"id\":\"6076\",\"type\":\"Selection\"},{\"attributes\":{\"label\":{\"value\":\"delta E=-6\"},\"renderers\":[{\"id\":\"6082\"}]},\"id\":\"6099\",\"type\":\"LegendItem\"},{\"attributes\":{\"line_color\":\"#ffbb78\",\"x\":{\"field\":\"x\"},\"y\":{\"field\":\"y\"}},\"id\":\"6101\",\"type\":\"Line\"},{\"attributes\":{\"label\":{\"value\":\"delta E=-5\"},\"renderers\":[{\"id\":\"6063\"}]},\"id\":\"6078\",\"type\":\"LegendItem\"},{\"attributes\":{\"data_source\":{\"id\":\"6175\"},\"glyph\":{\"id\":\"6176\"},\"hover_glyph\":null,\"muted_glyph\":null,\"nonselection_glyph\":{\"id\":\"6177\"},\"view\":{\"id\":\"6179\"}},\"id\":\"6178\",\"type\":\"GlyphRenderer\"},{\"attributes\":{},\"id\":\"6052\",\"type\":\"BasicTickFormatter\"},{\"attributes\":{},\"id\":\"6201\",\"type\":\"Selection\"},{\"attributes\":{\"source\":{\"id\":\"6175\"}},\"id\":\"6179\",\"type\":\"CDSView\"},{\"attributes\":{\"data_source\":{\"id\":\"6100\"},\"glyph\":{\"id\":\"6101\"},\"hover_glyph\":null,\"muted_glyph\":null,\"nonselection_glyph\":{\"id\":\"6102\"},\"view\":{\"id\":\"6104\"}},\"id\":\"6103\",\"type\":\"GlyphRenderer\"},{\"attributes\":{\"data\":{\"x\":{\"__ndarray__\":\"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\",\"dtype\":\"float64\",\"order\":\"little\",\"shape\":[200]},\"y\":{\"__ndarray__\":\"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\",\"dtype\":\"float64\",\"order\":\"little\",\"shape\":[200]}},\"selected\":{\"id\":\"6120\"},\"selection_policy\":{\"id\":\"6121\"}},\"id\":\"6100\",\"type\":\"ColumnDataSource\"},{\"attributes\":{\"line_alpha\":0.1,\"line_color\":\"#d62728\",\"x\":{\"field\":\"x\"},\"y\":{\"field\":\"y\"}},\"id\":\"6177\",\"type\":\"Line\"},{\"attributes\":{\"data\":{\"x\":{\"__ndarray__\":\"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\",\"dtype\":\"float64\",\"order\":\"little\",\"shape\":[200]},\"y\":{\"__ndarray__\":\"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\",\"dtype\":\"float64\",\"order\":\"little\",\"shape\":[200]}},\"selected\":{\"id\":\"6201\"},\"selection_policy\":{\"id\":\"6202\"}},\"id\":\"6175\",\"type\":\"ColumnDataSource\"},{\"attributes\":{},\"id\":\"6098\",\"type\":\"UnionRenderers\"},{\"attributes\":{\"data_source\":{\"id\":\"6123\"},\"glyph\":{\"id\":\"6124\"},\"hover_glyph\":null,\"muted_glyph\":null,\"nonselection_glyph\":{\"id\":\"6125\"},\"view\":{\"id\":\"6127\"}},\"id\":\"6126\",\"type\":\"GlyphRenderer\"},{\"attributes\":{\"label\":{\"value\":\"delta E=-10\"},\"renderers\":[{\"id\":\"6178\"}]},\"id\":\"6203\",\"type\":\"LegendItem\"},{\"attributes\":{\"line_alpha\":0.1,\"line_color\":\"#ff7f0e\",\"x\":{\"field\":\"x\"},\"y\":{\"field\":\"y\"}},\"id\":\"6081\",\"type\":\"Line\"},{\"attributes\":{},\"id\":\"6120\",\"type\":\"Selection\"},{\"attributes\":{\"data_source\":{\"id\":\"6204\"},\"glyph\":{\"id\":\"6205\"},\"hover_glyph\":null,\"muted_glyph\":null,\"nonselection_glyph\":{\"id\":\"6206\"},\"view\":{\"id\":\"6208\"}},\"id\":\"6207\",\"type\":\"GlyphRenderer\"},{\"attributes\":{\"line_alpha\":0.1,\"line_color\":\"#98df8a\",\"x\":{\"field\":\"x\"},\"y\":{\"field\":\"y\"}},\"id\":\"6150\",\"type\":\"Line\"},{\"attributes\":{\"line_alpha\":0.1,\"line_color\":\"#1f77b4\",\"x\":{\"field\":\"x\"},\"y\":{\"field\":\"y\"}},\"id\":\"6044\",\"type\":\"Line\"},{\"attributes\":{},\"id\":\"6172\",\"type\":\"Selection\"},{\"attributes\":{\"data\":{\"x\":{\"__ndarray__\":\"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\",\"dtype\":\"float64\",\"order\":\"little\",\"shape\":[200]},\"y\":{\"__ndarray__\":\"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\",\"dtype\":\"float64\",\"order\":\"little\",\"shape\":[200]}},\"selected\":{\"id\":\"6076\"},\"selection_policy\":{\"id\":\"6077\"}},\"id\":\"6060\",\"type\":\"ColumnDataSource\"},{\"attributes\":{\"bottom_units\":\"screen\",\"fill_alpha\":0.5,\"fill_color\":\"lightgrey\",\"left_units\":\"screen\",\"level\":\"overlay\",\"line_alpha\":1.0,\"line_color\":\"black\",\"line_dash\":[4,4],\"line_width\":2,\"right_units\":\"screen\",\"syncable\":false,\"top_units\":\"screen\"},\"id\":\"6034\",\"type\":\"BoxAnnotation\"},{\"attributes\":{},\"id\":\"6056\",\"type\":\"Selection\"},{\"attributes\":{},\"id\":\"6097\",\"type\":\"Selection\"},{\"attributes\":{\"label\":{\"value\":\"delta E=-9\"},\"renderers\":[{\"id\":\"6151\"}]},\"id\":\"6174\",\"type\":\"LegendItem\"},{\"attributes\":{\"source\":{\"id\":\"6079\"}},\"id\":\"6083\",\"type\":\"CDSView\"},{\"attributes\":{},\"id\":\"6145\",\"type\":\"Selection\"},{\"attributes\":{\"line_alpha\":0.1,\"line_color\":\"#ffbb78\",\"x\":{\"field\":\"x\"},\"y\":{\"field\":\"y\"}},\"id\":\"6102\",\"type\":\"Line\"},{\"attributes\":{},\"id\":\"6173\",\"type\":\"UnionRenderers\"},{\"attributes\":{},\"id\":\"6051\",\"type\":\"AllLabels\"},{\"attributes\":{\"line_alpha\":0.1,\"line_color\":\"#2ca02c\",\"x\":{\"field\":\"x\"},\"y\":{\"field\":\"y\"}},\"id\":\"6125\",\"type\":\"Line\"},{\"attributes\":{\"line_alpha\":0.1,\"line_color\":\"#ff9896\",\"x\":{\"field\":\"x\"},\"y\":{\"field\":\"y\"}},\"id\":\"6206\",\"type\":\"Line\"},{\"attributes\":{\"line_alpha\":0.1,\"line_color\":\"#aec7e8\",\"x\":{\"field\":\"x\"},\"y\":{\"field\":\"y\"}},\"id\":\"6062\",\"type\":\"Line\"},{\"attributes\":{},\"id\":\"6054\",\"type\":\"AllLabels\"},{\"attributes\":{\"label\":{\"value\":\"delta E=-7\"},\"renderers\":[{\"id\":\"6103\"}]},\"id\":\"6122\",\"type\":\"LegendItem\"},{\"attributes\":{\"line_color\":\"#d62728\",\"x\":{\"field\":\"x\"},\"y\":{\"field\":\"y\"}},\"id\":\"6176\",\"type\":\"Line\"},{\"attributes\":{\"line_color\":\"#1f77b4\",\"x\":{\"field\":\"x\"},\"y\":{\"field\":\"y\"}},\"id\":\"6043\",\"type\":\"Line\"},{\"attributes\":{},\"id\":\"6146\",\"type\":\"UnionRenderers\"},{\"attributes\":{},\"id\":\"6057\",\"type\":\"UnionRenderers\"},{\"attributes\":{},\"id\":\"6121\",\"type\":\"UnionRenderers\"}],\"root_ids\":[\"6011\"]},\"title\":\"Bokeh Application\",\"version\":\"2.3.3\"}};\n",
       "  var render_items = [{\"docid\":\"d27d1ec6-26df-46d0-9f12-1dd5feb29383\",\"root_ids\":[\"6011\"],\"roots\":{\"6011\":\"45b9b231-d56c-4995-ad7b-1f00ee4e1536\"}}];\n",
       "  root.Bokeh.embed.embed_items_notebook(docs_json, render_items);\n",
       "\n",
       "  }\n",
       "  if (root.Bokeh !== undefined) {\n",
       "    embed_document(root);\n",
       "  } else {\n",
       "    var attempts = 0;\n",
       "    var timer = setInterval(function(root) {\n",
       "      if (root.Bokeh !== undefined) {\n",
       "        clearInterval(timer);\n",
       "        embed_document(root);\n",
       "      } else {\n",
       "        attempts++;\n",
       "        if (attempts > 100) {\n",
       "          clearInterval(timer);\n",
       "          console.log(\"Bokeh: ERROR: Unable to run BokehJS code because BokehJS library is missing\");\n",
       "        }\n",
       "      }\n",
       "    }, 10, root)\n",
       "  }\n",
       "})(window);"
      ],
      "application/vnd.bokehjs_exec.v0+json": ""
     },
     "metadata": {
      "application/vnd.bokehjs_exec.v0+json": {
       "id": "6011"
      }
     },
     "output_type": "display_data"
    }
   ],
   "source": [
    "#set up plot\n",
    "from bokeh.plotting import curdoc \n",
    "curdoc().clear()\n",
    "p = bokeh.plotting.figure(plot_height=400,\n",
    "                         plot_width=600,\n",
    "                         x_axis_label='[L-Quis]M',\n",
    "                          y_axis_label='active_probability',\n",
    "                          x_axis_type='log')\n",
    "\n",
    "colors=bokeh.palettes.d3['Category20'][20]\n",
    "\n",
    "ligand_smooth=np.logspace(-12,-4,200)\n",
    "\n",
    "for i,deltaE in enumerate(range(-4,-12,-1)):    \n",
    "    p.line(ligand_smooth, agonist_only_p_active_theory(ligand_smooth, -9.8, -7.7, deltaE), color=colors[i],legend_label='delta E='+str(deltaE))\n",
    "\n",
    "\n",
    "bokeh.io.show(p);"
   ]
  },
  {
   "cell_type": "code",
   "execution_count": 63,
   "id": "5cfded7c",
   "metadata": {},
   "outputs": [
    {
     "data": {
      "text/html": [
       "\n",
       "\n",
       "\n",
       "\n",
       "\n",
       "\n",
       "  <div class=\"bk-root\" id=\"18aadb9f-e653-44ca-9850-89d44bfbcb51\" data-root-id=\"7870\"></div>\n"
      ]
     },
     "metadata": {},
     "output_type": "display_data"
    },
    {
     "data": {
      "application/javascript": [
       "(function(root) {\n",
       "  function embed_document(root) {\n",
       "    \n",
       "  var docs_json = {\"9546c658-5092-4341-a425-6d44b34134f0\":{\"defs\":[],\"roots\":{\"references\":[{\"attributes\":{\"below\":[{\"id\":\"7879\"}],\"center\":[{\"id\":\"7882\"},{\"id\":\"7886\"},{\"id\":\"7917\"}],\"left\":[{\"id\":\"7883\"}],\"renderers\":[{\"id\":\"7904\"},{\"id\":\"7922\"},{\"id\":\"7941\"},{\"id\":\"7962\"},{\"id\":\"7985\"},{\"id\":\"8010\"},{\"id\":\"8037\"}],\"title\":{\"id\":\"7907\"},\"toolbar\":{\"id\":\"7894\"},\"x_range\":{\"id\":\"7871\"},\"x_scale\":{\"id\":\"7875\"},\"y_range\":{\"id\":\"7873\"},\"y_scale\":{\"id\":\"7877\"}},\"id\":\"7870\",\"subtype\":\"Figure\",\"type\":\"Plot\"},{\"attributes\":{\"label\":{\"value\":\"log_Kd_inactive=-3\"},\"renderers\":[{\"id\":\"7904\"}]},\"id\":\"7918\",\"type\":\"LegendItem\"},{\"attributes\":{},\"id\":\"7935\",\"type\":\"Selection\"},{\"attributes\":{\"label\":{\"value\":\"log_Kd_inactive=-8\"},\"renderers\":[{\"id\":\"8010\"}]},\"id\":\"8033\",\"type\":\"LegendItem\"},{\"attributes\":{},\"id\":\"7873\",\"type\":\"DataRange1d\"},{\"attributes\":{\"data_source\":{\"id\":\"8007\"},\"glyph\":{\"id\":\"8008\"},\"hover_glyph\":null,\"muted_glyph\":null,\"nonselection_glyph\":{\"id\":\"8009\"},\"view\":{\"id\":\"8011\"}},\"id\":\"8010\",\"type\":\"GlyphRenderer\"},{\"attributes\":{\"line_color\":\"#aec7e8\",\"x\":{\"field\":\"x\"},\"y\":{\"field\":\"y\"}},\"id\":\"7920\",\"type\":\"Line\"},{\"attributes\":{\"line_alpha\":0.1,\"line_color\":\"#aec7e8\",\"x\":{\"field\":\"x\"},\"y\":{\"field\":\"y\"}},\"id\":\"7921\",\"type\":\"Line\"},{\"attributes\":{\"data\":{\"x\":{\"__ndarray__\":\"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\",\"dtype\":\"float64\",\"order\":\"little\",\"shape\":[200]},\"y\":{\"__ndarray__\":\"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\",\"dtype\":\"float64\",\"order\":\"little\",\"shape\":[200]}},\"selected\":{\"id\":\"8031\"},\"selection_policy\":{\"id\":\"8032\"}},\"id\":\"8007\",\"type\":\"ColumnDataSource\"},{\"attributes\":{},\"id\":\"7911\",\"type\":\"BasicTickFormatter\"},{\"attributes\":{},\"id\":\"7871\",\"type\":\"DataRange1d\"},{\"attributes\":{},\"id\":\"8004\",\"type\":\"Selection\"},{\"attributes\":{\"line_color\":\"#98df8a\",\"x\":{\"field\":\"x\"},\"y\":{\"field\":\"y\"}},\"id\":\"8008\",\"type\":\"Line\"},{\"attributes\":{\"label\":{\"value\":\"log_Kd_inactive=-4\"},\"renderers\":[{\"id\":\"7922\"}]},\"id\":\"7937\",\"type\":\"LegendItem\"},{\"attributes\":{\"data_source\":{\"id\":\"8034\"},\"glyph\":{\"id\":\"8035\"},\"hover_glyph\":null,\"muted_glyph\":null,\"nonselection_glyph\":{\"id\":\"8036\"},\"view\":{\"id\":\"8038\"}},\"id\":\"8037\",\"type\":\"GlyphRenderer\"},{\"attributes\":{\"items\":[{\"id\":\"7918\"},{\"id\":\"7937\"},{\"id\":\"7958\"},{\"id\":\"7981\"},{\"id\":\"8006\"},{\"id\":\"8033\"},{\"id\":\"8062\"}]},\"id\":\"7917\",\"type\":\"Legend\"},{\"attributes\":{\"ticker\":null},\"id\":\"7908\",\"type\":\"LogTickFormatter\"},{\"attributes\":{\"line_alpha\":0.1,\"line_color\":\"#98df8a\",\"x\":{\"field\":\"x\"},\"y\":{\"field\":\"y\"}},\"id\":\"8009\",\"type\":\"Line\"},{\"attributes\":{\"line_alpha\":0.1,\"line_color\":\"#1f77b4\",\"x\":{\"field\":\"x\"},\"y\":{\"field\":\"y\"}},\"id\":\"7903\",\"type\":\"Line\"},{\"attributes\":{\"data_source\":{\"id\":\"7938\"},\"glyph\":{\"id\":\"7939\"},\"hover_glyph\":null,\"muted_glyph\":null,\"nonselection_glyph\":{\"id\":\"7940\"},\"view\":{\"id\":\"7942\"}},\"id\":\"7941\",\"type\":\"GlyphRenderer\"},{\"attributes\":{\"source\":{\"id\":\"7982\"}},\"id\":\"7986\",\"type\":\"CDSView\"},{\"attributes\":{\"source\":{\"id\":\"7901\"}},\"id\":\"7905\",\"type\":\"CDSView\"},{\"attributes\":{\"data\":{\"x\":{\"__ndarray__\":\"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\",\"dtype\":\"float64\",\"order\":\"little\",\"shape\":[200]},\"y\":{\"__ndarray__\":\"Fw1vhEWXOj/5xZ7ryQ87P/nOTo01lTs/b3fvAQgpPD8Y/Hfw8sw8P6am64Xhgj0/7p8ULgFNPj9CACvIyy0/P6TMss4JFEA/Rbd4toifQD8t7Xp4OjtBP3+10ik86UE/a2dEkfurQj9E+/m0RIZDP6cn6+FRe0Q/gr11pt6ORT9gEoNRPsVGP9gyJ6R2I0g/fDHYhV+vST/mr0e0yG9LP32Y25imbE0/QgZHqEevTz+rPlX7SSFRPwO/Bn+smVI/TDo5/FFIVD/eLpDSFjZWP1Verm5tbVg//APEAav6Wj/4VFcOY+xdP+bxO1PqqWA/XZDwX7aiYj8rFeDQsOxkP8wlQRQ2lmc/FktOOFKwaj99N6M1RE9uP746/vuMRXE/OcJNwjTAcz89j0Qflqh2P5AesffgEno/5pmx7hAXfj+kuTQx0GiBPwlKpbosMoQ/SJ1mYqR7hz9ydWeX6lyLPzyQ/az/8Y8/YGAemfKtkj8Z8fs2s+CVP+MrIGT5p5k/7xlrnUIenj8R8FkAJLGhP5VLhJe3y6Q/hdCUwxVzqD+suEcyIL6sP51xwdoz47A/BP303wXUsz/pnj+jsEC3P58Y2bEmObs/GDJDfZ/Nvz9AnNog7YbCP3RHr3sQhMU/cXHQ/QXkyD+h5i3hiKrMP8o1nwo/bNA/yamJU5u10j+GsskR6y3VP8u3PI1+z9c/umB50WqS2j86nva4ymzdP433YcWdKeA/Z+PTZsWc4T/JJlJHwAnjP0BYUXPVauQ/8cmymAe75T+xa3SkVfbmP/u+gqDdGeg/r67ztOEj6T8nRKXisxPqP/Gwtt6P6eo/rcOiOWum6z8wK8Udw0vsP213MCJt2+w/fqSAnG5X7T/4/BkB3MHtP581rHrAHO4/y9FS/Axq7j/e1OObjavuP+D8SN7j4u4/Iu0KsIQR7z8nI/LvuDjvP0lbgKefWe8/V09XQjF17z94VMlEQ4zvP/e2lyiMn+8/0rUdJaev7z8ONLe+F73vP+3IZAlNyO8/KfXelaTR7z9Hw7EHbdnvP+bDnlfo3+8/Bik0yE3l7z+hEuKTy+nvP/nNTlyI7e8/EuiSYqTw7z9FjZiPOvPvP65GPlNh9e8/wdstYCv37z8fm6VJqPjvP8+vxgfl+e8/+hhcZuz67z+7GH5hx/vvP8FT9nJ9/O8/3hrZ0hT97z/KeGetkv3vP6VQ+k/7/e8/tKlvTlL+7z8evVaimv7vPxcY5MTW/u8/99+LxAj/7z/M2PtWMv/vP7U1EOhU/+8/I5JEpnH/7z909wyNif/vP5HbcG2d/+8/7wIz9a3/7z95qcS0u//vP+TiNyTH/+8/yGxcp9D/7z/v6iqR2P/vP416nCbf/+8/sYAHoeT/7z+UZxYw6f/vPxGCafvs/+8/7WXyI/D/7z/KoxTF8v/vPzPClfX0/+8/dbVkyPb/7z8sqz9N+P/vP5nYPZH5/+8/ogVCn/r/7z/HwVmA+//vP/6GDDz8/+8/+ICd2Pz/7z9QOkJb/f/vP2oPUMj9/+8/+fVhI/7/7z+X5Hdv/v/vP/btEK/+/+8/v/RA5P7/7z9KtsIQ///vP4XKBjb//+8/bxxAVf//7z9jSG5v///vPx07ZoX//+8/3lzZl///7z99h1un///vP3j7Z7T//+8/bX9lv///7z/+zanI///vPwJwfND//+8/ABwZ1///7z+Tr7Hc///vP+fTb+H//+8/sVt25f//7z9lZuLo///vP6lSzOv//+8/J4hI7v//7z+bH2jw///vP8VuOfL//+8/CX3I8///7z+KZB/1///vPyWjRvb//+8/5F1F9///7z9QmSH4///vP2Bo4Pj//+8/mxOG+f//7z/TORb6///vP2/rk/r//+8/O8EB+///7z9972H7///vP+FVtvv//+8/1YwA/P//7z+z8EH8///vPyKre/z//+8/6Lqu/P//7z+F+tv8///vP74lBP3//+8/O94n/f//7z92r0f9///vPwUSZP3//+8/ZG59/f//7z9IH5T9///vP6BzqP3//+8/PrC6/f//7z9IEcv9///vP2jL2f3//+8/0wzn/f//7z8r/vL9///vP0HD/f3//+8/sXsH/v//7z9uQxD+///vPw==\",\"dtype\":\"float64\",\"order\":\"little\",\"shape\":[200]}},\"selected\":{\"id\":\"7935\"},\"selection_policy\":{\"id\":\"7936\"}},\"id\":\"7919\",\"type\":\"ColumnDataSource\"},{\"attributes\":{\"data\":{\"x\":{\"__ndarray__\":\"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\",\"dtype\":\"float64\",\"order\":\"little\",\"shape\":[200]},\"y\":{\"__ndarray__\":\"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\",\"dtype\":\"float64\",\"order\":\"little\",\"shape\":[200]}},\"selected\":{\"id\":\"7915\"},\"selection_policy\":{\"id\":\"7916\"}},\"id\":\"7901\",\"type\":\"ColumnDataSource\"},{\"attributes\":{},\"id\":\"7916\",\"type\":\"UnionRenderers\"},{\"attributes\":{},\"id\":\"7910\",\"type\":\"AllLabels\"},{\"attributes\":{\"source\":{\"id\":\"8007\"}},\"id\":\"8011\",\"type\":\"CDSView\"},{\"attributes\":{},\"id\":\"7915\",\"type\":\"Selection\"},{\"attributes\":{},\"id\":\"7907\",\"type\":\"Title\"},{\"attributes\":{\"data_source\":{\"id\":\"7919\"},\"glyph\":{\"id\":\"7920\"},\"hover_glyph\":null,\"muted_glyph\":null,\"nonselection_glyph\":{\"id\":\"7921\"},\"view\":{\"id\":\"7923\"}},\"id\":\"7922\",\"type\":\"GlyphRenderer\"},{\"attributes\":{\"data_source\":{\"id\":\"7901\"},\"glyph\":{\"id\":\"7902\"},\"hover_glyph\":null,\"muted_glyph\":null,\"nonselection_glyph\":{\"id\":\"7903\"},\"view\":{\"id\":\"7905\"}},\"id\":\"7904\",\"type\":\"GlyphRenderer\"},{\"attributes\":{\"label\":{\"value\":\"log_Kd_inactive=-7\"},\"renderers\":[{\"id\":\"7985\"}]},\"id\":\"8006\",\"type\":\"LegendItem\"},{\"attributes\":{},\"id\":\"8005\",\"type\":\"UnionRenderers\"},{\"attributes\":{\"source\":{\"id\":\"7919\"}},\"id\":\"7923\",\"type\":\"CDSView\"},{\"attributes\":{},\"id\":\"7936\",\"type\":\"UnionRenderers\"},{\"attributes\":{},\"id\":\"7913\",\"type\":\"AllLabels\"},{\"attributes\":{\"source\":{\"id\":\"8034\"}},\"id\":\"8038\",\"type\":\"CDSView\"},{\"attributes\":{},\"id\":\"8060\",\"type\":\"Selection\"},{\"attributes\":{\"data\":{\"x\":{\"__ndarray__\":\"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\",\"dtype\":\"float64\",\"order\":\"little\",\"shape\":[200]},\"y\":{\"__ndarray__\":\"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\",\"dtype\":\"float64\",\"order\":\"little\",\"shape\":[200]}},\"selected\":{\"id\":\"7979\"},\"selection_policy\":{\"id\":\"7980\"}},\"id\":\"7959\",\"type\":\"ColumnDataSource\"},{\"attributes\":{\"line_alpha\":0.1,\"line_color\":\"#2ca02c\",\"x\":{\"field\":\"x\"},\"y\":{\"field\":\"y\"}},\"id\":\"7984\",\"type\":\"Line\"},{\"attributes\":{\"source\":{\"id\":\"7959\"}},\"id\":\"7963\",\"type\":\"CDSView\"},{\"attributes\":{},\"id\":\"7887\",\"type\":\"PanTool\"},{\"attributes\":{\"label\":{\"value\":\"log_Kd_inactive=-5\"},\"renderers\":[{\"id\":\"7941\"}]},\"id\":\"7958\",\"type\":\"LegendItem\"},{\"attributes\":{\"data\":{\"x\":{\"__ndarray__\":\"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\",\"dtype\":\"float64\",\"order\":\"little\",\"shape\":[200]},\"y\":{\"__ndarray__\":\"HCxAMzIROj8c3ShmUno6P8uE7z9a7jo/SbEvz3tuOz94tet+Dfw7Pw/1dNGOmDw/Ipd9w61FPT/FNm/uTAU+P1/JwoOK2T4/kPzHPcjEPz+Fvnoy2mRAPzB/rgWq9UA/iG8CUYeWQT+dJ7qGXUlCP3y3qy9XEEM/+7ErLebtQz/BEEXxzOREP14+xLso+EU/Nng65nwrRz+6MIlCv4JIP/hTLoZlAko/567Vr3OvSz9m+ftDi49NP/D9ESj7qE8/jIZ85GcBUT+fu76McVJSP6sYwOf1y1M/SUOOjcVyVT+wm5bxK0xXP9uR8C/zXVk/ySmpXGWuWz/nIZ6QSkRePzuiT25xk2A/4DFGoO0uYj8rt2dinvhjPw5mhHKq9GU/zl+RT0snaD9kz+bauZRqP16hdAUXQW0/BFR2WSgYcD8BICqgAbNxP7lNzzOscnM/PJwARXJYdT+XUADcQWV3P6yeWAicmXk/fh1RoIX1ez9hjQZ+enh+PzM4IBCykIA/oOQgPUr3gT/pIOrH4m6DPwH5/B0P9oQ/jkPFGh6Lhj85n+qJISyIP/8SzeL31ok/jgDs0leJiz/jTV0R3UCNP5OHLOQV+44/fhxgXchakD+3rB2j9DaRPxU5fkTqEJI/COJSt5Xnkj8Ye9fN+bmTP2GxrSEzh5Q/BksbeXpOlT+ZJMUrJg+WP3Ok8peqyJY/pb1gwpl6lz/eNahAoiSYP89jWpGNxpg/ZuKRBT5gmT+t3kJerPGZPzzAnzzlepo/VhfwgAb8mj9R+LiuPHWbP/0vc2jA5ps/QRGSENRQnD/xQ4OZwbOcP6mPtorYD50/NXi0PWxlnT9KidZT0rSdP9ibTWNh/p0/Vw+82G9Cnj+sObMJU4GeP5kdynNeu54/Uui1I+Pwnj8/HLo/LyKfP2HU37CNT58/0Hac5kV5nz/A+N2wm5+fPwcKzSzPwp8/W4n1wBzjnz9DSvOSXgCgPw7oXLzyDaA/9FmlqmMaoD/zmxx7yCWgPxgoj6w2MKA/Z/TNMsI5oD9cxhaLfUKgPxlz6dB5SqA/ySPt0sZRoD/2/psnc1igP7r4e0GMXqA/V1W5gh5koD906gJQNWmgP/KtkSLbbaA/4upMmRlyoD8gxAKJ+XWgPyu6sQuDeaA/+ebjjr18oD8FvR/hr3+gP7FydD5ggqA/vQIqXNSEoD+d6Z1zEYegP+GdVkwciaA//kNYRfmKoD8xXcVdrIygP/U61jw5jqA/AeIxOaOPoD+LybJf7ZCgP9iNoXkakqA/l0dvEi2ToD9vx/h8J5SgP/N8W9gLlaA/XFNkFNyVoD8EUaD1mZagP+1JFhlHl6A/Q3uw9+SXoD95b1zpdJigP2EY5yf4mKA/0Z+a0W+ZoD/EB6Pr3JmgPydRPmRAmqA/UYS8FJuaoD/Ln1PD7ZqgPx0hyyQ5m6A/SZAC3n2boD8PMFaFvJugP3C05KP1m6A/U6S4timcoD9/09cvWZygP3wuO3eEnKA/e+Kw66ucoD+Xv6rjz5ygPx+L+q3wnKA//dJ9kg6doD/TsLrSKZ2gPzXMbqpCnaA/xM4RUFmdoD9jYkz1bZ2gP/65ZMeAnaA/po6h75GdoD8kZ6SToZ2gPxvtu9WvnaA/OAIv1bydoD8rOIGuyJ2gPydAsXvTnaA/edlxVN2doD8ru11O5p2gP6XpJn3unaA/at/B8vWdoD8T54y//J2gP0L8c/ICnqA/DoIRmQieoD8UFsy/DZ6gP53B8XESnqA/A8TQuRaeoD+9LM6gGp6gP252ei8enqA/+0+kbSGeoD/rvGliJJ6gP2qyRxQnnqA/KlMoiSmeoD9v6W/GK56gP3K7CNEtnqA/SdRtrS+eoD/H2LRfMZ6gP/r9lusynqA/3TR5VDSeoD80nXOdNZ6gP+JPWMk2nqA/nY+52jeeoD9+be/TOJ6gPwjuHLc5nqA/n7k0hjqeoD//Yv1CO56gP+NMFe87nqA/jTf2izyeoD/SffgaPZ6gP+8IVp09nqA/jAEtFD6eoD/IQ4KAPp6gP9CbQ+M+nqA/0s9JPT+eoD/He1qPP56gPzrDKdo/nqA/otxbHkCeoD/feYZcQJ6gP8cQMpVAnqA/sgbbyECeoD+HwfL3QJ6gPw==\",\"dtype\":\"float64\",\"order\":\"little\",\"shape\":[200]}},\"selected\":{\"id\":\"8060\"},\"selection_policy\":{\"id\":\"8061\"}},\"id\":\"8034\",\"type\":\"ColumnDataSource\"},{\"attributes\":{},\"id\":\"7957\",\"type\":\"UnionRenderers\"},{\"attributes\":{\"data_source\":{\"id\":\"7982\"},\"glyph\":{\"id\":\"7983\"},\"hover_glyph\":null,\"muted_glyph\":null,\"nonselection_glyph\":{\"id\":\"7984\"},\"view\":{\"id\":\"7986\"}},\"id\":\"7985\",\"type\":\"GlyphRenderer\"},{\"attributes\":{\"overlay\":{\"id\":\"7893\"}},\"id\":\"7889\",\"type\":\"BoxZoomTool\"},{\"attributes\":{},\"id\":\"8032\",\"type\":\"UnionRenderers\"},{\"attributes\":{\"line_color\":\"#1f77b4\",\"x\":{\"field\":\"x\"},\"y\":{\"field\":\"y\"}},\"id\":\"7902\",\"type\":\"Line\"},{\"attributes\":{\"active_multi\":null,\"tools\":[{\"id\":\"7887\"},{\"id\":\"7888\"},{\"id\":\"7889\"},{\"id\":\"7890\"},{\"id\":\"7891\"},{\"id\":\"7892\"}]},\"id\":\"7894\",\"type\":\"Toolbar\"},{\"attributes\":{\"data\":{\"x\":{\"__ndarray__\":\"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\",\"dtype\":\"float64\",\"order\":\"little\",\"shape\":[200]},\"y\":{\"__ndarray__\":\"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\",\"dtype\":\"float64\",\"order\":\"little\",\"shape\":[200]}},\"selected\":{\"id\":\"8004\"},\"selection_policy\":{\"id\":\"8005\"}},\"id\":\"7982\",\"type\":\"ColumnDataSource\"},{\"attributes\":{\"label\":{\"value\":\"log_Kd_inactive=-9\"},\"renderers\":[{\"id\":\"8037\"}]},\"id\":\"8062\",\"type\":\"LegendItem\"},{\"attributes\":{\"line_color\":\"#2ca02c\",\"x\":{\"field\":\"x\"},\"y\":{\"field\":\"y\"}},\"id\":\"7983\",\"type\":\"Line\"},{\"attributes\":{},\"id\":\"8031\",\"type\":\"Selection\"},{\"attributes\":{\"line_alpha\":0.1,\"line_color\":\"#ff7f0e\",\"x\":{\"field\":\"x\"},\"y\":{\"field\":\"y\"}},\"id\":\"7940\",\"type\":\"Line\"},{\"attributes\":{},\"id\":\"7890\",\"type\":\"SaveTool\"},{\"attributes\":{},\"id\":\"7884\",\"type\":\"BasicTicker\"},{\"attributes\":{\"line_color\":\"#ff7f0e\",\"x\":{\"field\":\"x\"},\"y\":{\"field\":\"y\"}},\"id\":\"7939\",\"type\":\"Line\"},{\"attributes\":{\"data\":{\"x\":{\"__ndarray__\":\"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\",\"dtype\":\"float64\",\"order\":\"little\",\"shape\":[200]},\"y\":{\"__ndarray__\":\"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\",\"dtype\":\"float64\",\"order\":\"little\",\"shape\":[200]}},\"selected\":{\"id\":\"7956\"},\"selection_policy\":{\"id\":\"7957\"}},\"id\":\"7938\",\"type\":\"ColumnDataSource\"},{\"attributes\":{},\"id\":\"7956\",\"type\":\"Selection\"},{\"attributes\":{},\"id\":\"7888\",\"type\":\"WheelZoomTool\"},{\"attributes\":{\"axis_label\":\"active_probability\",\"formatter\":{\"id\":\"7911\"},\"major_label_policy\":{\"id\":\"7913\"},\"ticker\":{\"id\":\"7884\"}},\"id\":\"7883\",\"type\":\"LinearAxis\"},{\"attributes\":{\"num_minor_ticks\":10},\"id\":\"7880\",\"type\":\"LogTicker\"},{\"attributes\":{\"axis_label\":\"[L-Quis]M\",\"formatter\":{\"id\":\"7908\"},\"major_label_policy\":{\"id\":\"7910\"},\"ticker\":{\"id\":\"7880\"}},\"id\":\"7879\",\"type\":\"LogAxis\"},{\"attributes\":{\"label\":{\"value\":\"log_Kd_inactive=-6\"},\"renderers\":[{\"id\":\"7962\"}]},\"id\":\"7981\",\"type\":\"LegendItem\"},{\"attributes\":{\"source\":{\"id\":\"7938\"}},\"id\":\"7942\",\"type\":\"CDSView\"},{\"attributes\":{},\"id\":\"7979\",\"type\":\"Selection\"},{\"attributes\":{},\"id\":\"7892\",\"type\":\"HelpTool\"},{\"attributes\":{\"axis\":{\"id\":\"7879\"},\"ticker\":null},\"id\":\"7882\",\"type\":\"Grid\"},{\"attributes\":{},\"id\":\"8061\",\"type\":\"UnionRenderers\"},{\"attributes\":{\"line_color\":\"#d62728\",\"x\":{\"field\":\"x\"},\"y\":{\"field\":\"y\"}},\"id\":\"8035\",\"type\":\"Line\"},{\"attributes\":{\"bottom_units\":\"screen\",\"fill_alpha\":0.5,\"fill_color\":\"lightgrey\",\"left_units\":\"screen\",\"level\":\"overlay\",\"line_alpha\":1.0,\"line_color\":\"black\",\"line_dash\":[4,4],\"line_width\":2,\"right_units\":\"screen\",\"syncable\":false,\"top_units\":\"screen\"},\"id\":\"7893\",\"type\":\"BoxAnnotation\"},{\"attributes\":{\"line_alpha\":0.1,\"line_color\":\"#ffbb78\",\"x\":{\"field\":\"x\"},\"y\":{\"field\":\"y\"}},\"id\":\"7961\",\"type\":\"Line\"},{\"attributes\":{\"data_source\":{\"id\":\"7959\"},\"glyph\":{\"id\":\"7960\"},\"hover_glyph\":null,\"muted_glyph\":null,\"nonselection_glyph\":{\"id\":\"7961\"},\"view\":{\"id\":\"7963\"}},\"id\":\"7962\",\"type\":\"GlyphRenderer\"},{\"attributes\":{},\"id\":\"7877\",\"type\":\"LinearScale\"},{\"attributes\":{\"line_alpha\":0.1,\"line_color\":\"#d62728\",\"x\":{\"field\":\"x\"},\"y\":{\"field\":\"y\"}},\"id\":\"8036\",\"type\":\"Line\"},{\"attributes\":{},\"id\":\"7980\",\"type\":\"UnionRenderers\"},{\"attributes\":{\"line_color\":\"#ffbb78\",\"x\":{\"field\":\"x\"},\"y\":{\"field\":\"y\"}},\"id\":\"7960\",\"type\":\"Line\"},{\"attributes\":{},\"id\":\"7891\",\"type\":\"ResetTool\"},{\"attributes\":{\"axis\":{\"id\":\"7883\"},\"dimension\":1,\"ticker\":null},\"id\":\"7886\",\"type\":\"Grid\"},{\"attributes\":{},\"id\":\"7875\",\"type\":\"LogScale\"}],\"root_ids\":[\"7870\"]},\"title\":\"Bokeh Application\",\"version\":\"2.3.3\"}};\n",
       "  var render_items = [{\"docid\":\"9546c658-5092-4341-a425-6d44b34134f0\",\"root_ids\":[\"7870\"],\"roots\":{\"7870\":\"18aadb9f-e653-44ca-9850-89d44bfbcb51\"}}];\n",
       "  root.Bokeh.embed.embed_items_notebook(docs_json, render_items);\n",
       "\n",
       "  }\n",
       "  if (root.Bokeh !== undefined) {\n",
       "    embed_document(root);\n",
       "  } else {\n",
       "    var attempts = 0;\n",
       "    var timer = setInterval(function(root) {\n",
       "      if (root.Bokeh !== undefined) {\n",
       "        clearInterval(timer);\n",
       "        embed_document(root);\n",
       "      } else {\n",
       "        attempts++;\n",
       "        if (attempts > 100) {\n",
       "          clearInterval(timer);\n",
       "          console.log(\"Bokeh: ERROR: Unable to run BokehJS code because BokehJS library is missing\");\n",
       "        }\n",
       "      }\n",
       "    }, 10, root)\n",
       "  }\n",
       "})(window);"
      ],
      "application/vnd.bokehjs_exec.v0+json": ""
     },
     "metadata": {
      "application/vnd.bokehjs_exec.v0+json": {
       "id": "7870"
      }
     },
     "output_type": "display_data"
    }
   ],
   "source": [
    "#set up plot\n",
    "from bokeh.plotting import curdoc \n",
    "curdoc().clear()\n",
    "p = bokeh.plotting.figure(plot_height=600,\n",
    "                         plot_width=600,\n",
    "                         x_axis_label='[L-Quis]M',\n",
    "                          y_axis_label='active_probability',\n",
    "                          x_axis_type='log')\n",
    "\n",
    "colors=bokeh.palettes.d3['Category20'][20]\n",
    "\n",
    "ligand_smooth=np.logspace(-11,-3,200)\n",
    "\n",
    "for i,log_Kd_inactive in enumerate(range(-3,-10,-1)):    \n",
    "    p.line(ligand_smooth, agonist_only_p_active_theory(ligand_smooth, -10, log_Kd_inactive, -8), color=colors[i],legend_label='log_Kd_inactive='+str(log_Kd_inactive))\n",
    "\n",
    "\n",
    "\n",
    "bokeh.io.show(p);"
   ]
  },
  {
   "cell_type": "code",
   "execution_count": 55,
   "id": "3966b589",
   "metadata": {},
   "outputs": [
    {
     "data": {
      "text/html": [
       "\n",
       "\n",
       "\n",
       "\n",
       "\n",
       "\n",
       "  <div class=\"bk-root\" id=\"03a6a25e-783e-40da-88ba-f5244dcf524d\" data-root-id=\"6385\"></div>\n"
      ]
     },
     "metadata": {},
     "output_type": "display_data"
    },
    {
     "data": {
      "application/javascript": [
       "(function(root) {\n",
       "  function embed_document(root) {\n",
       "    \n",
       "  var docs_json = {\"022bc655-d5a8-422a-ba73-5d5c90f603d6\":{\"defs\":[],\"roots\":{\"references\":[{\"attributes\":{\"below\":[{\"id\":\"6394\"}],\"center\":[{\"id\":\"6397\"},{\"id\":\"6401\"},{\"id\":\"6432\"}],\"left\":[{\"id\":\"6398\"}],\"renderers\":[{\"id\":\"6419\"},{\"id\":\"6437\"},{\"id\":\"6456\"},{\"id\":\"6477\"},{\"id\":\"6500\"},{\"id\":\"6525\"},{\"id\":\"6552\"},{\"id\":\"6581\"}],\"title\":{\"id\":\"6422\"},\"toolbar\":{\"id\":\"6409\"},\"x_range\":{\"id\":\"6386\"},\"x_scale\":{\"id\":\"6390\"},\"y_range\":{\"id\":\"6388\"},\"y_scale\":{\"id\":\"6392\"}},\"id\":\"6385\",\"subtype\":\"Figure\",\"type\":\"Plot\"},{\"attributes\":{},\"id\":\"6472\",\"type\":\"UnionRenderers\"},{\"attributes\":{\"data_source\":{\"id\":\"6497\"},\"glyph\":{\"id\":\"6498\"},\"hover_glyph\":null,\"muted_glyph\":null,\"nonselection_glyph\":{\"id\":\"6499\"},\"view\":{\"id\":\"6501\"}},\"id\":\"6500\",\"type\":\"GlyphRenderer\"},{\"attributes\":{},\"id\":\"6494\",\"type\":\"Selection\"},{\"attributes\":{\"source\":{\"id\":\"6474\"}},\"id\":\"6478\",\"type\":\"CDSView\"},{\"attributes\":{\"data_source\":{\"id\":\"6416\"},\"glyph\":{\"id\":\"6417\"},\"hover_glyph\":null,\"muted_glyph\":null,\"nonselection_glyph\":{\"id\":\"6418\"},\"view\":{\"id\":\"6420\"}},\"id\":\"6419\",\"type\":\"GlyphRenderer\"},{\"attributes\":{},\"id\":\"6388\",\"type\":\"DataRange1d\"},{\"attributes\":{\"data\":{\"x\":{\"__ndarray__\":\"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\",\"dtype\":\"float64\",\"order\":\"little\",\"shape\":[200]},\"y\":{\"__ndarray__\":\"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\",\"dtype\":\"float64\",\"order\":\"little\",\"shape\":[200]}},\"selected\":{\"id\":\"6430\"},\"selection_policy\":{\"id\":\"6431\"}},\"id\":\"6416\",\"type\":\"ColumnDataSource\"},{\"attributes\":{},\"id\":\"6399\",\"type\":\"BasicTicker\"},{\"attributes\":{},\"id\":\"6392\",\"type\":\"LinearScale\"},{\"attributes\":{\"axis\":{\"id\":\"6398\"},\"dimension\":1,\"ticker\":null},\"id\":\"6401\",\"type\":\"Grid\"},{\"attributes\":{\"line_alpha\":0.1,\"line_color\":\"#ffbb78\",\"x\":{\"field\":\"x\"},\"y\":{\"field\":\"y\"}},\"id\":\"6476\",\"type\":\"Line\"},{\"attributes\":{\"label\":{\"value\":\"log_Kd_active=-11\"},\"renderers\":[{\"id\":\"6477\"}]},\"id\":\"6496\",\"type\":\"LegendItem\"},{\"attributes\":{\"data\":{\"x\":{\"__ndarray__\":\"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\",\"dtype\":\"float64\",\"order\":\"little\",\"shape\":[200]},\"y\":{\"__ndarray__\":\"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\",\"dtype\":\"float64\",\"order\":\"little\",\"shape\":[200]}},\"selected\":{\"id\":\"6494\"},\"selection_policy\":{\"id\":\"6495\"}},\"id\":\"6474\",\"type\":\"ColumnDataSource\"},{\"attributes\":{},\"id\":\"6402\",\"type\":\"PanTool\"},{\"attributes\":{},\"id\":\"6406\",\"type\":\"ResetTool\"},{\"attributes\":{\"label\":{\"value\":\"log_Kd_active=-12\"},\"renderers\":[{\"id\":\"6500\"}]},\"id\":\"6521\",\"type\":\"LegendItem\"},{\"attributes\":{\"data_source\":{\"id\":\"6474\"},\"glyph\":{\"id\":\"6475\"},\"hover_glyph\":null,\"muted_glyph\":null,\"nonselection_glyph\":{\"id\":\"6476\"},\"view\":{\"id\":\"6478\"}},\"id\":\"6477\",\"type\":\"GlyphRenderer\"},{\"attributes\":{\"label\":{\"value\":\"log_Kd_active=-10\"},\"renderers\":[{\"id\":\"6456\"}]},\"id\":\"6473\",\"type\":\"LegendItem\"},{\"attributes\":{\"line_color\":\"#ffbb78\",\"x\":{\"field\":\"x\"},\"y\":{\"field\":\"y\"}},\"id\":\"6475\",\"type\":\"Line\"},{\"attributes\":{\"axis\":{\"id\":\"6394\"},\"ticker\":null},\"id\":\"6397\",\"type\":\"Grid\"},{\"attributes\":{},\"id\":\"6405\",\"type\":\"SaveTool\"},{\"attributes\":{},\"id\":\"6386\",\"type\":\"DataRange1d\"},{\"attributes\":{\"overlay\":{\"id\":\"6408\"}},\"id\":\"6404\",\"type\":\"BoxZoomTool\"},{\"attributes\":{\"axis_label\":\"[L-Quis]M\",\"formatter\":{\"id\":\"6423\"},\"major_label_policy\":{\"id\":\"6425\"},\"ticker\":{\"id\":\"6395\"}},\"id\":\"6394\",\"type\":\"LogAxis\"},{\"attributes\":{},\"id\":\"6390\",\"type\":\"LogScale\"},{\"attributes\":{},\"id\":\"6407\",\"type\":\"HelpTool\"},{\"attributes\":{\"num_minor_ticks\":10},\"id\":\"6395\",\"type\":\"LogTicker\"},{\"attributes\":{\"axis_label\":\"active_probability\",\"formatter\":{\"id\":\"6426\"},\"major_label_policy\":{\"id\":\"6428\"},\"ticker\":{\"id\":\"6399\"}},\"id\":\"6398\",\"type\":\"LinearAxis\"},{\"attributes\":{},\"id\":\"6403\",\"type\":\"WheelZoomTool\"},{\"attributes\":{\"line_alpha\":0.1,\"line_color\":\"#ff7f0e\",\"x\":{\"field\":\"x\"},\"y\":{\"field\":\"y\"}},\"id\":\"6455\",\"type\":\"Line\"},{\"attributes\":{\"active_multi\":null,\"tools\":[{\"id\":\"6402\"},{\"id\":\"6403\"},{\"id\":\"6404\"},{\"id\":\"6405\"},{\"id\":\"6406\"},{\"id\":\"6407\"}]},\"id\":\"6409\",\"type\":\"Toolbar\"},{\"attributes\":{\"line_alpha\":0.1,\"line_color\":\"#ff9896\",\"x\":{\"field\":\"x\"},\"y\":{\"field\":\"y\"}},\"id\":\"6580\",\"type\":\"Line\"},{\"attributes\":{},\"id\":\"6450\",\"type\":\"Selection\"},{\"attributes\":{},\"id\":\"6422\",\"type\":\"Title\"},{\"attributes\":{\"data_source\":{\"id\":\"6453\"},\"glyph\":{\"id\":\"6454\"},\"hover_glyph\":null,\"muted_glyph\":null,\"nonselection_glyph\":{\"id\":\"6455\"},\"view\":{\"id\":\"6457\"}},\"id\":\"6456\",\"type\":\"GlyphRenderer\"},{\"attributes\":{\"data\":{\"x\":{\"__ndarray__\":\"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\",\"dtype\":\"float64\",\"order\":\"little\",\"shape\":[200]},\"y\":{\"__ndarray__\":\"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\",\"dtype\":\"float64\",\"order\":\"little\",\"shape\":[200]}},\"selected\":{\"id\":\"6471\"},\"selection_policy\":{\"id\":\"6472\"}},\"id\":\"6453\",\"type\":\"ColumnDataSource\"},{\"attributes\":{\"line_color\":\"#ff7f0e\",\"x\":{\"field\":\"x\"},\"y\":{\"field\":\"y\"}},\"id\":\"6454\",\"type\":\"Line\"},{\"attributes\":{\"data\":{\"x\":{\"__ndarray__\":\"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\",\"dtype\":\"float64\",\"order\":\"little\",\"shape\":[200]},\"y\":{\"__ndarray__\":\"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\",\"dtype\":\"float64\",\"order\":\"little\",\"shape\":[200]}},\"selected\":{\"id\":\"6546\"},\"selection_policy\":{\"id\":\"6547\"}},\"id\":\"6522\",\"type\":\"ColumnDataSource\"},{\"attributes\":{},\"id\":\"6546\",\"type\":\"Selection\"},{\"attributes\":{},\"id\":\"6575\",\"type\":\"Selection\"},{\"attributes\":{\"data\":{\"x\":{\"__ndarray__\":\"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\",\"dtype\":\"float64\",\"order\":\"little\",\"shape\":[200]},\"y\":{\"__ndarray__\":\"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\",\"dtype\":\"float64\",\"order\":\"little\",\"shape\":[200]}},\"selected\":{\"id\":\"6450\"},\"selection_policy\":{\"id\":\"6451\"}},\"id\":\"6434\",\"type\":\"ColumnDataSource\"},{\"attributes\":{},\"id\":\"6451\",\"type\":\"UnionRenderers\"},{\"attributes\":{\"items\":[{\"id\":\"6433\"},{\"id\":\"6452\"},{\"id\":\"6473\"},{\"id\":\"6496\"},{\"id\":\"6521\"},{\"id\":\"6548\"},{\"id\":\"6577\"},{\"id\":\"6608\"}]},\"id\":\"6432\",\"type\":\"Legend\"},{\"attributes\":{\"data_source\":{\"id\":\"6578\"},\"glyph\":{\"id\":\"6579\"},\"hover_glyph\":null,\"muted_glyph\":null,\"nonselection_glyph\":{\"id\":\"6580\"},\"view\":{\"id\":\"6582\"}},\"id\":\"6581\",\"type\":\"GlyphRenderer\"},{\"attributes\":{},\"id\":\"6520\",\"type\":\"UnionRenderers\"},{\"attributes\":{},\"id\":\"6606\",\"type\":\"Selection\"},{\"attributes\":{\"label\":{\"value\":\"log_Kd_active=-13\"},\"renderers\":[{\"id\":\"6525\"}]},\"id\":\"6548\",\"type\":\"LegendItem\"},{\"attributes\":{\"data_source\":{\"id\":\"6522\"},\"glyph\":{\"id\":\"6523\"},\"hover_glyph\":null,\"muted_glyph\":null,\"nonselection_glyph\":{\"id\":\"6524\"},\"view\":{\"id\":\"6526\"}},\"id\":\"6525\",\"type\":\"GlyphRenderer\"},{\"attributes\":{\"ticker\":null},\"id\":\"6423\",\"type\":\"LogTickFormatter\"},{\"attributes\":{\"label\":{\"value\":\"log_Kd_active=-15\"},\"renderers\":[{\"id\":\"6581\"}]},\"id\":\"6608\",\"type\":\"LegendItem\"},{\"attributes\":{\"line_alpha\":0.1,\"line_color\":\"#98df8a\",\"x\":{\"field\":\"x\"},\"y\":{\"field\":\"y\"}},\"id\":\"6524\",\"type\":\"Line\"},{\"attributes\":{\"label\":{\"value\":\"log_Kd_active=-8\"},\"renderers\":[{\"id\":\"6419\"}]},\"id\":\"6433\",\"type\":\"LegendItem\"},{\"attributes\":{\"source\":{\"id\":\"6497\"}},\"id\":\"6501\",\"type\":\"CDSView\"},{\"attributes\":{\"line_alpha\":0.1,\"line_color\":\"#2ca02c\",\"x\":{\"field\":\"x\"},\"y\":{\"field\":\"y\"}},\"id\":\"6499\",\"type\":\"Line\"},{\"attributes\":{\"line_color\":\"#ff9896\",\"x\":{\"field\":\"x\"},\"y\":{\"field\":\"y\"}},\"id\":\"6579\",\"type\":\"Line\"},{\"attributes\":{\"data\":{\"x\":{\"__ndarray__\":\"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\",\"dtype\":\"float64\",\"order\":\"little\",\"shape\":[200]},\"y\":{\"__ndarray__\":\"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\",\"dtype\":\"float64\",\"order\":\"little\",\"shape\":[200]}},\"selected\":{\"id\":\"6606\"},\"selection_policy\":{\"id\":\"6607\"}},\"id\":\"6578\",\"type\":\"ColumnDataSource\"},{\"attributes\":{\"line_color\":\"#98df8a\",\"x\":{\"field\":\"x\"},\"y\":{\"field\":\"y\"}},\"id\":\"6523\",\"type\":\"Line\"},{\"attributes\":{},\"id\":\"6431\",\"type\":\"UnionRenderers\"},{\"attributes\":{},\"id\":\"6430\",\"type\":\"Selection\"},{\"attributes\":{\"data\":{\"x\":{\"__ndarray__\":\"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\",\"dtype\":\"float64\",\"order\":\"little\",\"shape\":[200]},\"y\":{\"__ndarray__\":\"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\",\"dtype\":\"float64\",\"order\":\"little\",\"shape\":[200]}},\"selected\":{\"id\":\"6519\"},\"selection_policy\":{\"id\":\"6520\"}},\"id\":\"6497\",\"type\":\"ColumnDataSource\"},{\"attributes\":{\"source\":{\"id\":\"6578\"}},\"id\":\"6582\",\"type\":\"CDSView\"},{\"attributes\":{\"line_alpha\":0.1,\"line_color\":\"#1f77b4\",\"x\":{\"field\":\"x\"},\"y\":{\"field\":\"y\"}},\"id\":\"6418\",\"type\":\"Line\"},{\"attributes\":{},\"id\":\"6428\",\"type\":\"AllLabels\"},{\"attributes\":{\"line_color\":\"#d62728\",\"x\":{\"field\":\"x\"},\"y\":{\"field\":\"y\"}},\"id\":\"6550\",\"type\":\"Line\"},{\"attributes\":{\"bottom_units\":\"screen\",\"fill_alpha\":0.5,\"fill_color\":\"lightgrey\",\"left_units\":\"screen\",\"level\":\"overlay\",\"line_alpha\":1.0,\"line_color\":\"black\",\"line_dash\":[4,4],\"line_width\":2,\"right_units\":\"screen\",\"syncable\":false,\"top_units\":\"screen\"},\"id\":\"6408\",\"type\":\"BoxAnnotation\"},{\"attributes\":{},\"id\":\"6426\",\"type\":\"BasicTickFormatter\"},{\"attributes\":{\"label\":{\"value\":\"log_Kd_active=-9\"},\"renderers\":[{\"id\":\"6437\"}]},\"id\":\"6452\",\"type\":\"LegendItem\"},{\"attributes\":{\"line_color\":\"#2ca02c\",\"x\":{\"field\":\"x\"},\"y\":{\"field\":\"y\"}},\"id\":\"6498\",\"type\":\"Line\"},{\"attributes\":{\"line_color\":\"#aec7e8\",\"x\":{\"field\":\"x\"},\"y\":{\"field\":\"y\"}},\"id\":\"6435\",\"type\":\"Line\"},{\"attributes\":{\"source\":{\"id\":\"6453\"}},\"id\":\"6457\",\"type\":\"CDSView\"},{\"attributes\":{},\"id\":\"6519\",\"type\":\"Selection\"},{\"attributes\":{},\"id\":\"6471\",\"type\":\"Selection\"},{\"attributes\":{\"label\":{\"value\":\"log_Kd_active=-14\"},\"renderers\":[{\"id\":\"6552\"}]},\"id\":\"6577\",\"type\":\"LegendItem\"},{\"attributes\":{},\"id\":\"6547\",\"type\":\"UnionRenderers\"},{\"attributes\":{\"line_color\":\"#1f77b4\",\"x\":{\"field\":\"x\"},\"y\":{\"field\":\"y\"}},\"id\":\"6417\",\"type\":\"Line\"},{\"attributes\":{\"line_alpha\":0.1,\"line_color\":\"#d62728\",\"x\":{\"field\":\"x\"},\"y\":{\"field\":\"y\"}},\"id\":\"6551\",\"type\":\"Line\"},{\"attributes\":{},\"id\":\"6495\",\"type\":\"UnionRenderers\"},{\"attributes\":{},\"id\":\"6576\",\"type\":\"UnionRenderers\"},{\"attributes\":{\"data_source\":{\"id\":\"6434\"},\"glyph\":{\"id\":\"6435\"},\"hover_glyph\":null,\"muted_glyph\":null,\"nonselection_glyph\":{\"id\":\"6436\"},\"view\":{\"id\":\"6438\"}},\"id\":\"6437\",\"type\":\"GlyphRenderer\"},{\"attributes\":{\"data_source\":{\"id\":\"6549\"},\"glyph\":{\"id\":\"6550\"},\"hover_glyph\":null,\"muted_glyph\":null,\"nonselection_glyph\":{\"id\":\"6551\"},\"view\":{\"id\":\"6553\"}},\"id\":\"6552\",\"type\":\"GlyphRenderer\"},{\"attributes\":{},\"id\":\"6425\",\"type\":\"AllLabels\"},{\"attributes\":{},\"id\":\"6607\",\"type\":\"UnionRenderers\"},{\"attributes\":{\"source\":{\"id\":\"6522\"}},\"id\":\"6526\",\"type\":\"CDSView\"},{\"attributes\":{\"line_alpha\":0.1,\"line_color\":\"#aec7e8\",\"x\":{\"field\":\"x\"},\"y\":{\"field\":\"y\"}},\"id\":\"6436\",\"type\":\"Line\"},{\"attributes\":{\"source\":{\"id\":\"6549\"}},\"id\":\"6553\",\"type\":\"CDSView\"},{\"attributes\":{\"source\":{\"id\":\"6416\"}},\"id\":\"6420\",\"type\":\"CDSView\"},{\"attributes\":{\"data\":{\"x\":{\"__ndarray__\":\"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\",\"dtype\":\"float64\",\"order\":\"little\",\"shape\":[200]},\"y\":{\"__ndarray__\":\"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\",\"dtype\":\"float64\",\"order\":\"little\",\"shape\":[200]}},\"selected\":{\"id\":\"6575\"},\"selection_policy\":{\"id\":\"6576\"}},\"id\":\"6549\",\"type\":\"ColumnDataSource\"},{\"attributes\":{\"source\":{\"id\":\"6434\"}},\"id\":\"6438\",\"type\":\"CDSView\"}],\"root_ids\":[\"6385\"]},\"title\":\"Bokeh Application\",\"version\":\"2.3.3\"}};\n",
       "  var render_items = [{\"docid\":\"022bc655-d5a8-422a-ba73-5d5c90f603d6\",\"root_ids\":[\"6385\"],\"roots\":{\"6385\":\"03a6a25e-783e-40da-88ba-f5244dcf524d\"}}];\n",
       "  root.Bokeh.embed.embed_items_notebook(docs_json, render_items);\n",
       "\n",
       "  }\n",
       "  if (root.Bokeh !== undefined) {\n",
       "    embed_document(root);\n",
       "  } else {\n",
       "    var attempts = 0;\n",
       "    var timer = setInterval(function(root) {\n",
       "      if (root.Bokeh !== undefined) {\n",
       "        clearInterval(timer);\n",
       "        embed_document(root);\n",
       "      } else {\n",
       "        attempts++;\n",
       "        if (attempts > 100) {\n",
       "          clearInterval(timer);\n",
       "          console.log(\"Bokeh: ERROR: Unable to run BokehJS code because BokehJS library is missing\");\n",
       "        }\n",
       "      }\n",
       "    }, 10, root)\n",
       "  }\n",
       "})(window);"
      ],
      "application/vnd.bokehjs_exec.v0+json": ""
     },
     "metadata": {
      "application/vnd.bokehjs_exec.v0+json": {
       "id": "6385"
      }
     },
     "output_type": "display_data"
    }
   ],
   "source": [
    "#set up plot\n",
    "from bokeh.plotting import curdoc \n",
    "curdoc().clear()\n",
    "p = bokeh.plotting.figure(plot_height=600,\n",
    "                         plot_width=600,\n",
    "                         x_axis_label='[L-Quis]M',\n",
    "                          y_axis_label='active_probability',\n",
    "                          x_axis_type='log')\n",
    "\n",
    "colors=bokeh.palettes.d3['Category20'][20]\n",
    "\n",
    "ligand_smooth=np.logspace(-11,-3,200)\n",
    "\n",
    "for i,log_Kd_active in enumerate(range(-8,-16,-1)):    \n",
    "    p.line(ligand_smooth, agonist_only_p_active_theory(ligand_smooth, log_Kd_active, -7.7, -6), color=colors[i],legend_label='log_Kd_active='+str(log_Kd_active))\n",
    "\n",
    "\n",
    "\n",
    "bokeh.io.show(p);"
   ]
  },
  {
   "cell_type": "code",
   "execution_count": 120,
   "id": "494ae9f8",
   "metadata": {},
   "outputs": [
    {
     "data": {
      "text/html": [
       "\n",
       "\n",
       "\n",
       "\n",
       "\n",
       "\n",
       "  <div class=\"bk-root\" id=\"94e102c4-3920-40af-b895-c78dd3a3b3fa\" data-root-id=\"14025\"></div>\n"
      ]
     },
     "metadata": {},
     "output_type": "display_data"
    },
    {
     "data": {
      "application/javascript": [
       "(function(root) {\n",
       "  function embed_document(root) {\n",
       "    \n",
       "  var docs_json = {\"586d8cd7-8a42-4426-8f14-7d7dcc47d863\":{\"defs\":[],\"roots\":{\"references\":[{\"attributes\":{\"below\":[{\"id\":\"14034\"}],\"center\":[{\"id\":\"14037\"},{\"id\":\"14041\"}],\"height\":300,\"left\":[{\"id\":\"14038\"}],\"renderers\":[{\"id\":\"14059\"},{\"id\":\"14064\"}],\"title\":{\"id\":\"14067\"},\"toolbar\":{\"id\":\"14049\"},\"x_range\":{\"id\":\"14026\"},\"x_scale\":{\"id\":\"14030\"},\"y_range\":{\"id\":\"14028\"},\"y_scale\":{\"id\":\"14032\"}},\"id\":\"14025\",\"subtype\":\"Figure\",\"type\":\"Plot\"},{\"attributes\":{},\"id\":\"14028\",\"type\":\"DataRange1d\"},{\"attributes\":{\"fill_color\":{\"value\":\"#1f77b4\"},\"line_color\":{\"value\":\"#1f77b4\"},\"size\":{\"value\":7},\"x\":{\"field\":\"x\"},\"y\":{\"field\":\"y\"}},\"id\":\"14062\",\"type\":\"Circle\"},{\"attributes\":{},\"id\":\"14043\",\"type\":\"WheelZoomTool\"},{\"attributes\":{\"bottom_units\":\"screen\",\"fill_alpha\":0.5,\"fill_color\":\"lightgrey\",\"left_units\":\"screen\",\"level\":\"overlay\",\"line_alpha\":1.0,\"line_color\":\"black\",\"line_dash\":[4,4],\"line_width\":2,\"right_units\":\"screen\",\"syncable\":false,\"top_units\":\"screen\"},\"id\":\"14048\",\"type\":\"BoxAnnotation\"},{\"attributes\":{},\"id\":\"14075\",\"type\":\"Selection\"},{\"attributes\":{},\"id\":\"14077\",\"type\":\"Selection\"},{\"attributes\":{\"axis\":{\"id\":\"14038\"},\"dimension\":1,\"ticker\":null},\"id\":\"14041\",\"type\":\"Grid\"},{\"attributes\":{\"fill_alpha\":{\"value\":0.1},\"fill_color\":{\"value\":\"#1f77b4\"},\"line_alpha\":{\"value\":0.1},\"line_color\":{\"value\":\"#1f77b4\"},\"size\":{\"value\":7},\"x\":{\"field\":\"x\"},\"y\":{\"field\":\"y\"}},\"id\":\"14063\",\"type\":\"Circle\"},{\"attributes\":{\"overlay\":{\"id\":\"14048\"}},\"id\":\"14044\",\"type\":\"BoxZoomTool\"},{\"attributes\":{\"axis_label\":\"[L-glu] M\",\"formatter\":{\"id\":\"14068\"},\"major_label_policy\":{\"id\":\"14070\"},\"ticker\":{\"id\":\"14035\"}},\"id\":\"14034\",\"type\":\"LogAxis\"},{\"attributes\":{},\"id\":\"14042\",\"type\":\"PanTool\"},{\"attributes\":{\"line_alpha\":0.1,\"line_color\":\"#1f77b4\",\"x\":{\"field\":\"x\"},\"y\":{\"field\":\"y\"}},\"id\":\"14058\",\"type\":\"Line\"},{\"attributes\":{},\"id\":\"14067\",\"type\":\"Title\"},{\"attributes\":{\"axis_label\":\"active_probability\",\"formatter\":{\"id\":\"14071\"},\"major_label_policy\":{\"id\":\"14073\"},\"ticker\":{\"id\":\"14039\"}},\"id\":\"14038\",\"type\":\"LinearAxis\"},{\"attributes\":{},\"id\":\"14030\",\"type\":\"LogScale\"},{\"attributes\":{},\"id\":\"14039\",\"type\":\"BasicTicker\"},{\"attributes\":{},\"id\":\"14032\",\"type\":\"LinearScale\"},{\"attributes\":{},\"id\":\"14047\",\"type\":\"HelpTool\"},{\"attributes\":{},\"id\":\"14045\",\"type\":\"SaveTool\"},{\"attributes\":{},\"id\":\"14078\",\"type\":\"UnionRenderers\"},{\"attributes\":{\"line_color\":\"#1f77b4\",\"x\":{\"field\":\"x\"},\"y\":{\"field\":\"y\"}},\"id\":\"14057\",\"type\":\"Line\"},{\"attributes\":{},\"id\":\"14073\",\"type\":\"AllLabels\"},{\"attributes\":{\"data\":{\"x\":{\"__ndarray__\":\"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\",\"dtype\":\"float64\",\"order\":\"little\",\"shape\":[200]},\"y\":{\"__ndarray__\":\"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\",\"dtype\":\"float64\",\"order\":\"little\",\"shape\":[200]}},\"selected\":{\"id\":\"14075\"},\"selection_policy\":{\"id\":\"14076\"}},\"id\":\"14056\",\"type\":\"ColumnDataSource\"},{\"attributes\":{},\"id\":\"14076\",\"type\":\"UnionRenderers\"},{\"attributes\":{\"axis\":{\"id\":\"14034\"},\"ticker\":null},\"id\":\"14037\",\"type\":\"Grid\"},{\"attributes\":{},\"id\":\"14070\",\"type\":\"AllLabels\"},{\"attributes\":{\"num_minor_ticks\":10},\"id\":\"14035\",\"type\":\"LogTicker\"},{\"attributes\":{\"active_multi\":null,\"tools\":[{\"id\":\"14042\"},{\"id\":\"14043\"},{\"id\":\"14044\"},{\"id\":\"14045\"},{\"id\":\"14046\"},{\"id\":\"14047\"}]},\"id\":\"14049\",\"type\":\"Toolbar\"},{\"attributes\":{\"source\":{\"id\":\"14056\"}},\"id\":\"14060\",\"type\":\"CDSView\"},{\"attributes\":{\"data_source\":{\"id\":\"14056\"},\"glyph\":{\"id\":\"14057\"},\"hover_glyph\":null,\"muted_glyph\":null,\"nonselection_glyph\":{\"id\":\"14058\"},\"view\":{\"id\":\"14060\"}},\"id\":\"14059\",\"type\":\"GlyphRenderer\"},{\"attributes\":{\"data\":{\"x\":{\"__ndarray__\":\"C10dytBy/z7xaOOItfjkPpt9FwinKMk+je21oPfGsD7myhKghSCUPkivvJry13o+swgPgAQaYD4LXR3K0HL/PvFo44i1+OQ+m30XCKcoyT6N7bWg98awPubKEqCFIJQ+SK+8mvLXej6zCA+ABBpgPgtdHcrQcv8+8WjjiLX45D6bfRcIpyjJPo3ttaD3xrA+5soSoIUglD5Ir7ya8td6PrMID4AEGmA+C10dytBy/z7xaOOItfjkPpt9FwinKMk+je21oPfGsD7myhKghSCUPkivvJry13o+swgPgAQaYD4LXR3K0HL/PvFo44i1+OQ+m30XCKcoyT6N7bWg98awPubKEqCFIJQ+SK+8mvLXej6zCA+ABBpgPg==\",\"dtype\":\"float64\",\"order\":\"little\",\"shape\":[35]},\"y\":{\"__ndarray__\":\"qopGAr555T8p37yaeFbkP/alLrc/yOA/mpmZmZmZyT9aqZp4VjRyPwAAAAAAAAAAAAAAAAAAAAB0d3d3d3fnP3R3d3d3d+c/Kd+8mnhW5D8byw5Tl9vPPw64mnhWNJI/DriaeFY0kj87G+i0gU6LP8P1KFyPwuU/EXTaQKcN5D860GkDnTbgP0Mb6LSBTss/OxvotIFOiz87G+i0gU6LPzsb6LSBTos/8mvBFmzB5j/ya8EWbMHmP4VoJOCbV+M/wJJfLPnF0j8OuJp4VjSSPwAAAAAAAAAAAAAAAAAAAADszopGAr7pP2ojAd+8mug/5bSBThvo5D8dKH3SJ33SP1qpmnhWNHI/rMaaeFY0gj9aqZp4VjRyPw==\",\"dtype\":\"float64\",\"order\":\"little\",\"shape\":[35]}},\"selected\":{\"id\":\"14077\"},\"selection_policy\":{\"id\":\"14078\"}},\"id\":\"14061\",\"type\":\"ColumnDataSource\"},{\"attributes\":{\"data_source\":{\"id\":\"14061\"},\"glyph\":{\"id\":\"14062\"},\"hover_glyph\":null,\"muted_glyph\":null,\"nonselection_glyph\":{\"id\":\"14063\"},\"view\":{\"id\":\"14065\"}},\"id\":\"14064\",\"type\":\"GlyphRenderer\"},{\"attributes\":{},\"id\":\"14071\",\"type\":\"BasicTickFormatter\"},{\"attributes\":{\"ticker\":null},\"id\":\"14068\",\"type\":\"LogTickFormatter\"},{\"attributes\":{},\"id\":\"14026\",\"type\":\"DataRange1d\"},{\"attributes\":{\"source\":{\"id\":\"14061\"}},\"id\":\"14065\",\"type\":\"CDSView\"},{\"attributes\":{},\"id\":\"14046\",\"type\":\"ResetTool\"}],\"root_ids\":[\"14025\"]},\"title\":\"Bokeh Application\",\"version\":\"2.3.3\"}};\n",
       "  var render_items = [{\"docid\":\"586d8cd7-8a42-4426-8f14-7d7dcc47d863\",\"root_ids\":[\"14025\"],\"roots\":{\"14025\":\"94e102c4-3920-40af-b895-c78dd3a3b3fa\"}}];\n",
       "  root.Bokeh.embed.embed_items_notebook(docs_json, render_items);\n",
       "\n",
       "  }\n",
       "  if (root.Bokeh !== undefined) {\n",
       "    embed_document(root);\n",
       "  } else {\n",
       "    var attempts = 0;\n",
       "    var timer = setInterval(function(root) {\n",
       "      if (root.Bokeh !== undefined) {\n",
       "        clearInterval(timer);\n",
       "        embed_document(root);\n",
       "      } else {\n",
       "        attempts++;\n",
       "        if (attempts > 100) {\n",
       "          clearInterval(timer);\n",
       "          console.log(\"Bokeh: ERROR: Unable to run BokehJS code because BokehJS library is missing\");\n",
       "        }\n",
       "      }\n",
       "    }, 10, root)\n",
       "  }\n",
       "})(window);"
      ],
      "application/vnd.bokehjs_exec.v0+json": ""
     },
     "metadata": {
      "application/vnd.bokehjs_exec.v0+json": {
       "id": "14025"
      }
     },
     "output_type": "display_data"
    },
    {
     "name": "stdout",
     "output_type": "stream",
     "text": [
      "[-7.6753466 -5.6741383 -8.       ]\n"
     ]
    }
   ],
   "source": [
    "df_glu = pd.read_excel('./L-glu_nomedia_curves.xlsx')\n",
    "\n",
    "\n",
    "\n",
    "#initial parameter for optimization\n",
    "p0 = np.array([-6,-5,-8])\n",
    "c, p_active = df_glu['conc'].values, df_glu['p_open'].values/100\n",
    "\n",
    "#optimize kd and energy difference to fit the data\n",
    "res_glu = scipy.optimize.least_squares(resid, p0, args = (c,p_active))\n",
    "\n",
    "curdoc().clear()\n",
    "p = bokeh.plotting.figure(plot_height=300,\n",
    "                         plot_width=600,\n",
    "                         x_axis_label='[L-glu] M',\n",
    "                          y_axis_label='active_probability',\n",
    "                          x_axis_type='log')\n",
    "ligand_smooth=np.logspace(-8,-4,200)\n",
    "\n",
    "p.line(ligand_smooth, agonist_only_p_active_theory(ligand_smooth, res_glu.x[0],res_glu.x[1], res_glu.x[2]))\n",
    "p.circle(c, p_active, size=7)\n",
    "\n",
    "bokeh.io.show(p);\n",
    "print(res_glu.x)"
   ]
  },
  {
   "cell_type": "code",
   "execution_count": 127,
   "id": "f8a6481d",
   "metadata": {},
   "outputs": [
    {
     "data": {
      "text/html": [
       "\n",
       "\n",
       "\n",
       "\n",
       "\n",
       "\n",
       "  <div class=\"bk-root\" id=\"5786c27b-376d-440a-84cf-123394510277\" data-root-id=\"14557\"></div>\n"
      ]
     },
     "metadata": {},
     "output_type": "display_data"
    },
    {
     "data": {
      "application/javascript": [
       "(function(root) {\n",
       "  function embed_document(root) {\n",
       "    \n",
       "  var docs_json = {\"42fb5e52-7129-427c-bb80-494f33367c3f\":{\"defs\":[],\"roots\":{\"references\":[{\"attributes\":{\"below\":[{\"id\":\"14566\"}],\"center\":[{\"id\":\"14569\"},{\"id\":\"14573\"}],\"height\":400,\"left\":[{\"id\":\"14570\"}],\"renderers\":[{\"id\":\"14591\"},{\"id\":\"14596\"}],\"title\":{\"id\":\"14599\"},\"toolbar\":{\"id\":\"14581\"},\"x_range\":{\"id\":\"14558\"},\"x_scale\":{\"id\":\"14562\"},\"y_range\":{\"id\":\"14560\"},\"y_scale\":{\"id\":\"14564\"}},\"id\":\"14557\",\"subtype\":\"Figure\",\"type\":\"Plot\"},{\"attributes\":{\"overlay\":{\"id\":\"14580\"}},\"id\":\"14576\",\"type\":\"BoxZoomTool\"},{\"attributes\":{\"data\":{\"x\":{\"__ndarray__\":\"je21oPfGsD7myhKghSCUPkivvJry13o+swgPgAQaYD46jDDijnlFPkp0fmY6wyk+ldYm6AsuET7jKWW4Lpz0PZVkeeF//aU9je21oPfGsD7myhKghSCUPkivvJry13o+swgPgAQaYD46jDDijnlFPkp0fmY6wyk+ldYm6AsuET7jKWW4Lpz0PZVkeeF//aU9je21oPfGsD7myhKghSCUPkivvJry13o+swgPgAQaYD46jDDijnlFPkp0fmY6wyk+ldYm6AsuET7jKWW4Lpz0PZVkeeF//aU9je21oPfGsD7myhKghSCUPkivvJry13o+swgPgAQaYD46jDDijnlFPkp0fmY6wyk+ldYm6AsuET7jKWW4Lpz0PZVkeeF//aU9je21oPfGsD7myhKghSCUPkivvJry13o+swgPgAQaYD46jDDijnlFPkp0fmY6wyk+ldYm6AsuET7jKWW4Lpz0PZVkeeF//aU9\",\"dtype\":\"float64\",\"order\":\"little\",\"shape\":[45]},\"y\":{\"__ndarray__\":\"UrgehetR6D8EOm2g0wbqP4Eutz/IUOk/BiBkqOww5T8h7g8yVHbYPxMREREREbE/WBvotIFOmz+sxQ5Tl9ufPw64mnhWNJI/j0UjAd+86j/JDzJUdpjqPy/5xZJfLOk/FCsaCfjm5T9pw9Tl9gfZPxMREREREbE/BXHBFmzBlj9YG+i0gU6bP6zFDlOX258/dHd3d3d35z8tlvxiyS/mP1hVVVVVVeU/gbHkF0t+4T8x0GkDnTbQP1gb6LSBTps/OxvotIFOiz9YG+i0gU6bP1gb6LSBTps/3cPU5fYH6T8Agy3Ygi3oP3R3d3d3d+c/vz7pkz7p4z/aAN+8mnjWP3sUrkfheqQ/WqmaeFY0cj+sxpp4VjSCP6zGmnhWNII/SsdxHMdx7D9MG+i0gU7rP7IEfPNq4uk/XAyVHaYu5z89BHzzauLZP6zFDlOX258/WqmaeFY0cj8AAAAAAAAAADsb6LSBTos/\",\"dtype\":\"float64\",\"order\":\"little\",\"shape\":[45]}},\"selected\":{\"id\":\"14609\"},\"selection_policy\":{\"id\":\"14610\"}},\"id\":\"14593\",\"type\":\"ColumnDataSource\"},{\"attributes\":{\"num_minor_ticks\":10},\"id\":\"14567\",\"type\":\"LogTicker\"},{\"attributes\":{},\"id\":\"14571\",\"type\":\"BasicTicker\"},{\"attributes\":{\"fill_alpha\":{\"value\":0.1},\"fill_color\":{\"value\":\"black\"},\"line_alpha\":{\"value\":0.1},\"size\":{\"value\":7},\"x\":{\"field\":\"x\"},\"y\":{\"field\":\"y\"}},\"id\":\"14595\",\"type\":\"Circle\"},{\"attributes\":{},\"id\":\"14562\",\"type\":\"LogScale\"},{\"attributes\":{},\"id\":\"14578\",\"type\":\"ResetTool\"},{\"attributes\":{\"ticker\":null},\"id\":\"14600\",\"type\":\"LogTickFormatter\"},{\"attributes\":{},\"id\":\"14577\",\"type\":\"SaveTool\"},{\"attributes\":{},\"id\":\"14608\",\"type\":\"UnionRenderers\"},{\"attributes\":{},\"id\":\"14575\",\"type\":\"WheelZoomTool\"},{\"attributes\":{\"axis_label\":\"active_probability\",\"formatter\":{\"id\":\"14603\"},\"major_label_policy\":{\"id\":\"14605\"},\"ticker\":{\"id\":\"14571\"}},\"id\":\"14570\",\"type\":\"LinearAxis\"},{\"attributes\":{},\"id\":\"14558\",\"type\":\"DataRange1d\"},{\"attributes\":{},\"id\":\"14609\",\"type\":\"Selection\"},{\"attributes\":{},\"id\":\"14574\",\"type\":\"PanTool\"},{\"attributes\":{\"source\":{\"id\":\"14593\"}},\"id\":\"14597\",\"type\":\"CDSView\"},{\"attributes\":{\"data_source\":{\"id\":\"14588\"},\"glyph\":{\"id\":\"14589\"},\"hover_glyph\":null,\"muted_glyph\":null,\"nonselection_glyph\":{\"id\":\"14590\"},\"view\":{\"id\":\"14592\"}},\"id\":\"14591\",\"type\":\"GlyphRenderer\"},{\"attributes\":{},\"id\":\"14607\",\"type\":\"Selection\"},{\"attributes\":{},\"id\":\"14560\",\"type\":\"DataRange1d\"},{\"attributes\":{\"fill_color\":{\"value\":\"black\"},\"size\":{\"value\":7},\"x\":{\"field\":\"x\"},\"y\":{\"field\":\"y\"}},\"id\":\"14594\",\"type\":\"Circle\"},{\"attributes\":{},\"id\":\"14603\",\"type\":\"BasicTickFormatter\"},{\"attributes\":{\"data_source\":{\"id\":\"14593\"},\"glyph\":{\"id\":\"14594\"},\"hover_glyph\":null,\"muted_glyph\":null,\"nonselection_glyph\":{\"id\":\"14595\"},\"view\":{\"id\":\"14597\"}},\"id\":\"14596\",\"type\":\"GlyphRenderer\"},{\"attributes\":{},\"id\":\"14602\",\"type\":\"AllLabels\"},{\"attributes\":{\"active_multi\":null,\"tools\":[{\"id\":\"14574\"},{\"id\":\"14575\"},{\"id\":\"14576\"},{\"id\":\"14577\"},{\"id\":\"14578\"},{\"id\":\"14579\"}]},\"id\":\"14581\",\"type\":\"Toolbar\"},{\"attributes\":{\"axis_label\":\"[L-Quis] M\",\"formatter\":{\"id\":\"14600\"},\"major_label_policy\":{\"id\":\"14602\"},\"ticker\":{\"id\":\"14567\"}},\"id\":\"14566\",\"type\":\"LogAxis\"},{\"attributes\":{\"axis\":{\"id\":\"14570\"},\"dimension\":1,\"ticker\":null},\"id\":\"14573\",\"type\":\"Grid\"},{\"attributes\":{},\"id\":\"14579\",\"type\":\"HelpTool\"},{\"attributes\":{\"source\":{\"id\":\"14588\"}},\"id\":\"14592\",\"type\":\"CDSView\"},{\"attributes\":{},\"id\":\"14599\",\"type\":\"Title\"},{\"attributes\":{\"line_alpha\":0.1,\"x\":{\"field\":\"x\"},\"y\":{\"field\":\"y\"}},\"id\":\"14590\",\"type\":\"Line\"},{\"attributes\":{},\"id\":\"14605\",\"type\":\"AllLabels\"},{\"attributes\":{\"bottom_units\":\"screen\",\"fill_alpha\":0.5,\"fill_color\":\"lightgrey\",\"left_units\":\"screen\",\"level\":\"overlay\",\"line_alpha\":1.0,\"line_color\":\"black\",\"line_dash\":[4,4],\"line_width\":2,\"right_units\":\"screen\",\"syncable\":false,\"top_units\":\"screen\"},\"id\":\"14580\",\"type\":\"BoxAnnotation\"},{\"attributes\":{},\"id\":\"14610\",\"type\":\"UnionRenderers\"},{\"attributes\":{},\"id\":\"14564\",\"type\":\"LinearScale\"},{\"attributes\":{\"axis\":{\"id\":\"14566\"},\"ticker\":null},\"id\":\"14569\",\"type\":\"Grid\"},{\"attributes\":{\"x\":{\"field\":\"x\"},\"y\":{\"field\":\"y\"}},\"id\":\"14589\",\"type\":\"Line\"},{\"attributes\":{\"data\":{\"x\":{\"__ndarray__\":\"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\",\"dtype\":\"float64\",\"order\":\"little\",\"shape\":[200]},\"y\":{\"__ndarray__\":\"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\",\"dtype\":\"float64\",\"order\":\"little\",\"shape\":[200]}},\"selected\":{\"id\":\"14607\"},\"selection_policy\":{\"id\":\"14608\"}},\"id\":\"14588\",\"type\":\"ColumnDataSource\"}],\"root_ids\":[\"14557\"]},\"title\":\"Bokeh Application\",\"version\":\"2.3.3\"}};\n",
       "  var render_items = [{\"docid\":\"42fb5e52-7129-427c-bb80-494f33367c3f\",\"root_ids\":[\"14557\"],\"roots\":{\"14557\":\"5786c27b-376d-440a-84cf-123394510277\"}}];\n",
       "  root.Bokeh.embed.embed_items_notebook(docs_json, render_items);\n",
       "\n",
       "  }\n",
       "  if (root.Bokeh !== undefined) {\n",
       "    embed_document(root);\n",
       "  } else {\n",
       "    var attempts = 0;\n",
       "    var timer = setInterval(function(root) {\n",
       "      if (root.Bokeh !== undefined) {\n",
       "        clearInterval(timer);\n",
       "        embed_document(root);\n",
       "      } else {\n",
       "        attempts++;\n",
       "        if (attempts > 100) {\n",
       "          clearInterval(timer);\n",
       "          console.log(\"Bokeh: ERROR: Unable to run BokehJS code because BokehJS library is missing\");\n",
       "        }\n",
       "      }\n",
       "    }, 10, root)\n",
       "  }\n",
       "})(window);"
      ],
      "application/vnd.bokehjs_exec.v0+json": ""
     },
     "metadata": {
      "application/vnd.bokehjs_exec.v0+json": {
       "id": "14557"
      }
     },
     "output_type": "display_data"
    },
    {
     "name": "stdout",
     "output_type": "stream",
     "text": [
      "[-8.99994423 -7.65368711 -4.676     ]\n"
     ]
    }
   ],
   "source": [
    "df = pd.read_excel('./L-quis_nomedia_curves.xlsx')\n",
    "\n",
    "\n",
    "\n",
    "#initial parameter for optimization\n",
    "p0 = np.array([-9,-7,-4.676])\n",
    "c, p_active = df['conc'].values, df['p_open'].values/100\n",
    "\n",
    "#optimize kd and energy difference to fit the data\n",
    "res = scipy.optimize.least_squares(resid, p0, args = (c,p_active))\n",
    "\n",
    "curdoc().clear()\n",
    "p = bokeh.plotting.figure(plot_height=400,\n",
    "                         plot_width=600,\n",
    "                         x_axis_label='[L-Quis] M',\n",
    "                          y_axis_label='active_probability',\n",
    "                          x_axis_type='log')\n",
    "ligand_smooth=np.logspace(-11,-4,200)\n",
    "\n",
    "p.line(ligand_smooth, agonist_only_p_active_theory(ligand_smooth, res.x[0],res.x[1], res.x[2]), color = 'black')\n",
    "p.circle(c, p_active, size=7, color = 'black')\n",
    "\n",
    "bokeh.io.show(p);\n",
    "print(res.x)"
   ]
  },
  {
   "cell_type": "code",
   "execution_count": 129,
   "id": "66b14eba",
   "metadata": {},
   "outputs": [
    {
     "data": {
      "text/html": [
       "\n",
       "\n",
       "\n",
       "\n",
       "\n",
       "\n",
       "  <div class=\"bk-root\" id=\"0d01c5f8-ff8a-4791-9309-0abc40835285\" data-root-id=\"14795\"></div>\n"
      ]
     },
     "metadata": {},
     "output_type": "display_data"
    },
    {
     "data": {
      "application/javascript": [
       "(function(root) {\n",
       "  function embed_document(root) {\n",
       "    \n",
       "  var docs_json = {\"b2a5e817-4fa8-4656-8af1-7e4789196c6d\":{\"defs\":[],\"roots\":{\"references\":[{\"attributes\":{\"below\":[{\"id\":\"14804\"}],\"center\":[{\"id\":\"14807\"},{\"id\":\"14811\"}],\"height\":400,\"left\":[{\"id\":\"14808\"}],\"renderers\":[{\"id\":\"14829\"},{\"id\":\"14834\"}],\"title\":{\"id\":\"14837\"},\"toolbar\":{\"id\":\"14819\"},\"x_range\":{\"id\":\"14796\"},\"x_scale\":{\"id\":\"14800\"},\"y_range\":{\"id\":\"14798\"},\"y_scale\":{\"id\":\"14802\"}},\"id\":\"14795\",\"subtype\":\"Figure\",\"type\":\"Plot\"},{\"attributes\":{},\"id\":\"14843\",\"type\":\"AllLabels\"},{\"attributes\":{\"axis\":{\"id\":\"14804\"},\"ticker\":null},\"id\":\"14807\",\"type\":\"Grid\"},{\"attributes\":{},\"id\":\"14812\",\"type\":\"PanTool\"},{\"attributes\":{\"data\":{\"x\":{\"__ndarray__\":\"JLxllFk3Cj/xaOOItfjkPrv2lrCrxsA+D4t/nP/Wmj4/4UdNa3h1PmFBquXULFE+iTxe2nF6Kz6VZHnhf/2lPSS8ZZRZNwo/8WjjiLX45D679pawq8bAPg+Lf5z/1po+P+FHTWt4dT5hQarl1CxRPok8Xtpxeis+lWR54X/9pT0kvGWUWTcKP/Fo44i1+OQ+u/aWsKvGwD4Pi3+c/9aaPj/hR01reHU+YUGq5dQsUT6JPF7acXorPpVkeeF//aU9JLxllFk3Cj/xaOOItfjkPrv2lrCrxsA+D4t/nP/Wmj4/4UdNa3h1PmFBquXULFE+iTxe2nF6Kz6VZHnhf/2lPSS8ZZRZNwo/8WjjiLX45D679pawq8bAPg+Lf5z/1po+P+FHTWt4dT5hQarl1CxRPok8Xtpxeis+lWR54X/9pT0=\",\"dtype\":\"float64\",\"order\":\"little\",\"shape\":[40]},\"y\":{\"__ndarray__\":\"uB6F61G4zj80P+mTPunDPxMREREREbE/BXHBFmzBlj8OuJp4VjSSPzsb6LSBTos/BXHBFmzBlj8OuJp4VjSSP65BhsoOU9c/ycdxHMdxzD/0xXEcx3G8PwVxwRZswZY/rMaaeFY0gj8OuJp4VjSSP6zGmnhWNII/rMUOU5fbnz8x0GkDnTbQPwUREREREcE/exSuR+F6pD8AAAAAAAAAADsb6LSBTos/OxvotIFOiz87G+i0gU6LP1gb6LSBTps/Y/1BhsoO0z/xF0t+seTHPwG/N68mnrU/rMaaeFY0gj8AAAAAAAAAAAAAAAAAAAAAAAAAAAAAAACsxpp4VjSCP7p782riWdE/0pJfLPnFwj8uxtTl9gepPwAAAAAAAAAAAAAAAAAAAAAAAAAAAAAAAAAAAAAAAAAAOxvotIFOiz8=\",\"dtype\":\"float64\",\"order\":\"little\",\"shape\":[40]}},\"selected\":{\"id\":\"14847\"},\"selection_policy\":{\"id\":\"14848\"}},\"id\":\"14831\",\"type\":\"ColumnDataSource\"},{\"attributes\":{},\"id\":\"14845\",\"type\":\"Selection\"},{\"attributes\":{\"fill_color\":{\"value\":\"red\"},\"line_color\":{\"value\":\"red\"},\"size\":{\"value\":7},\"x\":{\"field\":\"x\"},\"y\":{\"field\":\"y\"}},\"id\":\"14832\",\"type\":\"Circle\"},{\"attributes\":{\"bottom_units\":\"screen\",\"fill_alpha\":0.5,\"fill_color\":\"lightgrey\",\"left_units\":\"screen\",\"level\":\"overlay\",\"line_alpha\":1.0,\"line_color\":\"black\",\"line_dash\":[4,4],\"line_width\":2,\"right_units\":\"screen\",\"syncable\":false,\"top_units\":\"screen\"},\"id\":\"14818\",\"type\":\"BoxAnnotation\"},{\"attributes\":{},\"id\":\"14817\",\"type\":\"HelpTool\"},{\"attributes\":{},\"id\":\"14800\",\"type\":\"LogScale\"},{\"attributes\":{\"data\":{\"x\":{\"__ndarray__\":\"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\",\"dtype\":\"float64\",\"order\":\"little\",\"shape\":[200]},\"y\":{\"__ndarray__\":\"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\",\"dtype\":\"float64\",\"order\":\"little\",\"shape\":[200]}},\"selected\":{\"id\":\"14845\"},\"selection_policy\":{\"id\":\"14846\"}},\"id\":\"14826\",\"type\":\"ColumnDataSource\"},{\"attributes\":{},\"id\":\"14815\",\"type\":\"SaveTool\"},{\"attributes\":{},\"id\":\"14802\",\"type\":\"LinearScale\"},{\"attributes\":{},\"id\":\"14847\",\"type\":\"Selection\"},{\"attributes\":{},\"id\":\"14798\",\"type\":\"DataRange1d\"},{\"attributes\":{\"active_multi\":null,\"tools\":[{\"id\":\"14812\"},{\"id\":\"14813\"},{\"id\":\"14814\"},{\"id\":\"14815\"},{\"id\":\"14816\"},{\"id\":\"14817\"}]},\"id\":\"14819\",\"type\":\"Toolbar\"},{\"attributes\":{\"data_source\":{\"id\":\"14831\"},\"glyph\":{\"id\":\"14832\"},\"hover_glyph\":null,\"muted_glyph\":null,\"nonselection_glyph\":{\"id\":\"14833\"},\"view\":{\"id\":\"14835\"}},\"id\":\"14834\",\"type\":\"GlyphRenderer\"},{\"attributes\":{},\"id\":\"14809\",\"type\":\"BasicTicker\"},{\"attributes\":{\"ticker\":null},\"id\":\"14838\",\"type\":\"LogTickFormatter\"},{\"attributes\":{\"axis_label\":\"active_probability\",\"formatter\":{\"id\":\"14841\"},\"major_label_policy\":{\"id\":\"14843\"},\"ticker\":{\"id\":\"14809\"}},\"id\":\"14808\",\"type\":\"LinearAxis\"},{\"attributes\":{\"data_source\":{\"id\":\"14826\"},\"glyph\":{\"id\":\"14827\"},\"hover_glyph\":null,\"muted_glyph\":null,\"nonselection_glyph\":{\"id\":\"14828\"},\"view\":{\"id\":\"14830\"}},\"id\":\"14829\",\"type\":\"GlyphRenderer\"},{\"attributes\":{},\"id\":\"14840\",\"type\":\"AllLabels\"},{\"attributes\":{},\"id\":\"14846\",\"type\":\"UnionRenderers\"},{\"attributes\":{\"fill_alpha\":{\"value\":0.1},\"fill_color\":{\"value\":\"red\"},\"line_alpha\":{\"value\":0.1},\"line_color\":{\"value\":\"red\"},\"size\":{\"value\":7},\"x\":{\"field\":\"x\"},\"y\":{\"field\":\"y\"}},\"id\":\"14833\",\"type\":\"Circle\"},{\"attributes\":{\"overlay\":{\"id\":\"14818\"}},\"id\":\"14814\",\"type\":\"BoxZoomTool\"},{\"attributes\":{},\"id\":\"14816\",\"type\":\"ResetTool\"},{\"attributes\":{},\"id\":\"14837\",\"type\":\"Title\"},{\"attributes\":{\"num_minor_ticks\":10},\"id\":\"14805\",\"type\":\"LogTicker\"},{\"attributes\":{\"line_alpha\":0.1,\"line_color\":\"red\",\"x\":{\"field\":\"x\"},\"y\":{\"field\":\"y\"}},\"id\":\"14828\",\"type\":\"Line\"},{\"attributes\":{},\"id\":\"14848\",\"type\":\"UnionRenderers\"},{\"attributes\":{},\"id\":\"14796\",\"type\":\"DataRange1d\"},{\"attributes\":{\"axis\":{\"id\":\"14808\"},\"dimension\":1,\"ticker\":null},\"id\":\"14811\",\"type\":\"Grid\"},{\"attributes\":{},\"id\":\"14813\",\"type\":\"WheelZoomTool\"},{\"attributes\":{\"axis_label\":\"[CDPPB] M\",\"formatter\":{\"id\":\"14838\"},\"major_label_policy\":{\"id\":\"14840\"},\"ticker\":{\"id\":\"14805\"}},\"id\":\"14804\",\"type\":\"LogAxis\"},{\"attributes\":{\"source\":{\"id\":\"14826\"}},\"id\":\"14830\",\"type\":\"CDSView\"},{\"attributes\":{},\"id\":\"14841\",\"type\":\"BasicTickFormatter\"},{\"attributes\":{\"source\":{\"id\":\"14831\"}},\"id\":\"14835\",\"type\":\"CDSView\"},{\"attributes\":{\"line_color\":\"red\",\"x\":{\"field\":\"x\"},\"y\":{\"field\":\"y\"}},\"id\":\"14827\",\"type\":\"Line\"}],\"root_ids\":[\"14795\"]},\"title\":\"Bokeh Application\",\"version\":\"2.3.3\"}};\n",
       "  var render_items = [{\"docid\":\"b2a5e817-4fa8-4656-8af1-7e4789196c6d\",\"root_ids\":[\"14795\"],\"roots\":{\"14795\":\"0d01c5f8-ff8a-4791-9309-0abc40835285\"}}];\n",
       "  root.Bokeh.embed.embed_items_notebook(docs_json, render_items);\n",
       "\n",
       "  }\n",
       "  if (root.Bokeh !== undefined) {\n",
       "    embed_document(root);\n",
       "  } else {\n",
       "    var attempts = 0;\n",
       "    var timer = setInterval(function(root) {\n",
       "      if (root.Bokeh !== undefined) {\n",
       "        clearInterval(timer);\n",
       "        embed_document(root);\n",
       "      } else {\n",
       "        attempts++;\n",
       "        if (attempts > 100) {\n",
       "          clearInterval(timer);\n",
       "          console.log(\"Bokeh: ERROR: Unable to run BokehJS code because BokehJS library is missing\");\n",
       "        }\n",
       "      }\n",
       "    }, 10, root)\n",
       "  }\n",
       "})(window);"
      ],
      "application/vnd.bokehjs_exec.v0+json": ""
     },
     "metadata": {
      "application/vnd.bokehjs_exec.v0+json": {
       "id": "14795"
      }
     },
     "output_type": "display_data"
    },
    {
     "name": "stdout",
     "output_type": "stream",
     "text": [
      "[-6.54848775 -4.8011372  -4.67619387]\n"
     ]
    }
   ],
   "source": [
    "df_pam = pd.read_excel('./CDPPB_nomedia_curves.xlsx')\n",
    "\n",
    "#initial parameter for optimization\n",
    "p0 = np.array([-4,-3,-6.6])\n",
    "c_pam, p_active_pam = df_pam['conc'].values, df_pam['p_open'].values/100\n",
    "\n",
    "#optimize kd and energy difference to fit the data\n",
    "res_pam = scipy.optimize.least_squares(resid_PAM, p0, args = (c_pam,p_active_pam))\n",
    "\n",
    "curdoc().clear()\n",
    "p = bokeh.plotting.figure(plot_height=400,\n",
    "                         plot_width=600,\n",
    "                         x_axis_label='[CDPPB] M',\n",
    "                          y_axis_label='active_probability',\n",
    "                          x_axis_type='log')\n",
    "\n",
    "\n",
    "ligand_smooth=np.logspace(-8,-2,200)\n",
    "p.line(ligand_smooth, PAM_only_p_active_theory(ligand_smooth,res_pam.x[0],res_pam.x[1],res_pam.x[2]), color='red')\n",
    "p.circle(c_pam, p_active_pam, size=7, color='red')\n",
    "\n",
    "bokeh.io.show(p);\n",
    "print(res_pam.x)"
   ]
  },
  {
   "cell_type": "code",
   "execution_count": 107,
   "id": "3cc42a7a",
   "metadata": {},
   "outputs": [
    {
     "data": {
      "text/html": [
       "\n",
       "\n",
       "\n",
       "\n",
       "\n",
       "\n",
       "  <div class=\"bk-root\" id=\"8f73af40-2dd1-43e3-8522-d8dc70d2460d\" data-root-id=\"14573\"></div>\n"
      ]
     },
     "metadata": {},
     "output_type": "display_data"
    },
    {
     "data": {
      "application/javascript": [
       "(function(root) {\n",
       "  function embed_document(root) {\n",
       "    \n",
       "  const docs_json = {\"8b3e1615-0187-4374-9ad4-f8ede5a02bac\":{\"defs\":[],\"roots\":{\"references\":[{\"attributes\":{\"below\":[{\"id\":\"14582\"}],\"center\":[{\"id\":\"14585\"},{\"id\":\"14589\"}],\"height\":300,\"left\":[{\"id\":\"14586\"}],\"renderers\":[{\"id\":\"14608\"},{\"id\":\"14614\"}],\"title\":{\"id\":\"14616\"},\"toolbar\":{\"id\":\"14597\"},\"x_range\":{\"id\":\"14574\"},\"x_scale\":{\"id\":\"14578\"},\"y_range\":{\"id\":\"14576\"},\"y_scale\":{\"id\":\"14580\"}},\"id\":\"14573\",\"subtype\":\"Figure\",\"type\":\"Plot\"},{\"attributes\":{\"bottom_units\":\"screen\",\"coordinates\":null,\"fill_alpha\":0.5,\"fill_color\":\"lightgrey\",\"group\":null,\"left_units\":\"screen\",\"level\":\"overlay\",\"line_alpha\":1.0,\"line_color\":\"black\",\"line_dash\":[4,4],\"line_width\":2,\"right_units\":\"screen\",\"syncable\":false,\"top_units\":\"screen\"},\"id\":\"14596\",\"type\":\"BoxAnnotation\"},{\"attributes\":{\"line_alpha\":0.2,\"line_color\":\"#1f77b4\",\"x\":{\"field\":\"x\"},\"y\":{\"field\":\"y\"}},\"id\":\"14607\",\"type\":\"Line\"},{\"attributes\":{\"axis_label\":\"active_probability\",\"coordinates\":null,\"formatter\":{\"id\":\"14619\"},\"group\":null,\"major_label_policy\":{\"id\":\"14620\"},\"ticker\":{\"id\":\"14587\"}},\"id\":\"14586\",\"type\":\"LinearAxis\"},{\"attributes\":{\"num_minor_ticks\":10},\"id\":\"14583\",\"type\":\"LogTicker\"},{\"attributes\":{\"fill_color\":{\"value\":\"#1f77b4\"},\"line_color\":{\"value\":\"#1f77b4\"},\"size\":{\"value\":7},\"x\":{\"field\":\"x\"},\"y\":{\"field\":\"y\"}},\"id\":\"14611\",\"type\":\"Circle\"},{\"attributes\":{},\"id\":\"14574\",\"type\":\"DataRange1d\"},{\"attributes\":{},\"id\":\"14619\",\"type\":\"BasicTickFormatter\"},{\"attributes\":{},\"id\":\"14620\",\"type\":\"AllLabels\"},{\"attributes\":{\"source\":{\"id\":\"14604\"}},\"id\":\"14609\",\"type\":\"CDSView\"},{\"attributes\":{\"data\":{\"x\":{\"__ndarray__\":\"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\",\"dtype\":\"float64\",\"order\":\"little\",\"shape\":[200]},\"y\":{\"__ndarray__\":\"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\",\"dtype\":\"float64\",\"order\":\"little\",\"shape\":[200]}},\"selected\":{\"id\":\"14625\"},\"selection_policy\":{\"id\":\"14624\"}},\"id\":\"14604\",\"type\":\"ColumnDataSource\"},{\"attributes\":{},\"id\":\"14625\",\"type\":\"Selection\"},{\"attributes\":{},\"id\":\"14587\",\"type\":\"BasicTicker\"},{\"attributes\":{\"data\":{\"x\":{\"__ndarray__\":\"JLxllFk3Cj/xaOOItfjkPrv2lrCrxsA+D4t/nP/Wmj4/4UdNa3h1PmFBquXULFE+iTxe2nF6Kz6VZHnhf/2lPSS8ZZRZNwo/8WjjiLX45D679pawq8bAPg+Lf5z/1po+P+FHTWt4dT5hQarl1CxRPok8Xtpxeis+lWR54X/9pT0kvGWUWTcKP/Fo44i1+OQ+u/aWsKvGwD4Pi3+c/9aaPj/hR01reHU+YUGq5dQsUT6JPF7acXorPpVkeeF//aU9JLxllFk3Cj/xaOOItfjkPrv2lrCrxsA+D4t/nP/Wmj4/4UdNa3h1PmFBquXULFE+iTxe2nF6Kz6VZHnhf/2lPQ==\",\"dtype\":\"float64\",\"order\":\"little\",\"shape\":[32]},\"y\":{\"__ndarray__\":\"RlR99oye6z9sGqlmHH7oP7emAEc7PeI/3nBnPsUuzT/lF2oYt62lP8yMvTFrrmo/S6K9MWuuij9Lor0xa66KPwnqDSry8uQ/HM0j4rli4z81Pg8XazLhPzynP5WgDdU/pF71lzgEnj9Lor0xa66KPxg/TmXQAoQ/GD9OZdAClD/VBzfAj1PpPw2xeOjmouQ/zVCBvfdc4D8gg9nkUVnMP6Re9Zc4BK4/S6K9MWuuij8AAAAAAAAAAAAAAAAAAAAAkeDU1qtd5T+wGCvKUd3iP8X1A2ho+dw/J/2+HuTtxj/MjL0xa65qP8yMvTFrrmo/zIy9MWuuaj9Lor0xa66KPw==\",\"dtype\":\"float64\",\"order\":\"little\",\"shape\":[32]}},\"selected\":{\"id\":\"14627\"},\"selection_policy\":{\"id\":\"14626\"}},\"id\":\"14610\",\"type\":\"ColumnDataSource\"},{\"attributes\":{\"tools\":[{\"id\":\"14590\"},{\"id\":\"14591\"},{\"id\":\"14592\"},{\"id\":\"14593\"},{\"id\":\"14594\"},{\"id\":\"14595\"}]},\"id\":\"14597\",\"type\":\"Toolbar\"},{\"attributes\":{\"line_color\":\"#1f77b4\",\"x\":{\"field\":\"x\"},\"y\":{\"field\":\"y\"}},\"id\":\"14605\",\"type\":\"Line\"},{\"attributes\":{},\"id\":\"14580\",\"type\":\"LinearScale\"},{\"attributes\":{\"fill_alpha\":{\"value\":0.1},\"fill_color\":{\"value\":\"#1f77b4\"},\"hatch_alpha\":{\"value\":0.1},\"line_alpha\":{\"value\":0.1},\"line_color\":{\"value\":\"#1f77b4\"},\"size\":{\"value\":7},\"x\":{\"field\":\"x\"},\"y\":{\"field\":\"y\"}},\"id\":\"14612\",\"type\":\"Circle\"},{\"attributes\":{\"fill_alpha\":{\"value\":0.2},\"fill_color\":{\"value\":\"#1f77b4\"},\"hatch_alpha\":{\"value\":0.2},\"line_alpha\":{\"value\":0.2},\"line_color\":{\"value\":\"#1f77b4\"},\"size\":{\"value\":7},\"x\":{\"field\":\"x\"},\"y\":{\"field\":\"y\"}},\"id\":\"14613\",\"type\":\"Circle\"},{\"attributes\":{\"axis\":{\"id\":\"14586\"},\"coordinates\":null,\"dimension\":1,\"group\":null,\"ticker\":null},\"id\":\"14589\",\"type\":\"Grid\"},{\"attributes\":{\"line_alpha\":0.1,\"line_color\":\"#1f77b4\",\"x\":{\"field\":\"x\"},\"y\":{\"field\":\"y\"}},\"id\":\"14606\",\"type\":\"Line\"},{\"attributes\":{},\"id\":\"14626\",\"type\":\"UnionRenderers\"},{\"attributes\":{\"coordinates\":null,\"data_source\":{\"id\":\"14604\"},\"glyph\":{\"id\":\"14605\"},\"group\":null,\"hover_glyph\":null,\"muted_glyph\":{\"id\":\"14607\"},\"nonselection_glyph\":{\"id\":\"14606\"},\"view\":{\"id\":\"14609\"}},\"id\":\"14608\",\"type\":\"GlyphRenderer\"},{\"attributes\":{\"coordinates\":null,\"group\":null},\"id\":\"14616\",\"type\":\"Title\"},{\"attributes\":{},\"id\":\"14578\",\"type\":\"LogScale\"},{\"attributes\":{},\"id\":\"14627\",\"type\":\"Selection\"},{\"attributes\":{\"source\":{\"id\":\"14610\"}},\"id\":\"14615\",\"type\":\"CDSView\"},{\"attributes\":{},\"id\":\"14590\",\"type\":\"PanTool\"},{\"attributes\":{},\"id\":\"14593\",\"type\":\"SaveTool\"},{\"attributes\":{\"coordinates\":null,\"data_source\":{\"id\":\"14610\"},\"glyph\":{\"id\":\"14611\"},\"group\":null,\"hover_glyph\":null,\"muted_glyph\":{\"id\":\"14613\"},\"nonselection_glyph\":{\"id\":\"14612\"},\"view\":{\"id\":\"14615\"}},\"id\":\"14614\",\"type\":\"GlyphRenderer\"},{\"attributes\":{},\"id\":\"14624\",\"type\":\"UnionRenderers\"},{\"attributes\":{\"axis_label\":\"[CDPPB] M\",\"coordinates\":null,\"formatter\":{\"id\":\"14622\"},\"group\":null,\"major_label_policy\":{\"id\":\"14623\"},\"ticker\":{\"id\":\"14583\"}},\"id\":\"14582\",\"type\":\"LogAxis\"},{\"attributes\":{},\"id\":\"14576\",\"type\":\"DataRange1d\"},{\"attributes\":{\"overlay\":{\"id\":\"14596\"}},\"id\":\"14592\",\"type\":\"BoxZoomTool\"},{\"attributes\":{},\"id\":\"14623\",\"type\":\"AllLabels\"},{\"attributes\":{},\"id\":\"14595\",\"type\":\"HelpTool\"},{\"attributes\":{\"axis\":{\"id\":\"14582\"},\"coordinates\":null,\"group\":null,\"ticker\":null},\"id\":\"14585\",\"type\":\"Grid\"},{\"attributes\":{},\"id\":\"14594\",\"type\":\"ResetTool\"},{\"attributes\":{},\"id\":\"14591\",\"type\":\"WheelZoomTool\"},{\"attributes\":{\"ticker\":null},\"id\":\"14622\",\"type\":\"LogTickFormatter\"}],\"root_ids\":[\"14573\"]},\"title\":\"Bokeh Application\",\"version\":\"2.4.2\"}};\n",
       "  const render_items = [{\"docid\":\"8b3e1615-0187-4374-9ad4-f8ede5a02bac\",\"root_ids\":[\"14573\"],\"roots\":{\"14573\":\"8f73af40-2dd1-43e3-8522-d8dc70d2460d\"}}];\n",
       "  root.Bokeh.embed.embed_items_notebook(docs_json, render_items);\n",
       "\n",
       "  }\n",
       "  if (root.Bokeh !== undefined) {\n",
       "    embed_document(root);\n",
       "  } else {\n",
       "    let attempts = 0;\n",
       "    const timer = setInterval(function(root) {\n",
       "      if (root.Bokeh !== undefined) {\n",
       "        clearInterval(timer);\n",
       "        embed_document(root);\n",
       "      } else {\n",
       "        attempts++;\n",
       "        if (attempts > 100) {\n",
       "          clearInterval(timer);\n",
       "          console.log(\"Bokeh: ERROR: Unable to run BokehJS code because BokehJS library is missing\");\n",
       "        }\n",
       "      }\n",
       "    }, 10, root)\n",
       "  }\n",
       "})(window);"
      ],
      "application/vnd.bokehjs_exec.v0+json": ""
     },
     "metadata": {
      "application/vnd.bokehjs_exec.v0+json": {
       "id": "14573"
      }
     },
     "output_type": "display_data"
    },
    {
     "name": "stdout",
     "output_type": "stream",
     "text": [
      "[-16.14000697  -5.46756344 -23.5366297 ]\n"
     ]
    }
   ],
   "source": [
    "df_pam = pd.read_excel('./CDPPB_curves.xlsx')\n",
    "\n",
    "\n",
    "#initial parameter for optimization\n",
    "p0 = np.array([-4,-3,-8])\n",
    "c_pam, p_active_pam = df_pam['conc'].values, df_pam['p_open'].values\n",
    "\n",
    "#optimize kd and energy difference to fit the data\n",
    "res_pam = scipy.optimize.least_squares(resid_PAM, p0, args = (c_pam,p_active_pam))\n",
    "\n",
    "curdoc().clear()\n",
    "p = bokeh.plotting.figure(plot_height=300,\n",
    "                         plot_width=600,\n",
    "                         x_axis_label='[CDPPB] M',\n",
    "                          y_axis_label='active_probability',\n",
    "                          x_axis_type='log')\n",
    "\n",
    "\n",
    "ligand_smooth=np.logspace(-8,-2,200)\n",
    "p.line(ligand_smooth, PAM_only_p_active_theory(ligand_smooth, res_pam.x[0],res_pam.x[1],res_pam.x[2]))\n",
    "p.circle(c_pam, p_active_pam, size=7)\n",
    "\n",
    "bokeh.io.show(p);\n",
    "print(res_pam.x)"
   ]
  },
  {
   "cell_type": "code",
   "execution_count": 130,
   "id": "d5c943c0",
   "metadata": {},
   "outputs": [],
   "source": [
    "def both_p_active_theory(c_agonist, c_pam, log_Ka, log_Ki, log_Kpa, log_Kpi):\n",
    "    \"theoretical curve for mglur5 active probability\"\n",
    "    beta_deltaE = -4.676\n",
    "    Ka = 10**log_Ka\n",
    "    Ki = 10**log_Ki\n",
    "    Kpa = 10**log_Kpa\n",
    "    Kpi = 10**log_Kpi\n",
    "    \n",
    "    a = (1 + c_agonist/Ka)**2\n",
    "\n",
    "    b = (1 + c_agonist/Ki)**2\n",
    "    \n",
    "    c = (1 + c_pam/Kpa)\n",
    "\n",
    "    d = (1 + c_pam/Kpi)\n",
    "\n",
    "    return (a*c)/((a*c)+(b*d*np.exp(-beta_deltaE)))\n",
    "\n",
    "def both_resid(PAM_param, log_Ka, log_Ki, c_agonist, c_pam, p_active):\n",
    "    return p_active - both_p_active_theory(c_agonist, c_pam, log_Ka, log_Ki, *PAM_param)"
   ]
  },
  {
   "cell_type": "code",
   "execution_count": 123,
   "id": "2787f29c",
   "metadata": {},
   "outputs": [
    {
     "data": {
      "text/plain": [
       "array([-9.7814442 , -7.72069745, -8.        ])"
      ]
     },
     "execution_count": 123,
     "metadata": {},
     "output_type": "execute_result"
    }
   ],
   "source": [
    "res.x"
   ]
  },
  {
   "cell_type": "code",
   "execution_count": 8,
   "id": "06031cc5",
   "metadata": {},
   "outputs": [
    {
     "data": {
      "text/html": [
       "\n",
       "\n",
       "\n",
       "\n",
       "\n",
       "\n",
       "  <div class=\"bk-root\" id=\"e93cba93-cdf0-419d-9bd4-b97e1e563a93\" data-root-id=\"1615\"></div>\n"
      ]
     },
     "metadata": {},
     "output_type": "display_data"
    },
    {
     "data": {
      "application/javascript": [
       "(function(root) {\n",
       "  function embed_document(root) {\n",
       "    \n",
       "  var docs_json = {\"62706c20-f9e9-41c7-8639-b4aadb4264f9\":{\"defs\":[],\"roots\":{\"references\":[{\"attributes\":{\"below\":[{\"id\":\"1624\"}],\"center\":[{\"id\":\"1627\"},{\"id\":\"1631\"}],\"left\":[{\"id\":\"1628\"}],\"renderers\":[{\"id\":\"1649\"},{\"id\":\"1654\"}],\"title\":{\"id\":\"1657\"},\"toolbar\":{\"id\":\"1639\"},\"x_range\":{\"id\":\"1616\"},\"x_scale\":{\"id\":\"1620\"},\"y_range\":{\"id\":\"1618\"},\"y_scale\":{\"id\":\"1622\"}},\"id\":\"1615\",\"subtype\":\"Figure\",\"type\":\"Plot\"},{\"attributes\":{},\"id\":\"1620\",\"type\":\"LogScale\"},{\"attributes\":{},\"id\":\"1665\",\"type\":\"Selection\"},{\"attributes\":{\"ticker\":null},\"id\":\"1658\",\"type\":\"LogTickFormatter\"},{\"attributes\":{\"line_color\":\"#1f77b4\",\"x\":{\"field\":\"x\"},\"y\":{\"field\":\"y\"}},\"id\":\"1647\",\"type\":\"Line\"},{\"attributes\":{\"fill_color\":{\"value\":\"#1f77b4\"},\"line_color\":{\"value\":\"#1f77b4\"},\"size\":{\"value\":7},\"x\":{\"field\":\"x\"},\"y\":{\"field\":\"y\"}},\"id\":\"1652\",\"type\":\"Circle\"},{\"attributes\":{},\"id\":\"1660\",\"type\":\"AllLabels\"},{\"attributes\":{},\"id\":\"1666\",\"type\":\"UnionRenderers\"},{\"attributes\":{\"num_minor_ticks\":10},\"id\":\"1625\",\"type\":\"LogTicker\"},{\"attributes\":{},\"id\":\"1657\",\"type\":\"Title\"},{\"attributes\":{\"line_alpha\":0.1,\"line_color\":\"#1f77b4\",\"x\":{\"field\":\"x\"},\"y\":{\"field\":\"y\"}},\"id\":\"1648\",\"type\":\"Line\"},{\"attributes\":{\"axis\":{\"id\":\"1624\"},\"ticker\":null},\"id\":\"1627\",\"type\":\"Grid\"},{\"attributes\":{\"active_multi\":null,\"tools\":[{\"id\":\"1632\"},{\"id\":\"1633\"},{\"id\":\"1634\"},{\"id\":\"1635\"},{\"id\":\"1636\"},{\"id\":\"1637\"}]},\"id\":\"1639\",\"type\":\"Toolbar\"},{\"attributes\":{},\"id\":\"1616\",\"type\":\"DataRange1d\"},{\"attributes\":{\"data_source\":{\"id\":\"1646\"},\"glyph\":{\"id\":\"1647\"},\"hover_glyph\":null,\"muted_glyph\":null,\"nonselection_glyph\":{\"id\":\"1648\"},\"view\":{\"id\":\"1650\"}},\"id\":\"1649\",\"type\":\"GlyphRenderer\"},{\"attributes\":{\"axis_label\":\"active_probability\",\"formatter\":{\"id\":\"1661\"},\"major_label_policy\":{\"id\":\"1663\"},\"ticker\":{\"id\":\"1629\"}},\"id\":\"1628\",\"type\":\"LinearAxis\"},{\"attributes\":{\"fill_alpha\":{\"value\":0.1},\"fill_color\":{\"value\":\"#1f77b4\"},\"line_alpha\":{\"value\":0.1},\"line_color\":{\"value\":\"#1f77b4\"},\"size\":{\"value\":7},\"x\":{\"field\":\"x\"},\"y\":{\"field\":\"y\"}},\"id\":\"1653\",\"type\":\"Circle\"},{\"attributes\":{\"axis_label\":\"[L-QUIS] M\",\"formatter\":{\"id\":\"1658\"},\"major_label_policy\":{\"id\":\"1660\"},\"ticker\":{\"id\":\"1625\"}},\"id\":\"1624\",\"type\":\"LogAxis\"},{\"attributes\":{\"overlay\":{\"id\":\"1638\"}},\"id\":\"1634\",\"type\":\"BoxZoomTool\"},{\"attributes\":{\"source\":{\"id\":\"1651\"}},\"id\":\"1655\",\"type\":\"CDSView\"},{\"attributes\":{\"axis\":{\"id\":\"1628\"},\"dimension\":1,\"ticker\":null},\"id\":\"1631\",\"type\":\"Grid\"},{\"attributes\":{\"source\":{\"id\":\"1646\"}},\"id\":\"1650\",\"type\":\"CDSView\"},{\"attributes\":{},\"id\":\"1667\",\"type\":\"Selection\"},{\"attributes\":{},\"id\":\"1635\",\"type\":\"SaveTool\"},{\"attributes\":{\"data\":{\"x\":{\"__ndarray__\":\"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\",\"dtype\":\"float64\",\"order\":\"little\",\"shape\":[200]},\"y\":{\"__ndarray__\":\"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\",\"dtype\":\"float64\",\"order\":\"little\",\"shape\":[200]}},\"selected\":{\"id\":\"1665\"},\"selection_policy\":{\"id\":\"1666\"}},\"id\":\"1646\",\"type\":\"ColumnDataSource\"},{\"attributes\":{\"data\":{\"x\":{\"__ndarray__\":\"UW0C9PUhhD5Se2Oa8tdqPquKmykrG1A+bi/p4Y55NT4JESzcEcUZPoa/7ecLLgE+AXRW46ed5D2VZHnhf/2lPVFtAvT1IYQ+UntjmvLXaj6ripspKxtQPm4v6eGOeTU+CREs3BHFGT6Gv+3nCy4BPgF0VuOnneQ9lWR54X/9pT1RbQL09SGEPlJ7Y5ry12o+q4qbKSsbUD5uL+nhjnk1PgkRLNwRxRk+hr/t5wsuAT4BdFbjp53kPZVkeeF//aU9UW0C9PUhhD5Se2Oa8tdqPquKmykrG1A+bi/p4Y55NT4JESzcEcUZPoa/7ecLLgE+AXRW46ed5D2VZHnhf/2lPVFtAvT1IYQ+UntjmvLXaj6ripspKxtQPm4v6eGOeTU+CREs3BHFGT6Gv+3nCy4BPgF0VuOnneQ9lWR54X/9pT0=\",\"dtype\":\"float64\",\"order\":\"little\",\"shape\":[40]},\"y\":{\"__ndarray__\":\"Bp020GkD7T/szopGAr7pP+n0SZ/0Sd8/9MVxHMdxvD8AAAAAAAAAAAAAAAAAAAAAWqmaeFY0cj8AAAAAAAAAAMasaCTgm+c/ccA3ryae5T8SRSMB37zaP+1pJOCbV7M/AAAAAAAAAAAAAAAAAAAAAAAAAAAAAAAAAAAAAAAAAADD9Shcj8LlP+8I+ObVxOM/EkUjAd+82j/taSTgm1ezP1qpmnhWNHI/WqmaeFY0cj8AAAAAAAAAAKzGmnhWNII/LZb8Yskv5j/vCPjm1cTjP8VY8oslv9g/Ab83ryaetT8AAAAAAAAAAFqpmnhWNHI/WqmaeFY0cj8AAAAAAAAAAAQ6baDTBuo/dHd3d3d35z+NXyz5xZLfPyp0+4MMlb0/rMaaeFY0gj9aqZp4VjRyP1qpmnhWNHI/OxvotIFOiz8=\",\"dtype\":\"float64\",\"order\":\"little\",\"shape\":[40]}},\"selected\":{\"id\":\"1667\"},\"selection_policy\":{\"id\":\"1668\"}},\"id\":\"1651\",\"type\":\"ColumnDataSource\"},{\"attributes\":{},\"id\":\"1668\",\"type\":\"UnionRenderers\"},{\"attributes\":{},\"id\":\"1622\",\"type\":\"LinearScale\"},{\"attributes\":{},\"id\":\"1637\",\"type\":\"HelpTool\"},{\"attributes\":{\"data_source\":{\"id\":\"1651\"},\"glyph\":{\"id\":\"1652\"},\"hover_glyph\":null,\"muted_glyph\":null,\"nonselection_glyph\":{\"id\":\"1653\"},\"view\":{\"id\":\"1655\"}},\"id\":\"1654\",\"type\":\"GlyphRenderer\"},{\"attributes\":{},\"id\":\"1661\",\"type\":\"BasicTickFormatter\"},{\"attributes\":{},\"id\":\"1629\",\"type\":\"BasicTicker\"},{\"attributes\":{},\"id\":\"1663\",\"type\":\"AllLabels\"},{\"attributes\":{},\"id\":\"1632\",\"type\":\"PanTool\"},{\"attributes\":{},\"id\":\"1636\",\"type\":\"ResetTool\"},{\"attributes\":{},\"id\":\"1618\",\"type\":\"DataRange1d\"},{\"attributes\":{},\"id\":\"1633\",\"type\":\"WheelZoomTool\"},{\"attributes\":{\"bottom_units\":\"screen\",\"fill_alpha\":0.5,\"fill_color\":\"lightgrey\",\"left_units\":\"screen\",\"level\":\"overlay\",\"line_alpha\":1.0,\"line_color\":\"black\",\"line_dash\":[4,4],\"line_width\":2,\"right_units\":\"screen\",\"syncable\":false,\"top_units\":\"screen\"},\"id\":\"1638\",\"type\":\"BoxAnnotation\"}],\"root_ids\":[\"1615\"]},\"title\":\"Bokeh Application\",\"version\":\"2.3.3\"}};\n",
       "  var render_items = [{\"docid\":\"62706c20-f9e9-41c7-8639-b4aadb4264f9\",\"root_ids\":[\"1615\"],\"roots\":{\"1615\":\"e93cba93-cdf0-419d-9bd4-b97e1e563a93\"}}];\n",
       "  root.Bokeh.embed.embed_items_notebook(docs_json, render_items);\n",
       "\n",
       "  }\n",
       "  if (root.Bokeh !== undefined) {\n",
       "    embed_document(root);\n",
       "  } else {\n",
       "    var attempts = 0;\n",
       "    var timer = setInterval(function(root) {\n",
       "      if (root.Bokeh !== undefined) {\n",
       "        clearInterval(timer);\n",
       "        embed_document(root);\n",
       "      } else {\n",
       "        attempts++;\n",
       "        if (attempts > 100) {\n",
       "          clearInterval(timer);\n",
       "          console.log(\"Bokeh: ERROR: Unable to run BokehJS code because BokehJS library is missing\");\n",
       "        }\n",
       "      }\n",
       "    }, 10, root)\n",
       "  }\n",
       "})(window);"
      ],
      "application/vnd.bokehjs_exec.v0+json": ""
     },
     "metadata": {
      "application/vnd.bokehjs_exec.v0+json": {
       "id": "1615"
      }
     },
     "output_type": "display_data"
    }
   ],
   "source": [
    "df_both = pd.read_excel('./L-quis+CDPPB.xlsx')\n",
    "\n",
    "\n",
    "#initial parameter for optimization\n",
    "#p0 = np.array([-8,-4])\n",
    "c_agonist, p_active_both = df_both['conc'].values, df_both[0].values/100\n",
    "\n",
    "#optimize kd and energy difference to fit the data\n",
    "#res_pam = scipy.optimize.least_squares(both_resid, p0, args = (res.x[0],res.x[1],c_agonist,4e-7, p_active_pam))\n",
    "\n",
    "curdoc().clear()\n",
    "p = bokeh.plotting.figure(plot_height=600,\n",
    "                         plot_width=600,\n",
    "                         x_axis_label='[L-QUIS] M',\n",
    "                          y_axis_label='active_probability',\n",
    "                          x_axis_type='log')\n",
    "\n",
    "\n",
    "ligand_smooth=np.logspace(-11,-4,200)\n",
    "\n",
    "p.line(ligand_smooth, both_p_active_theory(ligand_smooth, 0,res.x[0], res.x[1], res_pam.x[0], res_pam.x[1]))\n",
    "p.circle(c_agonist, p_active_both, size=7)\n",
    "\n",
    "bokeh.io.show(p);\n"
   ]
  },
  {
   "cell_type": "code",
   "execution_count": 134,
   "id": "04b8f1d9",
   "metadata": {},
   "outputs": [
    {
     "data": {
      "text/html": [
       "\n",
       "\n",
       "\n",
       "\n",
       "\n",
       "\n",
       "  <div class=\"bk-root\" id=\"cd1848c1-1a2b-42c0-b808-3b56960be428\" data-root-id=\"15502\"></div>\n"
      ]
     },
     "metadata": {},
     "output_type": "display_data"
    },
    {
     "data": {
      "application/javascript": [
       "(function(root) {\n",
       "  function embed_document(root) {\n",
       "    \n",
       "  var docs_json = {\"68165d6d-8e7c-4fb3-a711-035e3395f016\":{\"defs\":[],\"roots\":{\"references\":[{\"attributes\":{\"below\":[{\"id\":\"15511\"}],\"center\":[{\"id\":\"15514\"},{\"id\":\"15518\"},{\"id\":\"15549\"}],\"height\":400,\"left\":[{\"id\":\"15515\"}],\"renderers\":[{\"id\":\"15536\"},{\"id\":\"15554\"},{\"id\":\"15559\"},{\"id\":\"15580\"},{\"id\":\"15585\"},{\"id\":\"15610\"},{\"id\":\"15615\"},{\"id\":\"15644\"}],\"title\":{\"id\":\"15539\"},\"toolbar\":{\"id\":\"15526\"},\"x_range\":{\"id\":\"15503\"},\"x_scale\":{\"id\":\"15507\"},\"y_range\":{\"id\":\"15505\"},\"y_scale\":{\"id\":\"15509\"}},\"id\":\"15502\",\"subtype\":\"Figure\",\"type\":\"Plot\"},{\"attributes\":{},\"id\":\"15516\",\"type\":\"BasicTicker\"},{\"attributes\":{},\"id\":\"15669\",\"type\":\"Selection\"},{\"attributes\":{\"data_source\":{\"id\":\"15641\"},\"glyph\":{\"id\":\"15642\"},\"hover_glyph\":null,\"muted_glyph\":null,\"nonselection_glyph\":{\"id\":\"15643\"},\"view\":{\"id\":\"15645\"}},\"id\":\"15644\",\"type\":\"GlyphRenderer\"},{\"attributes\":{},\"id\":\"15636\",\"type\":\"Selection\"},{\"attributes\":{\"source\":{\"id\":\"15607\"}},\"id\":\"15611\",\"type\":\"CDSView\"},{\"attributes\":{},\"id\":\"15522\",\"type\":\"SaveTool\"},{\"attributes\":{\"source\":{\"id\":\"15641\"}},\"id\":\"15645\",\"type\":\"CDSView\"},{\"attributes\":{\"fill_color\":{\"value\":\"#d62728\"},\"line_color\":{\"value\":\"#d62728\"},\"size\":{\"value\":7},\"x\":{\"field\":\"x\"},\"y\":{\"field\":\"y\"}},\"id\":\"15613\",\"type\":\"Circle\"},{\"attributes\":{},\"id\":\"15670\",\"type\":\"UnionRenderers\"},{\"attributes\":{\"overlay\":{\"id\":\"15525\"}},\"id\":\"15521\",\"type\":\"BoxZoomTool\"},{\"attributes\":{},\"id\":\"15519\",\"type\":\"PanTool\"},{\"attributes\":{\"line_alpha\":0.1,\"line_color\":\"#d62728\",\"x\":{\"field\":\"x\"},\"y\":{\"field\":\"y\"}},\"id\":\"15643\",\"type\":\"Line\"},{\"attributes\":{\"bottom_units\":\"screen\",\"fill_alpha\":0.5,\"fill_color\":\"lightgrey\",\"left_units\":\"screen\",\"level\":\"overlay\",\"line_alpha\":1.0,\"line_color\":\"black\",\"line_dash\":[4,4],\"line_width\":2,\"right_units\":\"screen\",\"syncable\":false,\"top_units\":\"screen\"},\"id\":\"15525\",\"type\":\"BoxAnnotation\"},{\"attributes\":{\"axis_label\":\"[L-Quis] M\",\"formatter\":{\"id\":\"15540\"},\"major_label_policy\":{\"id\":\"15542\"},\"ticker\":{\"id\":\"15512\"}},\"id\":\"15511\",\"type\":\"LogAxis\"},{\"attributes\":{\"label\":{\"value\":\"CDDPB conc: 10000nM\"},\"renderers\":[{\"id\":\"15615\"}]},\"id\":\"15640\",\"type\":\"LegendItem\"},{\"attributes\":{\"active_multi\":null,\"tools\":[{\"id\":\"15519\"},{\"id\":\"15520\"},{\"id\":\"15521\"},{\"id\":\"15522\"},{\"id\":\"15523\"},{\"id\":\"15524\"}]},\"id\":\"15526\",\"type\":\"Toolbar\"},{\"attributes\":{\"axis\":{\"id\":\"15515\"},\"dimension\":1,\"ticker\":null},\"id\":\"15518\",\"type\":\"Grid\"},{\"attributes\":{\"fill_alpha\":{\"value\":0.1},\"fill_color\":{\"value\":\"#ff7f0e\"},\"line_alpha\":{\"value\":0.1},\"line_color\":{\"value\":\"#ff7f0e\"},\"size\":{\"value\":7},\"x\":{\"field\":\"x\"},\"y\":{\"field\":\"y\"}},\"id\":\"15558\",\"type\":\"Circle\"},{\"attributes\":{\"line_alpha\":0.1,\"line_color\":\"#2ca02c\",\"x\":{\"field\":\"x\"},\"y\":{\"field\":\"y\"}},\"id\":\"15609\",\"type\":\"Line\"},{\"attributes\":{},\"id\":\"15507\",\"type\":\"LogScale\"},{\"attributes\":{\"line_color\":\"#d62728\",\"x\":{\"field\":\"x\"},\"y\":{\"field\":\"y\"}},\"id\":\"15642\",\"type\":\"Line\"},{\"attributes\":{},\"id\":\"15573\",\"type\":\"UnionRenderers\"},{\"attributes\":{\"label\":{\"value\":\"CDDPB conc: 400nM\"},\"renderers\":[{\"id\":\"15559\"}]},\"id\":\"15576\",\"type\":\"LegendItem\"},{\"attributes\":{},\"id\":\"15548\",\"type\":\"UnionRenderers\"},{\"attributes\":{},\"id\":\"15509\",\"type\":\"LinearScale\"},{\"attributes\":{},\"id\":\"15572\",\"type\":\"Selection\"},{\"attributes\":{},\"id\":\"15520\",\"type\":\"WheelZoomTool\"},{\"attributes\":{},\"id\":\"15523\",\"type\":\"ResetTool\"},{\"attributes\":{},\"id\":\"15524\",\"type\":\"HelpTool\"},{\"attributes\":{\"data\":{\"x\":{\"__ndarray__\":\"UW0C9PUhhD5Se2Oa8tdqPquKmykrG1A+bi/p4Y55NT4JESzcEcUZPoa/7ecLLgE+AXRW46ed5D2VZHnhf/2lPVFtAvT1IYQ+UntjmvLXaj6ripspKxtQPm4v6eGOeTU+CREs3BHFGT6Gv+3nCy4BPgF0VuOnneQ9lWR54X/9pT1RbQL09SGEPlJ7Y5ry12o+q4qbKSsbUD5uL+nhjnk1PgkRLNwRxRk+hr/t5wsuAT4BdFbjp53kPZVkeeF//aU9UW0C9PUhhD5Se2Oa8tdqPquKmykrG1A+bi/p4Y55NT4JESzcEcUZPoa/7ecLLgE+AXRW46ed5D2VZHnhf/2lPVFtAvT1IYQ+UntjmvLXaj6ripspKxtQPm4v6eGOeTU+CREs3BHFGT6Gv+3nCy4BPgF0VuOnneQ9lWR54X/9pT0=\",\"dtype\":\"float64\",\"order\":\"little\",\"shape\":[40]},\"y\":{\"__ndarray__\":\"BDptoNMG6j+BLrc/yFDpP6qKRgK+eeU/oQcZKjtM3T8byw5Tl9vPPySW/GLJL8Y/i72aeFY0wj9M5tXEs6LBPwQ6baDTBuo/XAyVHaYu5z8RdNpApw3kP7GwBVuwBds//EUjAd+8yj8FERERERHBPyp0+4MMlb0/9MVxHMdxvD8AAAAAAADwPwpUdpi63O4/BDptoNMG6j8OERERERHhPzHQaQOdNtA/TObVxLOiwT8qdPuDDJW9P2Yb6LSBTrs/j0UjAd+86j+k7Q8yVHboP3HAN68mnuU//Zw20GkD3T/gbl5NPCvKP0bJDlOX278/ZhvotIFOuz/pF0t+seS3P8kPMlR2mOo/3cPU5fYH6T9xwDevJp7lP+Td3d3d3d0/MdBpA5020D+qQobKDlPHP9KSXyz5xcI/wely+4MMxT8=\",\"dtype\":\"float64\",\"order\":\"little\",\"shape\":[40]}},\"selected\":{\"id\":\"15638\"},\"selection_policy\":{\"id\":\"15639\"}},\"id\":\"15612\",\"type\":\"ColumnDataSource\"},{\"attributes\":{\"data\":{\"x\":{\"__ndarray__\":\"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\",\"dtype\":\"float64\",\"order\":\"little\",\"shape\":[200]},\"y\":{\"__ndarray__\":\"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\",\"dtype\":\"float64\",\"order\":\"little\",\"shape\":[200]}},\"selected\":{\"id\":\"15669\"},\"selection_policy\":{\"id\":\"15670\"}},\"id\":\"15641\",\"type\":\"ColumnDataSource\"},{\"attributes\":{\"data_source\":{\"id\":\"15612\"},\"glyph\":{\"id\":\"15613\"},\"hover_glyph\":null,\"muted_glyph\":null,\"nonselection_glyph\":{\"id\":\"15614\"},\"view\":{\"id\":\"15616\"}},\"id\":\"15615\",\"type\":\"GlyphRenderer\"},{\"attributes\":{\"axis_label\":\"active_probability\",\"formatter\":{\"id\":\"15543\"},\"major_label_policy\":{\"id\":\"15545\"},\"ticker\":{\"id\":\"15516\"}},\"id\":\"15515\",\"type\":\"LinearAxis\"},{\"attributes\":{\"axis\":{\"id\":\"15511\"},\"ticker\":null},\"id\":\"15514\",\"type\":\"Grid\"},{\"attributes\":{\"num_minor_ticks\":10},\"id\":\"15512\",\"type\":\"LogTicker\"},{\"attributes\":{\"fill_alpha\":{\"value\":0.1},\"fill_color\":{\"value\":\"#d62728\"},\"line_alpha\":{\"value\":0.1},\"line_color\":{\"value\":\"#d62728\"},\"size\":{\"value\":7},\"x\":{\"field\":\"x\"},\"y\":{\"field\":\"y\"}},\"id\":\"15614\",\"type\":\"Circle\"},{\"attributes\":{},\"id\":\"15547\",\"type\":\"Selection\"},{\"attributes\":{\"line_color\":\"#2ca02c\",\"x\":{\"field\":\"x\"},\"y\":{\"field\":\"y\"}},\"id\":\"15608\",\"type\":\"Line\"},{\"attributes\":{\"source\":{\"id\":\"15612\"}},\"id\":\"15616\",\"type\":\"CDSView\"},{\"attributes\":{\"data\":{\"x\":{\"__ndarray__\":\"UW0C9PUhhD5Se2Oa8tdqPquKmykrG1A+bi/p4Y55NT4JESzcEcUZPoa/7ecLLgE+AXRW46ed5D2VZHnhf/2lPVFtAvT1IYQ+UntjmvLXaj6ripspKxtQPm4v6eGOeTU+CREs3BHFGT6Gv+3nCy4BPgF0VuOnneQ9lWR54X/9pT1RbQL09SGEPlJ7Y5ry12o+q4qbKSsbUD5uL+nhjnk1PgkRLNwRxRk+hr/t5wsuAT4BdFbjp53kPZVkeeF//aU9UW0C9PUhhD5Se2Oa8tdqPquKmykrG1A+bi/p4Y55NT4JESzcEcUZPoa/7ecLLgE+AXRW46ed5D2VZHnhf/2lPVFtAvT1IYQ+UntjmvLXaj6ripspKxtQPm4v6eGOeTU+CREs3BHFGT6Gv+3nCy4BPgF0VuOnneQ9lWR54X/9pT0=\",\"dtype\":\"float64\",\"order\":\"little\",\"shape\":[40]},\"y\":{\"__ndarray__\":\"5TFUdpi67D8OjuM4juPoP4wFW7AFW+A/BRERERERwT9aqZp4VjRyPwAAAAAAAAAAAAAAAAAAAAClGui0gU57P04B37yaeOY/Y6nL7Q8y5D+xsAVbsAXbP2nC1OX2B7k/WqmaeFY0cj8AAAAAAAAAAFqpmnhWNHI/AAAAAAAAAABOAd+8mnjmP78+6ZM+6eM/btpApw102j8qdPuDDJW9PwAAAAAAAAAAAAAAAAAAAAAAAAAAAAAAAAAAAAAAAAAA8mvBFmzB5j/NSZ/0SZ/kP/iFyg5Tl9s/4G5eTTwryj/9zA5Tl9uvPzsb6LSBTos/WqmaeFY0cj87G+i0gU6LPwCDLdiCLeg/w/UoXI/C5T8UtKKRgG/eP93AN68mnsU/DriaeFY0kj8AAAAAAAAAAAAAAAAAAAAAOxvotIFOiz8=\",\"dtype\":\"float64\",\"order\":\"little\",\"shape\":[40]}},\"selected\":{\"id\":\"15574\"},\"selection_policy\":{\"id\":\"15575\"}},\"id\":\"15556\",\"type\":\"ColumnDataSource\"},{\"attributes\":{},\"id\":\"15505\",\"type\":\"DataRange1d\"},{\"attributes\":{\"data\":{\"x\":{\"__ndarray__\":\"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\",\"dtype\":\"float64\",\"order\":\"little\",\"shape\":[200]},\"y\":{\"__ndarray__\":\"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\",\"dtype\":\"float64\",\"order\":\"little\",\"shape\":[200]}},\"selected\":{\"id\":\"15602\"},\"selection_policy\":{\"id\":\"15603\"}},\"id\":\"15577\",\"type\":\"ColumnDataSource\"},{\"attributes\":{},\"id\":\"15604\",\"type\":\"Selection\"},{\"attributes\":{\"data_source\":{\"id\":\"15607\"},\"glyph\":{\"id\":\"15608\"},\"hover_glyph\":null,\"muted_glyph\":null,\"nonselection_glyph\":{\"id\":\"15609\"},\"view\":{\"id\":\"15611\"}},\"id\":\"15610\",\"type\":\"GlyphRenderer\"},{\"attributes\":{\"fill_color\":{\"value\":\"#ff7f0e\"},\"line_color\":{\"value\":\"#ff7f0e\"},\"size\":{\"value\":7},\"x\":{\"field\":\"x\"},\"y\":{\"field\":\"y\"}},\"id\":\"15557\",\"type\":\"Circle\"},{\"attributes\":{\"source\":{\"id\":\"15551\"}},\"id\":\"15555\",\"type\":\"CDSView\"},{\"attributes\":{},\"id\":\"15543\",\"type\":\"BasicTickFormatter\"},{\"attributes\":{\"data\":{\"x\":{\"__ndarray__\":\"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\",\"dtype\":\"float64\",\"order\":\"little\",\"shape\":[200]},\"y\":{\"__ndarray__\":\"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\",\"dtype\":\"float64\",\"order\":\"little\",\"shape\":[200]}},\"selected\":{\"id\":\"15572\"},\"selection_policy\":{\"id\":\"15573\"}},\"id\":\"15551\",\"type\":\"ColumnDataSource\"},{\"attributes\":{\"data_source\":{\"id\":\"15582\"},\"glyph\":{\"id\":\"15583\"},\"hover_glyph\":null,\"muted_glyph\":null,\"nonselection_glyph\":{\"id\":\"15584\"},\"view\":{\"id\":\"15586\"}},\"id\":\"15585\",\"type\":\"GlyphRenderer\"},{\"attributes\":{\"data\":{\"x\":{\"__ndarray__\":\"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\",\"dtype\":\"float64\",\"order\":\"little\",\"shape\":[200]},\"y\":{\"__ndarray__\":\"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\",\"dtype\":\"float64\",\"order\":\"little\",\"shape\":[200]}},\"selected\":{\"id\":\"15636\"},\"selection_policy\":{\"id\":\"15637\"}},\"id\":\"15607\",\"type\":\"ColumnDataSource\"},{\"attributes\":{\"ticker\":null},\"id\":\"15540\",\"type\":\"LogTickFormatter\"},{\"attributes\":{},\"id\":\"15542\",\"type\":\"AllLabels\"},{\"attributes\":{},\"id\":\"15602\",\"type\":\"Selection\"},{\"attributes\":{},\"id\":\"15575\",\"type\":\"UnionRenderers\"},{\"attributes\":{\"line_alpha\":0.1,\"line_color\":\"#ff7f0e\",\"x\":{\"field\":\"x\"},\"y\":{\"field\":\"y\"}},\"id\":\"15579\",\"type\":\"Line\"},{\"attributes\":{\"line_color\":\"#ff7f0e\",\"x\":{\"field\":\"x\"},\"y\":{\"field\":\"y\"}},\"id\":\"15578\",\"type\":\"Line\"},{\"attributes\":{\"data_source\":{\"id\":\"15551\"},\"glyph\":{\"id\":\"15552\"},\"hover_glyph\":null,\"muted_glyph\":null,\"nonselection_glyph\":{\"id\":\"15553\"},\"view\":{\"id\":\"15555\"}},\"id\":\"15554\",\"type\":\"GlyphRenderer\"},{\"attributes\":{\"source\":{\"id\":\"15533\"}},\"id\":\"15537\",\"type\":\"CDSView\"},{\"attributes\":{\"data_source\":{\"id\":\"15556\"},\"glyph\":{\"id\":\"15557\"},\"hover_glyph\":null,\"muted_glyph\":null,\"nonselection_glyph\":{\"id\":\"15558\"},\"view\":{\"id\":\"15560\"}},\"id\":\"15559\",\"type\":\"GlyphRenderer\"},{\"attributes\":{\"fill_alpha\":{\"value\":0.1},\"fill_color\":{\"value\":\"#1f77b4\"},\"line_alpha\":{\"value\":0.1},\"line_color\":{\"value\":\"#1f77b4\"},\"size\":{\"value\":7},\"x\":{\"field\":\"x\"},\"y\":{\"field\":\"y\"}},\"id\":\"15535\",\"type\":\"Circle\"},{\"attributes\":{\"source\":{\"id\":\"15582\"}},\"id\":\"15586\",\"type\":\"CDSView\"},{\"attributes\":{},\"id\":\"15545\",\"type\":\"AllLabels\"},{\"attributes\":{},\"id\":\"15574\",\"type\":\"Selection\"},{\"attributes\":{\"source\":{\"id\":\"15556\"}},\"id\":\"15560\",\"type\":\"CDSView\"},{\"attributes\":{\"line_alpha\":0.1,\"line_color\":\"#1f77b4\",\"x\":{\"field\":\"x\"},\"y\":{\"field\":\"y\"}},\"id\":\"15553\",\"type\":\"Line\"},{\"attributes\":{\"items\":[{\"id\":\"15550\"},{\"id\":\"15576\"},{\"id\":\"15606\"},{\"id\":\"15640\"}],\"location\":\"top_left\"},\"id\":\"15549\",\"type\":\"Legend\"},{\"attributes\":{},\"id\":\"15639\",\"type\":\"UnionRenderers\"},{\"attributes\":{\"data_source\":{\"id\":\"15577\"},\"glyph\":{\"id\":\"15578\"},\"hover_glyph\":null,\"muted_glyph\":null,\"nonselection_glyph\":{\"id\":\"15579\"},\"view\":{\"id\":\"15581\"}},\"id\":\"15580\",\"type\":\"GlyphRenderer\"},{\"attributes\":{\"data\":{\"x\":{\"__ndarray__\":\"UW0C9PUhhD5Se2Oa8tdqPquKmykrG1A+bi/p4Y55NT4JESzcEcUZPoa/7ecLLgE+AXRW46ed5D2VZHnhf/2lPVFtAvT1IYQ+UntjmvLXaj6ripspKxtQPm4v6eGOeTU+CREs3BHFGT6Gv+3nCy4BPgF0VuOnneQ9lWR54X/9pT1RbQL09SGEPlJ7Y5ry12o+q4qbKSsbUD5uL+nhjnk1PgkRLNwRxRk+hr/t5wsuAT4BdFbjp53kPZVkeeF//aU9UW0C9PUhhD5Se2Oa8tdqPquKmykrG1A+bi/p4Y55NT4JESzcEcUZPoa/7ecLLgE+AXRW46ed5D2VZHnhf/2lPVFtAvT1IYQ+UntjmvLXaj6ripspKxtQPm4v6eGOeTU+CREs3BHFGT6Gv+3nCy4BPgF0VuOnneQ9lWR54X/9pT0=\",\"dtype\":\"float64\",\"order\":\"little\",\"shape\":[40]},\"y\":{\"__ndarray__\":\"Bp020GkD7T/szopGAr7pP+n0SZ/0Sd8/9MVxHMdxvD8AAAAAAAAAAAAAAAAAAAAAWqmaeFY0cj8AAAAAAAAAAMasaCTgm+c/ccA3ryae5T8SRSMB37zaP+1pJOCbV7M/AAAAAAAAAAAAAAAAAAAAAAAAAAAAAAAAAAAAAAAAAADD9Shcj8LlP+8I+ObVxOM/EkUjAd+82j/taSTgm1ezP1qpmnhWNHI/WqmaeFY0cj8AAAAAAAAAAKzGmnhWNII/LZb8Yskv5j/vCPjm1cTjP8VY8oslv9g/Ab83ryaetT8AAAAAAAAAAFqpmnhWNHI/WqmaeFY0cj8AAAAAAAAAAAQ6baDTBuo/dHd3d3d35z+NXyz5xZLfPyp0+4MMlb0/rMaaeFY0gj9aqZp4VjRyP1qpmnhWNHI/OxvotIFOiz8=\",\"dtype\":\"float64\",\"order\":\"little\",\"shape\":[40]}},\"selected\":{\"id\":\"15547\"},\"selection_policy\":{\"id\":\"15548\"}},\"id\":\"15533\",\"type\":\"ColumnDataSource\"},{\"attributes\":{\"data\":{\"x\":{\"__ndarray__\":\"UW0C9PUhhD5Se2Oa8tdqPquKmykrG1A+bi/p4Y55NT4JESzcEcUZPoa/7ecLLgE+AXRW46ed5D2VZHnhf/2lPVFtAvT1IYQ+UntjmvLXaj6ripspKxtQPm4v6eGOeTU+CREs3BHFGT6Gv+3nCy4BPgF0VuOnneQ9lWR54X/9pT1RbQL09SGEPlJ7Y5ry12o+q4qbKSsbUD5uL+nhjnk1PgkRLNwRxRk+hr/t5wsuAT4BdFbjp53kPZVkeeF//aU9UW0C9PUhhD5Se2Oa8tdqPquKmykrG1A+bi/p4Y55NT4JESzcEcUZPoa/7ecLLgE+AXRW46ed5D2VZHnhf/2lPVFtAvT1IYQ+UntjmvLXaj6ripspKxtQPm4v6eGOeTU+CREs3BHFGT6Gv+3nCy4BPgF0VuOnneQ9lWR54X/9pT0=\",\"dtype\":\"float64\",\"order\":\"little\",\"shape\":[40]},\"y\":{\"__ndarray__\":\"bYbKDlOX6z8v+cWSXyzpP+H9QYbKDuM/T1VVVVVV1T/YcF5NPCu6P3sUrkfheqQ/Ub+aeFY0oj97FK5H4XqkP6A20GkDneY/ccA3ryae5T/p9Emf9EnfP//zSZ/0Sc8/ExERERERsT87G+i0gU6LP1qpmnhWNHI/AAAAAAAAAAB0d3d3d3fnP6qKRgK+eeU/pHA9Ctej4D8DaSTgm1fTP/TFcRzHcbw/LsbU5fYHqT8FccEWbMGWP6zFDlOX258/gS63P8hQ6T/GrGgk4JvnP+H9QYbKDuM/PQR882ri2T/gbl5NPCvKP0bJDlOX278/ZhvotIFOuz/YcF5NPCu6P5qZmZmZmek/6BdLfrHk5z+d0wY6baDjP8VY8oslv9g/JJb8Yskvxj8BvzevJp61P1dw+4MMla0/LsbU5fYHqT8=\",\"dtype\":\"float64\",\"order\":\"little\",\"shape\":[40]}},\"selected\":{\"id\":\"15604\"},\"selection_policy\":{\"id\":\"15605\"}},\"id\":\"15582\",\"type\":\"ColumnDataSource\"},{\"attributes\":{\"label\":{\"value\":\"CDDPB conc: 2000nM\"},\"renderers\":[{\"id\":\"15585\"}]},\"id\":\"15606\",\"type\":\"LegendItem\"},{\"attributes\":{\"fill_alpha\":{\"value\":0.1},\"fill_color\":{\"value\":\"#2ca02c\"},\"line_alpha\":{\"value\":0.1},\"line_color\":{\"value\":\"#2ca02c\"},\"size\":{\"value\":7},\"x\":{\"field\":\"x\"},\"y\":{\"field\":\"y\"}},\"id\":\"15584\",\"type\":\"Circle\"},{\"attributes\":{\"source\":{\"id\":\"15577\"}},\"id\":\"15581\",\"type\":\"CDSView\"},{\"attributes\":{\"data_source\":{\"id\":\"15533\"},\"glyph\":{\"id\":\"15534\"},\"hover_glyph\":null,\"muted_glyph\":null,\"nonselection_glyph\":{\"id\":\"15535\"},\"view\":{\"id\":\"15537\"}},\"id\":\"15536\",\"type\":\"GlyphRenderer\"},{\"attributes\":{\"label\":{\"value\":\"CDDPB conc: 0nM\"},\"renderers\":[{\"id\":\"15536\"}]},\"id\":\"15550\",\"type\":\"LegendItem\"},{\"attributes\":{},\"id\":\"15603\",\"type\":\"UnionRenderers\"},{\"attributes\":{},\"id\":\"15503\",\"type\":\"DataRange1d\"},{\"attributes\":{},\"id\":\"15605\",\"type\":\"UnionRenderers\"},{\"attributes\":{},\"id\":\"15637\",\"type\":\"UnionRenderers\"},{\"attributes\":{\"fill_color\":{\"value\":\"#1f77b4\"},\"line_color\":{\"value\":\"#1f77b4\"},\"size\":{\"value\":7},\"x\":{\"field\":\"x\"},\"y\":{\"field\":\"y\"}},\"id\":\"15534\",\"type\":\"Circle\"},{\"attributes\":{},\"id\":\"15539\",\"type\":\"Title\"},{\"attributes\":{\"fill_color\":{\"value\":\"#2ca02c\"},\"line_color\":{\"value\":\"#2ca02c\"},\"size\":{\"value\":7},\"x\":{\"field\":\"x\"},\"y\":{\"field\":\"y\"}},\"id\":\"15583\",\"type\":\"Circle\"},{\"attributes\":{\"line_color\":\"#1f77b4\",\"x\":{\"field\":\"x\"},\"y\":{\"field\":\"y\"}},\"id\":\"15552\",\"type\":\"Line\"},{\"attributes\":{},\"id\":\"15638\",\"type\":\"Selection\"}],\"root_ids\":[\"15502\"]},\"title\":\"Bokeh Application\",\"version\":\"2.3.3\"}};\n",
       "  var render_items = [{\"docid\":\"68165d6d-8e7c-4fb3-a711-035e3395f016\",\"root_ids\":[\"15502\"],\"roots\":{\"15502\":\"cd1848c1-1a2b-42c0-b808-3b56960be428\"}}];\n",
       "  root.Bokeh.embed.embed_items_notebook(docs_json, render_items);\n",
       "\n",
       "  }\n",
       "  if (root.Bokeh !== undefined) {\n",
       "    embed_document(root);\n",
       "  } else {\n",
       "    var attempts = 0;\n",
       "    var timer = setInterval(function(root) {\n",
       "      if (root.Bokeh !== undefined) {\n",
       "        clearInterval(timer);\n",
       "        embed_document(root);\n",
       "      } else {\n",
       "        attempts++;\n",
       "        if (attempts > 100) {\n",
       "          clearInterval(timer);\n",
       "          console.log(\"Bokeh: ERROR: Unable to run BokehJS code because BokehJS library is missing\");\n",
       "        }\n",
       "      }\n",
       "    }, 10, root)\n",
       "  }\n",
       "})(window);"
      ],
      "application/vnd.bokehjs_exec.v0+json": ""
     },
     "metadata": {
      "application/vnd.bokehjs_exec.v0+json": {
       "id": "15502"
      }
     },
     "output_type": "display_data"
    }
   ],
   "source": [
    "df_both = pd.read_excel('./L-quis+CDPPB.xlsx')\n",
    "\n",
    "\n",
    "colors=bokeh.palettes.d3['Category10'][10]\n",
    "\n",
    "\n",
    "curdoc().clear()\n",
    "p = bokeh.plotting.figure(plot_height=400,\n",
    "                         plot_width=600,\n",
    "                         x_axis_label='[L-Quis] M',\n",
    "                          y_axis_label='active_probability',\n",
    "                          x_axis_type='log')\n",
    "\n",
    "\n",
    "ligand_smooth=np.logspace(-12,-5,200)\n",
    "\n",
    "for i,CDPPBconc in enumerate(df_both.columns[1:]):\n",
    "    c, p_active = df_both['conc'].values, df_both[CDPPBconc].values/100\n",
    "    p.circle(c, p_active, size=7, color=colors[i],legend_label='CDDPB conc: '+str(CDPPBconc)+'nM')\n",
    "    p.line(ligand_smooth, both_p_active_theory(ligand_smooth, CDPPBconc*1e-09, res.x[0],res.x[1], res_pam.x[0], res_pam.x[1]), color=colors[i])\n",
    "\n",
    "p.legend.location = \"top_left\"\n",
    "bokeh.io.show(p);"
   ]
  },
  {
   "cell_type": "code",
   "execution_count": 18,
   "id": "e7c80f12",
   "metadata": {},
   "outputs": [
    {
     "name": "stdout",
     "output_type": "stream",
     "text": [
      "0\n",
      "<class 'int'>\n",
      "400\n",
      "<class 'int'>\n",
      "2000\n",
      "<class 'int'>\n",
      "10000\n",
      "<class 'int'>\n"
     ]
    }
   ],
   "source": [
    "for i,CDPPBconc in enumerate(df_both.columns[1:]):\n",
    "    print(CDPPBconc)\n",
    "    print(type(CDPPBconc))"
   ]
  },
  {
   "cell_type": "code",
   "execution_count": 133,
   "id": "8aab2b27",
   "metadata": {},
   "outputs": [
    {
     "data": {
      "text/plain": [
       "array([2.82821387e-07, 1.58074859e-05, 2.10768706e-05])"
      ]
     },
     "execution_count": 133,
     "metadata": {},
     "output_type": "execute_result"
    }
   ],
   "source": [
    "10**res_pam.x"
   ]
  },
  {
   "cell_type": "code",
   "execution_count": 138,
   "id": "1c806a8a",
   "metadata": {},
   "outputs": [
    {
     "data": {
      "text/plain": [
       "1e-05"
      ]
     },
     "execution_count": 138,
     "metadata": {},
     "output_type": "execute_result"
    }
   ],
   "source": [
    "10000*10**(-9)"
   ]
  },
  {
   "cell_type": "code",
   "execution_count": 139,
   "id": "b6cb21b8",
   "metadata": {},
   "outputs": [
    {
     "data": {
      "text/plain": [
       "1e-05"
      ]
     },
     "execution_count": 139,
     "metadata": {},
     "output_type": "execute_result"
    }
   ],
   "source": [
    "1e-05"
   ]
  },
  {
   "cell_type": "code",
   "execution_count": null,
   "id": "eda3bf3a",
   "metadata": {},
   "outputs": [],
   "source": []
  }
 ],
 "metadata": {
  "kernelspec": {
   "display_name": "Python 3",
   "language": "python",
   "name": "python3"
  },
  "language_info": {
   "codemirror_mode": {
    "name": "ipython",
    "version": 3
   },
   "file_extension": ".py",
   "mimetype": "text/x-python",
   "name": "python",
   "nbconvert_exporter": "python",
   "pygments_lexer": "ipython3",
   "version": "3.8.3"
  }
 },
 "nbformat": 4,
 "nbformat_minor": 5
}
