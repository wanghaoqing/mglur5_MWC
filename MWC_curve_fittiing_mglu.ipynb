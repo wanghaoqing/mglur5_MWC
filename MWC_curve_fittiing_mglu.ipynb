{
 "cells": [
  {
   "cell_type": "code",
   "execution_count": 1,
   "id": "76a0baa9",
   "metadata": {},
   "outputs": [
    {
     "data": {
      "text/html": [
       "\n",
       "    <div class=\"bk-root\">\n",
       "        <a href=\"https://bokeh.org\" target=\"_blank\" class=\"bk-logo bk-logo-small bk-logo-notebook\"></a>\n",
       "        <span id=\"1002\">Loading BokehJS ...</span>\n",
       "    </div>"
      ]
     },
     "metadata": {},
     "output_type": "display_data"
    },
    {
     "data": {
      "application/javascript": [
       "\n",
       "(function(root) {\n",
       "  function now() {\n",
       "    return new Date();\n",
       "  }\n",
       "\n",
       "  const force = true;\n",
       "\n",
       "  if (typeof root._bokeh_onload_callbacks === \"undefined\" || force === true) {\n",
       "    root._bokeh_onload_callbacks = [];\n",
       "    root._bokeh_is_loading = undefined;\n",
       "  }\n",
       "\n",
       "  const JS_MIME_TYPE = 'application/javascript';\n",
       "  const HTML_MIME_TYPE = 'text/html';\n",
       "  const EXEC_MIME_TYPE = 'application/vnd.bokehjs_exec.v0+json';\n",
       "  const CLASS_NAME = 'output_bokeh rendered_html';\n",
       "\n",
       "  /**\n",
       "   * Render data to the DOM node\n",
       "   */\n",
       "  function render(props, node) {\n",
       "    const script = document.createElement(\"script\");\n",
       "    node.appendChild(script);\n",
       "  }\n",
       "\n",
       "  /**\n",
       "   * Handle when an output is cleared or removed\n",
       "   */\n",
       "  function handleClearOutput(event, handle) {\n",
       "    const cell = handle.cell;\n",
       "\n",
       "    const id = cell.output_area._bokeh_element_id;\n",
       "    const server_id = cell.output_area._bokeh_server_id;\n",
       "    // Clean up Bokeh references\n",
       "    if (id != null && id in Bokeh.index) {\n",
       "      Bokeh.index[id].model.document.clear();\n",
       "      delete Bokeh.index[id];\n",
       "    }\n",
       "\n",
       "    if (server_id !== undefined) {\n",
       "      // Clean up Bokeh references\n",
       "      const cmd_clean = \"from bokeh.io.state import curstate; print(curstate().uuid_to_server['\" + server_id + \"'].get_sessions()[0].document.roots[0]._id)\";\n",
       "      cell.notebook.kernel.execute(cmd_clean, {\n",
       "        iopub: {\n",
       "          output: function(msg) {\n",
       "            const id = msg.content.text.trim();\n",
       "            if (id in Bokeh.index) {\n",
       "              Bokeh.index[id].model.document.clear();\n",
       "              delete Bokeh.index[id];\n",
       "            }\n",
       "          }\n",
       "        }\n",
       "      });\n",
       "      // Destroy server and session\n",
       "      const cmd_destroy = \"import bokeh.io.notebook as ion; ion.destroy_server('\" + server_id + \"')\";\n",
       "      cell.notebook.kernel.execute(cmd_destroy);\n",
       "    }\n",
       "  }\n",
       "\n",
       "  /**\n",
       "   * Handle when a new output is added\n",
       "   */\n",
       "  function handleAddOutput(event, handle) {\n",
       "    const output_area = handle.output_area;\n",
       "    const output = handle.output;\n",
       "\n",
       "    // limit handleAddOutput to display_data with EXEC_MIME_TYPE content only\n",
       "    if ((output.output_type != \"display_data\") || (!Object.prototype.hasOwnProperty.call(output.data, EXEC_MIME_TYPE))) {\n",
       "      return\n",
       "    }\n",
       "\n",
       "    const toinsert = output_area.element.find(\".\" + CLASS_NAME.split(' ')[0]);\n",
       "\n",
       "    if (output.metadata[EXEC_MIME_TYPE][\"id\"] !== undefined) {\n",
       "      toinsert[toinsert.length - 1].firstChild.textContent = output.data[JS_MIME_TYPE];\n",
       "      // store reference to embed id on output_area\n",
       "      output_area._bokeh_element_id = output.metadata[EXEC_MIME_TYPE][\"id\"];\n",
       "    }\n",
       "    if (output.metadata[EXEC_MIME_TYPE][\"server_id\"] !== undefined) {\n",
       "      const bk_div = document.createElement(\"div\");\n",
       "      bk_div.innerHTML = output.data[HTML_MIME_TYPE];\n",
       "      const script_attrs = bk_div.children[0].attributes;\n",
       "      for (let i = 0; i < script_attrs.length; i++) {\n",
       "        toinsert[toinsert.length - 1].firstChild.setAttribute(script_attrs[i].name, script_attrs[i].value);\n",
       "        toinsert[toinsert.length - 1].firstChild.textContent = bk_div.children[0].textContent\n",
       "      }\n",
       "      // store reference to server id on output_area\n",
       "      output_area._bokeh_server_id = output.metadata[EXEC_MIME_TYPE][\"server_id\"];\n",
       "    }\n",
       "  }\n",
       "\n",
       "  function register_renderer(events, OutputArea) {\n",
       "\n",
       "    function append_mime(data, metadata, element) {\n",
       "      // create a DOM node to render to\n",
       "      const toinsert = this.create_output_subarea(\n",
       "        metadata,\n",
       "        CLASS_NAME,\n",
       "        EXEC_MIME_TYPE\n",
       "      );\n",
       "      this.keyboard_manager.register_events(toinsert);\n",
       "      // Render to node\n",
       "      const props = {data: data, metadata: metadata[EXEC_MIME_TYPE]};\n",
       "      render(props, toinsert[toinsert.length - 1]);\n",
       "      element.append(toinsert);\n",
       "      return toinsert\n",
       "    }\n",
       "\n",
       "    /* Handle when an output is cleared or removed */\n",
       "    events.on('clear_output.CodeCell', handleClearOutput);\n",
       "    events.on('delete.Cell', handleClearOutput);\n",
       "\n",
       "    /* Handle when a new output is added */\n",
       "    events.on('output_added.OutputArea', handleAddOutput);\n",
       "\n",
       "    /**\n",
       "     * Register the mime type and append_mime function with output_area\n",
       "     */\n",
       "    OutputArea.prototype.register_mime_type(EXEC_MIME_TYPE, append_mime, {\n",
       "      /* Is output safe? */\n",
       "      safe: true,\n",
       "      /* Index of renderer in `output_area.display_order` */\n",
       "      index: 0\n",
       "    });\n",
       "  }\n",
       "\n",
       "  // register the mime type if in Jupyter Notebook environment and previously unregistered\n",
       "  if (root.Jupyter !== undefined) {\n",
       "    const events = require('base/js/events');\n",
       "    const OutputArea = require('notebook/js/outputarea').OutputArea;\n",
       "\n",
       "    if (OutputArea.prototype.mime_types().indexOf(EXEC_MIME_TYPE) == -1) {\n",
       "      register_renderer(events, OutputArea);\n",
       "    }\n",
       "  }\n",
       "\n",
       "  \n",
       "  if (typeof (root._bokeh_timeout) === \"undefined\" || force === true) {\n",
       "    root._bokeh_timeout = Date.now() + 5000;\n",
       "    root._bokeh_failed_load = false;\n",
       "  }\n",
       "\n",
       "  const NB_LOAD_WARNING = {'data': {'text/html':\n",
       "     \"<div style='background-color: #fdd'>\\n\"+\n",
       "     \"<p>\\n\"+\n",
       "     \"BokehJS does not appear to have successfully loaded. If loading BokehJS from CDN, this \\n\"+\n",
       "     \"may be due to a slow or bad network connection. Possible fixes:\\n\"+\n",
       "     \"</p>\\n\"+\n",
       "     \"<ul>\\n\"+\n",
       "     \"<li>re-rerun `output_notebook()` to attempt to load from CDN again, or</li>\\n\"+\n",
       "     \"<li>use INLINE resources instead, as so:</li>\\n\"+\n",
       "     \"</ul>\\n\"+\n",
       "     \"<code>\\n\"+\n",
       "     \"from bokeh.resources import INLINE\\n\"+\n",
       "     \"output_notebook(resources=INLINE)\\n\"+\n",
       "     \"</code>\\n\"+\n",
       "     \"</div>\"}};\n",
       "\n",
       "  function display_loaded() {\n",
       "    const el = document.getElementById(\"1002\");\n",
       "    if (el != null) {\n",
       "      el.textContent = \"BokehJS is loading...\";\n",
       "    }\n",
       "    if (root.Bokeh !== undefined) {\n",
       "      if (el != null) {\n",
       "        el.textContent = \"BokehJS \" + root.Bokeh.version + \" successfully loaded.\";\n",
       "      }\n",
       "    } else if (Date.now() < root._bokeh_timeout) {\n",
       "      setTimeout(display_loaded, 100)\n",
       "    }\n",
       "  }\n",
       "\n",
       "\n",
       "  function run_callbacks() {\n",
       "    try {\n",
       "      root._bokeh_onload_callbacks.forEach(function(callback) {\n",
       "        if (callback != null)\n",
       "          callback();\n",
       "      });\n",
       "    } finally {\n",
       "      delete root._bokeh_onload_callbacks\n",
       "    }\n",
       "    console.debug(\"Bokeh: all callbacks have finished\");\n",
       "  }\n",
       "\n",
       "  function load_libs(css_urls, js_urls, callback) {\n",
       "    if (css_urls == null) css_urls = [];\n",
       "    if (js_urls == null) js_urls = [];\n",
       "\n",
       "    root._bokeh_onload_callbacks.push(callback);\n",
       "    if (root._bokeh_is_loading > 0) {\n",
       "      console.debug(\"Bokeh: BokehJS is being loaded, scheduling callback at\", now());\n",
       "      return null;\n",
       "    }\n",
       "    if (js_urls == null || js_urls.length === 0) {\n",
       "      run_callbacks();\n",
       "      return null;\n",
       "    }\n",
       "    console.debug(\"Bokeh: BokehJS not loaded, scheduling load and callback at\", now());\n",
       "    root._bokeh_is_loading = css_urls.length + js_urls.length;\n",
       "\n",
       "    function on_load() {\n",
       "      root._bokeh_is_loading--;\n",
       "      if (root._bokeh_is_loading === 0) {\n",
       "        console.debug(\"Bokeh: all BokehJS libraries/stylesheets loaded\");\n",
       "        run_callbacks()\n",
       "      }\n",
       "    }\n",
       "\n",
       "    function on_error(url) {\n",
       "      console.error(\"failed to load \" + url);\n",
       "    }\n",
       "\n",
       "    for (let i = 0; i < css_urls.length; i++) {\n",
       "      const url = css_urls[i];\n",
       "      const element = document.createElement(\"link\");\n",
       "      element.onload = on_load;\n",
       "      element.onerror = on_error.bind(null, url);\n",
       "      element.rel = \"stylesheet\";\n",
       "      element.type = \"text/css\";\n",
       "      element.href = url;\n",
       "      console.debug(\"Bokeh: injecting link tag for BokehJS stylesheet: \", url);\n",
       "      document.body.appendChild(element);\n",
       "    }\n",
       "\n",
       "    for (let i = 0; i < js_urls.length; i++) {\n",
       "      const url = js_urls[i];\n",
       "      const element = document.createElement('script');\n",
       "      element.onload = on_load;\n",
       "      element.onerror = on_error.bind(null, url);\n",
       "      element.async = false;\n",
       "      element.src = url;\n",
       "      console.debug(\"Bokeh: injecting script tag for BokehJS library: \", url);\n",
       "      document.head.appendChild(element);\n",
       "    }\n",
       "  };\n",
       "\n",
       "  function inject_raw_css(css) {\n",
       "    const element = document.createElement(\"style\");\n",
       "    element.appendChild(document.createTextNode(css));\n",
       "    document.body.appendChild(element);\n",
       "  }\n",
       "\n",
       "  \n",
       "  const js_urls = [\"https://cdn.bokeh.org/bokeh/release/bokeh-2.4.2.min.js\", \"https://cdn.bokeh.org/bokeh/release/bokeh-gl-2.4.2.min.js\", \"https://cdn.bokeh.org/bokeh/release/bokeh-widgets-2.4.2.min.js\", \"https://cdn.bokeh.org/bokeh/release/bokeh-tables-2.4.2.min.js\", \"https://cdn.bokeh.org/bokeh/release/bokeh-mathjax-2.4.2.min.js\"];\n",
       "  const css_urls = [];\n",
       "  \n",
       "\n",
       "  const inline_js = [\n",
       "    function(Bokeh) {\n",
       "      Bokeh.set_log_level(\"info\");\n",
       "    },\n",
       "    function(Bokeh) {\n",
       "    \n",
       "    \n",
       "    }\n",
       "  ];\n",
       "\n",
       "  function run_inline_js() {\n",
       "    \n",
       "    if (root.Bokeh !== undefined || force === true) {\n",
       "      \n",
       "    for (let i = 0; i < inline_js.length; i++) {\n",
       "      inline_js[i].call(root, root.Bokeh);\n",
       "    }\n",
       "    if (force === true) {\n",
       "        display_loaded();\n",
       "      }} else if (Date.now() < root._bokeh_timeout) {\n",
       "      setTimeout(run_inline_js, 100);\n",
       "    } else if (!root._bokeh_failed_load) {\n",
       "      console.log(\"Bokeh: BokehJS failed to load within specified timeout.\");\n",
       "      root._bokeh_failed_load = true;\n",
       "    } else if (force !== true) {\n",
       "      const cell = $(document.getElementById(\"1002\")).parents('.cell').data().cell;\n",
       "      cell.output_area.append_execute_result(NB_LOAD_WARNING)\n",
       "    }\n",
       "\n",
       "  }\n",
       "\n",
       "  if (root._bokeh_is_loading === 0) {\n",
       "    console.debug(\"Bokeh: BokehJS loaded, going straight to plotting\");\n",
       "    run_inline_js();\n",
       "  } else {\n",
       "    load_libs(css_urls, js_urls, function() {\n",
       "      console.debug(\"Bokeh: BokehJS plotting callback run at\", now());\n",
       "      run_inline_js();\n",
       "    });\n",
       "  }\n",
       "}(window));"
      ],
      "application/vnd.bokehjs_load.v0+json": "\n(function(root) {\n  function now() {\n    return new Date();\n  }\n\n  const force = true;\n\n  if (typeof root._bokeh_onload_callbacks === \"undefined\" || force === true) {\n    root._bokeh_onload_callbacks = [];\n    root._bokeh_is_loading = undefined;\n  }\n\n  \n\n  \n  if (typeof (root._bokeh_timeout) === \"undefined\" || force === true) {\n    root._bokeh_timeout = Date.now() + 5000;\n    root._bokeh_failed_load = false;\n  }\n\n  const NB_LOAD_WARNING = {'data': {'text/html':\n     \"<div style='background-color: #fdd'>\\n\"+\n     \"<p>\\n\"+\n     \"BokehJS does not appear to have successfully loaded. If loading BokehJS from CDN, this \\n\"+\n     \"may be due to a slow or bad network connection. Possible fixes:\\n\"+\n     \"</p>\\n\"+\n     \"<ul>\\n\"+\n     \"<li>re-rerun `output_notebook()` to attempt to load from CDN again, or</li>\\n\"+\n     \"<li>use INLINE resources instead, as so:</li>\\n\"+\n     \"</ul>\\n\"+\n     \"<code>\\n\"+\n     \"from bokeh.resources import INLINE\\n\"+\n     \"output_notebook(resources=INLINE)\\n\"+\n     \"</code>\\n\"+\n     \"</div>\"}};\n\n  function display_loaded() {\n    const el = document.getElementById(\"1002\");\n    if (el != null) {\n      el.textContent = \"BokehJS is loading...\";\n    }\n    if (root.Bokeh !== undefined) {\n      if (el != null) {\n        el.textContent = \"BokehJS \" + root.Bokeh.version + \" successfully loaded.\";\n      }\n    } else if (Date.now() < root._bokeh_timeout) {\n      setTimeout(display_loaded, 100)\n    }\n  }\n\n\n  function run_callbacks() {\n    try {\n      root._bokeh_onload_callbacks.forEach(function(callback) {\n        if (callback != null)\n          callback();\n      });\n    } finally {\n      delete root._bokeh_onload_callbacks\n    }\n    console.debug(\"Bokeh: all callbacks have finished\");\n  }\n\n  function load_libs(css_urls, js_urls, callback) {\n    if (css_urls == null) css_urls = [];\n    if (js_urls == null) js_urls = [];\n\n    root._bokeh_onload_callbacks.push(callback);\n    if (root._bokeh_is_loading > 0) {\n      console.debug(\"Bokeh: BokehJS is being loaded, scheduling callback at\", now());\n      return null;\n    }\n    if (js_urls == null || js_urls.length === 0) {\n      run_callbacks();\n      return null;\n    }\n    console.debug(\"Bokeh: BokehJS not loaded, scheduling load and callback at\", now());\n    root._bokeh_is_loading = css_urls.length + js_urls.length;\n\n    function on_load() {\n      root._bokeh_is_loading--;\n      if (root._bokeh_is_loading === 0) {\n        console.debug(\"Bokeh: all BokehJS libraries/stylesheets loaded\");\n        run_callbacks()\n      }\n    }\n\n    function on_error(url) {\n      console.error(\"failed to load \" + url);\n    }\n\n    for (let i = 0; i < css_urls.length; i++) {\n      const url = css_urls[i];\n      const element = document.createElement(\"link\");\n      element.onload = on_load;\n      element.onerror = on_error.bind(null, url);\n      element.rel = \"stylesheet\";\n      element.type = \"text/css\";\n      element.href = url;\n      console.debug(\"Bokeh: injecting link tag for BokehJS stylesheet: \", url);\n      document.body.appendChild(element);\n    }\n\n    for (let i = 0; i < js_urls.length; i++) {\n      const url = js_urls[i];\n      const element = document.createElement('script');\n      element.onload = on_load;\n      element.onerror = on_error.bind(null, url);\n      element.async = false;\n      element.src = url;\n      console.debug(\"Bokeh: injecting script tag for BokehJS library: \", url);\n      document.head.appendChild(element);\n    }\n  };\n\n  function inject_raw_css(css) {\n    const element = document.createElement(\"style\");\n    element.appendChild(document.createTextNode(css));\n    document.body.appendChild(element);\n  }\n\n  \n  const js_urls = [\"https://cdn.bokeh.org/bokeh/release/bokeh-2.4.2.min.js\", \"https://cdn.bokeh.org/bokeh/release/bokeh-gl-2.4.2.min.js\", \"https://cdn.bokeh.org/bokeh/release/bokeh-widgets-2.4.2.min.js\", \"https://cdn.bokeh.org/bokeh/release/bokeh-tables-2.4.2.min.js\", \"https://cdn.bokeh.org/bokeh/release/bokeh-mathjax-2.4.2.min.js\"];\n  const css_urls = [];\n  \n\n  const inline_js = [\n    function(Bokeh) {\n      Bokeh.set_log_level(\"info\");\n    },\n    function(Bokeh) {\n    \n    \n    }\n  ];\n\n  function run_inline_js() {\n    \n    if (root.Bokeh !== undefined || force === true) {\n      \n    for (let i = 0; i < inline_js.length; i++) {\n      inline_js[i].call(root, root.Bokeh);\n    }\n    if (force === true) {\n        display_loaded();\n      }} else if (Date.now() < root._bokeh_timeout) {\n      setTimeout(run_inline_js, 100);\n    } else if (!root._bokeh_failed_load) {\n      console.log(\"Bokeh: BokehJS failed to load within specified timeout.\");\n      root._bokeh_failed_load = true;\n    } else if (force !== true) {\n      const cell = $(document.getElementById(\"1002\")).parents('.cell').data().cell;\n      cell.output_area.append_execute_result(NB_LOAD_WARNING)\n    }\n\n  }\n\n  if (root._bokeh_is_loading === 0) {\n    console.debug(\"Bokeh: BokehJS loaded, going straight to plotting\");\n    run_inline_js();\n  } else {\n    load_libs(css_urls, js_urls, function() {\n      console.debug(\"Bokeh: BokehJS plotting callback run at\", now());\n      run_inline_js();\n    });\n  }\n}(window));"
     },
     "metadata": {},
     "output_type": "display_data"
    }
   ],
   "source": [
    "import numpy as np\n",
    "import pandas as pd\n",
    "import scipy.optimize\n",
    "import bokeh.plotting\n",
    "import bokeh.io\n",
    "bokeh.io.output_notebook()"
   ]
  },
  {
   "cell_type": "code",
   "execution_count": 97,
   "id": "87e8ccf1",
   "metadata": {},
   "outputs": [],
   "source": [
    "def agonist_only_p_active_theory(c_agonist, log_Kd_active, log_Kd_inactive, beta_deltaE):\n",
    "    \"theoretical curve for mglur5 active probability\"\n",
    "    #log_Kd_inactive = -7.7\n",
    "    beta_deltaE=-4.6762\n",
    "    Kd_active = 10**log_Kd_active\n",
    "    Kd_inactive = 10**log_Kd_inactive\n",
    "    a = (1 + c_agonist/Kd_active)**2\n",
    "\n",
    "    b = (1 + c_agonist/Kd_inactive)**2\n",
    "\n",
    "    return a/(a+b*np.exp(-beta_deltaE))\n",
    "\n",
    "def resid(param, c, p_active):\n",
    "    return p_active - agonist_only_p_active_theory(c, *param)\n"
   ]
  },
  {
   "cell_type": "code",
   "execution_count": 59,
   "id": "be20131e",
   "metadata": {},
   "outputs": [],
   "source": [
    "def PAM_only_p_active_theory(c_pam, log_Kd_active, log_Kd_inactive, beta_deltaE):\n",
    "    \"theoretical curve for mglur5 active probability\"\n",
    "    #beta_deltaE=-8\n",
    "    Kd_active = 10**log_Kd_active\n",
    "    Kd_inactive = 10**log_Kd_inactive\n",
    "    a = (1 + c_pam/Kd_active)\n",
    "\n",
    "    b = (1 + c_pam/Kd_inactive)\n",
    "\n",
    "    return a/(a+b*np.exp(-beta_deltaE))\n",
    "\n",
    "def resid_PAM(param, c, p_active):\n",
    "    return p_active - PAM_only_p_active_theory(c, *param)\n"
   ]
  },
  {
   "cell_type": "code",
   "execution_count": 4,
   "id": "f47fdab1",
   "metadata": {},
   "outputs": [
    {
     "data": {
      "text/html": [
       "\n",
       "\n",
       "\n",
       "\n",
       "\n",
       "\n",
       "  <div class=\"bk-root\" id=\"6ea669e7-46e2-4897-8ed3-a3b817d9ee48\" data-root-id=\"1003\"></div>\n"
      ]
     },
     "metadata": {},
     "output_type": "display_data"
    },
    {
     "data": {
      "application/javascript": [
       "(function(root) {\n",
       "  function embed_document(root) {\n",
       "    \n",
       "  const docs_json = {\"5894d2d0-0b0f-41e4-b07e-efca24997918\":{\"defs\":[],\"roots\":{\"references\":[{\"attributes\":{\"below\":[{\"id\":\"1012\"}],\"center\":[{\"id\":\"1015\"},{\"id\":\"1019\"},{\"id\":\"1051\"}],\"height\":400,\"left\":[{\"id\":\"1016\"}],\"renderers\":[{\"id\":\"1038\"},{\"id\":\"1057\"}],\"title\":{\"id\":\"1040\"},\"toolbar\":{\"id\":\"1027\"},\"x_range\":{\"id\":\"1004\"},\"x_scale\":{\"id\":\"1008\"},\"y_range\":{\"id\":\"1006\"},\"y_scale\":{\"id\":\"1010\"}},\"id\":\"1003\",\"subtype\":\"Figure\",\"type\":\"Plot\"},{\"attributes\":{},\"id\":\"1017\",\"type\":\"BasicTicker\"},{\"attributes\":{},\"id\":\"1006\",\"type\":\"DataRange1d\"},{\"attributes\":{\"data\":{\"x\":{\"__ndarray__\":\"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\",\"dtype\":\"float64\",\"order\":\"little\",\"shape\":[200]},\"y\":{\"__ndarray__\":\"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\",\"dtype\":\"float64\",\"order\":\"little\",\"shape\":[200]}},\"selected\":{\"id\":\"1049\"},\"selection_policy\":{\"id\":\"1048\"}},\"id\":\"1034\",\"type\":\"ColumnDataSource\"},{\"attributes\":{\"line_color\":\"#aec7e8\",\"x\":{\"field\":\"x\"},\"y\":{\"field\":\"y\"}},\"id\":\"1035\",\"type\":\"Line\"},{\"attributes\":{\"source\":{\"id\":\"1053\"}},\"id\":\"1058\",\"type\":\"CDSView\"},{\"attributes\":{\"num_minor_ticks\":10},\"id\":\"1013\",\"type\":\"LogTicker\"},{\"attributes\":{},\"id\":\"1023\",\"type\":\"SaveTool\"},{\"attributes\":{},\"id\":\"1024\",\"type\":\"ResetTool\"},{\"attributes\":{},\"id\":\"1048\",\"type\":\"UnionRenderers\"},{\"attributes\":{},\"id\":\"1025\",\"type\":\"HelpTool\"},{\"attributes\":{},\"id\":\"1010\",\"type\":\"LinearScale\"},{\"attributes\":{\"axis_label\":\"active_probability\",\"coordinates\":null,\"formatter\":{\"id\":\"1043\"},\"group\":null,\"major_label_policy\":{\"id\":\"1044\"},\"ticker\":{\"id\":\"1017\"}},\"id\":\"1016\",\"type\":\"LinearAxis\"},{\"attributes\":{},\"id\":\"1047\",\"type\":\"AllLabels\"},{\"attributes\":{\"source\":{\"id\":\"1034\"}},\"id\":\"1039\",\"type\":\"CDSView\"},{\"attributes\":{\"coordinates\":null,\"data_source\":{\"id\":\"1034\"},\"glyph\":{\"id\":\"1035\"},\"group\":null,\"hover_glyph\":null,\"muted_glyph\":{\"id\":\"1037\"},\"nonselection_glyph\":{\"id\":\"1036\"},\"view\":{\"id\":\"1039\"}},\"id\":\"1038\",\"type\":\"GlyphRenderer\"},{\"attributes\":{\"axis\":{\"id\":\"1016\"},\"coordinates\":null,\"dimension\":1,\"group\":null,\"ticker\":null},\"id\":\"1019\",\"type\":\"Grid\"},{\"attributes\":{\"line_alpha\":0.2,\"line_color\":\"#aec7e8\",\"x\":{\"field\":\"x\"},\"y\":{\"field\":\"y\"}},\"id\":\"1037\",\"type\":\"Line\"},{\"attributes\":{},\"id\":\"1043\",\"type\":\"BasicTickFormatter\"},{\"attributes\":{\"line_alpha\":0.2,\"line_color\":\"#ff7f0e\",\"x\":{\"field\":\"x\"},\"y\":{\"field\":\"y\"}},\"id\":\"1056\",\"type\":\"Line\"},{\"attributes\":{},\"id\":\"1020\",\"type\":\"PanTool\"},{\"attributes\":{},\"id\":\"1044\",\"type\":\"AllLabels\"},{\"attributes\":{\"coordinates\":null,\"group\":null},\"id\":\"1040\",\"type\":\"Title\"},{\"attributes\":{\"line_alpha\":0.1,\"line_color\":\"#ff7f0e\",\"x\":{\"field\":\"x\"},\"y\":{\"field\":\"y\"}},\"id\":\"1055\",\"type\":\"Line\"},{\"attributes\":{},\"id\":\"1008\",\"type\":\"LogScale\"},{\"attributes\":{\"coordinates\":null,\"group\":null,\"items\":[{\"id\":\"1052\"},{\"id\":\"1072\"}]},\"id\":\"1051\",\"type\":\"Legend\"},{\"attributes\":{\"ticker\":null},\"id\":\"1046\",\"type\":\"LogTickFormatter\"},{\"attributes\":{\"label\":{\"value\":\"-15,-8,-34\"},\"renderers\":[{\"id\":\"1057\"}]},\"id\":\"1072\",\"type\":\"LegendItem\"},{\"attributes\":{},\"id\":\"1021\",\"type\":\"WheelZoomTool\"},{\"attributes\":{\"data\":{\"x\":{\"__ndarray__\":\"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\",\"dtype\":\"float64\",\"order\":\"little\",\"shape\":[200]},\"y\":{\"__ndarray__\":\"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\",\"dtype\":\"float64\",\"order\":\"little\",\"shape\":[200]}},\"selected\":{\"id\":\"1070\"},\"selection_policy\":{\"id\":\"1069\"}},\"id\":\"1053\",\"type\":\"ColumnDataSource\"},{\"attributes\":{\"line_color\":\"#ff7f0e\",\"x\":{\"field\":\"x\"},\"y\":{\"field\":\"y\"}},\"id\":\"1054\",\"type\":\"Line\"},{\"attributes\":{\"line_alpha\":0.1,\"line_color\":\"#aec7e8\",\"x\":{\"field\":\"x\"},\"y\":{\"field\":\"y\"}},\"id\":\"1036\",\"type\":\"Line\"},{\"attributes\":{\"tools\":[{\"id\":\"1020\"},{\"id\":\"1021\"},{\"id\":\"1022\"},{\"id\":\"1023\"},{\"id\":\"1024\"},{\"id\":\"1025\"}]},\"id\":\"1027\",\"type\":\"Toolbar\"},{\"attributes\":{\"label\":{\"value\":\"-10,-8,-8\"},\"renderers\":[{\"id\":\"1038\"}]},\"id\":\"1052\",\"type\":\"LegendItem\"},{\"attributes\":{\"bottom_units\":\"screen\",\"coordinates\":null,\"fill_alpha\":0.5,\"fill_color\":\"lightgrey\",\"group\":null,\"left_units\":\"screen\",\"level\":\"overlay\",\"line_alpha\":1.0,\"line_color\":\"black\",\"line_dash\":[4,4],\"line_width\":2,\"right_units\":\"screen\",\"syncable\":false,\"top_units\":\"screen\"},\"id\":\"1026\",\"type\":\"BoxAnnotation\"},{\"attributes\":{},\"id\":\"1069\",\"type\":\"UnionRenderers\"},{\"attributes\":{\"axis_label\":\"[L-Quis]M\",\"coordinates\":null,\"formatter\":{\"id\":\"1046\"},\"group\":null,\"major_label_policy\":{\"id\":\"1047\"},\"ticker\":{\"id\":\"1013\"}},\"id\":\"1012\",\"type\":\"LogAxis\"},{\"attributes\":{},\"id\":\"1070\",\"type\":\"Selection\"},{\"attributes\":{\"overlay\":{\"id\":\"1026\"}},\"id\":\"1022\",\"type\":\"BoxZoomTool\"},{\"attributes\":{\"axis\":{\"id\":\"1012\"},\"coordinates\":null,\"group\":null,\"ticker\":null},\"id\":\"1015\",\"type\":\"Grid\"},{\"attributes\":{\"coordinates\":null,\"data_source\":{\"id\":\"1053\"},\"glyph\":{\"id\":\"1054\"},\"group\":null,\"hover_glyph\":null,\"muted_glyph\":{\"id\":\"1056\"},\"nonselection_glyph\":{\"id\":\"1055\"},\"view\":{\"id\":\"1058\"}},\"id\":\"1057\",\"type\":\"GlyphRenderer\"},{\"attributes\":{},\"id\":\"1049\",\"type\":\"Selection\"},{\"attributes\":{},\"id\":\"1004\",\"type\":\"DataRange1d\"}],\"root_ids\":[\"1003\"]},\"title\":\"Bokeh Application\",\"version\":\"2.4.2\"}};\n",
       "  const render_items = [{\"docid\":\"5894d2d0-0b0f-41e4-b07e-efca24997918\",\"root_ids\":[\"1003\"],\"roots\":{\"1003\":\"6ea669e7-46e2-4897-8ed3-a3b817d9ee48\"}}];\n",
       "  root.Bokeh.embed.embed_items_notebook(docs_json, render_items);\n",
       "\n",
       "  }\n",
       "  if (root.Bokeh !== undefined) {\n",
       "    embed_document(root);\n",
       "  } else {\n",
       "    let attempts = 0;\n",
       "    const timer = setInterval(function(root) {\n",
       "      if (root.Bokeh !== undefined) {\n",
       "        clearInterval(timer);\n",
       "        embed_document(root);\n",
       "      } else {\n",
       "        attempts++;\n",
       "        if (attempts > 100) {\n",
       "          clearInterval(timer);\n",
       "          console.log(\"Bokeh: ERROR: Unable to run BokehJS code because BokehJS library is missing\");\n",
       "        }\n",
       "      }\n",
       "    }, 10, root)\n",
       "  }\n",
       "})(window);"
      ],
      "application/vnd.bokehjs_exec.v0+json": ""
     },
     "metadata": {
      "application/vnd.bokehjs_exec.v0+json": {
       "id": "1003"
      }
     },
     "output_type": "display_data"
    }
   ],
   "source": [
    "#set up plot\n",
    "from bokeh.plotting import curdoc \n",
    "curdoc().clear()\n",
    "p = bokeh.plotting.figure(plot_height=400,\n",
    "                         plot_width=600,\n",
    "                         x_axis_label='[L-Quis]M',\n",
    "                          y_axis_label='active_probability',\n",
    "                          x_axis_type='log')\n",
    "\n",
    "colors=bokeh.palettes.d3['Category20'][20]\n",
    "\n",
    "ligand_smooth=np.logspace(-11,-3,200)\n",
    "\n",
    "\n",
    "p.line(ligand_smooth, agonist_only_p_active_theory(ligand_smooth, -10, -8, -8), color=colors[1],legend_label='-10,-8,-8')\n",
    "p.line(ligand_smooth, agonist_only_p_active_theory(ligand_smooth, -15, -8, -31), color=colors[2],legend_label='-15,-8,-34')\n",
    "        \n",
    "\n",
    "\n",
    "bokeh.io.show(p);"
   ]
  },
  {
   "cell_type": "code",
   "execution_count": 5,
   "id": "bd092dd4",
   "metadata": {
    "scrolled": true
   },
   "outputs": [
    {
     "data": {
      "text/html": [
       "\n",
       "\n",
       "\n",
       "\n",
       "\n",
       "\n",
       "  <div class=\"bk-root\" id=\"31b860eb-37f4-49ea-9958-f1d7f64c8575\" data-root-id=\"1151\"></div>\n"
      ]
     },
     "metadata": {},
     "output_type": "display_data"
    },
    {
     "data": {
      "application/javascript": [
       "(function(root) {\n",
       "  function embed_document(root) {\n",
       "    \n",
       "  const docs_json = {\"ae217a29-123b-4064-a5a8-6552710a904c\":{\"defs\":[],\"roots\":{\"references\":[{\"attributes\":{\"below\":[{\"id\":\"1160\"}],\"center\":[{\"id\":\"1163\"},{\"id\":\"1167\"},{\"id\":\"1199\"}],\"height\":400,\"left\":[{\"id\":\"1164\"}],\"renderers\":[{\"id\":\"1186\"},{\"id\":\"1205\"},{\"id\":\"1225\"},{\"id\":\"1247\"},{\"id\":\"1271\"},{\"id\":\"1297\"},{\"id\":\"1325\"},{\"id\":\"1355\"}],\"title\":{\"id\":\"1188\"},\"toolbar\":{\"id\":\"1175\"},\"x_range\":{\"id\":\"1152\"},\"x_scale\":{\"id\":\"1156\"},\"y_range\":{\"id\":\"1154\"},\"y_scale\":{\"id\":\"1158\"}},\"id\":\"1151\",\"subtype\":\"Figure\",\"type\":\"Plot\"},{\"attributes\":{\"source\":{\"id\":\"1351\"}},\"id\":\"1356\",\"type\":\"CDSView\"},{\"attributes\":{},\"id\":\"1152\",\"type\":\"DataRange1d\"},{\"attributes\":{\"line_alpha\":0.2,\"line_color\":\"#ff9896\",\"x\":{\"field\":\"x\"},\"y\":{\"field\":\"y\"}},\"id\":\"1354\",\"type\":\"Line\"},{\"attributes\":{\"overlay\":{\"id\":\"1174\"}},\"id\":\"1170\",\"type\":\"BoxZoomTool\"},{\"attributes\":{\"line_alpha\":0.2,\"line_color\":\"#aec7e8\",\"x\":{\"field\":\"x\"},\"y\":{\"field\":\"y\"}},\"id\":\"1204\",\"type\":\"Line\"},{\"attributes\":{},\"id\":\"1379\",\"type\":\"UnionRenderers\"},{\"attributes\":{\"label\":{\"value\":\"delta E=-11\"},\"renderers\":[{\"id\":\"1355\"}]},\"id\":\"1382\",\"type\":\"LegendItem\"},{\"attributes\":{},\"id\":\"1380\",\"type\":\"Selection\"},{\"attributes\":{\"data\":{\"x\":{\"__ndarray__\":\"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\",\"dtype\":\"float64\",\"order\":\"little\",\"shape\":[200]},\"y\":{\"__ndarray__\":\"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\",\"dtype\":\"float64\",\"order\":\"little\",\"shape\":[200]}},\"selected\":{\"id\":\"1218\"},\"selection_policy\":{\"id\":\"1217\"}},\"id\":\"1201\",\"type\":\"ColumnDataSource\"},{\"attributes\":{\"num_minor_ticks\":10},\"id\":\"1161\",\"type\":\"LogTicker\"},{\"attributes\":{\"line_color\":\"#aec7e8\",\"x\":{\"field\":\"x\"},\"y\":{\"field\":\"y\"}},\"id\":\"1202\",\"type\":\"Line\"},{\"attributes\":{\"coordinates\":null,\"data_source\":{\"id\":\"1201\"},\"glyph\":{\"id\":\"1202\"},\"group\":null,\"hover_glyph\":null,\"muted_glyph\":{\"id\":\"1204\"},\"nonselection_glyph\":{\"id\":\"1203\"},\"view\":{\"id\":\"1206\"}},\"id\":\"1205\",\"type\":\"GlyphRenderer\"},{\"attributes\":{\"axis_label\":\"[L-Quis]M\",\"coordinates\":null,\"formatter\":{\"id\":\"1194\"},\"group\":null,\"major_label_policy\":{\"id\":\"1195\"},\"ticker\":{\"id\":\"1161\"}},\"id\":\"1160\",\"type\":\"LogAxis\"},{\"attributes\":{\"source\":{\"id\":\"1201\"}},\"id\":\"1206\",\"type\":\"CDSView\"},{\"attributes\":{\"axis\":{\"id\":\"1164\"},\"coordinates\":null,\"dimension\":1,\"group\":null,\"ticker\":null},\"id\":\"1167\",\"type\":\"Grid\"},{\"attributes\":{\"line_alpha\":0.1,\"line_color\":\"#aec7e8\",\"x\":{\"field\":\"x\"},\"y\":{\"field\":\"y\"}},\"id\":\"1203\",\"type\":\"Line\"},{\"attributes\":{\"data\":{\"x\":{\"__ndarray__\":\"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\",\"dtype\":\"float64\",\"order\":\"little\",\"shape\":[200]},\"y\":{\"__ndarray__\":\"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\",\"dtype\":\"float64\",\"order\":\"little\",\"shape\":[200]}},\"selected\":{\"id\":\"1197\"},\"selection_policy\":{\"id\":\"1196\"}},\"id\":\"1182\",\"type\":\"ColumnDataSource\"},{\"attributes\":{},\"id\":\"1154\",\"type\":\"DataRange1d\"},{\"attributes\":{\"label\":{\"value\":\"delta E=-5\"},\"renderers\":[{\"id\":\"1205\"}]},\"id\":\"1220\",\"type\":\"LegendItem\"},{\"attributes\":{\"coordinates\":null,\"data_source\":{\"id\":\"1182\"},\"glyph\":{\"id\":\"1183\"},\"group\":null,\"hover_glyph\":null,\"muted_glyph\":{\"id\":\"1185\"},\"nonselection_glyph\":{\"id\":\"1184\"},\"view\":{\"id\":\"1187\"}},\"id\":\"1186\",\"type\":\"GlyphRenderer\"},{\"attributes\":{},\"id\":\"1158\",\"type\":\"LinearScale\"},{\"attributes\":{},\"id\":\"1217\",\"type\":\"UnionRenderers\"},{\"attributes\":{},\"id\":\"1218\",\"type\":\"Selection\"},{\"attributes\":{\"axis\":{\"id\":\"1160\"},\"coordinates\":null,\"group\":null,\"ticker\":null},\"id\":\"1163\",\"type\":\"Grid\"},{\"attributes\":{},\"id\":\"1169\",\"type\":\"WheelZoomTool\"},{\"attributes\":{\"axis_label\":\"active_probability\",\"coordinates\":null,\"formatter\":{\"id\":\"1191\"},\"group\":null,\"major_label_policy\":{\"id\":\"1192\"},\"ticker\":{\"id\":\"1165\"}},\"id\":\"1164\",\"type\":\"LinearAxis\"},{\"attributes\":{},\"id\":\"1156\",\"type\":\"LogScale\"},{\"attributes\":{},\"id\":\"1165\",\"type\":\"BasicTicker\"},{\"attributes\":{},\"id\":\"1173\",\"type\":\"HelpTool\"},{\"attributes\":{},\"id\":\"1168\",\"type\":\"PanTool\"},{\"attributes\":{},\"id\":\"1171\",\"type\":\"SaveTool\"},{\"attributes\":{},\"id\":\"1172\",\"type\":\"ResetTool\"},{\"attributes\":{\"bottom_units\":\"screen\",\"coordinates\":null,\"fill_alpha\":0.5,\"fill_color\":\"lightgrey\",\"group\":null,\"left_units\":\"screen\",\"level\":\"overlay\",\"line_alpha\":1.0,\"line_color\":\"black\",\"line_dash\":[4,4],\"line_width\":2,\"right_units\":\"screen\",\"syncable\":false,\"top_units\":\"screen\"},\"id\":\"1174\",\"type\":\"BoxAnnotation\"},{\"attributes\":{\"coordinates\":null,\"data_source\":{\"id\":\"1221\"},\"glyph\":{\"id\":\"1222\"},\"group\":null,\"hover_glyph\":null,\"muted_glyph\":{\"id\":\"1224\"},\"nonselection_glyph\":{\"id\":\"1223\"},\"view\":{\"id\":\"1226\"}},\"id\":\"1225\",\"type\":\"GlyphRenderer\"},{\"attributes\":{\"line_alpha\":0.2,\"line_color\":\"#ff7f0e\",\"x\":{\"field\":\"x\"},\"y\":{\"field\":\"y\"}},\"id\":\"1224\",\"type\":\"Line\"},{\"attributes\":{\"data\":{\"x\":{\"__ndarray__\":\"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\",\"dtype\":\"float64\",\"order\":\"little\",\"shape\":[200]},\"y\":{\"__ndarray__\":\"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\",\"dtype\":\"float64\",\"order\":\"little\",\"shape\":[200]}},\"selected\":{\"id\":\"1240\"},\"selection_policy\":{\"id\":\"1239\"}},\"id\":\"1221\",\"type\":\"ColumnDataSource\"},{\"attributes\":{\"tools\":[{\"id\":\"1168\"},{\"id\":\"1169\"},{\"id\":\"1170\"},{\"id\":\"1171\"},{\"id\":\"1172\"},{\"id\":\"1173\"}]},\"id\":\"1175\",\"type\":\"Toolbar\"},{\"attributes\":{\"line_color\":\"#ff7f0e\",\"x\":{\"field\":\"x\"},\"y\":{\"field\":\"y\"}},\"id\":\"1222\",\"type\":\"Line\"},{\"attributes\":{\"source\":{\"id\":\"1221\"}},\"id\":\"1226\",\"type\":\"CDSView\"},{\"attributes\":{\"line_alpha\":0.1,\"line_color\":\"#ff7f0e\",\"x\":{\"field\":\"x\"},\"y\":{\"field\":\"y\"}},\"id\":\"1223\",\"type\":\"Line\"},{\"attributes\":{\"coordinates\":null,\"data_source\":{\"id\":\"1243\"},\"glyph\":{\"id\":\"1244\"},\"group\":null,\"hover_glyph\":null,\"muted_glyph\":{\"id\":\"1246\"},\"nonselection_glyph\":{\"id\":\"1245\"},\"view\":{\"id\":\"1248\"}},\"id\":\"1247\",\"type\":\"GlyphRenderer\"},{\"attributes\":{\"label\":{\"value\":\"delta E=-6\"},\"renderers\":[{\"id\":\"1225\"}]},\"id\":\"1242\",\"type\":\"LegendItem\"},{\"attributes\":{},\"id\":\"1239\",\"type\":\"UnionRenderers\"},{\"attributes\":{\"line_alpha\":0.2,\"line_color\":\"#1f77b4\",\"x\":{\"field\":\"x\"},\"y\":{\"field\":\"y\"}},\"id\":\"1185\",\"type\":\"Line\"},{\"attributes\":{},\"id\":\"1240\",\"type\":\"Selection\"},{\"attributes\":{\"source\":{\"id\":\"1182\"}},\"id\":\"1187\",\"type\":\"CDSView\"},{\"attributes\":{\"line_color\":\"#1f77b4\",\"x\":{\"field\":\"x\"},\"y\":{\"field\":\"y\"}},\"id\":\"1183\",\"type\":\"Line\"},{\"attributes\":{\"line_alpha\":0.1,\"line_color\":\"#1f77b4\",\"x\":{\"field\":\"x\"},\"y\":{\"field\":\"y\"}},\"id\":\"1184\",\"type\":\"Line\"},{\"attributes\":{\"coordinates\":null,\"group\":null,\"items\":[{\"id\":\"1200\"},{\"id\":\"1220\"},{\"id\":\"1242\"},{\"id\":\"1266\"},{\"id\":\"1292\"},{\"id\":\"1320\"},{\"id\":\"1350\"},{\"id\":\"1382\"}]},\"id\":\"1199\",\"type\":\"Legend\"},{\"attributes\":{\"coordinates\":null,\"group\":null},\"id\":\"1188\",\"type\":\"Title\"},{\"attributes\":{},\"id\":\"1317\",\"type\":\"UnionRenderers\"},{\"attributes\":{\"line_alpha\":0.2,\"line_color\":\"#98df8a\",\"x\":{\"field\":\"x\"},\"y\":{\"field\":\"y\"}},\"id\":\"1296\",\"type\":\"Line\"},{\"attributes\":{},\"id\":\"1289\",\"type\":\"UnionRenderers\"},{\"attributes\":{\"data\":{\"x\":{\"__ndarray__\":\"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\",\"dtype\":\"float64\",\"order\":\"little\",\"shape\":[200]},\"y\":{\"__ndarray__\":\"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\",\"dtype\":\"float64\",\"order\":\"little\",\"shape\":[200]}},\"selected\":{\"id\":\"1318\"},\"selection_policy\":{\"id\":\"1317\"}},\"id\":\"1293\",\"type\":\"ColumnDataSource\"},{\"attributes\":{\"line_color\":\"#98df8a\",\"x\":{\"field\":\"x\"},\"y\":{\"field\":\"y\"}},\"id\":\"1294\",\"type\":\"Line\"},{\"attributes\":{\"source\":{\"id\":\"1293\"}},\"id\":\"1298\",\"type\":\"CDSView\"},{\"attributes\":{},\"id\":\"1263\",\"type\":\"UnionRenderers\"},{\"attributes\":{\"line_alpha\":0.1,\"line_color\":\"#98df8a\",\"x\":{\"field\":\"x\"},\"y\":{\"field\":\"y\"}},\"id\":\"1295\",\"type\":\"Line\"},{\"attributes\":{\"line_alpha\":0.2,\"line_color\":\"#ffbb78\",\"x\":{\"field\":\"x\"},\"y\":{\"field\":\"y\"}},\"id\":\"1246\",\"type\":\"Line\"},{\"attributes\":{\"data\":{\"x\":{\"__ndarray__\":\"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\",\"dtype\":\"float64\",\"order\":\"little\",\"shape\":[200]},\"y\":{\"__ndarray__\":\"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\",\"dtype\":\"float64\",\"order\":\"little\",\"shape\":[200]}},\"selected\":{\"id\":\"1264\"},\"selection_policy\":{\"id\":\"1263\"}},\"id\":\"1243\",\"type\":\"ColumnDataSource\"},{\"attributes\":{\"label\":{\"value\":\"delta E=-9\"},\"renderers\":[{\"id\":\"1297\"}]},\"id\":\"1320\",\"type\":\"LegendItem\"},{\"attributes\":{\"line_color\":\"#ffbb78\",\"x\":{\"field\":\"x\"},\"y\":{\"field\":\"y\"}},\"id\":\"1244\",\"type\":\"Line\"},{\"attributes\":{},\"id\":\"1347\",\"type\":\"UnionRenderers\"},{\"attributes\":{\"coordinates\":null,\"data_source\":{\"id\":\"1321\"},\"glyph\":{\"id\":\"1322\"},\"group\":null,\"hover_glyph\":null,\"muted_glyph\":{\"id\":\"1324\"},\"nonselection_glyph\":{\"id\":\"1323\"},\"view\":{\"id\":\"1326\"}},\"id\":\"1325\",\"type\":\"GlyphRenderer\"},{\"attributes\":{\"source\":{\"id\":\"1243\"}},\"id\":\"1248\",\"type\":\"CDSView\"},{\"attributes\":{\"line_alpha\":0.1,\"line_color\":\"#ffbb78\",\"x\":{\"field\":\"x\"},\"y\":{\"field\":\"y\"}},\"id\":\"1245\",\"type\":\"Line\"},{\"attributes\":{},\"id\":\"1318\",\"type\":\"Selection\"},{\"attributes\":{\"label\":{\"value\":\"delta E=-7\"},\"renderers\":[{\"id\":\"1247\"}]},\"id\":\"1266\",\"type\":\"LegendItem\"},{\"attributes\":{\"data\":{\"x\":{\"__ndarray__\":\"EeotgZmXcT1+akKEYkxzPRpC2DCIK3U9Ky4oTiY5dz0ppVmlvnl5PXMQMeZC8ns9eFhggR+ofj3lOCbIo9CAPcMMNfIgcoI9RWVurRs8hD3EW+VJgTKGPYq38pegWYg9bKj/XDO2ij3ozhizaE2NPVVrBzV4EpA9jp+PwYOhkT0iEkbxQleTPcQUmap2N5U9+P6KBT1Glz0u04pVGoiZPe/mtRMDApw9UE5Gv2a5nj0oEwfmHdqgPZ9TmFyGfKI9cRhqNoNHpD396ij6Az+mPdm+uuVZZ6g9RwteaEHFqj1GhRWI7F2tPUZKmSSHG7A9g5mDmHOrsT1ovZp/KWKzPZ163t1rQ7U9/NtoHVtTtz0h8F4dfpa5PZMEySHMEbw9AGMiurfKvj2LEEdbnePAPXBX+KLxhsI9dsPcLPFSxD2ZpHm3jUvGPfppoO8adcg9JBvl71fUyj2aD+areW7NPdDtIS+bJNA95x4wCWm10T3W5bQyFm3TPTq1cs5nT9U9rCDqmYBg1z23kWUB6qTZPUg8axWeIdw9NqJxdxLc3j1j2egqIu3gPbR+oshikeI9uspllGVe5D2i3tCFHljmPcO5/7njgug9YRVd+Hbj6j0gZ8kjEH/tPX3ygVe0LfA9IT29FmS/8T1u9woOCXjzPQcpIoBqW/U9XIA5f61t9z2x3zAGXrP5Pd0yoPN4Mfw9hS+0/Hbt/j1eyPBXrPYAPmcM5tDZmwI+V52mcOBpBD6DLCpptmQGPgQkN0m0kAg+WumQhp7yCj79eQH1r48NPgCUm6DSNhA+AclUxGTJET7MURUVAoMTPnleu/ZzZxU+rQeE0eF6Fz5SlVUw2sEZPpZgbsFcQRw+I0htT+X+Hj5562TlOwAhPhohFL9WpiI+ObZCxWF1JD5JYINlVXEmPu+Up6GMnig+6zlOn84BKz4LLdMkWaAtPhyuUg32PzA+x18iFWvTMT47SU5LAY4zPkoDDzaEczU+dh35lB2INz7UAmuEXtA5PsYS34NJUTw+p0QjdV0QPz7xBE3W0AlBPrW7f5bZsEI+Sp3flemARD7ri9x++31GPoJwtMdsrEg++F5lRwcRSz7rXIa4C7FNPpO9jKAeSVA+HmhTDHfdUT7dJzK0BplTPqXr70Gbf1U+qYTKzWCVVz7XDgsH695ZPntt/j8/YVw+25pfc98hXz4+jLItaxNhPvK6fVpiu2I+megk5neMZD6WAji5qIpmPrqTw79Uumg+9Gapg0ggaz7C4GW1x8FtPg7hMF1MUnA+LBMXrYjncT6aLj9TEqRzPmUTMx65i3U+dV0sgKuidz7dN9K8f+15PtFs2/o9cXw+ON+uT2szfz4Gr6DuCh2BPkjeZA7xxYI+gD28uQyYhD7EWZoYXZeGPkdWPY5EyIg+ZhjwWJIviz72ir8gjdKNPgvaJ0Z/W5A+bF2e+p/xkT58lvUrJK+TPkafr87dl5U+YSZVsP2vlz68lV+qHPyZPvXmh7lFgZw+EsegDwFFnz4XUiQcsCahPsfGjbWF0KI+0VFRFKijpD7JagqhGKSmPr2LjDc81qg+dfMRzOQ+qz5IK+T/W+OtPsUNXF63ZLA+6w8c+Lz7sT6rkddBPLqzPiDePlcJpLU+2r19Yle9tz4X21TUwQq6PneNGIFWkbw+JCrIuKBWvz5ZEky5WjDBPlv4UlMg28I+/+yR+UmvxD7uU5FW27DGPhWFHsA75Mg+bTPq4T9Oyz5tkCdYNPTNPiWGuaj0bdA+JsHEqN8F0j5mTGmYWsXTPh9KvLs7sNU+fWPhmrjK1z7SVlY/bxnaPv3upFZwodw+IgS7UEpo3z7NRSjJCjrhPsnaEOvA5eI+RektbfK65D6/eTo9pb3mPtsRYyxD8ug+S9BWn6Nd6z7AieAuFgXuPqzyLSg3d/A+FdbODwgQ8j5n7jAzf9DzPveJBQB1vPU+bbm9XSHY9z6R9QrwJCj6Pt54Rz+Tsfw+53YS3f15/z6C/MpOwEMBP8i6JYBn8AI/1TTXcqHGBD9WiBNZdsoGP+qBzIBSAAk/SYA4CRBtCz/z6GiJARYOP2OpqN9+gBA/MoNyMDYaEj/Tm7YVqtsTPzRy+ie1yBU/qsVSr5HlFz8tQxzr4jYaPw==\",\"dtype\":\"float64\",\"order\":\"little\",\"shape\":[200]},\"y\":{\"__ndarray__\":\"uju5FY278T7jGcKPB8HxPk+7/gMLx/E+b/cs7aTN8T7u49ce5NTxPsTL1+jY3PE+o6yuPpXl8T5p3DbjLO/xPpJMKZm1+fE+jCITWUcF8j4ed2eN/BHyPh6BclXyH/I+Ys8P0Egv8j6CNSZvI0DyPpWBElWpUvI+a/JWvQVn8j6J4RlyaH3yPlWOO1AGlvI+lxkT3Bmx8j7Igjfp487yPtw4HVis7/I+XFzG7MIT8z7FhE5CgDvzPpS4vt9GZ/M+aBVYc4SX8z4mGWk6s8zzPvdn0ZxbB/Q+V22aBBZI9D4/CIr7jI/0PtQqW5p/3vQ+zsdkV8Q19T57FvpETJb1PnrKy9ImAfY+Nc4fKYZ39j74SvA4xPr2PrCSDKFojPc+QmhWji8u+D53LFvEEeL4Pkx5CgROqvk+oeZsEHSJ+j4UgUydcYL7PnCoGYKhmPw+GBlonN3P/T596Knhkyz/Pu9+9JvvWQA/SIzuZNI1AT+EjFZWWy0CPy9t8Gp+RAM/W93Px9J/BD/nv8por+QFP9fBmRNNeQc/vcUWje5ECT+q4vg5EFALP1FMTYqgpA0/qRb4ZiEnED8BkeIsT60RP/zMax3ebBM/0wW2CztvFT8dLACofL8XP3qBcfqwaho/+w353DiAHT9npqXuGYkgP/YzS6f/miI/ZSfJ3WUCJT9ui24uJs4nP/90GlrCDys/xQaieNzbLj8UXVGTYaUxP1+6wkSKPDQ/ar19oj1ENz+X4KZaRNA6P5FEbvXX9z4/lpocPRnrQT/4ThT9mMVEP5IWOs4IHkg/m28ZwxwKTD90vxWiiVFQP5Xi33UaA1M/kwnzCLAqVj97ZvqIz9tZPzs8ob/jLF4/JnY03MebYT9BU40vgYxkP6kg+B0k+Wc/acQPxUv0az+3UDx4ZElwP+TfBGTd9XI/K+An7U0Mdj8JQPzAn5p5P0v6sZzdr30/j+ItzA0ugT/FHeZfKNiDPxLgX+sP34Y/jG3eyMZLij9rlEmfUSeOP6B1I3U/PZE/FxgUq9Kmkz+8bMspLVSWPwAixY+RSJk/AIT6q5GGnD8nlWg/8wegP7i4U5el8qE/99+Hqi4DpD9TzcSAwjimP+0iVUfzkag/SN0T968Mqz8xjMoySaatPy/Ztjm+LbA/xu8tlEKUsT/6dhaDmQSzP5CkRjGCfLQ/SNl4nKH5tT8tC4+okXm3P6ze3//v+bg/P7dMDGx4uj/QYpNx0/K7P0TC75YcZ70/JXMJ+G7Tvj/tAXCPFBvAP6j4GifyxsA/V4OeAbtswT8N2kXG9wvCP3ZxqQFOpMI/iN94fX41wz/mjcMdY7/DP/bZu2vsQcQ/rs/N8R69xD/kNKyHEDHFP7bmSqflncU/3OEY3s4Dxj9IcodoBmPGPwk5PwHOu8Y/gQhs6WwOxz8GFk4sLlvHPz3Juh1fosc/DANZEU7kxz8HTBZHSSHIP8srfAieWcg/E38X8peNyD+lQPljgL3IP/K9ZRSe6cg/KWb8vzQSyT/LAPLyhDfJP+iZVufLWck/jb3HdEN5yT+WsVgOIpbJP/z04MuasMk/ZYBCfN3IyT8bRZO+Ft/JP9M4ZyBw88k/JXrBPxAGyj/h0XPvGhfKPzle7FyxJso/vxiiNvI0yj/kyHrS+UHKP3CEqFPiTco/wtCaz8NYyj9idrhxtGLKPyXLq53Ia8o/uzEcEBN0yj8UWr39pHvKP2bnpzCOgso/LfH3I92Iyj/iu7Qdn47KP3tWCkfgk8o/OcjhwquYyj8WZefCC53KP7HnEJsJoco/lEK2062kyj/721A6AKjKPwM09fAHq8o//umafMutyj9KwkbSULDKP/rIKWOdsso/fwDIJ7a0yj9xRDiqn7bKP/Yujg9euMo/4et9IPW5yj8i+0hRaLvKP8P7Acm6vMo/6rE0aO+9yj9amv7OCL/KP5mEo2IJwMo/VN2oUvPAyj/ni4GdyMHKP1yK0xSLwso/E65fYTzDyj8scJMG3sPKP4jpy2VxxMo/3qNQwffEyj8bWgw/csXKP/NDCevhxco/fhO2uUfGyj/dX/iJpMbKPwjTECf5xso/JxVVSkbHyj86GsOcjMfKP28ocbjMx8o/W6XdKQfIyj+ydSFxPMjKPw==\",\"dtype\":\"float64\",\"order\":\"little\",\"shape\":[200]}},\"selected\":{\"id\":\"1380\"},\"selection_policy\":{\"id\":\"1379\"}},\"id\":\"1351\",\"type\":\"ColumnDataSource\"},{\"attributes\":{},\"id\":\"1264\",\"type\":\"Selection\"},{\"attributes\":{},\"id\":\"1191\",\"type\":\"BasicTickFormatter\"},{\"attributes\":{\"line_color\":\"#ff9896\",\"x\":{\"field\":\"x\"},\"y\":{\"field\":\"y\"}},\"id\":\"1352\",\"type\":\"Line\"},{\"attributes\":{},\"id\":\"1192\",\"type\":\"AllLabels\"},{\"attributes\":{\"ticker\":null},\"id\":\"1194\",\"type\":\"LogTickFormatter\"},{\"attributes\":{\"label\":{\"value\":\"delta E=-4\"},\"renderers\":[{\"id\":\"1186\"}]},\"id\":\"1200\",\"type\":\"LegendItem\"},{\"attributes\":{},\"id\":\"1195\",\"type\":\"AllLabels\"},{\"attributes\":{\"line_color\":\"#d62728\",\"x\":{\"field\":\"x\"},\"y\":{\"field\":\"y\"}},\"id\":\"1322\",\"type\":\"Line\"},{\"attributes\":{},\"id\":\"1348\",\"type\":\"Selection\"},{\"attributes\":{},\"id\":\"1196\",\"type\":\"UnionRenderers\"},{\"attributes\":{\"line_alpha\":0.2,\"line_color\":\"#d62728\",\"x\":{\"field\":\"x\"},\"y\":{\"field\":\"y\"}},\"id\":\"1324\",\"type\":\"Line\"},{\"attributes\":{\"data\":{\"x\":{\"__ndarray__\":\"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\",\"dtype\":\"float64\",\"order\":\"little\",\"shape\":[200]},\"y\":{\"__ndarray__\":\"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\",\"dtype\":\"float64\",\"order\":\"little\",\"shape\":[200]}},\"selected\":{\"id\":\"1348\"},\"selection_policy\":{\"id\":\"1347\"}},\"id\":\"1321\",\"type\":\"ColumnDataSource\"},{\"attributes\":{},\"id\":\"1197\",\"type\":\"Selection\"},{\"attributes\":{\"source\":{\"id\":\"1321\"}},\"id\":\"1326\",\"type\":\"CDSView\"},{\"attributes\":{\"coordinates\":null,\"data_source\":{\"id\":\"1267\"},\"glyph\":{\"id\":\"1268\"},\"group\":null,\"hover_glyph\":null,\"muted_glyph\":{\"id\":\"1270\"},\"nonselection_glyph\":{\"id\":\"1269\"},\"view\":{\"id\":\"1272\"}},\"id\":\"1271\",\"type\":\"GlyphRenderer\"},{\"attributes\":{\"line_alpha\":0.1,\"line_color\":\"#d62728\",\"x\":{\"field\":\"x\"},\"y\":{\"field\":\"y\"}},\"id\":\"1323\",\"type\":\"Line\"},{\"attributes\":{\"line_alpha\":0.2,\"line_color\":\"#2ca02c\",\"x\":{\"field\":\"x\"},\"y\":{\"field\":\"y\"}},\"id\":\"1270\",\"type\":\"Line\"},{\"attributes\":{\"label\":{\"value\":\"delta E=-10\"},\"renderers\":[{\"id\":\"1325\"}]},\"id\":\"1350\",\"type\":\"LegendItem\"},{\"attributes\":{\"data\":{\"x\":{\"__ndarray__\":\"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\",\"dtype\":\"float64\",\"order\":\"little\",\"shape\":[200]},\"y\":{\"__ndarray__\":\"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\",\"dtype\":\"float64\",\"order\":\"little\",\"shape\":[200]}},\"selected\":{\"id\":\"1290\"},\"selection_policy\":{\"id\":\"1289\"}},\"id\":\"1267\",\"type\":\"ColumnDataSource\"},{\"attributes\":{\"coordinates\":null,\"data_source\":{\"id\":\"1351\"},\"glyph\":{\"id\":\"1352\"},\"group\":null,\"hover_glyph\":null,\"muted_glyph\":{\"id\":\"1354\"},\"nonselection_glyph\":{\"id\":\"1353\"},\"view\":{\"id\":\"1356\"}},\"id\":\"1355\",\"type\":\"GlyphRenderer\"},{\"attributes\":{\"line_color\":\"#2ca02c\",\"x\":{\"field\":\"x\"},\"y\":{\"field\":\"y\"}},\"id\":\"1268\",\"type\":\"Line\"},{\"attributes\":{\"source\":{\"id\":\"1267\"}},\"id\":\"1272\",\"type\":\"CDSView\"},{\"attributes\":{\"line_alpha\":0.1,\"line_color\":\"#2ca02c\",\"x\":{\"field\":\"x\"},\"y\":{\"field\":\"y\"}},\"id\":\"1269\",\"type\":\"Line\"},{\"attributes\":{\"coordinates\":null,\"data_source\":{\"id\":\"1293\"},\"glyph\":{\"id\":\"1294\"},\"group\":null,\"hover_glyph\":null,\"muted_glyph\":{\"id\":\"1296\"},\"nonselection_glyph\":{\"id\":\"1295\"},\"view\":{\"id\":\"1298\"}},\"id\":\"1297\",\"type\":\"GlyphRenderer\"},{\"attributes\":{},\"id\":\"1290\",\"type\":\"Selection\"},{\"attributes\":{\"line_alpha\":0.1,\"line_color\":\"#ff9896\",\"x\":{\"field\":\"x\"},\"y\":{\"field\":\"y\"}},\"id\":\"1353\",\"type\":\"Line\"},{\"attributes\":{\"label\":{\"value\":\"delta E=-8\"},\"renderers\":[{\"id\":\"1271\"}]},\"id\":\"1292\",\"type\":\"LegendItem\"}],\"root_ids\":[\"1151\"]},\"title\":\"Bokeh Application\",\"version\":\"2.4.2\"}};\n",
       "  const render_items = [{\"docid\":\"ae217a29-123b-4064-a5a8-6552710a904c\",\"root_ids\":[\"1151\"],\"roots\":{\"1151\":\"31b860eb-37f4-49ea-9958-f1d7f64c8575\"}}];\n",
       "  root.Bokeh.embed.embed_items_notebook(docs_json, render_items);\n",
       "\n",
       "  }\n",
       "  if (root.Bokeh !== undefined) {\n",
       "    embed_document(root);\n",
       "  } else {\n",
       "    let attempts = 0;\n",
       "    const timer = setInterval(function(root) {\n",
       "      if (root.Bokeh !== undefined) {\n",
       "        clearInterval(timer);\n",
       "        embed_document(root);\n",
       "      } else {\n",
       "        attempts++;\n",
       "        if (attempts > 100) {\n",
       "          clearInterval(timer);\n",
       "          console.log(\"Bokeh: ERROR: Unable to run BokehJS code because BokehJS library is missing\");\n",
       "        }\n",
       "      }\n",
       "    }, 10, root)\n",
       "  }\n",
       "})(window);"
      ],
      "application/vnd.bokehjs_exec.v0+json": ""
     },
     "metadata": {
      "application/vnd.bokehjs_exec.v0+json": {
       "id": "1151"
      }
     },
     "output_type": "display_data"
    }
   ],
   "source": [
    "#set up plot\n",
    "from bokeh.plotting import curdoc \n",
    "curdoc().clear()\n",
    "p = bokeh.plotting.figure(plot_height=400,\n",
    "                         plot_width=600,\n",
    "                         x_axis_label='[L-Quis]M',\n",
    "                          y_axis_label='active_probability',\n",
    "                          x_axis_type='log')\n",
    "\n",
    "colors=bokeh.palettes.d3['Category20'][20]\n",
    "\n",
    "ligand_smooth=np.logspace(-12,-4,200)\n",
    "\n",
    "for i,deltaE in enumerate(range(-4,-12,-1)):    \n",
    "    p.line(ligand_smooth, agonist_only_p_active_theory(ligand_smooth, -9.8, -7.7, deltaE), color=colors[i],legend_label='delta E='+str(deltaE))\n",
    "\n",
    "\n",
    "bokeh.io.show(p);"
   ]
  },
  {
   "cell_type": "code",
   "execution_count": 6,
   "id": "3966b589",
   "metadata": {},
   "outputs": [
    {
     "data": {
      "text/html": [
       "\n",
       "\n",
       "\n",
       "\n",
       "\n",
       "\n",
       "  <div class=\"bk-root\" id=\"55ce3f2f-1fc3-494b-bc1a-4efa14a0a44a\" data-root-id=\"1533\"></div>\n"
      ]
     },
     "metadata": {},
     "output_type": "display_data"
    },
    {
     "data": {
      "application/javascript": [
       "(function(root) {\n",
       "  function embed_document(root) {\n",
       "    \n",
       "  const docs_json = {\"9e3d799a-9c63-404d-a496-79f6ec13eb97\":{\"defs\":[],\"roots\":{\"references\":[{\"attributes\":{\"below\":[{\"id\":\"1542\"}],\"center\":[{\"id\":\"1545\"},{\"id\":\"1549\"},{\"id\":\"1581\"}],\"left\":[{\"id\":\"1546\"}],\"renderers\":[{\"id\":\"1568\"},{\"id\":\"1587\"},{\"id\":\"1607\"},{\"id\":\"1629\"},{\"id\":\"1653\"},{\"id\":\"1679\"},{\"id\":\"1707\"},{\"id\":\"1737\"}],\"title\":{\"id\":\"1570\"},\"toolbar\":{\"id\":\"1557\"},\"x_range\":{\"id\":\"1534\"},\"x_scale\":{\"id\":\"1538\"},\"y_range\":{\"id\":\"1536\"},\"y_scale\":{\"id\":\"1540\"}},\"id\":\"1533\",\"subtype\":\"Figure\",\"type\":\"Plot\"},{\"attributes\":{\"line_alpha\":0.2,\"line_color\":\"#ffbb78\",\"x\":{\"field\":\"x\"},\"y\":{\"field\":\"y\"}},\"id\":\"1628\",\"type\":\"Line\"},{\"attributes\":{\"source\":{\"id\":\"1625\"}},\"id\":\"1630\",\"type\":\"CDSView\"},{\"attributes\":{},\"id\":\"1534\",\"type\":\"DataRange1d\"},{\"attributes\":{},\"id\":\"1671\",\"type\":\"UnionRenderers\"},{\"attributes\":{\"coordinates\":null,\"data_source\":{\"id\":\"1564\"},\"glyph\":{\"id\":\"1565\"},\"group\":null,\"hover_glyph\":null,\"muted_glyph\":{\"id\":\"1567\"},\"nonselection_glyph\":{\"id\":\"1566\"},\"view\":{\"id\":\"1569\"}},\"id\":\"1568\",\"type\":\"GlyphRenderer\"},{\"attributes\":{\"axis_label\":\"[L-Quis]M\",\"coordinates\":null,\"formatter\":{\"id\":\"1576\"},\"group\":null,\"major_label_policy\":{\"id\":\"1577\"},\"ticker\":{\"id\":\"1543\"}},\"id\":\"1542\",\"type\":\"LogAxis\"},{\"attributes\":{},\"id\":\"1538\",\"type\":\"LogScale\"},{\"attributes\":{},\"id\":\"1536\",\"type\":\"DataRange1d\"},{\"attributes\":{},\"id\":\"1540\",\"type\":\"LinearScale\"},{\"attributes\":{\"label\":{\"value\":\"log_Kd_active=-11\"},\"renderers\":[{\"id\":\"1629\"}]},\"id\":\"1648\",\"type\":\"LegendItem\"},{\"attributes\":{\"axis_label\":\"active_probability\",\"coordinates\":null,\"formatter\":{\"id\":\"1573\"},\"group\":null,\"major_label_policy\":{\"id\":\"1574\"},\"ticker\":{\"id\":\"1547\"}},\"id\":\"1546\",\"type\":\"LinearAxis\"},{\"attributes\":{\"data\":{\"x\":{\"__ndarray__\":\"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\",\"dtype\":\"float64\",\"order\":\"little\",\"shape\":[200]},\"y\":{\"__ndarray__\":\"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\",\"dtype\":\"float64\",\"order\":\"little\",\"shape\":[200]}},\"selected\":{\"id\":\"1579\"},\"selection_policy\":{\"id\":\"1578\"}},\"id\":\"1564\",\"type\":\"ColumnDataSource\"},{\"attributes\":{\"axis\":{\"id\":\"1542\"},\"coordinates\":null,\"group\":null,\"ticker\":null},\"id\":\"1545\",\"type\":\"Grid\"},{\"attributes\":{\"num_minor_ticks\":10},\"id\":\"1543\",\"type\":\"LogTicker\"},{\"attributes\":{},\"id\":\"1551\",\"type\":\"WheelZoomTool\"},{\"attributes\":{\"line_color\":\"#1f77b4\",\"x\":{\"field\":\"x\"},\"y\":{\"field\":\"y\"}},\"id\":\"1565\",\"type\":\"Line\"},{\"attributes\":{\"axis\":{\"id\":\"1546\"},\"coordinates\":null,\"dimension\":1,\"group\":null,\"ticker\":null},\"id\":\"1549\",\"type\":\"Grid\"},{\"attributes\":{},\"id\":\"1547\",\"type\":\"BasicTicker\"},{\"attributes\":{\"line_color\":\"#d62728\",\"x\":{\"field\":\"x\"},\"y\":{\"field\":\"y\"}},\"id\":\"1704\",\"type\":\"Line\"},{\"attributes\":{},\"id\":\"1555\",\"type\":\"HelpTool\"},{\"attributes\":{},\"id\":\"1550\",\"type\":\"PanTool\"},{\"attributes\":{\"overlay\":{\"id\":\"1556\"}},\"id\":\"1552\",\"type\":\"BoxZoomTool\"},{\"attributes\":{},\"id\":\"1553\",\"type\":\"SaveTool\"},{\"attributes\":{},\"id\":\"1729\",\"type\":\"UnionRenderers\"},{\"attributes\":{},\"id\":\"1554\",\"type\":\"ResetTool\"},{\"attributes\":{},\"id\":\"1730\",\"type\":\"Selection\"},{\"attributes\":{\"line_alpha\":0.2,\"line_color\":\"#d62728\",\"x\":{\"field\":\"x\"},\"y\":{\"field\":\"y\"}},\"id\":\"1706\",\"type\":\"Line\"},{\"attributes\":{\"coordinates\":null,\"data_source\":{\"id\":\"1649\"},\"glyph\":{\"id\":\"1650\"},\"group\":null,\"hover_glyph\":null,\"muted_glyph\":{\"id\":\"1652\"},\"nonselection_glyph\":{\"id\":\"1651\"},\"view\":{\"id\":\"1654\"}},\"id\":\"1653\",\"type\":\"GlyphRenderer\"},{\"attributes\":{\"data\":{\"x\":{\"__ndarray__\":\"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\",\"dtype\":\"float64\",\"order\":\"little\",\"shape\":[200]},\"y\":{\"__ndarray__\":\"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\",\"dtype\":\"float64\",\"order\":\"little\",\"shape\":[200]}},\"selected\":{\"id\":\"1730\"},\"selection_policy\":{\"id\":\"1729\"}},\"id\":\"1703\",\"type\":\"ColumnDataSource\"},{\"attributes\":{\"bottom_units\":\"screen\",\"coordinates\":null,\"fill_alpha\":0.5,\"fill_color\":\"lightgrey\",\"group\":null,\"left_units\":\"screen\",\"level\":\"overlay\",\"line_alpha\":1.0,\"line_color\":\"black\",\"line_dash\":[4,4],\"line_width\":2,\"right_units\":\"screen\",\"syncable\":false,\"top_units\":\"screen\"},\"id\":\"1556\",\"type\":\"BoxAnnotation\"},{\"attributes\":{\"line_alpha\":0.2,\"line_color\":\"#2ca02c\",\"x\":{\"field\":\"x\"},\"y\":{\"field\":\"y\"}},\"id\":\"1652\",\"type\":\"Line\"},{\"attributes\":{\"source\":{\"id\":\"1703\"}},\"id\":\"1708\",\"type\":\"CDSView\"},{\"attributes\":{\"data\":{\"x\":{\"__ndarray__\":\"lWR54X/9pT0dBVMlex+oPaBSDj1qdqo9tjmy4W8HrT10DrBOLtivPUiq3s9pd7E9SzfcsBMpsz0exy+6zAS1PfRPwi6pDrc9lv7JmCJLuT21sl6cIb+7PWxl770IcL49RMkfGuCxwD1Rge9vYVDCPStGSUIWF8Q9cofzseQJxj2qlpetEy3IPfVZP1VUhco9tr7tRswXzT35h+3qIOrPPVawUexBgdE98vCLN+Az0z3y14hfpRDVPYdovvOnG9c9jp4EBGRZ2T29JbP4xM7bPY9uKV8wgd49DMc64Ui74D1Mcw3Vs1riPdecv+1oIuQ943+kflAW5j3CbIHfszroPUQZVtVGlOo9/BLD5DEo7T0qrLakHfzvPdyiHZUfi/E94H1V1LI+8z2u1BiyhBz1PUtttguuKPc9U/QTeK1n+T3ADVglcd77PXmEiKthkv499jDv9bbEAD7AyW8LDGUCPkRp6vrBLQQ+oSZ8S8MiBj5LH2K/W0gIPoliD8JBowo+2KhkwKA4DT4Se99AEgcQPq0FY80ClRE+YgWniotJEz68D6O1aigVPmIey3q7NRc+aT1/+f51GT5LFkUnJu4bPjSof6icox4+XS06WyrOID504F0Wam8iPh1vYm0hOSQ+aYxsHD0vJj5KtY1RC1YoPkizKiBFsio+c+AH3xhJLT7Pi97DGhAwPsofRJjrnjE+s53wXWpUMz52+uxtVzQ1PoCPH0XQQjc+rUTQjFiEOT6jt3QD5P07PgbthFvhtD4+2JEaFKPXQD4+7CD5zXlCPgB5wkiHREQ+Qvtp9b07Rj5NplqawmNIPhg2avRQwUo+iAnlRZpZTT5TfTVeKBlQPl385PjZqFE+IU2kUU9fUz5XJr7eSkBVPlMp2W7sT1c+x2OTNrqSWT5bOOS+qg1cPjx6Ecovxl4+M+SQIyHhYD4c/AO3N4RiPqNZp5DzT2Q+ufdq2kVIZj6X2yGegXFoPhzEkkNl0Go+w2Q3+iRqbT7E4cISOyJwPrxra/LNsnE+9Ao2aTpqcz4tRuALRUx1PpWqH/wPXXc+nYRX+yOheT7mrpNeeh18PqKMofmH134+W1ufjKTqgD4T+lNTp46CPvjsr0hmW4Q+JUJoz9RUhj7UsT5hSH+IPo7maxKC34o+1CU9Abl6jT5G6WbkUiuQPm0E/4fHvJE+ycAbqCt1kz5NLx/5RViVPq8pHfE6apc+vyKu35WvmT48A4bnUi2cPqh4tO/p6J4+WOBJUi30oD55rF/RHJmiPlIZfXTfZqQ++Ndc2Gphpj5B+g7oFo2oPj7Yv2Wn7qo+0nQ3YFaLrT7qYgPWbzSwPgMkybzGxrE+g0vNESOAsz7I2kiqTWS1PtkV/lFtd7c+4Ewr6A++uT418MBeND28PtmrzLFV+r4+QA+Wd7v9wD7atnc0mKPCPo7QsRdfcsQ+x/RF+Qduxj4c/PI27ZrIPheHW0LV/co++W9qHP2bzT6WvXvqkT3QPlnw9JPL0NE+a3zEqSCL0z6cZi0jXHDVPnk48SKnhNc+RqZlGZLM2T57BU3JHk3cPq2ub0XLC98+KTiL/04H4T4Nm+5/Ga7iPjYR8zXlfeQ+5hMjNqx65j4Wdk1Sy6joPqiVDq0LDes+US0dO62s7T7uCLUkuUbwPmpYrxDW2vE+Vhp9cySW8z7vFp9ncXz1PnG2J2jokfc+P2j2dxzb+T7qqDUsEl38PlsmJrBKHf8+JGAy7ecQAT9Euhi3oLgCP67n59JxiQQ/b/H1kleHBj9/n4M+sbYIP6Zcq6pKHAs/XbyZwWa9DT9D9pWH5U8QP14VJzbm5BE/leJ0ci6hEz9BV3J7jYgVP3sR1SUxnxc/lmN5CK/pGT8vGImMDm0cP1HWe/fTLh8/L0KWQ4YaIT8YVkzdLcMiP1dvOfIElSQ/movCEwqUJj8BKv3/nsQoP3XsBkCSKys/yCcttSnOLT972QYWF1kwP4urjAf87jE/UIorqj6sMz+iu31isJQ1P3opL2CBrDc/CgKNz0n4OT9raljvE308P2Si/yBnQD8/LlDDBSokQT+YkeH1wM1CP7zTkpeeoEQ//yOPvMOgRj/HQiSblNJIP8EO+XHiOks/FXcnG/beTT/8qfHSTWJQPw==\",\"dtype\":\"float64\",\"order\":\"little\",\"shape\":[200]},\"y\":{\"__ndarray__\":\"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\",\"dtype\":\"float64\",\"order\":\"little\",\"shape\":[200]}},\"selected\":{\"id\":\"1672\"},\"selection_policy\":{\"id\":\"1671\"}},\"id\":\"1649\",\"type\":\"ColumnDataSource\"},{\"attributes\":{\"line_alpha\":0.1,\"line_color\":\"#d62728\",\"x\":{\"field\":\"x\"},\"y\":{\"field\":\"y\"}},\"id\":\"1705\",\"type\":\"Line\"},{\"attributes\":{\"label\":{\"value\":\"log_Kd_active=-8\"},\"renderers\":[{\"id\":\"1568\"}]},\"id\":\"1582\",\"type\":\"LegendItem\"},{\"attributes\":{\"line_color\":\"#2ca02c\",\"x\":{\"field\":\"x\"},\"y\":{\"field\":\"y\"}},\"id\":\"1650\",\"type\":\"Line\"},{\"attributes\":{\"source\":{\"id\":\"1649\"}},\"id\":\"1654\",\"type\":\"CDSView\"},{\"attributes\":{\"label\":{\"value\":\"log_Kd_active=-14\"},\"renderers\":[{\"id\":\"1707\"}]},\"id\":\"1732\",\"type\":\"LegendItem\"},{\"attributes\":{\"line_alpha\":0.1,\"line_color\":\"#2ca02c\",\"x\":{\"field\":\"x\"},\"y\":{\"field\":\"y\"}},\"id\":\"1651\",\"type\":\"Line\"},{\"attributes\":{},\"id\":\"1761\",\"type\":\"UnionRenderers\"},{\"attributes\":{\"coordinates\":null,\"data_source\":{\"id\":\"1733\"},\"glyph\":{\"id\":\"1734\"},\"group\":null,\"hover_glyph\":null,\"muted_glyph\":{\"id\":\"1736\"},\"nonselection_glyph\":{\"id\":\"1735\"},\"view\":{\"id\":\"1738\"}},\"id\":\"1737\",\"type\":\"GlyphRenderer\"},{\"attributes\":{},\"id\":\"1672\",\"type\":\"Selection\"},{\"attributes\":{\"label\":{\"value\":\"log_Kd_active=-12\"},\"renderers\":[{\"id\":\"1653\"}]},\"id\":\"1674\",\"type\":\"LegendItem\"},{\"attributes\":{\"coordinates\":null,\"group\":null,\"items\":[{\"id\":\"1582\"},{\"id\":\"1602\"},{\"id\":\"1624\"},{\"id\":\"1648\"},{\"id\":\"1674\"},{\"id\":\"1702\"},{\"id\":\"1732\"},{\"id\":\"1764\"}]},\"id\":\"1581\",\"type\":\"Legend\"},{\"attributes\":{\"source\":{\"id\":\"1564\"}},\"id\":\"1569\",\"type\":\"CDSView\"},{\"attributes\":{\"line_alpha\":0.2,\"line_color\":\"#1f77b4\",\"x\":{\"field\":\"x\"},\"y\":{\"field\":\"y\"}},\"id\":\"1567\",\"type\":\"Line\"},{\"attributes\":{\"line_color\":\"#ff9896\",\"x\":{\"field\":\"x\"},\"y\":{\"field\":\"y\"}},\"id\":\"1734\",\"type\":\"Line\"},{\"attributes\":{},\"id\":\"1699\",\"type\":\"UnionRenderers\"},{\"attributes\":{\"tools\":[{\"id\":\"1550\"},{\"id\":\"1551\"},{\"id\":\"1552\"},{\"id\":\"1553\"},{\"id\":\"1554\"},{\"id\":\"1555\"}]},\"id\":\"1557\",\"type\":\"Toolbar\"},{\"attributes\":{\"line_alpha\":0.1,\"line_color\":\"#1f77b4\",\"x\":{\"field\":\"x\"},\"y\":{\"field\":\"y\"}},\"id\":\"1566\",\"type\":\"Line\"},{\"attributes\":{\"line_alpha\":0.2,\"line_color\":\"#ff9896\",\"x\":{\"field\":\"x\"},\"y\":{\"field\":\"y\"}},\"id\":\"1736\",\"type\":\"Line\"},{\"attributes\":{\"coordinates\":null,\"group\":null},\"id\":\"1570\",\"type\":\"Title\"},{\"attributes\":{\"coordinates\":null,\"data_source\":{\"id\":\"1675\"},\"glyph\":{\"id\":\"1676\"},\"group\":null,\"hover_glyph\":null,\"muted_glyph\":{\"id\":\"1678\"},\"nonselection_glyph\":{\"id\":\"1677\"},\"view\":{\"id\":\"1680\"}},\"id\":\"1679\",\"type\":\"GlyphRenderer\"},{\"attributes\":{\"data\":{\"x\":{\"__ndarray__\":\"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\",\"dtype\":\"float64\",\"order\":\"little\",\"shape\":[200]},\"y\":{\"__ndarray__\":\"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\",\"dtype\":\"float64\",\"order\":\"little\",\"shape\":[200]}},\"selected\":{\"id\":\"1762\"},\"selection_policy\":{\"id\":\"1761\"}},\"id\":\"1733\",\"type\":\"ColumnDataSource\"},{\"attributes\":{\"line_alpha\":0.2,\"line_color\":\"#98df8a\",\"x\":{\"field\":\"x\"},\"y\":{\"field\":\"y\"}},\"id\":\"1678\",\"type\":\"Line\"},{\"attributes\":{\"source\":{\"id\":\"1733\"}},\"id\":\"1738\",\"type\":\"CDSView\"},{\"attributes\":{\"data\":{\"x\":{\"__ndarray__\":\"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\",\"dtype\":\"float64\",\"order\":\"little\",\"shape\":[200]},\"y\":{\"__ndarray__\":\"8F8FwQfC6D/3cgUttbvpP/aqEIlAm+o/daKhEV9h6z/PwSZVYA/sP/zNRWb9puw/qG6Xfi0q7T/T2h5IApvtP57RBm6M++0/XoU8AMhN7j/zLu+Yj5PuPz1lE/SUzu4/5MbyqF0A7z81SY/ZQirvPyMqLt9yTe8/wTK3MfRq7z9mOWj5qIPvPxXfWuRSmO8/UFK1+pap7z/AI6lFAbjvP6kAzy8IxO8/XVVYkg/O7z/VvEFra9bvP6a5RD5i3e8/ToyfJS/j7z8CEZaZA+jvP7/AUPYI7O8/RJ/Vx2Hv7z+LooTjKvLvP9PD81V89O8/DBNdK2r27z+CqR4YBfjvPwmEHQZb+e8/1UM4i3f67z82TGFMZPvvPyEiclAp/O8/YmtURc387z+bq7a5Vf3vP82vKk3H/e8/2xJA2CX+7z8x8OyNdP7vPzhKYBe2/u8/1I0rq+z+7z8rwYkgGv/vPyJBav8//+8/UYjJjV//7z9ug8vaef/vPy3B98eP/+8/NL3nEKL/7z+dHapRsf/vP9qKEgy+/+8/O3YkrMj/7z8RXb+L0f/vP+WcrPXY/+8/q4gpKN//7z+g8QNX5P/vPy2aW63o/+8/Fe0XT+z/7z9uvR5a7//vP8qsVufx/+8/Mgt+C/T/7z+Bh93X9f/vP+HJ3Fr3/+8/7wp+oPj/7z/t3sSy+f/vP2K2C5r6/+8/Nf5KXfv/7z93S1QC/P/vP1iWA478/+8/EzFoBP3/7z//3uZo/f/vPxo0Vr79/+8/ZTMWB/7/7z+2+CNF/v/vP10YKnr+/+8/N0KOp/7/7z+0nXzO/v/vP/BA8e/+/+8/GRTADP//7z/lZJsl///vP11iGTv//+8/4q+4Tf//7z9ONuRd///vP5RT9mv//+8//oM7eP//7z85m/SC///vPxKgWIz//+8/TVqWlP//7z+Xn9Wb///vP0JqOKL//+8/5MLbp///7z8nhNis///vPy3/Q7H//+8/koUwtf//7z9z3a24///vPxijybv//+8/IpuPvv//7z/09wnB///vPymUQcP//+8/HyQ+xf//7z/SXwbH///vP1omoMj//+8/DpwQyv//7z8kRFzL///vP3gWh8z//+8/LpKUzf//7z+dzYfO///vP9yDY8///+8/eCAq0P//7z99yd3Q///vPxZogNH//+8/+68T0v//7z/xJZnS///vP08lEtP//+8/5eR/0///7z8se+PT///vP/XhPdT//+8/oPmP1P//7z/ti9rU///vP3tOHtX//+8/5uRb1f//7z/A4pPV///vPzfNxtX//+8/nBz11f//7z+tPR/W///vP8uSRdb//+8/AnVo1v//7z/4NIjW///vP8Ebpdb//+8/nWu/1v//7z+mYNfW///vP2Ix7db//+8/VA8B1///7z9sJxPX///vP4OiI9f//+8/sKUy1///7z+vUkDX///vPyfITNf//+8/+SFY1///7z+DeWLX///vP9Tla9f//+8/7Ht01///7z/hTnzX///vPxpwg9f//+8/Z++J1///7z8z24/X///vP5pAldf//+8/kCua1///7z/0pp7X///vP6+8otf//+8/yXWm1///7z932qnX///vPznyrNf//+8/4MOv1///7z+lVbLX///vPzCttNf//+8/qc+21///7z/GwbjX///vP86Hutf//+8/qSW81///7z/mnr3X///vP8T2vtf//+8/NTDA1///7z/sTcHX///vP1xSwtf//+8/xT/D1///7z8sGMTX///vP3DdxNf//+8/QJHF1///7z8rNcbX///vP5bKxtf//+8/y1LH1///7z/0zsfX///vPyFAyNf//+8/TafI1///7z9ZBcnX///vPxVbydf//+8/PKnJ1///7z958MnX///vP2kxytf//+8/nWzK1///7z+UosrX///vP8XTytf//+8/nADL1///7z9+KcvX///vP8JOy9f//+8/uXDL1///7z+xj8vX///vP+ury9f//+8/psXL1///7z8b3cvX///vP33yy9f//+8//AXM1///7z/AF8zX///vP/MnzNf//+8/uDbM1///7z8tRMzX///vP3JQzNf//+8/olvM1///7z/UZczX///vPw==\",\"dtype\":\"float64\",\"order\":\"little\",\"shape\":[200]}},\"selected\":{\"id\":\"1700\"},\"selection_policy\":{\"id\":\"1699\"}},\"id\":\"1675\",\"type\":\"ColumnDataSource\"},{\"attributes\":{\"line_alpha\":0.1,\"line_color\":\"#ff9896\",\"x\":{\"field\":\"x\"},\"y\":{\"field\":\"y\"}},\"id\":\"1735\",\"type\":\"Line\"},{\"attributes\":{\"line_color\":\"#98df8a\",\"x\":{\"field\":\"x\"},\"y\":{\"field\":\"y\"}},\"id\":\"1676\",\"type\":\"Line\"},{\"attributes\":{\"source\":{\"id\":\"1675\"}},\"id\":\"1680\",\"type\":\"CDSView\"},{\"attributes\":{},\"id\":\"1762\",\"type\":\"Selection\"},{\"attributes\":{\"line_alpha\":0.1,\"line_color\":\"#98df8a\",\"x\":{\"field\":\"x\"},\"y\":{\"field\":\"y\"}},\"id\":\"1677\",\"type\":\"Line\"},{\"attributes\":{\"label\":{\"value\":\"log_Kd_active=-15\"},\"renderers\":[{\"id\":\"1737\"}]},\"id\":\"1764\",\"type\":\"LegendItem\"},{\"attributes\":{\"label\":{\"value\":\"log_Kd_active=-13\"},\"renderers\":[{\"id\":\"1679\"}]},\"id\":\"1702\",\"type\":\"LegendItem\"},{\"attributes\":{\"coordinates\":null,\"data_source\":{\"id\":\"1703\"},\"glyph\":{\"id\":\"1704\"},\"group\":null,\"hover_glyph\":null,\"muted_glyph\":{\"id\":\"1706\"},\"nonselection_glyph\":{\"id\":\"1705\"},\"view\":{\"id\":\"1708\"}},\"id\":\"1707\",\"type\":\"GlyphRenderer\"},{\"attributes\":{},\"id\":\"1700\",\"type\":\"Selection\"},{\"attributes\":{\"line_alpha\":0.1,\"line_color\":\"#aec7e8\",\"x\":{\"field\":\"x\"},\"y\":{\"field\":\"y\"}},\"id\":\"1585\",\"type\":\"Line\"},{\"attributes\":{\"line_alpha\":0.2,\"line_color\":\"#aec7e8\",\"x\":{\"field\":\"x\"},\"y\":{\"field\":\"y\"}},\"id\":\"1586\",\"type\":\"Line\"},{\"attributes\":{\"source\":{\"id\":\"1583\"}},\"id\":\"1588\",\"type\":\"CDSView\"},{\"attributes\":{},\"id\":\"1621\",\"type\":\"UnionRenderers\"},{\"attributes\":{},\"id\":\"1599\",\"type\":\"UnionRenderers\"},{\"attributes\":{\"label\":{\"value\":\"log_Kd_active=-9\"},\"renderers\":[{\"id\":\"1587\"}]},\"id\":\"1602\",\"type\":\"LegendItem\"},{\"attributes\":{},\"id\":\"1573\",\"type\":\"BasicTickFormatter\"},{\"attributes\":{},\"id\":\"1574\",\"type\":\"AllLabels\"},{\"attributes\":{},\"id\":\"1600\",\"type\":\"Selection\"},{\"attributes\":{\"ticker\":null},\"id\":\"1576\",\"type\":\"LogTickFormatter\"},{\"attributes\":{},\"id\":\"1577\",\"type\":\"AllLabels\"},{\"attributes\":{},\"id\":\"1578\",\"type\":\"UnionRenderers\"},{\"attributes\":{},\"id\":\"1579\",\"type\":\"Selection\"},{\"attributes\":{\"data\":{\"x\":{\"__ndarray__\":\"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\",\"dtype\":\"float64\",\"order\":\"little\",\"shape\":[200]},\"y\":{\"__ndarray__\":\"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\",\"dtype\":\"float64\",\"order\":\"little\",\"shape\":[200]}},\"selected\":{\"id\":\"1646\"},\"selection_policy\":{\"id\":\"1645\"}},\"id\":\"1625\",\"type\":\"ColumnDataSource\"},{\"attributes\":{},\"id\":\"1645\",\"type\":\"UnionRenderers\"},{\"attributes\":{\"coordinates\":null,\"data_source\":{\"id\":\"1603\"},\"glyph\":{\"id\":\"1604\"},\"group\":null,\"hover_glyph\":null,\"muted_glyph\":{\"id\":\"1606\"},\"nonselection_glyph\":{\"id\":\"1605\"},\"view\":{\"id\":\"1608\"}},\"id\":\"1607\",\"type\":\"GlyphRenderer\"},{\"attributes\":{\"line_alpha\":0.2,\"line_color\":\"#ff7f0e\",\"x\":{\"field\":\"x\"},\"y\":{\"field\":\"y\"}},\"id\":\"1606\",\"type\":\"Line\"},{\"attributes\":{\"data\":{\"x\":{\"__ndarray__\":\"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\",\"dtype\":\"float64\",\"order\":\"little\",\"shape\":[200]},\"y\":{\"__ndarray__\":\"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\",\"dtype\":\"float64\",\"order\":\"little\",\"shape\":[200]}},\"selected\":{\"id\":\"1622\"},\"selection_policy\":{\"id\":\"1621\"}},\"id\":\"1603\",\"type\":\"ColumnDataSource\"},{\"attributes\":{\"line_color\":\"#ff7f0e\",\"x\":{\"field\":\"x\"},\"y\":{\"field\":\"y\"}},\"id\":\"1604\",\"type\":\"Line\"},{\"attributes\":{\"source\":{\"id\":\"1603\"}},\"id\":\"1608\",\"type\":\"CDSView\"},{\"attributes\":{\"line_alpha\":0.1,\"line_color\":\"#ff7f0e\",\"x\":{\"field\":\"x\"},\"y\":{\"field\":\"y\"}},\"id\":\"1605\",\"type\":\"Line\"},{\"attributes\":{},\"id\":\"1622\",\"type\":\"Selection\"},{\"attributes\":{\"label\":{\"value\":\"log_Kd_active=-10\"},\"renderers\":[{\"id\":\"1607\"}]},\"id\":\"1624\",\"type\":\"LegendItem\"},{\"attributes\":{},\"id\":\"1646\",\"type\":\"Selection\"},{\"attributes\":{\"line_color\":\"#ffbb78\",\"x\":{\"field\":\"x\"},\"y\":{\"field\":\"y\"}},\"id\":\"1626\",\"type\":\"Line\"},{\"attributes\":{\"data\":{\"x\":{\"__ndarray__\":\"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\",\"dtype\":\"float64\",\"order\":\"little\",\"shape\":[200]},\"y\":{\"__ndarray__\":\"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\",\"dtype\":\"float64\",\"order\":\"little\",\"shape\":[200]}},\"selected\":{\"id\":\"1600\"},\"selection_policy\":{\"id\":\"1599\"}},\"id\":\"1583\",\"type\":\"ColumnDataSource\"},{\"attributes\":{\"line_color\":\"#aec7e8\",\"x\":{\"field\":\"x\"},\"y\":{\"field\":\"y\"}},\"id\":\"1584\",\"type\":\"Line\"},{\"attributes\":{\"coordinates\":null,\"data_source\":{\"id\":\"1625\"},\"glyph\":{\"id\":\"1626\"},\"group\":null,\"hover_glyph\":null,\"muted_glyph\":{\"id\":\"1628\"},\"nonselection_glyph\":{\"id\":\"1627\"},\"view\":{\"id\":\"1630\"}},\"id\":\"1629\",\"type\":\"GlyphRenderer\"},{\"attributes\":{\"coordinates\":null,\"data_source\":{\"id\":\"1583\"},\"glyph\":{\"id\":\"1584\"},\"group\":null,\"hover_glyph\":null,\"muted_glyph\":{\"id\":\"1586\"},\"nonselection_glyph\":{\"id\":\"1585\"},\"view\":{\"id\":\"1588\"}},\"id\":\"1587\",\"type\":\"GlyphRenderer\"},{\"attributes\":{\"line_alpha\":0.1,\"line_color\":\"#ffbb78\",\"x\":{\"field\":\"x\"},\"y\":{\"field\":\"y\"}},\"id\":\"1627\",\"type\":\"Line\"}],\"root_ids\":[\"1533\"]},\"title\":\"Bokeh Application\",\"version\":\"2.4.2\"}};\n",
       "  const render_items = [{\"docid\":\"9e3d799a-9c63-404d-a496-79f6ec13eb97\",\"root_ids\":[\"1533\"],\"roots\":{\"1533\":\"55ce3f2f-1fc3-494b-bc1a-4efa14a0a44a\"}}];\n",
       "  root.Bokeh.embed.embed_items_notebook(docs_json, render_items);\n",
       "\n",
       "  }\n",
       "  if (root.Bokeh !== undefined) {\n",
       "    embed_document(root);\n",
       "  } else {\n",
       "    let attempts = 0;\n",
       "    const timer = setInterval(function(root) {\n",
       "      if (root.Bokeh !== undefined) {\n",
       "        clearInterval(timer);\n",
       "        embed_document(root);\n",
       "      } else {\n",
       "        attempts++;\n",
       "        if (attempts > 100) {\n",
       "          clearInterval(timer);\n",
       "          console.log(\"Bokeh: ERROR: Unable to run BokehJS code because BokehJS library is missing\");\n",
       "        }\n",
       "      }\n",
       "    }, 10, root)\n",
       "  }\n",
       "})(window);"
      ],
      "application/vnd.bokehjs_exec.v0+json": ""
     },
     "metadata": {
      "application/vnd.bokehjs_exec.v0+json": {
       "id": "1533"
      }
     },
     "output_type": "display_data"
    }
   ],
   "source": [
    "#set up plot\n",
    "from bokeh.plotting import curdoc \n",
    "curdoc().clear()\n",
    "p = bokeh.plotting.figure(plot_height=600,\n",
    "                         plot_width=600,\n",
    "                         x_axis_label='[L-Quis]M',\n",
    "                          y_axis_label='active_probability',\n",
    "                          x_axis_type='log')\n",
    "\n",
    "colors=bokeh.palettes.d3['Category20'][20]\n",
    "\n",
    "ligand_smooth=np.logspace(-11,-3,200)\n",
    "\n",
    "for i,log_Kd_active in enumerate(range(-8,-16,-1)):    \n",
    "    p.line(ligand_smooth, agonist_only_p_active_theory(ligand_smooth, log_Kd_active, -7.7, -8), color=colors[i],legend_label='log_Kd_active='+str(log_Kd_active))\n",
    "\n",
    "\n",
    "\n",
    "bokeh.io.show(p);"
   ]
  },
  {
   "cell_type": "code",
   "execution_count": 99,
   "id": "e6adbda7",
   "metadata": {},
   "outputs": [
    {
     "data": {
      "text/html": [
       "\n",
       "\n",
       "\n",
       "\n",
       "\n",
       "\n",
       "  <div class=\"bk-root\" id=\"366ce398-481a-492e-bef3-e28bc35003e9\" data-root-id=\"13606\"></div>\n"
      ]
     },
     "metadata": {},
     "output_type": "display_data"
    },
    {
     "data": {
      "application/javascript": [
       "(function(root) {\n",
       "  function embed_document(root) {\n",
       "    \n",
       "  const docs_json = {\"95d7ea66-2b9d-4038-a0de-b16e57826f26\":{\"defs\":[],\"roots\":{\"references\":[{\"attributes\":{\"below\":[{\"id\":\"13615\"}],\"center\":[{\"id\":\"13618\"},{\"id\":\"13622\"}],\"height\":300,\"left\":[{\"id\":\"13619\"}],\"renderers\":[{\"id\":\"13641\"},{\"id\":\"13647\"}],\"title\":{\"id\":\"13649\"},\"toolbar\":{\"id\":\"13630\"},\"x_range\":{\"id\":\"13607\"},\"x_scale\":{\"id\":\"13611\"},\"y_range\":{\"id\":\"13609\"},\"y_scale\":{\"id\":\"13613\"}},\"id\":\"13606\",\"subtype\":\"Figure\",\"type\":\"Plot\"},{\"attributes\":{\"ticker\":null},\"id\":\"13655\",\"type\":\"LogTickFormatter\"},{\"attributes\":{},\"id\":\"13652\",\"type\":\"BasicTickFormatter\"},{\"attributes\":{},\"id\":\"13607\",\"type\":\"DataRange1d\"},{\"attributes\":{},\"id\":\"13626\",\"type\":\"SaveTool\"},{\"attributes\":{\"axis\":{\"id\":\"13619\"},\"coordinates\":null,\"dimension\":1,\"group\":null,\"ticker\":null},\"id\":\"13622\",\"type\":\"Grid\"},{\"attributes\":{},\"id\":\"13659\",\"type\":\"UnionRenderers\"},{\"attributes\":{},\"id\":\"13653\",\"type\":\"AllLabels\"},{\"attributes\":{\"coordinates\":null,\"data_source\":{\"id\":\"13643\"},\"glyph\":{\"id\":\"13644\"},\"group\":null,\"hover_glyph\":null,\"muted_glyph\":{\"id\":\"13646\"},\"nonselection_glyph\":{\"id\":\"13645\"},\"view\":{\"id\":\"13648\"}},\"id\":\"13647\",\"type\":\"GlyphRenderer\"},{\"attributes\":{\"fill_color\":{\"value\":\"#1f77b4\"},\"line_color\":{\"value\":\"#1f77b4\"},\"size\":{\"value\":7},\"x\":{\"field\":\"x\"},\"y\":{\"field\":\"y\"}},\"id\":\"13644\",\"type\":\"Circle\"},{\"attributes\":{\"data\":{\"x\":{\"__ndarray__\":\"je21oPfGsD7myhKghSCUPkivvJry13o+swgPgAQaYD46jDDijnlFPkp0fmY6wyk+ldYm6AsuET7jKWW4Lpz0PZVkeeF//aU9je21oPfGsD7myhKghSCUPkivvJry13o+swgPgAQaYD46jDDijnlFPkp0fmY6wyk+ldYm6AsuET7jKWW4Lpz0PZVkeeF//aU9je21oPfGsD7myhKghSCUPkivvJry13o+swgPgAQaYD46jDDijnlFPkp0fmY6wyk+ldYm6AsuET7jKWW4Lpz0PZVkeeF//aU9je21oPfGsD7myhKghSCUPkivvJry13o+swgPgAQaYD46jDDijnlFPkp0fmY6wyk+ldYm6AsuET7jKWW4Lpz0PZVkeeF//aU9je21oPfGsD7myhKghSCUPkivvJry13o+swgPgAQaYD46jDDijnlFPkp0fmY6wyk+ldYm6AsuET7jKWW4Lpz0PZVkeeF//aU9\",\"dtype\":\"float64\",\"order\":\"little\",\"shape\":[45]},\"y\":{\"__ndarray__\":\"UrgehetR6D8EOm2g0wbqP4Eutz/IUOk/BiBkqOww5T8h7g8yVHbYPxMREREREbE/WBvotIFOmz+sxQ5Tl9ufPw64mnhWNJI/j0UjAd+86j/JDzJUdpjqPy/5xZJfLOk/FCsaCfjm5T9pw9Tl9gfZPxMREREREbE/BXHBFmzBlj9YG+i0gU6bP6zFDlOX258/dHd3d3d35z8tlvxiyS/mP1hVVVVVVeU/gbHkF0t+4T8x0GkDnTbQP1gb6LSBTps/OxvotIFOiz9YG+i0gU6bP1gb6LSBTps/3cPU5fYH6T8Agy3Ygi3oP3R3d3d3d+c/vz7pkz7p4z/aAN+8mnjWP3sUrkfheqQ/WqmaeFY0cj+sxpp4VjSCP6zGmnhWNII/SsdxHMdx7D9MG+i0gU7rP7IEfPNq4uk/XAyVHaYu5z89BHzzauLZP6zFDlOX258/WqmaeFY0cj8AAAAAAAAAADsb6LSBTos/\",\"dtype\":\"float64\",\"order\":\"little\",\"shape\":[45]}},\"selected\":{\"id\":\"13660\"},\"selection_policy\":{\"id\":\"13659\"}},\"id\":\"13643\",\"type\":\"ColumnDataSource\"},{\"attributes\":{},\"id\":\"13609\",\"type\":\"DataRange1d\"},{\"attributes\":{\"num_minor_ticks\":10},\"id\":\"13616\",\"type\":\"LogTicker\"},{\"attributes\":{\"source\":{\"id\":\"13637\"}},\"id\":\"13642\",\"type\":\"CDSView\"},{\"attributes\":{},\"id\":\"13620\",\"type\":\"BasicTicker\"},{\"attributes\":{\"line_color\":\"#1f77b4\",\"x\":{\"field\":\"x\"},\"y\":{\"field\":\"y\"}},\"id\":\"13638\",\"type\":\"Line\"},{\"attributes\":{\"overlay\":{\"id\":\"13629\"}},\"id\":\"13625\",\"type\":\"BoxZoomTool\"},{\"attributes\":{\"tools\":[{\"id\":\"13623\"},{\"id\":\"13624\"},{\"id\":\"13625\"},{\"id\":\"13626\"},{\"id\":\"13627\"},{\"id\":\"13628\"}]},\"id\":\"13630\",\"type\":\"Toolbar\"},{\"attributes\":{},\"id\":\"13624\",\"type\":\"WheelZoomTool\"},{\"attributes\":{},\"id\":\"13623\",\"type\":\"PanTool\"},{\"attributes\":{\"data\":{\"x\":{\"__ndarray__\":\"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\",\"dtype\":\"float64\",\"order\":\"little\",\"shape\":[200]},\"y\":{\"__ndarray__\":\"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\",\"dtype\":\"float64\",\"order\":\"little\",\"shape\":[200]}},\"selected\":{\"id\":\"13658\"},\"selection_policy\":{\"id\":\"13657\"}},\"id\":\"13637\",\"type\":\"ColumnDataSource\"},{\"attributes\":{\"coordinates\":null,\"data_source\":{\"id\":\"13637\"},\"glyph\":{\"id\":\"13638\"},\"group\":null,\"hover_glyph\":null,\"muted_glyph\":{\"id\":\"13640\"},\"nonselection_glyph\":{\"id\":\"13639\"},\"view\":{\"id\":\"13642\"}},\"id\":\"13641\",\"type\":\"GlyphRenderer\"},{\"attributes\":{\"line_alpha\":0.1,\"line_color\":\"#1f77b4\",\"x\":{\"field\":\"x\"},\"y\":{\"field\":\"y\"}},\"id\":\"13639\",\"type\":\"Line\"},{\"attributes\":{\"fill_alpha\":{\"value\":0.1},\"fill_color\":{\"value\":\"#1f77b4\"},\"hatch_alpha\":{\"value\":0.1},\"line_alpha\":{\"value\":0.1},\"line_color\":{\"value\":\"#1f77b4\"},\"size\":{\"value\":7},\"x\":{\"field\":\"x\"},\"y\":{\"field\":\"y\"}},\"id\":\"13645\",\"type\":\"Circle\"},{\"attributes\":{},\"id\":\"13628\",\"type\":\"HelpTool\"},{\"attributes\":{},\"id\":\"13627\",\"type\":\"ResetTool\"},{\"attributes\":{\"line_alpha\":0.2,\"line_color\":\"#1f77b4\",\"x\":{\"field\":\"x\"},\"y\":{\"field\":\"y\"}},\"id\":\"13640\",\"type\":\"Line\"},{\"attributes\":{},\"id\":\"13613\",\"type\":\"LinearScale\"},{\"attributes\":{\"axis_label\":\"[L-Quis] M\",\"coordinates\":null,\"formatter\":{\"id\":\"13655\"},\"group\":null,\"major_label_policy\":{\"id\":\"13656\"},\"ticker\":{\"id\":\"13616\"}},\"id\":\"13615\",\"type\":\"LogAxis\"},{\"attributes\":{\"source\":{\"id\":\"13643\"}},\"id\":\"13648\",\"type\":\"CDSView\"},{\"attributes\":{},\"id\":\"13656\",\"type\":\"AllLabels\"},{\"attributes\":{\"axis_label\":\"active_probability\",\"coordinates\":null,\"formatter\":{\"id\":\"13652\"},\"group\":null,\"major_label_policy\":{\"id\":\"13653\"},\"ticker\":{\"id\":\"13620\"}},\"id\":\"13619\",\"type\":\"LinearAxis\"},{\"attributes\":{},\"id\":\"13611\",\"type\":\"LogScale\"},{\"attributes\":{\"fill_alpha\":{\"value\":0.2},\"fill_color\":{\"value\":\"#1f77b4\"},\"hatch_alpha\":{\"value\":0.2},\"line_alpha\":{\"value\":0.2},\"line_color\":{\"value\":\"#1f77b4\"},\"size\":{\"value\":7},\"x\":{\"field\":\"x\"},\"y\":{\"field\":\"y\"}},\"id\":\"13646\",\"type\":\"Circle\"},{\"attributes\":{},\"id\":\"13658\",\"type\":\"Selection\"},{\"attributes\":{},\"id\":\"13660\",\"type\":\"Selection\"},{\"attributes\":{\"axis\":{\"id\":\"13615\"},\"coordinates\":null,\"group\":null,\"ticker\":null},\"id\":\"13618\",\"type\":\"Grid\"},{\"attributes\":{\"bottom_units\":\"screen\",\"coordinates\":null,\"fill_alpha\":0.5,\"fill_color\":\"lightgrey\",\"group\":null,\"left_units\":\"screen\",\"level\":\"overlay\",\"line_alpha\":1.0,\"line_color\":\"black\",\"line_dash\":[4,4],\"line_width\":2,\"right_units\":\"screen\",\"syncable\":false,\"top_units\":\"screen\"},\"id\":\"13629\",\"type\":\"BoxAnnotation\"},{\"attributes\":{},\"id\":\"13657\",\"type\":\"UnionRenderers\"},{\"attributes\":{\"coordinates\":null,\"group\":null},\"id\":\"13649\",\"type\":\"Title\"}],\"root_ids\":[\"13606\"]},\"title\":\"Bokeh Application\",\"version\":\"2.4.2\"}};\n",
       "  const render_items = [{\"docid\":\"95d7ea66-2b9d-4038-a0de-b16e57826f26\",\"root_ids\":[\"13606\"],\"roots\":{\"13606\":\"366ce398-481a-492e-bef3-e28bc35003e9\"}}];\n",
       "  root.Bokeh.embed.embed_items_notebook(docs_json, render_items);\n",
       "\n",
       "  }\n",
       "  if (root.Bokeh !== undefined) {\n",
       "    embed_document(root);\n",
       "  } else {\n",
       "    let attempts = 0;\n",
       "    const timer = setInterval(function(root) {\n",
       "      if (root.Bokeh !== undefined) {\n",
       "        clearInterval(timer);\n",
       "        embed_document(root);\n",
       "      } else {\n",
       "        attempts++;\n",
       "        if (attempts > 100) {\n",
       "          clearInterval(timer);\n",
       "          console.log(\"Bokeh: ERROR: Unable to run BokehJS code because BokehJS library is missing\");\n",
       "        }\n",
       "      }\n",
       "    }, 10, root)\n",
       "  }\n",
       "})(window);"
      ],
      "application/vnd.bokehjs_exec.v0+json": ""
     },
     "metadata": {
      "application/vnd.bokehjs_exec.v0+json": {
       "id": "13606"
      }
     },
     "output_type": "display_data"
    },
    {
     "name": "stdout",
     "output_type": "stream",
     "text": [
      "[-8.99999712 -7.65369833 -4.6762    ]\n"
     ]
    }
   ],
   "source": [
    "df = pd.read_excel('./L-quis_nomedia_curves.xlsx')\n",
    "\n",
    "\n",
    "\n",
    "#initial parameter for optimization\n",
    "p0 = np.array([-9,-7,-4.6762])\n",
    "c, p_active = df['conc'].values, df['p_open'].values/100\n",
    "\n",
    "#optimize kd and energy difference to fit the data\n",
    "res = scipy.optimize.least_squares(resid, p0, args = (c,p_active))\n",
    "\n",
    "curdoc().clear()\n",
    "p = bokeh.plotting.figure(plot_height=300,\n",
    "                         plot_width=600,\n",
    "                         x_axis_label='[L-Quis] M',\n",
    "                          y_axis_label='active_probability',\n",
    "                          x_axis_type='log')\n",
    "ligand_smooth=np.logspace(-11,-4,200)\n",
    "\n",
    "p.line(ligand_smooth, agonist_only_p_active_theory(ligand_smooth, res.x[0],res.x[1], res.x[2]))\n",
    "p.circle(c, p_active, size=7)\n",
    "\n",
    "bokeh.io.show(p);\n",
    "print(res.x)"
   ]
  },
  {
   "cell_type": "code",
   "execution_count": 110,
   "id": "c22a3859",
   "metadata": {},
   "outputs": [
    {
     "data": {
      "text/html": [
       "\n",
       "\n",
       "\n",
       "\n",
       "\n",
       "\n",
       "  <div class=\"bk-root\" id=\"4d66bcd6-4c44-4b6f-b0cb-ab1052204a2d\" data-root-id=\"15117\"></div>\n"
      ]
     },
     "metadata": {},
     "output_type": "display_data"
    },
    {
     "data": {
      "application/javascript": [
       "(function(root) {\n",
       "  function embed_document(root) {\n",
       "    \n",
       "  const docs_json = {\"ca9243bd-0046-4488-b4bd-7eb1caff98ef\":{\"defs\":[],\"roots\":{\"references\":[{\"attributes\":{\"below\":[{\"id\":\"15126\"}],\"center\":[{\"id\":\"15129\"},{\"id\":\"15133\"}],\"height\":300,\"left\":[{\"id\":\"15130\"}],\"renderers\":[{\"id\":\"15152\"},{\"id\":\"15158\"}],\"title\":{\"id\":\"15160\"},\"toolbar\":{\"id\":\"15141\"},\"x_range\":{\"id\":\"15118\"},\"x_scale\":{\"id\":\"15122\"},\"y_range\":{\"id\":\"15120\"},\"y_scale\":{\"id\":\"15124\"}},\"id\":\"15117\",\"subtype\":\"Figure\",\"type\":\"Plot\"},{\"attributes\":{\"line_alpha\":0.2,\"line_color\":\"#1f77b4\",\"x\":{\"field\":\"x\"},\"y\":{\"field\":\"y\"}},\"id\":\"15151\",\"type\":\"Line\"},{\"attributes\":{},\"id\":\"15137\",\"type\":\"SaveTool\"},{\"attributes\":{\"coordinates\":null,\"data_source\":{\"id\":\"15154\"},\"glyph\":{\"id\":\"15155\"},\"group\":null,\"hover_glyph\":null,\"muted_glyph\":{\"id\":\"15157\"},\"nonselection_glyph\":{\"id\":\"15156\"},\"view\":{\"id\":\"15159\"}},\"id\":\"15158\",\"type\":\"GlyphRenderer\"},{\"attributes\":{},\"id\":\"15135\",\"type\":\"WheelZoomTool\"},{\"attributes\":{\"num_minor_ticks\":10},\"id\":\"15127\",\"type\":\"LogTicker\"},{\"attributes\":{\"fill_color\":{\"value\":\"#1f77b4\"},\"line_color\":{\"value\":\"#1f77b4\"},\"size\":{\"value\":7},\"x\":{\"field\":\"x\"},\"y\":{\"field\":\"y\"}},\"id\":\"15155\",\"type\":\"Circle\"},{\"attributes\":{\"ticker\":null},\"id\":\"15166\",\"type\":\"LogTickFormatter\"},{\"attributes\":{},\"id\":\"15139\",\"type\":\"HelpTool\"},{\"attributes\":{},\"id\":\"15131\",\"type\":\"BasicTicker\"},{\"attributes\":{},\"id\":\"15169\",\"type\":\"Selection\"},{\"attributes\":{\"coordinates\":null,\"data_source\":{\"id\":\"15148\"},\"glyph\":{\"id\":\"15149\"},\"group\":null,\"hover_glyph\":null,\"muted_glyph\":{\"id\":\"15151\"},\"nonselection_glyph\":{\"id\":\"15150\"},\"view\":{\"id\":\"15153\"}},\"id\":\"15152\",\"type\":\"GlyphRenderer\"},{\"attributes\":{\"line_color\":\"#1f77b4\",\"x\":{\"field\":\"x\"},\"y\":{\"field\":\"y\"}},\"id\":\"15149\",\"type\":\"Line\"},{\"attributes\":{\"coordinates\":null,\"group\":null},\"id\":\"15160\",\"type\":\"Title\"},{\"attributes\":{\"axis\":{\"id\":\"15130\"},\"coordinates\":null,\"dimension\":1,\"group\":null,\"ticker\":null},\"id\":\"15133\",\"type\":\"Grid\"},{\"attributes\":{},\"id\":\"15170\",\"type\":\"UnionRenderers\"},{\"attributes\":{\"bottom_units\":\"screen\",\"coordinates\":null,\"fill_alpha\":0.5,\"fill_color\":\"lightgrey\",\"group\":null,\"left_units\":\"screen\",\"level\":\"overlay\",\"line_alpha\":1.0,\"line_color\":\"black\",\"line_dash\":[4,4],\"line_width\":2,\"right_units\":\"screen\",\"syncable\":false,\"top_units\":\"screen\"},\"id\":\"15140\",\"type\":\"BoxAnnotation\"},{\"attributes\":{\"tools\":[{\"id\":\"15134\"},{\"id\":\"15135\"},{\"id\":\"15136\"},{\"id\":\"15137\"},{\"id\":\"15138\"},{\"id\":\"15139\"}]},\"id\":\"15141\",\"type\":\"Toolbar\"},{\"attributes\":{\"line_alpha\":0.1,\"line_color\":\"#1f77b4\",\"x\":{\"field\":\"x\"},\"y\":{\"field\":\"y\"}},\"id\":\"15150\",\"type\":\"Line\"},{\"attributes\":{},\"id\":\"15134\",\"type\":\"PanTool\"},{\"attributes\":{},\"id\":\"15124\",\"type\":\"LinearScale\"},{\"attributes\":{},\"id\":\"15138\",\"type\":\"ResetTool\"},{\"attributes\":{\"source\":{\"id\":\"15148\"}},\"id\":\"15153\",\"type\":\"CDSView\"},{\"attributes\":{\"data\":{\"x\":{\"__ndarray__\":\"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\",\"dtype\":\"float64\",\"order\":\"little\",\"shape\":[200]},\"y\":{\"__ndarray__\":\"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\",\"dtype\":\"float64\",\"order\":\"little\",\"shape\":[200]}},\"selected\":{\"id\":\"15169\"},\"selection_policy\":{\"id\":\"15168\"}},\"id\":\"15148\",\"type\":\"ColumnDataSource\"},{\"attributes\":{\"axis_label\":\"[CDPPB] M\",\"coordinates\":null,\"formatter\":{\"id\":\"15166\"},\"group\":null,\"major_label_policy\":{\"id\":\"15167\"},\"ticker\":{\"id\":\"15127\"}},\"id\":\"15126\",\"type\":\"LogAxis\"},{\"attributes\":{},\"id\":\"15167\",\"type\":\"AllLabels\"},{\"attributes\":{\"overlay\":{\"id\":\"15140\"}},\"id\":\"15136\",\"type\":\"BoxZoomTool\"},{\"attributes\":{\"fill_alpha\":{\"value\":0.1},\"fill_color\":{\"value\":\"#1f77b4\"},\"hatch_alpha\":{\"value\":0.1},\"line_alpha\":{\"value\":0.1},\"line_color\":{\"value\":\"#1f77b4\"},\"size\":{\"value\":7},\"x\":{\"field\":\"x\"},\"y\":{\"field\":\"y\"}},\"id\":\"15156\",\"type\":\"Circle\"},{\"attributes\":{},\"id\":\"15118\",\"type\":\"DataRange1d\"},{\"attributes\":{\"data\":{\"x\":{\"__ndarray__\":\"JLxllFk3Cj/xaOOItfjkPrv2lrCrxsA+D4t/nP/Wmj4/4UdNa3h1PmFBquXULFE+iTxe2nF6Kz6VZHnhf/2lPSS8ZZRZNwo/8WjjiLX45D679pawq8bAPg+Lf5z/1po+P+FHTWt4dT5hQarl1CxRPok8Xtpxeis+lWR54X/9pT0kvGWUWTcKP/Fo44i1+OQ+u/aWsKvGwD4Pi3+c/9aaPj/hR01reHU+YUGq5dQsUT6JPF7acXorPpVkeeF//aU9JLxllFk3Cj/xaOOItfjkPrv2lrCrxsA+D4t/nP/Wmj4/4UdNa3h1PmFBquXULFE+iTxe2nF6Kz6VZHnhf/2lPSS8ZZRZNwo/8WjjiLX45D679pawq8bAPg+Lf5z/1po+P+FHTWt4dT5hQarl1CxRPok8Xtpxeis+lWR54X/9pT0=\",\"dtype\":\"float64\",\"order\":\"little\",\"shape\":[40]},\"y\":{\"__ndarray__\":\"uB6F61G4zj80P+mTPunDPxMREREREbE/BXHBFmzBlj8OuJp4VjSSPzsb6LSBTos/BXHBFmzBlj8OuJp4VjSSP65BhsoOU9c/ycdxHMdxzD/0xXEcx3G8PwVxwRZswZY/rMaaeFY0gj8OuJp4VjSSP6zGmnhWNII/rMUOU5fbnz8x0GkDnTbQPwUREREREcE/exSuR+F6pD8AAAAAAAAAADsb6LSBTos/OxvotIFOiz87G+i0gU6LP1gb6LSBTps/Y/1BhsoO0z/xF0t+seTHPwG/N68mnrU/rMaaeFY0gj8AAAAAAAAAAAAAAAAAAAAAAAAAAAAAAACsxpp4VjSCP7p782riWdE/0pJfLPnFwj8uxtTl9gepPwAAAAAAAAAAAAAAAAAAAAAAAAAAAAAAAAAAAAAAAAAAOxvotIFOiz8=\",\"dtype\":\"float64\",\"order\":\"little\",\"shape\":[40]}},\"selected\":{\"id\":\"15171\"},\"selection_policy\":{\"id\":\"15170\"}},\"id\":\"15154\",\"type\":\"ColumnDataSource\"},{\"attributes\":{},\"id\":\"15122\",\"type\":\"LogScale\"},{\"attributes\":{\"axis\":{\"id\":\"15126\"},\"coordinates\":null,\"group\":null,\"ticker\":null},\"id\":\"15129\",\"type\":\"Grid\"},{\"attributes\":{},\"id\":\"15164\",\"type\":\"AllLabels\"},{\"attributes\":{},\"id\":\"15163\",\"type\":\"BasicTickFormatter\"},{\"attributes\":{\"fill_alpha\":{\"value\":0.2},\"fill_color\":{\"value\":\"#1f77b4\"},\"hatch_alpha\":{\"value\":0.2},\"line_alpha\":{\"value\":0.2},\"line_color\":{\"value\":\"#1f77b4\"},\"size\":{\"value\":7},\"x\":{\"field\":\"x\"},\"y\":{\"field\":\"y\"}},\"id\":\"15157\",\"type\":\"Circle\"},{\"attributes\":{},\"id\":\"15120\",\"type\":\"DataRange1d\"},{\"attributes\":{\"source\":{\"id\":\"15154\"}},\"id\":\"15159\",\"type\":\"CDSView\"},{\"attributes\":{},\"id\":\"15168\",\"type\":\"UnionRenderers\"},{\"attributes\":{},\"id\":\"15171\",\"type\":\"Selection\"},{\"attributes\":{\"axis_label\":\"active_probability\",\"coordinates\":null,\"formatter\":{\"id\":\"15163\"},\"group\":null,\"major_label_policy\":{\"id\":\"15164\"},\"ticker\":{\"id\":\"15131\"}},\"id\":\"15130\",\"type\":\"LinearAxis\"}],\"root_ids\":[\"15117\"]},\"title\":\"Bokeh Application\",\"version\":\"2.4.2\"}};\n",
       "  const render_items = [{\"docid\":\"ca9243bd-0046-4488-b4bd-7eb1caff98ef\",\"root_ids\":[\"15117\"],\"roots\":{\"15117\":\"4d66bcd6-4c44-4b6f-b0cb-ab1052204a2d\"}}];\n",
       "  root.Bokeh.embed.embed_items_notebook(docs_json, render_items);\n",
       "\n",
       "  }\n",
       "  if (root.Bokeh !== undefined) {\n",
       "    embed_document(root);\n",
       "  } else {\n",
       "    let attempts = 0;\n",
       "    const timer = setInterval(function(root) {\n",
       "      if (root.Bokeh !== undefined) {\n",
       "        clearInterval(timer);\n",
       "        embed_document(root);\n",
       "      } else {\n",
       "        attempts++;\n",
       "        if (attempts > 100) {\n",
       "          clearInterval(timer);\n",
       "          console.log(\"Bokeh: ERROR: Unable to run BokehJS code because BokehJS library is missing\");\n",
       "        }\n",
       "      }\n",
       "    }, 10, root)\n",
       "  }\n",
       "})(window);"
      ],
      "application/vnd.bokehjs_exec.v0+json": ""
     },
     "metadata": {
      "application/vnd.bokehjs_exec.v0+json": {
       "id": "15117"
      }
     },
     "output_type": "display_data"
    },
    {
     "name": "stdout",
     "output_type": "stream",
     "text": [
      "[-6.54848753 -4.80113704 -4.67619361]\n"
     ]
    }
   ],
   "source": [
    "df_pam = pd.read_excel('./CDPPB_nomedia_curves.xlsx')\n",
    "\n",
    "#initial parameter for optimization\n",
    "p0 = np.array([-4,-3,-8])\n",
    "c_pam, p_active_pam = df_pam['conc'].values, df_pam['p_open'].values/100\n",
    "\n",
    "#optimize kd and energy difference to fit the data\n",
    "res_pam = scipy.optimize.least_squares(resid_PAM, p0, args = (c_pam,p_active_pam))\n",
    "\n",
    "curdoc().clear()\n",
    "p = bokeh.plotting.figure(plot_height=300,\n",
    "                         plot_width=600,\n",
    "                         x_axis_label='[CDPPB] M',\n",
    "                          y_axis_label='active_probability',\n",
    "                          x_axis_type='log')\n",
    "\n",
    "\n",
    "ligand_smooth=np.logspace(-8,-2,200)\n",
    "p.line(ligand_smooth, PAM_only_p_active_theory(ligand_smooth, res_pam.x[0],res_pam.x[1],res_pam.x[2]))\n",
    "p.circle(c_pam, p_active_pam, size=7)\n",
    "\n",
    "bokeh.io.show(p);\n",
    "print(res_pam.x)"
   ]
  },
  {
   "cell_type": "code",
   "execution_count": 107,
   "id": "3cc42a7a",
   "metadata": {},
   "outputs": [
    {
     "data": {
      "text/html": [
       "\n",
       "\n",
       "\n",
       "\n",
       "\n",
       "\n",
       "  <div class=\"bk-root\" id=\"8f73af40-2dd1-43e3-8522-d8dc70d2460d\" data-root-id=\"14573\"></div>\n"
      ]
     },
     "metadata": {},
     "output_type": "display_data"
    },
    {
     "data": {
      "application/javascript": [
       "(function(root) {\n",
       "  function embed_document(root) {\n",
       "    \n",
       "  const docs_json = {\"8b3e1615-0187-4374-9ad4-f8ede5a02bac\":{\"defs\":[],\"roots\":{\"references\":[{\"attributes\":{\"below\":[{\"id\":\"14582\"}],\"center\":[{\"id\":\"14585\"},{\"id\":\"14589\"}],\"height\":300,\"left\":[{\"id\":\"14586\"}],\"renderers\":[{\"id\":\"14608\"},{\"id\":\"14614\"}],\"title\":{\"id\":\"14616\"},\"toolbar\":{\"id\":\"14597\"},\"x_range\":{\"id\":\"14574\"},\"x_scale\":{\"id\":\"14578\"},\"y_range\":{\"id\":\"14576\"},\"y_scale\":{\"id\":\"14580\"}},\"id\":\"14573\",\"subtype\":\"Figure\",\"type\":\"Plot\"},{\"attributes\":{\"bottom_units\":\"screen\",\"coordinates\":null,\"fill_alpha\":0.5,\"fill_color\":\"lightgrey\",\"group\":null,\"left_units\":\"screen\",\"level\":\"overlay\",\"line_alpha\":1.0,\"line_color\":\"black\",\"line_dash\":[4,4],\"line_width\":2,\"right_units\":\"screen\",\"syncable\":false,\"top_units\":\"screen\"},\"id\":\"14596\",\"type\":\"BoxAnnotation\"},{\"attributes\":{\"line_alpha\":0.2,\"line_color\":\"#1f77b4\",\"x\":{\"field\":\"x\"},\"y\":{\"field\":\"y\"}},\"id\":\"14607\",\"type\":\"Line\"},{\"attributes\":{\"axis_label\":\"active_probability\",\"coordinates\":null,\"formatter\":{\"id\":\"14619\"},\"group\":null,\"major_label_policy\":{\"id\":\"14620\"},\"ticker\":{\"id\":\"14587\"}},\"id\":\"14586\",\"type\":\"LinearAxis\"},{\"attributes\":{\"num_minor_ticks\":10},\"id\":\"14583\",\"type\":\"LogTicker\"},{\"attributes\":{\"fill_color\":{\"value\":\"#1f77b4\"},\"line_color\":{\"value\":\"#1f77b4\"},\"size\":{\"value\":7},\"x\":{\"field\":\"x\"},\"y\":{\"field\":\"y\"}},\"id\":\"14611\",\"type\":\"Circle\"},{\"attributes\":{},\"id\":\"14574\",\"type\":\"DataRange1d\"},{\"attributes\":{},\"id\":\"14619\",\"type\":\"BasicTickFormatter\"},{\"attributes\":{},\"id\":\"14620\",\"type\":\"AllLabels\"},{\"attributes\":{\"source\":{\"id\":\"14604\"}},\"id\":\"14609\",\"type\":\"CDSView\"},{\"attributes\":{\"data\":{\"x\":{\"__ndarray__\":\"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\",\"dtype\":\"float64\",\"order\":\"little\",\"shape\":[200]},\"y\":{\"__ndarray__\":\"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\",\"dtype\":\"float64\",\"order\":\"little\",\"shape\":[200]}},\"selected\":{\"id\":\"14625\"},\"selection_policy\":{\"id\":\"14624\"}},\"id\":\"14604\",\"type\":\"ColumnDataSource\"},{\"attributes\":{},\"id\":\"14625\",\"type\":\"Selection\"},{\"attributes\":{},\"id\":\"14587\",\"type\":\"BasicTicker\"},{\"attributes\":{\"data\":{\"x\":{\"__ndarray__\":\"JLxllFk3Cj/xaOOItfjkPrv2lrCrxsA+D4t/nP/Wmj4/4UdNa3h1PmFBquXULFE+iTxe2nF6Kz6VZHnhf/2lPSS8ZZRZNwo/8WjjiLX45D679pawq8bAPg+Lf5z/1po+P+FHTWt4dT5hQarl1CxRPok8Xtpxeis+lWR54X/9pT0kvGWUWTcKP/Fo44i1+OQ+u/aWsKvGwD4Pi3+c/9aaPj/hR01reHU+YUGq5dQsUT6JPF7acXorPpVkeeF//aU9JLxllFk3Cj/xaOOItfjkPrv2lrCrxsA+D4t/nP/Wmj4/4UdNa3h1PmFBquXULFE+iTxe2nF6Kz6VZHnhf/2lPQ==\",\"dtype\":\"float64\",\"order\":\"little\",\"shape\":[32]},\"y\":{\"__ndarray__\":\"RlR99oye6z9sGqlmHH7oP7emAEc7PeI/3nBnPsUuzT/lF2oYt62lP8yMvTFrrmo/S6K9MWuuij9Lor0xa66KPwnqDSry8uQ/HM0j4rli4z81Pg8XazLhPzynP5WgDdU/pF71lzgEnj9Lor0xa66KPxg/TmXQAoQ/GD9OZdAClD/VBzfAj1PpPw2xeOjmouQ/zVCBvfdc4D8gg9nkUVnMP6Re9Zc4BK4/S6K9MWuuij8AAAAAAAAAAAAAAAAAAAAAkeDU1qtd5T+wGCvKUd3iP8X1A2ho+dw/J/2+HuTtxj/MjL0xa65qP8yMvTFrrmo/zIy9MWuuaj9Lor0xa66KPw==\",\"dtype\":\"float64\",\"order\":\"little\",\"shape\":[32]}},\"selected\":{\"id\":\"14627\"},\"selection_policy\":{\"id\":\"14626\"}},\"id\":\"14610\",\"type\":\"ColumnDataSource\"},{\"attributes\":{\"tools\":[{\"id\":\"14590\"},{\"id\":\"14591\"},{\"id\":\"14592\"},{\"id\":\"14593\"},{\"id\":\"14594\"},{\"id\":\"14595\"}]},\"id\":\"14597\",\"type\":\"Toolbar\"},{\"attributes\":{\"line_color\":\"#1f77b4\",\"x\":{\"field\":\"x\"},\"y\":{\"field\":\"y\"}},\"id\":\"14605\",\"type\":\"Line\"},{\"attributes\":{},\"id\":\"14580\",\"type\":\"LinearScale\"},{\"attributes\":{\"fill_alpha\":{\"value\":0.1},\"fill_color\":{\"value\":\"#1f77b4\"},\"hatch_alpha\":{\"value\":0.1},\"line_alpha\":{\"value\":0.1},\"line_color\":{\"value\":\"#1f77b4\"},\"size\":{\"value\":7},\"x\":{\"field\":\"x\"},\"y\":{\"field\":\"y\"}},\"id\":\"14612\",\"type\":\"Circle\"},{\"attributes\":{\"fill_alpha\":{\"value\":0.2},\"fill_color\":{\"value\":\"#1f77b4\"},\"hatch_alpha\":{\"value\":0.2},\"line_alpha\":{\"value\":0.2},\"line_color\":{\"value\":\"#1f77b4\"},\"size\":{\"value\":7},\"x\":{\"field\":\"x\"},\"y\":{\"field\":\"y\"}},\"id\":\"14613\",\"type\":\"Circle\"},{\"attributes\":{\"axis\":{\"id\":\"14586\"},\"coordinates\":null,\"dimension\":1,\"group\":null,\"ticker\":null},\"id\":\"14589\",\"type\":\"Grid\"},{\"attributes\":{\"line_alpha\":0.1,\"line_color\":\"#1f77b4\",\"x\":{\"field\":\"x\"},\"y\":{\"field\":\"y\"}},\"id\":\"14606\",\"type\":\"Line\"},{\"attributes\":{},\"id\":\"14626\",\"type\":\"UnionRenderers\"},{\"attributes\":{\"coordinates\":null,\"data_source\":{\"id\":\"14604\"},\"glyph\":{\"id\":\"14605\"},\"group\":null,\"hover_glyph\":null,\"muted_glyph\":{\"id\":\"14607\"},\"nonselection_glyph\":{\"id\":\"14606\"},\"view\":{\"id\":\"14609\"}},\"id\":\"14608\",\"type\":\"GlyphRenderer\"},{\"attributes\":{\"coordinates\":null,\"group\":null},\"id\":\"14616\",\"type\":\"Title\"},{\"attributes\":{},\"id\":\"14578\",\"type\":\"LogScale\"},{\"attributes\":{},\"id\":\"14627\",\"type\":\"Selection\"},{\"attributes\":{\"source\":{\"id\":\"14610\"}},\"id\":\"14615\",\"type\":\"CDSView\"},{\"attributes\":{},\"id\":\"14590\",\"type\":\"PanTool\"},{\"attributes\":{},\"id\":\"14593\",\"type\":\"SaveTool\"},{\"attributes\":{\"coordinates\":null,\"data_source\":{\"id\":\"14610\"},\"glyph\":{\"id\":\"14611\"},\"group\":null,\"hover_glyph\":null,\"muted_glyph\":{\"id\":\"14613\"},\"nonselection_glyph\":{\"id\":\"14612\"},\"view\":{\"id\":\"14615\"}},\"id\":\"14614\",\"type\":\"GlyphRenderer\"},{\"attributes\":{},\"id\":\"14624\",\"type\":\"UnionRenderers\"},{\"attributes\":{\"axis_label\":\"[CDPPB] M\",\"coordinates\":null,\"formatter\":{\"id\":\"14622\"},\"group\":null,\"major_label_policy\":{\"id\":\"14623\"},\"ticker\":{\"id\":\"14583\"}},\"id\":\"14582\",\"type\":\"LogAxis\"},{\"attributes\":{},\"id\":\"14576\",\"type\":\"DataRange1d\"},{\"attributes\":{\"overlay\":{\"id\":\"14596\"}},\"id\":\"14592\",\"type\":\"BoxZoomTool\"},{\"attributes\":{},\"id\":\"14623\",\"type\":\"AllLabels\"},{\"attributes\":{},\"id\":\"14595\",\"type\":\"HelpTool\"},{\"attributes\":{\"axis\":{\"id\":\"14582\"},\"coordinates\":null,\"group\":null,\"ticker\":null},\"id\":\"14585\",\"type\":\"Grid\"},{\"attributes\":{},\"id\":\"14594\",\"type\":\"ResetTool\"},{\"attributes\":{},\"id\":\"14591\",\"type\":\"WheelZoomTool\"},{\"attributes\":{\"ticker\":null},\"id\":\"14622\",\"type\":\"LogTickFormatter\"}],\"root_ids\":[\"14573\"]},\"title\":\"Bokeh Application\",\"version\":\"2.4.2\"}};\n",
       "  const render_items = [{\"docid\":\"8b3e1615-0187-4374-9ad4-f8ede5a02bac\",\"root_ids\":[\"14573\"],\"roots\":{\"14573\":\"8f73af40-2dd1-43e3-8522-d8dc70d2460d\"}}];\n",
       "  root.Bokeh.embed.embed_items_notebook(docs_json, render_items);\n",
       "\n",
       "  }\n",
       "  if (root.Bokeh !== undefined) {\n",
       "    embed_document(root);\n",
       "  } else {\n",
       "    let attempts = 0;\n",
       "    const timer = setInterval(function(root) {\n",
       "      if (root.Bokeh !== undefined) {\n",
       "        clearInterval(timer);\n",
       "        embed_document(root);\n",
       "      } else {\n",
       "        attempts++;\n",
       "        if (attempts > 100) {\n",
       "          clearInterval(timer);\n",
       "          console.log(\"Bokeh: ERROR: Unable to run BokehJS code because BokehJS library is missing\");\n",
       "        }\n",
       "      }\n",
       "    }, 10, root)\n",
       "  }\n",
       "})(window);"
      ],
      "application/vnd.bokehjs_exec.v0+json": ""
     },
     "metadata": {
      "application/vnd.bokehjs_exec.v0+json": {
       "id": "14573"
      }
     },
     "output_type": "display_data"
    },
    {
     "name": "stdout",
     "output_type": "stream",
     "text": [
      "[-16.14000697  -5.46756344 -23.5366297 ]\n"
     ]
    }
   ],
   "source": [
    "df_pam = pd.read_excel('./CDPPB_curves.xlsx')\n",
    "\n",
    "\n",
    "#initial parameter for optimization\n",
    "p0 = np.array([-4,-3,-8])\n",
    "c_pam, p_active_pam = df_pam['conc'].values, df_pam['p_open'].values\n",
    "\n",
    "#optimize kd and energy difference to fit the data\n",
    "res_pam = scipy.optimize.least_squares(resid_PAM, p0, args = (c_pam,p_active_pam))\n",
    "\n",
    "curdoc().clear()\n",
    "p = bokeh.plotting.figure(plot_height=300,\n",
    "                         plot_width=600,\n",
    "                         x_axis_label='[CDPPB] M',\n",
    "                          y_axis_label='active_probability',\n",
    "                          x_axis_type='log')\n",
    "\n",
    "\n",
    "ligand_smooth=np.logspace(-8,-2,200)\n",
    "p.line(ligand_smooth, PAM_only_p_active_theory(ligand_smooth, res_pam.x[0],res_pam.x[1],res_pam.x[2]))\n",
    "p.circle(c_pam, p_active_pam, size=7)\n",
    "\n",
    "bokeh.io.show(p);\n",
    "print(res_pam.x)"
   ]
  },
  {
   "cell_type": "code",
   "execution_count": 105,
   "id": "d5c943c0",
   "metadata": {},
   "outputs": [],
   "source": [
    "def both_p_active_theory(c_agonist, c_pam, log_Ka, log_Ki, log_Kpa, log_Kpi):\n",
    "    \"theoretical curve for mglur5 active probability\"\n",
    "    beta_deltaE = -4.6\n",
    "    Ka = 10**log_Ka\n",
    "    Ki = 10**log_Ki\n",
    "    Kpa = 10**log_Kpa\n",
    "    Kpi = 10**log_Kpi\n",
    "    \n",
    "    a = (1 + c_agonist/Ka)**2\n",
    "\n",
    "    b = (1 + c_agonist/Ki)**2\n",
    "    \n",
    "    c = (1 + c_pam/Kpa)\n",
    "\n",
    "    d = (1 + c_pam/Kpi)\n",
    "\n",
    "    return (a*c)/((a*c)+(b*d*np.exp(-beta_deltaE)))\n",
    "\n",
    "def both_resid(PAM_param, log_Ka, log_Ki, c_agonist, c_pam, p_active):\n",
    "    return p_active - both_p_active_theory(c_agonist, c_pam, log_Ka, log_Ki, *PAM_param)"
   ]
  },
  {
   "cell_type": "code",
   "execution_count": 113,
   "id": "477f1440",
   "metadata": {},
   "outputs": [
    {
     "data": {
      "text/plain": [
       "array([-8.99999712, -7.65369833, -4.6762    ])"
      ]
     },
     "execution_count": 113,
     "metadata": {},
     "output_type": "execute_result"
    }
   ],
   "source": [
    "res.x"
   ]
  },
  {
   "cell_type": "code",
   "execution_count": 112,
   "id": "06031cc5",
   "metadata": {},
   "outputs": [
    {
     "data": {
      "text/html": [
       "\n",
       "\n",
       "\n",
       "\n",
       "\n",
       "\n",
       "  <div class=\"bk-root\" id=\"38d4bc96-148a-4cf1-88eb-76173a817971\" data-root-id=\"15540\"></div>\n"
      ]
     },
     "metadata": {},
     "output_type": "display_data"
    },
    {
     "data": {
      "application/javascript": [
       "(function(root) {\n",
       "  function embed_document(root) {\n",
       "    \n",
       "  const docs_json = {\"b9bd9b83-813e-4370-9030-0e714bd0dace\":{\"defs\":[],\"roots\":{\"references\":[{\"attributes\":{\"below\":[{\"id\":\"15549\"}],\"center\":[{\"id\":\"15552\"},{\"id\":\"15556\"}],\"left\":[{\"id\":\"15553\"}],\"renderers\":[{\"id\":\"15575\"},{\"id\":\"15581\"}],\"title\":{\"id\":\"15583\"},\"toolbar\":{\"id\":\"15564\"},\"x_range\":{\"id\":\"15541\"},\"x_scale\":{\"id\":\"15545\"},\"y_range\":{\"id\":\"15543\"},\"y_scale\":{\"id\":\"15547\"}},\"id\":\"15540\",\"subtype\":\"Figure\",\"type\":\"Plot\"},{\"attributes\":{},\"id\":\"15561\",\"type\":\"ResetTool\"},{\"attributes\":{},\"id\":\"15541\",\"type\":\"DataRange1d\"},{\"attributes\":{},\"id\":\"15591\",\"type\":\"UnionRenderers\"},{\"attributes\":{\"line_color\":\"#1f77b4\",\"x\":{\"field\":\"x\"},\"y\":{\"field\":\"y\"}},\"id\":\"15572\",\"type\":\"Line\"},{\"attributes\":{\"fill_alpha\":{\"value\":0.2},\"fill_color\":{\"value\":\"#1f77b4\"},\"hatch_alpha\":{\"value\":0.2},\"line_alpha\":{\"value\":0.2},\"line_color\":{\"value\":\"#1f77b4\"},\"size\":{\"value\":7},\"x\":{\"field\":\"x\"},\"y\":{\"field\":\"y\"}},\"id\":\"15580\",\"type\":\"Circle\"},{\"attributes\":{\"source\":{\"id\":\"15571\"}},\"id\":\"15576\",\"type\":\"CDSView\"},{\"attributes\":{},\"id\":\"15558\",\"type\":\"WheelZoomTool\"},{\"attributes\":{\"tools\":[{\"id\":\"15557\"},{\"id\":\"15558\"},{\"id\":\"15559\"},{\"id\":\"15560\"},{\"id\":\"15561\"},{\"id\":\"15562\"}]},\"id\":\"15564\",\"type\":\"Toolbar\"},{\"attributes\":{},\"id\":\"15545\",\"type\":\"LogScale\"},{\"attributes\":{},\"id\":\"15547\",\"type\":\"LinearScale\"},{\"attributes\":{\"axis\":{\"id\":\"15553\"},\"coordinates\":null,\"dimension\":1,\"group\":null,\"ticker\":null},\"id\":\"15556\",\"type\":\"Grid\"},{\"attributes\":{\"fill_alpha\":{\"value\":0.1},\"fill_color\":{\"value\":\"#1f77b4\"},\"hatch_alpha\":{\"value\":0.1},\"line_alpha\":{\"value\":0.1},\"line_color\":{\"value\":\"#1f77b4\"},\"size\":{\"value\":7},\"x\":{\"field\":\"x\"},\"y\":{\"field\":\"y\"}},\"id\":\"15579\",\"type\":\"Circle\"},{\"attributes\":{\"data\":{\"x\":{\"__ndarray__\":\"UW0C9PUhhD5Se2Oa8tdqPquKmykrG1A+bi/p4Y55NT4JESzcEcUZPoa/7ecLLgE+AXRW46ed5D2VZHnhf/2lPVFtAvT1IYQ+UntjmvLXaj6ripspKxtQPm4v6eGOeTU+CREs3BHFGT6Gv+3nCy4BPgF0VuOnneQ9lWR54X/9pT1RbQL09SGEPlJ7Y5ry12o+q4qbKSsbUD5uL+nhjnk1PgkRLNwRxRk+hr/t5wsuAT4BdFbjp53kPZVkeeF//aU9UW0C9PUhhD5Se2Oa8tdqPquKmykrG1A+bi/p4Y55NT4JESzcEcUZPoa/7ecLLgE+AXRW46ed5D2VZHnhf/2lPVFtAvT1IYQ+UntjmvLXaj6ripspKxtQPm4v6eGOeTU+CREs3BHFGT6Gv+3nCy4BPgF0VuOnneQ9lWR54X/9pT0=\",\"dtype\":\"float64\",\"order\":\"little\",\"shape\":[40]},\"y\":{\"__ndarray__\":\"Bp020GkD7T/szopGAr7pP+n0SZ/0Sd8/9MVxHMdxvD8AAAAAAAAAAAAAAAAAAAAAWqmaeFY0cj8AAAAAAAAAAMasaCTgm+c/ccA3ryae5T8SRSMB37zaP+1pJOCbV7M/AAAAAAAAAAAAAAAAAAAAAAAAAAAAAAAAAAAAAAAAAADD9Shcj8LlP+8I+ObVxOM/EkUjAd+82j/taSTgm1ezP1qpmnhWNHI/WqmaeFY0cj8AAAAAAAAAAKzGmnhWNII/LZb8Yskv5j/vCPjm1cTjP8VY8oslv9g/Ab83ryaetT8AAAAAAAAAAFqpmnhWNHI/WqmaeFY0cj8AAAAAAAAAAAQ6baDTBuo/dHd3d3d35z+NXyz5xZLfPyp0+4MMlb0/rMaaeFY0gj9aqZp4VjRyP1qpmnhWNHI/OxvotIFOiz8=\",\"dtype\":\"float64\",\"order\":\"little\",\"shape\":[40]}},\"selected\":{\"id\":\"15594\"},\"selection_policy\":{\"id\":\"15593\"}},\"id\":\"15577\",\"type\":\"ColumnDataSource\"},{\"attributes\":{},\"id\":\"15587\",\"type\":\"AllLabels\"},{\"attributes\":{},\"id\":\"15554\",\"type\":\"BasicTicker\"},{\"attributes\":{\"coordinates\":null,\"data_source\":{\"id\":\"15577\"},\"glyph\":{\"id\":\"15578\"},\"group\":null,\"hover_glyph\":null,\"muted_glyph\":{\"id\":\"15580\"},\"nonselection_glyph\":{\"id\":\"15579\"},\"view\":{\"id\":\"15582\"}},\"id\":\"15581\",\"type\":\"GlyphRenderer\"},{\"attributes\":{\"coordinates\":null,\"data_source\":{\"id\":\"15571\"},\"glyph\":{\"id\":\"15572\"},\"group\":null,\"hover_glyph\":null,\"muted_glyph\":{\"id\":\"15574\"},\"nonselection_glyph\":{\"id\":\"15573\"},\"view\":{\"id\":\"15576\"}},\"id\":\"15575\",\"type\":\"GlyphRenderer\"},{\"attributes\":{},\"id\":\"15560\",\"type\":\"SaveTool\"},{\"attributes\":{\"line_alpha\":0.2,\"line_color\":\"#1f77b4\",\"x\":{\"field\":\"x\"},\"y\":{\"field\":\"y\"}},\"id\":\"15574\",\"type\":\"Line\"},{\"attributes\":{},\"id\":\"15562\",\"type\":\"HelpTool\"},{\"attributes\":{\"coordinates\":null,\"group\":null},\"id\":\"15583\",\"type\":\"Title\"},{\"attributes\":{\"source\":{\"id\":\"15577\"}},\"id\":\"15582\",\"type\":\"CDSView\"},{\"attributes\":{\"line_alpha\":0.1,\"line_color\":\"#1f77b4\",\"x\":{\"field\":\"x\"},\"y\":{\"field\":\"y\"}},\"id\":\"15573\",\"type\":\"Line\"},{\"attributes\":{\"bottom_units\":\"screen\",\"coordinates\":null,\"fill_alpha\":0.5,\"fill_color\":\"lightgrey\",\"group\":null,\"left_units\":\"screen\",\"level\":\"overlay\",\"line_alpha\":1.0,\"line_color\":\"black\",\"line_dash\":[4,4],\"line_width\":2,\"right_units\":\"screen\",\"syncable\":false,\"top_units\":\"screen\"},\"id\":\"15563\",\"type\":\"BoxAnnotation\"},{\"attributes\":{},\"id\":\"15586\",\"type\":\"BasicTickFormatter\"},{\"attributes\":{},\"id\":\"15557\",\"type\":\"PanTool\"},{\"attributes\":{},\"id\":\"15543\",\"type\":\"DataRange1d\"},{\"attributes\":{\"fill_color\":{\"value\":\"#1f77b4\"},\"line_color\":{\"value\":\"#1f77b4\"},\"size\":{\"value\":7},\"x\":{\"field\":\"x\"},\"y\":{\"field\":\"y\"}},\"id\":\"15578\",\"type\":\"Circle\"},{\"attributes\":{\"overlay\":{\"id\":\"15563\"}},\"id\":\"15559\",\"type\":\"BoxZoomTool\"},{\"attributes\":{},\"id\":\"15593\",\"type\":\"UnionRenderers\"},{\"attributes\":{\"axis_label\":\"[L-QUIS] M\",\"coordinates\":null,\"formatter\":{\"id\":\"15589\"},\"group\":null,\"major_label_policy\":{\"id\":\"15590\"},\"ticker\":{\"id\":\"15550\"}},\"id\":\"15549\",\"type\":\"LogAxis\"},{\"attributes\":{},\"id\":\"15592\",\"type\":\"Selection\"},{\"attributes\":{},\"id\":\"15594\",\"type\":\"Selection\"},{\"attributes\":{},\"id\":\"15590\",\"type\":\"AllLabels\"},{\"attributes\":{\"ticker\":null},\"id\":\"15589\",\"type\":\"LogTickFormatter\"},{\"attributes\":{\"num_minor_ticks\":10},\"id\":\"15550\",\"type\":\"LogTicker\"},{\"attributes\":{\"axis\":{\"id\":\"15549\"},\"coordinates\":null,\"group\":null,\"ticker\":null},\"id\":\"15552\",\"type\":\"Grid\"},{\"attributes\":{\"data\":{\"x\":{\"__ndarray__\":\"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\",\"dtype\":\"float64\",\"order\":\"little\",\"shape\":[200]},\"y\":{\"__ndarray__\":\"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\",\"dtype\":\"float64\",\"order\":\"little\",\"shape\":[200]}},\"selected\":{\"id\":\"15592\"},\"selection_policy\":{\"id\":\"15591\"}},\"id\":\"15571\",\"type\":\"ColumnDataSource\"},{\"attributes\":{\"axis_label\":\"active_probability\",\"coordinates\":null,\"formatter\":{\"id\":\"15586\"},\"group\":null,\"major_label_policy\":{\"id\":\"15587\"},\"ticker\":{\"id\":\"15554\"}},\"id\":\"15553\",\"type\":\"LinearAxis\"}],\"root_ids\":[\"15540\"]},\"title\":\"Bokeh Application\",\"version\":\"2.4.2\"}};\n",
       "  const render_items = [{\"docid\":\"b9bd9b83-813e-4370-9030-0e714bd0dace\",\"root_ids\":[\"15540\"],\"roots\":{\"15540\":\"38d4bc96-148a-4cf1-88eb-76173a817971\"}}];\n",
       "  root.Bokeh.embed.embed_items_notebook(docs_json, render_items);\n",
       "\n",
       "  }\n",
       "  if (root.Bokeh !== undefined) {\n",
       "    embed_document(root);\n",
       "  } else {\n",
       "    let attempts = 0;\n",
       "    const timer = setInterval(function(root) {\n",
       "      if (root.Bokeh !== undefined) {\n",
       "        clearInterval(timer);\n",
       "        embed_document(root);\n",
       "      } else {\n",
       "        attempts++;\n",
       "        if (attempts > 100) {\n",
       "          clearInterval(timer);\n",
       "          console.log(\"Bokeh: ERROR: Unable to run BokehJS code because BokehJS library is missing\");\n",
       "        }\n",
       "      }\n",
       "    }, 10, root)\n",
       "  }\n",
       "})(window);"
      ],
      "application/vnd.bokehjs_exec.v0+json": ""
     },
     "metadata": {
      "application/vnd.bokehjs_exec.v0+json": {
       "id": "15540"
      }
     },
     "output_type": "display_data"
    }
   ],
   "source": [
    "df_both = pd.read_excel('./L-quis+CDPPB.xlsx')\n",
    "\n",
    "\n",
    "#initial parameter for optimization\n",
    "#p0 = np.array([-8,-4])\n",
    "c_agonist, p_active_both = df_both['conc'].values, df_both[0].values/100\n",
    "\n",
    "#optimize kd and energy difference to fit the data\n",
    "#res_pam = scipy.optimize.least_squares(both_resid, p0, args = (res.x[0],res.x[1],c_agonist,4e-7, p_active_pam))\n",
    "\n",
    "curdoc().clear()\n",
    "p = bokeh.plotting.figure(plot_height=600,\n",
    "                         plot_width=600,\n",
    "                         x_axis_label='[L-QUIS] M',\n",
    "                          y_axis_label='active_probability',\n",
    "                          x_axis_type='log')\n",
    "\n",
    "\n",
    "ligand_smooth=np.logspace(-11,-4,200)\n",
    "\n",
    "p.line(ligand_smooth, both_p_active_theory(ligand_smooth, 0,res.x[0], res.x[1], res_pam.x[0], res_pam.x[1]))\n",
    "p.circle(c_agonist, p_active_both, size=7)\n",
    "\n",
    "bokeh.io.show(p);\n"
   ]
  },
  {
   "cell_type": "code",
   "execution_count": 119,
   "id": "04b8f1d9",
   "metadata": {},
   "outputs": [
    {
     "data": {
      "text/html": [
       "\n",
       "\n",
       "\n",
       "\n",
       "\n",
       "\n",
       "  <div class=\"bk-root\" id=\"9928f385-dc83-4834-b547-aed7520ccd4b\" data-root-id=\"17171\"></div>\n"
      ]
     },
     "metadata": {},
     "output_type": "display_data"
    },
    {
     "data": {
      "application/javascript": [
       "(function(root) {\n",
       "  function embed_document(root) {\n",
       "    \n",
       "  const docs_json = {\"6465791f-d11a-4ef1-8edc-60ceb261662c\":{\"defs\":[],\"roots\":{\"references\":[{\"attributes\":{\"below\":[{\"id\":\"17180\"}],\"center\":[{\"id\":\"17183\"},{\"id\":\"17187\"},{\"id\":\"17219\"}],\"left\":[{\"id\":\"17184\"}],\"renderers\":[{\"id\":\"17206\"},{\"id\":\"17225\"},{\"id\":\"17231\"},{\"id\":\"17253\"},{\"id\":\"17259\"},{\"id\":\"17285\"},{\"id\":\"17291\"},{\"id\":\"17321\"}],\"title\":{\"id\":\"17208\"},\"toolbar\":{\"id\":\"17195\"},\"x_range\":{\"id\":\"17172\"},\"x_scale\":{\"id\":\"17176\"},\"y_range\":{\"id\":\"17174\"},\"y_scale\":{\"id\":\"17178\"}},\"id\":\"17171\",\"subtype\":\"Figure\",\"type\":\"Plot\"},{\"attributes\":{\"source\":{\"id\":\"17202\"}},\"id\":\"17207\",\"type\":\"CDSView\"},{\"attributes\":{\"source\":{\"id\":\"17227\"}},\"id\":\"17232\",\"type\":\"CDSView\"},{\"attributes\":{\"overlay\":{\"id\":\"17194\"}},\"id\":\"17190\",\"type\":\"BoxZoomTool\"},{\"attributes\":{},\"id\":\"17215\",\"type\":\"AllLabels\"},{\"attributes\":{\"coordinates\":null,\"group\":null},\"id\":\"17208\",\"type\":\"Title\"},{\"attributes\":{\"coordinates\":null,\"data_source\":{\"id\":\"17202\"},\"glyph\":{\"id\":\"17203\"},\"group\":null,\"hover_glyph\":null,\"muted_glyph\":{\"id\":\"17205\"},\"nonselection_glyph\":{\"id\":\"17204\"},\"view\":{\"id\":\"17207\"}},\"id\":\"17206\",\"type\":\"GlyphRenderer\"},{\"attributes\":{\"label\":{\"value\":\"CDDPB conc: 0nM\"},\"renderers\":[{\"id\":\"17206\"}]},\"id\":\"17220\",\"type\":\"LegendItem\"},{\"attributes\":{\"coordinates\":null,\"group\":null,\"items\":[{\"id\":\"17220\"},{\"id\":\"17248\"},{\"id\":\"17280\"},{\"id\":\"17316\"}],\"location\":\"top_left\"},\"id\":\"17219\",\"type\":\"Legend\"},{\"attributes\":{},\"id\":\"17191\",\"type\":\"SaveTool\"},{\"attributes\":{\"fill_alpha\":{\"value\":0.2},\"fill_color\":{\"value\":\"#1f77b4\"},\"hatch_alpha\":{\"value\":0.2},\"hatch_color\":{\"value\":\"#1f77b4\"},\"line_alpha\":{\"value\":0.2},\"line_color\":{\"value\":\"#1f77b4\"},\"size\":{\"value\":7},\"x\":{\"field\":\"x\"},\"y\":{\"field\":\"y\"}},\"id\":\"17205\",\"type\":\"Circle\"},{\"attributes\":{\"line_alpha\":0.2,\"line_color\":\"#d62728\",\"x\":{\"field\":\"x\"},\"y\":{\"field\":\"y\"}},\"id\":\"17320\",\"type\":\"Line\"},{\"attributes\":{},\"id\":\"17346\",\"type\":\"Selection\"},{\"attributes\":{\"fill_alpha\":{\"value\":0.2},\"fill_color\":{\"value\":\"#ff7f0e\"},\"hatch_alpha\":{\"value\":0.2},\"hatch_color\":{\"value\":\"#ff7f0e\"},\"line_alpha\":{\"value\":0.2},\"line_color\":{\"value\":\"#ff7f0e\"},\"size\":{\"value\":7},\"x\":{\"field\":\"x\"},\"y\":{\"field\":\"y\"}},\"id\":\"17230\",\"type\":\"Circle\"},{\"attributes\":{\"line_color\":\"#d62728\",\"x\":{\"field\":\"x\"},\"y\":{\"field\":\"y\"}},\"id\":\"17318\",\"type\":\"Line\"},{\"attributes\":{\"coordinates\":null,\"data_source\":{\"id\":\"17317\"},\"glyph\":{\"id\":\"17318\"},\"group\":null,\"hover_glyph\":null,\"muted_glyph\":{\"id\":\"17320\"},\"nonselection_glyph\":{\"id\":\"17319\"},\"view\":{\"id\":\"17322\"}},\"id\":\"17321\",\"type\":\"GlyphRenderer\"},{\"attributes\":{\"data\":{\"x\":{\"__ndarray__\":\"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\",\"dtype\":\"float64\",\"order\":\"little\",\"shape\":[200]},\"y\":{\"__ndarray__\":\"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\",\"dtype\":\"float64\",\"order\":\"little\",\"shape\":[200]}},\"selected\":{\"id\":\"17346\"},\"selection_policy\":{\"id\":\"17345\"}},\"id\":\"17317\",\"type\":\"ColumnDataSource\"},{\"attributes\":{},\"id\":\"17217\",\"type\":\"Selection\"},{\"attributes\":{\"source\":{\"id\":\"17317\"}},\"id\":\"17322\",\"type\":\"CDSView\"},{\"attributes\":{\"fill_alpha\":{\"value\":0.1},\"fill_color\":{\"value\":\"#1f77b4\"},\"hatch_alpha\":{\"value\":0.1},\"hatch_color\":{\"value\":\"#1f77b4\"},\"line_alpha\":{\"value\":0.1},\"line_color\":{\"value\":\"#1f77b4\"},\"size\":{\"value\":7},\"x\":{\"field\":\"x\"},\"y\":{\"field\":\"y\"}},\"id\":\"17204\",\"type\":\"Circle\"},{\"attributes\":{\"line_alpha\":0.1,\"line_color\":\"#d62728\",\"x\":{\"field\":\"x\"},\"y\":{\"field\":\"y\"}},\"id\":\"17319\",\"type\":\"Line\"},{\"attributes\":{},\"id\":\"17188\",\"type\":\"PanTool\"},{\"attributes\":{},\"id\":\"17345\",\"type\":\"UnionRenderers\"},{\"attributes\":{},\"id\":\"17216\",\"type\":\"UnionRenderers\"},{\"attributes\":{\"ticker\":null},\"id\":\"17214\",\"type\":\"LogTickFormatter\"},{\"attributes\":{\"fill_color\":{\"value\":\"#ff7f0e\"},\"hatch_color\":{\"value\":\"#ff7f0e\"},\"line_color\":{\"value\":\"#ff7f0e\"},\"size\":{\"value\":7},\"x\":{\"field\":\"x\"},\"y\":{\"field\":\"y\"}},\"id\":\"17228\",\"type\":\"Circle\"},{\"attributes\":{},\"id\":\"17212\",\"type\":\"AllLabels\"},{\"attributes\":{},\"id\":\"17211\",\"type\":\"BasicTickFormatter\"},{\"attributes\":{\"coordinates\":null,\"data_source\":{\"id\":\"17227\"},\"glyph\":{\"id\":\"17228\"},\"group\":null,\"hover_glyph\":null,\"muted_glyph\":{\"id\":\"17230\"},\"nonselection_glyph\":{\"id\":\"17229\"},\"view\":{\"id\":\"17232\"}},\"id\":\"17231\",\"type\":\"GlyphRenderer\"},{\"attributes\":{\"fill_alpha\":{\"value\":0.1},\"fill_color\":{\"value\":\"#ff7f0e\"},\"hatch_alpha\":{\"value\":0.1},\"hatch_color\":{\"value\":\"#ff7f0e\"},\"line_alpha\":{\"value\":0.1},\"line_color\":{\"value\":\"#ff7f0e\"},\"size\":{\"value\":7},\"x\":{\"field\":\"x\"},\"y\":{\"field\":\"y\"}},\"id\":\"17229\",\"type\":\"Circle\"},{\"attributes\":{\"fill_color\":{\"value\":\"#1f77b4\"},\"hatch_color\":{\"value\":\"#1f77b4\"},\"line_color\":{\"value\":\"#1f77b4\"},\"size\":{\"value\":7},\"x\":{\"field\":\"x\"},\"y\":{\"field\":\"y\"}},\"id\":\"17203\",\"type\":\"Circle\"},{\"attributes\":{\"data\":{\"x\":{\"__ndarray__\":\"UW0C9PUhhD5Se2Oa8tdqPquKmykrG1A+bi/p4Y55NT4JESzcEcUZPoa/7ecLLgE+AXRW46ed5D2VZHnhf/2lPVFtAvT1IYQ+UntjmvLXaj6ripspKxtQPm4v6eGOeTU+CREs3BHFGT6Gv+3nCy4BPgF0VuOnneQ9lWR54X/9pT1RbQL09SGEPlJ7Y5ry12o+q4qbKSsbUD5uL+nhjnk1PgkRLNwRxRk+hr/t5wsuAT4BdFbjp53kPZVkeeF//aU9UW0C9PUhhD5Se2Oa8tdqPquKmykrG1A+bi/p4Y55NT4JESzcEcUZPoa/7ecLLgE+AXRW46ed5D2VZHnhf/2lPVFtAvT1IYQ+UntjmvLXaj6ripspKxtQPm4v6eGOeTU+CREs3BHFGT6Gv+3nCy4BPgF0VuOnneQ9lWR54X/9pT0=\",\"dtype\":\"float64\",\"order\":\"little\",\"shape\":[40]},\"y\":{\"__ndarray__\":\"Bp020GkD7T/szopGAr7pP+n0SZ/0Sd8/9MVxHMdxvD8AAAAAAAAAAAAAAAAAAAAAWqmaeFY0cj8AAAAAAAAAAMasaCTgm+c/ccA3ryae5T8SRSMB37zaP+1pJOCbV7M/AAAAAAAAAAAAAAAAAAAAAAAAAAAAAAAAAAAAAAAAAADD9Shcj8LlP+8I+ObVxOM/EkUjAd+82j/taSTgm1ezP1qpmnhWNHI/WqmaeFY0cj8AAAAAAAAAAKzGmnhWNII/LZb8Yskv5j/vCPjm1cTjP8VY8oslv9g/Ab83ryaetT8AAAAAAAAAAFqpmnhWNHI/WqmaeFY0cj8AAAAAAAAAAAQ6baDTBuo/dHd3d3d35z+NXyz5xZLfPyp0+4MMlb0/rMaaeFY0gj9aqZp4VjRyP1qpmnhWNHI/OxvotIFOiz8=\",\"dtype\":\"float64\",\"order\":\"little\",\"shape\":[40]}},\"selected\":{\"id\":\"17217\"},\"selection_policy\":{\"id\":\"17216\"}},\"id\":\"17202\",\"type\":\"ColumnDataSource\"},{\"attributes\":{},\"id\":\"17192\",\"type\":\"ResetTool\"},{\"attributes\":{},\"id\":\"17245\",\"type\":\"UnionRenderers\"},{\"attributes\":{},\"id\":\"17246\",\"type\":\"Selection\"},{\"attributes\":{},\"id\":\"17189\",\"type\":\"WheelZoomTool\"},{\"attributes\":{\"num_minor_ticks\":10},\"id\":\"17181\",\"type\":\"LogTicker\"},{\"attributes\":{\"bottom_units\":\"screen\",\"coordinates\":null,\"fill_alpha\":0.5,\"fill_color\":\"lightgrey\",\"group\":null,\"left_units\":\"screen\",\"level\":\"overlay\",\"line_alpha\":1.0,\"line_color\":\"black\",\"line_dash\":[4,4],\"line_width\":2,\"right_units\":\"screen\",\"syncable\":false,\"top_units\":\"screen\"},\"id\":\"17194\",\"type\":\"BoxAnnotation\"},{\"attributes\":{\"line_color\":\"#1f77b4\",\"x\":{\"field\":\"x\"},\"y\":{\"field\":\"y\"}},\"id\":\"17222\",\"type\":\"Line\"},{\"attributes\":{\"line_alpha\":0.2,\"line_color\":\"#2ca02c\",\"x\":{\"field\":\"x\"},\"y\":{\"field\":\"y\"}},\"id\":\"17284\",\"type\":\"Line\"},{\"attributes\":{\"line_alpha\":0.2,\"line_color\":\"#ff7f0e\",\"x\":{\"field\":\"x\"},\"y\":{\"field\":\"y\"}},\"id\":\"17252\",\"type\":\"Line\"},{\"attributes\":{},\"id\":\"17193\",\"type\":\"HelpTool\"},{\"attributes\":{\"label\":{\"value\":\"CDDPB conc: 400nM\"},\"renderers\":[{\"id\":\"17231\"}]},\"id\":\"17248\",\"type\":\"LegendItem\"},{\"attributes\":{\"data\":{\"x\":{\"__ndarray__\":\"UW0C9PUhhD5Se2Oa8tdqPquKmykrG1A+bi/p4Y55NT4JESzcEcUZPoa/7ecLLgE+AXRW46ed5D2VZHnhf/2lPVFtAvT1IYQ+UntjmvLXaj6ripspKxtQPm4v6eGOeTU+CREs3BHFGT6Gv+3nCy4BPgF0VuOnneQ9lWR54X/9pT1RbQL09SGEPlJ7Y5ry12o+q4qbKSsbUD5uL+nhjnk1PgkRLNwRxRk+hr/t5wsuAT4BdFbjp53kPZVkeeF//aU9UW0C9PUhhD5Se2Oa8tdqPquKmykrG1A+bi/p4Y55NT4JESzcEcUZPoa/7ecLLgE+AXRW46ed5D2VZHnhf/2lPVFtAvT1IYQ+UntjmvLXaj6ripspKxtQPm4v6eGOeTU+CREs3BHFGT6Gv+3nCy4BPgF0VuOnneQ9lWR54X/9pT0=\",\"dtype\":\"float64\",\"order\":\"little\",\"shape\":[40]},\"y\":{\"__ndarray__\":\"BDptoNMG6j+BLrc/yFDpP6qKRgK+eeU/oQcZKjtM3T8byw5Tl9vPPySW/GLJL8Y/i72aeFY0wj9M5tXEs6LBPwQ6baDTBuo/XAyVHaYu5z8RdNpApw3kP7GwBVuwBds//EUjAd+8yj8FERERERHBPyp0+4MMlb0/9MVxHMdxvD8AAAAAAADwPwpUdpi63O4/BDptoNMG6j8OERERERHhPzHQaQOdNtA/TObVxLOiwT8qdPuDDJW9P2Yb6LSBTrs/j0UjAd+86j+k7Q8yVHboP3HAN68mnuU//Zw20GkD3T/gbl5NPCvKP0bJDlOX278/ZhvotIFOuz/pF0t+seS3P8kPMlR2mOo/3cPU5fYH6T9xwDevJp7lP+Td3d3d3d0/MdBpA5020D+qQobKDlPHP9KSXyz5xcI/wely+4MMxT8=\",\"dtype\":\"float64\",\"order\":\"little\",\"shape\":[40]}},\"selected\":{\"id\":\"17314\"},\"selection_policy\":{\"id\":\"17313\"}},\"id\":\"17287\",\"type\":\"ColumnDataSource\"},{\"attributes\":{},\"id\":\"17178\",\"type\":\"LinearScale\"},{\"attributes\":{\"line_color\":\"#2ca02c\",\"x\":{\"field\":\"x\"},\"y\":{\"field\":\"y\"}},\"id\":\"17282\",\"type\":\"Line\"},{\"attributes\":{\"coordinates\":null,\"data_source\":{\"id\":\"17281\"},\"glyph\":{\"id\":\"17282\"},\"group\":null,\"hover_glyph\":null,\"muted_glyph\":{\"id\":\"17284\"},\"nonselection_glyph\":{\"id\":\"17283\"},\"view\":{\"id\":\"17286\"}},\"id\":\"17285\",\"type\":\"GlyphRenderer\"},{\"attributes\":{\"data\":{\"x\":{\"__ndarray__\":\"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\",\"dtype\":\"float64\",\"order\":\"little\",\"shape\":[200]},\"y\":{\"__ndarray__\":\"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\",\"dtype\":\"float64\",\"order\":\"little\",\"shape\":[200]}},\"selected\":{\"id\":\"17312\"},\"selection_policy\":{\"id\":\"17311\"}},\"id\":\"17281\",\"type\":\"ColumnDataSource\"},{\"attributes\":{\"line_color\":\"#ff7f0e\",\"x\":{\"field\":\"x\"},\"y\":{\"field\":\"y\"}},\"id\":\"17250\",\"type\":\"Line\"},{\"attributes\":{\"fill_color\":{\"value\":\"#d62728\"},\"hatch_color\":{\"value\":\"#d62728\"},\"line_color\":{\"value\":\"#d62728\"},\"size\":{\"value\":7},\"x\":{\"field\":\"x\"},\"y\":{\"field\":\"y\"}},\"id\":\"17288\",\"type\":\"Circle\"},{\"attributes\":{\"coordinates\":null,\"data_source\":{\"id\":\"17249\"},\"glyph\":{\"id\":\"17250\"},\"group\":null,\"hover_glyph\":null,\"muted_glyph\":{\"id\":\"17252\"},\"nonselection_glyph\":{\"id\":\"17251\"},\"view\":{\"id\":\"17254\"}},\"id\":\"17253\",\"type\":\"GlyphRenderer\"},{\"attributes\":{\"axis\":{\"id\":\"17184\"},\"coordinates\":null,\"dimension\":1,\"group\":null,\"ticker\":null},\"id\":\"17187\",\"type\":\"Grid\"},{\"attributes\":{\"data\":{\"x\":{\"__ndarray__\":\"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\",\"dtype\":\"float64\",\"order\":\"little\",\"shape\":[200]},\"y\":{\"__ndarray__\":\"ml9A6OLFkT86VWwkm8aRP3Z7O+9ix5E/1ftOmTvIkT+SycqPJsmRP7Jiwl4lypE/+8/asznLkT9JiSZhZcyRP7ROQGCqzZE/wXyq1QrPkT8v4ngUidCRPwGsS6In0pE/25aiO+nTkT8LQJDY0NWRP/Ar1rHh15E/UuZyRh/akT8ChaxhjdyRP63QoiEw35E/km11/gvikT/lkAvSJeWRP+ojjOCC6JE/O6+W4SjskT+oCk8KHvCRPx2gTxhp9JE/gBWYXRH5kT9OcpDNHv6RP1taOwuaA5I/Qca0eIwJkj+Fxx1IABCSPyptGY4AF5I/ANICVpkekj8V0Ai41yaSP3/VYPHJL5I/y/nHfn85kj9pz485CUSSP+mbe3d5T5I/wsK6LeRbkj/mYVYXX2mSPxiPct8BeJI/tnvPT+aHkj+0OASEKJmSP4Ue/CHnq5I/eENRmEPAkj+/OTJjYtaSPw7fl1hr7pI/PL6p/IkIkz8K00zf7SSTP4bp+QPLQ5M/0egeVVplkz/PwHkk2omTP/wiDbqOsZM/VXaH88Lckz+TdzT2yAuUP1iq2vX6PpQ/UjQ4E7x2lD9ZEjBVebOUP8gCIsCq9ZQ/ZTtej9Q9lT8lSSuViIyVP3Z5acZn4pU/4feE9yNAlj+RLR/RgaaWP5paoQNbFpc/d6vFwaCQlz8PNxCLXhaYP8srLFC9qJg/dyUn/AZJmT81Jo9uqviZP971ffM/uZo/Od6RR46Mmz8s5aU2kHScP1NzsuR6c50/YDp60MSLnj86f1ufLcCfPy40SmDjiaA/xJsdev5EoT9Hc2BfUROiP6MKUOb99qI/DT0roWTyoz/gsyp1KwilP+jbPpJEO6Y/R74VtPWOpz/vkfWI3wapP7pI4QsFp6o/tsnUjNJzrD93B1gLJHKuP7EQhTalU7A/PkCffYeMsT+F5Ho42uayPy3UWV/6ZbQ/wvEXQ30Ntj+1agqYKuG3P8EJYzPz5Lk/F3983OMcvD9lQ92aE42+Py2Qn4DGnMA/WgclERkTwj9wBZ6QTavDP2rWGdn3ZsU/edSaLV5Hxz9bFP1tYk3JP3nRkuJqecs/xrm780vLzT9arJMyGiHQP+tuCetObtE/3Y0ZpSHM0j/8F5WnDznUPzdIhnU5s9U/o55K8mo41z8HXQsZKMbYP6OHisO9Wdo/bz0Vl1Xw2z/BpoLdC4fdP7Vm598FG98/MFA3qMNU4D84iae4AhjhPwMTCHUb1uE/63WDyw+O4j/1tZYBDD/jPzhwO05o6OM/swO1gaiJ5D+Av4sIeiLlP1aP+qewsuU/jJIWV0I65j/VhFuTQrnmP7VA1oPdL+c/O33CLlOe5z9++KT08gToPx1srHMXZOg/LOa+5yK86D892cAPfA3pPxMPjpeLWOk/ukGq/7md6T/pk4r3bd3pP5g3FR0LGOo/S/gfE/FN6j9fg+jgen/qP+MmYY3+rOo/9D5z6szW6j84FNCFMf3qP+Jja7ZyIOs/O8suv9FA6z9rcMsAi17rP+ZrvzXWees/NMSrtOaS6z9Cyva166nrP4b1b5oQv+s/etFBMX3S6z/Rafj7VeTrPyY7w2+89Os/VBtlM88D7D/AhX5ZqhHsPyCCCpdnHuw/DMUGdh4q7D9aD1eE5DTsPwspBH/NPuw/t7kBeutH7D8o/qwET1DsPxH7OUsHWOw/UiBGNSJf7D8d/MaBrGXsP7wfiuCxa+w/dxJ5CT1x7D/Ya9HRV3bsP84jfj8Le+w/n/27ml9/7D9Axy9+XIPsPz0NkuUIh+w/TuoQO2uK7D8uyYVjiY3sP1BMmslokOw/NBz1Zw6T7D+/GoXSfpXsP4lm/z6+l+w/xbOijNCZ7D+mxVBLuZvsP/1ADcJ7new/+6Pv9Bqf7D9j5JSqmaDsP8QKHHH6oew/0BK4oj+j7D8MZeBpa6TsP2dhKMV/pew/R6vFin6m7D+vM8xraafsP79bJvdBqOw/AfdOnAmp7D8gcNKtwansP9Dam2Nrquw/xlAS3Qer7D9slQojmKvsP6iikCkdrOw/R3CM0Zes7D8X/kTqCK3sPzlmxDJxrew/YoAfW9Gt7D/nZ6MFKq7sPwYE68d7ruw/U4TeK8eu7D98mZ6wDK/sPw==\",\"dtype\":\"float64\",\"order\":\"little\",\"shape\":[200]}},\"selected\":{\"id\":\"17276\"},\"selection_policy\":{\"id\":\"17275\"}},\"id\":\"17249\",\"type\":\"ColumnDataSource\"},{\"attributes\":{\"source\":{\"id\":\"17281\"}},\"id\":\"17286\",\"type\":\"CDSView\"},{\"attributes\":{},\"id\":\"17174\",\"type\":\"DataRange1d\"},{\"attributes\":{\"fill_color\":{\"value\":\"#2ca02c\"},\"hatch_color\":{\"value\":\"#2ca02c\"},\"line_color\":{\"value\":\"#2ca02c\"},\"size\":{\"value\":7},\"x\":{\"field\":\"x\"},\"y\":{\"field\":\"y\"}},\"id\":\"17256\",\"type\":\"Circle\"},{\"attributes\":{\"line_alpha\":0.1,\"line_color\":\"#2ca02c\",\"x\":{\"field\":\"x\"},\"y\":{\"field\":\"y\"}},\"id\":\"17283\",\"type\":\"Line\"},{\"attributes\":{\"source\":{\"id\":\"17249\"}},\"id\":\"17254\",\"type\":\"CDSView\"},{\"attributes\":{\"line_alpha\":0.1,\"line_color\":\"#ff7f0e\",\"x\":{\"field\":\"x\"},\"y\":{\"field\":\"y\"}},\"id\":\"17251\",\"type\":\"Line\"},{\"attributes\":{\"data\":{\"x\":{\"__ndarray__\":\"UW0C9PUhhD5Se2Oa8tdqPquKmykrG1A+bi/p4Y55NT4JESzcEcUZPoa/7ecLLgE+AXRW46ed5D2VZHnhf/2lPVFtAvT1IYQ+UntjmvLXaj6ripspKxtQPm4v6eGOeTU+CREs3BHFGT6Gv+3nCy4BPgF0VuOnneQ9lWR54X/9pT1RbQL09SGEPlJ7Y5ry12o+q4qbKSsbUD5uL+nhjnk1PgkRLNwRxRk+hr/t5wsuAT4BdFbjp53kPZVkeeF//aU9UW0C9PUhhD5Se2Oa8tdqPquKmykrG1A+bi/p4Y55NT4JESzcEcUZPoa/7ecLLgE+AXRW46ed5D2VZHnhf/2lPVFtAvT1IYQ+UntjmvLXaj6ripspKxtQPm4v6eGOeTU+CREs3BHFGT6Gv+3nCy4BPgF0VuOnneQ9lWR54X/9pT0=\",\"dtype\":\"float64\",\"order\":\"little\",\"shape\":[40]},\"y\":{\"__ndarray__\":\"bYbKDlOX6z8v+cWSXyzpP+H9QYbKDuM/T1VVVVVV1T/YcF5NPCu6P3sUrkfheqQ/Ub+aeFY0oj97FK5H4XqkP6A20GkDneY/ccA3ryae5T/p9Emf9EnfP//zSZ/0Sc8/ExERERERsT87G+i0gU6LP1qpmnhWNHI/AAAAAAAAAAB0d3d3d3fnP6qKRgK+eeU/pHA9Ctej4D8DaSTgm1fTP/TFcRzHcbw/LsbU5fYHqT8FccEWbMGWP6zFDlOX258/gS63P8hQ6T/GrGgk4JvnP+H9QYbKDuM/PQR882ri2T/gbl5NPCvKP0bJDlOX278/ZhvotIFOuz/YcF5NPCu6P5qZmZmZmek/6BdLfrHk5z+d0wY6baDjP8VY8oslv9g/JJb8Yskvxj8BvzevJp61P1dw+4MMla0/LsbU5fYHqT8=\",\"dtype\":\"float64\",\"order\":\"little\",\"shape\":[40]}},\"selected\":{\"id\":\"17278\"},\"selection_policy\":{\"id\":\"17277\"}},\"id\":\"17255\",\"type\":\"ColumnDataSource\"},{\"attributes\":{\"fill_alpha\":{\"value\":0.1},\"fill_color\":{\"value\":\"#d62728\"},\"hatch_alpha\":{\"value\":0.1},\"hatch_color\":{\"value\":\"#d62728\"},\"line_alpha\":{\"value\":0.1},\"line_color\":{\"value\":\"#d62728\"},\"size\":{\"value\":7},\"x\":{\"field\":\"x\"},\"y\":{\"field\":\"y\"}},\"id\":\"17289\",\"type\":\"Circle\"},{\"attributes\":{\"fill_alpha\":{\"value\":0.1},\"fill_color\":{\"value\":\"#2ca02c\"},\"hatch_alpha\":{\"value\":0.1},\"hatch_color\":{\"value\":\"#2ca02c\"},\"line_alpha\":{\"value\":0.1},\"line_color\":{\"value\":\"#2ca02c\"},\"size\":{\"value\":7},\"x\":{\"field\":\"x\"},\"y\":{\"field\":\"y\"}},\"id\":\"17257\",\"type\":\"Circle\"},{\"attributes\":{\"source\":{\"id\":\"17287\"}},\"id\":\"17292\",\"type\":\"CDSView\"},{\"attributes\":{\"line_alpha\":0.2,\"line_color\":\"#1f77b4\",\"x\":{\"field\":\"x\"},\"y\":{\"field\":\"y\"}},\"id\":\"17224\",\"type\":\"Line\"},{\"attributes\":{\"label\":{\"value\":\"CDDPB conc: 10000nM\"},\"renderers\":[{\"id\":\"17291\"}]},\"id\":\"17316\",\"type\":\"LegendItem\"},{\"attributes\":{\"coordinates\":null,\"data_source\":{\"id\":\"17287\"},\"glyph\":{\"id\":\"17288\"},\"group\":null,\"hover_glyph\":null,\"muted_glyph\":{\"id\":\"17290\"},\"nonselection_glyph\":{\"id\":\"17289\"},\"view\":{\"id\":\"17292\"}},\"id\":\"17291\",\"type\":\"GlyphRenderer\"},{\"attributes\":{\"source\":{\"id\":\"17255\"}},\"id\":\"17260\",\"type\":\"CDSView\"},{\"attributes\":{\"fill_alpha\":{\"value\":0.2},\"fill_color\":{\"value\":\"#d62728\"},\"hatch_alpha\":{\"value\":0.2},\"hatch_color\":{\"value\":\"#d62728\"},\"line_alpha\":{\"value\":0.2},\"line_color\":{\"value\":\"#d62728\"},\"size\":{\"value\":7},\"x\":{\"field\":\"x\"},\"y\":{\"field\":\"y\"}},\"id\":\"17290\",\"type\":\"Circle\"},{\"attributes\":{},\"id\":\"17275\",\"type\":\"UnionRenderers\"},{\"attributes\":{\"coordinates\":null,\"data_source\":{\"id\":\"17255\"},\"glyph\":{\"id\":\"17256\"},\"group\":null,\"hover_glyph\":null,\"muted_glyph\":{\"id\":\"17258\"},\"nonselection_glyph\":{\"id\":\"17257\"},\"view\":{\"id\":\"17260\"}},\"id\":\"17259\",\"type\":\"GlyphRenderer\"},{\"attributes\":{\"coordinates\":null,\"data_source\":{\"id\":\"17221\"},\"glyph\":{\"id\":\"17222\"},\"group\":null,\"hover_glyph\":null,\"muted_glyph\":{\"id\":\"17224\"},\"nonselection_glyph\":{\"id\":\"17223\"},\"view\":{\"id\":\"17226\"}},\"id\":\"17225\",\"type\":\"GlyphRenderer\"},{\"attributes\":{\"fill_alpha\":{\"value\":0.2},\"fill_color\":{\"value\":\"#2ca02c\"},\"hatch_alpha\":{\"value\":0.2},\"hatch_color\":{\"value\":\"#2ca02c\"},\"line_alpha\":{\"value\":0.2},\"line_color\":{\"value\":\"#2ca02c\"},\"size\":{\"value\":7},\"x\":{\"field\":\"x\"},\"y\":{\"field\":\"y\"}},\"id\":\"17258\",\"type\":\"Circle\"},{\"attributes\":{},\"id\":\"17312\",\"type\":\"Selection\"},{\"attributes\":{\"data\":{\"x\":{\"__ndarray__\":\"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\",\"dtype\":\"float64\",\"order\":\"little\",\"shape\":[200]},\"y\":{\"__ndarray__\":\"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\",\"dtype\":\"float64\",\"order\":\"little\",\"shape\":[200]}},\"selected\":{\"id\":\"17244\"},\"selection_policy\":{\"id\":\"17243\"}},\"id\":\"17221\",\"type\":\"ColumnDataSource\"},{\"attributes\":{\"tools\":[{\"id\":\"17188\"},{\"id\":\"17189\"},{\"id\":\"17190\"},{\"id\":\"17191\"},{\"id\":\"17192\"},{\"id\":\"17193\"}]},\"id\":\"17195\",\"type\":\"Toolbar\"},{\"attributes\":{\"source\":{\"id\":\"17221\"}},\"id\":\"17226\",\"type\":\"CDSView\"},{\"attributes\":{\"label\":{\"value\":\"CDDPB conc: 2000nM\"},\"renderers\":[{\"id\":\"17259\"}]},\"id\":\"17280\",\"type\":\"LegendItem\"},{\"attributes\":{\"line_alpha\":0.1,\"line_color\":\"#1f77b4\",\"x\":{\"field\":\"x\"},\"y\":{\"field\":\"y\"}},\"id\":\"17223\",\"type\":\"Line\"},{\"attributes\":{\"data\":{\"x\":{\"__ndarray__\":\"UW0C9PUhhD5Se2Oa8tdqPquKmykrG1A+bi/p4Y55NT4JESzcEcUZPoa/7ecLLgE+AXRW46ed5D2VZHnhf/2lPVFtAvT1IYQ+UntjmvLXaj6ripspKxtQPm4v6eGOeTU+CREs3BHFGT6Gv+3nCy4BPgF0VuOnneQ9lWR54X/9pT1RbQL09SGEPlJ7Y5ry12o+q4qbKSsbUD5uL+nhjnk1PgkRLNwRxRk+hr/t5wsuAT4BdFbjp53kPZVkeeF//aU9UW0C9PUhhD5Se2Oa8tdqPquKmykrG1A+bi/p4Y55NT4JESzcEcUZPoa/7ecLLgE+AXRW46ed5D2VZHnhf/2lPVFtAvT1IYQ+UntjmvLXaj6ripspKxtQPm4v6eGOeTU+CREs3BHFGT6Gv+3nCy4BPgF0VuOnneQ9lWR54X/9pT0=\",\"dtype\":\"float64\",\"order\":\"little\",\"shape\":[40]},\"y\":{\"__ndarray__\":\"5TFUdpi67D8OjuM4juPoP4wFW7AFW+A/BRERERERwT9aqZp4VjRyPwAAAAAAAAAAAAAAAAAAAAClGui0gU57P04B37yaeOY/Y6nL7Q8y5D+xsAVbsAXbP2nC1OX2B7k/WqmaeFY0cj8AAAAAAAAAAFqpmnhWNHI/AAAAAAAAAABOAd+8mnjmP78+6ZM+6eM/btpApw102j8qdPuDDJW9PwAAAAAAAAAAAAAAAAAAAAAAAAAAAAAAAAAAAAAAAAAA8mvBFmzB5j/NSZ/0SZ/kP/iFyg5Tl9s/4G5eTTwryj/9zA5Tl9uvPzsb6LSBTos/WqmaeFY0cj87G+i0gU6LPwCDLdiCLeg/w/UoXI/C5T8UtKKRgG/eP93AN68mnsU/DriaeFY0kj8AAAAAAAAAAAAAAAAAAAAAOxvotIFOiz8=\",\"dtype\":\"float64\",\"order\":\"little\",\"shape\":[40]}},\"selected\":{\"id\":\"17246\"},\"selection_policy\":{\"id\":\"17245\"}},\"id\":\"17227\",\"type\":\"ColumnDataSource\"},{\"attributes\":{},\"id\":\"17311\",\"type\":\"UnionRenderers\"},{\"attributes\":{},\"id\":\"17244\",\"type\":\"Selection\"},{\"attributes\":{},\"id\":\"17172\",\"type\":\"DataRange1d\"},{\"attributes\":{\"axis\":{\"id\":\"17180\"},\"coordinates\":null,\"group\":null,\"ticker\":null},\"id\":\"17183\",\"type\":\"Grid\"},{\"attributes\":{},\"id\":\"17276\",\"type\":\"Selection\"},{\"attributes\":{\"axis_label\":\"active_probability\",\"coordinates\":null,\"formatter\":{\"id\":\"17211\"},\"group\":null,\"major_label_policy\":{\"id\":\"17212\"},\"ticker\":{\"id\":\"17185\"}},\"id\":\"17184\",\"type\":\"LinearAxis\"},{\"attributes\":{\"axis_label\":\"[L-Quis] M\",\"coordinates\":null,\"formatter\":{\"id\":\"17214\"},\"group\":null,\"major_label_policy\":{\"id\":\"17215\"},\"ticker\":{\"id\":\"17181\"}},\"id\":\"17180\",\"type\":\"LogAxis\"},{\"attributes\":{},\"id\":\"17243\",\"type\":\"UnionRenderers\"},{\"attributes\":{},\"id\":\"17176\",\"type\":\"LogScale\"},{\"attributes\":{},\"id\":\"17185\",\"type\":\"BasicTicker\"},{\"attributes\":{},\"id\":\"17313\",\"type\":\"UnionRenderers\"},{\"attributes\":{},\"id\":\"17277\",\"type\":\"UnionRenderers\"},{\"attributes\":{},\"id\":\"17314\",\"type\":\"Selection\"},{\"attributes\":{},\"id\":\"17278\",\"type\":\"Selection\"}],\"root_ids\":[\"17171\"]},\"title\":\"Bokeh Application\",\"version\":\"2.4.2\"}};\n",
       "  const render_items = [{\"docid\":\"6465791f-d11a-4ef1-8edc-60ceb261662c\",\"root_ids\":[\"17171\"],\"roots\":{\"17171\":\"9928f385-dc83-4834-b547-aed7520ccd4b\"}}];\n",
       "  root.Bokeh.embed.embed_items_notebook(docs_json, render_items);\n",
       "\n",
       "  }\n",
       "  if (root.Bokeh !== undefined) {\n",
       "    embed_document(root);\n",
       "  } else {\n",
       "    let attempts = 0;\n",
       "    const timer = setInterval(function(root) {\n",
       "      if (root.Bokeh !== undefined) {\n",
       "        clearInterval(timer);\n",
       "        embed_document(root);\n",
       "      } else {\n",
       "        attempts++;\n",
       "        if (attempts > 100) {\n",
       "          clearInterval(timer);\n",
       "          console.log(\"Bokeh: ERROR: Unable to run BokehJS code because BokehJS library is missing\");\n",
       "        }\n",
       "      }\n",
       "    }, 10, root)\n",
       "  }\n",
       "})(window);"
      ],
      "application/vnd.bokehjs_exec.v0+json": ""
     },
     "metadata": {
      "application/vnd.bokehjs_exec.v0+json": {
       "id": "17171"
      }
     },
     "output_type": "display_data"
    }
   ],
   "source": [
    "df_both = pd.read_excel('./L-quis+CDPPB.xlsx')\n",
    "\n",
    "\n",
    "colors=bokeh.palettes.d3['Category10'][10]\n",
    "\n",
    "\n",
    "curdoc().clear()\n",
    "p = bokeh.plotting.figure(plot_height=600,\n",
    "                         plot_width=600,\n",
    "                         x_axis_label='[L-Quis] M',\n",
    "                          y_axis_label='active_probability',\n",
    "                          x_axis_type='log')\n",
    "\n",
    "\n",
    "ligand_smooth=np.logspace(-12,-5,200)\n",
    "\n",
    "for i,CDPPBconc in enumerate(df_both.columns[1:]):\n",
    "    c, p_active = df_both['conc'].values, df_both[CDPPBconc].values/100\n",
    "    p.circle(c, p_active, size=7, color=colors[i],legend_label='CDDPB conc: '+str(CDPPBconc)+'nM')\n",
    "    p.line(ligand_smooth, both_p_active_theory(ligand_smooth, CDPPBconc*1e-09, res.x[0],res.x[1], -6.3, -4.8), color=colors[i])\n",
    "\n",
    "p.legend.location = \"top_left\"\n",
    "bokeh.io.show(p);"
   ]
  },
  {
   "cell_type": "code",
   "execution_count": 18,
   "id": "e7c80f12",
   "metadata": {},
   "outputs": [
    {
     "name": "stdout",
     "output_type": "stream",
     "text": [
      "0\n",
      "<class 'int'>\n",
      "400\n",
      "<class 'int'>\n",
      "2000\n",
      "<class 'int'>\n",
      "10000\n",
      "<class 'int'>\n"
     ]
    }
   ],
   "source": [
    "for i,CDPPBconc in enumerate(df_both.columns[1:]):\n",
    "    print(CDPPBconc)\n",
    "    print(type(CDPPBconc))"
   ]
  },
  {
   "cell_type": "code",
   "execution_count": 32,
   "id": "8aab2b27",
   "metadata": {},
   "outputs": [
    {
     "data": {
      "text/plain": [
       "1e-05"
      ]
     },
     "execution_count": 32,
     "metadata": {},
     "output_type": "execute_result"
    }
   ],
   "source": [
    "10000*1e-9"
   ]
  },
  {
   "cell_type": "code",
   "execution_count": 138,
   "id": "1c806a8a",
   "metadata": {},
   "outputs": [
    {
     "data": {
      "text/plain": [
       "1e-05"
      ]
     },
     "execution_count": 138,
     "metadata": {},
     "output_type": "execute_result"
    }
   ],
   "source": [
    "10000*10**(-9)"
   ]
  },
  {
   "cell_type": "code",
   "execution_count": 139,
   "id": "b6cb21b8",
   "metadata": {},
   "outputs": [
    {
     "data": {
      "text/plain": [
       "1e-05"
      ]
     },
     "execution_count": 139,
     "metadata": {},
     "output_type": "execute_result"
    }
   ],
   "source": [
    "1e-05"
   ]
  },
  {
   "cell_type": "code",
   "execution_count": null,
   "id": "eda3bf3a",
   "metadata": {},
   "outputs": [],
   "source": []
  }
 ],
 "metadata": {
  "kernelspec": {
   "display_name": "Python 3 (ipykernel)",
   "language": "python",
   "name": "python3"
  },
  "language_info": {
   "codemirror_mode": {
    "name": "ipython",
    "version": 3
   },
   "file_extension": ".py",
   "mimetype": "text/x-python",
   "name": "python",
   "nbconvert_exporter": "python",
   "pygments_lexer": "ipython3",
   "version": "3.8.11"
  }
 },
 "nbformat": 4,
 "nbformat_minor": 5
}
