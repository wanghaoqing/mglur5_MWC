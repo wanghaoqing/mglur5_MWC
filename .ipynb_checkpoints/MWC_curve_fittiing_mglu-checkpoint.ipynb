{
 "cells": [
  {
   "cell_type": "code",
   "execution_count": 1,
   "id": "76a0baa9",
   "metadata": {},
   "outputs": [
    {
     "data": {
      "text/html": [
       "\n",
       "    <div class=\"bk-root\">\n",
       "        <a href=\"https://bokeh.org\" target=\"_blank\" class=\"bk-logo bk-logo-small bk-logo-notebook\"></a>\n",
       "        <span id=\"1002\">Loading BokehJS ...</span>\n",
       "    </div>"
      ]
     },
     "metadata": {},
     "output_type": "display_data"
    },
    {
     "data": {
      "application/javascript": [
       "\n",
       "(function(root) {\n",
       "  function now() {\n",
       "    return new Date();\n",
       "  }\n",
       "\n",
       "  var force = true;\n",
       "\n",
       "  if (typeof root._bokeh_onload_callbacks === \"undefined\" || force === true) {\n",
       "    root._bokeh_onload_callbacks = [];\n",
       "    root._bokeh_is_loading = undefined;\n",
       "  }\n",
       "\n",
       "  var JS_MIME_TYPE = 'application/javascript';\n",
       "  var HTML_MIME_TYPE = 'text/html';\n",
       "  var EXEC_MIME_TYPE = 'application/vnd.bokehjs_exec.v0+json';\n",
       "  var CLASS_NAME = 'output_bokeh rendered_html';\n",
       "\n",
       "  /**\n",
       "   * Render data to the DOM node\n",
       "   */\n",
       "  function render(props, node) {\n",
       "    var script = document.createElement(\"script\");\n",
       "    node.appendChild(script);\n",
       "  }\n",
       "\n",
       "  /**\n",
       "   * Handle when an output is cleared or removed\n",
       "   */\n",
       "  function handleClearOutput(event, handle) {\n",
       "    var cell = handle.cell;\n",
       "\n",
       "    var id = cell.output_area._bokeh_element_id;\n",
       "    var server_id = cell.output_area._bokeh_server_id;\n",
       "    // Clean up Bokeh references\n",
       "    if (id != null && id in Bokeh.index) {\n",
       "      Bokeh.index[id].model.document.clear();\n",
       "      delete Bokeh.index[id];\n",
       "    }\n",
       "\n",
       "    if (server_id !== undefined) {\n",
       "      // Clean up Bokeh references\n",
       "      var cmd = \"from bokeh.io.state import curstate; print(curstate().uuid_to_server['\" + server_id + \"'].get_sessions()[0].document.roots[0]._id)\";\n",
       "      cell.notebook.kernel.execute(cmd, {\n",
       "        iopub: {\n",
       "          output: function(msg) {\n",
       "            var id = msg.content.text.trim();\n",
       "            if (id in Bokeh.index) {\n",
       "              Bokeh.index[id].model.document.clear();\n",
       "              delete Bokeh.index[id];\n",
       "            }\n",
       "          }\n",
       "        }\n",
       "      });\n",
       "      // Destroy server and session\n",
       "      var cmd = \"import bokeh.io.notebook as ion; ion.destroy_server('\" + server_id + \"')\";\n",
       "      cell.notebook.kernel.execute(cmd);\n",
       "    }\n",
       "  }\n",
       "\n",
       "  /**\n",
       "   * Handle when a new output is added\n",
       "   */\n",
       "  function handleAddOutput(event, handle) {\n",
       "    var output_area = handle.output_area;\n",
       "    var output = handle.output;\n",
       "\n",
       "    // limit handleAddOutput to display_data with EXEC_MIME_TYPE content only\n",
       "    if ((output.output_type != \"display_data\") || (!Object.prototype.hasOwnProperty.call(output.data, EXEC_MIME_TYPE))) {\n",
       "      return\n",
       "    }\n",
       "\n",
       "    var toinsert = output_area.element.find(\".\" + CLASS_NAME.split(' ')[0]);\n",
       "\n",
       "    if (output.metadata[EXEC_MIME_TYPE][\"id\"] !== undefined) {\n",
       "      toinsert[toinsert.length - 1].firstChild.textContent = output.data[JS_MIME_TYPE];\n",
       "      // store reference to embed id on output_area\n",
       "      output_area._bokeh_element_id = output.metadata[EXEC_MIME_TYPE][\"id\"];\n",
       "    }\n",
       "    if (output.metadata[EXEC_MIME_TYPE][\"server_id\"] !== undefined) {\n",
       "      var bk_div = document.createElement(\"div\");\n",
       "      bk_div.innerHTML = output.data[HTML_MIME_TYPE];\n",
       "      var script_attrs = bk_div.children[0].attributes;\n",
       "      for (var i = 0; i < script_attrs.length; i++) {\n",
       "        toinsert[toinsert.length - 1].firstChild.setAttribute(script_attrs[i].name, script_attrs[i].value);\n",
       "        toinsert[toinsert.length - 1].firstChild.textContent = bk_div.children[0].textContent\n",
       "      }\n",
       "      // store reference to server id on output_area\n",
       "      output_area._bokeh_server_id = output.metadata[EXEC_MIME_TYPE][\"server_id\"];\n",
       "    }\n",
       "  }\n",
       "\n",
       "  function register_renderer(events, OutputArea) {\n",
       "\n",
       "    function append_mime(data, metadata, element) {\n",
       "      // create a DOM node to render to\n",
       "      var toinsert = this.create_output_subarea(\n",
       "        metadata,\n",
       "        CLASS_NAME,\n",
       "        EXEC_MIME_TYPE\n",
       "      );\n",
       "      this.keyboard_manager.register_events(toinsert);\n",
       "      // Render to node\n",
       "      var props = {data: data, metadata: metadata[EXEC_MIME_TYPE]};\n",
       "      render(props, toinsert[toinsert.length - 1]);\n",
       "      element.append(toinsert);\n",
       "      return toinsert\n",
       "    }\n",
       "\n",
       "    /* Handle when an output is cleared or removed */\n",
       "    events.on('clear_output.CodeCell', handleClearOutput);\n",
       "    events.on('delete.Cell', handleClearOutput);\n",
       "\n",
       "    /* Handle when a new output is added */\n",
       "    events.on('output_added.OutputArea', handleAddOutput);\n",
       "\n",
       "    /**\n",
       "     * Register the mime type and append_mime function with output_area\n",
       "     */\n",
       "    OutputArea.prototype.register_mime_type(EXEC_MIME_TYPE, append_mime, {\n",
       "      /* Is output safe? */\n",
       "      safe: true,\n",
       "      /* Index of renderer in `output_area.display_order` */\n",
       "      index: 0\n",
       "    });\n",
       "  }\n",
       "\n",
       "  // register the mime type if in Jupyter Notebook environment and previously unregistered\n",
       "  if (root.Jupyter !== undefined) {\n",
       "    var events = require('base/js/events');\n",
       "    var OutputArea = require('notebook/js/outputarea').OutputArea;\n",
       "\n",
       "    if (OutputArea.prototype.mime_types().indexOf(EXEC_MIME_TYPE) == -1) {\n",
       "      register_renderer(events, OutputArea);\n",
       "    }\n",
       "  }\n",
       "\n",
       "  \n",
       "  if (typeof (root._bokeh_timeout) === \"undefined\" || force === true) {\n",
       "    root._bokeh_timeout = Date.now() + 5000;\n",
       "    root._bokeh_failed_load = false;\n",
       "  }\n",
       "\n",
       "  var NB_LOAD_WARNING = {'data': {'text/html':\n",
       "     \"<div style='background-color: #fdd'>\\n\"+\n",
       "     \"<p>\\n\"+\n",
       "     \"BokehJS does not appear to have successfully loaded. If loading BokehJS from CDN, this \\n\"+\n",
       "     \"may be due to a slow or bad network connection. Possible fixes:\\n\"+\n",
       "     \"</p>\\n\"+\n",
       "     \"<ul>\\n\"+\n",
       "     \"<li>re-rerun `output_notebook()` to attempt to load from CDN again, or</li>\\n\"+\n",
       "     \"<li>use INLINE resources instead, as so:</li>\\n\"+\n",
       "     \"</ul>\\n\"+\n",
       "     \"<code>\\n\"+\n",
       "     \"from bokeh.resources import INLINE\\n\"+\n",
       "     \"output_notebook(resources=INLINE)\\n\"+\n",
       "     \"</code>\\n\"+\n",
       "     \"</div>\"}};\n",
       "\n",
       "  function display_loaded() {\n",
       "    var el = document.getElementById(\"1002\");\n",
       "    if (el != null) {\n",
       "      el.textContent = \"BokehJS is loading...\";\n",
       "    }\n",
       "    if (root.Bokeh !== undefined) {\n",
       "      if (el != null) {\n",
       "        el.textContent = \"BokehJS \" + root.Bokeh.version + \" successfully loaded.\";\n",
       "      }\n",
       "    } else if (Date.now() < root._bokeh_timeout) {\n",
       "      setTimeout(display_loaded, 100)\n",
       "    }\n",
       "  }\n",
       "\n",
       "\n",
       "  function run_callbacks() {\n",
       "    try {\n",
       "      root._bokeh_onload_callbacks.forEach(function(callback) {\n",
       "        if (callback != null)\n",
       "          callback();\n",
       "      });\n",
       "    } finally {\n",
       "      delete root._bokeh_onload_callbacks\n",
       "    }\n",
       "    console.debug(\"Bokeh: all callbacks have finished\");\n",
       "  }\n",
       "\n",
       "  function load_libs(css_urls, js_urls, callback) {\n",
       "    if (css_urls == null) css_urls = [];\n",
       "    if (js_urls == null) js_urls = [];\n",
       "\n",
       "    root._bokeh_onload_callbacks.push(callback);\n",
       "    if (root._bokeh_is_loading > 0) {\n",
       "      console.debug(\"Bokeh: BokehJS is being loaded, scheduling callback at\", now());\n",
       "      return null;\n",
       "    }\n",
       "    if (js_urls == null || js_urls.length === 0) {\n",
       "      run_callbacks();\n",
       "      return null;\n",
       "    }\n",
       "    console.debug(\"Bokeh: BokehJS not loaded, scheduling load and callback at\", now());\n",
       "    root._bokeh_is_loading = css_urls.length + js_urls.length;\n",
       "\n",
       "    function on_load() {\n",
       "      root._bokeh_is_loading--;\n",
       "      if (root._bokeh_is_loading === 0) {\n",
       "        console.debug(\"Bokeh: all BokehJS libraries/stylesheets loaded\");\n",
       "        run_callbacks()\n",
       "      }\n",
       "    }\n",
       "\n",
       "    function on_error(url) {\n",
       "      console.error(\"failed to load \" + url);\n",
       "    }\n",
       "\n",
       "    for (let i = 0; i < css_urls.length; i++) {\n",
       "      const url = css_urls[i];\n",
       "      const element = document.createElement(\"link\");\n",
       "      element.onload = on_load;\n",
       "      element.onerror = on_error.bind(null, url);\n",
       "      element.rel = \"stylesheet\";\n",
       "      element.type = \"text/css\";\n",
       "      element.href = url;\n",
       "      console.debug(\"Bokeh: injecting link tag for BokehJS stylesheet: \", url);\n",
       "      document.body.appendChild(element);\n",
       "    }\n",
       "\n",
       "    const hashes = {\"https://cdn.bokeh.org/bokeh/release/bokeh-2.3.3.min.js\": \"dM3QQsP+wXdHg42wTqW85BjZQdLNNIXqlPw/BgKoExPmTG7ZLML4EGqLMfqHT6ON\", \"https://cdn.bokeh.org/bokeh/release/bokeh-tables-2.3.3.min.js\": \"8x57I4YuIfu8XyZfFo0XVr2WAT8EK4rh/uDe3wF7YuW2FNUSNEpJbsPaB1nJ2fz2\", \"https://cdn.bokeh.org/bokeh/release/bokeh-widgets-2.3.3.min.js\": \"3QTqdz9LyAm2i0sG5XTePsHec3UHWwVsrOL68SYRoAXsafvfAyqtQ+h440+qIBhS\"};\n",
       "\n",
       "    for (let i = 0; i < js_urls.length; i++) {\n",
       "      const url = js_urls[i];\n",
       "      const element = document.createElement('script');\n",
       "      element.onload = on_load;\n",
       "      element.onerror = on_error.bind(null, url);\n",
       "      element.async = false;\n",
       "      element.src = url;\n",
       "      if (url in hashes) {\n",
       "        element.crossOrigin = \"anonymous\";\n",
       "        element.integrity = \"sha384-\" + hashes[url];\n",
       "      }\n",
       "      console.debug(\"Bokeh: injecting script tag for BokehJS library: \", url);\n",
       "      document.head.appendChild(element);\n",
       "    }\n",
       "  };\n",
       "\n",
       "  function inject_raw_css(css) {\n",
       "    const element = document.createElement(\"style\");\n",
       "    element.appendChild(document.createTextNode(css));\n",
       "    document.body.appendChild(element);\n",
       "  }\n",
       "\n",
       "  \n",
       "  var js_urls = [\"https://cdn.bokeh.org/bokeh/release/bokeh-2.3.3.min.js\", \"https://cdn.bokeh.org/bokeh/release/bokeh-widgets-2.3.3.min.js\", \"https://cdn.bokeh.org/bokeh/release/bokeh-tables-2.3.3.min.js\"];\n",
       "  var css_urls = [];\n",
       "  \n",
       "\n",
       "  var inline_js = [\n",
       "    function(Bokeh) {\n",
       "      Bokeh.set_log_level(\"info\");\n",
       "    },\n",
       "    function(Bokeh) {\n",
       "    \n",
       "    \n",
       "    }\n",
       "  ];\n",
       "\n",
       "  function run_inline_js() {\n",
       "    \n",
       "    if (root.Bokeh !== undefined || force === true) {\n",
       "      \n",
       "    for (var i = 0; i < inline_js.length; i++) {\n",
       "      inline_js[i].call(root, root.Bokeh);\n",
       "    }\n",
       "    if (force === true) {\n",
       "        display_loaded();\n",
       "      }} else if (Date.now() < root._bokeh_timeout) {\n",
       "      setTimeout(run_inline_js, 100);\n",
       "    } else if (!root._bokeh_failed_load) {\n",
       "      console.log(\"Bokeh: BokehJS failed to load within specified timeout.\");\n",
       "      root._bokeh_failed_load = true;\n",
       "    } else if (force !== true) {\n",
       "      var cell = $(document.getElementById(\"1002\")).parents('.cell').data().cell;\n",
       "      cell.output_area.append_execute_result(NB_LOAD_WARNING)\n",
       "    }\n",
       "\n",
       "  }\n",
       "\n",
       "  if (root._bokeh_is_loading === 0) {\n",
       "    console.debug(\"Bokeh: BokehJS loaded, going straight to plotting\");\n",
       "    run_inline_js();\n",
       "  } else {\n",
       "    load_libs(css_urls, js_urls, function() {\n",
       "      console.debug(\"Bokeh: BokehJS plotting callback run at\", now());\n",
       "      run_inline_js();\n",
       "    });\n",
       "  }\n",
       "}(window));"
      ],
      "application/vnd.bokehjs_load.v0+json": "\n(function(root) {\n  function now() {\n    return new Date();\n  }\n\n  var force = true;\n\n  if (typeof root._bokeh_onload_callbacks === \"undefined\" || force === true) {\n    root._bokeh_onload_callbacks = [];\n    root._bokeh_is_loading = undefined;\n  }\n\n  \n\n  \n  if (typeof (root._bokeh_timeout) === \"undefined\" || force === true) {\n    root._bokeh_timeout = Date.now() + 5000;\n    root._bokeh_failed_load = false;\n  }\n\n  var NB_LOAD_WARNING = {'data': {'text/html':\n     \"<div style='background-color: #fdd'>\\n\"+\n     \"<p>\\n\"+\n     \"BokehJS does not appear to have successfully loaded. If loading BokehJS from CDN, this \\n\"+\n     \"may be due to a slow or bad network connection. Possible fixes:\\n\"+\n     \"</p>\\n\"+\n     \"<ul>\\n\"+\n     \"<li>re-rerun `output_notebook()` to attempt to load from CDN again, or</li>\\n\"+\n     \"<li>use INLINE resources instead, as so:</li>\\n\"+\n     \"</ul>\\n\"+\n     \"<code>\\n\"+\n     \"from bokeh.resources import INLINE\\n\"+\n     \"output_notebook(resources=INLINE)\\n\"+\n     \"</code>\\n\"+\n     \"</div>\"}};\n\n  function display_loaded() {\n    var el = document.getElementById(\"1002\");\n    if (el != null) {\n      el.textContent = \"BokehJS is loading...\";\n    }\n    if (root.Bokeh !== undefined) {\n      if (el != null) {\n        el.textContent = \"BokehJS \" + root.Bokeh.version + \" successfully loaded.\";\n      }\n    } else if (Date.now() < root._bokeh_timeout) {\n      setTimeout(display_loaded, 100)\n    }\n  }\n\n\n  function run_callbacks() {\n    try {\n      root._bokeh_onload_callbacks.forEach(function(callback) {\n        if (callback != null)\n          callback();\n      });\n    } finally {\n      delete root._bokeh_onload_callbacks\n    }\n    console.debug(\"Bokeh: all callbacks have finished\");\n  }\n\n  function load_libs(css_urls, js_urls, callback) {\n    if (css_urls == null) css_urls = [];\n    if (js_urls == null) js_urls = [];\n\n    root._bokeh_onload_callbacks.push(callback);\n    if (root._bokeh_is_loading > 0) {\n      console.debug(\"Bokeh: BokehJS is being loaded, scheduling callback at\", now());\n      return null;\n    }\n    if (js_urls == null || js_urls.length === 0) {\n      run_callbacks();\n      return null;\n    }\n    console.debug(\"Bokeh: BokehJS not loaded, scheduling load and callback at\", now());\n    root._bokeh_is_loading = css_urls.length + js_urls.length;\n\n    function on_load() {\n      root._bokeh_is_loading--;\n      if (root._bokeh_is_loading === 0) {\n        console.debug(\"Bokeh: all BokehJS libraries/stylesheets loaded\");\n        run_callbacks()\n      }\n    }\n\n    function on_error(url) {\n      console.error(\"failed to load \" + url);\n    }\n\n    for (let i = 0; i < css_urls.length; i++) {\n      const url = css_urls[i];\n      const element = document.createElement(\"link\");\n      element.onload = on_load;\n      element.onerror = on_error.bind(null, url);\n      element.rel = \"stylesheet\";\n      element.type = \"text/css\";\n      element.href = url;\n      console.debug(\"Bokeh: injecting link tag for BokehJS stylesheet: \", url);\n      document.body.appendChild(element);\n    }\n\n    const hashes = {\"https://cdn.bokeh.org/bokeh/release/bokeh-2.3.3.min.js\": \"dM3QQsP+wXdHg42wTqW85BjZQdLNNIXqlPw/BgKoExPmTG7ZLML4EGqLMfqHT6ON\", \"https://cdn.bokeh.org/bokeh/release/bokeh-tables-2.3.3.min.js\": \"8x57I4YuIfu8XyZfFo0XVr2WAT8EK4rh/uDe3wF7YuW2FNUSNEpJbsPaB1nJ2fz2\", \"https://cdn.bokeh.org/bokeh/release/bokeh-widgets-2.3.3.min.js\": \"3QTqdz9LyAm2i0sG5XTePsHec3UHWwVsrOL68SYRoAXsafvfAyqtQ+h440+qIBhS\"};\n\n    for (let i = 0; i < js_urls.length; i++) {\n      const url = js_urls[i];\n      const element = document.createElement('script');\n      element.onload = on_load;\n      element.onerror = on_error.bind(null, url);\n      element.async = false;\n      element.src = url;\n      if (url in hashes) {\n        element.crossOrigin = \"anonymous\";\n        element.integrity = \"sha384-\" + hashes[url];\n      }\n      console.debug(\"Bokeh: injecting script tag for BokehJS library: \", url);\n      document.head.appendChild(element);\n    }\n  };\n\n  function inject_raw_css(css) {\n    const element = document.createElement(\"style\");\n    element.appendChild(document.createTextNode(css));\n    document.body.appendChild(element);\n  }\n\n  \n  var js_urls = [\"https://cdn.bokeh.org/bokeh/release/bokeh-2.3.3.min.js\", \"https://cdn.bokeh.org/bokeh/release/bokeh-widgets-2.3.3.min.js\", \"https://cdn.bokeh.org/bokeh/release/bokeh-tables-2.3.3.min.js\"];\n  var css_urls = [];\n  \n\n  var inline_js = [\n    function(Bokeh) {\n      Bokeh.set_log_level(\"info\");\n    },\n    function(Bokeh) {\n    \n    \n    }\n  ];\n\n  function run_inline_js() {\n    \n    if (root.Bokeh !== undefined || force === true) {\n      \n    for (var i = 0; i < inline_js.length; i++) {\n      inline_js[i].call(root, root.Bokeh);\n    }\n    if (force === true) {\n        display_loaded();\n      }} else if (Date.now() < root._bokeh_timeout) {\n      setTimeout(run_inline_js, 100);\n    } else if (!root._bokeh_failed_load) {\n      console.log(\"Bokeh: BokehJS failed to load within specified timeout.\");\n      root._bokeh_failed_load = true;\n    } else if (force !== true) {\n      var cell = $(document.getElementById(\"1002\")).parents('.cell').data().cell;\n      cell.output_area.append_execute_result(NB_LOAD_WARNING)\n    }\n\n  }\n\n  if (root._bokeh_is_loading === 0) {\n    console.debug(\"Bokeh: BokehJS loaded, going straight to plotting\");\n    run_inline_js();\n  } else {\n    load_libs(css_urls, js_urls, function() {\n      console.debug(\"Bokeh: BokehJS plotting callback run at\", now());\n      run_inline_js();\n    });\n  }\n}(window));"
     },
     "metadata": {},
     "output_type": "display_data"
    }
   ],
   "source": [
    "import numpy as np\n",
    "import pandas as pd\n",
    "import scipy.optimize\n",
    "import bokeh.plotting\n",
    "import bokeh.io\n",
    "bokeh.io.output_notebook()"
   ]
  },
  {
   "cell_type": "code",
   "execution_count": 56,
   "id": "87e8ccf1",
   "metadata": {},
   "outputs": [],
   "source": [
    "def agonist_only_p_active_theory(c_agonist, log_Kd_active, log_Kd_inactive, beta_deltaE):\n",
    "    \"theoretical curve for mglur5 active probability\"\n",
    "    Kd_active = 10**log_Kd_active\n",
    "    Kd_inactive = 10**log_Kd_inactive\n",
    "    a = (1 + c_agonist/Kd_active)**2\n",
    "\n",
    "    b = (1 + c_agonist/Kd_inactive)**2\n",
    "\n",
    "    return a/(a+b*np.exp(-beta_deltaE))\n",
    "\n",
    "def resid(param, c, p_active):\n",
    "    return p_active - agonist_only_p_active_theory(c, *param)\n"
   ]
  },
  {
   "cell_type": "code",
   "execution_count": 164,
   "id": "be20131e",
   "metadata": {},
   "outputs": [],
   "source": [
    "def PAM_only_p_active_theory(c_pam, log_Kd_active, log_Kd_inactive, beta_deltaE):\n",
    "    \"theoretical curve for mglur5 active probability\"\n",
    "    beta_deltaE=-8\n",
    "    Kd_active = 10**log_Kd_active\n",
    "    Kd_inactive = 10**log_Kd_inactive\n",
    "    a = (1 + c_pam/Kd_active)\n",
    "\n",
    "    b = (1 + c_pam/Kd_inactive)\n",
    "\n",
    "    return a/(a+b*np.exp(-beta_deltaE))\n",
    "\n",
    "def resid_PAM(param, c, p_active):\n",
    "    return p_active - PAM_only_p_active_theory(c, *param)\n"
   ]
  },
  {
   "cell_type": "code",
   "execution_count": 156,
   "id": "a02a17a9",
   "metadata": {},
   "outputs": [
    {
     "data": {
      "text/html": [
       "\n",
       "\n",
       "\n",
       "\n",
       "\n",
       "\n",
       "  <div class=\"bk-root\" id=\"6b069dd1-c670-4178-970b-1bf767b8c6a8\" data-root-id=\"15843\"></div>\n"
      ]
     },
     "metadata": {},
     "output_type": "display_data"
    },
    {
     "data": {
      "application/javascript": [
       "(function(root) {\n",
       "  function embed_document(root) {\n",
       "    \n",
       "  var docs_json = {\"61b2d544-f65c-4536-a86b-48ae7c2a996b\":{\"defs\":[],\"roots\":{\"references\":[{\"attributes\":{\"below\":[{\"id\":\"15852\"}],\"center\":[{\"id\":\"15855\"},{\"id\":\"15859\"},{\"id\":\"15890\"}],\"height\":400,\"left\":[{\"id\":\"15856\"}],\"renderers\":[{\"id\":\"15877\"}],\"title\":{\"id\":\"15880\"},\"toolbar\":{\"id\":\"15867\"},\"x_range\":{\"id\":\"15844\"},\"x_scale\":{\"id\":\"15848\"},\"y_range\":{\"id\":\"15846\"},\"y_scale\":{\"id\":\"15850\"}},\"id\":\"15843\",\"subtype\":\"Figure\",\"type\":\"Plot\"},{\"attributes\":{\"data_source\":{\"id\":\"15874\"},\"glyph\":{\"id\":\"15875\"},\"hover_glyph\":null,\"muted_glyph\":null,\"nonselection_glyph\":{\"id\":\"15876\"},\"view\":{\"id\":\"15878\"}},\"id\":\"15877\",\"type\":\"GlyphRenderer\"},{\"attributes\":{\"items\":[{\"id\":\"15891\"}]},\"id\":\"15890\",\"type\":\"Legend\"},{\"attributes\":{},\"id\":\"15887\",\"type\":\"Selection\"},{\"attributes\":{\"active_multi\":null,\"tools\":[{\"id\":\"15860\"},{\"id\":\"15861\"},{\"id\":\"15862\"},{\"id\":\"15863\"},{\"id\":\"15864\"},{\"id\":\"15865\"}]},\"id\":\"15867\",\"type\":\"Toolbar\"},{\"attributes\":{\"ticker\":null},\"id\":\"15882\",\"type\":\"LogTickFormatter\"},{\"attributes\":{\"num_minor_ticks\":10},\"id\":\"15853\",\"type\":\"LogTicker\"},{\"attributes\":{\"axis_label\":\"active_probability\",\"formatter\":{\"id\":\"15885\"},\"major_label_policy\":{\"id\":\"15884\"},\"ticker\":{\"id\":\"15857\"}},\"id\":\"15856\",\"type\":\"LinearAxis\"},{\"attributes\":{\"label\":{\"value\":\"-10,-8,-8\"},\"renderers\":[{\"id\":\"15877\"}]},\"id\":\"15891\",\"type\":\"LegendItem\"},{\"attributes\":{},\"id\":\"15848\",\"type\":\"LogScale\"},{\"attributes\":{},\"id\":\"15865\",\"type\":\"HelpTool\"},{\"attributes\":{\"axis\":{\"id\":\"15856\"},\"dimension\":1,\"ticker\":null},\"id\":\"15859\",\"type\":\"Grid\"},{\"attributes\":{},\"id\":\"15880\",\"type\":\"Title\"},{\"attributes\":{},\"id\":\"15860\",\"type\":\"PanTool\"},{\"attributes\":{},\"id\":\"15857\",\"type\":\"BasicTicker\"},{\"attributes\":{\"bottom_units\":\"screen\",\"fill_alpha\":0.5,\"fill_color\":\"lightgrey\",\"left_units\":\"screen\",\"level\":\"overlay\",\"line_alpha\":1.0,\"line_color\":\"black\",\"line_dash\":[4,4],\"line_width\":2,\"right_units\":\"screen\",\"syncable\":false,\"top_units\":\"screen\"},\"id\":\"15866\",\"type\":\"BoxAnnotation\"},{\"attributes\":{\"axis\":{\"id\":\"15852\"},\"ticker\":null},\"id\":\"15855\",\"type\":\"Grid\"},{\"attributes\":{\"line_alpha\":0.1,\"line_color\":\"#aec7e8\",\"x\":{\"field\":\"x\"},\"y\":{\"field\":\"y\"}},\"id\":\"15876\",\"type\":\"Line\"},{\"attributes\":{},\"id\":\"15846\",\"type\":\"DataRange1d\"},{\"attributes\":{},\"id\":\"15884\",\"type\":\"AllLabels\"},{\"attributes\":{},\"id\":\"15888\",\"type\":\"UnionRenderers\"},{\"attributes\":{},\"id\":\"15864\",\"type\":\"ResetTool\"},{\"attributes\":{},\"id\":\"15844\",\"type\":\"DataRange1d\"},{\"attributes\":{},\"id\":\"15863\",\"type\":\"SaveTool\"},{\"attributes\":{},\"id\":\"15861\",\"type\":\"WheelZoomTool\"},{\"attributes\":{},\"id\":\"15850\",\"type\":\"LinearScale\"},{\"attributes\":{\"overlay\":{\"id\":\"15866\"}},\"id\":\"15862\",\"type\":\"BoxZoomTool\"},{\"attributes\":{\"data\":{\"x\":{\"__ndarray__\":\"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\",\"dtype\":\"float64\",\"order\":\"little\",\"shape\":[200]},\"y\":{\"__ndarray__\":\"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\",\"dtype\":\"float64\",\"order\":\"little\",\"shape\":[200]}},\"selected\":{\"id\":\"15887\"},\"selection_policy\":{\"id\":\"15888\"}},\"id\":\"15874\",\"type\":\"ColumnDataSource\"},{\"attributes\":{\"source\":{\"id\":\"15874\"}},\"id\":\"15878\",\"type\":\"CDSView\"},{\"attributes\":{},\"id\":\"15881\",\"type\":\"AllLabels\"},{\"attributes\":{\"axis_label\":\"[L-Quis]M\",\"formatter\":{\"id\":\"15882\"},\"major_label_policy\":{\"id\":\"15881\"},\"ticker\":{\"id\":\"15853\"}},\"id\":\"15852\",\"type\":\"LogAxis\"},{\"attributes\":{},\"id\":\"15885\",\"type\":\"BasicTickFormatter\"},{\"attributes\":{\"line_color\":\"#aec7e8\",\"x\":{\"field\":\"x\"},\"y\":{\"field\":\"y\"}},\"id\":\"15875\",\"type\":\"Line\"}],\"root_ids\":[\"15843\"]},\"title\":\"Bokeh Application\",\"version\":\"2.3.3\"}};\n",
       "  var render_items = [{\"docid\":\"61b2d544-f65c-4536-a86b-48ae7c2a996b\",\"root_ids\":[\"15843\"],\"roots\":{\"15843\":\"6b069dd1-c670-4178-970b-1bf767b8c6a8\"}}];\n",
       "  root.Bokeh.embed.embed_items_notebook(docs_json, render_items);\n",
       "\n",
       "  }\n",
       "  if (root.Bokeh !== undefined) {\n",
       "    embed_document(root);\n",
       "  } else {\n",
       "    var attempts = 0;\n",
       "    var timer = setInterval(function(root) {\n",
       "      if (root.Bokeh !== undefined) {\n",
       "        clearInterval(timer);\n",
       "        embed_document(root);\n",
       "      } else {\n",
       "        attempts++;\n",
       "        if (attempts > 100) {\n",
       "          clearInterval(timer);\n",
       "          console.log(\"Bokeh: ERROR: Unable to run BokehJS code because BokehJS library is missing\");\n",
       "        }\n",
       "      }\n",
       "    }, 10, root)\n",
       "  }\n",
       "})(window);"
      ],
      "application/vnd.bokehjs_exec.v0+json": ""
     },
     "metadata": {
      "application/vnd.bokehjs_exec.v0+json": {
       "id": "15843"
      }
     },
     "output_type": "display_data"
    }
   ],
   "source": [
    "#set up plot\n",
    "from bokeh.plotting import curdoc \n",
    "curdoc().clear()\n",
    "p = bokeh.plotting.figure(plot_height=400,\n",
    "                         plot_width=600,\n",
    "                         x_axis_label='[L-Quis]M',\n",
    "                          y_axis_label='active_probability',\n",
    "                          x_axis_type='log')\n",
    "\n",
    "colors=bokeh.palettes.d3['Category20'][20]\n",
    "\n",
    "ligand_smooth=np.logspace(-11,-3,200)\n",
    "\n",
    "\n",
    "p.line(ligand_smooth, agonist_only_p_active_theory(ligand_smooth, -4, -3, -8), color=colors[1],legend_label='-10,-8,-8')\n",
    "#p.line(ligand_smooth, agonist_only_p_active_theory(ligand_smooth, -15, -8, -31), color=colors[2],legend_label='-15,-8,-34')\n",
    "        \n",
    "\n",
    "\n",
    "bokeh.io.show(p);"
   ]
  },
  {
   "cell_type": "code",
   "execution_count": 98,
   "id": "bd092dd4",
   "metadata": {
    "scrolled": true
   },
   "outputs": [
    {
     "data": {
      "text/html": [
       "\n",
       "\n",
       "\n",
       "\n",
       "\n",
       "\n",
       "  <div class=\"bk-root\" id=\"1e4e71b2-7e2b-4014-8c21-8406b8d9eeb0\" data-root-id=\"9469\"></div>\n"
      ]
     },
     "metadata": {},
     "output_type": "display_data"
    },
    {
     "data": {
      "application/javascript": [
       "(function(root) {\n",
       "  function embed_document(root) {\n",
       "    \n",
       "  var docs_json = {\"0f72eae7-383e-44b6-83a6-8aa1c7ed053f\":{\"defs\":[],\"roots\":{\"references\":[{\"attributes\":{\"below\":[{\"id\":\"9478\"}],\"center\":[{\"id\":\"9481\"},{\"id\":\"9485\"},{\"id\":\"9516\"}],\"height\":400,\"left\":[{\"id\":\"9482\"}],\"renderers\":[{\"id\":\"9503\"},{\"id\":\"9521\"},{\"id\":\"9540\"},{\"id\":\"9561\"},{\"id\":\"9584\"},{\"id\":\"9609\"},{\"id\":\"9636\"},{\"id\":\"9665\"}],\"title\":{\"id\":\"9506\"},\"toolbar\":{\"id\":\"9493\"},\"x_range\":{\"id\":\"9470\"},\"x_scale\":{\"id\":\"9474\"},\"y_range\":{\"id\":\"9472\"},\"y_scale\":{\"id\":\"9476\"}},\"id\":\"9469\",\"subtype\":\"Figure\",\"type\":\"Plot\"},{\"attributes\":{\"data\":{\"x\":{\"__ndarray__\":\"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\",\"dtype\":\"float64\",\"order\":\"little\",\"shape\":[200]},\"y\":{\"__ndarray__\":\"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\",\"dtype\":\"float64\",\"order\":\"little\",\"shape\":[200]}},\"selected\":{\"id\":\"9629\"},\"selection_policy\":{\"id\":\"9630\"}},\"id\":\"9606\",\"type\":\"ColumnDataSource\"},{\"attributes\":{\"label\":{\"value\":\"delta E=-4\"},\"renderers\":[{\"id\":\"9503\"}]},\"id\":\"9517\",\"type\":\"LegendItem\"},{\"attributes\":{},\"id\":\"9690\",\"type\":\"UnionRenderers\"},{\"attributes\":{\"label\":{\"value\":\"delta E=-9\"},\"renderers\":[{\"id\":\"9609\"}]},\"id\":\"9632\",\"type\":\"LegendItem\"},{\"attributes\":{},\"id\":\"9510\",\"type\":\"AllLabels\"},{\"attributes\":{\"data\":{\"x\":{\"__ndarray__\":\"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\",\"dtype\":\"float64\",\"order\":\"little\",\"shape\":[200]},\"y\":{\"__ndarray__\":\"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\",\"dtype\":\"float64\",\"order\":\"little\",\"shape\":[200]}},\"selected\":{\"id\":\"9689\"},\"selection_policy\":{\"id\":\"9690\"}},\"id\":\"9662\",\"type\":\"ColumnDataSource\"},{\"attributes\":{},\"id\":\"9511\",\"type\":\"BasicTickFormatter\"},{\"attributes\":{\"data_source\":{\"id\":\"9606\"},\"glyph\":{\"id\":\"9607\"},\"hover_glyph\":null,\"muted_glyph\":null,\"nonselection_glyph\":{\"id\":\"9608\"},\"view\":{\"id\":\"9610\"}},\"id\":\"9609\",\"type\":\"GlyphRenderer\"},{\"attributes\":{},\"id\":\"9659\",\"type\":\"UnionRenderers\"},{\"attributes\":{\"source\":{\"id\":\"9581\"}},\"id\":\"9585\",\"type\":\"CDSView\"},{\"attributes\":{\"line_color\":\"#ff9896\",\"x\":{\"field\":\"x\"},\"y\":{\"field\":\"y\"}},\"id\":\"9663\",\"type\":\"Line\"},{\"attributes\":{},\"id\":\"9487\",\"type\":\"WheelZoomTool\"},{\"attributes\":{\"data_source\":{\"id\":\"9633\"},\"glyph\":{\"id\":\"9634\"},\"hover_glyph\":null,\"muted_glyph\":null,\"nonselection_glyph\":{\"id\":\"9635\"},\"view\":{\"id\":\"9637\"}},\"id\":\"9636\",\"type\":\"GlyphRenderer\"},{\"attributes\":{\"data\":{\"x\":{\"__ndarray__\":\"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\",\"dtype\":\"float64\",\"order\":\"little\",\"shape\":[200]},\"y\":{\"__ndarray__\":\"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\",\"dtype\":\"float64\",\"order\":\"little\",\"shape\":[200]}},\"selected\":{\"id\":\"9554\"},\"selection_policy\":{\"id\":\"9555\"}},\"id\":\"9537\",\"type\":\"ColumnDataSource\"},{\"attributes\":{\"line_color\":\"#ff7f0e\",\"x\":{\"field\":\"x\"},\"y\":{\"field\":\"y\"}},\"id\":\"9538\",\"type\":\"Line\"},{\"attributes\":{},\"id\":\"9470\",\"type\":\"DataRange1d\"},{\"attributes\":{\"line_alpha\":0.1,\"line_color\":\"#ff7f0e\",\"x\":{\"field\":\"x\"},\"y\":{\"field\":\"y\"}},\"id\":\"9539\",\"type\":\"Line\"},{\"attributes\":{\"overlay\":{\"id\":\"9492\"}},\"id\":\"9488\",\"type\":\"BoxZoomTool\"},{\"attributes\":{\"source\":{\"id\":\"9537\"}},\"id\":\"9541\",\"type\":\"CDSView\"},{\"attributes\":{\"num_minor_ticks\":10},\"id\":\"9479\",\"type\":\"LogTicker\"},{\"attributes\":{},\"id\":\"9476\",\"type\":\"LinearScale\"},{\"attributes\":{},\"id\":\"9578\",\"type\":\"UnionRenderers\"},{\"attributes\":{},\"id\":\"9554\",\"type\":\"Selection\"},{\"attributes\":{\"line_alpha\":0.1,\"line_color\":\"#1f77b4\",\"x\":{\"field\":\"x\"},\"y\":{\"field\":\"y\"}},\"id\":\"9502\",\"type\":\"Line\"},{\"attributes\":{},\"id\":\"9489\",\"type\":\"SaveTool\"},{\"attributes\":{},\"id\":\"9513\",\"type\":\"Selection\"},{\"attributes\":{\"axis\":{\"id\":\"9478\"},\"ticker\":null},\"id\":\"9481\",\"type\":\"Grid\"},{\"attributes\":{\"line_alpha\":0.1,\"line_color\":\"#2ca02c\",\"x\":{\"field\":\"x\"},\"y\":{\"field\":\"y\"}},\"id\":\"9583\",\"type\":\"Line\"},{\"attributes\":{},\"id\":\"9514\",\"type\":\"UnionRenderers\"},{\"attributes\":{\"items\":[{\"id\":\"9517\"},{\"id\":\"9536\"},{\"id\":\"9557\"},{\"id\":\"9580\"},{\"id\":\"9605\"},{\"id\":\"9632\"},{\"id\":\"9661\"},{\"id\":\"9692\"}]},\"id\":\"9516\",\"type\":\"Legend\"},{\"attributes\":{\"active_multi\":null,\"tools\":[{\"id\":\"9486\"},{\"id\":\"9487\"},{\"id\":\"9488\"},{\"id\":\"9489\"},{\"id\":\"9490\"},{\"id\":\"9491\"}]},\"id\":\"9493\",\"type\":\"Toolbar\"},{\"attributes\":{},\"id\":\"9577\",\"type\":\"Selection\"},{\"attributes\":{\"line_color\":\"#2ca02c\",\"x\":{\"field\":\"x\"},\"y\":{\"field\":\"y\"}},\"id\":\"9582\",\"type\":\"Line\"},{\"attributes\":{\"data_source\":{\"id\":\"9518\"},\"glyph\":{\"id\":\"9519\"},\"hover_glyph\":null,\"muted_glyph\":null,\"nonselection_glyph\":{\"id\":\"9520\"},\"view\":{\"id\":\"9522\"}},\"id\":\"9521\",\"type\":\"GlyphRenderer\"},{\"attributes\":{},\"id\":\"9491\",\"type\":\"HelpTool\"},{\"attributes\":{},\"id\":\"9689\",\"type\":\"Selection\"},{\"attributes\":{\"line_color\":\"#98df8a\",\"x\":{\"field\":\"x\"},\"y\":{\"field\":\"y\"}},\"id\":\"9607\",\"type\":\"Line\"},{\"attributes\":{},\"id\":\"9474\",\"type\":\"LogScale\"},{\"attributes\":{\"data\":{\"x\":{\"__ndarray__\":\"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\",\"dtype\":\"float64\",\"order\":\"little\",\"shape\":[200]},\"y\":{\"__ndarray__\":\"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\",\"dtype\":\"float64\",\"order\":\"little\",\"shape\":[200]}},\"selected\":{\"id\":\"9602\"},\"selection_policy\":{\"id\":\"9603\"}},\"id\":\"9581\",\"type\":\"ColumnDataSource\"},{\"attributes\":{\"line_alpha\":0.1,\"line_color\":\"#98df8a\",\"x\":{\"field\":\"x\"},\"y\":{\"field\":\"y\"}},\"id\":\"9608\",\"type\":\"Line\"},{\"attributes\":{},\"id\":\"9506\",\"type\":\"Title\"},{\"attributes\":{\"label\":{\"value\":\"delta E=-11\"},\"renderers\":[{\"id\":\"9665\"}]},\"id\":\"9692\",\"type\":\"LegendItem\"},{\"attributes\":{},\"id\":\"9486\",\"type\":\"PanTool\"},{\"attributes\":{},\"id\":\"9472\",\"type\":\"DataRange1d\"},{\"attributes\":{\"axis_label\":\"[L-Quis]M\",\"formatter\":{\"id\":\"9508\"},\"major_label_policy\":{\"id\":\"9507\"},\"ticker\":{\"id\":\"9479\"}},\"id\":\"9478\",\"type\":\"LogAxis\"},{\"attributes\":{\"data_source\":{\"id\":\"9537\"},\"glyph\":{\"id\":\"9538\"},\"hover_glyph\":null,\"muted_glyph\":null,\"nonselection_glyph\":{\"id\":\"9539\"},\"view\":{\"id\":\"9541\"}},\"id\":\"9540\",\"type\":\"GlyphRenderer\"},{\"attributes\":{\"axis\":{\"id\":\"9482\"},\"dimension\":1,\"ticker\":null},\"id\":\"9485\",\"type\":\"Grid\"},{\"attributes\":{\"data\":{\"x\":{\"__ndarray__\":\"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\",\"dtype\":\"float64\",\"order\":\"little\",\"shape\":[200]},\"y\":{\"__ndarray__\":\"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\",\"dtype\":\"float64\",\"order\":\"little\",\"shape\":[200]}},\"selected\":{\"id\":\"9533\"},\"selection_policy\":{\"id\":\"9534\"}},\"id\":\"9518\",\"type\":\"ColumnDataSource\"},{\"attributes\":{\"line_color\":\"#aec7e8\",\"x\":{\"field\":\"x\"},\"y\":{\"field\":\"y\"}},\"id\":\"9519\",\"type\":\"Line\"},{\"attributes\":{\"line_alpha\":0.1,\"line_color\":\"#aec7e8\",\"x\":{\"field\":\"x\"},\"y\":{\"field\":\"y\"}},\"id\":\"9520\",\"type\":\"Line\"},{\"attributes\":{},\"id\":\"9658\",\"type\":\"Selection\"},{\"attributes\":{\"source\":{\"id\":\"9518\"}},\"id\":\"9522\",\"type\":\"CDSView\"},{\"attributes\":{},\"id\":\"9602\",\"type\":\"Selection\"},{\"attributes\":{\"label\":{\"value\":\"delta E=-5\"},\"renderers\":[{\"id\":\"9521\"}]},\"id\":\"9536\",\"type\":\"LegendItem\"},{\"attributes\":{},\"id\":\"9555\",\"type\":\"UnionRenderers\"},{\"attributes\":{},\"id\":\"9603\",\"type\":\"UnionRenderers\"},{\"attributes\":{\"source\":{\"id\":\"9662\"}},\"id\":\"9666\",\"type\":\"CDSView\"},{\"attributes\":{\"bottom_units\":\"screen\",\"fill_alpha\":0.5,\"fill_color\":\"lightgrey\",\"left_units\":\"screen\",\"level\":\"overlay\",\"line_alpha\":1.0,\"line_color\":\"black\",\"line_dash\":[4,4],\"line_width\":2,\"right_units\":\"screen\",\"syncable\":false,\"top_units\":\"screen\"},\"id\":\"9492\",\"type\":\"BoxAnnotation\"},{\"attributes\":{},\"id\":\"9483\",\"type\":\"BasicTicker\"},{\"attributes\":{\"axis_label\":\"active_probability\",\"formatter\":{\"id\":\"9511\"},\"major_label_policy\":{\"id\":\"9510\"},\"ticker\":{\"id\":\"9483\"}},\"id\":\"9482\",\"type\":\"LinearAxis\"},{\"attributes\":{\"line_color\":\"#1f77b4\",\"x\":{\"field\":\"x\"},\"y\":{\"field\":\"y\"}},\"id\":\"9501\",\"type\":\"Line\"},{\"attributes\":{\"source\":{\"id\":\"9606\"}},\"id\":\"9610\",\"type\":\"CDSView\"},{\"attributes\":{\"data\":{\"x\":{\"__ndarray__\":\"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\",\"dtype\":\"float64\",\"order\":\"little\",\"shape\":[200]},\"y\":{\"__ndarray__\":\"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\",\"dtype\":\"float64\",\"order\":\"little\",\"shape\":[200]}},\"selected\":{\"id\":\"9513\"},\"selection_policy\":{\"id\":\"9514\"}},\"id\":\"9500\",\"type\":\"ColumnDataSource\"},{\"attributes\":{\"line_alpha\":0.1,\"line_color\":\"#ff9896\",\"x\":{\"field\":\"x\"},\"y\":{\"field\":\"y\"}},\"id\":\"9664\",\"type\":\"Line\"},{\"attributes\":{\"label\":{\"value\":\"delta E=-8\"},\"renderers\":[{\"id\":\"9584\"}]},\"id\":\"9605\",\"type\":\"LegendItem\"},{\"attributes\":{},\"id\":\"9533\",\"type\":\"Selection\"},{\"attributes\":{\"data_source\":{\"id\":\"9500\"},\"glyph\":{\"id\":\"9501\"},\"hover_glyph\":null,\"muted_glyph\":null,\"nonselection_glyph\":{\"id\":\"9502\"},\"view\":{\"id\":\"9504\"}},\"id\":\"9503\",\"type\":\"GlyphRenderer\"},{\"attributes\":{\"source\":{\"id\":\"9500\"}},\"id\":\"9504\",\"type\":\"CDSView\"},{\"attributes\":{},\"id\":\"9534\",\"type\":\"UnionRenderers\"},{\"attributes\":{},\"id\":\"9490\",\"type\":\"ResetTool\"},{\"attributes\":{\"line_alpha\":0.1,\"line_color\":\"#ffbb78\",\"x\":{\"field\":\"x\"},\"y\":{\"field\":\"y\"}},\"id\":\"9560\",\"type\":\"Line\"},{\"attributes\":{},\"id\":\"9630\",\"type\":\"UnionRenderers\"},{\"attributes\":{\"label\":{\"value\":\"delta E=-10\"},\"renderers\":[{\"id\":\"9636\"}]},\"id\":\"9661\",\"type\":\"LegendItem\"},{\"attributes\":{},\"id\":\"9507\",\"type\":\"AllLabels\"},{\"attributes\":{\"data_source\":{\"id\":\"9662\"},\"glyph\":{\"id\":\"9663\"},\"hover_glyph\":null,\"muted_glyph\":null,\"nonselection_glyph\":{\"id\":\"9664\"},\"view\":{\"id\":\"9666\"}},\"id\":\"9665\",\"type\":\"GlyphRenderer\"},{\"attributes\":{\"ticker\":null},\"id\":\"9508\",\"type\":\"LogTickFormatter\"},{\"attributes\":{\"line_alpha\":0.1,\"line_color\":\"#d62728\",\"x\":{\"field\":\"x\"},\"y\":{\"field\":\"y\"}},\"id\":\"9635\",\"type\":\"Line\"},{\"attributes\":{},\"id\":\"9629\",\"type\":\"Selection\"},{\"attributes\":{\"data\":{\"x\":{\"__ndarray__\":\"EeotgZmXcT1+akKEYkxzPRpC2DCIK3U9Ky4oTiY5dz0ppVmlvnl5PXMQMeZC8ns9eFhggR+ofj3lOCbIo9CAPcMMNfIgcoI9RWVurRs8hD3EW+VJgTKGPYq38pegWYg9bKj/XDO2ij3ozhizaE2NPVVrBzV4EpA9jp+PwYOhkT0iEkbxQleTPcQUmap2N5U9+P6KBT1Glz0u04pVGoiZPe/mtRMDApw9UE5Gv2a5nj0oEwfmHdqgPZ9TmFyGfKI9cRhqNoNHpD396ij6Az+mPdm+uuVZZ6g9RwteaEHFqj1GhRWI7F2tPUZKmSSHG7A9g5mDmHOrsT1ovZp/KWKzPZ163t1rQ7U9/NtoHVtTtz0h8F4dfpa5PZMEySHMEbw9AGMiurfKvj2LEEdbnePAPXBX+KLxhsI9dsPcLPFSxD2ZpHm3jUvGPfppoO8adcg9JBvl71fUyj2aD+areW7NPdDtIS+bJNA95x4wCWm10T3W5bQyFm3TPTq1cs5nT9U9rCDqmYBg1z23kWUB6qTZPUg8axWeIdw9NqJxdxLc3j1j2egqIu3gPbR+oshikeI9uspllGVe5D2i3tCFHljmPcO5/7njgug9YRVd+Hbj6j0gZ8kjEH/tPX3ygVe0LfA9IT29FmS/8T1u9woOCXjzPQcpIoBqW/U9XIA5f61t9z2x3zAGXrP5Pd0yoPN4Mfw9hS+0/Hbt/j1eyPBXrPYAPmcM5tDZmwI+V52mcOBpBD6DLCpptmQGPgQkN0m0kAg+WumQhp7yCj79eQH1r48NPgCUm6DSNhA+AclUxGTJET7MURUVAoMTPnleu/ZzZxU+rQeE0eF6Fz5SlVUw2sEZPpZgbsFcQRw+I0htT+X+Hj5562TlOwAhPhohFL9WpiI+ObZCxWF1JD5JYINlVXEmPu+Up6GMnig+6zlOn84BKz4LLdMkWaAtPhyuUg32PzA+x18iFWvTMT47SU5LAY4zPkoDDzaEczU+dh35lB2INz7UAmuEXtA5PsYS34NJUTw+p0QjdV0QPz7xBE3W0AlBPrW7f5bZsEI+Sp3flemARD7ri9x++31GPoJwtMdsrEg++F5lRwcRSz7rXIa4C7FNPpO9jKAeSVA+HmhTDHfdUT7dJzK0BplTPqXr70Gbf1U+qYTKzWCVVz7XDgsH695ZPntt/j8/YVw+25pfc98hXz4+jLItaxNhPvK6fVpiu2I+megk5neMZD6WAji5qIpmPrqTw79Uumg+9Gapg0ggaz7C4GW1x8FtPg7hMF1MUnA+LBMXrYjncT6aLj9TEqRzPmUTMx65i3U+dV0sgKuidz7dN9K8f+15PtFs2/o9cXw+ON+uT2szfz4Gr6DuCh2BPkjeZA7xxYI+gD28uQyYhD7EWZoYXZeGPkdWPY5EyIg+ZhjwWJIviz72ir8gjdKNPgvaJ0Z/W5A+bF2e+p/xkT58lvUrJK+TPkafr87dl5U+YSZVsP2vlz68lV+qHPyZPvXmh7lFgZw+EsegDwFFnz4XUiQcsCahPsfGjbWF0KI+0VFRFKijpD7JagqhGKSmPr2LjDc81qg+dfMRzOQ+qz5IK+T/W+OtPsUNXF63ZLA+6w8c+Lz7sT6rkddBPLqzPiDePlcJpLU+2r19Yle9tz4X21TUwQq6PneNGIFWkbw+JCrIuKBWvz5ZEky5WjDBPlv4UlMg28I+/+yR+UmvxD7uU5FW27DGPhWFHsA75Mg+bTPq4T9Oyz5tkCdYNPTNPiWGuaj0bdA+JsHEqN8F0j5mTGmYWsXTPh9KvLs7sNU+fWPhmrjK1z7SVlY/bxnaPv3upFZwodw+IgS7UEpo3z7NRSjJCjrhPsnaEOvA5eI+RektbfK65D6/eTo9pb3mPtsRYyxD8ug+S9BWn6Nd6z7AieAuFgXuPqzyLSg3d/A+FdbODwgQ8j5n7jAzf9DzPveJBQB1vPU+bbm9XSHY9z6R9QrwJCj6Pt54Rz+Tsfw+53YS3f15/z6C/MpOwEMBP8i6JYBn8AI/1TTXcqHGBD9WiBNZdsoGP+qBzIBSAAk/SYA4CRBtCz/z6GiJARYOP2OpqN9+gBA/MoNyMDYaEj/Tm7YVqtsTPzRy+ie1yBU/qsVSr5HlFz8tQxzr4jYaPw==\",\"dtype\":\"float64\",\"order\":\"little\",\"shape\":[200]},\"y\":{\"__ndarray__\":\"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\",\"dtype\":\"float64\",\"order\":\"little\",\"shape\":[200]}},\"selected\":{\"id\":\"9577\"},\"selection_policy\":{\"id\":\"9578\"}},\"id\":\"9558\",\"type\":\"ColumnDataSource\"},{\"attributes\":{\"source\":{\"id\":\"9558\"}},\"id\":\"9562\",\"type\":\"CDSView\"},{\"attributes\":{\"data_source\":{\"id\":\"9558\"},\"glyph\":{\"id\":\"9559\"},\"hover_glyph\":null,\"muted_glyph\":null,\"nonselection_glyph\":{\"id\":\"9560\"},\"view\":{\"id\":\"9562\"}},\"id\":\"9561\",\"type\":\"GlyphRenderer\"},{\"attributes\":{\"data\":{\"x\":{\"__ndarray__\":\"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\",\"dtype\":\"float64\",\"order\":\"little\",\"shape\":[200]},\"y\":{\"__ndarray__\":\"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\",\"dtype\":\"float64\",\"order\":\"little\",\"shape\":[200]}},\"selected\":{\"id\":\"9658\"},\"selection_policy\":{\"id\":\"9659\"}},\"id\":\"9633\",\"type\":\"ColumnDataSource\"},{\"attributes\":{\"label\":{\"value\":\"delta E=-6\"},\"renderers\":[{\"id\":\"9540\"}]},\"id\":\"9557\",\"type\":\"LegendItem\"},{\"attributes\":{\"data_source\":{\"id\":\"9581\"},\"glyph\":{\"id\":\"9582\"},\"hover_glyph\":null,\"muted_glyph\":null,\"nonselection_glyph\":{\"id\":\"9583\"},\"view\":{\"id\":\"9585\"}},\"id\":\"9584\",\"type\":\"GlyphRenderer\"},{\"attributes\":{\"line_color\":\"#ffbb78\",\"x\":{\"field\":\"x\"},\"y\":{\"field\":\"y\"}},\"id\":\"9559\",\"type\":\"Line\"},{\"attributes\":{\"label\":{\"value\":\"delta E=-7\"},\"renderers\":[{\"id\":\"9561\"}]},\"id\":\"9580\",\"type\":\"LegendItem\"},{\"attributes\":{\"line_color\":\"#d62728\",\"x\":{\"field\":\"x\"},\"y\":{\"field\":\"y\"}},\"id\":\"9634\",\"type\":\"Line\"},{\"attributes\":{\"source\":{\"id\":\"9633\"}},\"id\":\"9637\",\"type\":\"CDSView\"}],\"root_ids\":[\"9469\"]},\"title\":\"Bokeh Application\",\"version\":\"2.3.3\"}};\n",
       "  var render_items = [{\"docid\":\"0f72eae7-383e-44b6-83a6-8aa1c7ed053f\",\"root_ids\":[\"9469\"],\"roots\":{\"9469\":\"1e4e71b2-7e2b-4014-8c21-8406b8d9eeb0\"}}];\n",
       "  root.Bokeh.embed.embed_items_notebook(docs_json, render_items);\n",
       "\n",
       "  }\n",
       "  if (root.Bokeh !== undefined) {\n",
       "    embed_document(root);\n",
       "  } else {\n",
       "    var attempts = 0;\n",
       "    var timer = setInterval(function(root) {\n",
       "      if (root.Bokeh !== undefined) {\n",
       "        clearInterval(timer);\n",
       "        embed_document(root);\n",
       "      } else {\n",
       "        attempts++;\n",
       "        if (attempts > 100) {\n",
       "          clearInterval(timer);\n",
       "          console.log(\"Bokeh: ERROR: Unable to run BokehJS code because BokehJS library is missing\");\n",
       "        }\n",
       "      }\n",
       "    }, 10, root)\n",
       "  }\n",
       "})(window);"
      ],
      "application/vnd.bokehjs_exec.v0+json": ""
     },
     "metadata": {
      "application/vnd.bokehjs_exec.v0+json": {
       "id": "9469"
      }
     },
     "output_type": "display_data"
    }
   ],
   "source": [
    "#set up plot\n",
    "from bokeh.plotting import curdoc \n",
    "curdoc().clear()\n",
    "p = bokeh.plotting.figure(plot_height=400,\n",
    "                         plot_width=600,\n",
    "                         x_axis_label='[L-Quis]M',\n",
    "                          y_axis_label='active_probability',\n",
    "                          x_axis_type='log')\n",
    "\n",
    "colors=bokeh.palettes.d3['Category20'][20]\n",
    "\n",
    "ligand_smooth=np.logspace(-12,-4,200)\n",
    "\n",
    "for i,deltaE in enumerate(range(-4,-12,-1)):    \n",
    "    p.line(ligand_smooth, agonist_only_p_active_theory(ligand_smooth, -9.8, -7.7, deltaE), color=colors[i],legend_label='delta E='+str(deltaE))\n",
    "\n",
    "\n",
    "bokeh.io.show(p);"
   ]
  },
  {
   "cell_type": "code",
   "execution_count": 144,
   "id": "5a2f9dca",
   "metadata": {},
   "outputs": [
    {
     "data": {
      "text/html": [
       "\n",
       "\n",
       "\n",
       "\n",
       "\n",
       "\n",
       "  <div class=\"bk-root\" id=\"86f19270-7262-4fe8-b03a-e02346557eb1\" data-root-id=\"14303\"></div>\n"
      ]
     },
     "metadata": {},
     "output_type": "display_data"
    },
    {
     "data": {
      "application/javascript": [
       "(function(root) {\n",
       "  function embed_document(root) {\n",
       "    \n",
       "  var docs_json = {\"17a83e36-b3d7-4f36-ac49-8778cd95a44c\":{\"defs\":[],\"roots\":{\"references\":[{\"attributes\":{\"below\":[{\"id\":\"14312\"}],\"center\":[{\"id\":\"14315\"},{\"id\":\"14319\"},{\"id\":\"14350\"}],\"left\":[{\"id\":\"14316\"}],\"renderers\":[{\"id\":\"14337\"},{\"id\":\"14355\"},{\"id\":\"14374\"},{\"id\":\"14395\"},{\"id\":\"14418\"},{\"id\":\"14443\"},{\"id\":\"14470\"},{\"id\":\"14499\"}],\"title\":{\"id\":\"14340\"},\"toolbar\":{\"id\":\"14327\"},\"x_range\":{\"id\":\"14304\"},\"x_scale\":{\"id\":\"14308\"},\"y_range\":{\"id\":\"14306\"},\"y_scale\":{\"id\":\"14310\"}},\"id\":\"14303\",\"subtype\":\"Figure\",\"type\":\"Plot\"},{\"attributes\":{\"items\":[{\"id\":\"14351\"},{\"id\":\"14370\"},{\"id\":\"14391\"},{\"id\":\"14414\"},{\"id\":\"14439\"},{\"id\":\"14466\"},{\"id\":\"14495\"},{\"id\":\"14526\"}]},\"id\":\"14350\",\"type\":\"Legend\"},{\"attributes\":{\"data_source\":{\"id\":\"14352\"},\"glyph\":{\"id\":\"14353\"},\"hover_glyph\":null,\"muted_glyph\":null,\"nonselection_glyph\":{\"id\":\"14354\"},\"view\":{\"id\":\"14356\"}},\"id\":\"14355\",\"type\":\"GlyphRenderer\"},{\"attributes\":{\"line_alpha\":0.1,\"line_color\":\"#1f77b4\",\"x\":{\"field\":\"x\"},\"y\":{\"field\":\"y\"}},\"id\":\"14336\",\"type\":\"Line\"},{\"attributes\":{\"source\":{\"id\":\"14334\"}},\"id\":\"14338\",\"type\":\"CDSView\"},{\"attributes\":{\"label\":{\"value\":\"log_Kd_active=-14\"},\"renderers\":[{\"id\":\"14470\"}]},\"id\":\"14495\",\"type\":\"LegendItem\"},{\"attributes\":{\"data_source\":{\"id\":\"14496\"},\"glyph\":{\"id\":\"14497\"},\"hover_glyph\":null,\"muted_glyph\":null,\"nonselection_glyph\":{\"id\":\"14498\"},\"view\":{\"id\":\"14500\"}},\"id\":\"14499\",\"type\":\"GlyphRenderer\"},{\"attributes\":{\"line_color\":\"#d62728\",\"x\":{\"field\":\"x\"},\"y\":{\"field\":\"y\"}},\"id\":\"14468\",\"type\":\"Line\"},{\"attributes\":{\"data\":{\"x\":{\"__ndarray__\":\"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\",\"dtype\":\"float64\",\"order\":\"little\",\"shape\":[200]},\"y\":{\"__ndarray__\":\"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\",\"dtype\":\"float64\",\"order\":\"little\",\"shape\":[200]}},\"selected\":{\"id\":\"14367\"},\"selection_policy\":{\"id\":\"14368\"}},\"id\":\"14352\",\"type\":\"ColumnDataSource\"},{\"attributes\":{\"data\":{\"x\":{\"__ndarray__\":\"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\",\"dtype\":\"float64\",\"order\":\"little\",\"shape\":[200]},\"y\":{\"__ndarray__\":\"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\",\"dtype\":\"float64\",\"order\":\"little\",\"shape\":[200]}},\"selected\":{\"id\":\"14492\"},\"selection_policy\":{\"id\":\"14493\"}},\"id\":\"14467\",\"type\":\"ColumnDataSource\"},{\"attributes\":{},\"id\":\"14340\",\"type\":\"Title\"},{\"attributes\":{\"line_alpha\":0.1,\"line_color\":\"#d62728\",\"x\":{\"field\":\"x\"},\"y\":{\"field\":\"y\"}},\"id\":\"14469\",\"type\":\"Line\"},{\"attributes\":{\"source\":{\"id\":\"14467\"}},\"id\":\"14471\",\"type\":\"CDSView\"},{\"attributes\":{},\"id\":\"14341\",\"type\":\"AllLabels\"},{\"attributes\":{\"ticker\":null},\"id\":\"14342\",\"type\":\"LogTickFormatter\"},{\"attributes\":{},\"id\":\"14492\",\"type\":\"Selection\"},{\"attributes\":{},\"id\":\"14493\",\"type\":\"UnionRenderers\"},{\"attributes\":{},\"id\":\"14310\",\"type\":\"LinearScale\"},{\"attributes\":{\"bottom_units\":\"screen\",\"fill_alpha\":0.5,\"fill_color\":\"lightgrey\",\"left_units\":\"screen\",\"level\":\"overlay\",\"line_alpha\":1.0,\"line_color\":\"black\",\"line_dash\":[4,4],\"line_width\":2,\"right_units\":\"screen\",\"syncable\":false,\"top_units\":\"screen\"},\"id\":\"14326\",\"type\":\"BoxAnnotation\"},{\"attributes\":{},\"id\":\"14308\",\"type\":\"LogScale\"},{\"attributes\":{\"line_color\":\"#ff9896\",\"x\":{\"field\":\"x\"},\"y\":{\"field\":\"y\"}},\"id\":\"14497\",\"type\":\"Line\"},{\"attributes\":{\"data\":{\"x\":{\"__ndarray__\":\"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\",\"dtype\":\"float64\",\"order\":\"little\",\"shape\":[200]},\"y\":{\"__ndarray__\":\"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\",\"dtype\":\"float64\",\"order\":\"little\",\"shape\":[200]}},\"selected\":{\"id\":\"14523\"},\"selection_policy\":{\"id\":\"14524\"}},\"id\":\"14496\",\"type\":\"ColumnDataSource\"},{\"attributes\":{\"line_alpha\":0.1,\"line_color\":\"#ff9896\",\"x\":{\"field\":\"x\"},\"y\":{\"field\":\"y\"}},\"id\":\"14498\",\"type\":\"Line\"},{\"attributes\":{},\"id\":\"14344\",\"type\":\"AllLabels\"},{\"attributes\":{},\"id\":\"14347\",\"type\":\"Selection\"},{\"attributes\":{},\"id\":\"14523\",\"type\":\"Selection\"},{\"attributes\":{},\"id\":\"14348\",\"type\":\"UnionRenderers\"},{\"attributes\":{},\"id\":\"14524\",\"type\":\"UnionRenderers\"},{\"attributes\":{\"axis_label\":\"[L-Quis]M\",\"formatter\":{\"id\":\"14342\"},\"major_label_policy\":{\"id\":\"14341\"},\"ticker\":{\"id\":\"14313\"}},\"id\":\"14312\",\"type\":\"LogAxis\"},{\"attributes\":{\"data_source\":{\"id\":\"14334\"},\"glyph\":{\"id\":\"14335\"},\"hover_glyph\":null,\"muted_glyph\":null,\"nonselection_glyph\":{\"id\":\"14336\"},\"view\":{\"id\":\"14338\"}},\"id\":\"14337\",\"type\":\"GlyphRenderer\"},{\"attributes\":{},\"id\":\"14306\",\"type\":\"DataRange1d\"},{\"attributes\":{\"line_color\":\"#aec7e8\",\"x\":{\"field\":\"x\"},\"y\":{\"field\":\"y\"}},\"id\":\"14353\",\"type\":\"Line\"},{\"attributes\":{\"label\":{\"value\":\"log_Kd_active=-8\"},\"renderers\":[{\"id\":\"14337\"}]},\"id\":\"14351\",\"type\":\"LegendItem\"},{\"attributes\":{},\"id\":\"14304\",\"type\":\"DataRange1d\"},{\"attributes\":{\"data\":{\"x\":{\"__ndarray__\":\"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\",\"dtype\":\"float64\",\"order\":\"little\",\"shape\":[200]},\"y\":{\"__ndarray__\":\"nyac5dn/NT8rYJ0iZQA2P1A8rN79ADY/4Zx3aKUBNj+2yA4vXQI2Pyr1AMUmAzY/xXnJ4wMENj898I9v9gQ2P8MsRHsABjY/fLUeTSQHNj8UKI9jZAg2PynXonrDCTY/EtXukUQLNj8RoAnz6gw2Pzi3oTi6DjY/k4Y/VrYQNj8aV8Kg4xI2P3NCqddGFTY/zpU6L+UXNj9PkZ1bxBo2P5kK/JzqHTY/fSjDzF4hNj+sMhxsKCU2PyxHuLNPKTY/VK4Lpd0tNj99eBcd3DI2PyIG4uhVODY/dA/B21Y+Nj/QpJnn60Q2P85pPDcjTDY/V+gFSwxUNj/CLuwXuFw2P+jiIyk5ZjY/f2eHxKNwNj+GduoRDnw2PzN3g0WQiDY/CJeRzUSWNj/G/WKDSKU2P+z22N+6tTY/qi6AM77HNj+pnUjid9s2P17Y2qIQ8TY/z252wbQINz9vBy5mlCI3PxHmON7jPjc/jn7t59tdNz+4RswAun83P7/My7TApDc/taTV7TfNNz/pcxVCbfk3P9+jXj+0KTg/hZ2AsWZeOD8TmOPg5Jc4P+s/OMaV1jg/d7RiL+caOT/rqRbRTWU5P2Z+2T9Ftjk/UYlUyk8OOj+8XBUu9m06P/YRFh/H1To/LjC8mVZGOz91LH32PMA7Pwv9HLYVRDw/hPij/X3SPD/w+Ne5Emw9Pyg4X2NuET4/ubPfXibDPj9Mjo73x4E/P/ujaHvqJkA/azVs8N+TQD/rXTXy8wdBP2lFoklKg0E/ED0TwPgFQj8prLvzBJBCP8qJSUdiIUM/Wl3hBfC5Qz9wYknWd1lEP4Plfpis/0Q/gqh9xymsRT/c9oF1c15GP5aVePP2FUc/wX7RLAzSRz9AtOy395FIP/nke5HtVEk/LedBbxQaSj9pm2+NieBKP88NU9Jkp0s/T5vVHr1tTD/addqfrDJNP3F/IPVU9U0/R/G6BeO0Tj/FMR1gknBPP5hsvAXYE1A/j1aEXM5sUD84docm58JQP/HjBmDoFVE/kTU+MKNlUT/EFcLB87FRP+je9dvA+lE/X8+ZSPs/Uj+oHhARnYFSPzP93J6ov1I/3ks4yif6Uj/8NW/gKjFTPyK5dqrHZFM/cJWRehiVUz/AUWlGO8JTP11sidFQ7FM/0Dnd6nsTVD/79K2+4DdUP5SQqz2kWVQ/bFTImOt4VD9XsRrR25VUPxeCjVqZsFQ//qDfz0fJVD8tXUq2CeBUP8wVFU8A9VQ/gKFddUsIVT9KVWyGCRpVP4lTA1NXKlU/zds3GFA5VT/834Z+DUdVP1oL+p2nU1U/1hVWBjVfVT8kj23KymlVP7R/0418c1U/VdlGlFx8VT/td0rSe4RVP8RTdf7pi1U/04wbo7WSVT+QRgMw7JhVP98S6AuanlU/YyOdpcqjVT/q26mEiKhVP43rRVndrFU/GP2hC9KwVT8mkXDKbrRVP6repxi7t1U/QNZ52r26VT8Kw4Jhfb1VP4ujMXj/v1U/SFZvbEnCVT9fM4sZYMRVP5m9dPFHxlU/Ps5KBQXIVT/DEEkNm8lVP6PbHHANy1U/PH+qSV/MVT83DExxk81VP99fkn+szlU/Mf+Q06zPVT+u87yXltBVP95+ZsZr0VU/2RPVLS7SVT+nnQx039JVP8OvQhqB01U/p9QJgBTUVT98xzjmmtRVP34Bk3EV1VU/kKM3LYXVVT8PaNsM69VVP23x0e5H1lU/E3fqnZzWVT8hhCPT6dZVPy0yOTcw11U/ygURZHDXVT9YUgbmqtdVP5nPGT3g11U/ytMG3hDYVT8KckAzPdhVP2yN2J1l2FU/EsVSdorYVT/B9WQNrNhVP1vnpqzK2FU/RJsyl+bYVT9YkDYKANlVP8g0ez0X2VU/HKPcYyzZVT9fr7mrP9lVPxkzWT9R2VU/InJGRWHZVT9mX6Xgb9lVP8N3fzF92VU/OtkJVYnZVT8OLuVllNlVP6T2V3ye2VU/mrCDrqfZVT9zTpUQsNlVP2tp8bS32VU/lo1crL7ZVT8F+B8GxdlVPxgXK9DK2VU/ChYyF9DZVT9dtsnm1NlVP/WzgEnZ2VU/Yuv2SN3ZVT/kdPLt4NlVP1bickDk2VU/DsrCR+fZVT8mxYcK6tlVPw==\",\"dtype\":\"float64\",\"order\":\"little\",\"shape\":[200]}},\"selected\":{\"id\":\"14347\"},\"selection_policy\":{\"id\":\"14348\"}},\"id\":\"14334\",\"type\":\"ColumnDataSource\"},{\"attributes\":{\"line_alpha\":0.1,\"line_color\":\"#aec7e8\",\"x\":{\"field\":\"x\"},\"y\":{\"field\":\"y\"}},\"id\":\"14354\",\"type\":\"Line\"},{\"attributes\":{},\"id\":\"14411\",\"type\":\"Selection\"},{\"attributes\":{\"num_minor_ticks\":10},\"id\":\"14313\",\"type\":\"LogTicker\"},{\"attributes\":{\"source\":{\"id\":\"14352\"}},\"id\":\"14356\",\"type\":\"CDSView\"},{\"attributes\":{},\"id\":\"14412\",\"type\":\"UnionRenderers\"},{\"attributes\":{\"label\":{\"value\":\"log_Kd_active=-9\"},\"renderers\":[{\"id\":\"14355\"}]},\"id\":\"14370\",\"type\":\"LegendItem\"},{\"attributes\":{},\"id\":\"14367\",\"type\":\"Selection\"},{\"attributes\":{\"axis\":{\"id\":\"14312\"},\"ticker\":null},\"id\":\"14315\",\"type\":\"Grid\"},{\"attributes\":{},\"id\":\"14368\",\"type\":\"UnionRenderers\"},{\"attributes\":{\"overlay\":{\"id\":\"14326\"}},\"id\":\"14322\",\"type\":\"BoxZoomTool\"},{\"attributes\":{\"data\":{\"x\":{\"__ndarray__\":\"lWR54X/9pT0dBVMlex+oPaBSDj1qdqo9tjmy4W8HrT10DrBOLtivPUiq3s9pd7E9SzfcsBMpsz0exy+6zAS1PfRPwi6pDrc9lv7JmCJLuT21sl6cIb+7PWxl770IcL49RMkfGuCxwD1Rge9vYVDCPStGSUIWF8Q9cofzseQJxj2qlpetEy3IPfVZP1VUhco9tr7tRswXzT35h+3qIOrPPVawUexBgdE98vCLN+Az0z3y14hfpRDVPYdovvOnG9c9jp4EBGRZ2T29JbP4xM7bPY9uKV8wgd49DMc64Ui74D1Mcw3Vs1riPdecv+1oIuQ943+kflAW5j3CbIHfszroPUQZVtVGlOo9/BLD5DEo7T0qrLakHfzvPdyiHZUfi/E94H1V1LI+8z2u1BiyhBz1PUtttguuKPc9U/QTeK1n+T3ADVglcd77PXmEiKthkv499jDv9bbEAD7AyW8LDGUCPkRp6vrBLQQ+oSZ8S8MiBj5LH2K/W0gIPoliD8JBowo+2KhkwKA4DT4Se99AEgcQPq0FY80ClRE+YgWniotJEz68D6O1aigVPmIey3q7NRc+aT1/+f51GT5LFkUnJu4bPjSof6icox4+XS06WyrOID504F0Wam8iPh1vYm0hOSQ+aYxsHD0vJj5KtY1RC1YoPkizKiBFsio+c+AH3xhJLT7Pi97DGhAwPsofRJjrnjE+s53wXWpUMz52+uxtVzQ1PoCPH0XQQjc+rUTQjFiEOT6jt3QD5P07PgbthFvhtD4+2JEaFKPXQD4+7CD5zXlCPgB5wkiHREQ+Qvtp9b07Rj5NplqawmNIPhg2avRQwUo+iAnlRZpZTT5TfTVeKBlQPl385PjZqFE+IU2kUU9fUz5XJr7eSkBVPlMp2W7sT1c+x2OTNrqSWT5bOOS+qg1cPjx6Ecovxl4+M+SQIyHhYD4c/AO3N4RiPqNZp5DzT2Q+ufdq2kVIZj6X2yGegXFoPhzEkkNl0Go+w2Q3+iRqbT7E4cISOyJwPrxra/LNsnE+9Ao2aTpqcz4tRuALRUx1PpWqH/wPXXc+nYRX+yOheT7mrpNeeh18PqKMofmH134+W1ufjKTqgD4T+lNTp46CPvjsr0hmW4Q+JUJoz9RUhj7UsT5hSH+IPo7maxKC34o+1CU9Abl6jT5G6WbkUiuQPm0E/4fHvJE+ycAbqCt1kz5NLx/5RViVPq8pHfE6apc+vyKu35WvmT48A4bnUi2cPqh4tO/p6J4+WOBJUi30oD55rF/RHJmiPlIZfXTfZqQ++Ndc2Gphpj5B+g7oFo2oPj7Yv2Wn7qo+0nQ3YFaLrT7qYgPWbzSwPgMkybzGxrE+g0vNESOAsz7I2kiqTWS1PtkV/lFtd7c+4Ewr6A++uT418MBeND28PtmrzLFV+r4+QA+Wd7v9wD7atnc0mKPCPo7QsRdfcsQ+x/RF+Qduxj4c/PI27ZrIPheHW0LV/co++W9qHP2bzT6WvXvqkT3QPlnw9JPL0NE+a3zEqSCL0z6cZi0jXHDVPnk48SKnhNc+RqZlGZLM2T57BU3JHk3cPq2ub0XLC98+KTiL/04H4T4Nm+5/Ga7iPjYR8zXlfeQ+5hMjNqx65j4Wdk1Sy6joPqiVDq0LDes+US0dO62s7T7uCLUkuUbwPmpYrxDW2vE+Vhp9cySW8z7vFp9ncXz1PnG2J2jokfc+P2j2dxzb+T7qqDUsEl38PlsmJrBKHf8+JGAy7ecQAT9Euhi3oLgCP67n59JxiQQ/b/H1kleHBj9/n4M+sbYIP6Zcq6pKHAs/XbyZwWa9DT9D9pWH5U8QP14VJzbm5BE/leJ0ci6hEz9BV3J7jYgVP3sR1SUxnxc/lmN5CK/pGT8vGImMDm0cP1HWe/fTLh8/L0KWQ4YaIT8YVkzdLcMiP1dvOfIElSQ/movCEwqUJj8BKv3/nsQoP3XsBkCSKys/yCcttSnOLT972QYWF1kwP4urjAf87jE/UIorqj6sMz+iu31isJQ1P3opL2CBrDc/CgKNz0n4OT9raljvE308P2Si/yBnQD8/LlDDBSokQT+YkeH1wM1CP7zTkpeeoEQ//yOPvMOgRj/HQiSblNJIP8EO+XHiOks/FXcnG/beTT/8qfHSTWJQPw==\",\"dtype\":\"float64\",\"order\":\"little\",\"shape\":[200]},\"y\":{\"__ndarray__\":\"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\",\"dtype\":\"float64\",\"order\":\"little\",\"shape\":[200]}},\"selected\":{\"id\":\"14436\"},\"selection_policy\":{\"id\":\"14437\"}},\"id\":\"14415\",\"type\":\"ColumnDataSource\"},{\"attributes\":{\"line_color\":\"#2ca02c\",\"x\":{\"field\":\"x\"},\"y\":{\"field\":\"y\"}},\"id\":\"14416\",\"type\":\"Line\"},{\"attributes\":{\"line_color\":\"#1f77b4\",\"x\":{\"field\":\"x\"},\"y\":{\"field\":\"y\"}},\"id\":\"14335\",\"type\":\"Line\"},{\"attributes\":{\"line_alpha\":0.1,\"line_color\":\"#2ca02c\",\"x\":{\"field\":\"x\"},\"y\":{\"field\":\"y\"}},\"id\":\"14417\",\"type\":\"Line\"},{\"attributes\":{\"source\":{\"id\":\"14415\"}},\"id\":\"14419\",\"type\":\"CDSView\"},{\"attributes\":{\"data_source\":{\"id\":\"14467\"},\"glyph\":{\"id\":\"14468\"},\"hover_glyph\":null,\"muted_glyph\":null,\"nonselection_glyph\":{\"id\":\"14469\"},\"view\":{\"id\":\"14471\"}},\"id\":\"14470\",\"type\":\"GlyphRenderer\"},{\"attributes\":{\"label\":{\"value\":\"log_Kd_active=-12\"},\"renderers\":[{\"id\":\"14418\"}]},\"id\":\"14439\",\"type\":\"LegendItem\"},{\"attributes\":{\"active_multi\":null,\"tools\":[{\"id\":\"14320\"},{\"id\":\"14321\"},{\"id\":\"14322\"},{\"id\":\"14323\"},{\"id\":\"14324\"},{\"id\":\"14325\"}]},\"id\":\"14327\",\"type\":\"Toolbar\"},{\"attributes\":{},\"id\":\"14323\",\"type\":\"SaveTool\"},{\"attributes\":{\"data_source\":{\"id\":\"14371\"},\"glyph\":{\"id\":\"14372\"},\"hover_glyph\":null,\"muted_glyph\":null,\"nonselection_glyph\":{\"id\":\"14373\"},\"view\":{\"id\":\"14375\"}},\"id\":\"14374\",\"type\":\"GlyphRenderer\"},{\"attributes\":{\"axis\":{\"id\":\"14316\"},\"dimension\":1,\"ticker\":null},\"id\":\"14319\",\"type\":\"Grid\"},{\"attributes\":{},\"id\":\"14320\",\"type\":\"PanTool\"},{\"attributes\":{\"data\":{\"x\":{\"__ndarray__\":\"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\",\"dtype\":\"float64\",\"order\":\"little\",\"shape\":[200]},\"y\":{\"__ndarray__\":\"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\",\"dtype\":\"float64\",\"order\":\"little\",\"shape\":[200]}},\"selected\":{\"id\":\"14388\"},\"selection_policy\":{\"id\":\"14389\"}},\"id\":\"14371\",\"type\":\"ColumnDataSource\"},{\"attributes\":{\"line_color\":\"#ff7f0e\",\"x\":{\"field\":\"x\"},\"y\":{\"field\":\"y\"}},\"id\":\"14372\",\"type\":\"Line\"},{\"attributes\":{},\"id\":\"14436\",\"type\":\"Selection\"},{\"attributes\":{\"line_alpha\":0.1,\"line_color\":\"#ff7f0e\",\"x\":{\"field\":\"x\"},\"y\":{\"field\":\"y\"}},\"id\":\"14373\",\"type\":\"Line\"},{\"attributes\":{},\"id\":\"14437\",\"type\":\"UnionRenderers\"},{\"attributes\":{\"source\":{\"id\":\"14371\"}},\"id\":\"14375\",\"type\":\"CDSView\"},{\"attributes\":{\"label\":{\"value\":\"log_Kd_active=-10\"},\"renderers\":[{\"id\":\"14374\"}]},\"id\":\"14391\",\"type\":\"LegendItem\"},{\"attributes\":{\"axis_label\":\"active_probability\",\"formatter\":{\"id\":\"14345\"},\"major_label_policy\":{\"id\":\"14344\"},\"ticker\":{\"id\":\"14317\"}},\"id\":\"14316\",\"type\":\"LinearAxis\"},{\"attributes\":{},\"id\":\"14321\",\"type\":\"WheelZoomTool\"},{\"attributes\":{},\"id\":\"14388\",\"type\":\"Selection\"},{\"attributes\":{},\"id\":\"14389\",\"type\":\"UnionRenderers\"},{\"attributes\":{},\"id\":\"14317\",\"type\":\"BasicTicker\"},{\"attributes\":{\"data_source\":{\"id\":\"14440\"},\"glyph\":{\"id\":\"14441\"},\"hover_glyph\":null,\"muted_glyph\":null,\"nonselection_glyph\":{\"id\":\"14442\"},\"view\":{\"id\":\"14444\"}},\"id\":\"14443\",\"type\":\"GlyphRenderer\"},{\"attributes\":{\"label\":{\"value\":\"log_Kd_active=-13\"},\"renderers\":[{\"id\":\"14443\"}]},\"id\":\"14466\",\"type\":\"LegendItem\"},{\"attributes\":{\"data\":{\"x\":{\"__ndarray__\":\"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\",\"dtype\":\"float64\",\"order\":\"little\",\"shape\":[200]},\"y\":{\"__ndarray__\":\"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\",\"dtype\":\"float64\",\"order\":\"little\",\"shape\":[200]}},\"selected\":{\"id\":\"14463\"},\"selection_policy\":{\"id\":\"14464\"}},\"id\":\"14440\",\"type\":\"ColumnDataSource\"},{\"attributes\":{\"line_color\":\"#98df8a\",\"x\":{\"field\":\"x\"},\"y\":{\"field\":\"y\"}},\"id\":\"14441\",\"type\":\"Line\"},{\"attributes\":{\"line_alpha\":0.1,\"line_color\":\"#98df8a\",\"x\":{\"field\":\"x\"},\"y\":{\"field\":\"y\"}},\"id\":\"14442\",\"type\":\"Line\"},{\"attributes\":{},\"id\":\"14324\",\"type\":\"ResetTool\"},{\"attributes\":{\"source\":{\"id\":\"14440\"}},\"id\":\"14444\",\"type\":\"CDSView\"},{\"attributes\":{\"data_source\":{\"id\":\"14392\"},\"glyph\":{\"id\":\"14393\"},\"hover_glyph\":null,\"muted_glyph\":null,\"nonselection_glyph\":{\"id\":\"14394\"},\"view\":{\"id\":\"14396\"}},\"id\":\"14395\",\"type\":\"GlyphRenderer\"},{\"attributes\":{\"data_source\":{\"id\":\"14415\"},\"glyph\":{\"id\":\"14416\"},\"hover_glyph\":null,\"muted_glyph\":null,\"nonselection_glyph\":{\"id\":\"14417\"},\"view\":{\"id\":\"14419\"}},\"id\":\"14418\",\"type\":\"GlyphRenderer\"},{\"attributes\":{\"source\":{\"id\":\"14496\"}},\"id\":\"14500\",\"type\":\"CDSView\"},{\"attributes\":{\"data\":{\"x\":{\"__ndarray__\":\"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\",\"dtype\":\"float64\",\"order\":\"little\",\"shape\":[200]},\"y\":{\"__ndarray__\":\"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\",\"dtype\":\"float64\",\"order\":\"little\",\"shape\":[200]}},\"selected\":{\"id\":\"14411\"},\"selection_policy\":{\"id\":\"14412\"}},\"id\":\"14392\",\"type\":\"ColumnDataSource\"},{\"attributes\":{\"line_color\":\"#ffbb78\",\"x\":{\"field\":\"x\"},\"y\":{\"field\":\"y\"}},\"id\":\"14393\",\"type\":\"Line\"},{\"attributes\":{},\"id\":\"14463\",\"type\":\"Selection\"},{\"attributes\":{\"line_alpha\":0.1,\"line_color\":\"#ffbb78\",\"x\":{\"field\":\"x\"},\"y\":{\"field\":\"y\"}},\"id\":\"14394\",\"type\":\"Line\"},{\"attributes\":{\"label\":{\"value\":\"log_Kd_active=-15\"},\"renderers\":[{\"id\":\"14499\"}]},\"id\":\"14526\",\"type\":\"LegendItem\"},{\"attributes\":{},\"id\":\"14464\",\"type\":\"UnionRenderers\"},{\"attributes\":{\"source\":{\"id\":\"14392\"}},\"id\":\"14396\",\"type\":\"CDSView\"},{\"attributes\":{\"label\":{\"value\":\"log_Kd_active=-11\"},\"renderers\":[{\"id\":\"14395\"}]},\"id\":\"14414\",\"type\":\"LegendItem\"},{\"attributes\":{},\"id\":\"14345\",\"type\":\"BasicTickFormatter\"},{\"attributes\":{},\"id\":\"14325\",\"type\":\"HelpTool\"}],\"root_ids\":[\"14303\"]},\"title\":\"Bokeh Application\",\"version\":\"2.3.3\"}};\n",
       "  var render_items = [{\"docid\":\"17a83e36-b3d7-4f36-ac49-8778cd95a44c\",\"root_ids\":[\"14303\"],\"roots\":{\"14303\":\"86f19270-7262-4fe8-b03a-e02346557eb1\"}}];\n",
       "  root.Bokeh.embed.embed_items_notebook(docs_json, render_items);\n",
       "\n",
       "  }\n",
       "  if (root.Bokeh !== undefined) {\n",
       "    embed_document(root);\n",
       "  } else {\n",
       "    var attempts = 0;\n",
       "    var timer = setInterval(function(root) {\n",
       "      if (root.Bokeh !== undefined) {\n",
       "        clearInterval(timer);\n",
       "        embed_document(root);\n",
       "      } else {\n",
       "        attempts++;\n",
       "        if (attempts > 100) {\n",
       "          clearInterval(timer);\n",
       "          console.log(\"Bokeh: ERROR: Unable to run BokehJS code because BokehJS library is missing\");\n",
       "        }\n",
       "      }\n",
       "    }, 10, root)\n",
       "  }\n",
       "})(window);"
      ],
      "application/vnd.bokehjs_exec.v0+json": ""
     },
     "metadata": {
      "application/vnd.bokehjs_exec.v0+json": {
       "id": "14303"
      }
     },
     "output_type": "display_data"
    }
   ],
   "source": [
    "#set up plot\n",
    "from bokeh.plotting import curdoc \n",
    "curdoc().clear()\n",
    "p = bokeh.plotting.figure(plot_height=600,\n",
    "                         plot_width=600,\n",
    "                         x_axis_label='[L-Quis]M',\n",
    "                          y_axis_label='active_probability',\n",
    "                          x_axis_type='log')\n",
    "\n",
    "colors=bokeh.palettes.d3['Category20'][20]\n",
    "\n",
    "ligand_smooth=np.logspace(-11,-3,200)\n",
    "\n",
    "for i,log_Kd_active in enumerate(range(-8,-16,-1)):    \n",
    "    p.line(ligand_smooth, agonist_only_p_active_theory(ligand_smooth, log_Kd_active, -7.7, -8), color=colors[i],legend_label='log_Kd_active='+str(log_Kd_active))\n",
    "\n",
    "\n",
    "bokeh.io.show(p);"
   ]
  },
  {
   "cell_type": "code",
   "execution_count": 169,
   "id": "f15df5c2",
   "metadata": {},
   "outputs": [
    {
     "data": {
      "text/html": [
       "\n",
       "\n",
       "\n",
       "\n",
       "\n",
       "\n",
       "  <div class=\"bk-root\" id=\"08999526-db23-431b-99d1-f9b2bc57d648\" data-root-id=\"17165\"></div>\n"
      ]
     },
     "metadata": {},
     "output_type": "display_data"
    },
    {
     "data": {
      "application/javascript": [
       "(function(root) {\n",
       "  function embed_document(root) {\n",
       "    \n",
       "  var docs_json = {\"ca578ace-96da-4d5a-8a5c-79e5afa97171\":{\"defs\":[],\"roots\":{\"references\":[{\"attributes\":{\"below\":[{\"id\":\"17174\"}],\"center\":[{\"id\":\"17177\"},{\"id\":\"17181\"}],\"height\":300,\"left\":[{\"id\":\"17178\"}],\"renderers\":[{\"id\":\"17199\"},{\"id\":\"17204\"}],\"title\":{\"id\":\"17207\"},\"toolbar\":{\"id\":\"17189\"},\"x_range\":{\"id\":\"17166\"},\"x_scale\":{\"id\":\"17170\"},\"y_range\":{\"id\":\"17168\"},\"y_scale\":{\"id\":\"17172\"}},\"id\":\"17165\",\"subtype\":\"Figure\",\"type\":\"Plot\"},{\"attributes\":{},\"id\":\"17170\",\"type\":\"LogScale\"},{\"attributes\":{\"data\":{\"x\":{\"__ndarray__\":\"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\",\"dtype\":\"float64\",\"order\":\"little\",\"shape\":[200]},\"y\":{\"__ndarray__\":\"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\",\"dtype\":\"float64\",\"order\":\"little\",\"shape\":[200]}},\"selected\":{\"id\":\"17214\"},\"selection_policy\":{\"id\":\"17215\"}},\"id\":\"17196\",\"type\":\"ColumnDataSource\"},{\"attributes\":{\"num_minor_ticks\":10},\"id\":\"17175\",\"type\":\"LogTicker\"},{\"attributes\":{},\"id\":\"17214\",\"type\":\"Selection\"},{\"attributes\":{\"active_multi\":null,\"tools\":[{\"id\":\"17182\"},{\"id\":\"17183\"},{\"id\":\"17184\"},{\"id\":\"17185\"},{\"id\":\"17186\"},{\"id\":\"17187\"}]},\"id\":\"17189\",\"type\":\"Toolbar\"},{\"attributes\":{\"data\":{\"x\":{\"__ndarray__\":\"je21oPfGsD7myhKghSCUPkivvJry13o+swgPgAQaYD46jDDijnlFPkp0fmY6wyk+ldYm6AsuET7jKWW4Lpz0PZVkeeF//aU9je21oPfGsD7myhKghSCUPkivvJry13o+swgPgAQaYD46jDDijnlFPkp0fmY6wyk+ldYm6AsuET7jKWW4Lpz0PZVkeeF//aU9je21oPfGsD7myhKghSCUPkivvJry13o+swgPgAQaYD46jDDijnlFPkp0fmY6wyk+ldYm6AsuET7jKWW4Lpz0PZVkeeF//aU9je21oPfGsD7myhKghSCUPkivvJry13o+swgPgAQaYD46jDDijnlFPkp0fmY6wyk+ldYm6AsuET7jKWW4Lpz0PZVkeeF//aU9je21oPfGsD7myhKghSCUPkivvJry13o+swgPgAQaYD46jDDijnlFPkp0fmY6wyk+ldYm6AsuET7jKWW4Lpz0PZVkeeF//aU9\",\"dtype\":\"float64\",\"order\":\"little\",\"shape\":[45]},\"y\":{\"__ndarray__\":\"UrgehetR6D8EOm2g0wbqP4Eutz/IUOk/BiBkqOww5T8h7g8yVHbYPxMREREREbE/WBvotIFOmz+sxQ5Tl9ufPw64mnhWNJI/j0UjAd+86j/JDzJUdpjqPy/5xZJfLOk/FCsaCfjm5T9pw9Tl9gfZPxMREREREbE/BXHBFmzBlj9YG+i0gU6bP6zFDlOX258/dHd3d3d35z8tlvxiyS/mP1hVVVVVVeU/gbHkF0t+4T8x0GkDnTbQP1gb6LSBTps/OxvotIFOiz9YG+i0gU6bP1gb6LSBTps/3cPU5fYH6T8Agy3Ygi3oP3R3d3d3d+c/vz7pkz7p4z/aAN+8mnjWP3sUrkfheqQ/WqmaeFY0cj+sxpp4VjSCP6zGmnhWNII/SsdxHMdx7D9MG+i0gU7rP7IEfPNq4uk/XAyVHaYu5z89BHzzauLZP6zFDlOX258/WqmaeFY0cj8AAAAAAAAAADsb6LSBTos/\",\"dtype\":\"float64\",\"order\":\"little\",\"shape\":[45]}},\"selected\":{\"id\":\"17216\"},\"selection_policy\":{\"id\":\"17217\"}},\"id\":\"17201\",\"type\":\"ColumnDataSource\"},{\"attributes\":{},\"id\":\"17187\",\"type\":\"HelpTool\"},{\"attributes\":{},\"id\":\"17166\",\"type\":\"DataRange1d\"},{\"attributes\":{\"ticker\":null},\"id\":\"17209\",\"type\":\"LogTickFormatter\"},{\"attributes\":{},\"id\":\"17207\",\"type\":\"Title\"},{\"attributes\":{},\"id\":\"17215\",\"type\":\"UnionRenderers\"},{\"attributes\":{\"data_source\":{\"id\":\"17201\"},\"glyph\":{\"id\":\"17202\"},\"hover_glyph\":null,\"muted_glyph\":null,\"nonselection_glyph\":{\"id\":\"17203\"},\"view\":{\"id\":\"17205\"}},\"id\":\"17204\",\"type\":\"GlyphRenderer\"},{\"attributes\":{},\"id\":\"17211\",\"type\":\"AllLabels\"},{\"attributes\":{},\"id\":\"17208\",\"type\":\"AllLabels\"},{\"attributes\":{},\"id\":\"17185\",\"type\":\"SaveTool\"},{\"attributes\":{\"fill_color\":{\"value\":\"#1f77b4\"},\"line_color\":{\"value\":\"#1f77b4\"},\"size\":{\"value\":7},\"x\":{\"field\":\"x\"},\"y\":{\"field\":\"y\"}},\"id\":\"17202\",\"type\":\"Circle\"},{\"attributes\":{},\"id\":\"17212\",\"type\":\"BasicTickFormatter\"},{\"attributes\":{\"line_alpha\":0.1,\"line_color\":\"#1f77b4\",\"x\":{\"field\":\"x\"},\"y\":{\"field\":\"y\"}},\"id\":\"17198\",\"type\":\"Line\"},{\"attributes\":{\"bottom_units\":\"screen\",\"fill_alpha\":0.5,\"fill_color\":\"lightgrey\",\"left_units\":\"screen\",\"level\":\"overlay\",\"line_alpha\":1.0,\"line_color\":\"black\",\"line_dash\":[4,4],\"line_width\":2,\"right_units\":\"screen\",\"syncable\":false,\"top_units\":\"screen\"},\"id\":\"17188\",\"type\":\"BoxAnnotation\"},{\"attributes\":{\"overlay\":{\"id\":\"17188\"}},\"id\":\"17184\",\"type\":\"BoxZoomTool\"},{\"attributes\":{\"line_color\":\"#1f77b4\",\"x\":{\"field\":\"x\"},\"y\":{\"field\":\"y\"}},\"id\":\"17197\",\"type\":\"Line\"},{\"attributes\":{},\"id\":\"17182\",\"type\":\"PanTool\"},{\"attributes\":{},\"id\":\"17216\",\"type\":\"Selection\"},{\"attributes\":{},\"id\":\"17186\",\"type\":\"ResetTool\"},{\"attributes\":{\"axis\":{\"id\":\"17178\"},\"dimension\":1,\"ticker\":null},\"id\":\"17181\",\"type\":\"Grid\"},{\"attributes\":{},\"id\":\"17172\",\"type\":\"LinearScale\"},{\"attributes\":{\"fill_alpha\":{\"value\":0.1},\"fill_color\":{\"value\":\"#1f77b4\"},\"line_alpha\":{\"value\":0.1},\"line_color\":{\"value\":\"#1f77b4\"},\"size\":{\"value\":7},\"x\":{\"field\":\"x\"},\"y\":{\"field\":\"y\"}},\"id\":\"17203\",\"type\":\"Circle\"},{\"attributes\":{\"axis_label\":\"active_probability\",\"formatter\":{\"id\":\"17212\"},\"major_label_policy\":{\"id\":\"17211\"},\"ticker\":{\"id\":\"17179\"}},\"id\":\"17178\",\"type\":\"LinearAxis\"},{\"attributes\":{},\"id\":\"17217\",\"type\":\"UnionRenderers\"},{\"attributes\":{\"data_source\":{\"id\":\"17196\"},\"glyph\":{\"id\":\"17197\"},\"hover_glyph\":null,\"muted_glyph\":null,\"nonselection_glyph\":{\"id\":\"17198\"},\"view\":{\"id\":\"17200\"}},\"id\":\"17199\",\"type\":\"GlyphRenderer\"},{\"attributes\":{},\"id\":\"17183\",\"type\":\"WheelZoomTool\"},{\"attributes\":{},\"id\":\"17179\",\"type\":\"BasicTicker\"},{\"attributes\":{\"axis\":{\"id\":\"17174\"},\"ticker\":null},\"id\":\"17177\",\"type\":\"Grid\"},{\"attributes\":{\"source\":{\"id\":\"17196\"}},\"id\":\"17200\",\"type\":\"CDSView\"},{\"attributes\":{},\"id\":\"17168\",\"type\":\"DataRange1d\"},{\"attributes\":{\"axis_label\":\"[L-Quis] M\",\"formatter\":{\"id\":\"17209\"},\"major_label_policy\":{\"id\":\"17208\"},\"ticker\":{\"id\":\"17175\"}},\"id\":\"17174\",\"type\":\"LogAxis\"},{\"attributes\":{\"source\":{\"id\":\"17201\"}},\"id\":\"17205\",\"type\":\"CDSView\"}],\"root_ids\":[\"17165\"]},\"title\":\"Bokeh Application\",\"version\":\"2.3.3\"}};\n",
       "  var render_items = [{\"docid\":\"ca578ace-96da-4d5a-8a5c-79e5afa97171\",\"root_ids\":[\"17165\"],\"roots\":{\"17165\":\"08999526-db23-431b-99d1-f9b2bc57d648\"}}];\n",
       "  root.Bokeh.embed.embed_items_notebook(docs_json, render_items);\n",
       "\n",
       "  }\n",
       "  if (root.Bokeh !== undefined) {\n",
       "    embed_document(root);\n",
       "  } else {\n",
       "    var attempts = 0;\n",
       "    var timer = setInterval(function(root) {\n",
       "      if (root.Bokeh !== undefined) {\n",
       "        clearInterval(timer);\n",
       "        embed_document(root);\n",
       "      } else {\n",
       "        attempts++;\n",
       "        if (attempts > 100) {\n",
       "          clearInterval(timer);\n",
       "          console.log(\"Bokeh: ERROR: Unable to run BokehJS code because BokehJS library is missing\");\n",
       "        }\n",
       "      }\n",
       "    }, 10, root)\n",
       "  }\n",
       "})(window);"
      ],
      "application/vnd.bokehjs_exec.v0+json": ""
     },
     "metadata": {
      "application/vnd.bokehjs_exec.v0+json": {
       "id": "17165"
      }
     },
     "output_type": "display_data"
    },
    {
     "name": "stdout",
     "output_type": "stream",
     "text": [
      "[-9.7814372 -7.7206871 -8.       ]\n"
     ]
    }
   ],
   "source": [
    "df = pd.read_excel('./L-quis_nomedia_curves.xlsx')\n",
    "\n",
    "\n",
    "\n",
    "#initial parameter for optimization\n",
    "p0 = np.array([-9,-7,-6])\n",
    "c, p_active = df['conc'].values, df['p_open'].values/100\n",
    "\n",
    "#optimize kd and energy difference to fit the data\n",
    "res = scipy.optimize.least_squares(resid, p0, args = (c,p_active), bounds=([-14,-14,-8],[-4,-4,np.inf]))\n",
    "\n",
    "curdoc().clear()\n",
    "p = bokeh.plotting.figure(plot_height=300,\n",
    "                         plot_width=600,\n",
    "                         x_axis_label='[L-Quis] M',\n",
    "                          y_axis_label='active_probability',\n",
    "                          x_axis_type='log')\n",
    "\n",
    "p.line(ligand_smooth, agonist_only_p_active_theory(ligand_smooth, res.x[0],res.x[1],res.x[2]))\n",
    "p.circle(c, p_active, size=7)\n",
    "\n",
    "bokeh.io.show(p);\n",
    "print(res.x)"
   ]
  },
  {
   "cell_type": "code",
   "execution_count": 170,
   "id": "3cc42a7a",
   "metadata": {},
   "outputs": [
    {
     "data": {
      "text/html": [
       "\n",
       "\n",
       "\n",
       "\n",
       "\n",
       "\n",
       "  <div class=\"bk-root\" id=\"4d7f75e9-4039-43f2-85a7-78a4158c157d\" data-root-id=\"17284\"></div>\n"
      ]
     },
     "metadata": {},
     "output_type": "display_data"
    },
    {
     "data": {
      "application/javascript": [
       "(function(root) {\n",
       "  function embed_document(root) {\n",
       "    \n",
       "  var docs_json = {\"a0e3e48e-cfd2-4920-a88a-046d2d9d5d03\":{\"defs\":[],\"roots\":{\"references\":[{\"attributes\":{\"below\":[{\"id\":\"17293\"}],\"center\":[{\"id\":\"17296\"},{\"id\":\"17300\"}],\"height\":300,\"left\":[{\"id\":\"17297\"}],\"renderers\":[{\"id\":\"17318\"},{\"id\":\"17323\"},{\"id\":\"17328\"}],\"title\":{\"id\":\"17331\"},\"toolbar\":{\"id\":\"17308\"},\"x_range\":{\"id\":\"17285\"},\"x_scale\":{\"id\":\"17289\"},\"y_range\":{\"id\":\"17287\"},\"y_scale\":{\"id\":\"17291\"}},\"id\":\"17284\",\"subtype\":\"Figure\",\"type\":\"Plot\"},{\"attributes\":{\"data_source\":{\"id\":\"17325\"},\"glyph\":{\"id\":\"17326\"},\"hover_glyph\":null,\"muted_glyph\":null,\"nonselection_glyph\":{\"id\":\"17327\"},\"view\":{\"id\":\"17329\"}},\"id\":\"17328\",\"type\":\"GlyphRenderer\"},{\"attributes\":{},\"id\":\"17289\",\"type\":\"LogScale\"},{\"attributes\":{},\"id\":\"17342\",\"type\":\"Selection\"},{\"attributes\":{\"fill_color\":{\"value\":\"#1f77b4\"},\"line_color\":{\"value\":\"#1f77b4\"},\"size\":{\"value\":7},\"x\":{\"field\":\"x\"},\"y\":{\"field\":\"y\"}},\"id\":\"17326\",\"type\":\"Circle\"},{\"attributes\":{},\"id\":\"17301\",\"type\":\"PanTool\"},{\"attributes\":{\"bottom_units\":\"screen\",\"fill_alpha\":0.5,\"fill_color\":\"lightgrey\",\"left_units\":\"screen\",\"level\":\"overlay\",\"line_alpha\":1.0,\"line_color\":\"black\",\"line_dash\":[4,4],\"line_width\":2,\"right_units\":\"screen\",\"syncable\":false,\"top_units\":\"screen\"},\"id\":\"17307\",\"type\":\"BoxAnnotation\"},{\"attributes\":{\"line_color\":\"#1f77b4\",\"x\":{\"field\":\"x\"},\"y\":{\"field\":\"y\"}},\"id\":\"17316\",\"type\":\"Line\"},{\"attributes\":{\"line_color\":\"#1f77b4\",\"x\":{\"field\":\"x\"},\"y\":{\"field\":\"y\"}},\"id\":\"17321\",\"type\":\"Line\"},{\"attributes\":{},\"id\":\"17341\",\"type\":\"UnionRenderers\"},{\"attributes\":{\"axis\":{\"id\":\"17297\"},\"dimension\":1,\"ticker\":null},\"id\":\"17300\",\"type\":\"Grid\"},{\"attributes\":{},\"id\":\"17291\",\"type\":\"LinearScale\"},{\"attributes\":{\"line_alpha\":0.1,\"line_color\":\"#1f77b4\",\"x\":{\"field\":\"x\"},\"y\":{\"field\":\"y\"}},\"id\":\"17317\",\"type\":\"Line\"},{\"attributes\":{},\"id\":\"17287\",\"type\":\"DataRange1d\"},{\"attributes\":{\"num_minor_ticks\":10},\"id\":\"17294\",\"type\":\"LogTicker\"},{\"attributes\":{\"axis_label\":\"[CDPPB] M\",\"formatter\":{\"id\":\"17333\"},\"major_label_policy\":{\"id\":\"17332\"},\"ticker\":{\"id\":\"17294\"}},\"id\":\"17293\",\"type\":\"LogAxis\"},{\"attributes\":{},\"id\":\"17339\",\"type\":\"UnionRenderers\"},{\"attributes\":{\"active_multi\":null,\"tools\":[{\"id\":\"17301\"},{\"id\":\"17302\"},{\"id\":\"17303\"},{\"id\":\"17304\"},{\"id\":\"17305\"},{\"id\":\"17306\"}]},\"id\":\"17308\",\"type\":\"Toolbar\"},{\"attributes\":{},\"id\":\"17285\",\"type\":\"DataRange1d\"},{\"attributes\":{\"data\":{\"x\":{\"__ndarray__\":\"EeotgZmXcT3RfXGNXttyPePn21BqNnQ9vCqvLGmqdT0rLihOJjl3PafqSOWN5Hg9/uBhhK+uej0Ny0irwJl8PXhYYIEfqH49HUzn4CpugD33zr7ujZyBPYUtYiuu4II9RWVurRs8hD1gbcxOg7CFPVyjDL6wP4c935jQtZDriD1sqP9cM7aKPacOtdLOoYw9YUEM6cGwjj0LChWJy3KQPY6fj8GDoZE97qtBSP/lkj3EQXekzkGUPSdI4iiftpU9+P6KBT1Glz1EnNl/lfKYPSYtdlO5vZo9dE3uPt+pnD1QTka/ZrmePf2o6n5td6A9LvoE+nqmoT0x03vkUeuiPXEYajaDR6Q9w6Vsu7y8pT1HFCgly0ynPThU8kOc+ag9RwteaEHFqj06HJjw8bGsPZzWvQQOwq49ICLGwhB8sD2DmYOYc6uxPdKbfACm8LI976S6YzlNtD3Ok+cG3MK1PfzbaB1bU7c9GkmpAqUAuT3nCVCcy8y6Pc49VugGurw9AGMiurfKvj0ZiQVVtYDAPZpUcJ1tsME9vhywnPv1wj12w9ws8VLEPdJCzwv9yMU9PXTS7uxZxz2IKo28rwfJPSQb5e9X1Mo9KKPMJh7CzD3JrSPgY9POPQ0MBzZbhdA95x4wCWm10T1Ui4K5UvvSPeJwRJKqWNQ9Uwagyh/P1T2sIOqZgGDXPTnRLHK8Dtk9MVy2Y+bb2j1qa5+sN8rcPTaicXcS3N49pPMoZgKK4D1MCCjcZbrhPW07YFerAOM9uspllGVe5D3aVNZDRNXlPXdKNR8WZ+c9Nj0XJMsV6T1hFV34duPqPfHjcnpT0uw9Cl68gMPk7j0Zo8nlqo7wPSE9vRZkv/E9ZJ+1dgUG8z05D7UzImT0Pf3H7ndq2/U9XIA5f61t9z22l9vS2xz5PTK6cq4J6/o9XojrkHHa/D2FL7T8du3+PTmYR7VUkwA+PgZVuWPEAT4fSO8XYQsDPledpnDgaQQ+axxmZ5LhBT65dny6RnQHPlsxCX/uIwk+WumQhp7yCj6pAq7wkeIMPq6XCews9g4+b2sB1f+XED4ByVTEZMkRPhrleTu+EBM+0vSuS6BvFD70MbkSvOcVPpIHhNHhehc+DYQvKQMrGT7UbFGBNfoaPicrX5q06hw+I0htT+X+Hj7Lz1VFrJwgPlgHIjhnziE+gETC4RwWIz45tkLFYXUkPpILZXrn7SU+oTLWxH6BJz41Md7RGTIpPus5Tp/OASs+ngikjtnyLD5lJZAnoAcvPgiTowZaoTA+x18iFWvTMT7MUjULfRszPvOi1t0kezQ+ec/mnhT0NT5bHfmUHYg3PpUDpXkyOTk+R3Eh4WkJOz5N0CHOAPs8PqdEI3VdED8+lp1JGQmmQD5wjbtbcNhBPr8bQLjeIEM+Sp3flemARD4Yx7uAQ/pFPgwTc0K+jkc+me0TIU1AST74XmVHBxFLPvrlfVkqA00+C+7XOB0ZTz6e8qZ9uapQPh5oUwx33VE+K8lP6UEmUz5oqNLtr4ZUPipfYSB0AFY+qYTKzWCVVz7VCrvIaUdZPoV6tNKmGFs+AdxdMVYLXT7bml9z3yFfPg2wGjRrr2A+SeRPJ3/iYT4dpNGepitjPo3oJOZ3jGQ+vSdVfqYGZj4wCYY3BZxnPiyfKnGITmk+9Gapg0ggaz5hc2dWhBNtPrf2ayWkKm8+mw4EPR60cD4iExetiOdxPi8UM9kMMXM+16JLf0GSdD461BSb2gx2PnVdLICronc+MRfzGqlVeT7a8t5a7Cd7PsWbQMm0G30+ON+uT2szfz7PYcKY0riAPpgiD56T7IE+15/hmHQ2gz50Pby5DJiEPnU7HncQE4Y+Q2REqFOphz4kCKXGy1yJPmYY8FiSL4s+mHOPiucjjT4PZNryNDyPPgsYtUeIvZA+Yl2e+p/xkT5m7Ere3TuTPqY/7JXZnZQ+sFfvEkgZlj5hJlWw/a+XPv0v0XTwY5k+bf13fjo3mz4LSPqaHCydPhLHoA8BRZ8+kbo7Sj/CoD4GKyvDrfahPgy+3KlIQaM+0VFRFKijpD6rRgZvgR+mPp3S5Ziptqc+enUIJhdrqT518xHM5D6rPjqVJ/tTNK0+Tny0ps9Nrz6N7bWg98awPg==\",\"dtype\":\"float64\",\"order\":\"little\",\"shape\":[200]},\"y\":{\"__ndarray__\":\"J+p0adv6NT9byWG95vo1P71iyeHy+jU/I5qo5f/6NT8oKhDZDfs1P654OM0c+zU/cdiW1Cz7NT/DUfQCPvs1P5MOhm1Q+zU/+ocHK2T7NT+DldZTefs1P9uAEQKQ+zU/G0O3Uaj7NT9eE8pgwvs1P0ZxdE/e+zU/S9kwQPz7NT/BU/RXHPw1PwcTXL4+/DU/YVnenWP8NT+k4v4ji/w1P5ASh4G1/DU/CC3C6uL8NT+s4r2XE/01P0uBj8RH/TU/yB2esX/9NT/YEvKju/01P8g2iuX7/TU/azG3xUD+NT/8Yn2Ziv41P8/U/bvZ/jU/OLXmji7/NT+Z6et6if81P2NLSPDq/zU/jy9IZ1MANj98491gwwA2P4vWQGc7ATY/4jSYDrwBNj/SxbH1RQI2P8rvxcbZAjY/ftNJOHgDNj/KgdANIgQ2Pydi/BjYBDY/o/OBOpsFNj/GJz1jbAY2P5KtWpVMBzY/pZuW5TwINj+jApJ8Pgk2P4ANQZhSCjY/g3NzjXoLNj8+IHnJtww2P6cY5dMLDjY/pclwUHgPNj+NFAIB/xA2P76Y1sehEjY/mOfWqWIUNj8kgRTRQxY2P7SsdY9HGDY/M3mSYXAaNj95bcbxwBw2PwSyehs8HzY/FsOs7uQhNj+7BLazviQ2P37iWO/MJzY/63kYZxMrNj9iK+Alli42P5XOAIFZMjY/WLKJHWI2Nj/L/wP2tDo2P6eSl2BXPzY/KtqgFU9ENj9a4b82okk2P6YyaVZXTzY/ruoBgHVVNj+e+ZBABFw2P8RJELALYzY/TEdpe5RqNj90Fynvp3I2P/mv+QJQezY/QfHtZZeENj916a+LiY42P6R8oboymTY/8tcAG6CkNj8PVSPH37A2P+XI2twAvjY/F6cakBPMNj8n7PM+Kds2P5pkAIdU6zY/9alXXKn8Nj+pECoiPQ83PyLHH8UmIzc/X4+c1344Nz+TzQqwX083PzAhU4nlZzc/gWWopS6CNz9hz9JzW543P/PoJ7eOvDc/Pm9gsu3cNz/EkoBVoP83P43ZCm/RJDg/BeC54K5MOD8nfwHYaXc4PytynAo3pTg/mn1w907WOD/sVxgs7go5P1YwaI9VQzk/dbBHscp/OT9zwEIgmMA5PzkyOcUNBjo/d82cRYFQOj8XDrVsTqA6PwdHaJzX9To/Zc8SRoZROz9kbv5ry7M7PyBxFiwgHTw/ELp/VAaOPD/cu8cCCQc9PxC5aU69iD0/Bt12/8ITPj/l3TtSxag+PxDdzch7SD8/Yz94C6vzPz84H4vsklVAPzOLOgTnt0A/YH33zUohQT9cvEH0P5JBP2bX42hRC0I/WusPDhSNQj/rDGZrJxhDP/JJtm82rUM/3exdQPhMRD+JLS4XMfhEP4XM2S+zr0U/Zzr3xV90Rj+Q8bUkKEdHP7iHd8kOKUg/rsOPmigbST9irIIznh5KPy8TLEitNEs/sotRIKpeTD/iCzYtAZ5NP8OM3bo49E4/EXJjX3kxUD/PUP1i9/VQP+VzMwKGyFE/1u7MwyWqUj++KINH6ZtTP6IfDIb2nlQ/Ung8Joi0VT/lBn7o7t1WPz/u4ymTHFg/K1sxgPZxWT/K9DJwtd9aP+Uc1T+JZ1w/0LFp5UkLXj+YyJYV8MxfPzEvtrhL12A/L14Qa0DZYT+M0vhniu1iPz5W0RhzFWQ/dUADaVpSZT/YR3g4uKVmP8ueauIdEWg/id8f2TeWaT+eEQ5XzzZrP61r0CXM9Gw/n5YxezbSbj++FTV2nGhwP11zwTsRenE/TbxIUbSecj/G0yHY1NdzP4CqbnTXJnU/fqo4ezeNdj84rVgpiAx4P/pkGuJ1pnk/fJxDdMdcez/r9NVjXzF9P/jahDY9Jn8/cCo4YL+egD+SjR+3sLyBP34bl8Qh7oI/2bCMuFI0hD87ce5jlZCFP7eeX8RNBIc/IEPngvKQiD8rWiViDTiKP7lYKpg7+4s/txeVDy7cjT9aWB2LqdyPPzhdF1ND/5A/pINZ1tghkj//4dIhFVeTP7+pxG0BoJQ/qdat8q/9lT8ZZR1hO3GXPzypxjLG+5g/suag0Hmemj9qyMqJhVqcP8f87lYdMZ4/QAQDM7wRoD9z2ke1ZxmhPw==\",\"dtype\":\"float64\",\"order\":\"little\",\"shape\":[200]}},\"selected\":{\"id\":\"17340\"},\"selection_policy\":{\"id\":\"17341\"}},\"id\":\"17320\",\"type\":\"ColumnDataSource\"},{\"attributes\":{},\"id\":\"17306\",\"type\":\"HelpTool\"},{\"attributes\":{\"axis_label\":\"active_probability\",\"formatter\":{\"id\":\"17336\"},\"major_label_policy\":{\"id\":\"17335\"},\"ticker\":{\"id\":\"17298\"}},\"id\":\"17297\",\"type\":\"LinearAxis\"},{\"attributes\":{},\"id\":\"17338\",\"type\":\"Selection\"},{\"attributes\":{},\"id\":\"17305\",\"type\":\"ResetTool\"},{\"attributes\":{},\"id\":\"17298\",\"type\":\"BasicTicker\"},{\"attributes\":{},\"id\":\"17302\",\"type\":\"WheelZoomTool\"},{\"attributes\":{},\"id\":\"17304\",\"type\":\"SaveTool\"},{\"attributes\":{\"line_alpha\":0.1,\"line_color\":\"#1f77b4\",\"x\":{\"field\":\"x\"},\"y\":{\"field\":\"y\"}},\"id\":\"17322\",\"type\":\"Line\"},{\"attributes\":{\"source\":{\"id\":\"17320\"}},\"id\":\"17324\",\"type\":\"CDSView\"},{\"attributes\":{\"fill_alpha\":{\"value\":0.1},\"fill_color\":{\"value\":\"#1f77b4\"},\"line_alpha\":{\"value\":0.1},\"line_color\":{\"value\":\"#1f77b4\"},\"size\":{\"value\":7},\"x\":{\"field\":\"x\"},\"y\":{\"field\":\"y\"}},\"id\":\"17327\",\"type\":\"Circle\"},{\"attributes\":{},\"id\":\"17335\",\"type\":\"AllLabels\"},{\"attributes\":{\"ticker\":null},\"id\":\"17333\",\"type\":\"LogTickFormatter\"},{\"attributes\":{\"data\":{\"x\":{\"__ndarray__\":\"EeotgZmXcT3RfXGNXttyPePn21BqNnQ9vCqvLGmqdT0rLihOJjl3PafqSOWN5Hg9/uBhhK+uej0Ny0irwJl8PXhYYIEfqH49HUzn4CpugD33zr7ujZyBPYUtYiuu4II9RWVurRs8hD1gbcxOg7CFPVyjDL6wP4c935jQtZDriD1sqP9cM7aKPacOtdLOoYw9YUEM6cGwjj0LChWJy3KQPY6fj8GDoZE97qtBSP/lkj3EQXekzkGUPSdI4iiftpU9+P6KBT1Glz1EnNl/lfKYPSYtdlO5vZo9dE3uPt+pnD1QTka/ZrmePf2o6n5td6A9LvoE+nqmoT0x03vkUeuiPXEYajaDR6Q9w6Vsu7y8pT1HFCgly0ynPThU8kOc+ag9RwteaEHFqj06HJjw8bGsPZzWvQQOwq49ICLGwhB8sD2DmYOYc6uxPdKbfACm8LI976S6YzlNtD3Ok+cG3MK1PfzbaB1bU7c9GkmpAqUAuT3nCVCcy8y6Pc49VugGurw9AGMiurfKvj0ZiQVVtYDAPZpUcJ1tsME9vhywnPv1wj12w9ws8VLEPdJCzwv9yMU9PXTS7uxZxz2IKo28rwfJPSQb5e9X1Mo9KKPMJh7CzD3JrSPgY9POPQ0MBzZbhdA95x4wCWm10T1Ui4K5UvvSPeJwRJKqWNQ9Uwagyh/P1T2sIOqZgGDXPTnRLHK8Dtk9MVy2Y+bb2j1qa5+sN8rcPTaicXcS3N49pPMoZgKK4D1MCCjcZbrhPW07YFerAOM9uspllGVe5D3aVNZDRNXlPXdKNR8WZ+c9Nj0XJMsV6T1hFV34duPqPfHjcnpT0uw9Cl68gMPk7j0Zo8nlqo7wPSE9vRZkv/E9ZJ+1dgUG8z05D7UzImT0Pf3H7ndq2/U9XIA5f61t9z22l9vS2xz5PTK6cq4J6/o9XojrkHHa/D2FL7T8du3+PTmYR7VUkwA+PgZVuWPEAT4fSO8XYQsDPledpnDgaQQ+axxmZ5LhBT65dny6RnQHPlsxCX/uIwk+WumQhp7yCj6pAq7wkeIMPq6XCews9g4+b2sB1f+XED4ByVTEZMkRPhrleTu+EBM+0vSuS6BvFD70MbkSvOcVPpIHhNHhehc+DYQvKQMrGT7UbFGBNfoaPicrX5q06hw+I0htT+X+Hj7Lz1VFrJwgPlgHIjhnziE+gETC4RwWIz45tkLFYXUkPpILZXrn7SU+oTLWxH6BJz41Md7RGTIpPus5Tp/OASs+ngikjtnyLD5lJZAnoAcvPgiTowZaoTA+x18iFWvTMT7MUjULfRszPvOi1t0kezQ+ec/mnhT0NT5bHfmUHYg3PpUDpXkyOTk+R3Eh4WkJOz5N0CHOAPs8PqdEI3VdED8+lp1JGQmmQD5wjbtbcNhBPr8bQLjeIEM+Sp3flemARD4Yx7uAQ/pFPgwTc0K+jkc+me0TIU1AST74XmVHBxFLPvrlfVkqA00+C+7XOB0ZTz6e8qZ9uapQPh5oUwx33VE+K8lP6UEmUz5oqNLtr4ZUPipfYSB0AFY+qYTKzWCVVz7VCrvIaUdZPoV6tNKmGFs+AdxdMVYLXT7bml9z3yFfPg2wGjRrr2A+SeRPJ3/iYT4dpNGepitjPo3oJOZ3jGQ+vSdVfqYGZj4wCYY3BZxnPiyfKnGITmk+9Gapg0ggaz5hc2dWhBNtPrf2ayWkKm8+mw4EPR60cD4iExetiOdxPi8UM9kMMXM+16JLf0GSdD461BSb2gx2PnVdLICronc+MRfzGqlVeT7a8t5a7Cd7PsWbQMm0G30+ON+uT2szfz7PYcKY0riAPpgiD56T7IE+15/hmHQ2gz50Pby5DJiEPnU7HncQE4Y+Q2REqFOphz4kCKXGy1yJPmYY8FiSL4s+mHOPiucjjT4PZNryNDyPPgsYtUeIvZA+Yl2e+p/xkT5m7Ere3TuTPqY/7JXZnZQ+sFfvEkgZlj5hJlWw/a+XPv0v0XTwY5k+bf13fjo3mz4LSPqaHCydPhLHoA8BRZ8+kbo7Sj/CoD4GKyvDrfahPgy+3KlIQaM+0VFRFKijpD6rRgZvgR+mPp3S5Ziptqc+enUIJhdrqT518xHM5D6rPjqVJ/tTNK0+Tny0ps9Nrz6N7bWg98awPg==\",\"dtype\":\"float64\",\"order\":\"little\",\"shape\":[200]},\"y\":{\"__ndarray__\":\"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\",\"dtype\":\"float64\",\"order\":\"little\",\"shape\":[200]}},\"selected\":{\"id\":\"17338\"},\"selection_policy\":{\"id\":\"17339\"}},\"id\":\"17315\",\"type\":\"ColumnDataSource\"},{\"attributes\":{\"axis\":{\"id\":\"17293\"},\"ticker\":null},\"id\":\"17296\",\"type\":\"Grid\"},{\"attributes\":{},\"id\":\"17331\",\"type\":\"Title\"},{\"attributes\":{},\"id\":\"17340\",\"type\":\"Selection\"},{\"attributes\":{},\"id\":\"17332\",\"type\":\"AllLabels\"},{\"attributes\":{\"source\":{\"id\":\"17315\"}},\"id\":\"17319\",\"type\":\"CDSView\"},{\"attributes\":{\"data_source\":{\"id\":\"17315\"},\"glyph\":{\"id\":\"17316\"},\"hover_glyph\":null,\"muted_glyph\":null,\"nonselection_glyph\":{\"id\":\"17317\"},\"view\":{\"id\":\"17319\"}},\"id\":\"17318\",\"type\":\"GlyphRenderer\"},{\"attributes\":{\"source\":{\"id\":\"17325\"}},\"id\":\"17329\",\"type\":\"CDSView\"},{\"attributes\":{\"data\":{\"x\":{\"__ndarray__\":\"JLxllFk3Cj/xaOOItfjkPrv2lrCrxsA+D4t/nP/Wmj4/4UdNa3h1PmFBquXULFE+iTxe2nF6Kz6VZHnhf/2lPSS8ZZRZNwo/8WjjiLX45D679pawq8bAPg+Lf5z/1po+P+FHTWt4dT5hQarl1CxRPok8Xtpxeis+lWR54X/9pT0kvGWUWTcKP/Fo44i1+OQ+u/aWsKvGwD4Pi3+c/9aaPj/hR01reHU+YUGq5dQsUT6JPF7acXorPpVkeeF//aU9JLxllFk3Cj/xaOOItfjkPrv2lrCrxsA+D4t/nP/Wmj4/4UdNa3h1PmFBquXULFE+iTxe2nF6Kz6VZHnhf/2lPSS8ZZRZNwo/8WjjiLX45D679pawq8bAPg+Lf5z/1po+P+FHTWt4dT5hQarl1CxRPok8Xtpxeis+lWR54X/9pT0=\",\"dtype\":\"float64\",\"order\":\"little\",\"shape\":[40]},\"y\":{\"__ndarray__\":\"uB6F61G4zj80P+mTPunDPxMREREREbE/BXHBFmzBlj8OuJp4VjSSPzsb6LSBTos/BXHBFmzBlj8OuJp4VjSSP65BhsoOU9c/ycdxHMdxzD/0xXEcx3G8PwVxwRZswZY/rMaaeFY0gj8OuJp4VjSSP6zGmnhWNII/rMUOU5fbnz8x0GkDnTbQPwUREREREcE/exSuR+F6pD8AAAAAAAAAADsb6LSBTos/OxvotIFOiz87G+i0gU6LP1gb6LSBTps/Y/1BhsoO0z/xF0t+seTHPwG/N68mnrU/rMaaeFY0gj8AAAAAAAAAAAAAAAAAAAAAAAAAAAAAAACsxpp4VjSCP7p782riWdE/0pJfLPnFwj8uxtTl9gepPwAAAAAAAAAAAAAAAAAAAAAAAAAAAAAAAAAAAAAAAAAAOxvotIFOiz8=\",\"dtype\":\"float64\",\"order\":\"little\",\"shape\":[40]}},\"selected\":{\"id\":\"17342\"},\"selection_policy\":{\"id\":\"17343\"}},\"id\":\"17325\",\"type\":\"ColumnDataSource\"},{\"attributes\":{},\"id\":\"17343\",\"type\":\"UnionRenderers\"},{\"attributes\":{\"data_source\":{\"id\":\"17320\"},\"glyph\":{\"id\":\"17321\"},\"hover_glyph\":null,\"muted_glyph\":null,\"nonselection_glyph\":{\"id\":\"17322\"},\"view\":{\"id\":\"17324\"}},\"id\":\"17323\",\"type\":\"GlyphRenderer\"},{\"attributes\":{\"overlay\":{\"id\":\"17307\"}},\"id\":\"17303\",\"type\":\"BoxZoomTool\"},{\"attributes\":{},\"id\":\"17336\",\"type\":\"BasicTickFormatter\"}],\"root_ids\":[\"17284\"]},\"title\":\"Bokeh Application\",\"version\":\"2.3.3\"}};\n",
       "  var render_items = [{\"docid\":\"a0e3e48e-cfd2-4920-a88a-046d2d9d5d03\",\"root_ids\":[\"17284\"],\"roots\":{\"17284\":\"4d7f75e9-4039-43f2-85a7-78a4158c157d\"}}];\n",
       "  root.Bokeh.embed.embed_items_notebook(docs_json, render_items);\n",
       "\n",
       "  }\n",
       "  if (root.Bokeh !== undefined) {\n",
       "    embed_document(root);\n",
       "  } else {\n",
       "    var attempts = 0;\n",
       "    var timer = setInterval(function(root) {\n",
       "      if (root.Bokeh !== undefined) {\n",
       "        clearInterval(timer);\n",
       "        embed_document(root);\n",
       "      } else {\n",
       "        attempts++;\n",
       "        if (attempts > 100) {\n",
       "          clearInterval(timer);\n",
       "          console.log(\"Bokeh: ERROR: Unable to run BokehJS code because BokehJS library is missing\");\n",
       "        }\n",
       "      }\n",
       "    }, 10, root)\n",
       "  }\n",
       "})(window);"
      ],
      "application/vnd.bokehjs_exec.v0+json": ""
     },
     "metadata": {
      "application/vnd.bokehjs_exec.v0+json": {
       "id": "17284"
      }
     },
     "output_type": "display_data"
    },
    {
     "name": "stdout",
     "output_type": "stream",
     "text": [
      "[-8.03944723 -4.86304141 -8.        ]\n"
     ]
    }
   ],
   "source": [
    "df_pam = pd.read_excel('./CDPPB_nomedia_curves.xlsx')\n",
    "\n",
    "\n",
    "#initial parameter for optimization\n",
    "p0 = np.array([-4,-3,-8])\n",
    "c_pam, p_active_pam = df_pam['conc'].values, df_pam['p_open'].values/100\n",
    "\n",
    "#optimize kd and energy difference to fit the data\n",
    "res_pam = scipy.optimize.least_squares(resid_PAM, p0, args = (c_pam,p_active_pam))\n",
    "\n",
    "curdoc().clear()\n",
    "p = bokeh.plotting.figure(plot_height=300,\n",
    "                         plot_width=600,\n",
    "                         x_axis_label='[CDPPB] M',\n",
    "                          y_axis_label='active_probability',\n",
    "                          x_axis_type='log')\n",
    "\n",
    "\n",
    "p.line(ligand_smooth, PAM_only_p_active_theory(ligand_smooth, -8,-4.863,-8))\n",
    "p.line(ligand_smooth, PAM_only_p_active_theory(ligand_smooth, res_pam.x[0],res_pam.x[1],res_pam.x[2]))\n",
    "p.circle(c_pam, p_active_pam, size=7)\n",
    "\n",
    "bokeh.io.show(p);\n",
    "print(res_pam.x)"
   ]
  },
  {
   "cell_type": "code",
   "execution_count": 133,
   "id": "d5c943c0",
   "metadata": {},
   "outputs": [],
   "source": [
    "def both_p_active_theory(c_agonist, c_pam, log_Ka, log_Ki, log_Kpa, log_Kpi,  beta_deltaE):\n",
    "    \"theoretical curve for mglur5 active probability\"\n",
    "    Ka = 10**log_Ka\n",
    "    Ki = 10**log_Ki\n",
    "    Kpa = 10**log_Kpa\n",
    "    Kpi = 10**log_Kpi\n",
    "    \n",
    "    a = (1 + c_agonist/Ka)**2\n",
    "\n",
    "    b = (1 + c_agonist/Ki)**2\n",
    "    \n",
    "    c = (1 + c_pam/Kpa)\n",
    "\n",
    "    d = (1 + c_pam/Kpi)\n",
    "\n",
    "    return a*c/(a*c+b*d*np.exp(-beta_deltaE))"
   ]
  },
  {
   "cell_type": "code",
   "execution_count": 168,
   "id": "04b8f1d9",
   "metadata": {},
   "outputs": [
    {
     "data": {
      "text/html": [
       "\n",
       "\n",
       "\n",
       "\n",
       "\n",
       "\n",
       "  <div class=\"bk-root\" id=\"f3d25a22-f047-475a-b27a-f53167dfd200\" data-root-id=\"17063\"></div>\n"
      ]
     },
     "metadata": {},
     "output_type": "display_data"
    },
    {
     "data": {
      "application/javascript": [
       "(function(root) {\n",
       "  function embed_document(root) {\n",
       "    \n",
       "  var docs_json = {\"09ad718e-8061-4db8-ae5d-636c48170eed\":{\"defs\":[],\"roots\":{\"references\":[{\"attributes\":{\"below\":[{\"id\":\"17072\"}],\"center\":[{\"id\":\"17075\"},{\"id\":\"17079\"}],\"height\":300,\"left\":[{\"id\":\"17076\"}],\"renderers\":[{\"id\":\"17097\"}],\"title\":{\"id\":\"17100\"},\"toolbar\":{\"id\":\"17087\"},\"x_range\":{\"id\":\"17064\"},\"x_scale\":{\"id\":\"17068\"},\"y_range\":{\"id\":\"17066\"},\"y_scale\":{\"id\":\"17070\"}},\"id\":\"17063\",\"subtype\":\"Figure\",\"type\":\"Plot\"},{\"attributes\":{\"axis_label\":\"[L-Quis] M\",\"formatter\":{\"id\":\"17102\"},\"major_label_policy\":{\"id\":\"17101\"},\"ticker\":{\"id\":\"17073\"}},\"id\":\"17072\",\"type\":\"LogAxis\"},{\"attributes\":{},\"id\":\"17080\",\"type\":\"PanTool\"},{\"attributes\":{\"bottom_units\":\"screen\",\"fill_alpha\":0.5,\"fill_color\":\"lightgrey\",\"left_units\":\"screen\",\"level\":\"overlay\",\"line_alpha\":1.0,\"line_color\":\"black\",\"line_dash\":[4,4],\"line_width\":2,\"right_units\":\"screen\",\"syncable\":false,\"top_units\":\"screen\"},\"id\":\"17086\",\"type\":\"BoxAnnotation\"},{\"attributes\":{},\"id\":\"17105\",\"type\":\"BasicTickFormatter\"},{\"attributes\":{},\"id\":\"17101\",\"type\":\"AllLabels\"},{\"attributes\":{},\"id\":\"17084\",\"type\":\"ResetTool\"},{\"attributes\":{},\"id\":\"17107\",\"type\":\"Selection\"},{\"attributes\":{},\"id\":\"17100\",\"type\":\"Title\"},{\"attributes\":{\"source\":{\"id\":\"17094\"}},\"id\":\"17098\",\"type\":\"CDSView\"},{\"attributes\":{},\"id\":\"17104\",\"type\":\"AllLabels\"},{\"attributes\":{},\"id\":\"17068\",\"type\":\"LogScale\"},{\"attributes\":{\"line_color\":\"#1f77b4\",\"x\":{\"field\":\"x\"},\"y\":{\"field\":\"y\"}},\"id\":\"17095\",\"type\":\"Line\"},{\"attributes\":{\"active_multi\":null,\"tools\":[{\"id\":\"17080\"},{\"id\":\"17081\"},{\"id\":\"17082\"},{\"id\":\"17083\"},{\"id\":\"17084\"},{\"id\":\"17085\"}]},\"id\":\"17087\",\"type\":\"Toolbar\"},{\"attributes\":{\"data\":{\"x\":{\"__ndarray__\":\"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\",\"dtype\":\"float64\",\"order\":\"little\",\"shape\":[200]},\"y\":{\"__ndarray__\":\"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\",\"dtype\":\"float64\",\"order\":\"little\",\"shape\":[200]}},\"selected\":{\"id\":\"17107\"},\"selection_policy\":{\"id\":\"17108\"}},\"id\":\"17094\",\"type\":\"ColumnDataSource\"},{\"attributes\":{},\"id\":\"17083\",\"type\":\"SaveTool\"},{\"attributes\":{\"line_alpha\":0.1,\"line_color\":\"#1f77b4\",\"x\":{\"field\":\"x\"},\"y\":{\"field\":\"y\"}},\"id\":\"17096\",\"type\":\"Line\"},{\"attributes\":{\"data_source\":{\"id\":\"17094\"},\"glyph\":{\"id\":\"17095\"},\"hover_glyph\":null,\"muted_glyph\":null,\"nonselection_glyph\":{\"id\":\"17096\"},\"view\":{\"id\":\"17098\"}},\"id\":\"17097\",\"type\":\"GlyphRenderer\"},{\"attributes\":{},\"id\":\"17070\",\"type\":\"LinearScale\"},{\"attributes\":{\"axis\":{\"id\":\"17072\"},\"ticker\":null},\"id\":\"17075\",\"type\":\"Grid\"},{\"attributes\":{},\"id\":\"17066\",\"type\":\"DataRange1d\"},{\"attributes\":{\"ticker\":null},\"id\":\"17102\",\"type\":\"LogTickFormatter\"},{\"attributes\":{\"axis_label\":\"active_probability\",\"formatter\":{\"id\":\"17105\"},\"major_label_policy\":{\"id\":\"17104\"},\"ticker\":{\"id\":\"17077\"}},\"id\":\"17076\",\"type\":\"LinearAxis\"},{\"attributes\":{},\"id\":\"17081\",\"type\":\"WheelZoomTool\"},{\"attributes\":{},\"id\":\"17064\",\"type\":\"DataRange1d\"},{\"attributes\":{},\"id\":\"17108\",\"type\":\"UnionRenderers\"},{\"attributes\":{},\"id\":\"17085\",\"type\":\"HelpTool\"},{\"attributes\":{},\"id\":\"17077\",\"type\":\"BasicTicker\"},{\"attributes\":{\"overlay\":{\"id\":\"17086\"}},\"id\":\"17082\",\"type\":\"BoxZoomTool\"},{\"attributes\":{\"axis\":{\"id\":\"17076\"},\"dimension\":1,\"ticker\":null},\"id\":\"17079\",\"type\":\"Grid\"},{\"attributes\":{\"num_minor_ticks\":10},\"id\":\"17073\",\"type\":\"LogTicker\"}],\"root_ids\":[\"17063\"]},\"title\":\"Bokeh Application\",\"version\":\"2.3.3\"}};\n",
       "  var render_items = [{\"docid\":\"09ad718e-8061-4db8-ae5d-636c48170eed\",\"root_ids\":[\"17063\"],\"roots\":{\"17063\":\"f3d25a22-f047-475a-b27a-f53167dfd200\"}}];\n",
       "  root.Bokeh.embed.embed_items_notebook(docs_json, render_items);\n",
       "\n",
       "  }\n",
       "  if (root.Bokeh !== undefined) {\n",
       "    embed_document(root);\n",
       "  } else {\n",
       "    var attempts = 0;\n",
       "    var timer = setInterval(function(root) {\n",
       "      if (root.Bokeh !== undefined) {\n",
       "        clearInterval(timer);\n",
       "        embed_document(root);\n",
       "      } else {\n",
       "        attempts++;\n",
       "        if (attempts > 100) {\n",
       "          clearInterval(timer);\n",
       "          console.log(\"Bokeh: ERROR: Unable to run BokehJS code because BokehJS library is missing\");\n",
       "        }\n",
       "      }\n",
       "    }, 10, root)\n",
       "  }\n",
       "})(window);"
      ],
      "application/vnd.bokehjs_exec.v0+json": ""
     },
     "metadata": {
      "application/vnd.bokehjs_exec.v0+json": {
       "id": "17063"
      }
     },
     "output_type": "display_data"
    }
   ],
   "source": [
    "curdoc().clear()\n",
    "p = bokeh.plotting.figure(plot_height=300,\n",
    "                         plot_width=600,\n",
    "                         x_axis_label='[L-Quis] M',\n",
    "                          y_axis_label='active_probability',\n",
    "                          x_axis_type='log')\n",
    "\n",
    "ligand_smooth=np.logspace(-12,-6,200)\n",
    "p.line(ligand_smooth, both_p_active_theory(ligand_smooth, 1e-05, res.x[0],res.x[1], res_pam.x[0],res_pam.x[1], -8))\n",
    "\n",
    "bokeh.io.show(p);"
   ]
  },
  {
   "cell_type": "code",
   "execution_count": 136,
   "id": "e7c80f12",
   "metadata": {},
   "outputs": [
    {
     "data": {
      "text/plain": [
       "array([-9.73023445, -7.02700897, -8.        ])"
      ]
     },
     "execution_count": 136,
     "metadata": {},
     "output_type": "execute_result"
    }
   ],
   "source": [
    "res.x"
   ]
  },
  {
   "cell_type": "code",
   "execution_count": 137,
   "id": "6eda0c5b",
   "metadata": {},
   "outputs": [
    {
     "data": {
      "text/plain": [
       "array([-9.39200986, -5.466886  , -7.99999898])"
      ]
     },
     "execution_count": 137,
     "metadata": {},
     "output_type": "execute_result"
    }
   ],
   "source": [
    "res_pam.x"
   ]
  },
  {
   "cell_type": "code",
   "execution_count": 138,
   "id": "94f30456",
   "metadata": {},
   "outputs": [
    {
     "data": {
      "text/plain": [
       "1e-05"
      ]
     },
     "execution_count": 138,
     "metadata": {},
     "output_type": "execute_result"
    }
   ],
   "source": [
    "10000*10**(-9)"
   ]
  },
  {
   "cell_type": "code",
   "execution_count": 139,
   "id": "9757c96e",
   "metadata": {},
   "outputs": [
    {
     "data": {
      "text/plain": [
       "1e-05"
      ]
     },
     "execution_count": 139,
     "metadata": {},
     "output_type": "execute_result"
    }
   ],
   "source": [
    "1e-05"
   ]
  },
  {
   "cell_type": "code",
   "execution_count": null,
   "id": "9e802eca",
   "metadata": {},
   "outputs": [],
   "source": []
  }
 ],
 "metadata": {
  "kernelspec": {
   "display_name": "Python 3",
   "language": "python",
   "name": "python3"
  },
  "language_info": {
   "codemirror_mode": {
    "name": "ipython",
    "version": 3
   },
   "file_extension": ".py",
   "mimetype": "text/x-python",
   "name": "python",
   "nbconvert_exporter": "python",
   "pygments_lexer": "ipython3",
   "version": "3.8.3"
  }
 },
 "nbformat": 4,
 "nbformat_minor": 5
}
