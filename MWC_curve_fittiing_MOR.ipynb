{
 "cells": [
  {
   "cell_type": "code",
   "execution_count": 1,
   "id": "3361a032",
   "metadata": {},
   "outputs": [
    {
     "data": {
      "text/html": [
       "\n",
       "    <div class=\"bk-root\">\n",
       "        <a href=\"https://bokeh.org\" target=\"_blank\" class=\"bk-logo bk-logo-small bk-logo-notebook\"></a>\n",
       "        <span id=\"1002\">Loading BokehJS ...</span>\n",
       "    </div>"
      ]
     },
     "metadata": {},
     "output_type": "display_data"
    },
    {
     "data": {
      "application/javascript": [
       "\n",
       "(function(root) {\n",
       "  function now() {\n",
       "    return new Date();\n",
       "  }\n",
       "\n",
       "  const force = true;\n",
       "\n",
       "  if (typeof root._bokeh_onload_callbacks === \"undefined\" || force === true) {\n",
       "    root._bokeh_onload_callbacks = [];\n",
       "    root._bokeh_is_loading = undefined;\n",
       "  }\n",
       "\n",
       "  const JS_MIME_TYPE = 'application/javascript';\n",
       "  const HTML_MIME_TYPE = 'text/html';\n",
       "  const EXEC_MIME_TYPE = 'application/vnd.bokehjs_exec.v0+json';\n",
       "  const CLASS_NAME = 'output_bokeh rendered_html';\n",
       "\n",
       "  /**\n",
       "   * Render data to the DOM node\n",
       "   */\n",
       "  function render(props, node) {\n",
       "    const script = document.createElement(\"script\");\n",
       "    node.appendChild(script);\n",
       "  }\n",
       "\n",
       "  /**\n",
       "   * Handle when an output is cleared or removed\n",
       "   */\n",
       "  function handleClearOutput(event, handle) {\n",
       "    const cell = handle.cell;\n",
       "\n",
       "    const id = cell.output_area._bokeh_element_id;\n",
       "    const server_id = cell.output_area._bokeh_server_id;\n",
       "    // Clean up Bokeh references\n",
       "    if (id != null && id in Bokeh.index) {\n",
       "      Bokeh.index[id].model.document.clear();\n",
       "      delete Bokeh.index[id];\n",
       "    }\n",
       "\n",
       "    if (server_id !== undefined) {\n",
       "      // Clean up Bokeh references\n",
       "      const cmd_clean = \"from bokeh.io.state import curstate; print(curstate().uuid_to_server['\" + server_id + \"'].get_sessions()[0].document.roots[0]._id)\";\n",
       "      cell.notebook.kernel.execute(cmd_clean, {\n",
       "        iopub: {\n",
       "          output: function(msg) {\n",
       "            const id = msg.content.text.trim();\n",
       "            if (id in Bokeh.index) {\n",
       "              Bokeh.index[id].model.document.clear();\n",
       "              delete Bokeh.index[id];\n",
       "            }\n",
       "          }\n",
       "        }\n",
       "      });\n",
       "      // Destroy server and session\n",
       "      const cmd_destroy = \"import bokeh.io.notebook as ion; ion.destroy_server('\" + server_id + \"')\";\n",
       "      cell.notebook.kernel.execute(cmd_destroy);\n",
       "    }\n",
       "  }\n",
       "\n",
       "  /**\n",
       "   * Handle when a new output is added\n",
       "   */\n",
       "  function handleAddOutput(event, handle) {\n",
       "    const output_area = handle.output_area;\n",
       "    const output = handle.output;\n",
       "\n",
       "    // limit handleAddOutput to display_data with EXEC_MIME_TYPE content only\n",
       "    if ((output.output_type != \"display_data\") || (!Object.prototype.hasOwnProperty.call(output.data, EXEC_MIME_TYPE))) {\n",
       "      return\n",
       "    }\n",
       "\n",
       "    const toinsert = output_area.element.find(\".\" + CLASS_NAME.split(' ')[0]);\n",
       "\n",
       "    if (output.metadata[EXEC_MIME_TYPE][\"id\"] !== undefined) {\n",
       "      toinsert[toinsert.length - 1].firstChild.textContent = output.data[JS_MIME_TYPE];\n",
       "      // store reference to embed id on output_area\n",
       "      output_area._bokeh_element_id = output.metadata[EXEC_MIME_TYPE][\"id\"];\n",
       "    }\n",
       "    if (output.metadata[EXEC_MIME_TYPE][\"server_id\"] !== undefined) {\n",
       "      const bk_div = document.createElement(\"div\");\n",
       "      bk_div.innerHTML = output.data[HTML_MIME_TYPE];\n",
       "      const script_attrs = bk_div.children[0].attributes;\n",
       "      for (let i = 0; i < script_attrs.length; i++) {\n",
       "        toinsert[toinsert.length - 1].firstChild.setAttribute(script_attrs[i].name, script_attrs[i].value);\n",
       "        toinsert[toinsert.length - 1].firstChild.textContent = bk_div.children[0].textContent\n",
       "      }\n",
       "      // store reference to server id on output_area\n",
       "      output_area._bokeh_server_id = output.metadata[EXEC_MIME_TYPE][\"server_id\"];\n",
       "    }\n",
       "  }\n",
       "\n",
       "  function register_renderer(events, OutputArea) {\n",
       "\n",
       "    function append_mime(data, metadata, element) {\n",
       "      // create a DOM node to render to\n",
       "      const toinsert = this.create_output_subarea(\n",
       "        metadata,\n",
       "        CLASS_NAME,\n",
       "        EXEC_MIME_TYPE\n",
       "      );\n",
       "      this.keyboard_manager.register_events(toinsert);\n",
       "      // Render to node\n",
       "      const props = {data: data, metadata: metadata[EXEC_MIME_TYPE]};\n",
       "      render(props, toinsert[toinsert.length - 1]);\n",
       "      element.append(toinsert);\n",
       "      return toinsert\n",
       "    }\n",
       "\n",
       "    /* Handle when an output is cleared or removed */\n",
       "    events.on('clear_output.CodeCell', handleClearOutput);\n",
       "    events.on('delete.Cell', handleClearOutput);\n",
       "\n",
       "    /* Handle when a new output is added */\n",
       "    events.on('output_added.OutputArea', handleAddOutput);\n",
       "\n",
       "    /**\n",
       "     * Register the mime type and append_mime function with output_area\n",
       "     */\n",
       "    OutputArea.prototype.register_mime_type(EXEC_MIME_TYPE, append_mime, {\n",
       "      /* Is output safe? */\n",
       "      safe: true,\n",
       "      /* Index of renderer in `output_area.display_order` */\n",
       "      index: 0\n",
       "    });\n",
       "  }\n",
       "\n",
       "  // register the mime type if in Jupyter Notebook environment and previously unregistered\n",
       "  if (root.Jupyter !== undefined) {\n",
       "    const events = require('base/js/events');\n",
       "    const OutputArea = require('notebook/js/outputarea').OutputArea;\n",
       "\n",
       "    if (OutputArea.prototype.mime_types().indexOf(EXEC_MIME_TYPE) == -1) {\n",
       "      register_renderer(events, OutputArea);\n",
       "    }\n",
       "  }\n",
       "\n",
       "  \n",
       "  if (typeof (root._bokeh_timeout) === \"undefined\" || force === true) {\n",
       "    root._bokeh_timeout = Date.now() + 5000;\n",
       "    root._bokeh_failed_load = false;\n",
       "  }\n",
       "\n",
       "  const NB_LOAD_WARNING = {'data': {'text/html':\n",
       "     \"<div style='background-color: #fdd'>\\n\"+\n",
       "     \"<p>\\n\"+\n",
       "     \"BokehJS does not appear to have successfully loaded. If loading BokehJS from CDN, this \\n\"+\n",
       "     \"may be due to a slow or bad network connection. Possible fixes:\\n\"+\n",
       "     \"</p>\\n\"+\n",
       "     \"<ul>\\n\"+\n",
       "     \"<li>re-rerun `output_notebook()` to attempt to load from CDN again, or</li>\\n\"+\n",
       "     \"<li>use INLINE resources instead, as so:</li>\\n\"+\n",
       "     \"</ul>\\n\"+\n",
       "     \"<code>\\n\"+\n",
       "     \"from bokeh.resources import INLINE\\n\"+\n",
       "     \"output_notebook(resources=INLINE)\\n\"+\n",
       "     \"</code>\\n\"+\n",
       "     \"</div>\"}};\n",
       "\n",
       "  function display_loaded() {\n",
       "    const el = document.getElementById(\"1002\");\n",
       "    if (el != null) {\n",
       "      el.textContent = \"BokehJS is loading...\";\n",
       "    }\n",
       "    if (root.Bokeh !== undefined) {\n",
       "      if (el != null) {\n",
       "        el.textContent = \"BokehJS \" + root.Bokeh.version + \" successfully loaded.\";\n",
       "      }\n",
       "    } else if (Date.now() < root._bokeh_timeout) {\n",
       "      setTimeout(display_loaded, 100)\n",
       "    }\n",
       "  }\n",
       "\n",
       "\n",
       "  function run_callbacks() {\n",
       "    try {\n",
       "      root._bokeh_onload_callbacks.forEach(function(callback) {\n",
       "        if (callback != null)\n",
       "          callback();\n",
       "      });\n",
       "    } finally {\n",
       "      delete root._bokeh_onload_callbacks\n",
       "    }\n",
       "    console.debug(\"Bokeh: all callbacks have finished\");\n",
       "  }\n",
       "\n",
       "  function load_libs(css_urls, js_urls, callback) {\n",
       "    if (css_urls == null) css_urls = [];\n",
       "    if (js_urls == null) js_urls = [];\n",
       "\n",
       "    root._bokeh_onload_callbacks.push(callback);\n",
       "    if (root._bokeh_is_loading > 0) {\n",
       "      console.debug(\"Bokeh: BokehJS is being loaded, scheduling callback at\", now());\n",
       "      return null;\n",
       "    }\n",
       "    if (js_urls == null || js_urls.length === 0) {\n",
       "      run_callbacks();\n",
       "      return null;\n",
       "    }\n",
       "    console.debug(\"Bokeh: BokehJS not loaded, scheduling load and callback at\", now());\n",
       "    root._bokeh_is_loading = css_urls.length + js_urls.length;\n",
       "\n",
       "    function on_load() {\n",
       "      root._bokeh_is_loading--;\n",
       "      if (root._bokeh_is_loading === 0) {\n",
       "        console.debug(\"Bokeh: all BokehJS libraries/stylesheets loaded\");\n",
       "        run_callbacks()\n",
       "      }\n",
       "    }\n",
       "\n",
       "    function on_error(url) {\n",
       "      console.error(\"failed to load \" + url);\n",
       "    }\n",
       "\n",
       "    for (let i = 0; i < css_urls.length; i++) {\n",
       "      const url = css_urls[i];\n",
       "      const element = document.createElement(\"link\");\n",
       "      element.onload = on_load;\n",
       "      element.onerror = on_error.bind(null, url);\n",
       "      element.rel = \"stylesheet\";\n",
       "      element.type = \"text/css\";\n",
       "      element.href = url;\n",
       "      console.debug(\"Bokeh: injecting link tag for BokehJS stylesheet: \", url);\n",
       "      document.body.appendChild(element);\n",
       "    }\n",
       "\n",
       "    for (let i = 0; i < js_urls.length; i++) {\n",
       "      const url = js_urls[i];\n",
       "      const element = document.createElement('script');\n",
       "      element.onload = on_load;\n",
       "      element.onerror = on_error.bind(null, url);\n",
       "      element.async = false;\n",
       "      element.src = url;\n",
       "      console.debug(\"Bokeh: injecting script tag for BokehJS library: \", url);\n",
       "      document.head.appendChild(element);\n",
       "    }\n",
       "  };\n",
       "\n",
       "  function inject_raw_css(css) {\n",
       "    const element = document.createElement(\"style\");\n",
       "    element.appendChild(document.createTextNode(css));\n",
       "    document.body.appendChild(element);\n",
       "  }\n",
       "\n",
       "  \n",
       "  const js_urls = [\"https://cdn.bokeh.org/bokeh/release/bokeh-2.4.2.min.js\", \"https://cdn.bokeh.org/bokeh/release/bokeh-gl-2.4.2.min.js\", \"https://cdn.bokeh.org/bokeh/release/bokeh-widgets-2.4.2.min.js\", \"https://cdn.bokeh.org/bokeh/release/bokeh-tables-2.4.2.min.js\", \"https://cdn.bokeh.org/bokeh/release/bokeh-mathjax-2.4.2.min.js\"];\n",
       "  const css_urls = [];\n",
       "  \n",
       "\n",
       "  const inline_js = [\n",
       "    function(Bokeh) {\n",
       "      Bokeh.set_log_level(\"info\");\n",
       "    },\n",
       "    function(Bokeh) {\n",
       "    \n",
       "    \n",
       "    }\n",
       "  ];\n",
       "\n",
       "  function run_inline_js() {\n",
       "    \n",
       "    if (root.Bokeh !== undefined || force === true) {\n",
       "      \n",
       "    for (let i = 0; i < inline_js.length; i++) {\n",
       "      inline_js[i].call(root, root.Bokeh);\n",
       "    }\n",
       "    if (force === true) {\n",
       "        display_loaded();\n",
       "      }} else if (Date.now() < root._bokeh_timeout) {\n",
       "      setTimeout(run_inline_js, 100);\n",
       "    } else if (!root._bokeh_failed_load) {\n",
       "      console.log(\"Bokeh: BokehJS failed to load within specified timeout.\");\n",
       "      root._bokeh_failed_load = true;\n",
       "    } else if (force !== true) {\n",
       "      const cell = $(document.getElementById(\"1002\")).parents('.cell').data().cell;\n",
       "      cell.output_area.append_execute_result(NB_LOAD_WARNING)\n",
       "    }\n",
       "\n",
       "  }\n",
       "\n",
       "  if (root._bokeh_is_loading === 0) {\n",
       "    console.debug(\"Bokeh: BokehJS loaded, going straight to plotting\");\n",
       "    run_inline_js();\n",
       "  } else {\n",
       "    load_libs(css_urls, js_urls, function() {\n",
       "      console.debug(\"Bokeh: BokehJS plotting callback run at\", now());\n",
       "      run_inline_js();\n",
       "    });\n",
       "  }\n",
       "}(window));"
      ],
      "application/vnd.bokehjs_load.v0+json": "\n(function(root) {\n  function now() {\n    return new Date();\n  }\n\n  const force = true;\n\n  if (typeof root._bokeh_onload_callbacks === \"undefined\" || force === true) {\n    root._bokeh_onload_callbacks = [];\n    root._bokeh_is_loading = undefined;\n  }\n\n  \n\n  \n  if (typeof (root._bokeh_timeout) === \"undefined\" || force === true) {\n    root._bokeh_timeout = Date.now() + 5000;\n    root._bokeh_failed_load = false;\n  }\n\n  const NB_LOAD_WARNING = {'data': {'text/html':\n     \"<div style='background-color: #fdd'>\\n\"+\n     \"<p>\\n\"+\n     \"BokehJS does not appear to have successfully loaded. If loading BokehJS from CDN, this \\n\"+\n     \"may be due to a slow or bad network connection. Possible fixes:\\n\"+\n     \"</p>\\n\"+\n     \"<ul>\\n\"+\n     \"<li>re-rerun `output_notebook()` to attempt to load from CDN again, or</li>\\n\"+\n     \"<li>use INLINE resources instead, as so:</li>\\n\"+\n     \"</ul>\\n\"+\n     \"<code>\\n\"+\n     \"from bokeh.resources import INLINE\\n\"+\n     \"output_notebook(resources=INLINE)\\n\"+\n     \"</code>\\n\"+\n     \"</div>\"}};\n\n  function display_loaded() {\n    const el = document.getElementById(\"1002\");\n    if (el != null) {\n      el.textContent = \"BokehJS is loading...\";\n    }\n    if (root.Bokeh !== undefined) {\n      if (el != null) {\n        el.textContent = \"BokehJS \" + root.Bokeh.version + \" successfully loaded.\";\n      }\n    } else if (Date.now() < root._bokeh_timeout) {\n      setTimeout(display_loaded, 100)\n    }\n  }\n\n\n  function run_callbacks() {\n    try {\n      root._bokeh_onload_callbacks.forEach(function(callback) {\n        if (callback != null)\n          callback();\n      });\n    } finally {\n      delete root._bokeh_onload_callbacks\n    }\n    console.debug(\"Bokeh: all callbacks have finished\");\n  }\n\n  function load_libs(css_urls, js_urls, callback) {\n    if (css_urls == null) css_urls = [];\n    if (js_urls == null) js_urls = [];\n\n    root._bokeh_onload_callbacks.push(callback);\n    if (root._bokeh_is_loading > 0) {\n      console.debug(\"Bokeh: BokehJS is being loaded, scheduling callback at\", now());\n      return null;\n    }\n    if (js_urls == null || js_urls.length === 0) {\n      run_callbacks();\n      return null;\n    }\n    console.debug(\"Bokeh: BokehJS not loaded, scheduling load and callback at\", now());\n    root._bokeh_is_loading = css_urls.length + js_urls.length;\n\n    function on_load() {\n      root._bokeh_is_loading--;\n      if (root._bokeh_is_loading === 0) {\n        console.debug(\"Bokeh: all BokehJS libraries/stylesheets loaded\");\n        run_callbacks()\n      }\n    }\n\n    function on_error(url) {\n      console.error(\"failed to load \" + url);\n    }\n\n    for (let i = 0; i < css_urls.length; i++) {\n      const url = css_urls[i];\n      const element = document.createElement(\"link\");\n      element.onload = on_load;\n      element.onerror = on_error.bind(null, url);\n      element.rel = \"stylesheet\";\n      element.type = \"text/css\";\n      element.href = url;\n      console.debug(\"Bokeh: injecting link tag for BokehJS stylesheet: \", url);\n      document.body.appendChild(element);\n    }\n\n    for (let i = 0; i < js_urls.length; i++) {\n      const url = js_urls[i];\n      const element = document.createElement('script');\n      element.onload = on_load;\n      element.onerror = on_error.bind(null, url);\n      element.async = false;\n      element.src = url;\n      console.debug(\"Bokeh: injecting script tag for BokehJS library: \", url);\n      document.head.appendChild(element);\n    }\n  };\n\n  function inject_raw_css(css) {\n    const element = document.createElement(\"style\");\n    element.appendChild(document.createTextNode(css));\n    document.body.appendChild(element);\n  }\n\n  \n  const js_urls = [\"https://cdn.bokeh.org/bokeh/release/bokeh-2.4.2.min.js\", \"https://cdn.bokeh.org/bokeh/release/bokeh-gl-2.4.2.min.js\", \"https://cdn.bokeh.org/bokeh/release/bokeh-widgets-2.4.2.min.js\", \"https://cdn.bokeh.org/bokeh/release/bokeh-tables-2.4.2.min.js\", \"https://cdn.bokeh.org/bokeh/release/bokeh-mathjax-2.4.2.min.js\"];\n  const css_urls = [];\n  \n\n  const inline_js = [\n    function(Bokeh) {\n      Bokeh.set_log_level(\"info\");\n    },\n    function(Bokeh) {\n    \n    \n    }\n  ];\n\n  function run_inline_js() {\n    \n    if (root.Bokeh !== undefined || force === true) {\n      \n    for (let i = 0; i < inline_js.length; i++) {\n      inline_js[i].call(root, root.Bokeh);\n    }\n    if (force === true) {\n        display_loaded();\n      }} else if (Date.now() < root._bokeh_timeout) {\n      setTimeout(run_inline_js, 100);\n    } else if (!root._bokeh_failed_load) {\n      console.log(\"Bokeh: BokehJS failed to load within specified timeout.\");\n      root._bokeh_failed_load = true;\n    } else if (force !== true) {\n      const cell = $(document.getElementById(\"1002\")).parents('.cell').data().cell;\n      cell.output_area.append_execute_result(NB_LOAD_WARNING)\n    }\n\n  }\n\n  if (root._bokeh_is_loading === 0) {\n    console.debug(\"Bokeh: BokehJS loaded, going straight to plotting\");\n    run_inline_js();\n  } else {\n    load_libs(css_urls, js_urls, function() {\n      console.debug(\"Bokeh: BokehJS plotting callback run at\", now());\n      run_inline_js();\n    });\n  }\n}(window));"
     },
     "metadata": {},
     "output_type": "display_data"
    }
   ],
   "source": [
    "import numpy as np\n",
    "import pandas as pd\n",
    "import scipy.optimize\n",
    "import bokeh.plotting\n",
    "import bokeh.io\n",
    "bokeh.io.output_notebook()"
   ]
  },
  {
   "cell_type": "code",
   "execution_count": 2,
   "id": "0b22032a",
   "metadata": {},
   "outputs": [],
   "source": [
    "def agonist_only_p_active_theory(c_agonist, log_Kd_active, log_Kd_inactive, beta_deltaE):\n",
    "    \"theoretical curve for mglur5 active probability\"\n",
    "    Kd_active = 10**(log_Kd_active)\n",
    "    Kd_inactive = 10**(log_Kd_inactive)\n",
    "    a = (1 + c_agonist/Kd_active)\n",
    "\n",
    "    b = (1 + c_agonist/Kd_inactive)\n",
    "\n",
    "    return a/(a+b*np.exp(-beta_deltaE))\n",
    "\n",
    "def resid(param, c, p_active):\n",
    "    return p_active - agonist_only_p_active_theory(c, *param)\n",
    "\n"
   ]
  },
  {
   "cell_type": "code",
   "execution_count": 5,
   "id": "0240438c",
   "metadata": {},
   "outputs": [
    {
     "data": {
      "text/html": [
       "\n",
       "\n",
       "\n",
       "\n",
       "\n",
       "\n",
       "  <div class=\"bk-root\" id=\"13bf01ad-2e48-43f4-bf28-5764451b488a\" data-root-id=\"1003\"></div>\n"
      ]
     },
     "metadata": {},
     "output_type": "display_data"
    },
    {
     "data": {
      "application/javascript": [
       "(function(root) {\n",
       "  function embed_document(root) {\n",
       "    \n",
       "  const docs_json = {\"41dce49c-30cc-4262-a486-e20b60584834\":{\"defs\":[],\"roots\":{\"references\":[{\"attributes\":{\"below\":[{\"id\":\"1012\"}],\"center\":[{\"id\":\"1015\"},{\"id\":\"1019\"}],\"height\":300,\"left\":[{\"id\":\"1016\"}],\"renderers\":[{\"id\":\"1038\"},{\"id\":\"1044\"}],\"title\":{\"id\":\"1046\"},\"toolbar\":{\"id\":\"1027\"},\"x_range\":{\"id\":\"1004\"},\"x_scale\":{\"id\":\"1008\"},\"y_range\":{\"id\":\"1006\"},\"y_scale\":{\"id\":\"1010\"}},\"id\":\"1003\",\"subtype\":\"Figure\",\"type\":\"Plot\"},{\"attributes\":{\"tools\":[{\"id\":\"1020\"},{\"id\":\"1021\"},{\"id\":\"1022\"},{\"id\":\"1023\"},{\"id\":\"1024\"},{\"id\":\"1025\"}]},\"id\":\"1027\",\"type\":\"Toolbar\"},{\"attributes\":{\"source\":{\"id\":\"1034\"}},\"id\":\"1039\",\"type\":\"CDSView\"},{\"attributes\":{},\"id\":\"1024\",\"type\":\"ResetTool\"},{\"attributes\":{},\"id\":\"1025\",\"type\":\"HelpTool\"},{\"attributes\":{},\"id\":\"1010\",\"type\":\"LinearScale\"},{\"attributes\":{\"line_alpha\":0.2,\"line_color\":\"#1f77b4\",\"x\":{\"field\":\"x\"},\"y\":{\"field\":\"y\"}},\"id\":\"1043\",\"type\":\"Line\"},{\"attributes\":{},\"id\":\"1017\",\"type\":\"BasicTicker\"},{\"attributes\":{},\"id\":\"1023\",\"type\":\"SaveTool\"},{\"attributes\":{\"ticker\":null},\"id\":\"1052\",\"type\":\"LogTickFormatter\"},{\"attributes\":{\"num_minor_ticks\":10},\"id\":\"1013\",\"type\":\"LogTicker\"},{\"attributes\":{\"coordinates\":null,\"group\":null},\"id\":\"1046\",\"type\":\"Title\"},{\"attributes\":{\"data\":{\"x\":{\"__ndarray__\":\"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\",\"dtype\":\"float64\",\"order\":\"little\",\"shape\":[200]},\"y\":{\"__ndarray__\":\"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\",\"dtype\":\"float64\",\"order\":\"little\",\"shape\":[200]}},\"selected\":{\"id\":\"1057\"},\"selection_policy\":{\"id\":\"1056\"}},\"id\":\"1040\",\"type\":\"ColumnDataSource\"},{\"attributes\":{\"line_alpha\":0.1,\"line_color\":\"#1f77b4\",\"x\":{\"field\":\"x\"},\"y\":{\"field\":\"y\"}},\"id\":\"1042\",\"type\":\"Line\"},{\"attributes\":{},\"id\":\"1056\",\"type\":\"UnionRenderers\"},{\"attributes\":{},\"id\":\"1057\",\"type\":\"Selection\"},{\"attributes\":{\"coordinates\":null,\"data_source\":{\"id\":\"1040\"},\"glyph\":{\"id\":\"1041\"},\"group\":null,\"hover_glyph\":null,\"muted_glyph\":{\"id\":\"1043\"},\"nonselection_glyph\":{\"id\":\"1042\"},\"view\":{\"id\":\"1045\"}},\"id\":\"1044\",\"type\":\"GlyphRenderer\"},{\"attributes\":{\"coordinates\":null,\"data_source\":{\"id\":\"1034\"},\"glyph\":{\"id\":\"1035\"},\"group\":null,\"hover_glyph\":null,\"muted_glyph\":{\"id\":\"1037\"},\"nonselection_glyph\":{\"id\":\"1036\"},\"view\":{\"id\":\"1039\"}},\"id\":\"1038\",\"type\":\"GlyphRenderer\"},{\"attributes\":{},\"id\":\"1021\",\"type\":\"WheelZoomTool\"},{\"attributes\":{},\"id\":\"1054\",\"type\":\"UnionRenderers\"},{\"attributes\":{\"line_color\":\"#1f77b4\",\"x\":{\"field\":\"x\"},\"y\":{\"field\":\"y\"}},\"id\":\"1035\",\"type\":\"Line\"},{\"attributes\":{},\"id\":\"1053\",\"type\":\"AllLabels\"},{\"attributes\":{\"axis_label\":\"active_probability\",\"coordinates\":null,\"formatter\":{\"id\":\"1049\"},\"group\":null,\"major_label_policy\":{\"id\":\"1050\"},\"ticker\":{\"id\":\"1017\"}},\"id\":\"1016\",\"type\":\"LinearAxis\"},{\"attributes\":{\"overlay\":{\"id\":\"1026\"}},\"id\":\"1022\",\"type\":\"BoxZoomTool\"},{\"attributes\":{},\"id\":\"1049\",\"type\":\"BasicTickFormatter\"},{\"attributes\":{},\"id\":\"1050\",\"type\":\"AllLabels\"},{\"attributes\":{},\"id\":\"1020\",\"type\":\"PanTool\"},{\"attributes\":{\"axis\":{\"id\":\"1012\"},\"coordinates\":null,\"group\":null,\"ticker\":null},\"id\":\"1015\",\"type\":\"Grid\"},{\"attributes\":{\"axis\":{\"id\":\"1016\"},\"coordinates\":null,\"dimension\":1,\"group\":null,\"ticker\":null},\"id\":\"1019\",\"type\":\"Grid\"},{\"attributes\":{},\"id\":\"1055\",\"type\":\"Selection\"},{\"attributes\":{\"source\":{\"id\":\"1040\"}},\"id\":\"1045\",\"type\":\"CDSView\"},{\"attributes\":{\"line_color\":\"#1f77b4\",\"x\":{\"field\":\"x\"},\"y\":{\"field\":\"y\"}},\"id\":\"1041\",\"type\":\"Line\"},{\"attributes\":{},\"id\":\"1008\",\"type\":\"LogScale\"},{\"attributes\":{},\"id\":\"1004\",\"type\":\"DataRange1d\"},{\"attributes\":{\"line_alpha\":0.2,\"line_color\":\"#1f77b4\",\"x\":{\"field\":\"x\"},\"y\":{\"field\":\"y\"}},\"id\":\"1037\",\"type\":\"Line\"},{\"attributes\":{\"bottom_units\":\"screen\",\"coordinates\":null,\"fill_alpha\":0.5,\"fill_color\":\"lightgrey\",\"group\":null,\"left_units\":\"screen\",\"level\":\"overlay\",\"line_alpha\":1.0,\"line_color\":\"black\",\"line_dash\":[4,4],\"line_width\":2,\"right_units\":\"screen\",\"syncable\":false,\"top_units\":\"screen\"},\"id\":\"1026\",\"type\":\"BoxAnnotation\"},{\"attributes\":{\"line_alpha\":0.1,\"line_color\":\"#1f77b4\",\"x\":{\"field\":\"x\"},\"y\":{\"field\":\"y\"}},\"id\":\"1036\",\"type\":\"Line\"},{\"attributes\":{},\"id\":\"1006\",\"type\":\"DataRange1d\"},{\"attributes\":{\"axis_label\":\"[L-Quis]M\",\"coordinates\":null,\"formatter\":{\"id\":\"1052\"},\"group\":null,\"major_label_policy\":{\"id\":\"1053\"},\"ticker\":{\"id\":\"1013\"}},\"id\":\"1012\",\"type\":\"LogAxis\"},{\"attributes\":{\"data\":{\"x\":{\"__ndarray__\":\"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\",\"dtype\":\"float64\",\"order\":\"little\",\"shape\":[200]},\"y\":{\"__ndarray__\":\"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\",\"dtype\":\"float64\",\"order\":\"little\",\"shape\":[200]}},\"selected\":{\"id\":\"1055\"},\"selection_policy\":{\"id\":\"1054\"}},\"id\":\"1034\",\"type\":\"ColumnDataSource\"}],\"root_ids\":[\"1003\"]},\"title\":\"Bokeh Application\",\"version\":\"2.4.2\"}};\n",
       "  const render_items = [{\"docid\":\"41dce49c-30cc-4262-a486-e20b60584834\",\"root_ids\":[\"1003\"],\"roots\":{\"1003\":\"13bf01ad-2e48-43f4-bf28-5764451b488a\"}}];\n",
       "  root.Bokeh.embed.embed_items_notebook(docs_json, render_items);\n",
       "\n",
       "  }\n",
       "  if (root.Bokeh !== undefined) {\n",
       "    embed_document(root);\n",
       "  } else {\n",
       "    let attempts = 0;\n",
       "    const timer = setInterval(function(root) {\n",
       "      if (root.Bokeh !== undefined) {\n",
       "        clearInterval(timer);\n",
       "        embed_document(root);\n",
       "      } else {\n",
       "        attempts++;\n",
       "        if (attempts > 100) {\n",
       "          clearInterval(timer);\n",
       "          console.log(\"Bokeh: ERROR: Unable to run BokehJS code because BokehJS library is missing\");\n",
       "        }\n",
       "      }\n",
       "    }, 10, root)\n",
       "  }\n",
       "})(window);"
      ],
      "application/vnd.bokehjs_exec.v0+json": ""
     },
     "metadata": {
      "application/vnd.bokehjs_exec.v0+json": {
       "id": "1003"
      }
     },
     "output_type": "display_data"
    }
   ],
   "source": [
    "#set up plot\n",
    "from bokeh.plotting import curdoc \n",
    "curdoc().clear()\n",
    "p = bokeh.plotting.figure(plot_height=300,\n",
    "                         plot_width=600,\n",
    "                         x_axis_label='[L-Quis]M',\n",
    "                          y_axis_label='active_probability',\n",
    "                          x_axis_type='log')\n",
    "\n",
    "ligand_smooth=np.logspace(-12,-4,200)\n",
    "p.line(ligand_smooth, agonist_only_p_active_theory(ligand_smooth, -9.6, -7, -4))\n",
    "p.line(ligand_smooth, agonist_only_p_active_theory(ligand_smooth, -9.3, -7.6, -4))\n",
    "\n",
    "bokeh.io.show(p);"
   ]
  },
  {
   "cell_type": "code",
   "execution_count": 6,
   "id": "df862526",
   "metadata": {},
   "outputs": [],
   "source": [
    "df = pd.read_excel('./MOR_Gi1_normalizeto100.xlsx')\n"
   ]
  },
  {
   "cell_type": "code",
   "execution_count": 7,
   "id": "40c32914",
   "metadata": {},
   "outputs": [
    {
     "data": {
      "text/html": [
       "\n",
       "\n",
       "\n",
       "\n",
       "\n",
       "\n",
       "  <div class=\"bk-root\" id=\"41124b68-584e-4d8a-a042-724bf1778436\" data-root-id=\"1124\"></div>\n"
      ]
     },
     "metadata": {},
     "output_type": "display_data"
    },
    {
     "data": {
      "application/javascript": [
       "(function(root) {\n",
       "  function embed_document(root) {\n",
       "    \n",
       "  const docs_json = {\"9b8a38d8-87ab-4bf0-9d09-54c5c947ab90\":{\"defs\":[],\"roots\":{\"references\":[{\"attributes\":{\"below\":[{\"id\":\"1133\"}],\"center\":[{\"id\":\"1136\"},{\"id\":\"1140\"},{\"id\":\"1172\"}],\"left\":[{\"id\":\"1137\"}],\"renderers\":[{\"id\":\"1159\"},{\"id\":\"1178\"},{\"id\":\"1198\"},{\"id\":\"1220\"}],\"title\":{\"id\":\"1161\"},\"toolbar\":{\"id\":\"1148\"},\"x_range\":{\"id\":\"1125\"},\"x_scale\":{\"id\":\"1129\"},\"y_range\":{\"id\":\"1127\"},\"y_scale\":{\"id\":\"1131\"}},\"id\":\"1124\",\"subtype\":\"Figure\",\"type\":\"Plot\"},{\"attributes\":{},\"id\":\"1191\",\"type\":\"Selection\"},{\"attributes\":{\"data\":{\"x\":{\"__ndarray__\":\"8WjjiLX45D679pawq8bAPhuSU62U2Jo+oI4DVa95dT7M4Xca2C1RPjaq640QfCs+3t8LVsL9BT7oVNoJf5fhPTSqdm7HIbw9TvOxegaBlj2fbg5/gAByPfFo44i1+OQ+u/aWsKvGwD4bklOtlNiaPqCOA1WveXU+zOF3GtgtUT42quuNEHwrPt7fC1bC/QU+6FTaCX+X4T00qnZuxyG8PU7zsXoGgZY9n24Of4AAcj0=\",\"dtype\":\"float64\",\"order\":\"little\",\"shape\":[22]},\"y\":{\"__ndarray__\":\"+VNU7e+B4D+th4CyIV7jPxz72q88LuA/RkemXlWV2T+cxeONhgvUP3eTo5SKRLA/RbvURBd6qb9D9xlxDjOyv/GvkXBJ7cG/GLHGBJbe0L9bB2AMCk62vxpDIF/7EOM/U6jJjWnO5D+OJ8ZDQTThP7/eLpNQa9o/9xYCC2aW1z+Dp2/kusvKP6zkIap4U7S/9x2x+nuitD/k6GMLBoOtv9uWa7PDG6m/VHJpGJGypr8=\",\"dtype\":\"float64\",\"order\":\"little\",\"shape\":[22]}},\"selected\":{\"id\":\"1237\"},\"selection_policy\":{\"id\":\"1236\"}},\"id\":\"1216\",\"type\":\"ColumnDataSource\"},{\"attributes\":{},\"id\":\"1168\",\"type\":\"AllLabels\"},{\"attributes\":{\"label\":{\"value\":\"PZM21\"},\"renderers\":[{\"id\":\"1198\"}]},\"id\":\"1215\",\"type\":\"LegendItem\"},{\"attributes\":{},\"id\":\"1164\",\"type\":\"BasicTickFormatter\"},{\"attributes\":{\"axis\":{\"id\":\"1133\"},\"coordinates\":null,\"group\":null,\"ticker\":null},\"id\":\"1136\",\"type\":\"Grid\"},{\"attributes\":{},\"id\":\"1144\",\"type\":\"SaveTool\"},{\"attributes\":{\"label\":{\"value\":\"FH210\"},\"renderers\":[{\"id\":\"1220\"}]},\"id\":\"1239\",\"type\":\"LegendItem\"},{\"attributes\":{},\"id\":\"1141\",\"type\":\"PanTool\"},{\"attributes\":{},\"id\":\"1165\",\"type\":\"AllLabels\"},{\"attributes\":{\"overlay\":{\"id\":\"1147\"}},\"id\":\"1143\",\"type\":\"BoxZoomTool\"},{\"attributes\":{},\"id\":\"1237\",\"type\":\"Selection\"},{\"attributes\":{},\"id\":\"1213\",\"type\":\"Selection\"},{\"attributes\":{\"fill_color\":{\"value\":\"#1f77b4\"},\"hatch_color\":{\"value\":\"#1f77b4\"},\"line_color\":{\"value\":\"#1f77b4\"},\"size\":{\"value\":7},\"x\":{\"field\":\"x\"},\"y\":{\"field\":\"y\"}},\"id\":\"1156\",\"type\":\"Circle\"},{\"attributes\":{\"axis\":{\"id\":\"1137\"},\"coordinates\":null,\"dimension\":1,\"group\":null,\"ticker\":null},\"id\":\"1140\",\"type\":\"Grid\"},{\"attributes\":{\"fill_alpha\":{\"value\":0.1},\"fill_color\":{\"value\":\"#1f77b4\"},\"hatch_alpha\":{\"value\":0.1},\"hatch_color\":{\"value\":\"#1f77b4\"},\"line_alpha\":{\"value\":0.1},\"line_color\":{\"value\":\"#1f77b4\"},\"size\":{\"value\":7},\"x\":{\"field\":\"x\"},\"y\":{\"field\":\"y\"}},\"id\":\"1157\",\"type\":\"Circle\"},{\"attributes\":{},\"id\":\"1169\",\"type\":\"UnionRenderers\"},{\"attributes\":{\"tools\":[{\"id\":\"1141\"},{\"id\":\"1142\"},{\"id\":\"1143\"},{\"id\":\"1144\"},{\"id\":\"1145\"},{\"id\":\"1146\"}]},\"id\":\"1148\",\"type\":\"Toolbar\"},{\"attributes\":{},\"id\":\"1170\",\"type\":\"Selection\"},{\"attributes\":{\"source\":{\"id\":\"1155\"}},\"id\":\"1160\",\"type\":\"CDSView\"},{\"attributes\":{\"label\":{\"value\":\"morphine\"},\"renderers\":[{\"id\":\"1159\"}]},\"id\":\"1173\",\"type\":\"LegendItem\"},{\"attributes\":{\"fill_alpha\":{\"value\":0.2},\"fill_color\":{\"value\":\"#1f77b4\"},\"hatch_alpha\":{\"value\":0.2},\"hatch_color\":{\"value\":\"#1f77b4\"},\"line_alpha\":{\"value\":0.2},\"line_color\":{\"value\":\"#1f77b4\"},\"size\":{\"value\":7},\"x\":{\"field\":\"x\"},\"y\":{\"field\":\"y\"}},\"id\":\"1158\",\"type\":\"Circle\"},{\"attributes\":{\"coordinates\":null,\"group\":null},\"id\":\"1161\",\"type\":\"Title\"},{\"attributes\":{\"fill_alpha\":{\"value\":0.2},\"fill_color\":{\"value\":\"#2ca02c\"},\"hatch_alpha\":{\"value\":0.2},\"hatch_color\":{\"value\":\"#2ca02c\"},\"line_alpha\":{\"value\":0.2},\"line_color\":{\"value\":\"#2ca02c\"},\"size\":{\"value\":7},\"x\":{\"field\":\"x\"},\"y\":{\"field\":\"y\"}},\"id\":\"1197\",\"type\":\"Circle\"},{\"attributes\":{\"axis_label\":\"active_probability\",\"coordinates\":null,\"formatter\":{\"id\":\"1164\"},\"group\":null,\"major_label_policy\":{\"id\":\"1165\"},\"ticker\":{\"id\":\"1138\"}},\"id\":\"1137\",\"type\":\"LinearAxis\"},{\"attributes\":{\"bottom_units\":\"screen\",\"coordinates\":null,\"fill_alpha\":0.5,\"fill_color\":\"lightgrey\",\"group\":null,\"left_units\":\"screen\",\"level\":\"overlay\",\"line_alpha\":1.0,\"line_color\":\"black\",\"line_dash\":[4,4],\"line_width\":2,\"right_units\":\"screen\",\"syncable\":false,\"top_units\":\"screen\"},\"id\":\"1147\",\"type\":\"BoxAnnotation\"},{\"attributes\":{},\"id\":\"1125\",\"type\":\"DataRange1d\"},{\"attributes\":{\"coordinates\":null,\"group\":null,\"items\":[{\"id\":\"1173\"},{\"id\":\"1193\"},{\"id\":\"1215\"},{\"id\":\"1239\"}]},\"id\":\"1172\",\"type\":\"Legend\"},{\"attributes\":{\"data\":{\"x\":{\"__ndarray__\":\"8WjjiLX45D679pawq8bAPhuSU62U2Jo+oI4DVa95dT7M4Xca2C1RPjaq640QfCs+3t8LVsL9BT7oVNoJf5fhPTSqdm7HIbw9TvOxegaBlj2fbg5/gAByPfFo44i1+OQ+u/aWsKvGwD4bklOtlNiaPqCOA1WveXU+zOF3GtgtUT42quuNEHwrPt7fC1bC/QU+6FTaCX+X4T00qnZuxyG8PU7zsXoGgZY9n24Of4AAcj0=\",\"dtype\":\"float64\",\"order\":\"little\",\"shape\":[22]},\"y\":{\"__ndarray__\":\"urA975R17z86WPX/iT3vP9LGNKFp3eo/tp4zG/jr6j9YztWMkTXkP1RYl5GaQNA/3Nin+K6WnD9kjzvKh/Wpv2qXFikhrrQ/7tGXFSrcmj/SOWrpLgmTPzoJht6fre8/t7Iydt7/7z/Uvu69QYjqP6G4yf0QWuw/4tCedy0j4z8Czv3UAMTSP2g2LvhkNqo/hE049mwBeL+OQ2ObGh+qP5ih/rQHEgC/AIylvgw0tT8=\",\"dtype\":\"float64\",\"order\":\"little\",\"shape\":[22]}},\"selected\":{\"id\":\"1191\"},\"selection_policy\":{\"id\":\"1190\"}},\"id\":\"1174\",\"type\":\"ColumnDataSource\"},{\"attributes\":{\"axis_label\":\"[Ligands] M\",\"coordinates\":null,\"formatter\":{\"id\":\"1167\"},\"group\":null,\"major_label_policy\":{\"id\":\"1168\"},\"ticker\":{\"id\":\"1134\"}},\"id\":\"1133\",\"type\":\"LogAxis\"},{\"attributes\":{\"fill_color\":{\"value\":\"#ff7f0e\"},\"hatch_color\":{\"value\":\"#ff7f0e\"},\"line_color\":{\"value\":\"#ff7f0e\"},\"size\":{\"value\":7},\"x\":{\"field\":\"x\"},\"y\":{\"field\":\"y\"}},\"id\":\"1175\",\"type\":\"Circle\"},{\"attributes\":{},\"id\":\"1129\",\"type\":\"LogScale\"},{\"attributes\":{},\"id\":\"1127\",\"type\":\"DataRange1d\"},{\"attributes\":{\"coordinates\":null,\"data_source\":{\"id\":\"1155\"},\"glyph\":{\"id\":\"1156\"},\"group\":null,\"hover_glyph\":null,\"muted_glyph\":{\"id\":\"1158\"},\"nonselection_glyph\":{\"id\":\"1157\"},\"view\":{\"id\":\"1160\"}},\"id\":\"1159\",\"type\":\"GlyphRenderer\"},{\"attributes\":{},\"id\":\"1131\",\"type\":\"LinearScale\"},{\"attributes\":{},\"id\":\"1138\",\"type\":\"BasicTicker\"},{\"attributes\":{\"fill_alpha\":{\"value\":0.1},\"fill_color\":{\"value\":\"#ff7f0e\"},\"hatch_alpha\":{\"value\":0.1},\"hatch_color\":{\"value\":\"#ff7f0e\"},\"line_alpha\":{\"value\":0.1},\"line_color\":{\"value\":\"#ff7f0e\"},\"size\":{\"value\":7},\"x\":{\"field\":\"x\"},\"y\":{\"field\":\"y\"}},\"id\":\"1176\",\"type\":\"Circle\"},{\"attributes\":{\"fill_color\":{\"value\":\"#2ca02c\"},\"hatch_color\":{\"value\":\"#2ca02c\"},\"line_color\":{\"value\":\"#2ca02c\"},\"size\":{\"value\":7},\"x\":{\"field\":\"x\"},\"y\":{\"field\":\"y\"}},\"id\":\"1195\",\"type\":\"Circle\"},{\"attributes\":{\"fill_color\":{\"value\":\"#d62728\"},\"hatch_color\":{\"value\":\"#d62728\"},\"line_color\":{\"value\":\"#d62728\"},\"size\":{\"value\":7},\"x\":{\"field\":\"x\"},\"y\":{\"field\":\"y\"}},\"id\":\"1217\",\"type\":\"Circle\"},{\"attributes\":{},\"id\":\"1142\",\"type\":\"WheelZoomTool\"},{\"attributes\":{\"num_minor_ticks\":10},\"id\":\"1134\",\"type\":\"LogTicker\"},{\"attributes\":{\"source\":{\"id\":\"1174\"}},\"id\":\"1179\",\"type\":\"CDSView\"},{\"attributes\":{},\"id\":\"1146\",\"type\":\"HelpTool\"},{\"attributes\":{},\"id\":\"1190\",\"type\":\"UnionRenderers\"},{\"attributes\":{},\"id\":\"1145\",\"type\":\"ResetTool\"},{\"attributes\":{\"coordinates\":null,\"data_source\":{\"id\":\"1174\"},\"glyph\":{\"id\":\"1175\"},\"group\":null,\"hover_glyph\":null,\"muted_glyph\":{\"id\":\"1177\"},\"nonselection_glyph\":{\"id\":\"1176\"},\"view\":{\"id\":\"1179\"}},\"id\":\"1178\",\"type\":\"GlyphRenderer\"},{\"attributes\":{\"data\":{\"x\":{\"__ndarray__\":\"8WjjiLX45D679pawq8bAPhuSU62U2Jo+oI4DVa95dT7M4Xca2C1RPjaq640QfCs+3t8LVsL9BT7oVNoJf5fhPTSqdm7HIbw9TvOxegaBlj2fbg5/gAByPfFo44i1+OQ+u/aWsKvGwD4bklOtlNiaPqCOA1WveXU+zOF3GtgtUT42quuNEHwrPt7fC1bC/QU+6FTaCX+X4T00qnZuxyG8PU7zsXoGgZY9n24Of4AAcj0=\",\"dtype\":\"float64\",\"order\":\"little\",\"shape\":[22]},\"y\":{\"__ndarray__\":\"vNQK6OC03j/jyvAw+Z/hP+irZGpvxtc/iDwj5zlx0z9b8Arp6aLUP01aftAdG88/ERIx9I1qob/O+xMCff2xvw2t0l6Wv7y/jaluZtkTrD+tgOqaNoOxv1HRz8XVPuM/r6O+zEzv3z9SWE6WoefdP5v1EGh5X9k/yKuqlcNV1D9t2DQ2Wa2wP9JFFce046M/EY3KVNIgur8dvEK06cG5v6Z42lg665y/oNZH7dZvpj8=\",\"dtype\":\"float64\",\"order\":\"little\",\"shape\":[22]}},\"selected\":{\"id\":\"1213\"},\"selection_policy\":{\"id\":\"1212\"}},\"id\":\"1194\",\"type\":\"ColumnDataSource\"},{\"attributes\":{\"fill_alpha\":{\"value\":0.2},\"fill_color\":{\"value\":\"#ff7f0e\"},\"hatch_alpha\":{\"value\":0.2},\"hatch_color\":{\"value\":\"#ff7f0e\"},\"line_alpha\":{\"value\":0.2},\"line_color\":{\"value\":\"#ff7f0e\"},\"size\":{\"value\":7},\"x\":{\"field\":\"x\"},\"y\":{\"field\":\"y\"}},\"id\":\"1177\",\"type\":\"Circle\"},{\"attributes\":{},\"id\":\"1236\",\"type\":\"UnionRenderers\"},{\"attributes\":{\"label\":{\"value\":\"fentanyl\"},\"renderers\":[{\"id\":\"1178\"}]},\"id\":\"1193\",\"type\":\"LegendItem\"},{\"attributes\":{\"fill_alpha\":{\"value\":0.1},\"fill_color\":{\"value\":\"#2ca02c\"},\"hatch_alpha\":{\"value\":0.1},\"hatch_color\":{\"value\":\"#2ca02c\"},\"line_alpha\":{\"value\":0.1},\"line_color\":{\"value\":\"#2ca02c\"},\"size\":{\"value\":7},\"x\":{\"field\":\"x\"},\"y\":{\"field\":\"y\"}},\"id\":\"1196\",\"type\":\"Circle\"},{\"attributes\":{\"fill_alpha\":{\"value\":0.1},\"fill_color\":{\"value\":\"#d62728\"},\"hatch_alpha\":{\"value\":0.1},\"hatch_color\":{\"value\":\"#d62728\"},\"line_alpha\":{\"value\":0.1},\"line_color\":{\"value\":\"#d62728\"},\"size\":{\"value\":7},\"x\":{\"field\":\"x\"},\"y\":{\"field\":\"y\"}},\"id\":\"1218\",\"type\":\"Circle\"},{\"attributes\":{},\"id\":\"1212\",\"type\":\"UnionRenderers\"},{\"attributes\":{\"ticker\":null},\"id\":\"1167\",\"type\":\"LogTickFormatter\"},{\"attributes\":{\"source\":{\"id\":\"1194\"}},\"id\":\"1199\",\"type\":\"CDSView\"},{\"attributes\":{\"coordinates\":null,\"data_source\":{\"id\":\"1216\"},\"glyph\":{\"id\":\"1217\"},\"group\":null,\"hover_glyph\":null,\"muted_glyph\":{\"id\":\"1219\"},\"nonselection_glyph\":{\"id\":\"1218\"},\"view\":{\"id\":\"1221\"}},\"id\":\"1220\",\"type\":\"GlyphRenderer\"},{\"attributes\":{\"data\":{\"x\":{\"__ndarray__\":\"8WjjiLX45D679pawq8bAPhuSU62U2Jo+oI4DVa95dT7M4Xca2C1RPjaq640QfCs+3t8LVsL9BT7oVNoJf5fhPTSqdm7HIbw9TvOxegaBlj2fbg5/gAByPfFo44i1+OQ+u/aWsKvGwD4bklOtlNiaPqCOA1WveXU+zOF3GtgtUT42quuNEHwrPt7fC1bC/QU+6FTaCX+X4T00qnZuxyG8PU7zsXoGgZY9n24Of4AAcj0=\",\"dtype\":\"float64\",\"order\":\"little\",\"shape\":[22]},\"y\":{\"__ndarray__\":\"zNgntgQ+6j8j/SlRN6fsP4nvw1/Zouw/pmHRnU+v5T+2R9es/bDZP7qADMFjE9c/hCdbXErkvT/WqzzG5KCdv9Px71YNR7a/nAx6oy+Es78aRWhotH9dv7iTlhQ21ek/NtEp4IYt7z+bnJt+BBrsP/cuHjRwM+g/2lp0a5ON3j8Czv3UAMTSP1fWDKRZlsU/bNAMTln0m78cqaxTZlayP35nLpOA8ZA/k0DGTCzOrD8=\",\"dtype\":\"float64\",\"order\":\"little\",\"shape\":[22]}},\"selected\":{\"id\":\"1170\"},\"selection_policy\":{\"id\":\"1169\"}},\"id\":\"1155\",\"type\":\"ColumnDataSource\"},{\"attributes\":{\"fill_alpha\":{\"value\":0.2},\"fill_color\":{\"value\":\"#d62728\"},\"hatch_alpha\":{\"value\":0.2},\"hatch_color\":{\"value\":\"#d62728\"},\"line_alpha\":{\"value\":0.2},\"line_color\":{\"value\":\"#d62728\"},\"size\":{\"value\":7},\"x\":{\"field\":\"x\"},\"y\":{\"field\":\"y\"}},\"id\":\"1219\",\"type\":\"Circle\"},{\"attributes\":{\"coordinates\":null,\"data_source\":{\"id\":\"1194\"},\"glyph\":{\"id\":\"1195\"},\"group\":null,\"hover_glyph\":null,\"muted_glyph\":{\"id\":\"1197\"},\"nonselection_glyph\":{\"id\":\"1196\"},\"view\":{\"id\":\"1199\"}},\"id\":\"1198\",\"type\":\"GlyphRenderer\"},{\"attributes\":{\"source\":{\"id\":\"1216\"}},\"id\":\"1221\",\"type\":\"CDSView\"}],\"root_ids\":[\"1124\"]},\"title\":\"Bokeh Application\",\"version\":\"2.4.2\"}};\n",
       "  const render_items = [{\"docid\":\"9b8a38d8-87ab-4bf0-9d09-54c5c947ab90\",\"root_ids\":[\"1124\"],\"roots\":{\"1124\":\"41124b68-584e-4d8a-a042-724bf1778436\"}}];\n",
       "  root.Bokeh.embed.embed_items_notebook(docs_json, render_items);\n",
       "\n",
       "  }\n",
       "  if (root.Bokeh !== undefined) {\n",
       "    embed_document(root);\n",
       "  } else {\n",
       "    let attempts = 0;\n",
       "    const timer = setInterval(function(root) {\n",
       "      if (root.Bokeh !== undefined) {\n",
       "        clearInterval(timer);\n",
       "        embed_document(root);\n",
       "      } else {\n",
       "        attempts++;\n",
       "        if (attempts > 100) {\n",
       "          clearInterval(timer);\n",
       "          console.log(\"Bokeh: ERROR: Unable to run BokehJS code because BokehJS library is missing\");\n",
       "        }\n",
       "      }\n",
       "    }, 10, root)\n",
       "  }\n",
       "})(window);"
      ],
      "application/vnd.bokehjs_exec.v0+json": ""
     },
     "metadata": {
      "application/vnd.bokehjs_exec.v0+json": {
       "id": "1124"
      }
     },
     "output_type": "display_data"
    }
   ],
   "source": [
    "curdoc().clear()\n",
    "p = bokeh.plotting.figure(plot_height=600,\n",
    "                         plot_width=600,\n",
    "                         x_axis_label='[Ligands] M',\n",
    "                          y_axis_label='active_probability',\n",
    "                          x_axis_type='log')\n",
    "colors=bokeh.palettes.d3['Category10'][10]\n",
    "\n",
    "for i,ligand in enumerate(df.columns[1:]):\n",
    "    c, p_active = df['conc'].values, df[ligand].values/100\n",
    "    p.circle(c, p_active, size=7, color=colors[i],legend_label=ligand)\n",
    "\n",
    "bokeh.io.show(p);"
   ]
  },
  {
   "cell_type": "code",
   "execution_count": 13,
   "id": "94d73bf0",
   "metadata": {},
   "outputs": [
    {
     "data": {
      "text/html": [
       "\n",
       "\n",
       "\n",
       "\n",
       "\n",
       "\n",
       "  <div class=\"bk-root\" id=\"23c489a3-eca2-4528-afce-8da8f4982f18\" data-root-id=\"1947\"></div>\n"
      ]
     },
     "metadata": {},
     "output_type": "display_data"
    },
    {
     "data": {
      "application/javascript": [
       "(function(root) {\n",
       "  function embed_document(root) {\n",
       "    \n",
       "  const docs_json = {\"4794c0a2-ec42-46a4-a701-3d6917eaa260\":{\"defs\":[],\"roots\":{\"references\":[{\"attributes\":{\"below\":[{\"id\":\"1956\"}],\"center\":[{\"id\":\"1959\"},{\"id\":\"1963\"}],\"height\":400,\"left\":[{\"id\":\"1960\"}],\"renderers\":[{\"id\":\"1982\"},{\"id\":\"1988\"}],\"title\":{\"id\":\"1990\"},\"toolbar\":{\"id\":\"1971\"},\"x_range\":{\"id\":\"1948\"},\"x_scale\":{\"id\":\"1952\"},\"y_range\":{\"id\":\"1950\"},\"y_scale\":{\"id\":\"1954\"}},\"id\":\"1947\",\"subtype\":\"Figure\",\"type\":\"Plot\"},{\"attributes\":{\"coordinates\":null,\"group\":null},\"id\":\"1990\",\"type\":\"Title\"},{\"attributes\":{\"num_minor_ticks\":10},\"id\":\"1957\",\"type\":\"LogTicker\"},{\"attributes\":{\"data\":{\"x\":{\"__ndarray__\":\"EeotgZmXcT1+akKEYkxzPRpC2DCIK3U9Ky4oTiY5dz0ppVmlvnl5PXMQMeZC8ns9eFhggR+ofj3lOCbIo9CAPcMMNfIgcoI9RWVurRs8hD3EW+VJgTKGPYq38pegWYg9bKj/XDO2ij3ozhizaE2NPVVrBzV4EpA9jp+PwYOhkT0iEkbxQleTPcQUmap2N5U9+P6KBT1Glz0u04pVGoiZPe/mtRMDApw9UE5Gv2a5nj0oEwfmHdqgPZ9TmFyGfKI9cRhqNoNHpD396ij6Az+mPdm+uuVZZ6g9RwteaEHFqj1GhRWI7F2tPUZKmSSHG7A9g5mDmHOrsT1ovZp/KWKzPZ163t1rQ7U9/NtoHVtTtz0h8F4dfpa5PZMEySHMEbw9AGMiurfKvj2LEEdbnePAPXBX+KLxhsI9dsPcLPFSxD2ZpHm3jUvGPfppoO8adcg9JBvl71fUyj2aD+areW7NPdDtIS+bJNA95x4wCWm10T3W5bQyFm3TPTq1cs5nT9U9rCDqmYBg1z23kWUB6qTZPUg8axWeIdw9NqJxdxLc3j1j2egqIu3gPbR+oshikeI9uspllGVe5D2i3tCFHljmPcO5/7njgug9YRVd+Hbj6j0gZ8kjEH/tPX3ygVe0LfA9IT29FmS/8T1u9woOCXjzPQcpIoBqW/U9XIA5f61t9z2x3zAGXrP5Pd0yoPN4Mfw9hS+0/Hbt/j1eyPBXrPYAPmcM5tDZmwI+V52mcOBpBD6DLCpptmQGPgQkN0m0kAg+WumQhp7yCj79eQH1r48NPgCUm6DSNhA+AclUxGTJET7MURUVAoMTPnleu/ZzZxU+rQeE0eF6Fz5SlVUw2sEZPpZgbsFcQRw+I0htT+X+Hj5562TlOwAhPhohFL9WpiI+ObZCxWF1JD5JYINlVXEmPu+Up6GMnig+6zlOn84BKz4LLdMkWaAtPhyuUg32PzA+x18iFWvTMT47SU5LAY4zPkoDDzaEczU+dh35lB2INz7UAmuEXtA5PsYS34NJUTw+p0QjdV0QPz7xBE3W0AlBPrW7f5bZsEI+Sp3flemARD7ri9x++31GPoJwtMdsrEg++F5lRwcRSz7rXIa4C7FNPpO9jKAeSVA+HmhTDHfdUT7dJzK0BplTPqXr70Gbf1U+qYTKzWCVVz7XDgsH695ZPntt/j8/YVw+25pfc98hXz4+jLItaxNhPvK6fVpiu2I+megk5neMZD6WAji5qIpmPrqTw79Uumg+9Gapg0ggaz7C4GW1x8FtPg7hMF1MUnA+LBMXrYjncT6aLj9TEqRzPmUTMx65i3U+dV0sgKuidz7dN9K8f+15PtFs2/o9cXw+ON+uT2szfz4Gr6DuCh2BPkjeZA7xxYI+gD28uQyYhD7EWZoYXZeGPkdWPY5EyIg+ZhjwWJIviz72ir8gjdKNPgvaJ0Z/W5A+bF2e+p/xkT58lvUrJK+TPkafr87dl5U+YSZVsP2vlz68lV+qHPyZPvXmh7lFgZw+EsegDwFFnz4XUiQcsCahPsfGjbWF0KI+0VFRFKijpD7JagqhGKSmPr2LjDc81qg+dfMRzOQ+qz5IK+T/W+OtPsUNXF63ZLA+6w8c+Lz7sT6rkddBPLqzPiDePlcJpLU+2r19Yle9tz4X21TUwQq6PneNGIFWkbw+JCrIuKBWvz5ZEky5WjDBPlv4UlMg28I+/+yR+UmvxD7uU5FW27DGPhWFHsA75Mg+bTPq4T9Oyz5tkCdYNPTNPiWGuaj0bdA+JsHEqN8F0j5mTGmYWsXTPh9KvLs7sNU+fWPhmrjK1z7SVlY/bxnaPv3upFZwodw+IgS7UEpo3z7NRSjJCjrhPsnaEOvA5eI+RektbfK65D6/eTo9pb3mPtsRYyxD8ug+S9BWn6Nd6z7AieAuFgXuPqzyLSg3d/A+FdbODwgQ8j5n7jAzf9DzPveJBQB1vPU+bbm9XSHY9z6R9QrwJCj6Pt54Rz+Tsfw+53YS3f15/z6C/MpOwEMBP8i6JYBn8AI/1TTXcqHGBD9WiBNZdsoGP+qBzIBSAAk/SYA4CRBtCz/z6GiJARYOP2OpqN9+gBA/MoNyMDYaEj/Tm7YVqtsTPzRy+ie1yBU/qsVSr5HlFz8tQxzr4jYaPw==\",\"dtype\":\"float64\",\"order\":\"little\",\"shape\":[200]},\"y\":{\"__ndarray__\":\"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\",\"dtype\":\"float64\",\"order\":\"little\",\"shape\":[200]}},\"selected\":{\"id\":\"1999\"},\"selection_policy\":{\"id\":\"1998\"}},\"id\":\"1978\",\"type\":\"ColumnDataSource\"},{\"attributes\":{\"ticker\":null},\"id\":\"1996\",\"type\":\"LogTickFormatter\"},{\"attributes\":{},\"id\":\"1998\",\"type\":\"UnionRenderers\"},{\"attributes\":{},\"id\":\"1994\",\"type\":\"AllLabels\"},{\"attributes\":{\"fill_alpha\":{\"value\":0.2},\"fill_color\":{\"value\":\"#d62728\"},\"hatch_alpha\":{\"value\":0.2},\"hatch_color\":{\"value\":\"#d62728\"},\"line_alpha\":{\"value\":0.2},\"line_color\":{\"value\":\"#d62728\"},\"size\":{\"value\":7},\"x\":{\"field\":\"x\"},\"y\":{\"field\":\"y\"}},\"id\":\"1987\",\"type\":\"Circle\"},{\"attributes\":{\"line_color\":\"#1f77b4\",\"x\":{\"field\":\"x\"},\"y\":{\"field\":\"y\"}},\"id\":\"1979\",\"type\":\"Line\"},{\"attributes\":{\"coordinates\":null,\"data_source\":{\"id\":\"1984\"},\"glyph\":{\"id\":\"1985\"},\"group\":null,\"hover_glyph\":null,\"muted_glyph\":{\"id\":\"1987\"},\"nonselection_glyph\":{\"id\":\"1986\"},\"view\":{\"id\":\"1989\"}},\"id\":\"1988\",\"type\":\"GlyphRenderer\"},{\"attributes\":{},\"id\":\"1948\",\"type\":\"DataRange1d\"},{\"attributes\":{\"fill_alpha\":{\"value\":0.1},\"fill_color\":{\"value\":\"#d62728\"},\"hatch_alpha\":{\"value\":0.1},\"hatch_color\":{\"value\":\"#d62728\"},\"line_alpha\":{\"value\":0.1},\"line_color\":{\"value\":\"#d62728\"},\"size\":{\"value\":7},\"x\":{\"field\":\"x\"},\"y\":{\"field\":\"y\"}},\"id\":\"1986\",\"type\":\"Circle\"},{\"attributes\":{\"source\":{\"id\":\"1984\"}},\"id\":\"1989\",\"type\":\"CDSView\"},{\"attributes\":{\"data\":{\"x\":{\"__ndarray__\":\"8WjjiLX45D679pawq8bAPhuSU62U2Jo+oI4DVa95dT7M4Xca2C1RPjaq640QfCs+3t8LVsL9BT7oVNoJf5fhPTSqdm7HIbw9TvOxegaBlj2fbg5/gAByPfFo44i1+OQ+u/aWsKvGwD4bklOtlNiaPqCOA1WveXU+zOF3GtgtUT42quuNEHwrPt7fC1bC/QU+6FTaCX+X4T00qnZuxyG8PU7zsXoGgZY9n24Of4AAcj0=\",\"dtype\":\"float64\",\"order\":\"little\",\"shape\":[22]},\"y\":{\"__ndarray__\":\"zNgntgQ+6j8j/SlRN6fsP4nvw1/Zouw/pmHRnU+v5T+2R9es/bDZP7qADMFjE9c/hCdbXErkvT/WqzzG5KCdv9Px71YNR7a/nAx6oy+Es78aRWhotH9dv7iTlhQ21ek/NtEp4IYt7z+bnJt+BBrsP/cuHjRwM+g/2lp0a5ON3j8Czv3UAMTSP1fWDKRZlsU/bNAMTln0m78cqaxTZlayP35nLpOA8ZA/k0DGTCzOrD8=\",\"dtype\":\"float64\",\"order\":\"little\",\"shape\":[22]}},\"selected\":{\"id\":\"2001\"},\"selection_policy\":{\"id\":\"2000\"}},\"id\":\"1984\",\"type\":\"ColumnDataSource\"},{\"attributes\":{\"fill_color\":{\"value\":\"#d62728\"},\"hatch_color\":{\"value\":\"#d62728\"},\"line_color\":{\"value\":\"#d62728\"},\"size\":{\"value\":7},\"x\":{\"field\":\"x\"},\"y\":{\"field\":\"y\"}},\"id\":\"1985\",\"type\":\"Circle\"},{\"attributes\":{},\"id\":\"1950\",\"type\":\"DataRange1d\"},{\"attributes\":{\"coordinates\":null,\"data_source\":{\"id\":\"1978\"},\"glyph\":{\"id\":\"1979\"},\"group\":null,\"hover_glyph\":null,\"muted_glyph\":{\"id\":\"1981\"},\"nonselection_glyph\":{\"id\":\"1980\"},\"view\":{\"id\":\"1983\"}},\"id\":\"1982\",\"type\":\"GlyphRenderer\"},{\"attributes\":{\"source\":{\"id\":\"1978\"}},\"id\":\"1983\",\"type\":\"CDSView\"},{\"attributes\":{\"axis_label\":\"[morphine] M\",\"coordinates\":null,\"formatter\":{\"id\":\"1996\"},\"group\":null,\"major_label_policy\":{\"id\":\"1997\"},\"ticker\":{\"id\":\"1957\"}},\"id\":\"1956\",\"type\":\"LogAxis\"},{\"attributes\":{},\"id\":\"1993\",\"type\":\"BasicTickFormatter\"},{\"attributes\":{},\"id\":\"1952\",\"type\":\"LogScale\"},{\"attributes\":{},\"id\":\"1961\",\"type\":\"BasicTicker\"},{\"attributes\":{\"line_alpha\":0.1,\"line_color\":\"#1f77b4\",\"x\":{\"field\":\"x\"},\"y\":{\"field\":\"y\"}},\"id\":\"1980\",\"type\":\"Line\"},{\"attributes\":{\"axis\":{\"id\":\"1956\"},\"coordinates\":null,\"group\":null,\"ticker\":null},\"id\":\"1959\",\"type\":\"Grid\"},{\"attributes\":{},\"id\":\"1965\",\"type\":\"WheelZoomTool\"},{\"attributes\":{},\"id\":\"1997\",\"type\":\"AllLabels\"},{\"attributes\":{\"axis\":{\"id\":\"1960\"},\"coordinates\":null,\"dimension\":1,\"group\":null,\"ticker\":null},\"id\":\"1963\",\"type\":\"Grid\"},{\"attributes\":{},\"id\":\"2001\",\"type\":\"Selection\"},{\"attributes\":{},\"id\":\"1969\",\"type\":\"HelpTool\"},{\"attributes\":{\"axis_label\":\"active_probability\",\"coordinates\":null,\"formatter\":{\"id\":\"1993\"},\"group\":null,\"major_label_policy\":{\"id\":\"1994\"},\"ticker\":{\"id\":\"1961\"}},\"id\":\"1960\",\"type\":\"LinearAxis\"},{\"attributes\":{},\"id\":\"1964\",\"type\":\"PanTool\"},{\"attributes\":{\"overlay\":{\"id\":\"1970\"}},\"id\":\"1966\",\"type\":\"BoxZoomTool\"},{\"attributes\":{},\"id\":\"1954\",\"type\":\"LinearScale\"},{\"attributes\":{},\"id\":\"1967\",\"type\":\"SaveTool\"},{\"attributes\":{},\"id\":\"2000\",\"type\":\"UnionRenderers\"},{\"attributes\":{},\"id\":\"1968\",\"type\":\"ResetTool\"},{\"attributes\":{\"bottom_units\":\"screen\",\"coordinates\":null,\"fill_alpha\":0.5,\"fill_color\":\"lightgrey\",\"group\":null,\"left_units\":\"screen\",\"level\":\"overlay\",\"line_alpha\":1.0,\"line_color\":\"black\",\"line_dash\":[4,4],\"line_width\":2,\"right_units\":\"screen\",\"syncable\":false,\"top_units\":\"screen\"},\"id\":\"1970\",\"type\":\"BoxAnnotation\"},{\"attributes\":{},\"id\":\"1999\",\"type\":\"Selection\"},{\"attributes\":{\"tools\":[{\"id\":\"1964\"},{\"id\":\"1965\"},{\"id\":\"1966\"},{\"id\":\"1967\"},{\"id\":\"1968\"},{\"id\":\"1969\"}]},\"id\":\"1971\",\"type\":\"Toolbar\"},{\"attributes\":{\"line_alpha\":0.2,\"line_color\":\"#1f77b4\",\"x\":{\"field\":\"x\"},\"y\":{\"field\":\"y\"}},\"id\":\"1981\",\"type\":\"Line\"}],\"root_ids\":[\"1947\"]},\"title\":\"Bokeh Application\",\"version\":\"2.4.2\"}};\n",
       "  const render_items = [{\"docid\":\"4794c0a2-ec42-46a4-a701-3d6917eaa260\",\"root_ids\":[\"1947\"],\"roots\":{\"1947\":\"23c489a3-eca2-4528-afce-8da8f4982f18\"}}];\n",
       "  root.Bokeh.embed.embed_items_notebook(docs_json, render_items);\n",
       "\n",
       "  }\n",
       "  if (root.Bokeh !== undefined) {\n",
       "    embed_document(root);\n",
       "  } else {\n",
       "    let attempts = 0;\n",
       "    const timer = setInterval(function(root) {\n",
       "      if (root.Bokeh !== undefined) {\n",
       "        clearInterval(timer);\n",
       "        embed_document(root);\n",
       "      } else {\n",
       "        attempts++;\n",
       "        if (attempts > 100) {\n",
       "          clearInterval(timer);\n",
       "          console.log(\"Bokeh: ERROR: Unable to run BokehJS code because BokehJS library is missing\");\n",
       "        }\n",
       "      }\n",
       "    }, 10, root)\n",
       "  }\n",
       "})(window);"
      ],
      "application/vnd.bokehjs_exec.v0+json": ""
     },
     "metadata": {
      "application/vnd.bokehjs_exec.v0+json": {
       "id": "1947"
      }
     },
     "output_type": "display_data"
    },
    {
     "name": "stdout",
     "output_type": "stream",
     "text": [
      "[-9.62706226 -7.09411869 -3.96001817]\n",
      "[2.36013988e-10 8.05158362e-08 1.09643232e-04]\n"
     ]
    }
   ],
   "source": [
    "curdoc().clear()\n",
    "#initial parameter for optimization\n",
    "p0 = np.array([-7,-4,-5])\n",
    "c, p_active = df['conc'].values, df['morphine'].values/100\n",
    "\n",
    "#optimize kd and energy difference to fit the data\n",
    "res = scipy.optimize.least_squares(resid, p0, args = (c,p_active))\n",
    "\n",
    "curdoc().clear()\n",
    "p = bokeh.plotting.figure(plot_height=400,\n",
    "                         plot_width=600,\n",
    "                         x_axis_label='[morphine] M',\n",
    "                          y_axis_label='active_probability',\n",
    "                          x_axis_type='log')\n",
    "\n",
    "p.line(ligand_smooth, agonist_only_p_active_theory(ligand_smooth, res.x[0],res.x[1],res.x[2]))\n",
    "p.circle(c, p_active, size=7, color=colors[i])\n",
    "\n",
    "bokeh.io.show(p);\n",
    "print(res.x)\n",
    "print(10**res.x)"
   ]
  },
  {
   "cell_type": "code",
   "execution_count": 54,
   "id": "621634c3",
   "metadata": {},
   "outputs": [
    {
     "data": {
      "text/plain": [
       "array([-9.6270621 , -7.09411868, -3.96001784])"
      ]
     },
     "execution_count": 54,
     "metadata": {},
     "output_type": "execute_result"
    }
   ],
   "source": [
    "res.x"
   ]
  },
  {
   "cell_type": "code",
   "execution_count": 14,
   "id": "0f463351",
   "metadata": {},
   "outputs": [
    {
     "data": {
      "text/html": [
       "\n",
       "\n",
       "\n",
       "\n",
       "\n",
       "\n",
       "  <div class=\"bk-root\" id=\"3a88548e-d530-40e1-8169-d45b50cc0960\" data-root-id=\"2068\"></div>\n"
      ]
     },
     "metadata": {},
     "output_type": "display_data"
    },
    {
     "data": {
      "application/javascript": [
       "(function(root) {\n",
       "  function embed_document(root) {\n",
       "    \n",
       "  const docs_json = {\"113b0457-f737-4f7e-a80c-3a7dc2e46f56\":{\"defs\":[],\"roots\":{\"references\":[{\"attributes\":{\"below\":[{\"id\":\"2077\"}],\"center\":[{\"id\":\"2080\"},{\"id\":\"2084\"}],\"height\":400,\"left\":[{\"id\":\"2081\"}],\"renderers\":[{\"id\":\"2103\"},{\"id\":\"2109\"}],\"title\":{\"id\":\"2111\"},\"toolbar\":{\"id\":\"2092\"},\"x_range\":{\"id\":\"2069\"},\"x_scale\":{\"id\":\"2073\"},\"y_range\":{\"id\":\"2071\"},\"y_scale\":{\"id\":\"2075\"}},\"id\":\"2068\",\"subtype\":\"Figure\",\"type\":\"Plot\"},{\"attributes\":{\"fill_alpha\":{\"value\":0.2},\"fill_color\":{\"value\":\"#d62728\"},\"hatch_alpha\":{\"value\":0.2},\"hatch_color\":{\"value\":\"#d62728\"},\"line_alpha\":{\"value\":0.2},\"line_color\":{\"value\":\"#d62728\"},\"size\":{\"value\":7},\"x\":{\"field\":\"x\"},\"y\":{\"field\":\"y\"}},\"id\":\"2108\",\"type\":\"Circle\"},{\"attributes\":{\"fill_color\":{\"value\":\"#d62728\"},\"hatch_color\":{\"value\":\"#d62728\"},\"line_color\":{\"value\":\"#d62728\"},\"size\":{\"value\":7},\"x\":{\"field\":\"x\"},\"y\":{\"field\":\"y\"}},\"id\":\"2106\",\"type\":\"Circle\"},{\"attributes\":{\"data\":{\"x\":{\"__ndarray__\":\"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\",\"dtype\":\"float64\",\"order\":\"little\",\"shape\":[200]},\"y\":{\"__ndarray__\":\"lLNVNAYwkD8U3A3foDKQP6tN2C18NZA/aSzJZJ44kD9DD1tjDjyQPxpZeLPTP5A/WhP4mfZDkD8e87EogEiQP/GTUFJ6TZA/a6UMAPBSkD9D0n8p7ViQPw+Pwu5+X5A/rc0MtbNmkD+ozxZGm26QP+gHffJGd5A/ATRwt8mAkD94mQFoOIuQP32uYtqplpA/63J3GTejkD+maSOb+7CQP+aGwnsVwJA/R5NJv6XQkD+df5SY0OKQP1wAdbe99pA/2IognpgMkT/ghar+kCSRPxozRiHbPpE/z40bVLBbkT+EG4tlT3uRP9pyzin9nZE/rwn2DAXEkT8lo1iyue2RPzJlnaJ1G5I/9BmfCZxNkj+XQX2FmYSSP6QnRgjlwJI/vOC7zQADkz98isxme0uTP6vja9zwmpM/ZrmQ6wvykz/q7ypch1GUP5oo9nQvupQ/VQEYjuMslT/vNH7El6qVP/u+7s9WNJY/EXGw/UPLlj/hnppRnXCXPzSgM8+9JZg/0lVM7B/smD/jajYuYMWZP23ORvI/s5o/Py7IYai3mz8vhcuQrdScP1ioX8aRDJ4/PcKb68hhnz8TP8UOfmugP2oJLa6GN6E/l6MaqI0Woj80r+OMQgqjPzVQzhB3FKQ/tZwj6yA3pT9k2bCiW3SmPwMmljtqzqc/VZ3Jt7hHqT9EGPRY3eKqP2yNQ4+Zoqw/3euFfdqJrj906bF73E2wPxwMfW28bbE/DV290UOmsj+jOYoHPfmzP5gcrleEaLU/rK2OnAX2tj/6NZIzuaO4P1IE3CGgc7o/KCI9V79nvD/n7XH8GYK+P4kHv15VYsA/5Qw6A66YwT+FZjmY/+TCP856JlMhSMQ/1R0fitPCxT/oBhbiuVXHP8HW/CtVAck/vD5zEv3Fyj+aZH7C2aPMP1XgmMLdms4/Wd6oGWBV0D/qWHPde2nRP32keTBbidI/X7nPT3O00z8AHfr1FOrUP4EFUndsKdY/e9+7zIJx1z+/LveZP8HYP9SNEzJsF9o/fduHkLdy2z8w6dAwu9HcP63zSqIAM94/VLAoqweV3z9si3RiJnvgP/qCntunKuE/pqc3Ck3Y4T+LkCCuYoPiP+PHzkdAK+M/sqEEhErP4z+mG0I49W7kP47b4uTECeU/Yz4puE+f5T+pp30TPi/mPzerhplKueY/4D0n0EE95z9g5rZkAbvnP+7v3SJ3Mug/u1hwr5+j6D+zyI0YhQ7pP+pUYUs9c+k/NkFOfujR6T+GXF2cryrqPyo8i7zCfeo/B7hVrVfL6j8kDrmaqBPrPyYmzNLyVus/p95nq3WV6z+yt8eJcc/rP3fZ3AsnBew/IfMcUtY27D+c/+ZnvmTsPyLtIMgcj+w/s8hp+yy27D/0mhtNKNrsP4M7VpRF++w/GG1hDrkZ7T+6ANpHtDXtP2b/TRJmT+0/qnAihPpm7T9outYAm3ztP+4c80dukO0/V4UniZii7T+ZgVR8O7PtP3qzaHx2wu0/RzwppGbQ7T/ZEyPsJt3tP3IcJknQ6O0/nDfJynnz7T9W75C5OP3tP4bHaLQgBu4/olwyzUMO7j89dD2kshXuP09wiYJ8HO4/84a7cq8i7j++B75YWCjuP68gBAiDLe4/OEJzWDoy7j8Ar/c5iDbuP/ElzcZ1Ou4/ZhiHVAs+7j/IquWDUEHuPwP1hU9MRO4/YrZ8GQVH7j/pDeu3gEnuP27ZnIDES+4/RzPAU9VN7j92LsWlt0/uP3J3dIhvUe4/TO1KswBT7j+4oyeLblTuP6sQWSm8Ve4/gXQVYuxW7j8W1mnKAVjuP983qr3+WO4/9vlsYuVZ7j8jsRqvt1ruP50VG253W+4/yg2nQSZc7j8YQ0enxVzuP60gBvtWXe4/qZVbettd7j8bd9hGVF7uPxPolmjCXu4/hMB00CZf7j+whRxagl/uP8Un4c3VX+4/sWBw4iFg7j+4Pl8+Z2DuP0QalHmmYO4/5fCQHuBg7j/p36CrFGHuP7E965NEYe4/BJtuQHBh7j/xw+UQmGHuP+GpmFy8Ye4/4vYac91h7j9p4/mc+2HuP+LEWhwXYu4/0aqLLTBi7j/mQocHR2LuP0AhbdxbYu4/Y3Hv2W5i7j+0/bYpgGLuPw==\",\"dtype\":\"float64\",\"order\":\"little\",\"shape\":[200]}},\"selected\":{\"id\":\"2120\"},\"selection_policy\":{\"id\":\"2119\"}},\"id\":\"2099\",\"type\":\"ColumnDataSource\"},{\"attributes\":{\"axis_label\":\"active_probability\",\"coordinates\":null,\"formatter\":{\"id\":\"2114\"},\"group\":null,\"major_label_policy\":{\"id\":\"2115\"},\"ticker\":{\"id\":\"2082\"}},\"id\":\"2081\",\"type\":\"LinearAxis\"},{\"attributes\":{},\"id\":\"2075\",\"type\":\"LinearScale\"},{\"attributes\":{},\"id\":\"2120\",\"type\":\"Selection\"},{\"attributes\":{\"line_color\":\"#1f77b4\",\"x\":{\"field\":\"x\"},\"y\":{\"field\":\"y\"}},\"id\":\"2100\",\"type\":\"Line\"},{\"attributes\":{\"coordinates\":null,\"data_source\":{\"id\":\"2105\"},\"glyph\":{\"id\":\"2106\"},\"group\":null,\"hover_glyph\":null,\"muted_glyph\":{\"id\":\"2108\"},\"nonselection_glyph\":{\"id\":\"2107\"},\"view\":{\"id\":\"2110\"}},\"id\":\"2109\",\"type\":\"GlyphRenderer\"},{\"attributes\":{},\"id\":\"2069\",\"type\":\"DataRange1d\"},{\"attributes\":{\"line_alpha\":0.1,\"line_color\":\"#1f77b4\",\"x\":{\"field\":\"x\"},\"y\":{\"field\":\"y\"}},\"id\":\"2101\",\"type\":\"Line\"},{\"attributes\":{},\"id\":\"2119\",\"type\":\"UnionRenderers\"},{\"attributes\":{},\"id\":\"2071\",\"type\":\"DataRange1d\"},{\"attributes\":{},\"id\":\"2090\",\"type\":\"HelpTool\"},{\"attributes\":{},\"id\":\"2073\",\"type\":\"LogScale\"},{\"attributes\":{\"coordinates\":null,\"group\":null},\"id\":\"2111\",\"type\":\"Title\"},{\"attributes\":{},\"id\":\"2086\",\"type\":\"WheelZoomTool\"},{\"attributes\":{\"source\":{\"id\":\"2099\"}},\"id\":\"2104\",\"type\":\"CDSView\"},{\"attributes\":{},\"id\":\"2122\",\"type\":\"Selection\"},{\"attributes\":{\"ticker\":null},\"id\":\"2117\",\"type\":\"LogTickFormatter\"},{\"attributes\":{\"axis\":{\"id\":\"2081\"},\"coordinates\":null,\"dimension\":1,\"group\":null,\"ticker\":null},\"id\":\"2084\",\"type\":\"Grid\"},{\"attributes\":{\"line_alpha\":0.2,\"line_color\":\"#1f77b4\",\"x\":{\"field\":\"x\"},\"y\":{\"field\":\"y\"}},\"id\":\"2102\",\"type\":\"Line\"},{\"attributes\":{\"axis\":{\"id\":\"2077\"},\"coordinates\":null,\"group\":null,\"ticker\":null},\"id\":\"2080\",\"type\":\"Grid\"},{\"attributes\":{},\"id\":\"2088\",\"type\":\"SaveTool\"},{\"attributes\":{\"data\":{\"x\":{\"__ndarray__\":\"8WjjiLX45D679pawq8bAPhuSU62U2Jo+oI4DVa95dT7M4Xca2C1RPjaq640QfCs+3t8LVsL9BT7oVNoJf5fhPTSqdm7HIbw9TvOxegaBlj2fbg5/gAByPfFo44i1+OQ+u/aWsKvGwD4bklOtlNiaPqCOA1WveXU+zOF3GtgtUT42quuNEHwrPt7fC1bC/QU+6FTaCX+X4T00qnZuxyG8PU7zsXoGgZY9n24Of4AAcj0=\",\"dtype\":\"float64\",\"order\":\"little\",\"shape\":[22]},\"y\":{\"__ndarray__\":\"urA975R17z86WPX/iT3vP9LGNKFp3eo/tp4zG/jr6j9YztWMkTXkP1RYl5GaQNA/3Nin+K6WnD9kjzvKh/Wpv2qXFikhrrQ/7tGXFSrcmj/SOWrpLgmTPzoJht6fre8/t7Iydt7/7z/Uvu69QYjqP6G4yf0QWuw/4tCedy0j4z8Czv3UAMTSP2g2LvhkNqo/hE049mwBeL+OQ2ObGh+qP5ih/rQHEgC/AIylvgw0tT8=\",\"dtype\":\"float64\",\"order\":\"little\",\"shape\":[22]}},\"selected\":{\"id\":\"2122\"},\"selection_policy\":{\"id\":\"2121\"}},\"id\":\"2105\",\"type\":\"ColumnDataSource\"},{\"attributes\":{},\"id\":\"2115\",\"type\":\"AllLabels\"},{\"attributes\":{},\"id\":\"2082\",\"type\":\"BasicTicker\"},{\"attributes\":{},\"id\":\"2089\",\"type\":\"ResetTool\"},{\"attributes\":{\"axis_label\":\"[fentanyl] M\",\"coordinates\":null,\"formatter\":{\"id\":\"2117\"},\"group\":null,\"major_label_policy\":{\"id\":\"2118\"},\"ticker\":{\"id\":\"2078\"}},\"id\":\"2077\",\"type\":\"LogAxis\"},{\"attributes\":{\"num_minor_ticks\":10},\"id\":\"2078\",\"type\":\"LogTicker\"},{\"attributes\":{},\"id\":\"2085\",\"type\":\"PanTool\"},{\"attributes\":{},\"id\":\"2118\",\"type\":\"AllLabels\"},{\"attributes\":{\"source\":{\"id\":\"2105\"}},\"id\":\"2110\",\"type\":\"CDSView\"},{\"attributes\":{\"fill_alpha\":{\"value\":0.1},\"fill_color\":{\"value\":\"#d62728\"},\"hatch_alpha\":{\"value\":0.1},\"hatch_color\":{\"value\":\"#d62728\"},\"line_alpha\":{\"value\":0.1},\"line_color\":{\"value\":\"#d62728\"},\"size\":{\"value\":7},\"x\":{\"field\":\"x\"},\"y\":{\"field\":\"y\"}},\"id\":\"2107\",\"type\":\"Circle\"},{\"attributes\":{},\"id\":\"2114\",\"type\":\"BasicTickFormatter\"},{\"attributes\":{},\"id\":\"2121\",\"type\":\"UnionRenderers\"},{\"attributes\":{\"overlay\":{\"id\":\"2091\"}},\"id\":\"2087\",\"type\":\"BoxZoomTool\"},{\"attributes\":{\"bottom_units\":\"screen\",\"coordinates\":null,\"fill_alpha\":0.5,\"fill_color\":\"lightgrey\",\"group\":null,\"left_units\":\"screen\",\"level\":\"overlay\",\"line_alpha\":1.0,\"line_color\":\"black\",\"line_dash\":[4,4],\"line_width\":2,\"right_units\":\"screen\",\"syncable\":false,\"top_units\":\"screen\"},\"id\":\"2091\",\"type\":\"BoxAnnotation\"},{\"attributes\":{\"tools\":[{\"id\":\"2085\"},{\"id\":\"2086\"},{\"id\":\"2087\"},{\"id\":\"2088\"},{\"id\":\"2089\"},{\"id\":\"2090\"}]},\"id\":\"2092\",\"type\":\"Toolbar\"},{\"attributes\":{\"coordinates\":null,\"data_source\":{\"id\":\"2099\"},\"glyph\":{\"id\":\"2100\"},\"group\":null,\"hover_glyph\":null,\"muted_glyph\":{\"id\":\"2102\"},\"nonselection_glyph\":{\"id\":\"2101\"},\"view\":{\"id\":\"2104\"}},\"id\":\"2103\",\"type\":\"GlyphRenderer\"}],\"root_ids\":[\"2068\"]},\"title\":\"Bokeh Application\",\"version\":\"2.4.2\"}};\n",
       "  const render_items = [{\"docid\":\"113b0457-f737-4f7e-a80c-3a7dc2e46f56\",\"root_ids\":[\"2068\"],\"roots\":{\"2068\":\"3a88548e-d530-40e1-8169-d45b50cc0960\"}}];\n",
       "  root.Bokeh.embed.embed_items_notebook(docs_json, render_items);\n",
       "\n",
       "  }\n",
       "  if (root.Bokeh !== undefined) {\n",
       "    embed_document(root);\n",
       "  } else {\n",
       "    let attempts = 0;\n",
       "    const timer = setInterval(function(root) {\n",
       "      if (root.Bokeh !== undefined) {\n",
       "        clearInterval(timer);\n",
       "        embed_document(root);\n",
       "      } else {\n",
       "        attempts++;\n",
       "        if (attempts > 100) {\n",
       "          clearInterval(timer);\n",
       "          console.log(\"Bokeh: ERROR: Unable to run BokehJS code because BokehJS library is missing\");\n",
       "        }\n",
       "      }\n",
       "    }, 10, root)\n",
       "  }\n",
       "})(window);"
      ],
      "application/vnd.bokehjs_exec.v0+json": ""
     },
     "metadata": {
      "application/vnd.bokehjs_exec.v0+json": {
       "id": "2068"
      }
     },
     "output_type": "display_data"
    },
    {
     "name": "stdout",
     "output_type": "stream",
     "text": [
      "[1.50763146e-10 1.78055030e-07 7.27951523e-05]\n",
      "[-9.82170481 -6.74944575 -4.13789754]\n"
     ]
    }
   ],
   "source": [
    "curdoc().clear()\n",
    "#initial parameter for optimization\n",
    "p0 = np.array([-9,-4,-4])\n",
    "c, p_active = df['conc'].values, df['fentanyl'].values/100\n",
    "\n",
    "#optimize kd and energy difference to fit the data\n",
    "res = scipy.optimize.least_squares(resid, p0, args = (c,p_active))\n",
    "\n",
    "curdoc().clear()\n",
    "p = bokeh.plotting.figure(plot_height=400,\n",
    "                         plot_width=600,\n",
    "                         x_axis_label='[fentanyl] M',\n",
    "                          y_axis_label='active_probability',\n",
    "                          x_axis_type='log')\n",
    "\n",
    "p.line(ligand_smooth, agonist_only_p_active_theory(ligand_smooth, res.x[0],res.x[1],res.x[2]))\n",
    "p.circle(c, p_active, size=7, color=colors[i])\n",
    "\n",
    "bokeh.io.show(p);\n",
    "print(10**res.x)\n",
    "print(res.x)"
   ]
  },
  {
   "cell_type": "code",
   "execution_count": 67,
   "id": "792f7815",
   "metadata": {},
   "outputs": [
    {
     "data": {
      "text/plain": [
       "array([-9.82170484, -6.74944575, -4.1378976 ])"
      ]
     },
     "execution_count": 67,
     "metadata": {},
     "output_type": "execute_result"
    }
   ],
   "source": [
    "res.x"
   ]
  },
  {
   "cell_type": "code",
   "execution_count": 21,
   "id": "35007e21",
   "metadata": {},
   "outputs": [],
   "source": [
    "def partial_agonist_only_p_active_theory(c_agonist, log_Kd_active, log_Kd_inactive, beta_deltaE):\n",
    "    \"theoretical curve for mglur5 active probability\"\n",
    "    beta_deltaE = -4\n",
    "    Kd_active = 10**(log_Kd_active)\n",
    "    Kd_inactive = 10**(log_Kd_inactive)\n",
    "    a = (1 + c_agonist/Kd_active)\n",
    "\n",
    "    b = (1 + c_agonist/Kd_inactive)\n",
    "\n",
    "    return a/(a+b*np.exp(-beta_deltaE))\n",
    "\n",
    "def partial_resid(param, c, p_active):\n",
    "    return p_active - partial_agonist_only_p_active_theory(c, *param)"
   ]
  },
  {
   "cell_type": "code",
   "execution_count": 24,
   "id": "7dad449a",
   "metadata": {},
   "outputs": [
    {
     "data": {
      "text/html": [
       "\n",
       "\n",
       "\n",
       "\n",
       "\n",
       "\n",
       "  <div class=\"bk-root\" id=\"6f927aa0-4a95-477c-999a-7922e04e816d\" data-root-id=\"2915\"></div>\n"
      ]
     },
     "metadata": {},
     "output_type": "display_data"
    },
    {
     "data": {
      "application/javascript": [
       "(function(root) {\n",
       "  function embed_document(root) {\n",
       "    \n",
       "  const docs_json = {\"c4e3a330-569d-4fc4-927a-9715a742c9b5\":{\"defs\":[],\"roots\":{\"references\":[{\"attributes\":{\"below\":[{\"id\":\"2924\"}],\"center\":[{\"id\":\"2927\"},{\"id\":\"2931\"}],\"height\":400,\"left\":[{\"id\":\"2928\"}],\"renderers\":[{\"id\":\"2950\"},{\"id\":\"2956\"}],\"title\":{\"id\":\"2958\"},\"toolbar\":{\"id\":\"2939\"},\"x_range\":{\"id\":\"2916\"},\"x_scale\":{\"id\":\"2920\"},\"y_range\":{\"id\":\"2918\"},\"y_scale\":{\"id\":\"2922\"}},\"id\":\"2915\",\"subtype\":\"Figure\",\"type\":\"Plot\"},{\"attributes\":{},\"id\":\"2936\",\"type\":\"ResetTool\"},{\"attributes\":{},\"id\":\"2967\",\"type\":\"Selection\"},{\"attributes\":{},\"id\":\"2937\",\"type\":\"HelpTool\"},{\"attributes\":{},\"id\":\"2969\",\"type\":\"Selection\"},{\"attributes\":{\"fill_alpha\":{\"value\":0.2},\"fill_color\":{\"value\":\"#d62728\"},\"hatch_alpha\":{\"value\":0.2},\"hatch_color\":{\"value\":\"#d62728\"},\"line_alpha\":{\"value\":0.2},\"line_color\":{\"value\":\"#d62728\"},\"size\":{\"value\":7},\"x\":{\"field\":\"x\"},\"y\":{\"field\":\"y\"}},\"id\":\"2955\",\"type\":\"Circle\"},{\"attributes\":{\"axis_label\":\"[FH210] M\",\"coordinates\":null,\"formatter\":{\"id\":\"2964\"},\"group\":null,\"major_label_policy\":{\"id\":\"2965\"},\"ticker\":{\"id\":\"2925\"}},\"id\":\"2924\",\"type\":\"LogAxis\"},{\"attributes\":{\"line_alpha\":0.2,\"line_color\":\"#1f77b4\",\"x\":{\"field\":\"x\"},\"y\":{\"field\":\"y\"}},\"id\":\"2949\",\"type\":\"Line\"},{\"attributes\":{\"axis\":{\"id\":\"2924\"},\"coordinates\":null,\"group\":null,\"ticker\":null},\"id\":\"2927\",\"type\":\"Grid\"},{\"attributes\":{\"fill_alpha\":{\"value\":0.1},\"fill_color\":{\"value\":\"#d62728\"},\"hatch_alpha\":{\"value\":0.1},\"hatch_color\":{\"value\":\"#d62728\"},\"line_alpha\":{\"value\":0.1},\"line_color\":{\"value\":\"#d62728\"},\"size\":{\"value\":7},\"x\":{\"field\":\"x\"},\"y\":{\"field\":\"y\"}},\"id\":\"2954\",\"type\":\"Circle\"},{\"attributes\":{},\"id\":\"2968\",\"type\":\"UnionRenderers\"},{\"attributes\":{\"bottom_units\":\"screen\",\"coordinates\":null,\"fill_alpha\":0.5,\"fill_color\":\"lightgrey\",\"group\":null,\"left_units\":\"screen\",\"level\":\"overlay\",\"line_alpha\":1.0,\"line_color\":\"black\",\"line_dash\":[4,4],\"line_width\":2,\"right_units\":\"screen\",\"syncable\":false,\"top_units\":\"screen\"},\"id\":\"2938\",\"type\":\"BoxAnnotation\"},{\"attributes\":{\"overlay\":{\"id\":\"2938\"}},\"id\":\"2934\",\"type\":\"BoxZoomTool\"},{\"attributes\":{\"source\":{\"id\":\"2946\"}},\"id\":\"2951\",\"type\":\"CDSView\"},{\"attributes\":{},\"id\":\"2932\",\"type\":\"PanTool\"},{\"attributes\":{\"line_color\":\"#1f77b4\",\"x\":{\"field\":\"x\"},\"y\":{\"field\":\"y\"}},\"id\":\"2947\",\"type\":\"Line\"},{\"attributes\":{},\"id\":\"2933\",\"type\":\"WheelZoomTool\"},{\"attributes\":{\"tools\":[{\"id\":\"2932\"},{\"id\":\"2933\"},{\"id\":\"2934\"},{\"id\":\"2935\"},{\"id\":\"2936\"},{\"id\":\"2937\"}]},\"id\":\"2939\",\"type\":\"Toolbar\"},{\"attributes\":{\"line_alpha\":0.1,\"line_color\":\"#1f77b4\",\"x\":{\"field\":\"x\"},\"y\":{\"field\":\"y\"}},\"id\":\"2948\",\"type\":\"Line\"},{\"attributes\":{},\"id\":\"2961\",\"type\":\"BasicTickFormatter\"},{\"attributes\":{\"data\":{\"x\":{\"__ndarray__\":\"8WjjiLX45D679pawq8bAPhuSU62U2Jo+oI4DVa95dT7M4Xca2C1RPjaq640QfCs+3t8LVsL9BT7oVNoJf5fhPTSqdm7HIbw9TvOxegaBlj2fbg5/gAByPfFo44i1+OQ+u/aWsKvGwD4bklOtlNiaPqCOA1WveXU+zOF3GtgtUT42quuNEHwrPt7fC1bC/QU+6FTaCX+X4T00qnZuxyG8PU7zsXoGgZY9n24Of4AAcj0=\",\"dtype\":\"float64\",\"order\":\"little\",\"shape\":[22]},\"y\":{\"__ndarray__\":\"+VNU7e+B4D+th4CyIV7jPxz72q88LuA/RkemXlWV2T+cxeONhgvUP3eTo5SKRLA/RbvURBd6qb9D9xlxDjOyv/GvkXBJ7cG/GLHGBJbe0L9bB2AMCk62vxpDIF/7EOM/U6jJjWnO5D+OJ8ZDQTThP7/eLpNQa9o/9xYCC2aW1z+Dp2/kusvKP6zkIap4U7S/9x2x+nuitD/k6GMLBoOtv9uWa7PDG6m/VHJpGJGypr8=\",\"dtype\":\"float64\",\"order\":\"little\",\"shape\":[22]}},\"selected\":{\"id\":\"2969\"},\"selection_policy\":{\"id\":\"2968\"}},\"id\":\"2952\",\"type\":\"ColumnDataSource\"},{\"attributes\":{},\"id\":\"2918\",\"type\":\"DataRange1d\"},{\"attributes\":{},\"id\":\"2962\",\"type\":\"AllLabels\"},{\"attributes\":{\"source\":{\"id\":\"2952\"}},\"id\":\"2957\",\"type\":\"CDSView\"},{\"attributes\":{\"fill_color\":{\"value\":\"#d62728\"},\"hatch_color\":{\"value\":\"#d62728\"},\"line_color\":{\"value\":\"#d62728\"},\"size\":{\"value\":7},\"x\":{\"field\":\"x\"},\"y\":{\"field\":\"y\"}},\"id\":\"2953\",\"type\":\"Circle\"},{\"attributes\":{},\"id\":\"2929\",\"type\":\"BasicTicker\"},{\"attributes\":{},\"id\":\"2922\",\"type\":\"LinearScale\"},{\"attributes\":{},\"id\":\"2920\",\"type\":\"LogScale\"},{\"attributes\":{\"coordinates\":null,\"data_source\":{\"id\":\"2952\"},\"glyph\":{\"id\":\"2953\"},\"group\":null,\"hover_glyph\":null,\"muted_glyph\":{\"id\":\"2955\"},\"nonselection_glyph\":{\"id\":\"2954\"},\"view\":{\"id\":\"2957\"}},\"id\":\"2956\",\"type\":\"GlyphRenderer\"},{\"attributes\":{\"ticker\":null},\"id\":\"2964\",\"type\":\"LogTickFormatter\"},{\"attributes\":{\"coordinates\":null,\"data_source\":{\"id\":\"2946\"},\"glyph\":{\"id\":\"2947\"},\"group\":null,\"hover_glyph\":null,\"muted_glyph\":{\"id\":\"2949\"},\"nonselection_glyph\":{\"id\":\"2948\"},\"view\":{\"id\":\"2951\"}},\"id\":\"2950\",\"type\":\"GlyphRenderer\"},{\"attributes\":{},\"id\":\"2965\",\"type\":\"AllLabels\"},{\"attributes\":{},\"id\":\"2916\",\"type\":\"DataRange1d\"},{\"attributes\":{},\"id\":\"2935\",\"type\":\"SaveTool\"},{\"attributes\":{\"axis\":{\"id\":\"2928\"},\"coordinates\":null,\"dimension\":1,\"group\":null,\"ticker\":null},\"id\":\"2931\",\"type\":\"Grid\"},{\"attributes\":{\"axis_label\":\"active_probability\",\"coordinates\":null,\"formatter\":{\"id\":\"2961\"},\"group\":null,\"major_label_policy\":{\"id\":\"2962\"},\"ticker\":{\"id\":\"2929\"}},\"id\":\"2928\",\"type\":\"LinearAxis\"},{\"attributes\":{\"num_minor_ticks\":10},\"id\":\"2925\",\"type\":\"LogTicker\"},{\"attributes\":{\"data\":{\"x\":{\"__ndarray__\":\"EeotgZmXcT1+akKEYkxzPRpC2DCIK3U9Ky4oTiY5dz0ppVmlvnl5PXMQMeZC8ns9eFhggR+ofj3lOCbIo9CAPcMMNfIgcoI9RWVurRs8hD3EW+VJgTKGPYq38pegWYg9bKj/XDO2ij3ozhizaE2NPVVrBzV4EpA9jp+PwYOhkT0iEkbxQleTPcQUmap2N5U9+P6KBT1Glz0u04pVGoiZPe/mtRMDApw9UE5Gv2a5nj0oEwfmHdqgPZ9TmFyGfKI9cRhqNoNHpD396ij6Az+mPdm+uuVZZ6g9RwteaEHFqj1GhRWI7F2tPUZKmSSHG7A9g5mDmHOrsT1ovZp/KWKzPZ163t1rQ7U9/NtoHVtTtz0h8F4dfpa5PZMEySHMEbw9AGMiurfKvj2LEEdbnePAPXBX+KLxhsI9dsPcLPFSxD2ZpHm3jUvGPfppoO8adcg9JBvl71fUyj2aD+areW7NPdDtIS+bJNA95x4wCWm10T3W5bQyFm3TPTq1cs5nT9U9rCDqmYBg1z23kWUB6qTZPUg8axWeIdw9NqJxdxLc3j1j2egqIu3gPbR+oshikeI9uspllGVe5D2i3tCFHljmPcO5/7njgug9YRVd+Hbj6j0gZ8kjEH/tPX3ygVe0LfA9IT29FmS/8T1u9woOCXjzPQcpIoBqW/U9XIA5f61t9z2x3zAGXrP5Pd0yoPN4Mfw9hS+0/Hbt/j1eyPBXrPYAPmcM5tDZmwI+V52mcOBpBD6DLCpptmQGPgQkN0m0kAg+WumQhp7yCj79eQH1r48NPgCUm6DSNhA+AclUxGTJET7MURUVAoMTPnleu/ZzZxU+rQeE0eF6Fz5SlVUw2sEZPpZgbsFcQRw+I0htT+X+Hj5562TlOwAhPhohFL9WpiI+ObZCxWF1JD5JYINlVXEmPu+Up6GMnig+6zlOn84BKz4LLdMkWaAtPhyuUg32PzA+x18iFWvTMT47SU5LAY4zPkoDDzaEczU+dh35lB2INz7UAmuEXtA5PsYS34NJUTw+p0QjdV0QPz7xBE3W0AlBPrW7f5bZsEI+Sp3flemARD7ri9x++31GPoJwtMdsrEg++F5lRwcRSz7rXIa4C7FNPpO9jKAeSVA+HmhTDHfdUT7dJzK0BplTPqXr70Gbf1U+qYTKzWCVVz7XDgsH695ZPntt/j8/YVw+25pfc98hXz4+jLItaxNhPvK6fVpiu2I+megk5neMZD6WAji5qIpmPrqTw79Uumg+9Gapg0ggaz7C4GW1x8FtPg7hMF1MUnA+LBMXrYjncT6aLj9TEqRzPmUTMx65i3U+dV0sgKuidz7dN9K8f+15PtFs2/o9cXw+ON+uT2szfz4Gr6DuCh2BPkjeZA7xxYI+gD28uQyYhD7EWZoYXZeGPkdWPY5EyIg+ZhjwWJIviz72ir8gjdKNPgvaJ0Z/W5A+bF2e+p/xkT58lvUrJK+TPkafr87dl5U+YSZVsP2vlz68lV+qHPyZPvXmh7lFgZw+EsegDwFFnz4XUiQcsCahPsfGjbWF0KI+0VFRFKijpD7JagqhGKSmPr2LjDc81qg+dfMRzOQ+qz5IK+T/W+OtPsUNXF63ZLA+6w8c+Lz7sT6rkddBPLqzPiDePlcJpLU+2r19Yle9tz4X21TUwQq6PneNGIFWkbw+JCrIuKBWvz5ZEky5WjDBPlv4UlMg28I+/+yR+UmvxD7uU5FW27DGPhWFHsA75Mg+bTPq4T9Oyz5tkCdYNPTNPiWGuaj0bdA+JsHEqN8F0j5mTGmYWsXTPh9KvLs7sNU+fWPhmrjK1z7SVlY/bxnaPv3upFZwodw+IgS7UEpo3z7NRSjJCjrhPsnaEOvA5eI+RektbfK65D6/eTo9pb3mPtsRYyxD8ug+S9BWn6Nd6z7AieAuFgXuPqzyLSg3d/A+FdbODwgQ8j5n7jAzf9DzPveJBQB1vPU+bbm9XSHY9z6R9QrwJCj6Pt54Rz+Tsfw+53YS3f15/z6C/MpOwEMBP8i6JYBn8AI/1TTXcqHGBD9WiBNZdsoGP+qBzIBSAAk/SYA4CRBtCz/z6GiJARYOP2OpqN9+gBA/MoNyMDYaEj/Tm7YVqtsTPzRy+ie1yBU/qsVSr5HlFz8tQxzr4jYaPw==\",\"dtype\":\"float64\",\"order\":\"little\",\"shape\":[200]},\"y\":{\"__ndarray__\":\"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\",\"dtype\":\"float64\",\"order\":\"little\",\"shape\":[200]}},\"selected\":{\"id\":\"2967\"},\"selection_policy\":{\"id\":\"2966\"}},\"id\":\"2946\",\"type\":\"ColumnDataSource\"},{\"attributes\":{\"coordinates\":null,\"group\":null},\"id\":\"2958\",\"type\":\"Title\"},{\"attributes\":{},\"id\":\"2966\",\"type\":\"UnionRenderers\"}],\"root_ids\":[\"2915\"]},\"title\":\"Bokeh Application\",\"version\":\"2.4.2\"}};\n",
       "  const render_items = [{\"docid\":\"c4e3a330-569d-4fc4-927a-9715a742c9b5\",\"root_ids\":[\"2915\"],\"roots\":{\"2915\":\"6f927aa0-4a95-477c-999a-7922e04e816d\"}}];\n",
       "  root.Bokeh.embed.embed_items_notebook(docs_json, render_items);\n",
       "\n",
       "  }\n",
       "  if (root.Bokeh !== undefined) {\n",
       "    embed_document(root);\n",
       "  } else {\n",
       "    let attempts = 0;\n",
       "    const timer = setInterval(function(root) {\n",
       "      if (root.Bokeh !== undefined) {\n",
       "        clearInterval(timer);\n",
       "        embed_document(root);\n",
       "      } else {\n",
       "        attempts++;\n",
       "        if (attempts > 100) {\n",
       "          clearInterval(timer);\n",
       "          console.log(\"Bokeh: ERROR: Unable to run BokehJS code because BokehJS library is missing\");\n",
       "        }\n",
       "      }\n",
       "    }, 10, root)\n",
       "  }\n",
       "})(window);"
      ],
      "application/vnd.bokehjs_exec.v0+json": ""
     },
     "metadata": {
      "application/vnd.bokehjs_exec.v0+json": {
       "id": "2915"
      }
     },
     "output_type": "display_data"
    },
    {
     "name": "stdout",
     "output_type": "stream",
     "text": [
      "[4.86648693e-10 3.44199279e-08 1.09647820e-04]\n",
      "[-9.31278444 -7.46319004 -3.96      ]\n"
     ]
    }
   ],
   "source": [
    "curdoc().clear()\n",
    "#initial parameter for optimization\n",
    "p0 = np.array([-9,-7,-3.96])\n",
    "c, p_active = df['conc'].values, df['FH210'].values/100\n",
    "\n",
    "#optimize kd and energy difference to fit the data\n",
    "res = scipy.optimize.least_squares(partial_resid, p0, args = (c,p_active))\n",
    "\n",
    "curdoc().clear()\n",
    "p = bokeh.plotting.figure(plot_height=400,\n",
    "                         plot_width=600,\n",
    "                         x_axis_label='[FH210] M',\n",
    "                          y_axis_label='active_probability',\n",
    "                          x_axis_type='log')\n",
    "\n",
    "p.line(ligand_smooth, partial_agonist_only_p_active_theory(ligand_smooth, res.x[0],res.x[1],res.x[2]))\n",
    "p.circle(c, p_active, size=7, color=colors[i])\n",
    "\n",
    "bokeh.io.show(p);\n",
    "print(10**res.x)\n",
    "print(res.x)"
   ]
  },
  {
   "cell_type": "code",
   "execution_count": 25,
   "id": "2398f82e",
   "metadata": {},
   "outputs": [
    {
     "data": {
      "text/html": [
       "\n",
       "\n",
       "\n",
       "\n",
       "\n",
       "\n",
       "  <div class=\"bk-root\" id=\"a87d614a-762e-4fbb-b235-e839e55679cf\" data-root-id=\"3036\"></div>\n"
      ]
     },
     "metadata": {},
     "output_type": "display_data"
    },
    {
     "data": {
      "application/javascript": [
       "(function(root) {\n",
       "  function embed_document(root) {\n",
       "    \n",
       "  const docs_json = {\"06291b4a-1f4a-402b-9601-6567c04eb60a\":{\"defs\":[],\"roots\":{\"references\":[{\"attributes\":{\"below\":[{\"id\":\"3045\"}],\"center\":[{\"id\":\"3048\"},{\"id\":\"3052\"}],\"height\":400,\"left\":[{\"id\":\"3049\"}],\"renderers\":[{\"id\":\"3071\"},{\"id\":\"3077\"}],\"title\":{\"id\":\"3079\"},\"toolbar\":{\"id\":\"3060\"},\"x_range\":{\"id\":\"3037\"},\"x_scale\":{\"id\":\"3041\"},\"y_range\":{\"id\":\"3039\"},\"y_scale\":{\"id\":\"3043\"}},\"id\":\"3036\",\"subtype\":\"Figure\",\"type\":\"Plot\"},{\"attributes\":{},\"id\":\"3043\",\"type\":\"LinearScale\"},{\"attributes\":{\"coordinates\":null,\"data_source\":{\"id\":\"3067\"},\"glyph\":{\"id\":\"3068\"},\"group\":null,\"hover_glyph\":null,\"muted_glyph\":{\"id\":\"3070\"},\"nonselection_glyph\":{\"id\":\"3069\"},\"view\":{\"id\":\"3072\"}},\"id\":\"3071\",\"type\":\"GlyphRenderer\"},{\"attributes\":{\"fill_alpha\":{\"value\":0.1},\"fill_color\":{\"value\":\"#d62728\"},\"hatch_alpha\":{\"value\":0.1},\"hatch_color\":{\"value\":\"#d62728\"},\"line_alpha\":{\"value\":0.1},\"line_color\":{\"value\":\"#d62728\"},\"size\":{\"value\":7},\"x\":{\"field\":\"x\"},\"y\":{\"field\":\"y\"}},\"id\":\"3075\",\"type\":\"Circle\"},{\"attributes\":{},\"id\":\"3083\",\"type\":\"AllLabels\"},{\"attributes\":{\"source\":{\"id\":\"3067\"}},\"id\":\"3072\",\"type\":\"CDSView\"},{\"attributes\":{\"ticker\":null},\"id\":\"3085\",\"type\":\"LogTickFormatter\"},{\"attributes\":{\"line_alpha\":0.1,\"line_color\":\"#1f77b4\",\"x\":{\"field\":\"x\"},\"y\":{\"field\":\"y\"}},\"id\":\"3069\",\"type\":\"Line\"},{\"attributes\":{\"data\":{\"x\":{\"__ndarray__\":\"8WjjiLX45D679pawq8bAPhuSU62U2Jo+oI4DVa95dT7M4Xca2C1RPjaq640QfCs+3t8LVsL9BT7oVNoJf5fhPTSqdm7HIbw9TvOxegaBlj2fbg5/gAByPfFo44i1+OQ+u/aWsKvGwD4bklOtlNiaPqCOA1WveXU+zOF3GtgtUT42quuNEHwrPt7fC1bC/QU+6FTaCX+X4T00qnZuxyG8PU7zsXoGgZY9n24Of4AAcj0=\",\"dtype\":\"float64\",\"order\":\"little\",\"shape\":[22]},\"y\":{\"__ndarray__\":\"vNQK6OC03j/jyvAw+Z/hP+irZGpvxtc/iDwj5zlx0z9b8Arp6aLUP01aftAdG88/ERIx9I1qob/O+xMCff2xvw2t0l6Wv7y/jaluZtkTrD+tgOqaNoOxv1HRz8XVPuM/r6O+zEzv3z9SWE6WoefdP5v1EGh5X9k/yKuqlcNV1D9t2DQ2Wa2wP9JFFce046M/EY3KVNIgur8dvEK06cG5v6Z42lg665y/oNZH7dZvpj8=\",\"dtype\":\"float64\",\"order\":\"little\",\"shape\":[22]}},\"selected\":{\"id\":\"3090\"},\"selection_policy\":{\"id\":\"3089\"}},\"id\":\"3073\",\"type\":\"ColumnDataSource\"},{\"attributes\":{},\"id\":\"3086\",\"type\":\"AllLabels\"},{\"attributes\":{\"coordinates\":null,\"group\":null},\"id\":\"3079\",\"type\":\"Title\"},{\"attributes\":{\"bottom_units\":\"screen\",\"coordinates\":null,\"fill_alpha\":0.5,\"fill_color\":\"lightgrey\",\"group\":null,\"left_units\":\"screen\",\"level\":\"overlay\",\"line_alpha\":1.0,\"line_color\":\"black\",\"line_dash\":[4,4],\"line_width\":2,\"right_units\":\"screen\",\"syncable\":false,\"top_units\":\"screen\"},\"id\":\"3059\",\"type\":\"BoxAnnotation\"},{\"attributes\":{\"source\":{\"id\":\"3073\"}},\"id\":\"3078\",\"type\":\"CDSView\"},{\"attributes\":{\"coordinates\":null,\"data_source\":{\"id\":\"3073\"},\"glyph\":{\"id\":\"3074\"},\"group\":null,\"hover_glyph\":null,\"muted_glyph\":{\"id\":\"3076\"},\"nonselection_glyph\":{\"id\":\"3075\"},\"view\":{\"id\":\"3078\"}},\"id\":\"3077\",\"type\":\"GlyphRenderer\"},{\"attributes\":{\"data\":{\"x\":{\"__ndarray__\":\"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\",\"dtype\":\"float64\",\"order\":\"little\",\"shape\":[200]},\"y\":{\"__ndarray__\":\"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\",\"dtype\":\"float64\",\"order\":\"little\",\"shape\":[200]}},\"selected\":{\"id\":\"3088\"},\"selection_policy\":{\"id\":\"3087\"}},\"id\":\"3067\",\"type\":\"ColumnDataSource\"},{\"attributes\":{},\"id\":\"3054\",\"type\":\"WheelZoomTool\"},{\"attributes\":{\"fill_alpha\":{\"value\":0.2},\"fill_color\":{\"value\":\"#d62728\"},\"hatch_alpha\":{\"value\":0.2},\"hatch_color\":{\"value\":\"#d62728\"},\"line_alpha\":{\"value\":0.2},\"line_color\":{\"value\":\"#d62728\"},\"size\":{\"value\":7},\"x\":{\"field\":\"x\"},\"y\":{\"field\":\"y\"}},\"id\":\"3076\",\"type\":\"Circle\"},{\"attributes\":{},\"id\":\"3090\",\"type\":\"Selection\"},{\"attributes\":{},\"id\":\"3039\",\"type\":\"DataRange1d\"},{\"attributes\":{},\"id\":\"3037\",\"type\":\"DataRange1d\"},{\"attributes\":{},\"id\":\"3087\",\"type\":\"UnionRenderers\"},{\"attributes\":{\"overlay\":{\"id\":\"3059\"}},\"id\":\"3055\",\"type\":\"BoxZoomTool\"},{\"attributes\":{},\"id\":\"3088\",\"type\":\"Selection\"},{\"attributes\":{\"line_color\":\"#1f77b4\",\"x\":{\"field\":\"x\"},\"y\":{\"field\":\"y\"}},\"id\":\"3068\",\"type\":\"Line\"},{\"attributes\":{\"axis_label\":\"[PZM21] M\",\"coordinates\":null,\"formatter\":{\"id\":\"3085\"},\"group\":null,\"major_label_policy\":{\"id\":\"3086\"},\"ticker\":{\"id\":\"3046\"}},\"id\":\"3045\",\"type\":\"LogAxis\"},{\"attributes\":{},\"id\":\"3058\",\"type\":\"HelpTool\"},{\"attributes\":{\"fill_color\":{\"value\":\"#d62728\"},\"hatch_color\":{\"value\":\"#d62728\"},\"line_color\":{\"value\":\"#d62728\"},\"size\":{\"value\":7},\"x\":{\"field\":\"x\"},\"y\":{\"field\":\"y\"}},\"id\":\"3074\",\"type\":\"Circle\"},{\"attributes\":{},\"id\":\"3082\",\"type\":\"BasicTickFormatter\"},{\"attributes\":{},\"id\":\"3041\",\"type\":\"LogScale\"},{\"attributes\":{\"tools\":[{\"id\":\"3053\"},{\"id\":\"3054\"},{\"id\":\"3055\"},{\"id\":\"3056\"},{\"id\":\"3057\"},{\"id\":\"3058\"}]},\"id\":\"3060\",\"type\":\"Toolbar\"},{\"attributes\":{},\"id\":\"3057\",\"type\":\"ResetTool\"},{\"attributes\":{},\"id\":\"3050\",\"type\":\"BasicTicker\"},{\"attributes\":{\"num_minor_ticks\":10},\"id\":\"3046\",\"type\":\"LogTicker\"},{\"attributes\":{},\"id\":\"3089\",\"type\":\"UnionRenderers\"},{\"attributes\":{\"line_alpha\":0.2,\"line_color\":\"#1f77b4\",\"x\":{\"field\":\"x\"},\"y\":{\"field\":\"y\"}},\"id\":\"3070\",\"type\":\"Line\"},{\"attributes\":{\"axis_label\":\"active_probability\",\"coordinates\":null,\"formatter\":{\"id\":\"3082\"},\"group\":null,\"major_label_policy\":{\"id\":\"3083\"},\"ticker\":{\"id\":\"3050\"}},\"id\":\"3049\",\"type\":\"LinearAxis\"},{\"attributes\":{\"axis\":{\"id\":\"3049\"},\"coordinates\":null,\"dimension\":1,\"group\":null,\"ticker\":null},\"id\":\"3052\",\"type\":\"Grid\"},{\"attributes\":{\"axis\":{\"id\":\"3045\"},\"coordinates\":null,\"group\":null,\"ticker\":null},\"id\":\"3048\",\"type\":\"Grid\"},{\"attributes\":{},\"id\":\"3053\",\"type\":\"PanTool\"},{\"attributes\":{},\"id\":\"3056\",\"type\":\"SaveTool\"}],\"root_ids\":[\"3036\"]},\"title\":\"Bokeh Application\",\"version\":\"2.4.2\"}};\n",
       "  const render_items = [{\"docid\":\"06291b4a-1f4a-402b-9601-6567c04eb60a\",\"root_ids\":[\"3036\"],\"roots\":{\"3036\":\"a87d614a-762e-4fbb-b235-e839e55679cf\"}}];\n",
       "  root.Bokeh.embed.embed_items_notebook(docs_json, render_items);\n",
       "\n",
       "  }\n",
       "  if (root.Bokeh !== undefined) {\n",
       "    embed_document(root);\n",
       "  } else {\n",
       "    let attempts = 0;\n",
       "    const timer = setInterval(function(root) {\n",
       "      if (root.Bokeh !== undefined) {\n",
       "        clearInterval(timer);\n",
       "        embed_document(root);\n",
       "      } else {\n",
       "        attempts++;\n",
       "        if (attempts > 100) {\n",
       "          clearInterval(timer);\n",
       "          console.log(\"Bokeh: ERROR: Unable to run BokehJS code because BokehJS library is missing\");\n",
       "        }\n",
       "      }\n",
       "    }, 10, root)\n",
       "  }\n",
       "})(window);"
      ],
      "application/vnd.bokehjs_exec.v0+json": ""
     },
     "metadata": {
      "application/vnd.bokehjs_exec.v0+json": {
       "id": "3036"
      }
     },
     "output_type": "display_data"
    },
    {
     "name": "stdout",
     "output_type": "stream",
     "text": [
      "[4.24527530e-10 2.18645805e-08 1.00000000e-04]\n",
      "[-9.37209414 -7.66025885 -4.        ]\n"
     ]
    }
   ],
   "source": [
    "curdoc().clear()\n",
    "#initial parameter for optimization\n",
    "p0 = np.array([-9,-7,-4])\n",
    "c, p_active = df['conc'].values, df['PZM21'].values/100\n",
    "\n",
    "#optimize kd and energy difference to fit the data\n",
    "res = scipy.optimize.least_squares(partial_resid, p0, args = (c,p_active))\n",
    "\n",
    "curdoc().clear()\n",
    "p = bokeh.plotting.figure(plot_height=400,\n",
    "                         plot_width=600,\n",
    "                         x_axis_label='[PZM21] M',\n",
    "                          y_axis_label='active_probability',\n",
    "                          x_axis_type='log')\n",
    "\n",
    "p.line(ligand_smooth, partial_agonist_only_p_active_theory(ligand_smooth, res.x[0],res.x[1],res.x[2]))\n",
    "p.circle(c, p_active, size=7, color=colors[i])\n",
    "\n",
    "bokeh.io.show(p);\n",
    "print(10**res.x)\n",
    "print(res.x)"
   ]
  },
  {
   "cell_type": "code",
   "execution_count": null,
   "id": "638328ef",
   "metadata": {},
   "outputs": [],
   "source": []
  }
 ],
 "metadata": {
  "kernelspec": {
   "display_name": "Python 3 (ipykernel)",
   "language": "python",
   "name": "python3"
  },
  "language_info": {
   "codemirror_mode": {
    "name": "ipython",
    "version": 3
   },
   "file_extension": ".py",
   "mimetype": "text/x-python",
   "name": "python",
   "nbconvert_exporter": "python",
   "pygments_lexer": "ipython3",
   "version": "3.8.11"
  }
 },
 "nbformat": 4,
 "nbformat_minor": 5
}
