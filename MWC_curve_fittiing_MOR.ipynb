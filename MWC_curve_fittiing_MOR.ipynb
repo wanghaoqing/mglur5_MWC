{
 "cells": [
  {
   "cell_type": "code",
   "execution_count": 1,
   "id": "3361a032",
   "metadata": {},
   "outputs": [
    {
     "data": {
      "text/html": [
       "\n",
       "    <div class=\"bk-root\">\n",
       "        <a href=\"https://bokeh.org\" target=\"_blank\" class=\"bk-logo bk-logo-small bk-logo-notebook\"></a>\n",
       "        <span id=\"1002\">Loading BokehJS ...</span>\n",
       "    </div>"
      ]
     },
     "metadata": {},
     "output_type": "display_data"
    },
    {
     "data": {
      "application/javascript": [
       "\n",
       "(function(root) {\n",
       "  function now() {\n",
       "    return new Date();\n",
       "  }\n",
       "\n",
       "  const force = true;\n",
       "\n",
       "  if (typeof root._bokeh_onload_callbacks === \"undefined\" || force === true) {\n",
       "    root._bokeh_onload_callbacks = [];\n",
       "    root._bokeh_is_loading = undefined;\n",
       "  }\n",
       "\n",
       "  const JS_MIME_TYPE = 'application/javascript';\n",
       "  const HTML_MIME_TYPE = 'text/html';\n",
       "  const EXEC_MIME_TYPE = 'application/vnd.bokehjs_exec.v0+json';\n",
       "  const CLASS_NAME = 'output_bokeh rendered_html';\n",
       "\n",
       "  /**\n",
       "   * Render data to the DOM node\n",
       "   */\n",
       "  function render(props, node) {\n",
       "    const script = document.createElement(\"script\");\n",
       "    node.appendChild(script);\n",
       "  }\n",
       "\n",
       "  /**\n",
       "   * Handle when an output is cleared or removed\n",
       "   */\n",
       "  function handleClearOutput(event, handle) {\n",
       "    const cell = handle.cell;\n",
       "\n",
       "    const id = cell.output_area._bokeh_element_id;\n",
       "    const server_id = cell.output_area._bokeh_server_id;\n",
       "    // Clean up Bokeh references\n",
       "    if (id != null && id in Bokeh.index) {\n",
       "      Bokeh.index[id].model.document.clear();\n",
       "      delete Bokeh.index[id];\n",
       "    }\n",
       "\n",
       "    if (server_id !== undefined) {\n",
       "      // Clean up Bokeh references\n",
       "      const cmd_clean = \"from bokeh.io.state import curstate; print(curstate().uuid_to_server['\" + server_id + \"'].get_sessions()[0].document.roots[0]._id)\";\n",
       "      cell.notebook.kernel.execute(cmd_clean, {\n",
       "        iopub: {\n",
       "          output: function(msg) {\n",
       "            const id = msg.content.text.trim();\n",
       "            if (id in Bokeh.index) {\n",
       "              Bokeh.index[id].model.document.clear();\n",
       "              delete Bokeh.index[id];\n",
       "            }\n",
       "          }\n",
       "        }\n",
       "      });\n",
       "      // Destroy server and session\n",
       "      const cmd_destroy = \"import bokeh.io.notebook as ion; ion.destroy_server('\" + server_id + \"')\";\n",
       "      cell.notebook.kernel.execute(cmd_destroy);\n",
       "    }\n",
       "  }\n",
       "\n",
       "  /**\n",
       "   * Handle when a new output is added\n",
       "   */\n",
       "  function handleAddOutput(event, handle) {\n",
       "    const output_area = handle.output_area;\n",
       "    const output = handle.output;\n",
       "\n",
       "    // limit handleAddOutput to display_data with EXEC_MIME_TYPE content only\n",
       "    if ((output.output_type != \"display_data\") || (!Object.prototype.hasOwnProperty.call(output.data, EXEC_MIME_TYPE))) {\n",
       "      return\n",
       "    }\n",
       "\n",
       "    const toinsert = output_area.element.find(\".\" + CLASS_NAME.split(' ')[0]);\n",
       "\n",
       "    if (output.metadata[EXEC_MIME_TYPE][\"id\"] !== undefined) {\n",
       "      toinsert[toinsert.length - 1].firstChild.textContent = output.data[JS_MIME_TYPE];\n",
       "      // store reference to embed id on output_area\n",
       "      output_area._bokeh_element_id = output.metadata[EXEC_MIME_TYPE][\"id\"];\n",
       "    }\n",
       "    if (output.metadata[EXEC_MIME_TYPE][\"server_id\"] !== undefined) {\n",
       "      const bk_div = document.createElement(\"div\");\n",
       "      bk_div.innerHTML = output.data[HTML_MIME_TYPE];\n",
       "      const script_attrs = bk_div.children[0].attributes;\n",
       "      for (let i = 0; i < script_attrs.length; i++) {\n",
       "        toinsert[toinsert.length - 1].firstChild.setAttribute(script_attrs[i].name, script_attrs[i].value);\n",
       "        toinsert[toinsert.length - 1].firstChild.textContent = bk_div.children[0].textContent\n",
       "      }\n",
       "      // store reference to server id on output_area\n",
       "      output_area._bokeh_server_id = output.metadata[EXEC_MIME_TYPE][\"server_id\"];\n",
       "    }\n",
       "  }\n",
       "\n",
       "  function register_renderer(events, OutputArea) {\n",
       "\n",
       "    function append_mime(data, metadata, element) {\n",
       "      // create a DOM node to render to\n",
       "      const toinsert = this.create_output_subarea(\n",
       "        metadata,\n",
       "        CLASS_NAME,\n",
       "        EXEC_MIME_TYPE\n",
       "      );\n",
       "      this.keyboard_manager.register_events(toinsert);\n",
       "      // Render to node\n",
       "      const props = {data: data, metadata: metadata[EXEC_MIME_TYPE]};\n",
       "      render(props, toinsert[toinsert.length - 1]);\n",
       "      element.append(toinsert);\n",
       "      return toinsert\n",
       "    }\n",
       "\n",
       "    /* Handle when an output is cleared or removed */\n",
       "    events.on('clear_output.CodeCell', handleClearOutput);\n",
       "    events.on('delete.Cell', handleClearOutput);\n",
       "\n",
       "    /* Handle when a new output is added */\n",
       "    events.on('output_added.OutputArea', handleAddOutput);\n",
       "\n",
       "    /**\n",
       "     * Register the mime type and append_mime function with output_area\n",
       "     */\n",
       "    OutputArea.prototype.register_mime_type(EXEC_MIME_TYPE, append_mime, {\n",
       "      /* Is output safe? */\n",
       "      safe: true,\n",
       "      /* Index of renderer in `output_area.display_order` */\n",
       "      index: 0\n",
       "    });\n",
       "  }\n",
       "\n",
       "  // register the mime type if in Jupyter Notebook environment and previously unregistered\n",
       "  if (root.Jupyter !== undefined) {\n",
       "    const events = require('base/js/events');\n",
       "    const OutputArea = require('notebook/js/outputarea').OutputArea;\n",
       "\n",
       "    if (OutputArea.prototype.mime_types().indexOf(EXEC_MIME_TYPE) == -1) {\n",
       "      register_renderer(events, OutputArea);\n",
       "    }\n",
       "  }\n",
       "\n",
       "  \n",
       "  if (typeof (root._bokeh_timeout) === \"undefined\" || force === true) {\n",
       "    root._bokeh_timeout = Date.now() + 5000;\n",
       "    root._bokeh_failed_load = false;\n",
       "  }\n",
       "\n",
       "  const NB_LOAD_WARNING = {'data': {'text/html':\n",
       "     \"<div style='background-color: #fdd'>\\n\"+\n",
       "     \"<p>\\n\"+\n",
       "     \"BokehJS does not appear to have successfully loaded. If loading BokehJS from CDN, this \\n\"+\n",
       "     \"may be due to a slow or bad network connection. Possible fixes:\\n\"+\n",
       "     \"</p>\\n\"+\n",
       "     \"<ul>\\n\"+\n",
       "     \"<li>re-rerun `output_notebook()` to attempt to load from CDN again, or</li>\\n\"+\n",
       "     \"<li>use INLINE resources instead, as so:</li>\\n\"+\n",
       "     \"</ul>\\n\"+\n",
       "     \"<code>\\n\"+\n",
       "     \"from bokeh.resources import INLINE\\n\"+\n",
       "     \"output_notebook(resources=INLINE)\\n\"+\n",
       "     \"</code>\\n\"+\n",
       "     \"</div>\"}};\n",
       "\n",
       "  function display_loaded() {\n",
       "    const el = document.getElementById(\"1002\");\n",
       "    if (el != null) {\n",
       "      el.textContent = \"BokehJS is loading...\";\n",
       "    }\n",
       "    if (root.Bokeh !== undefined) {\n",
       "      if (el != null) {\n",
       "        el.textContent = \"BokehJS \" + root.Bokeh.version + \" successfully loaded.\";\n",
       "      }\n",
       "    } else if (Date.now() < root._bokeh_timeout) {\n",
       "      setTimeout(display_loaded, 100)\n",
       "    }\n",
       "  }\n",
       "\n",
       "\n",
       "  function run_callbacks() {\n",
       "    try {\n",
       "      root._bokeh_onload_callbacks.forEach(function(callback) {\n",
       "        if (callback != null)\n",
       "          callback();\n",
       "      });\n",
       "    } finally {\n",
       "      delete root._bokeh_onload_callbacks\n",
       "    }\n",
       "    console.debug(\"Bokeh: all callbacks have finished\");\n",
       "  }\n",
       "\n",
       "  function load_libs(css_urls, js_urls, callback) {\n",
       "    if (css_urls == null) css_urls = [];\n",
       "    if (js_urls == null) js_urls = [];\n",
       "\n",
       "    root._bokeh_onload_callbacks.push(callback);\n",
       "    if (root._bokeh_is_loading > 0) {\n",
       "      console.debug(\"Bokeh: BokehJS is being loaded, scheduling callback at\", now());\n",
       "      return null;\n",
       "    }\n",
       "    if (js_urls == null || js_urls.length === 0) {\n",
       "      run_callbacks();\n",
       "      return null;\n",
       "    }\n",
       "    console.debug(\"Bokeh: BokehJS not loaded, scheduling load and callback at\", now());\n",
       "    root._bokeh_is_loading = css_urls.length + js_urls.length;\n",
       "\n",
       "    function on_load() {\n",
       "      root._bokeh_is_loading--;\n",
       "      if (root._bokeh_is_loading === 0) {\n",
       "        console.debug(\"Bokeh: all BokehJS libraries/stylesheets loaded\");\n",
       "        run_callbacks()\n",
       "      }\n",
       "    }\n",
       "\n",
       "    function on_error(url) {\n",
       "      console.error(\"failed to load \" + url);\n",
       "    }\n",
       "\n",
       "    for (let i = 0; i < css_urls.length; i++) {\n",
       "      const url = css_urls[i];\n",
       "      const element = document.createElement(\"link\");\n",
       "      element.onload = on_load;\n",
       "      element.onerror = on_error.bind(null, url);\n",
       "      element.rel = \"stylesheet\";\n",
       "      element.type = \"text/css\";\n",
       "      element.href = url;\n",
       "      console.debug(\"Bokeh: injecting link tag for BokehJS stylesheet: \", url);\n",
       "      document.body.appendChild(element);\n",
       "    }\n",
       "\n",
       "    for (let i = 0; i < js_urls.length; i++) {\n",
       "      const url = js_urls[i];\n",
       "      const element = document.createElement('script');\n",
       "      element.onload = on_load;\n",
       "      element.onerror = on_error.bind(null, url);\n",
       "      element.async = false;\n",
       "      element.src = url;\n",
       "      console.debug(\"Bokeh: injecting script tag for BokehJS library: \", url);\n",
       "      document.head.appendChild(element);\n",
       "    }\n",
       "  };\n",
       "\n",
       "  function inject_raw_css(css) {\n",
       "    const element = document.createElement(\"style\");\n",
       "    element.appendChild(document.createTextNode(css));\n",
       "    document.body.appendChild(element);\n",
       "  }\n",
       "\n",
       "  \n",
       "  const js_urls = [\"https://cdn.bokeh.org/bokeh/release/bokeh-2.4.2.min.js\", \"https://cdn.bokeh.org/bokeh/release/bokeh-gl-2.4.2.min.js\", \"https://cdn.bokeh.org/bokeh/release/bokeh-widgets-2.4.2.min.js\", \"https://cdn.bokeh.org/bokeh/release/bokeh-tables-2.4.2.min.js\", \"https://cdn.bokeh.org/bokeh/release/bokeh-mathjax-2.4.2.min.js\"];\n",
       "  const css_urls = [];\n",
       "  \n",
       "\n",
       "  const inline_js = [\n",
       "    function(Bokeh) {\n",
       "      Bokeh.set_log_level(\"info\");\n",
       "    },\n",
       "    function(Bokeh) {\n",
       "    \n",
       "    \n",
       "    }\n",
       "  ];\n",
       "\n",
       "  function run_inline_js() {\n",
       "    \n",
       "    if (root.Bokeh !== undefined || force === true) {\n",
       "      \n",
       "    for (let i = 0; i < inline_js.length; i++) {\n",
       "      inline_js[i].call(root, root.Bokeh);\n",
       "    }\n",
       "    if (force === true) {\n",
       "        display_loaded();\n",
       "      }} else if (Date.now() < root._bokeh_timeout) {\n",
       "      setTimeout(run_inline_js, 100);\n",
       "    } else if (!root._bokeh_failed_load) {\n",
       "      console.log(\"Bokeh: BokehJS failed to load within specified timeout.\");\n",
       "      root._bokeh_failed_load = true;\n",
       "    } else if (force !== true) {\n",
       "      const cell = $(document.getElementById(\"1002\")).parents('.cell').data().cell;\n",
       "      cell.output_area.append_execute_result(NB_LOAD_WARNING)\n",
       "    }\n",
       "\n",
       "  }\n",
       "\n",
       "  if (root._bokeh_is_loading === 0) {\n",
       "    console.debug(\"Bokeh: BokehJS loaded, going straight to plotting\");\n",
       "    run_inline_js();\n",
       "  } else {\n",
       "    load_libs(css_urls, js_urls, function() {\n",
       "      console.debug(\"Bokeh: BokehJS plotting callback run at\", now());\n",
       "      run_inline_js();\n",
       "    });\n",
       "  }\n",
       "}(window));"
      ],
      "application/vnd.bokehjs_load.v0+json": "\n(function(root) {\n  function now() {\n    return new Date();\n  }\n\n  const force = true;\n\n  if (typeof root._bokeh_onload_callbacks === \"undefined\" || force === true) {\n    root._bokeh_onload_callbacks = [];\n    root._bokeh_is_loading = undefined;\n  }\n\n  \n\n  \n  if (typeof (root._bokeh_timeout) === \"undefined\" || force === true) {\n    root._bokeh_timeout = Date.now() + 5000;\n    root._bokeh_failed_load = false;\n  }\n\n  const NB_LOAD_WARNING = {'data': {'text/html':\n     \"<div style='background-color: #fdd'>\\n\"+\n     \"<p>\\n\"+\n     \"BokehJS does not appear to have successfully loaded. If loading BokehJS from CDN, this \\n\"+\n     \"may be due to a slow or bad network connection. Possible fixes:\\n\"+\n     \"</p>\\n\"+\n     \"<ul>\\n\"+\n     \"<li>re-rerun `output_notebook()` to attempt to load from CDN again, or</li>\\n\"+\n     \"<li>use INLINE resources instead, as so:</li>\\n\"+\n     \"</ul>\\n\"+\n     \"<code>\\n\"+\n     \"from bokeh.resources import INLINE\\n\"+\n     \"output_notebook(resources=INLINE)\\n\"+\n     \"</code>\\n\"+\n     \"</div>\"}};\n\n  function display_loaded() {\n    const el = document.getElementById(\"1002\");\n    if (el != null) {\n      el.textContent = \"BokehJS is loading...\";\n    }\n    if (root.Bokeh !== undefined) {\n      if (el != null) {\n        el.textContent = \"BokehJS \" + root.Bokeh.version + \" successfully loaded.\";\n      }\n    } else if (Date.now() < root._bokeh_timeout) {\n      setTimeout(display_loaded, 100)\n    }\n  }\n\n\n  function run_callbacks() {\n    try {\n      root._bokeh_onload_callbacks.forEach(function(callback) {\n        if (callback != null)\n          callback();\n      });\n    } finally {\n      delete root._bokeh_onload_callbacks\n    }\n    console.debug(\"Bokeh: all callbacks have finished\");\n  }\n\n  function load_libs(css_urls, js_urls, callback) {\n    if (css_urls == null) css_urls = [];\n    if (js_urls == null) js_urls = [];\n\n    root._bokeh_onload_callbacks.push(callback);\n    if (root._bokeh_is_loading > 0) {\n      console.debug(\"Bokeh: BokehJS is being loaded, scheduling callback at\", now());\n      return null;\n    }\n    if (js_urls == null || js_urls.length === 0) {\n      run_callbacks();\n      return null;\n    }\n    console.debug(\"Bokeh: BokehJS not loaded, scheduling load and callback at\", now());\n    root._bokeh_is_loading = css_urls.length + js_urls.length;\n\n    function on_load() {\n      root._bokeh_is_loading--;\n      if (root._bokeh_is_loading === 0) {\n        console.debug(\"Bokeh: all BokehJS libraries/stylesheets loaded\");\n        run_callbacks()\n      }\n    }\n\n    function on_error(url) {\n      console.error(\"failed to load \" + url);\n    }\n\n    for (let i = 0; i < css_urls.length; i++) {\n      const url = css_urls[i];\n      const element = document.createElement(\"link\");\n      element.onload = on_load;\n      element.onerror = on_error.bind(null, url);\n      element.rel = \"stylesheet\";\n      element.type = \"text/css\";\n      element.href = url;\n      console.debug(\"Bokeh: injecting link tag for BokehJS stylesheet: \", url);\n      document.body.appendChild(element);\n    }\n\n    for (let i = 0; i < js_urls.length; i++) {\n      const url = js_urls[i];\n      const element = document.createElement('script');\n      element.onload = on_load;\n      element.onerror = on_error.bind(null, url);\n      element.async = false;\n      element.src = url;\n      console.debug(\"Bokeh: injecting script tag for BokehJS library: \", url);\n      document.head.appendChild(element);\n    }\n  };\n\n  function inject_raw_css(css) {\n    const element = document.createElement(\"style\");\n    element.appendChild(document.createTextNode(css));\n    document.body.appendChild(element);\n  }\n\n  \n  const js_urls = [\"https://cdn.bokeh.org/bokeh/release/bokeh-2.4.2.min.js\", \"https://cdn.bokeh.org/bokeh/release/bokeh-gl-2.4.2.min.js\", \"https://cdn.bokeh.org/bokeh/release/bokeh-widgets-2.4.2.min.js\", \"https://cdn.bokeh.org/bokeh/release/bokeh-tables-2.4.2.min.js\", \"https://cdn.bokeh.org/bokeh/release/bokeh-mathjax-2.4.2.min.js\"];\n  const css_urls = [];\n  \n\n  const inline_js = [\n    function(Bokeh) {\n      Bokeh.set_log_level(\"info\");\n    },\n    function(Bokeh) {\n    \n    \n    }\n  ];\n\n  function run_inline_js() {\n    \n    if (root.Bokeh !== undefined || force === true) {\n      \n    for (let i = 0; i < inline_js.length; i++) {\n      inline_js[i].call(root, root.Bokeh);\n    }\n    if (force === true) {\n        display_loaded();\n      }} else if (Date.now() < root._bokeh_timeout) {\n      setTimeout(run_inline_js, 100);\n    } else if (!root._bokeh_failed_load) {\n      console.log(\"Bokeh: BokehJS failed to load within specified timeout.\");\n      root._bokeh_failed_load = true;\n    } else if (force !== true) {\n      const cell = $(document.getElementById(\"1002\")).parents('.cell').data().cell;\n      cell.output_area.append_execute_result(NB_LOAD_WARNING)\n    }\n\n  }\n\n  if (root._bokeh_is_loading === 0) {\n    console.debug(\"Bokeh: BokehJS loaded, going straight to plotting\");\n    run_inline_js();\n  } else {\n    load_libs(css_urls, js_urls, function() {\n      console.debug(\"Bokeh: BokehJS plotting callback run at\", now());\n      run_inline_js();\n    });\n  }\n}(window));"
     },
     "metadata": {},
     "output_type": "display_data"
    }
   ],
   "source": [
    "import numpy as np\n",
    "import pandas as pd\n",
    "import scipy.optimize\n",
    "import bokeh.plotting\n",
    "import bokeh.io\n",
    "bokeh.io.output_notebook()"
   ]
  },
  {
   "cell_type": "code",
   "execution_count": 2,
   "id": "0b22032a",
   "metadata": {},
   "outputs": [],
   "source": [
    "def agonist_only_p_active_theory(c_agonist, log_Kd_active, log_Kd_inactive, beta_deltaE):\n",
    "    \"theoretical curve for mglur5 active probability\"\n",
    "    Kd_active = 10**(log_Kd_active)\n",
    "    Kd_inactive = 10**(log_Kd_inactive)\n",
    "    a = (1 + c_agonist/Kd_active)\n",
    "\n",
    "    b = (1 + c_agonist/Kd_inactive)\n",
    "\n",
    "    return a/(a+b*np.exp(-beta_deltaE))\n",
    "\n",
    "def resid(param, c, p_active):\n",
    "    return p_active - agonist_only_p_active_theory(c, *param)\n",
    "\n"
   ]
  },
  {
   "cell_type": "code",
   "execution_count": 3,
   "id": "0240438c",
   "metadata": {},
   "outputs": [
    {
     "data": {
      "text/html": [
       "\n",
       "\n",
       "\n",
       "\n",
       "\n",
       "\n",
       "  <div class=\"bk-root\" id=\"a5d4aa6f-91dc-488f-882c-b81afd78df5d\" data-root-id=\"1003\"></div>\n"
      ]
     },
     "metadata": {},
     "output_type": "display_data"
    },
    {
     "data": {
      "application/javascript": [
       "(function(root) {\n",
       "  function embed_document(root) {\n",
       "    \n",
       "  const docs_json = {\"4153c8f4-7823-4143-9e2a-8f59f582d548\":{\"defs\":[],\"roots\":{\"references\":[{\"attributes\":{\"below\":[{\"id\":\"1012\"}],\"center\":[{\"id\":\"1015\"},{\"id\":\"1019\"}],\"height\":300,\"left\":[{\"id\":\"1016\"}],\"renderers\":[{\"id\":\"1038\"},{\"id\":\"1044\"}],\"title\":{\"id\":\"1046\"},\"toolbar\":{\"id\":\"1027\"},\"x_range\":{\"id\":\"1004\"},\"x_scale\":{\"id\":\"1008\"},\"y_range\":{\"id\":\"1006\"},\"y_scale\":{\"id\":\"1010\"}},\"id\":\"1003\",\"subtype\":\"Figure\",\"type\":\"Plot\"},{\"attributes\":{\"coordinates\":null,\"group\":null},\"id\":\"1046\",\"type\":\"Title\"},{\"attributes\":{\"bottom_units\":\"screen\",\"coordinates\":null,\"fill_alpha\":0.5,\"fill_color\":\"lightgrey\",\"group\":null,\"left_units\":\"screen\",\"level\":\"overlay\",\"line_alpha\":1.0,\"line_color\":\"black\",\"line_dash\":[4,4],\"line_width\":2,\"right_units\":\"screen\",\"syncable\":false,\"top_units\":\"screen\"},\"id\":\"1026\",\"type\":\"BoxAnnotation\"},{\"attributes\":{\"line_alpha\":0.2,\"line_color\":\"#1f77b4\",\"x\":{\"field\":\"x\"},\"y\":{\"field\":\"y\"}},\"id\":\"1043\",\"type\":\"Line\"},{\"attributes\":{},\"id\":\"1054\",\"type\":\"UnionRenderers\"},{\"attributes\":{\"line_alpha\":0.1,\"line_color\":\"#1f77b4\",\"x\":{\"field\":\"x\"},\"y\":{\"field\":\"y\"}},\"id\":\"1036\",\"type\":\"Line\"},{\"attributes\":{},\"id\":\"1055\",\"type\":\"Selection\"},{\"attributes\":{\"axis_label\":\"[L-Quis]M\",\"coordinates\":null,\"formatter\":{\"id\":\"1052\"},\"group\":null,\"major_label_policy\":{\"id\":\"1053\"},\"ticker\":{\"id\":\"1013\"}},\"id\":\"1012\",\"type\":\"LogAxis\"},{\"attributes\":{\"data\":{\"x\":{\"__ndarray__\":\"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\",\"dtype\":\"float64\",\"order\":\"little\",\"shape\":[200]},\"y\":{\"__ndarray__\":\"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\",\"dtype\":\"float64\",\"order\":\"little\",\"shape\":[200]}},\"selected\":{\"id\":\"1057\"},\"selection_policy\":{\"id\":\"1056\"}},\"id\":\"1040\",\"type\":\"ColumnDataSource\"},{\"attributes\":{\"num_minor_ticks\":10},\"id\":\"1013\",\"type\":\"LogTicker\"},{\"attributes\":{},\"id\":\"1006\",\"type\":\"DataRange1d\"},{\"attributes\":{\"source\":{\"id\":\"1034\"}},\"id\":\"1039\",\"type\":\"CDSView\"},{\"attributes\":{},\"id\":\"1049\",\"type\":\"BasicTickFormatter\"},{\"attributes\":{\"coordinates\":null,\"data_source\":{\"id\":\"1034\"},\"glyph\":{\"id\":\"1035\"},\"group\":null,\"hover_glyph\":null,\"muted_glyph\":{\"id\":\"1037\"},\"nonselection_glyph\":{\"id\":\"1036\"},\"view\":{\"id\":\"1039\"}},\"id\":\"1038\",\"type\":\"GlyphRenderer\"},{\"attributes\":{\"line_color\":\"#1f77b4\",\"x\":{\"field\":\"x\"},\"y\":{\"field\":\"y\"}},\"id\":\"1035\",\"type\":\"Line\"},{\"attributes\":{\"data\":{\"x\":{\"__ndarray__\":\"EeotgZmXcT1+akKEYkxzPRpC2DCIK3U9Ky4oTiY5dz0ppVmlvnl5PXMQMeZC8ns9eFhggR+ofj3lOCbIo9CAPcMMNfIgcoI9RWVurRs8hD3EW+VJgTKGPYq38pegWYg9bKj/XDO2ij3ozhizaE2NPVVrBzV4EpA9jp+PwYOhkT0iEkbxQleTPcQUmap2N5U9+P6KBT1Glz0u04pVGoiZPe/mtRMDApw9UE5Gv2a5nj0oEwfmHdqgPZ9TmFyGfKI9cRhqNoNHpD396ij6Az+mPdm+uuVZZ6g9RwteaEHFqj1GhRWI7F2tPUZKmSSHG7A9g5mDmHOrsT1ovZp/KWKzPZ163t1rQ7U9/NtoHVtTtz0h8F4dfpa5PZMEySHMEbw9AGMiurfKvj2LEEdbnePAPXBX+KLxhsI9dsPcLPFSxD2ZpHm3jUvGPfppoO8adcg9JBvl71fUyj2aD+areW7NPdDtIS+bJNA95x4wCWm10T3W5bQyFm3TPTq1cs5nT9U9rCDqmYBg1z23kWUB6qTZPUg8axWeIdw9NqJxdxLc3j1j2egqIu3gPbR+oshikeI9uspllGVe5D2i3tCFHljmPcO5/7njgug9YRVd+Hbj6j0gZ8kjEH/tPX3ygVe0LfA9IT29FmS/8T1u9woOCXjzPQcpIoBqW/U9XIA5f61t9z2x3zAGXrP5Pd0yoPN4Mfw9hS+0/Hbt/j1eyPBXrPYAPmcM5tDZmwI+V52mcOBpBD6DLCpptmQGPgQkN0m0kAg+WumQhp7yCj79eQH1r48NPgCUm6DSNhA+AclUxGTJET7MURUVAoMTPnleu/ZzZxU+rQeE0eF6Fz5SlVUw2sEZPpZgbsFcQRw+I0htT+X+Hj5562TlOwAhPhohFL9WpiI+ObZCxWF1JD5JYINlVXEmPu+Up6GMnig+6zlOn84BKz4LLdMkWaAtPhyuUg32PzA+x18iFWvTMT47SU5LAY4zPkoDDzaEczU+dh35lB2INz7UAmuEXtA5PsYS34NJUTw+p0QjdV0QPz7xBE3W0AlBPrW7f5bZsEI+Sp3flemARD7ri9x++31GPoJwtMdsrEg++F5lRwcRSz7rXIa4C7FNPpO9jKAeSVA+HmhTDHfdUT7dJzK0BplTPqXr70Gbf1U+qYTKzWCVVz7XDgsH695ZPntt/j8/YVw+25pfc98hXz4+jLItaxNhPvK6fVpiu2I+megk5neMZD6WAji5qIpmPrqTw79Uumg+9Gapg0ggaz7C4GW1x8FtPg7hMF1MUnA+LBMXrYjncT6aLj9TEqRzPmUTMx65i3U+dV0sgKuidz7dN9K8f+15PtFs2/o9cXw+ON+uT2szfz4Gr6DuCh2BPkjeZA7xxYI+gD28uQyYhD7EWZoYXZeGPkdWPY5EyIg+ZhjwWJIviz72ir8gjdKNPgvaJ0Z/W5A+bF2e+p/xkT58lvUrJK+TPkafr87dl5U+YSZVsP2vlz68lV+qHPyZPvXmh7lFgZw+EsegDwFFnz4XUiQcsCahPsfGjbWF0KI+0VFRFKijpD7JagqhGKSmPr2LjDc81qg+dfMRzOQ+qz5IK+T/W+OtPsUNXF63ZLA+6w8c+Lz7sT6rkddBPLqzPiDePlcJpLU+2r19Yle9tz4X21TUwQq6PneNGIFWkbw+JCrIuKBWvz5ZEky5WjDBPlv4UlMg28I+/+yR+UmvxD7uU5FW27DGPhWFHsA75Mg+bTPq4T9Oyz5tkCdYNPTNPiWGuaj0bdA+JsHEqN8F0j5mTGmYWsXTPh9KvLs7sNU+fWPhmrjK1z7SVlY/bxnaPv3upFZwodw+IgS7UEpo3z7NRSjJCjrhPsnaEOvA5eI+RektbfK65D6/eTo9pb3mPtsRYyxD8ug+S9BWn6Nd6z7AieAuFgXuPqzyLSg3d/A+FdbODwgQ8j5n7jAzf9DzPveJBQB1vPU+bbm9XSHY9z6R9QrwJCj6Pt54Rz+Tsfw+53YS3f15/z6C/MpOwEMBP8i6JYBn8AI/1TTXcqHGBD9WiBNZdsoGP+qBzIBSAAk/SYA4CRBtCz/z6GiJARYOP2OpqN9+gBA/MoNyMDYaEj/Tm7YVqtsTPzRy+ie1yBU/qsVSr5HlFz8tQxzr4jYaPw==\",\"dtype\":\"float64\",\"order\":\"little\",\"shape\":[200]},\"y\":{\"__ndarray__\":\"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\",\"dtype\":\"float64\",\"order\":\"little\",\"shape\":[200]}},\"selected\":{\"id\":\"1055\"},\"selection_policy\":{\"id\":\"1054\"}},\"id\":\"1034\",\"type\":\"ColumnDataSource\"},{\"attributes\":{},\"id\":\"1004\",\"type\":\"DataRange1d\"},{\"attributes\":{\"axis_label\":\"active_probability\",\"coordinates\":null,\"formatter\":{\"id\":\"1049\"},\"group\":null,\"major_label_policy\":{\"id\":\"1050\"},\"ticker\":{\"id\":\"1017\"}},\"id\":\"1016\",\"type\":\"LinearAxis\"},{\"attributes\":{\"source\":{\"id\":\"1040\"}},\"id\":\"1045\",\"type\":\"CDSView\"},{\"attributes\":{},\"id\":\"1056\",\"type\":\"UnionRenderers\"},{\"attributes\":{},\"id\":\"1010\",\"type\":\"LinearScale\"},{\"attributes\":{},\"id\":\"1008\",\"type\":\"LogScale\"},{\"attributes\":{\"line_alpha\":0.2,\"line_color\":\"#1f77b4\",\"x\":{\"field\":\"x\"},\"y\":{\"field\":\"y\"}},\"id\":\"1037\",\"type\":\"Line\"},{\"attributes\":{},\"id\":\"1057\",\"type\":\"Selection\"},{\"attributes\":{\"axis\":{\"id\":\"1012\"},\"coordinates\":null,\"group\":null,\"ticker\":null},\"id\":\"1015\",\"type\":\"Grid\"},{\"attributes\":{},\"id\":\"1021\",\"type\":\"WheelZoomTool\"},{\"attributes\":{\"line_color\":\"#1f77b4\",\"x\":{\"field\":\"x\"},\"y\":{\"field\":\"y\"}},\"id\":\"1041\",\"type\":\"Line\"},{\"attributes\":{},\"id\":\"1050\",\"type\":\"AllLabels\"},{\"attributes\":{\"axis\":{\"id\":\"1016\"},\"coordinates\":null,\"dimension\":1,\"group\":null,\"ticker\":null},\"id\":\"1019\",\"type\":\"Grid\"},{\"attributes\":{},\"id\":\"1017\",\"type\":\"BasicTicker\"},{\"attributes\":{\"ticker\":null},\"id\":\"1052\",\"type\":\"LogTickFormatter\"},{\"attributes\":{\"tools\":[{\"id\":\"1020\"},{\"id\":\"1021\"},{\"id\":\"1022\"},{\"id\":\"1023\"},{\"id\":\"1024\"},{\"id\":\"1025\"}]},\"id\":\"1027\",\"type\":\"Toolbar\"},{\"attributes\":{},\"id\":\"1025\",\"type\":\"HelpTool\"},{\"attributes\":{\"line_alpha\":0.1,\"line_color\":\"#1f77b4\",\"x\":{\"field\":\"x\"},\"y\":{\"field\":\"y\"}},\"id\":\"1042\",\"type\":\"Line\"},{\"attributes\":{},\"id\":\"1053\",\"type\":\"AllLabels\"},{\"attributes\":{\"coordinates\":null,\"data_source\":{\"id\":\"1040\"},\"glyph\":{\"id\":\"1041\"},\"group\":null,\"hover_glyph\":null,\"muted_glyph\":{\"id\":\"1043\"},\"nonselection_glyph\":{\"id\":\"1042\"},\"view\":{\"id\":\"1045\"}},\"id\":\"1044\",\"type\":\"GlyphRenderer\"},{\"attributes\":{},\"id\":\"1020\",\"type\":\"PanTool\"},{\"attributes\":{\"overlay\":{\"id\":\"1026\"}},\"id\":\"1022\",\"type\":\"BoxZoomTool\"},{\"attributes\":{},\"id\":\"1023\",\"type\":\"SaveTool\"},{\"attributes\":{},\"id\":\"1024\",\"type\":\"ResetTool\"}],\"root_ids\":[\"1003\"]},\"title\":\"Bokeh Application\",\"version\":\"2.4.2\"}};\n",
       "  const render_items = [{\"docid\":\"4153c8f4-7823-4143-9e2a-8f59f582d548\",\"root_ids\":[\"1003\"],\"roots\":{\"1003\":\"a5d4aa6f-91dc-488f-882c-b81afd78df5d\"}}];\n",
       "  root.Bokeh.embed.embed_items_notebook(docs_json, render_items);\n",
       "\n",
       "  }\n",
       "  if (root.Bokeh !== undefined) {\n",
       "    embed_document(root);\n",
       "  } else {\n",
       "    let attempts = 0;\n",
       "    const timer = setInterval(function(root) {\n",
       "      if (root.Bokeh !== undefined) {\n",
       "        clearInterval(timer);\n",
       "        embed_document(root);\n",
       "      } else {\n",
       "        attempts++;\n",
       "        if (attempts > 100) {\n",
       "          clearInterval(timer);\n",
       "          console.log(\"Bokeh: ERROR: Unable to run BokehJS code because BokehJS library is missing\");\n",
       "        }\n",
       "      }\n",
       "    }, 10, root)\n",
       "  }\n",
       "})(window);"
      ],
      "application/vnd.bokehjs_exec.v0+json": ""
     },
     "metadata": {
      "application/vnd.bokehjs_exec.v0+json": {
       "id": "1003"
      }
     },
     "output_type": "display_data"
    }
   ],
   "source": [
    "#set up plot\n",
    "from bokeh.plotting import curdoc \n",
    "curdoc().clear()\n",
    "p = bokeh.plotting.figure(plot_height=300,\n",
    "                         plot_width=600,\n",
    "                         x_axis_label='[L-Quis]M',\n",
    "                          y_axis_label='active_probability',\n",
    "                          x_axis_type='log')\n",
    "\n",
    "ligand_smooth=np.logspace(-12,-4,200)\n",
    "p.line(ligand_smooth, agonist_only_p_active_theory(ligand_smooth, -9.6, -7, -4))\n",
    "p.line(ligand_smooth, agonist_only_p_active_theory(ligand_smooth, -9.3, -7.6, -4))\n",
    "\n",
    "bokeh.io.show(p);"
   ]
  },
  {
   "cell_type": "code",
   "execution_count": 5,
   "id": "df862526",
   "metadata": {},
   "outputs": [],
   "source": [
    "df = pd.read_excel('./MOR_Gi1_normalizeto100.xlsx')\n"
   ]
  },
  {
   "cell_type": "code",
   "execution_count": 6,
   "id": "40c32914",
   "metadata": {},
   "outputs": [
    {
     "data": {
      "text/html": [
       "\n",
       "\n",
       "\n",
       "\n",
       "\n",
       "\n",
       "  <div class=\"bk-root\" id=\"5def72a9-c5b0-4cf0-93f9-d195d845fd06\" data-root-id=\"1124\"></div>\n"
      ]
     },
     "metadata": {},
     "output_type": "display_data"
    },
    {
     "data": {
      "application/javascript": [
       "(function(root) {\n",
       "  function embed_document(root) {\n",
       "    \n",
       "  const docs_json = {\"176216ca-e2ea-4209-a131-83d9c35ddf6d\":{\"defs\":[],\"roots\":{\"references\":[{\"attributes\":{\"below\":[{\"id\":\"1133\"}],\"center\":[{\"id\":\"1136\"},{\"id\":\"1140\"},{\"id\":\"1172\"}],\"left\":[{\"id\":\"1137\"}],\"renderers\":[{\"id\":\"1159\"},{\"id\":\"1178\"},{\"id\":\"1198\"},{\"id\":\"1220\"}],\"title\":{\"id\":\"1161\"},\"toolbar\":{\"id\":\"1148\"},\"x_range\":{\"id\":\"1125\"},\"x_scale\":{\"id\":\"1129\"},\"y_range\":{\"id\":\"1127\"},\"y_scale\":{\"id\":\"1131\"}},\"id\":\"1124\",\"subtype\":\"Figure\",\"type\":\"Plot\"},{\"attributes\":{\"fill_alpha\":{\"value\":0.2},\"fill_color\":{\"value\":\"#1f77b4\"},\"hatch_alpha\":{\"value\":0.2},\"hatch_color\":{\"value\":\"#1f77b4\"},\"line_alpha\":{\"value\":0.2},\"line_color\":{\"value\":\"#1f77b4\"},\"size\":{\"value\":7},\"x\":{\"field\":\"x\"},\"y\":{\"field\":\"y\"}},\"id\":\"1158\",\"type\":\"Circle\"},{\"attributes\":{\"fill_color\":{\"value\":\"#2ca02c\"},\"hatch_color\":{\"value\":\"#2ca02c\"},\"line_color\":{\"value\":\"#2ca02c\"},\"size\":{\"value\":7},\"x\":{\"field\":\"x\"},\"y\":{\"field\":\"y\"}},\"id\":\"1195\",\"type\":\"Circle\"},{\"attributes\":{\"source\":{\"id\":\"1174\"}},\"id\":\"1179\",\"type\":\"CDSView\"},{\"attributes\":{},\"id\":\"1191\",\"type\":\"Selection\"},{\"attributes\":{\"coordinates\":null,\"data_source\":{\"id\":\"1174\"},\"glyph\":{\"id\":\"1175\"},\"group\":null,\"hover_glyph\":null,\"muted_glyph\":{\"id\":\"1177\"},\"nonselection_glyph\":{\"id\":\"1176\"},\"view\":{\"id\":\"1179\"}},\"id\":\"1178\",\"type\":\"GlyphRenderer\"},{\"attributes\":{\"data\":{\"x\":{\"__ndarray__\":\"8WjjiLX45D679pawq8bAPhuSU62U2Jo+oI4DVa95dT7M4Xca2C1RPjaq640QfCs+3t8LVsL9BT7oVNoJf5fhPTSqdm7HIbw9TvOxegaBlj2fbg5/gAByPfFo44i1+OQ+u/aWsKvGwD4bklOtlNiaPqCOA1WveXU+zOF3GtgtUT42quuNEHwrPt7fC1bC/QU+6FTaCX+X4T00qnZuxyG8PU7zsXoGgZY9n24Of4AAcj0=\",\"dtype\":\"float64\",\"order\":\"little\",\"shape\":[22]},\"y\":{\"__ndarray__\":\"vNQK6OC03j/jyvAw+Z/hP+irZGpvxtc/iDwj5zlx0z9b8Arp6aLUP01aftAdG88/ERIx9I1qob/O+xMCff2xvw2t0l6Wv7y/jaluZtkTrD+tgOqaNoOxv1HRz8XVPuM/r6O+zEzv3z9SWE6WoefdP5v1EGh5X9k/yKuqlcNV1D9t2DQ2Wa2wP9JFFce046M/EY3KVNIgur8dvEK06cG5v6Z42lg665y/oNZH7dZvpj8=\",\"dtype\":\"float64\",\"order\":\"little\",\"shape\":[22]}},\"selected\":{\"id\":\"1213\"},\"selection_policy\":{\"id\":\"1212\"}},\"id\":\"1194\",\"type\":\"ColumnDataSource\"},{\"attributes\":{\"fill_alpha\":{\"value\":0.2},\"fill_color\":{\"value\":\"#ff7f0e\"},\"hatch_alpha\":{\"value\":0.2},\"hatch_color\":{\"value\":\"#ff7f0e\"},\"line_alpha\":{\"value\":0.2},\"line_color\":{\"value\":\"#ff7f0e\"},\"size\":{\"value\":7},\"x\":{\"field\":\"x\"},\"y\":{\"field\":\"y\"}},\"id\":\"1177\",\"type\":\"Circle\"},{\"attributes\":{},\"id\":\"1138\",\"type\":\"BasicTicker\"},{\"attributes\":{\"label\":{\"value\":\"fentanyl\"},\"renderers\":[{\"id\":\"1178\"}]},\"id\":\"1193\",\"type\":\"LegendItem\"},{\"attributes\":{},\"id\":\"1164\",\"type\":\"BasicTickFormatter\"},{\"attributes\":{\"fill_alpha\":{\"value\":0.1},\"fill_color\":{\"value\":\"#2ca02c\"},\"hatch_alpha\":{\"value\":0.1},\"hatch_color\":{\"value\":\"#2ca02c\"},\"line_alpha\":{\"value\":0.1},\"line_color\":{\"value\":\"#2ca02c\"},\"size\":{\"value\":7},\"x\":{\"field\":\"x\"},\"y\":{\"field\":\"y\"}},\"id\":\"1196\",\"type\":\"Circle\"},{\"attributes\":{\"coordinates\":null,\"data_source\":{\"id\":\"1155\"},\"glyph\":{\"id\":\"1156\"},\"group\":null,\"hover_glyph\":null,\"muted_glyph\":{\"id\":\"1158\"},\"nonselection_glyph\":{\"id\":\"1157\"},\"view\":{\"id\":\"1160\"}},\"id\":\"1159\",\"type\":\"GlyphRenderer\"},{\"attributes\":{\"fill_color\":{\"value\":\"#d62728\"},\"hatch_color\":{\"value\":\"#d62728\"},\"line_color\":{\"value\":\"#d62728\"},\"size\":{\"value\":7},\"x\":{\"field\":\"x\"},\"y\":{\"field\":\"y\"}},\"id\":\"1217\",\"type\":\"Circle\"},{\"attributes\":{\"source\":{\"id\":\"1194\"}},\"id\":\"1199\",\"type\":\"CDSView\"},{\"attributes\":{},\"id\":\"1165\",\"type\":\"AllLabels\"},{\"attributes\":{\"bottom_units\":\"screen\",\"coordinates\":null,\"fill_alpha\":0.5,\"fill_color\":\"lightgrey\",\"group\":null,\"left_units\":\"screen\",\"level\":\"overlay\",\"line_alpha\":1.0,\"line_color\":\"black\",\"line_dash\":[4,4],\"line_width\":2,\"right_units\":\"screen\",\"syncable\":false,\"top_units\":\"screen\"},\"id\":\"1147\",\"type\":\"BoxAnnotation\"},{\"attributes\":{\"axis_label\":\"[Ligands] M\",\"coordinates\":null,\"formatter\":{\"id\":\"1167\"},\"group\":null,\"major_label_policy\":{\"id\":\"1168\"},\"ticker\":{\"id\":\"1134\"}},\"id\":\"1133\",\"type\":\"LogAxis\"},{\"attributes\":{\"coordinates\":null,\"data_source\":{\"id\":\"1194\"},\"glyph\":{\"id\":\"1195\"},\"group\":null,\"hover_glyph\":null,\"muted_glyph\":{\"id\":\"1197\"},\"nonselection_glyph\":{\"id\":\"1196\"},\"view\":{\"id\":\"1199\"}},\"id\":\"1198\",\"type\":\"GlyphRenderer\"},{\"attributes\":{\"axis_label\":\"active_probability\",\"coordinates\":null,\"formatter\":{\"id\":\"1164\"},\"group\":null,\"major_label_policy\":{\"id\":\"1165\"},\"ticker\":{\"id\":\"1138\"}},\"id\":\"1137\",\"type\":\"LinearAxis\"},{\"attributes\":{},\"id\":\"1168\",\"type\":\"AllLabels\"},{\"attributes\":{\"fill_alpha\":{\"value\":0.2},\"fill_color\":{\"value\":\"#2ca02c\"},\"hatch_alpha\":{\"value\":0.2},\"hatch_color\":{\"value\":\"#2ca02c\"},\"line_alpha\":{\"value\":0.2},\"line_color\":{\"value\":\"#2ca02c\"},\"size\":{\"value\":7},\"x\":{\"field\":\"x\"},\"y\":{\"field\":\"y\"}},\"id\":\"1197\",\"type\":\"Circle\"},{\"attributes\":{},\"id\":\"1190\",\"type\":\"UnionRenderers\"},{\"attributes\":{\"data\":{\"x\":{\"__ndarray__\":\"8WjjiLX45D679pawq8bAPhuSU62U2Jo+oI4DVa95dT7M4Xca2C1RPjaq640QfCs+3t8LVsL9BT7oVNoJf5fhPTSqdm7HIbw9TvOxegaBlj2fbg5/gAByPfFo44i1+OQ+u/aWsKvGwD4bklOtlNiaPqCOA1WveXU+zOF3GtgtUT42quuNEHwrPt7fC1bC/QU+6FTaCX+X4T00qnZuxyG8PU7zsXoGgZY9n24Of4AAcj0=\",\"dtype\":\"float64\",\"order\":\"little\",\"shape\":[22]},\"y\":{\"__ndarray__\":\"+VNU7e+B4D+th4CyIV7jPxz72q88LuA/RkemXlWV2T+cxeONhgvUP3eTo5SKRLA/RbvURBd6qb9D9xlxDjOyv/GvkXBJ7cG/GLHGBJbe0L9bB2AMCk62vxpDIF/7EOM/U6jJjWnO5D+OJ8ZDQTThP7/eLpNQa9o/9xYCC2aW1z+Dp2/kusvKP6zkIap4U7S/9x2x+nuitD/k6GMLBoOtv9uWa7PDG6m/VHJpGJGypr8=\",\"dtype\":\"float64\",\"order\":\"little\",\"shape\":[22]}},\"selected\":{\"id\":\"1237\"},\"selection_policy\":{\"id\":\"1236\"}},\"id\":\"1216\",\"type\":\"ColumnDataSource\"},{\"attributes\":{\"num_minor_ticks\":10},\"id\":\"1134\",\"type\":\"LogTicker\"},{\"attributes\":{\"label\":{\"value\":\"PZM21\"},\"renderers\":[{\"id\":\"1198\"}]},\"id\":\"1215\",\"type\":\"LegendItem\"},{\"attributes\":{\"axis\":{\"id\":\"1133\"},\"coordinates\":null,\"group\":null,\"ticker\":null},\"id\":\"1136\",\"type\":\"Grid\"},{\"attributes\":{},\"id\":\"1142\",\"type\":\"WheelZoomTool\"},{\"attributes\":{},\"id\":\"1212\",\"type\":\"UnionRenderers\"},{\"attributes\":{\"fill_alpha\":{\"value\":0.1},\"fill_color\":{\"value\":\"#d62728\"},\"hatch_alpha\":{\"value\":0.1},\"hatch_color\":{\"value\":\"#d62728\"},\"line_alpha\":{\"value\":0.1},\"line_color\":{\"value\":\"#d62728\"},\"size\":{\"value\":7},\"x\":{\"field\":\"x\"},\"y\":{\"field\":\"y\"}},\"id\":\"1218\",\"type\":\"Circle\"},{\"attributes\":{\"axis\":{\"id\":\"1137\"},\"coordinates\":null,\"dimension\":1,\"group\":null,\"ticker\":null},\"id\":\"1140\",\"type\":\"Grid\"},{\"attributes\":{\"source\":{\"id\":\"1216\"}},\"id\":\"1221\",\"type\":\"CDSView\"},{\"attributes\":{},\"id\":\"1236\",\"type\":\"UnionRenderers\"},{\"attributes\":{\"coordinates\":null,\"data_source\":{\"id\":\"1216\"},\"glyph\":{\"id\":\"1217\"},\"group\":null,\"hover_glyph\":null,\"muted_glyph\":{\"id\":\"1219\"},\"nonselection_glyph\":{\"id\":\"1218\"},\"view\":{\"id\":\"1221\"}},\"id\":\"1220\",\"type\":\"GlyphRenderer\"},{\"attributes\":{},\"id\":\"1169\",\"type\":\"UnionRenderers\"},{\"attributes\":{\"fill_alpha\":{\"value\":0.2},\"fill_color\":{\"value\":\"#d62728\"},\"hatch_alpha\":{\"value\":0.2},\"hatch_color\":{\"value\":\"#d62728\"},\"line_alpha\":{\"value\":0.2},\"line_color\":{\"value\":\"#d62728\"},\"size\":{\"value\":7},\"x\":{\"field\":\"x\"},\"y\":{\"field\":\"y\"}},\"id\":\"1219\",\"type\":\"Circle\"},{\"attributes\":{},\"id\":\"1146\",\"type\":\"HelpTool\"},{\"attributes\":{\"coordinates\":null,\"group\":null},\"id\":\"1161\",\"type\":\"Title\"},{\"attributes\":{\"fill_color\":{\"value\":\"#1f77b4\"},\"hatch_color\":{\"value\":\"#1f77b4\"},\"line_color\":{\"value\":\"#1f77b4\"},\"size\":{\"value\":7},\"x\":{\"field\":\"x\"},\"y\":{\"field\":\"y\"}},\"id\":\"1156\",\"type\":\"Circle\"},{\"attributes\":{},\"id\":\"1141\",\"type\":\"PanTool\"},{\"attributes\":{\"data\":{\"x\":{\"__ndarray__\":\"8WjjiLX45D679pawq8bAPhuSU62U2Jo+oI4DVa95dT7M4Xca2C1RPjaq640QfCs+3t8LVsL9BT7oVNoJf5fhPTSqdm7HIbw9TvOxegaBlj2fbg5/gAByPfFo44i1+OQ+u/aWsKvGwD4bklOtlNiaPqCOA1WveXU+zOF3GtgtUT42quuNEHwrPt7fC1bC/QU+6FTaCX+X4T00qnZuxyG8PU7zsXoGgZY9n24Of4AAcj0=\",\"dtype\":\"float64\",\"order\":\"little\",\"shape\":[22]},\"y\":{\"__ndarray__\":\"zNgntgQ+6j8j/SlRN6fsP4nvw1/Zouw/pmHRnU+v5T+2R9es/bDZP7qADMFjE9c/hCdbXErkvT/WqzzG5KCdv9Px71YNR7a/nAx6oy+Es78aRWhotH9dv7iTlhQ21ek/NtEp4IYt7z+bnJt+BBrsP/cuHjRwM+g/2lp0a5ON3j8Czv3UAMTSP1fWDKRZlsU/bNAMTln0m78cqaxTZlayP35nLpOA8ZA/k0DGTCzOrD8=\",\"dtype\":\"float64\",\"order\":\"little\",\"shape\":[22]}},\"selected\":{\"id\":\"1170\"},\"selection_policy\":{\"id\":\"1169\"}},\"id\":\"1155\",\"type\":\"ColumnDataSource\"},{\"attributes\":{\"source\":{\"id\":\"1155\"}},\"id\":\"1160\",\"type\":\"CDSView\"},{\"attributes\":{\"overlay\":{\"id\":\"1147\"}},\"id\":\"1143\",\"type\":\"BoxZoomTool\"},{\"attributes\":{},\"id\":\"1170\",\"type\":\"Selection\"},{\"attributes\":{},\"id\":\"1144\",\"type\":\"SaveTool\"},{\"attributes\":{\"label\":{\"value\":\"FH210\"},\"renderers\":[{\"id\":\"1220\"}]},\"id\":\"1239\",\"type\":\"LegendItem\"},{\"attributes\":{},\"id\":\"1213\",\"type\":\"Selection\"},{\"attributes\":{},\"id\":\"1129\",\"type\":\"LogScale\"},{\"attributes\":{},\"id\":\"1145\",\"type\":\"ResetTool\"},{\"attributes\":{},\"id\":\"1237\",\"type\":\"Selection\"},{\"attributes\":{},\"id\":\"1125\",\"type\":\"DataRange1d\"},{\"attributes\":{\"tools\":[{\"id\":\"1141\"},{\"id\":\"1142\"},{\"id\":\"1143\"},{\"id\":\"1144\"},{\"id\":\"1145\"},{\"id\":\"1146\"}]},\"id\":\"1148\",\"type\":\"Toolbar\"},{\"attributes\":{\"data\":{\"x\":{\"__ndarray__\":\"8WjjiLX45D679pawq8bAPhuSU62U2Jo+oI4DVa95dT7M4Xca2C1RPjaq640QfCs+3t8LVsL9BT7oVNoJf5fhPTSqdm7HIbw9TvOxegaBlj2fbg5/gAByPfFo44i1+OQ+u/aWsKvGwD4bklOtlNiaPqCOA1WveXU+zOF3GtgtUT42quuNEHwrPt7fC1bC/QU+6FTaCX+X4T00qnZuxyG8PU7zsXoGgZY9n24Of4AAcj0=\",\"dtype\":\"float64\",\"order\":\"little\",\"shape\":[22]},\"y\":{\"__ndarray__\":\"urA975R17z86WPX/iT3vP9LGNKFp3eo/tp4zG/jr6j9YztWMkTXkP1RYl5GaQNA/3Nin+K6WnD9kjzvKh/Wpv2qXFikhrrQ/7tGXFSrcmj/SOWrpLgmTPzoJht6fre8/t7Iydt7/7z/Uvu69QYjqP6G4yf0QWuw/4tCedy0j4z8Czv3UAMTSP2g2LvhkNqo/hE049mwBeL+OQ2ObGh+qP5ih/rQHEgC/AIylvgw0tT8=\",\"dtype\":\"float64\",\"order\":\"little\",\"shape\":[22]}},\"selected\":{\"id\":\"1191\"},\"selection_policy\":{\"id\":\"1190\"}},\"id\":\"1174\",\"type\":\"ColumnDataSource\"},{\"attributes\":{\"fill_alpha\":{\"value\":0.1},\"fill_color\":{\"value\":\"#1f77b4\"},\"hatch_alpha\":{\"value\":0.1},\"hatch_color\":{\"value\":\"#1f77b4\"},\"line_alpha\":{\"value\":0.1},\"line_color\":{\"value\":\"#1f77b4\"},\"size\":{\"value\":7},\"x\":{\"field\":\"x\"},\"y\":{\"field\":\"y\"}},\"id\":\"1157\",\"type\":\"Circle\"},{\"attributes\":{},\"id\":\"1131\",\"type\":\"LinearScale\"},{\"attributes\":{\"fill_color\":{\"value\":\"#ff7f0e\"},\"hatch_color\":{\"value\":\"#ff7f0e\"},\"line_color\":{\"value\":\"#ff7f0e\"},\"size\":{\"value\":7},\"x\":{\"field\":\"x\"},\"y\":{\"field\":\"y\"}},\"id\":\"1175\",\"type\":\"Circle\"},{\"attributes\":{\"label\":{\"value\":\"morphine\"},\"renderers\":[{\"id\":\"1159\"}]},\"id\":\"1173\",\"type\":\"LegendItem\"},{\"attributes\":{\"coordinates\":null,\"group\":null,\"items\":[{\"id\":\"1173\"},{\"id\":\"1193\"},{\"id\":\"1215\"},{\"id\":\"1239\"}]},\"id\":\"1172\",\"type\":\"Legend\"},{\"attributes\":{},\"id\":\"1127\",\"type\":\"DataRange1d\"},{\"attributes\":{\"ticker\":null},\"id\":\"1167\",\"type\":\"LogTickFormatter\"},{\"attributes\":{\"fill_alpha\":{\"value\":0.1},\"fill_color\":{\"value\":\"#ff7f0e\"},\"hatch_alpha\":{\"value\":0.1},\"hatch_color\":{\"value\":\"#ff7f0e\"},\"line_alpha\":{\"value\":0.1},\"line_color\":{\"value\":\"#ff7f0e\"},\"size\":{\"value\":7},\"x\":{\"field\":\"x\"},\"y\":{\"field\":\"y\"}},\"id\":\"1176\",\"type\":\"Circle\"}],\"root_ids\":[\"1124\"]},\"title\":\"Bokeh Application\",\"version\":\"2.4.2\"}};\n",
       "  const render_items = [{\"docid\":\"176216ca-e2ea-4209-a131-83d9c35ddf6d\",\"root_ids\":[\"1124\"],\"roots\":{\"1124\":\"5def72a9-c5b0-4cf0-93f9-d195d845fd06\"}}];\n",
       "  root.Bokeh.embed.embed_items_notebook(docs_json, render_items);\n",
       "\n",
       "  }\n",
       "  if (root.Bokeh !== undefined) {\n",
       "    embed_document(root);\n",
       "  } else {\n",
       "    let attempts = 0;\n",
       "    const timer = setInterval(function(root) {\n",
       "      if (root.Bokeh !== undefined) {\n",
       "        clearInterval(timer);\n",
       "        embed_document(root);\n",
       "      } else {\n",
       "        attempts++;\n",
       "        if (attempts > 100) {\n",
       "          clearInterval(timer);\n",
       "          console.log(\"Bokeh: ERROR: Unable to run BokehJS code because BokehJS library is missing\");\n",
       "        }\n",
       "      }\n",
       "    }, 10, root)\n",
       "  }\n",
       "})(window);"
      ],
      "application/vnd.bokehjs_exec.v0+json": ""
     },
     "metadata": {
      "application/vnd.bokehjs_exec.v0+json": {
       "id": "1124"
      }
     },
     "output_type": "display_data"
    }
   ],
   "source": [
    "curdoc().clear()\n",
    "p = bokeh.plotting.figure(plot_height=600,\n",
    "                         plot_width=600,\n",
    "                         x_axis_label='[Ligands] M',\n",
    "                          y_axis_label='active_probability',\n",
    "                          x_axis_type='log')\n",
    "colors=bokeh.palettes.d3['Category10'][10]\n",
    "\n",
    "for i,ligand in enumerate(df.columns[1:]):\n",
    "    c, p_active = df['conc'].values, df[ligand].values/100\n",
    "    p.circle(c, p_active, size=7, color=colors[i],legend_label=ligand)\n",
    "\n",
    "bokeh.io.show(p);"
   ]
  },
  {
   "cell_type": "code",
   "execution_count": 7,
   "id": "94d73bf0",
   "metadata": {},
   "outputs": [
    {
     "data": {
      "text/html": [
       "\n",
       "\n",
       "\n",
       "\n",
       "\n",
       "\n",
       "  <div class=\"bk-root\" id=\"025b4e5f-4828-4b1a-9fb3-4d1ac94b7868\" data-root-id=\"1342\"></div>\n"
      ]
     },
     "metadata": {},
     "output_type": "display_data"
    },
    {
     "data": {
      "application/javascript": [
       "(function(root) {\n",
       "  function embed_document(root) {\n",
       "    \n",
       "  const docs_json = {\"3246eb52-1130-4dcd-8a4d-88148b7b21e0\":{\"defs\":[],\"roots\":{\"references\":[{\"attributes\":{\"below\":[{\"id\":\"1351\"}],\"center\":[{\"id\":\"1354\"},{\"id\":\"1358\"}],\"height\":300,\"left\":[{\"id\":\"1355\"}],\"renderers\":[{\"id\":\"1377\"},{\"id\":\"1383\"}],\"title\":{\"id\":\"1385\"},\"toolbar\":{\"id\":\"1366\"},\"x_range\":{\"id\":\"1343\"},\"x_scale\":{\"id\":\"1347\"},\"y_range\":{\"id\":\"1345\"},\"y_scale\":{\"id\":\"1349\"}},\"id\":\"1342\",\"subtype\":\"Figure\",\"type\":\"Plot\"},{\"attributes\":{\"axis\":{\"id\":\"1351\"},\"coordinates\":null,\"group\":null,\"ticker\":null},\"id\":\"1354\",\"type\":\"Grid\"},{\"attributes\":{},\"id\":\"1362\",\"type\":\"SaveTool\"},{\"attributes\":{\"fill_alpha\":{\"value\":0.1},\"fill_color\":{\"value\":\"#d62728\"},\"hatch_alpha\":{\"value\":0.1},\"hatch_color\":{\"value\":\"#d62728\"},\"line_alpha\":{\"value\":0.1},\"line_color\":{\"value\":\"#d62728\"},\"size\":{\"value\":7},\"x\":{\"field\":\"x\"},\"y\":{\"field\":\"y\"}},\"id\":\"1381\",\"type\":\"Circle\"},{\"attributes\":{},\"id\":\"1345\",\"type\":\"DataRange1d\"},{\"attributes\":{\"ticker\":null},\"id\":\"1391\",\"type\":\"LogTickFormatter\"},{\"attributes\":{\"source\":{\"id\":\"1373\"}},\"id\":\"1378\",\"type\":\"CDSView\"},{\"attributes\":{\"axis\":{\"id\":\"1355\"},\"coordinates\":null,\"dimension\":1,\"group\":null,\"ticker\":null},\"id\":\"1358\",\"type\":\"Grid\"},{\"attributes\":{},\"id\":\"1389\",\"type\":\"AllLabels\"},{\"attributes\":{},\"id\":\"1388\",\"type\":\"BasicTickFormatter\"},{\"attributes\":{\"data\":{\"x\":{\"__ndarray__\":\"8WjjiLX45D679pawq8bAPhuSU62U2Jo+oI4DVa95dT7M4Xca2C1RPjaq640QfCs+3t8LVsL9BT7oVNoJf5fhPTSqdm7HIbw9TvOxegaBlj2fbg5/gAByPfFo44i1+OQ+u/aWsKvGwD4bklOtlNiaPqCOA1WveXU+zOF3GtgtUT42quuNEHwrPt7fC1bC/QU+6FTaCX+X4T00qnZuxyG8PU7zsXoGgZY9n24Of4AAcj0=\",\"dtype\":\"float64\",\"order\":\"little\",\"shape\":[22]},\"y\":{\"__ndarray__\":\"zNgntgQ+6j8j/SlRN6fsP4nvw1/Zouw/pmHRnU+v5T+2R9es/bDZP7qADMFjE9c/hCdbXErkvT/WqzzG5KCdv9Px71YNR7a/nAx6oy+Es78aRWhotH9dv7iTlhQ21ek/NtEp4IYt7z+bnJt+BBrsP/cuHjRwM+g/2lp0a5ON3j8Czv3UAMTSP1fWDKRZlsU/bNAMTln0m78cqaxTZlayP35nLpOA8ZA/k0DGTCzOrD8=\",\"dtype\":\"float64\",\"order\":\"little\",\"shape\":[22]}},\"selected\":{\"id\":\"1396\"},\"selection_policy\":{\"id\":\"1395\"}},\"id\":\"1379\",\"type\":\"ColumnDataSource\"},{\"attributes\":{\"axis_label\":\"[Ligands] M\",\"coordinates\":null,\"formatter\":{\"id\":\"1391\"},\"group\":null,\"major_label_policy\":{\"id\":\"1392\"},\"ticker\":{\"id\":\"1352\"}},\"id\":\"1351\",\"type\":\"LogAxis\"},{\"attributes\":{\"line_alpha\":0.2,\"line_color\":\"#1f77b4\",\"x\":{\"field\":\"x\"},\"y\":{\"field\":\"y\"}},\"id\":\"1376\",\"type\":\"Line\"},{\"attributes\":{\"line_color\":\"#1f77b4\",\"x\":{\"field\":\"x\"},\"y\":{\"field\":\"y\"}},\"id\":\"1374\",\"type\":\"Line\"},{\"attributes\":{\"source\":{\"id\":\"1379\"}},\"id\":\"1384\",\"type\":\"CDSView\"},{\"attributes\":{},\"id\":\"1349\",\"type\":\"LinearScale\"},{\"attributes\":{},\"id\":\"1343\",\"type\":\"DataRange1d\"},{\"attributes\":{\"coordinates\":null,\"data_source\":{\"id\":\"1379\"},\"glyph\":{\"id\":\"1380\"},\"group\":null,\"hover_glyph\":null,\"muted_glyph\":{\"id\":\"1382\"},\"nonselection_glyph\":{\"id\":\"1381\"},\"view\":{\"id\":\"1384\"}},\"id\":\"1383\",\"type\":\"GlyphRenderer\"},{\"attributes\":{\"overlay\":{\"id\":\"1365\"}},\"id\":\"1361\",\"type\":\"BoxZoomTool\"},{\"attributes\":{\"fill_alpha\":{\"value\":0.2},\"fill_color\":{\"value\":\"#d62728\"},\"hatch_alpha\":{\"value\":0.2},\"hatch_color\":{\"value\":\"#d62728\"},\"line_alpha\":{\"value\":0.2},\"line_color\":{\"value\":\"#d62728\"},\"size\":{\"value\":7},\"x\":{\"field\":\"x\"},\"y\":{\"field\":\"y\"}},\"id\":\"1382\",\"type\":\"Circle\"},{\"attributes\":{\"line_alpha\":0.1,\"line_color\":\"#1f77b4\",\"x\":{\"field\":\"x\"},\"y\":{\"field\":\"y\"}},\"id\":\"1375\",\"type\":\"Line\"},{\"attributes\":{},\"id\":\"1364\",\"type\":\"HelpTool\"},{\"attributes\":{\"axis_label\":\"active_probability\",\"coordinates\":null,\"formatter\":{\"id\":\"1388\"},\"group\":null,\"major_label_policy\":{\"id\":\"1389\"},\"ticker\":{\"id\":\"1356\"}},\"id\":\"1355\",\"type\":\"LinearAxis\"},{\"attributes\":{},\"id\":\"1363\",\"type\":\"ResetTool\"},{\"attributes\":{},\"id\":\"1392\",\"type\":\"AllLabels\"},{\"attributes\":{},\"id\":\"1359\",\"type\":\"PanTool\"},{\"attributes\":{\"coordinates\":null,\"group\":null},\"id\":\"1385\",\"type\":\"Title\"},{\"attributes\":{},\"id\":\"1360\",\"type\":\"WheelZoomTool\"},{\"attributes\":{},\"id\":\"1393\",\"type\":\"UnionRenderers\"},{\"attributes\":{},\"id\":\"1356\",\"type\":\"BasicTicker\"},{\"attributes\":{\"bottom_units\":\"screen\",\"coordinates\":null,\"fill_alpha\":0.5,\"fill_color\":\"lightgrey\",\"group\":null,\"left_units\":\"screen\",\"level\":\"overlay\",\"line_alpha\":1.0,\"line_color\":\"black\",\"line_dash\":[4,4],\"line_width\":2,\"right_units\":\"screen\",\"syncable\":false,\"top_units\":\"screen\"},\"id\":\"1365\",\"type\":\"BoxAnnotation\"},{\"attributes\":{},\"id\":\"1347\",\"type\":\"LogScale\"},{\"attributes\":{\"coordinates\":null,\"data_source\":{\"id\":\"1373\"},\"glyph\":{\"id\":\"1374\"},\"group\":null,\"hover_glyph\":null,\"muted_glyph\":{\"id\":\"1376\"},\"nonselection_glyph\":{\"id\":\"1375\"},\"view\":{\"id\":\"1378\"}},\"id\":\"1377\",\"type\":\"GlyphRenderer\"},{\"attributes\":{},\"id\":\"1396\",\"type\":\"Selection\"},{\"attributes\":{\"num_minor_ticks\":10},\"id\":\"1352\",\"type\":\"LogTicker\"},{\"attributes\":{},\"id\":\"1394\",\"type\":\"Selection\"},{\"attributes\":{},\"id\":\"1395\",\"type\":\"UnionRenderers\"},{\"attributes\":{\"fill_color\":{\"value\":\"#d62728\"},\"hatch_color\":{\"value\":\"#d62728\"},\"line_color\":{\"value\":\"#d62728\"},\"size\":{\"value\":7},\"x\":{\"field\":\"x\"},\"y\":{\"field\":\"y\"}},\"id\":\"1380\",\"type\":\"Circle\"},{\"attributes\":{\"data\":{\"x\":{\"__ndarray__\":\"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\",\"dtype\":\"float64\",\"order\":\"little\",\"shape\":[200]},\"y\":{\"__ndarray__\":\"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\",\"dtype\":\"float64\",\"order\":\"little\",\"shape\":[200]}},\"selected\":{\"id\":\"1394\"},\"selection_policy\":{\"id\":\"1393\"}},\"id\":\"1373\",\"type\":\"ColumnDataSource\"},{\"attributes\":{\"tools\":[{\"id\":\"1359\"},{\"id\":\"1360\"},{\"id\":\"1361\"},{\"id\":\"1362\"},{\"id\":\"1363\"},{\"id\":\"1364\"}]},\"id\":\"1366\",\"type\":\"Toolbar\"}],\"root_ids\":[\"1342\"]},\"title\":\"Bokeh Application\",\"version\":\"2.4.2\"}};\n",
       "  const render_items = [{\"docid\":\"3246eb52-1130-4dcd-8a4d-88148b7b21e0\",\"root_ids\":[\"1342\"],\"roots\":{\"1342\":\"025b4e5f-4828-4b1a-9fb3-4d1ac94b7868\"}}];\n",
       "  root.Bokeh.embed.embed_items_notebook(docs_json, render_items);\n",
       "\n",
       "  }\n",
       "  if (root.Bokeh !== undefined) {\n",
       "    embed_document(root);\n",
       "  } else {\n",
       "    let attempts = 0;\n",
       "    const timer = setInterval(function(root) {\n",
       "      if (root.Bokeh !== undefined) {\n",
       "        clearInterval(timer);\n",
       "        embed_document(root);\n",
       "      } else {\n",
       "        attempts++;\n",
       "        if (attempts > 100) {\n",
       "          clearInterval(timer);\n",
       "          console.log(\"Bokeh: ERROR: Unable to run BokehJS code because BokehJS library is missing\");\n",
       "        }\n",
       "      }\n",
       "    }, 10, root)\n",
       "  }\n",
       "})(window);"
      ],
      "application/vnd.bokehjs_exec.v0+json": ""
     },
     "metadata": {
      "application/vnd.bokehjs_exec.v0+json": {
       "id": "1342"
      }
     },
     "output_type": "display_data"
    },
    {
     "name": "stdout",
     "output_type": "stream",
     "text": [
      "[-9.62706226 -7.09411869 -3.96001817]\n"
     ]
    }
   ],
   "source": [
    "curdoc().clear()\n",
    "#initial parameter for optimization\n",
    "p0 = np.array([-7,-4,-5])\n",
    "c, p_active = df['conc'].values, df['morphine'].values/100\n",
    "\n",
    "#optimize kd and energy difference to fit the data\n",
    "res = scipy.optimize.least_squares(resid, p0, args = (c,p_active))\n",
    "\n",
    "curdoc().clear()\n",
    "p = bokeh.plotting.figure(plot_height=300,\n",
    "                         plot_width=600,\n",
    "                         x_axis_label='[Ligands] M',\n",
    "                          y_axis_label='active_probability',\n",
    "                          x_axis_type='log')\n",
    "\n",
    "p.line(ligand_smooth, agonist_only_p_active_theory(ligand_smooth, res.x[0],res.x[1],res.x[2]))\n",
    "p.circle(c, p_active, size=7, color=colors[i])\n",
    "\n",
    "bokeh.io.show(p);\n",
    "print(res.x)"
   ]
  },
  {
   "cell_type": "code",
   "execution_count": 54,
   "id": "621634c3",
   "metadata": {},
   "outputs": [
    {
     "data": {
      "text/plain": [
       "array([-9.6270621 , -7.09411868, -3.96001784])"
      ]
     },
     "execution_count": 54,
     "metadata": {},
     "output_type": "execute_result"
    }
   ],
   "source": [
    "res.x"
   ]
  },
  {
   "cell_type": "code",
   "execution_count": 8,
   "id": "0f463351",
   "metadata": {},
   "outputs": [
    {
     "data": {
      "text/html": [
       "\n",
       "\n",
       "\n",
       "\n",
       "\n",
       "\n",
       "  <div class=\"bk-root\" id=\"46846723-db06-49c9-bd22-65b488da06e3\" data-root-id=\"1463\"></div>\n"
      ]
     },
     "metadata": {},
     "output_type": "display_data"
    },
    {
     "data": {
      "application/javascript": [
       "(function(root) {\n",
       "  function embed_document(root) {\n",
       "    \n",
       "  const docs_json = {\"2384cce3-ba89-49c4-930c-c9f0bf155bc8\":{\"defs\":[],\"roots\":{\"references\":[{\"attributes\":{\"below\":[{\"id\":\"1472\"}],\"center\":[{\"id\":\"1475\"},{\"id\":\"1479\"}],\"height\":300,\"left\":[{\"id\":\"1476\"}],\"renderers\":[{\"id\":\"1498\"},{\"id\":\"1504\"}],\"title\":{\"id\":\"1506\"},\"toolbar\":{\"id\":\"1487\"},\"x_range\":{\"id\":\"1464\"},\"x_scale\":{\"id\":\"1468\"},\"y_range\":{\"id\":\"1466\"},\"y_scale\":{\"id\":\"1470\"}},\"id\":\"1463\",\"subtype\":\"Figure\",\"type\":\"Plot\"},{\"attributes\":{},\"id\":\"1484\",\"type\":\"ResetTool\"},{\"attributes\":{\"data\":{\"x\":{\"__ndarray__\":\"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\",\"dtype\":\"float64\",\"order\":\"little\",\"shape\":[200]},\"y\":{\"__ndarray__\":\"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\",\"dtype\":\"float64\",\"order\":\"little\",\"shape\":[200]}},\"selected\":{\"id\":\"1515\"},\"selection_policy\":{\"id\":\"1514\"}},\"id\":\"1494\",\"type\":\"ColumnDataSource\"},{\"attributes\":{\"overlay\":{\"id\":\"1486\"}},\"id\":\"1482\",\"type\":\"BoxZoomTool\"},{\"attributes\":{},\"id\":\"1464\",\"type\":\"DataRange1d\"},{\"attributes\":{\"coordinates\":null,\"data_source\":{\"id\":\"1494\"},\"glyph\":{\"id\":\"1495\"},\"group\":null,\"hover_glyph\":null,\"muted_glyph\":{\"id\":\"1497\"},\"nonselection_glyph\":{\"id\":\"1496\"},\"view\":{\"id\":\"1499\"}},\"id\":\"1498\",\"type\":\"GlyphRenderer\"},{\"attributes\":{\"axis\":{\"id\":\"1476\"},\"coordinates\":null,\"dimension\":1,\"group\":null,\"ticker\":null},\"id\":\"1479\",\"type\":\"Grid\"},{\"attributes\":{},\"id\":\"1514\",\"type\":\"UnionRenderers\"},{\"attributes\":{},\"id\":\"1468\",\"type\":\"LogScale\"},{\"attributes\":{},\"id\":\"1477\",\"type\":\"BasicTicker\"},{\"attributes\":{},\"id\":\"1515\",\"type\":\"Selection\"},{\"attributes\":{\"line_color\":\"#1f77b4\",\"x\":{\"field\":\"x\"},\"y\":{\"field\":\"y\"}},\"id\":\"1495\",\"type\":\"Line\"},{\"attributes\":{\"coordinates\":null,\"data_source\":{\"id\":\"1500\"},\"glyph\":{\"id\":\"1501\"},\"group\":null,\"hover_glyph\":null,\"muted_glyph\":{\"id\":\"1503\"},\"nonselection_glyph\":{\"id\":\"1502\"},\"view\":{\"id\":\"1505\"}},\"id\":\"1504\",\"type\":\"GlyphRenderer\"},{\"attributes\":{},\"id\":\"1509\",\"type\":\"BasicTickFormatter\"},{\"attributes\":{\"ticker\":null},\"id\":\"1512\",\"type\":\"LogTickFormatter\"},{\"attributes\":{\"source\":{\"id\":\"1500\"}},\"id\":\"1505\",\"type\":\"CDSView\"},{\"attributes\":{\"axis_label\":\"[Ligands] M\",\"coordinates\":null,\"formatter\":{\"id\":\"1512\"},\"group\":null,\"major_label_policy\":{\"id\":\"1513\"},\"ticker\":{\"id\":\"1473\"}},\"id\":\"1472\",\"type\":\"LogAxis\"},{\"attributes\":{},\"id\":\"1517\",\"type\":\"Selection\"},{\"attributes\":{},\"id\":\"1466\",\"type\":\"DataRange1d\"},{\"attributes\":{\"fill_alpha\":{\"value\":0.1},\"fill_color\":{\"value\":\"#d62728\"},\"hatch_alpha\":{\"value\":0.1},\"hatch_color\":{\"value\":\"#d62728\"},\"line_alpha\":{\"value\":0.1},\"line_color\":{\"value\":\"#d62728\"},\"size\":{\"value\":7},\"x\":{\"field\":\"x\"},\"y\":{\"field\":\"y\"}},\"id\":\"1502\",\"type\":\"Circle\"},{\"attributes\":{},\"id\":\"1480\",\"type\":\"PanTool\"},{\"attributes\":{\"coordinates\":null,\"group\":null},\"id\":\"1506\",\"type\":\"Title\"},{\"attributes\":{},\"id\":\"1470\",\"type\":\"LinearScale\"},{\"attributes\":{},\"id\":\"1483\",\"type\":\"SaveTool\"},{\"attributes\":{},\"id\":\"1485\",\"type\":\"HelpTool\"},{\"attributes\":{\"fill_color\":{\"value\":\"#d62728\"},\"hatch_color\":{\"value\":\"#d62728\"},\"line_color\":{\"value\":\"#d62728\"},\"size\":{\"value\":7},\"x\":{\"field\":\"x\"},\"y\":{\"field\":\"y\"}},\"id\":\"1501\",\"type\":\"Circle\"},{\"attributes\":{},\"id\":\"1481\",\"type\":\"WheelZoomTool\"},{\"attributes\":{\"axis\":{\"id\":\"1472\"},\"coordinates\":null,\"group\":null,\"ticker\":null},\"id\":\"1475\",\"type\":\"Grid\"},{\"attributes\":{},\"id\":\"1513\",\"type\":\"AllLabels\"},{\"attributes\":{\"axis_label\":\"active_probability\",\"coordinates\":null,\"formatter\":{\"id\":\"1509\"},\"group\":null,\"major_label_policy\":{\"id\":\"1510\"},\"ticker\":{\"id\":\"1477\"}},\"id\":\"1476\",\"type\":\"LinearAxis\"},{\"attributes\":{\"source\":{\"id\":\"1494\"}},\"id\":\"1499\",\"type\":\"CDSView\"},{\"attributes\":{\"line_alpha\":0.1,\"line_color\":\"#1f77b4\",\"x\":{\"field\":\"x\"},\"y\":{\"field\":\"y\"}},\"id\":\"1496\",\"type\":\"Line\"},{\"attributes\":{\"fill_alpha\":{\"value\":0.2},\"fill_color\":{\"value\":\"#d62728\"},\"hatch_alpha\":{\"value\":0.2},\"hatch_color\":{\"value\":\"#d62728\"},\"line_alpha\":{\"value\":0.2},\"line_color\":{\"value\":\"#d62728\"},\"size\":{\"value\":7},\"x\":{\"field\":\"x\"},\"y\":{\"field\":\"y\"}},\"id\":\"1503\",\"type\":\"Circle\"},{\"attributes\":{},\"id\":\"1516\",\"type\":\"UnionRenderers\"},{\"attributes\":{\"num_minor_ticks\":10},\"id\":\"1473\",\"type\":\"LogTicker\"},{\"attributes\":{\"data\":{\"x\":{\"__ndarray__\":\"8WjjiLX45D679pawq8bAPhuSU62U2Jo+oI4DVa95dT7M4Xca2C1RPjaq640QfCs+3t8LVsL9BT7oVNoJf5fhPTSqdm7HIbw9TvOxegaBlj2fbg5/gAByPfFo44i1+OQ+u/aWsKvGwD4bklOtlNiaPqCOA1WveXU+zOF3GtgtUT42quuNEHwrPt7fC1bC/QU+6FTaCX+X4T00qnZuxyG8PU7zsXoGgZY9n24Of4AAcj0=\",\"dtype\":\"float64\",\"order\":\"little\",\"shape\":[22]},\"y\":{\"__ndarray__\":\"urA975R17z86WPX/iT3vP9LGNKFp3eo/tp4zG/jr6j9YztWMkTXkP1RYl5GaQNA/3Nin+K6WnD9kjzvKh/Wpv2qXFikhrrQ/7tGXFSrcmj/SOWrpLgmTPzoJht6fre8/t7Iydt7/7z/Uvu69QYjqP6G4yf0QWuw/4tCedy0j4z8Czv3UAMTSP2g2LvhkNqo/hE049mwBeL+OQ2ObGh+qP5ih/rQHEgC/AIylvgw0tT8=\",\"dtype\":\"float64\",\"order\":\"little\",\"shape\":[22]}},\"selected\":{\"id\":\"1517\"},\"selection_policy\":{\"id\":\"1516\"}},\"id\":\"1500\",\"type\":\"ColumnDataSource\"},{\"attributes\":{},\"id\":\"1510\",\"type\":\"AllLabels\"},{\"attributes\":{\"tools\":[{\"id\":\"1480\"},{\"id\":\"1481\"},{\"id\":\"1482\"},{\"id\":\"1483\"},{\"id\":\"1484\"},{\"id\":\"1485\"}]},\"id\":\"1487\",\"type\":\"Toolbar\"},{\"attributes\":{\"line_alpha\":0.2,\"line_color\":\"#1f77b4\",\"x\":{\"field\":\"x\"},\"y\":{\"field\":\"y\"}},\"id\":\"1497\",\"type\":\"Line\"},{\"attributes\":{\"bottom_units\":\"screen\",\"coordinates\":null,\"fill_alpha\":0.5,\"fill_color\":\"lightgrey\",\"group\":null,\"left_units\":\"screen\",\"level\":\"overlay\",\"line_alpha\":1.0,\"line_color\":\"black\",\"line_dash\":[4,4],\"line_width\":2,\"right_units\":\"screen\",\"syncable\":false,\"top_units\":\"screen\"},\"id\":\"1486\",\"type\":\"BoxAnnotation\"}],\"root_ids\":[\"1463\"]},\"title\":\"Bokeh Application\",\"version\":\"2.4.2\"}};\n",
       "  const render_items = [{\"docid\":\"2384cce3-ba89-49c4-930c-c9f0bf155bc8\",\"root_ids\":[\"1463\"],\"roots\":{\"1463\":\"46846723-db06-49c9-bd22-65b488da06e3\"}}];\n",
       "  root.Bokeh.embed.embed_items_notebook(docs_json, render_items);\n",
       "\n",
       "  }\n",
       "  if (root.Bokeh !== undefined) {\n",
       "    embed_document(root);\n",
       "  } else {\n",
       "    let attempts = 0;\n",
       "    const timer = setInterval(function(root) {\n",
       "      if (root.Bokeh !== undefined) {\n",
       "        clearInterval(timer);\n",
       "        embed_document(root);\n",
       "      } else {\n",
       "        attempts++;\n",
       "        if (attempts > 100) {\n",
       "          clearInterval(timer);\n",
       "          console.log(\"Bokeh: ERROR: Unable to run BokehJS code because BokehJS library is missing\");\n",
       "        }\n",
       "      }\n",
       "    }, 10, root)\n",
       "  }\n",
       "})(window);"
      ],
      "application/vnd.bokehjs_exec.v0+json": ""
     },
     "metadata": {
      "application/vnd.bokehjs_exec.v0+json": {
       "id": "1463"
      }
     },
     "output_type": "display_data"
    },
    {
     "name": "stdout",
     "output_type": "stream",
     "text": [
      "[-9.82170481 -6.74944575 -4.13789754]\n"
     ]
    }
   ],
   "source": [
    "curdoc().clear()\n",
    "#initial parameter for optimization\n",
    "p0 = np.array([-9,-4,-4])\n",
    "c, p_active = df['conc'].values, df['fentanyl'].values/100\n",
    "\n",
    "#optimize kd and energy difference to fit the data\n",
    "res = scipy.optimize.least_squares(resid, p0, args = (c,p_active))\n",
    "\n",
    "curdoc().clear()\n",
    "p = bokeh.plotting.figure(plot_height=300,\n",
    "                         plot_width=600,\n",
    "                         x_axis_label='[Ligands] M',\n",
    "                          y_axis_label='active_probability',\n",
    "                          x_axis_type='log')\n",
    "\n",
    "p.line(ligand_smooth, agonist_only_p_active_theory(ligand_smooth, res.x[0],res.x[1],res.x[2]))\n",
    "p.circle(c, p_active, size=7, color=colors[i])\n",
    "\n",
    "bokeh.io.show(p);\n",
    "print(res.x)"
   ]
  },
  {
   "cell_type": "code",
   "execution_count": 67,
   "id": "792f7815",
   "metadata": {},
   "outputs": [
    {
     "data": {
      "text/plain": [
       "array([-9.82170484, -6.74944575, -4.1378976 ])"
      ]
     },
     "execution_count": 67,
     "metadata": {},
     "output_type": "execute_result"
    }
   ],
   "source": [
    "res.x"
   ]
  },
  {
   "cell_type": "code",
   "execution_count": 82,
   "id": "35007e21",
   "metadata": {},
   "outputs": [],
   "source": [
    "def partial_agonist_only_p_active_theory(c_agonist, log_Kd_active, log_Kd_inactive, beta_deltaE):\n",
    "    \"theoretical curve for mglur5 active probability\"\n",
    "\n",
    "    Kd_active = 10**(log_Kd_active)\n",
    "    Kd_inactive = 10**(log_Kd_inactive)\n",
    "    a = (1 + c_agonist/Kd_active)\n",
    "\n",
    "    b = (1 + c_agonist/Kd_inactive)\n",
    "\n",
    "    return a/(a+b*np.exp(-beta_deltaE))\n",
    "\n",
    "def partial_resid(param, c, p_active):\n",
    "    return p_active - partial_agonist_only_p_active_theory(c, *param)"
   ]
  },
  {
   "cell_type": "code",
   "execution_count": 83,
   "id": "7dad449a",
   "metadata": {},
   "outputs": [
    {
     "data": {
      "text/html": [
       "\n",
       "\n",
       "\n",
       "\n",
       "\n",
       "\n",
       "  <div class=\"bk-root\" id=\"13b0da1d-129b-4c08-a0d4-1f8c6f666042\" data-root-id=\"6664\"></div>\n"
      ]
     },
     "metadata": {},
     "output_type": "display_data"
    },
    {
     "data": {
      "application/javascript": [
       "(function(root) {\n",
       "  function embed_document(root) {\n",
       "    \n",
       "  var docs_json = {\"3e8198d2-6558-4005-b91f-3c2a0b4ede3b\":{\"defs\":[],\"roots\":{\"references\":[{\"attributes\":{\"below\":[{\"id\":\"6673\"}],\"center\":[{\"id\":\"6676\"},{\"id\":\"6680\"}],\"height\":300,\"left\":[{\"id\":\"6677\"}],\"renderers\":[{\"id\":\"6698\"},{\"id\":\"6703\"}],\"title\":{\"id\":\"6705\"},\"toolbar\":{\"id\":\"6688\"},\"x_range\":{\"id\":\"6665\"},\"x_scale\":{\"id\":\"6669\"},\"y_range\":{\"id\":\"6667\"},\"y_scale\":{\"id\":\"6671\"}},\"id\":\"6664\",\"subtype\":\"Figure\",\"type\":\"Plot\"},{\"attributes\":{},\"id\":\"6705\",\"type\":\"Title\"},{\"attributes\":{},\"id\":\"6715\",\"type\":\"Selection\"},{\"attributes\":{\"axis_label\":\"active_probability\",\"formatter\":{\"id\":\"6712\"},\"major_label_policy\":{\"id\":\"6711\"},\"ticker\":{\"id\":\"6678\"}},\"id\":\"6677\",\"type\":\"LinearAxis\"},{\"attributes\":{\"data\":{\"x\":{\"__ndarray__\":\"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\",\"dtype\":\"float64\",\"order\":\"little\",\"shape\":[200]},\"y\":{\"__ndarray__\":\"QjFy/La/BT/A4AULqdsHPx3Ou8n2Kwo/6B65ubO1DD+ogJxMcX4PP/smO4slRhE/ipfFFvryEj+9L3nqYskUP13488hnzRY/K7NaZ3QDGT+M8bIYYnAbP/e/DmiCGR4/XAw5XFWCID/D6cKBIBwiP6A8Remk3SM/NtXJx7vKJT/1u/OnnecnPySMuJ3rOCo/XahIXLnDLD8DMZ9DmI0vP0nWl75RTjE/gXOooMb7Mj/k9a6w1tI0PwZciZqI1zY/F+w2hkYOOT/tGS+l53s7Pz5K4Ke6JT4/UJlrmMiIQD/JmXgu5iJCP5/vAD215EM/Ham/AwvSRT/XqY0PG+9HP0CC1DKAQEo/2U+oU0bLTD9g/W0i9ZRPP7lytebNUVE/gD6S4+7+Uj/OJ4hbgNVUP57M3dZ92VY/cyah20MPWT9UG1H0mHtbP7q+FIO3I14/os65OKyGYD/WjaVmXx9iP47IOTJi32M/S9CRuHPKZT8OZcu0rORnPzv534KHMmo/OO/oxui4bD9OdQnCKH1vP7za666OQnE/HeE8e5Lrcj/ZPVj1GL10P1Ut1HvrunY/1HlDMirpeD8Z5pj/Ukx7P1LNTPRI6X0/rV+yCq5igD9hT3vDKPOBP0QR0gY2qYM/zEBgbTqIhT/iOR9J4pOHPwNmBjom0Ik/2Z4Hxk9BjD92biXi/euOPxbzA6uU6pA/sxgzbxSBkj8WUG52WjyUP2fLqm51H5Y/gOoFuactmD8YLLYvaGqaP/r8bFRi2Zw/Szldw3V+nz8U5WFh2i6hP/m/T+GwvaI/liU9zvVtpD+Ixggw9EGmP/4b2TsHPKg/Gapc95Veqj+8hjPTDaysPzeY1yTcJq8/8HslNrPosD/G7+arAFeyP3afFkBz37M/5BqPcRSDtT8cd1kX1EK3PwZknYCBH7k/+AnJKcQZuz+xxj4sFDK9P8XRqJiyaL8/6ato+9DewD9m7uGXTxjCP2F7kJeNYMM/f1X3xhq3xD8fP2VNXBvGP7UqJoiLjMc/kOT44LUJyT9NR928vZHKP5pHbZZcI8w/LEueSia9zT/cdaGQjV3PP5M8QsN0gdA/J06jFr5V0T+YgL7QvCrSP3bIQemH/9I/wLJIOTfT0z8VYEVr56TUPzJFtb69c9U/tRVBfus+1j/yVYwLsQXXP2+TJWpgx9c/1dwyOl+D2D/r7AcbKDnZP+0wOXVL6Nk/fU53sm+Q2j+aSCbvUDHbP8CF+TXAyts/o+vGWKJc3D8WiUR77ubcP6NpnmSsad0/28f4q/Lk3T9GL0TS5FjeP5mWhlmxxd4/G0Qk548r3z+fFPx7v4rfP7oDgcqE498/RP4/WBQb4D/lwQVse0HgP/K+kUAeZeA/MG8RuiOG4D+Q9OKNsqTgP+nwWeLwwOA/nejq/wPb4D8vmS8SEPPgP+oiHfc3CeE/Zxi/Gp0d4T+2w9NdXzDhPz8SugWdQeE/Xxw9tHJR4T9PQ+ll+1/hP+gfuXVQbeE/QzcLpYl54T9FV/MmvYThP/O1Gq7/juE/9N1/fGSY4T+5wYJ0/aDhP2rXwSrbqOE/J99i+Ayw4T/oAXUNobbhPwl5KoOkvOE/Exe2bSPC4T9wEaXtKMfhP1WJl0C/y+E/VcFC0e/P4T+e4q5Gw9PhP0/jp5JB1+E/F7Vd/3Ha4T+/iTM8W93hP5XXwGkD4OE/y/oIJXDi4T+n9u+RpuThPywL9GSr5uE/LqY07ILo4T/+u88XMerhPxzbnoG56+E/SGRddB/t4T/pP0HyZe7hP9w7D7uP7+E/RvizUZ/w4T/F9WkBl/HhP3r3dOJ48uE/UoR63kbz4T9S5360AvThP+Khjfyt9OE/19UTK0r14T/1wfKT2PXhPzEDUG1a9uE/Pugo0tD24T+VxK3EPPfhPyrUaTCf9+E/Luo77Pj34T8e0yO8SvjhP2UF6FKV+OE/sfOWU9n44T/ZEOdSF/nhP0tWeNhP+eE/D+T5X4P54T/3GjZasvnhP/dfBy7d+eE/GYk3OQT64T/9yUvRJ/rhP2nOPkRI+uE/PI0q2WX64T+0POPQgPrhP1WyhGaZ+uE/pVzzz6/64T8A61E+xPrhPzOgbN7W+uE/rTYb2ef64T9UKZpT9/rhPw==\",\"dtype\":\"float64\",\"order\":\"little\",\"shape\":[200]}},\"selected\":{\"id\":\"6715\"},\"selection_policy\":{\"id\":\"6714\"}},\"id\":\"6695\",\"type\":\"ColumnDataSource\"},{\"attributes\":{\"source\":{\"id\":\"6695\"}},\"id\":\"6699\",\"type\":\"CDSView\"},{\"attributes\":{},\"id\":\"6665\",\"type\":\"DataRange1d\"},{\"attributes\":{\"axis\":{\"id\":\"6673\"},\"ticker\":null},\"id\":\"6676\",\"type\":\"Grid\"},{\"attributes\":{},\"id\":\"6714\",\"type\":\"UnionRenderers\"},{\"attributes\":{\"fill_alpha\":{\"value\":0.1},\"fill_color\":{\"value\":\"#d62728\"},\"line_alpha\":{\"value\":0.1},\"line_color\":{\"value\":\"#d62728\"},\"size\":{\"value\":7},\"x\":{\"field\":\"x\"},\"y\":{\"field\":\"y\"}},\"id\":\"6702\",\"type\":\"Circle\"},{\"attributes\":{\"num_minor_ticks\":10},\"id\":\"6674\",\"type\":\"LogTicker\"},{\"attributes\":{},\"id\":\"6708\",\"type\":\"AllLabels\"},{\"attributes\":{},\"id\":\"6685\",\"type\":\"ResetTool\"},{\"attributes\":{\"ticker\":null},\"id\":\"6709\",\"type\":\"LogTickFormatter\"},{\"attributes\":{\"line_color\":\"#1f77b4\",\"x\":{\"field\":\"x\"},\"y\":{\"field\":\"y\"}},\"id\":\"6696\",\"type\":\"Line\"},{\"attributes\":{\"data_source\":{\"id\":\"6700\"},\"glyph\":{\"id\":\"6701\"},\"hover_glyph\":null,\"muted_glyph\":null,\"nonselection_glyph\":{\"id\":\"6702\"},\"view\":{\"id\":\"6704\"}},\"id\":\"6703\",\"type\":\"GlyphRenderer\"},{\"attributes\":{\"data_source\":{\"id\":\"6695\"},\"glyph\":{\"id\":\"6696\"},\"hover_glyph\":null,\"muted_glyph\":null,\"nonselection_glyph\":{\"id\":\"6697\"},\"view\":{\"id\":\"6699\"}},\"id\":\"6698\",\"type\":\"GlyphRenderer\"},{\"attributes\":{\"axis_label\":\"[Ligands] M\",\"formatter\":{\"id\":\"6709\"},\"major_label_policy\":{\"id\":\"6708\"},\"ticker\":{\"id\":\"6674\"}},\"id\":\"6673\",\"type\":\"LogAxis\"},{\"attributes\":{},\"id\":\"6671\",\"type\":\"LinearScale\"},{\"attributes\":{},\"id\":\"6711\",\"type\":\"AllLabels\"},{\"attributes\":{},\"id\":\"6686\",\"type\":\"HelpTool\"},{\"attributes\":{\"axis\":{\"id\":\"6677\"},\"dimension\":1,\"ticker\":null},\"id\":\"6680\",\"type\":\"Grid\"},{\"attributes\":{\"overlay\":{\"id\":\"6687\"}},\"id\":\"6683\",\"type\":\"BoxZoomTool\"},{\"attributes\":{\"source\":{\"id\":\"6700\"}},\"id\":\"6704\",\"type\":\"CDSView\"},{\"attributes\":{\"line_alpha\":0.1,\"line_color\":\"#1f77b4\",\"x\":{\"field\":\"x\"},\"y\":{\"field\":\"y\"}},\"id\":\"6697\",\"type\":\"Line\"},{\"attributes\":{\"fill_color\":{\"value\":\"#d62728\"},\"line_color\":{\"value\":\"#d62728\"},\"size\":{\"value\":7},\"x\":{\"field\":\"x\"},\"y\":{\"field\":\"y\"}},\"id\":\"6701\",\"type\":\"Circle\"},{\"attributes\":{},\"id\":\"6681\",\"type\":\"PanTool\"},{\"attributes\":{\"bottom_units\":\"screen\",\"fill_alpha\":0.5,\"fill_color\":\"lightgrey\",\"left_units\":\"screen\",\"level\":\"overlay\",\"line_alpha\":1.0,\"line_color\":\"black\",\"line_dash\":[4,4],\"line_width\":2,\"right_units\":\"screen\",\"syncable\":false,\"top_units\":\"screen\"},\"id\":\"6687\",\"type\":\"BoxAnnotation\"},{\"attributes\":{},\"id\":\"6669\",\"type\":\"LogScale\"},{\"attributes\":{},\"id\":\"6678\",\"type\":\"BasicTicker\"},{\"attributes\":{},\"id\":\"6667\",\"type\":\"DataRange1d\"},{\"attributes\":{\"active_multi\":null,\"tools\":[{\"id\":\"6681\"},{\"id\":\"6682\"},{\"id\":\"6683\"},{\"id\":\"6684\"},{\"id\":\"6685\"},{\"id\":\"6686\"}]},\"id\":\"6688\",\"type\":\"Toolbar\"},{\"attributes\":{},\"id\":\"6716\",\"type\":\"UnionRenderers\"},{\"attributes\":{},\"id\":\"6717\",\"type\":\"Selection\"},{\"attributes\":{},\"id\":\"6684\",\"type\":\"SaveTool\"},{\"attributes\":{},\"id\":\"6682\",\"type\":\"WheelZoomTool\"},{\"attributes\":{},\"id\":\"6712\",\"type\":\"BasicTickFormatter\"},{\"attributes\":{\"data\":{\"x\":{\"__ndarray__\":\"8WjjiLX45D679pawq8bAPhuSU62U2Jo+oI4DVa95dT7M4Xca2C1RPjaq640QfCs+3t8LVsL9BT7oVNoJf5fhPTSqdm7HIbw9TvOxegaBlj2fbg5/gAByPfFo44i1+OQ+u/aWsKvGwD4bklOtlNiaPqCOA1WveXU+zOF3GtgtUT42quuNEHwrPt7fC1bC/QU+6FTaCX+X4T00qnZuxyG8PU7zsXoGgZY9n24Of4AAcj0=\",\"dtype\":\"float64\",\"order\":\"little\",\"shape\":[22]},\"y\":{\"__ndarray__\":\"+VNU7e+B4D+th4CyIV7jPxz72q88LuA/RkemXlWV2T+cxeONhgvUP3eTo5SKRLA/RbvURBd6qb9D9xlxDjOyv/GvkXBJ7cG/GLHGBJbe0L9bB2AMCk62vxpDIF/7EOM/U6jJjWnO5D+OJ8ZDQTThP7/eLpNQa9o/9xYCC2aW1z+Dp2/kusvKP6zkIap4U7S/9x2x+nuitD/k6GMLBoOtv9uWa7PDG6m/VHJpGJGypr8=\",\"dtype\":\"float64\",\"order\":\"little\",\"shape\":[22]}},\"selected\":{\"id\":\"6717\"},\"selection_policy\":{\"id\":\"6716\"}},\"id\":\"6700\",\"type\":\"ColumnDataSource\"}],\"root_ids\":[\"6664\"]},\"title\":\"Bokeh Application\",\"version\":\"2.3.3\"}};\n",
       "  var render_items = [{\"docid\":\"3e8198d2-6558-4005-b91f-3c2a0b4ede3b\",\"root_ids\":[\"6664\"],\"roots\":{\"6664\":\"13b0da1d-129b-4c08-a0d4-1f8c6f666042\"}}];\n",
       "  root.Bokeh.embed.embed_items_notebook(docs_json, render_items);\n",
       "\n",
       "  }\n",
       "  if (root.Bokeh !== undefined) {\n",
       "    embed_document(root);\n",
       "  } else {\n",
       "    var attempts = 0;\n",
       "    var timer = setInterval(function(root) {\n",
       "      if (root.Bokeh !== undefined) {\n",
       "        clearInterval(timer);\n",
       "        embed_document(root);\n",
       "      } else {\n",
       "        attempts++;\n",
       "        if (attempts > 100) {\n",
       "          clearInterval(timer);\n",
       "          console.log(\"Bokeh: ERROR: Unable to run BokehJS code because BokehJS library is missing\");\n",
       "        }\n",
       "      }\n",
       "    }, 10, root)\n",
       "  }\n",
       "})(window);"
      ],
      "application/vnd.bokehjs_exec.v0+json": ""
     },
     "metadata": {
      "application/vnd.bokehjs_exec.v0+json": {
       "id": "6664"
      }
     },
     "output_type": "display_data"
    },
    {
     "name": "stdout",
     "output_type": "stream",
     "text": [
      "[-25.79181677  -7.50970466 -41.84699177]\n"
     ]
    }
   ],
   "source": [
    "curdoc().clear()\n",
    "#initial parameter for optimization\n",
    "p0 = np.array([-9,-7,-4])\n",
    "c, p_active = df['conc'].values, df['FH210'].values/100\n",
    "\n",
    "#optimize kd and energy difference to fit the data\n",
    "res = scipy.optimize.least_squares(partial_resid, p0, args = (c,p_active))\n",
    "\n",
    "curdoc().clear()\n",
    "p = bokeh.plotting.figure(plot_height=300,\n",
    "                         plot_width=600,\n",
    "                         x_axis_label='[Ligands] M',\n",
    "                          y_axis_label='active_probability',\n",
    "                          x_axis_type='log')\n",
    "\n",
    "p.line(ligand_smooth, partial_agonist_only_p_active_theory(ligand_smooth, res.x[0],res.x[1],res.x[2]))\n",
    "p.circle(c, p_active, size=7, color=colors[i])\n",
    "\n",
    "bokeh.io.show(p);\n",
    "print(res.x)"
   ]
  },
  {
   "cell_type": "code",
   "execution_count": 73,
   "id": "2398f82e",
   "metadata": {},
   "outputs": [
    {
     "data": {
      "text/plain": [
       "array([-9.31274888, -7.46314733, -4.        ])"
      ]
     },
     "execution_count": 73,
     "metadata": {},
     "output_type": "execute_result"
    }
   ],
   "source": [
    "res.x"
   ]
  },
  {
   "cell_type": "code",
   "execution_count": null,
   "id": "638328ef",
   "metadata": {},
   "outputs": [],
   "source": []
  }
 ],
 "metadata": {
  "kernelspec": {
   "display_name": "Python 3 (ipykernel)",
   "language": "python",
   "name": "python3"
  },
  "language_info": {
   "codemirror_mode": {
    "name": "ipython",
    "version": 3
   },
   "file_extension": ".py",
   "mimetype": "text/x-python",
   "name": "python",
   "nbconvert_exporter": "python",
   "pygments_lexer": "ipython3",
   "version": "3.8.11"
  }
 },
 "nbformat": 4,
 "nbformat_minor": 5
}
