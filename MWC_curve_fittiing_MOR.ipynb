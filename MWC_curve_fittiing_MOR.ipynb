{
 "cells": [
  {
   "cell_type": "code",
   "execution_count": 12,
   "id": "3361a032",
   "metadata": {},
   "outputs": [
    {
     "data": {
      "text/html": [
       "\n",
       "    <div class=\"bk-root\">\n",
       "        <a href=\"https://bokeh.org\" target=\"_blank\" class=\"bk-logo bk-logo-small bk-logo-notebook\"></a>\n",
       "        <span id=\"2194\">Loading BokehJS ...</span>\n",
       "    </div>"
      ]
     },
     "metadata": {},
     "output_type": "display_data"
    },
    {
     "data": {
      "application/javascript": [
       "\n",
       "(function(root) {\n",
       "  function now() {\n",
       "    return new Date();\n",
       "  }\n",
       "\n",
       "  var force = true;\n",
       "\n",
       "  if (typeof root._bokeh_onload_callbacks === \"undefined\" || force === true) {\n",
       "    root._bokeh_onload_callbacks = [];\n",
       "    root._bokeh_is_loading = undefined;\n",
       "  }\n",
       "\n",
       "  var JS_MIME_TYPE = 'application/javascript';\n",
       "  var HTML_MIME_TYPE = 'text/html';\n",
       "  var EXEC_MIME_TYPE = 'application/vnd.bokehjs_exec.v0+json';\n",
       "  var CLASS_NAME = 'output_bokeh rendered_html';\n",
       "\n",
       "  /**\n",
       "   * Render data to the DOM node\n",
       "   */\n",
       "  function render(props, node) {\n",
       "    var script = document.createElement(\"script\");\n",
       "    node.appendChild(script);\n",
       "  }\n",
       "\n",
       "  /**\n",
       "   * Handle when an output is cleared or removed\n",
       "   */\n",
       "  function handleClearOutput(event, handle) {\n",
       "    var cell = handle.cell;\n",
       "\n",
       "    var id = cell.output_area._bokeh_element_id;\n",
       "    var server_id = cell.output_area._bokeh_server_id;\n",
       "    // Clean up Bokeh references\n",
       "    if (id != null && id in Bokeh.index) {\n",
       "      Bokeh.index[id].model.document.clear();\n",
       "      delete Bokeh.index[id];\n",
       "    }\n",
       "\n",
       "    if (server_id !== undefined) {\n",
       "      // Clean up Bokeh references\n",
       "      var cmd = \"from bokeh.io.state import curstate; print(curstate().uuid_to_server['\" + server_id + \"'].get_sessions()[0].document.roots[0]._id)\";\n",
       "      cell.notebook.kernel.execute(cmd, {\n",
       "        iopub: {\n",
       "          output: function(msg) {\n",
       "            var id = msg.content.text.trim();\n",
       "            if (id in Bokeh.index) {\n",
       "              Bokeh.index[id].model.document.clear();\n",
       "              delete Bokeh.index[id];\n",
       "            }\n",
       "          }\n",
       "        }\n",
       "      });\n",
       "      // Destroy server and session\n",
       "      var cmd = \"import bokeh.io.notebook as ion; ion.destroy_server('\" + server_id + \"')\";\n",
       "      cell.notebook.kernel.execute(cmd);\n",
       "    }\n",
       "  }\n",
       "\n",
       "  /**\n",
       "   * Handle when a new output is added\n",
       "   */\n",
       "  function handleAddOutput(event, handle) {\n",
       "    var output_area = handle.output_area;\n",
       "    var output = handle.output;\n",
       "\n",
       "    // limit handleAddOutput to display_data with EXEC_MIME_TYPE content only\n",
       "    if ((output.output_type != \"display_data\") || (!Object.prototype.hasOwnProperty.call(output.data, EXEC_MIME_TYPE))) {\n",
       "      return\n",
       "    }\n",
       "\n",
       "    var toinsert = output_area.element.find(\".\" + CLASS_NAME.split(' ')[0]);\n",
       "\n",
       "    if (output.metadata[EXEC_MIME_TYPE][\"id\"] !== undefined) {\n",
       "      toinsert[toinsert.length - 1].firstChild.textContent = output.data[JS_MIME_TYPE];\n",
       "      // store reference to embed id on output_area\n",
       "      output_area._bokeh_element_id = output.metadata[EXEC_MIME_TYPE][\"id\"];\n",
       "    }\n",
       "    if (output.metadata[EXEC_MIME_TYPE][\"server_id\"] !== undefined) {\n",
       "      var bk_div = document.createElement(\"div\");\n",
       "      bk_div.innerHTML = output.data[HTML_MIME_TYPE];\n",
       "      var script_attrs = bk_div.children[0].attributes;\n",
       "      for (var i = 0; i < script_attrs.length; i++) {\n",
       "        toinsert[toinsert.length - 1].firstChild.setAttribute(script_attrs[i].name, script_attrs[i].value);\n",
       "        toinsert[toinsert.length - 1].firstChild.textContent = bk_div.children[0].textContent\n",
       "      }\n",
       "      // store reference to server id on output_area\n",
       "      output_area._bokeh_server_id = output.metadata[EXEC_MIME_TYPE][\"server_id\"];\n",
       "    }\n",
       "  }\n",
       "\n",
       "  function register_renderer(events, OutputArea) {\n",
       "\n",
       "    function append_mime(data, metadata, element) {\n",
       "      // create a DOM node to render to\n",
       "      var toinsert = this.create_output_subarea(\n",
       "        metadata,\n",
       "        CLASS_NAME,\n",
       "        EXEC_MIME_TYPE\n",
       "      );\n",
       "      this.keyboard_manager.register_events(toinsert);\n",
       "      // Render to node\n",
       "      var props = {data: data, metadata: metadata[EXEC_MIME_TYPE]};\n",
       "      render(props, toinsert[toinsert.length - 1]);\n",
       "      element.append(toinsert);\n",
       "      return toinsert\n",
       "    }\n",
       "\n",
       "    /* Handle when an output is cleared or removed */\n",
       "    events.on('clear_output.CodeCell', handleClearOutput);\n",
       "    events.on('delete.Cell', handleClearOutput);\n",
       "\n",
       "    /* Handle when a new output is added */\n",
       "    events.on('output_added.OutputArea', handleAddOutput);\n",
       "\n",
       "    /**\n",
       "     * Register the mime type and append_mime function with output_area\n",
       "     */\n",
       "    OutputArea.prototype.register_mime_type(EXEC_MIME_TYPE, append_mime, {\n",
       "      /* Is output safe? */\n",
       "      safe: true,\n",
       "      /* Index of renderer in `output_area.display_order` */\n",
       "      index: 0\n",
       "    });\n",
       "  }\n",
       "\n",
       "  // register the mime type if in Jupyter Notebook environment and previously unregistered\n",
       "  if (root.Jupyter !== undefined) {\n",
       "    var events = require('base/js/events');\n",
       "    var OutputArea = require('notebook/js/outputarea').OutputArea;\n",
       "\n",
       "    if (OutputArea.prototype.mime_types().indexOf(EXEC_MIME_TYPE) == -1) {\n",
       "      register_renderer(events, OutputArea);\n",
       "    }\n",
       "  }\n",
       "\n",
       "  \n",
       "  if (typeof (root._bokeh_timeout) === \"undefined\" || force === true) {\n",
       "    root._bokeh_timeout = Date.now() + 5000;\n",
       "    root._bokeh_failed_load = false;\n",
       "  }\n",
       "\n",
       "  var NB_LOAD_WARNING = {'data': {'text/html':\n",
       "     \"<div style='background-color: #fdd'>\\n\"+\n",
       "     \"<p>\\n\"+\n",
       "     \"BokehJS does not appear to have successfully loaded. If loading BokehJS from CDN, this \\n\"+\n",
       "     \"may be due to a slow or bad network connection. Possible fixes:\\n\"+\n",
       "     \"</p>\\n\"+\n",
       "     \"<ul>\\n\"+\n",
       "     \"<li>re-rerun `output_notebook()` to attempt to load from CDN again, or</li>\\n\"+\n",
       "     \"<li>use INLINE resources instead, as so:</li>\\n\"+\n",
       "     \"</ul>\\n\"+\n",
       "     \"<code>\\n\"+\n",
       "     \"from bokeh.resources import INLINE\\n\"+\n",
       "     \"output_notebook(resources=INLINE)\\n\"+\n",
       "     \"</code>\\n\"+\n",
       "     \"</div>\"}};\n",
       "\n",
       "  function display_loaded() {\n",
       "    var el = document.getElementById(\"2194\");\n",
       "    if (el != null) {\n",
       "      el.textContent = \"BokehJS is loading...\";\n",
       "    }\n",
       "    if (root.Bokeh !== undefined) {\n",
       "      if (el != null) {\n",
       "        el.textContent = \"BokehJS \" + root.Bokeh.version + \" successfully loaded.\";\n",
       "      }\n",
       "    } else if (Date.now() < root._bokeh_timeout) {\n",
       "      setTimeout(display_loaded, 100)\n",
       "    }\n",
       "  }\n",
       "\n",
       "\n",
       "  function run_callbacks() {\n",
       "    try {\n",
       "      root._bokeh_onload_callbacks.forEach(function(callback) {\n",
       "        if (callback != null)\n",
       "          callback();\n",
       "      });\n",
       "    } finally {\n",
       "      delete root._bokeh_onload_callbacks\n",
       "    }\n",
       "    console.debug(\"Bokeh: all callbacks have finished\");\n",
       "  }\n",
       "\n",
       "  function load_libs(css_urls, js_urls, callback) {\n",
       "    if (css_urls == null) css_urls = [];\n",
       "    if (js_urls == null) js_urls = [];\n",
       "\n",
       "    root._bokeh_onload_callbacks.push(callback);\n",
       "    if (root._bokeh_is_loading > 0) {\n",
       "      console.debug(\"Bokeh: BokehJS is being loaded, scheduling callback at\", now());\n",
       "      return null;\n",
       "    }\n",
       "    if (js_urls == null || js_urls.length === 0) {\n",
       "      run_callbacks();\n",
       "      return null;\n",
       "    }\n",
       "    console.debug(\"Bokeh: BokehJS not loaded, scheduling load and callback at\", now());\n",
       "    root._bokeh_is_loading = css_urls.length + js_urls.length;\n",
       "\n",
       "    function on_load() {\n",
       "      root._bokeh_is_loading--;\n",
       "      if (root._bokeh_is_loading === 0) {\n",
       "        console.debug(\"Bokeh: all BokehJS libraries/stylesheets loaded\");\n",
       "        run_callbacks()\n",
       "      }\n",
       "    }\n",
       "\n",
       "    function on_error(url) {\n",
       "      console.error(\"failed to load \" + url);\n",
       "    }\n",
       "\n",
       "    for (let i = 0; i < css_urls.length; i++) {\n",
       "      const url = css_urls[i];\n",
       "      const element = document.createElement(\"link\");\n",
       "      element.onload = on_load;\n",
       "      element.onerror = on_error.bind(null, url);\n",
       "      element.rel = \"stylesheet\";\n",
       "      element.type = \"text/css\";\n",
       "      element.href = url;\n",
       "      console.debug(\"Bokeh: injecting link tag for BokehJS stylesheet: \", url);\n",
       "      document.body.appendChild(element);\n",
       "    }\n",
       "\n",
       "    const hashes = {\"https://cdn.bokeh.org/bokeh/release/bokeh-2.3.3.min.js\": \"dM3QQsP+wXdHg42wTqW85BjZQdLNNIXqlPw/BgKoExPmTG7ZLML4EGqLMfqHT6ON\", \"https://cdn.bokeh.org/bokeh/release/bokeh-tables-2.3.3.min.js\": \"8x57I4YuIfu8XyZfFo0XVr2WAT8EK4rh/uDe3wF7YuW2FNUSNEpJbsPaB1nJ2fz2\", \"https://cdn.bokeh.org/bokeh/release/bokeh-widgets-2.3.3.min.js\": \"3QTqdz9LyAm2i0sG5XTePsHec3UHWwVsrOL68SYRoAXsafvfAyqtQ+h440+qIBhS\"};\n",
       "\n",
       "    for (let i = 0; i < js_urls.length; i++) {\n",
       "      const url = js_urls[i];\n",
       "      const element = document.createElement('script');\n",
       "      element.onload = on_load;\n",
       "      element.onerror = on_error.bind(null, url);\n",
       "      element.async = false;\n",
       "      element.src = url;\n",
       "      if (url in hashes) {\n",
       "        element.crossOrigin = \"anonymous\";\n",
       "        element.integrity = \"sha384-\" + hashes[url];\n",
       "      }\n",
       "      console.debug(\"Bokeh: injecting script tag for BokehJS library: \", url);\n",
       "      document.head.appendChild(element);\n",
       "    }\n",
       "  };\n",
       "\n",
       "  function inject_raw_css(css) {\n",
       "    const element = document.createElement(\"style\");\n",
       "    element.appendChild(document.createTextNode(css));\n",
       "    document.body.appendChild(element);\n",
       "  }\n",
       "\n",
       "  \n",
       "  var js_urls = [\"https://cdn.bokeh.org/bokeh/release/bokeh-2.3.3.min.js\", \"https://cdn.bokeh.org/bokeh/release/bokeh-widgets-2.3.3.min.js\", \"https://cdn.bokeh.org/bokeh/release/bokeh-tables-2.3.3.min.js\"];\n",
       "  var css_urls = [];\n",
       "  \n",
       "\n",
       "  var inline_js = [\n",
       "    function(Bokeh) {\n",
       "      Bokeh.set_log_level(\"info\");\n",
       "    },\n",
       "    function(Bokeh) {\n",
       "    \n",
       "    \n",
       "    }\n",
       "  ];\n",
       "\n",
       "  function run_inline_js() {\n",
       "    \n",
       "    if (root.Bokeh !== undefined || force === true) {\n",
       "      \n",
       "    for (var i = 0; i < inline_js.length; i++) {\n",
       "      inline_js[i].call(root, root.Bokeh);\n",
       "    }\n",
       "    if (force === true) {\n",
       "        display_loaded();\n",
       "      }} else if (Date.now() < root._bokeh_timeout) {\n",
       "      setTimeout(run_inline_js, 100);\n",
       "    } else if (!root._bokeh_failed_load) {\n",
       "      console.log(\"Bokeh: BokehJS failed to load within specified timeout.\");\n",
       "      root._bokeh_failed_load = true;\n",
       "    } else if (force !== true) {\n",
       "      var cell = $(document.getElementById(\"2194\")).parents('.cell').data().cell;\n",
       "      cell.output_area.append_execute_result(NB_LOAD_WARNING)\n",
       "    }\n",
       "\n",
       "  }\n",
       "\n",
       "  if (root._bokeh_is_loading === 0) {\n",
       "    console.debug(\"Bokeh: BokehJS loaded, going straight to plotting\");\n",
       "    run_inline_js();\n",
       "  } else {\n",
       "    load_libs(css_urls, js_urls, function() {\n",
       "      console.debug(\"Bokeh: BokehJS plotting callback run at\", now());\n",
       "      run_inline_js();\n",
       "    });\n",
       "  }\n",
       "}(window));"
      ],
      "application/vnd.bokehjs_load.v0+json": "\n(function(root) {\n  function now() {\n    return new Date();\n  }\n\n  var force = true;\n\n  if (typeof root._bokeh_onload_callbacks === \"undefined\" || force === true) {\n    root._bokeh_onload_callbacks = [];\n    root._bokeh_is_loading = undefined;\n  }\n\n  \n\n  \n  if (typeof (root._bokeh_timeout) === \"undefined\" || force === true) {\n    root._bokeh_timeout = Date.now() + 5000;\n    root._bokeh_failed_load = false;\n  }\n\n  var NB_LOAD_WARNING = {'data': {'text/html':\n     \"<div style='background-color: #fdd'>\\n\"+\n     \"<p>\\n\"+\n     \"BokehJS does not appear to have successfully loaded. If loading BokehJS from CDN, this \\n\"+\n     \"may be due to a slow or bad network connection. Possible fixes:\\n\"+\n     \"</p>\\n\"+\n     \"<ul>\\n\"+\n     \"<li>re-rerun `output_notebook()` to attempt to load from CDN again, or</li>\\n\"+\n     \"<li>use INLINE resources instead, as so:</li>\\n\"+\n     \"</ul>\\n\"+\n     \"<code>\\n\"+\n     \"from bokeh.resources import INLINE\\n\"+\n     \"output_notebook(resources=INLINE)\\n\"+\n     \"</code>\\n\"+\n     \"</div>\"}};\n\n  function display_loaded() {\n    var el = document.getElementById(\"2194\");\n    if (el != null) {\n      el.textContent = \"BokehJS is loading...\";\n    }\n    if (root.Bokeh !== undefined) {\n      if (el != null) {\n        el.textContent = \"BokehJS \" + root.Bokeh.version + \" successfully loaded.\";\n      }\n    } else if (Date.now() < root._bokeh_timeout) {\n      setTimeout(display_loaded, 100)\n    }\n  }\n\n\n  function run_callbacks() {\n    try {\n      root._bokeh_onload_callbacks.forEach(function(callback) {\n        if (callback != null)\n          callback();\n      });\n    } finally {\n      delete root._bokeh_onload_callbacks\n    }\n    console.debug(\"Bokeh: all callbacks have finished\");\n  }\n\n  function load_libs(css_urls, js_urls, callback) {\n    if (css_urls == null) css_urls = [];\n    if (js_urls == null) js_urls = [];\n\n    root._bokeh_onload_callbacks.push(callback);\n    if (root._bokeh_is_loading > 0) {\n      console.debug(\"Bokeh: BokehJS is being loaded, scheduling callback at\", now());\n      return null;\n    }\n    if (js_urls == null || js_urls.length === 0) {\n      run_callbacks();\n      return null;\n    }\n    console.debug(\"Bokeh: BokehJS not loaded, scheduling load and callback at\", now());\n    root._bokeh_is_loading = css_urls.length + js_urls.length;\n\n    function on_load() {\n      root._bokeh_is_loading--;\n      if (root._bokeh_is_loading === 0) {\n        console.debug(\"Bokeh: all BokehJS libraries/stylesheets loaded\");\n        run_callbacks()\n      }\n    }\n\n    function on_error(url) {\n      console.error(\"failed to load \" + url);\n    }\n\n    for (let i = 0; i < css_urls.length; i++) {\n      const url = css_urls[i];\n      const element = document.createElement(\"link\");\n      element.onload = on_load;\n      element.onerror = on_error.bind(null, url);\n      element.rel = \"stylesheet\";\n      element.type = \"text/css\";\n      element.href = url;\n      console.debug(\"Bokeh: injecting link tag for BokehJS stylesheet: \", url);\n      document.body.appendChild(element);\n    }\n\n    const hashes = {\"https://cdn.bokeh.org/bokeh/release/bokeh-2.3.3.min.js\": \"dM3QQsP+wXdHg42wTqW85BjZQdLNNIXqlPw/BgKoExPmTG7ZLML4EGqLMfqHT6ON\", \"https://cdn.bokeh.org/bokeh/release/bokeh-tables-2.3.3.min.js\": \"8x57I4YuIfu8XyZfFo0XVr2WAT8EK4rh/uDe3wF7YuW2FNUSNEpJbsPaB1nJ2fz2\", \"https://cdn.bokeh.org/bokeh/release/bokeh-widgets-2.3.3.min.js\": \"3QTqdz9LyAm2i0sG5XTePsHec3UHWwVsrOL68SYRoAXsafvfAyqtQ+h440+qIBhS\"};\n\n    for (let i = 0; i < js_urls.length; i++) {\n      const url = js_urls[i];\n      const element = document.createElement('script');\n      element.onload = on_load;\n      element.onerror = on_error.bind(null, url);\n      element.async = false;\n      element.src = url;\n      if (url in hashes) {\n        element.crossOrigin = \"anonymous\";\n        element.integrity = \"sha384-\" + hashes[url];\n      }\n      console.debug(\"Bokeh: injecting script tag for BokehJS library: \", url);\n      document.head.appendChild(element);\n    }\n  };\n\n  function inject_raw_css(css) {\n    const element = document.createElement(\"style\");\n    element.appendChild(document.createTextNode(css));\n    document.body.appendChild(element);\n  }\n\n  \n  var js_urls = [\"https://cdn.bokeh.org/bokeh/release/bokeh-2.3.3.min.js\", \"https://cdn.bokeh.org/bokeh/release/bokeh-widgets-2.3.3.min.js\", \"https://cdn.bokeh.org/bokeh/release/bokeh-tables-2.3.3.min.js\"];\n  var css_urls = [];\n  \n\n  var inline_js = [\n    function(Bokeh) {\n      Bokeh.set_log_level(\"info\");\n    },\n    function(Bokeh) {\n    \n    \n    }\n  ];\n\n  function run_inline_js() {\n    \n    if (root.Bokeh !== undefined || force === true) {\n      \n    for (var i = 0; i < inline_js.length; i++) {\n      inline_js[i].call(root, root.Bokeh);\n    }\n    if (force === true) {\n        display_loaded();\n      }} else if (Date.now() < root._bokeh_timeout) {\n      setTimeout(run_inline_js, 100);\n    } else if (!root._bokeh_failed_load) {\n      console.log(\"Bokeh: BokehJS failed to load within specified timeout.\");\n      root._bokeh_failed_load = true;\n    } else if (force !== true) {\n      var cell = $(document.getElementById(\"2194\")).parents('.cell').data().cell;\n      cell.output_area.append_execute_result(NB_LOAD_WARNING)\n    }\n\n  }\n\n  if (root._bokeh_is_loading === 0) {\n    console.debug(\"Bokeh: BokehJS loaded, going straight to plotting\");\n    run_inline_js();\n  } else {\n    load_libs(css_urls, js_urls, function() {\n      console.debug(\"Bokeh: BokehJS plotting callback run at\", now());\n      run_inline_js();\n    });\n  }\n}(window));"
     },
     "metadata": {},
     "output_type": "display_data"
    }
   ],
   "source": [
    "import numpy as np\n",
    "import pandas as pd\n",
    "import scipy.optimize\n",
    "import bokeh.plotting\n",
    "import bokeh.io\n",
    "bokeh.io.output_notebook()"
   ]
  },
  {
   "cell_type": "code",
   "execution_count": 13,
   "id": "0b22032a",
   "metadata": {},
   "outputs": [],
   "source": [
    "def agonist_only_p_active_theory(c_agonist, log_Kd_active, log_Kd_inactive, beta_deltaE):\n",
    "    \"theoretical curve for mglur5 active probability\"\n",
    "\n",
    "    Kd_active = 10**(log_Kd_active)\n",
    "    Kd_inactive = 10**(log_Kd_inactive)\n",
    "    a = (1 + c_agonist/Kd_active)\n",
    "\n",
    "    b = (1 + c_agonist/Kd_inactive)\n",
    "\n",
    "    return a/(a+b*np.exp(-beta_deltaE))\n",
    "\n",
    "def resid(param, c, p_active):\n",
    "    return p_active - agonist_only_p_active_theory(c, *param)\n",
    "\n"
   ]
  },
  {
   "cell_type": "code",
   "execution_count": 14,
   "id": "0240438c",
   "metadata": {},
   "outputs": [
    {
     "data": {
      "text/html": [
       "\n",
       "\n",
       "\n",
       "\n",
       "\n",
       "\n",
       "  <div class=\"bk-root\" id=\"8c8ac384-56ff-4e26-abce-3fa2e69f351f\" data-root-id=\"2195\"></div>\n"
      ]
     },
     "metadata": {},
     "output_type": "display_data"
    },
    {
     "data": {
      "application/javascript": [
       "(function(root) {\n",
       "  function embed_document(root) {\n",
       "    \n",
       "  var docs_json = {\"c480c079-1866-4314-972a-f01887774327\":{\"defs\":[],\"roots\":{\"references\":[{\"attributes\":{\"below\":[{\"id\":\"2204\"}],\"center\":[{\"id\":\"2207\"},{\"id\":\"2211\"},{\"id\":\"2242\"}],\"left\":[{\"id\":\"2208\"}],\"renderers\":[{\"id\":\"2229\"},{\"id\":\"2247\"},{\"id\":\"2266\"},{\"id\":\"2287\"},{\"id\":\"2310\"},{\"id\":\"2335\"},{\"id\":\"2362\"},{\"id\":\"2391\"},{\"id\":\"2422\"}],\"title\":{\"id\":\"2232\"},\"toolbar\":{\"id\":\"2219\"},\"x_range\":{\"id\":\"2196\"},\"x_scale\":{\"id\":\"2200\"},\"y_range\":{\"id\":\"2198\"},\"y_scale\":{\"id\":\"2202\"}},\"id\":\"2195\",\"subtype\":\"Figure\",\"type\":\"Plot\"},{\"attributes\":{},\"id\":\"2200\",\"type\":\"LogScale\"},{\"attributes\":{},\"id\":\"2260\",\"type\":\"Selection\"},{\"attributes\":{},\"id\":\"2261\",\"type\":\"UnionRenderers\"},{\"attributes\":{},\"id\":\"2213\",\"type\":\"WheelZoomTool\"},{\"attributes\":{},\"id\":\"2329\",\"type\":\"Selection\"},{\"attributes\":{\"overlay\":{\"id\":\"2218\"}},\"id\":\"2214\",\"type\":\"BoxZoomTool\"},{\"attributes\":{},\"id\":\"2330\",\"type\":\"UnionRenderers\"},{\"attributes\":{\"data\":{\"x\":{\"__ndarray__\":\"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\",\"dtype\":\"float64\",\"order\":\"little\",\"shape\":[200]},\"y\":{\"__ndarray__\":\"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\",\"dtype\":\"float64\",\"order\":\"little\",\"shape\":[200]}},\"selected\":{\"id\":\"2281\"},\"selection_policy\":{\"id\":\"2282\"}},\"id\":\"2263\",\"type\":\"ColumnDataSource\"},{\"attributes\":{\"bottom_units\":\"screen\",\"fill_alpha\":0.5,\"fill_color\":\"lightgrey\",\"left_units\":\"screen\",\"level\":\"overlay\",\"line_alpha\":1.0,\"line_color\":\"black\",\"line_dash\":[4,4],\"line_width\":2,\"right_units\":\"screen\",\"syncable\":false,\"top_units\":\"screen\"},\"id\":\"2218\",\"type\":\"BoxAnnotation\"},{\"attributes\":{},\"id\":\"2212\",\"type\":\"PanTool\"},{\"attributes\":{\"line_color\":\"#3B0F6F\",\"x\":{\"field\":\"x\"},\"y\":{\"field\":\"y\"}},\"id\":\"2264\",\"type\":\"Line\"},{\"attributes\":{\"label\":{\"value\":\"delta E=-3.25\"},\"renderers\":[{\"id\":\"2362\"}]},\"id\":\"2387\",\"type\":\"LegendItem\"},{\"attributes\":{\"line_alpha\":0.1,\"line_color\":\"#3B0F6F\",\"x\":{\"field\":\"x\"},\"y\":{\"field\":\"y\"}},\"id\":\"2265\",\"type\":\"Line\"},{\"attributes\":{},\"id\":\"2416\",\"type\":\"Selection\"},{\"attributes\":{\"source\":{\"id\":\"2263\"}},\"id\":\"2267\",\"type\":\"CDSView\"},{\"attributes\":{\"source\":{\"id\":\"2388\"}},\"id\":\"2392\",\"type\":\"CDSView\"},{\"attributes\":{\"label\":{\"value\":\"delta E=-3.625\"},\"renderers\":[{\"id\":\"2391\"}]},\"id\":\"2418\",\"type\":\"LegendItem\"},{\"attributes\":{},\"id\":\"2216\",\"type\":\"ResetTool\"},{\"attributes\":{\"label\":{\"value\":\"delta E=-1.75\"},\"renderers\":[{\"id\":\"2266\"}]},\"id\":\"2283\",\"type\":\"LegendItem\"},{\"attributes\":{},\"id\":\"2217\",\"type\":\"HelpTool\"},{\"attributes\":{\"line_color\":\"#000003\",\"x\":{\"field\":\"x\"},\"y\":{\"field\":\"y\"}},\"id\":\"2227\",\"type\":\"Line\"},{\"attributes\":{\"axis\":{\"id\":\"2204\"},\"ticker\":null},\"id\":\"2207\",\"type\":\"Grid\"},{\"attributes\":{},\"id\":\"2281\",\"type\":\"Selection\"},{\"attributes\":{},\"id\":\"2215\",\"type\":\"SaveTool\"},{\"attributes\":{},\"id\":\"2282\",\"type\":\"UnionRenderers\"},{\"attributes\":{\"data_source\":{\"id\":\"2226\"},\"glyph\":{\"id\":\"2227\"},\"hover_glyph\":null,\"muted_glyph\":null,\"nonselection_glyph\":{\"id\":\"2228\"},\"view\":{\"id\":\"2230\"}},\"id\":\"2229\",\"type\":\"GlyphRenderer\"},{\"attributes\":{\"data_source\":{\"id\":\"2359\"},\"glyph\":{\"id\":\"2360\"},\"hover_glyph\":null,\"muted_glyph\":null,\"nonselection_glyph\":{\"id\":\"2361\"},\"view\":{\"id\":\"2363\"}},\"id\":\"2362\",\"type\":\"GlyphRenderer\"},{\"attributes\":{\"label\":{\"value\":\"delta E=-2.875\"},\"renderers\":[{\"id\":\"2335\"}]},\"id\":\"2358\",\"type\":\"LegendItem\"},{\"attributes\":{\"data\":{\"x\":{\"__ndarray__\":\"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\",\"dtype\":\"float64\",\"order\":\"little\",\"shape\":[200]},\"y\":{\"__ndarray__\":\"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\",\"dtype\":\"float64\",\"order\":\"little\",\"shape\":[200]}},\"selected\":{\"id\":\"2356\"},\"selection_policy\":{\"id\":\"2357\"}},\"id\":\"2332\",\"type\":\"ColumnDataSource\"},{\"attributes\":{\"line_color\":\"#B53679\",\"x\":{\"field\":\"x\"},\"y\":{\"field\":\"y\"}},\"id\":\"2333\",\"type\":\"Line\"},{\"attributes\":{\"axis_label\":\"active_probability\",\"formatter\":{\"id\":\"2233\"},\"major_label_policy\":{\"id\":\"2234\"},\"ticker\":{\"id\":\"2209\"}},\"id\":\"2208\",\"type\":\"LinearAxis\"},{\"attributes\":{\"line_alpha\":0.1,\"line_color\":\"#B53679\",\"x\":{\"field\":\"x\"},\"y\":{\"field\":\"y\"}},\"id\":\"2334\",\"type\":\"Line\"},{\"attributes\":{\"source\":{\"id\":\"2332\"}},\"id\":\"2336\",\"type\":\"CDSView\"},{\"attributes\":{\"source\":{\"id\":\"2419\"}},\"id\":\"2423\",\"type\":\"CDSView\"},{\"attributes\":{},\"id\":\"2417\",\"type\":\"UnionRenderers\"},{\"attributes\":{},\"id\":\"2196\",\"type\":\"DataRange1d\"},{\"attributes\":{\"line_color\":\"#FD9F6C\",\"x\":{\"field\":\"x\"},\"y\":{\"field\":\"y\"}},\"id\":\"2420\",\"type\":\"Line\"},{\"attributes\":{\"data_source\":{\"id\":\"2284\"},\"glyph\":{\"id\":\"2285\"},\"hover_glyph\":null,\"muted_glyph\":null,\"nonselection_glyph\":{\"id\":\"2286\"},\"view\":{\"id\":\"2288\"}},\"id\":\"2287\",\"type\":\"GlyphRenderer\"},{\"attributes\":{},\"id\":\"2356\",\"type\":\"Selection\"},{\"attributes\":{},\"id\":\"2357\",\"type\":\"UnionRenderers\"},{\"attributes\":{\"data\":{\"x\":{\"__ndarray__\":\"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\",\"dtype\":\"float64\",\"order\":\"little\",\"shape\":[200]},\"y\":{\"__ndarray__\":\"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\",\"dtype\":\"float64\",\"order\":\"little\",\"shape\":[200]}},\"selected\":{\"id\":\"2304\"},\"selection_policy\":{\"id\":\"2305\"}},\"id\":\"2284\",\"type\":\"ColumnDataSource\"},{\"attributes\":{\"data\":{\"x\":{\"__ndarray__\":\"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\",\"dtype\":\"float64\",\"order\":\"little\",\"shape\":[200]},\"y\":{\"__ndarray__\":\"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\",\"dtype\":\"float64\",\"order\":\"little\",\"shape\":[200]}},\"selected\":{\"id\":\"2449\"},\"selection_policy\":{\"id\":\"2450\"}},\"id\":\"2419\",\"type\":\"ColumnDataSource\"},{\"attributes\":{\"line_color\":\"#63197F\",\"x\":{\"field\":\"x\"},\"y\":{\"field\":\"y\"}},\"id\":\"2285\",\"type\":\"Line\"},{\"attributes\":{\"line_alpha\":0.1,\"line_color\":\"#63197F\",\"x\":{\"field\":\"x\"},\"y\":{\"field\":\"y\"}},\"id\":\"2286\",\"type\":\"Line\"},{\"attributes\":{\"source\":{\"id\":\"2284\"}},\"id\":\"2288\",\"type\":\"CDSView\"},{\"attributes\":{\"label\":{\"value\":\"delta E=-2.125\"},\"renderers\":[{\"id\":\"2287\"}]},\"id\":\"2306\",\"type\":\"LegendItem\"},{\"attributes\":{\"label\":{\"value\":\"delta E=-1.0\"},\"renderers\":[{\"id\":\"2229\"}]},\"id\":\"2243\",\"type\":\"LegendItem\"},{\"attributes\":{},\"id\":\"2304\",\"type\":\"Selection\"},{\"attributes\":{},\"id\":\"2305\",\"type\":\"UnionRenderers\"},{\"attributes\":{\"active_multi\":null,\"tools\":[{\"id\":\"2212\"},{\"id\":\"2213\"},{\"id\":\"2214\"},{\"id\":\"2215\"},{\"id\":\"2216\"},{\"id\":\"2217\"}]},\"id\":\"2219\",\"type\":\"Toolbar\"},{\"attributes\":{\"data_source\":{\"id\":\"2419\"},\"glyph\":{\"id\":\"2420\"},\"hover_glyph\":null,\"muted_glyph\":null,\"nonselection_glyph\":{\"id\":\"2421\"},\"view\":{\"id\":\"2423\"}},\"id\":\"2422\",\"type\":\"GlyphRenderer\"},{\"attributes\":{\"items\":[{\"id\":\"2243\"},{\"id\":\"2262\"},{\"id\":\"2283\"},{\"id\":\"2306\"},{\"id\":\"2331\"},{\"id\":\"2358\"},{\"id\":\"2387\"},{\"id\":\"2418\"},{\"id\":\"2451\"}],\"location\":\"top_left\"},\"id\":\"2242\",\"type\":\"Legend\"},{\"attributes\":{},\"id\":\"2209\",\"type\":\"BasicTicker\"},{\"attributes\":{\"line_color\":\"#DD4968\",\"x\":{\"field\":\"x\"},\"y\":{\"field\":\"y\"}},\"id\":\"2360\",\"type\":\"Line\"},{\"attributes\":{\"line_color\":\"#F66E5B\",\"x\":{\"field\":\"x\"},\"y\":{\"field\":\"y\"}},\"id\":\"2389\",\"type\":\"Line\"},{\"attributes\":{\"data\":{\"x\":{\"__ndarray__\":\"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\",\"dtype\":\"float64\",\"order\":\"little\",\"shape\":[200]},\"y\":{\"__ndarray__\":\"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\",\"dtype\":\"float64\",\"order\":\"little\",\"shape\":[200]}},\"selected\":{\"id\":\"2385\"},\"selection_policy\":{\"id\":\"2386\"}},\"id\":\"2359\",\"type\":\"ColumnDataSource\"},{\"attributes\":{\"line_alpha\":0.1,\"line_color\":\"#000003\",\"x\":{\"field\":\"x\"},\"y\":{\"field\":\"y\"}},\"id\":\"2228\",\"type\":\"Line\"},{\"attributes\":{\"line_alpha\":0.1,\"line_color\":\"#FD9F6C\",\"x\":{\"field\":\"x\"},\"y\":{\"field\":\"y\"}},\"id\":\"2421\",\"type\":\"Line\"},{\"attributes\":{\"line_alpha\":0.1,\"line_color\":\"#DD4968\",\"x\":{\"field\":\"x\"},\"y\":{\"field\":\"y\"}},\"id\":\"2361\",\"type\":\"Line\"},{\"attributes\":{\"source\":{\"id\":\"2226\"}},\"id\":\"2230\",\"type\":\"CDSView\"},{\"attributes\":{\"source\":{\"id\":\"2359\"}},\"id\":\"2363\",\"type\":\"CDSView\"},{\"attributes\":{},\"id\":\"2202\",\"type\":\"LinearScale\"},{\"attributes\":{},\"id\":\"2450\",\"type\":\"UnionRenderers\"},{\"attributes\":{\"data\":{\"x\":{\"__ndarray__\":\"gnZJaMIlPD38Q2qgneA+PRVoEyeg70A9vPHspB6UQj0hhBRRZWFEPVxAJ7hoW0Y9+Xmzmn+GSD0IW3BzbOdKPdJ67ulng009BFFYJBYwUD3Qr+oHAcJRPaFf9d/melM9ilOZfY9eVT3tC0ePIHFXPSISP7smt1k9Sv8YnJ81XD3P6Ty1BPJePTaqrbsr+WA9k2WiN5eeYj3xqAje4WxkPSYfK3YCaGY9DaWeMlKUaD2nHtg8lvZqPcuFwC0KlG09KK0hxTU5cD1kIocuA8xxPXpllYThhXM90tXkuZpqdT2fakTTVn53PQqqWwelxXk9N4/SwIVFfD10lfeYdQN/PX7IfrG8AoE9/a8gsRWpgj1O80vkZHiEPQ9qOk6jdIY9M0/olCyiiD2rTQuSyAWLPbNYjdG1pI09+DVKilpCkD1HHS75CtaRPZUhTVnikJM9HXzqv6x2lT1I2YSJlIuXPbOvnH4r1Jk9cTGA23RVnD29byFR8BSfPWL3jgtTDKE9V027FJqzoj2SdIRn7oOkPdPJVURLgaY9xYH0xQ6wqD1r9dp3AxWrPYeXndpqta09YtW3doRLsD3ofg1rGOCxPWlhmWHpm7M9tKp9k8WCtT3muDq22Zi3PS+3nCW64rk9NMgu8WxlvD0Xv0TjdCa/PdIg6MzuFcE945nHZSS+wj2NTFprfo/EPbEogFz6jcY9nr8pyvi9yD0w2hrzRiTLPaTgPE4pxs09eRdSjbNU0D1p8FSHK+rRPZ3p+KD2ptM94u1zOOWO1T3+x5pdJqbXPczs+ABR8dk9aQ7uBm513D1G6e5UAzjfPS7llfiPH+E98dKcp7TI4j2oqnfzFJvkPauzvpqwmuY9gwbxperL6D3BeKEIkzPrPZDOuTHx1u09YSsC0edd8D2h5jVRRPTxPSV37BoKsvM9Ivuksgub9T0JJNyDerP3PZMWURXw//k9PpnQIXiF/D0qdbCrm0n/PTucpZE2KQE+kheU3UrTAj4Qz4gDsqYEPtLbGANupwY+htC1XeTZCD7oB0i950ILPiH5ZYrC5w0+O+SyRCFnED4io+PLYv4RPl3A9tIjvRM+YLLqBTmnFT5kSjgt1sAXPriVR2eXDho+ydnrRouVHD6DDB3tPVsfPh1WJpviMiE+LGoIC+fdIj7fCzyfVbIkPohXmJkytCY+bhXm9eXnKD78eeoVRVIrPvv3lV2d+C0+FLpQ619wMD47NZP6hggyPiN2nMxDyDM+Kh8hNm2zNT5CGutdOc43PhdogftGHTo+nR5Ye6elPD6yfcse6mw/PlDcKBiUPEE+NbFWM4noQj5LxkHK/71EPtsjSWL+wEY+LUzycu/1SD5wfmcXq2FLPqZjobCBCU4+zcrJx6N5UD4De3vgsBJSPgZFZAtq01M+7HkmR6i/VT6S1TIapNtXPqspptb+K1o+epUwxMy1XD6UvVVGoH5fPp6yvwtLRmE+TrjdWTHzYj7Kd0yIsMlkPpGFOWHRzWY+DmxN2QAEaT5Xg6DGGXFrPqXX4ohvGm4+DtsN3eyCcD47ItWA4BxyPjHW1pKW3nM+KynbPOrLdT6gIlBmFul3PggWYP2+Ono+rEyTJvvFfD4R6VhpYJB/PhoY/3gHUIE+ezH+gd/9gj5FrxDdZ9WEPsUKepqr2oY+g+5sLRoSiT71tnkokYCLPsTzt+tmK44+MlcOLjuMkD6LqdreFSeSPt7QfmbJ6ZM+vcIhGzPYlT4kDYZGkPaXPtUJXHSHSZo+CTWhpzLWnD4KR3WNKqKfPhgI/WLJWaE+/rUar5MIoz5CEkXMJeGkPv2LHRKN56Y+G9DIczsgqT5JCdpBEZCrPg9egd5nPK4+N1S+vY6VsD5mYcj9UDGyPhXb6IkC9bM+CQ3f5YLktT7NBxq/EQS4PkeESUBYWLo+VCN+THPmvD4/Sk64/rO/Piw70cyQY8E+iseX5E0Twz4OXqJZ6uzEPn4tOcx19MY+UpLbsGQuyT6cLasXmp/LPnPEomZyTc4+q5ASj+ee0D4RbdzgkTvSPiKbowBCANQ+OwD6oNnw1T6P7VPUmhHYPp+o2mUxZ9o+6tFQGr323D7rkorv3MXfPioolbldbeE+VdHbJQ4e4z7xaOOItfjkPg==\",\"dtype\":\"float64\",\"order\":\"little\",\"shape\":[200]},\"y\":{\"__ndarray__\":\"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\",\"dtype\":\"float64\",\"order\":\"little\",\"shape\":[200]}},\"selected\":{\"id\":\"2416\"},\"selection_policy\":{\"id\":\"2417\"}},\"id\":\"2388\",\"type\":\"ColumnDataSource\"},{\"attributes\":{\"num_minor_ticks\":10},\"id\":\"2205\",\"type\":\"LogTicker\"},{\"attributes\":{\"label\":{\"value\":\"delta E=-4.0\"},\"renderers\":[{\"id\":\"2422\"}]},\"id\":\"2451\",\"type\":\"LegendItem\"},{\"attributes\":{},\"id\":\"2232\",\"type\":\"Title\"},{\"attributes\":{\"data_source\":{\"id\":\"2307\"},\"glyph\":{\"id\":\"2308\"},\"hover_glyph\":null,\"muted_glyph\":null,\"nonselection_glyph\":{\"id\":\"2309\"},\"view\":{\"id\":\"2311\"}},\"id\":\"2310\",\"type\":\"GlyphRenderer\"},{\"attributes\":{},\"id\":\"2385\",\"type\":\"Selection\"},{\"attributes\":{\"data_source\":{\"id\":\"2332\"},\"glyph\":{\"id\":\"2333\"},\"hover_glyph\":null,\"muted_glyph\":null,\"nonselection_glyph\":{\"id\":\"2334\"},\"view\":{\"id\":\"2336\"}},\"id\":\"2335\",\"type\":\"GlyphRenderer\"},{\"attributes\":{},\"id\":\"2386\",\"type\":\"UnionRenderers\"},{\"attributes\":{\"data\":{\"x\":{\"__ndarray__\":\"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\",\"dtype\":\"float64\",\"order\":\"little\",\"shape\":[200]},\"y\":{\"__ndarray__\":\"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\",\"dtype\":\"float64\",\"order\":\"little\",\"shape\":[200]}},\"selected\":{\"id\":\"2329\"},\"selection_policy\":{\"id\":\"2330\"}},\"id\":\"2307\",\"type\":\"ColumnDataSource\"},{\"attributes\":{\"line_color\":\"#8C2980\",\"x\":{\"field\":\"x\"},\"y\":{\"field\":\"y\"}},\"id\":\"2308\",\"type\":\"Line\"},{\"attributes\":{\"line_alpha\":0.1,\"line_color\":\"#8C2980\",\"x\":{\"field\":\"x\"},\"y\":{\"field\":\"y\"}},\"id\":\"2309\",\"type\":\"Line\"},{\"attributes\":{},\"id\":\"2449\",\"type\":\"Selection\"},{\"attributes\":{\"source\":{\"id\":\"2307\"}},\"id\":\"2311\",\"type\":\"CDSView\"},{\"attributes\":{\"line_alpha\":0.1,\"line_color\":\"#F66E5B\",\"x\":{\"field\":\"x\"},\"y\":{\"field\":\"y\"}},\"id\":\"2390\",\"type\":\"Line\"},{\"attributes\":{\"label\":{\"value\":\"delta E=-2.5\"},\"renderers\":[{\"id\":\"2310\"}]},\"id\":\"2331\",\"type\":\"LegendItem\"},{\"attributes\":{\"data_source\":{\"id\":\"2388\"},\"glyph\":{\"id\":\"2389\"},\"hover_glyph\":null,\"muted_glyph\":null,\"nonselection_glyph\":{\"id\":\"2390\"},\"view\":{\"id\":\"2392\"}},\"id\":\"2391\",\"type\":\"GlyphRenderer\"},{\"attributes\":{},\"id\":\"2233\",\"type\":\"BasicTickFormatter\"},{\"attributes\":{},\"id\":\"2234\",\"type\":\"AllLabels\"},{\"attributes\":{\"ticker\":null},\"id\":\"2236\",\"type\":\"LogTickFormatter\"},{\"attributes\":{},\"id\":\"2237\",\"type\":\"AllLabels\"},{\"attributes\":{},\"id\":\"2240\",\"type\":\"Selection\"},{\"attributes\":{},\"id\":\"2241\",\"type\":\"UnionRenderers\"},{\"attributes\":{\"data\":{\"x\":{\"__ndarray__\":\"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\",\"dtype\":\"float64\",\"order\":\"little\",\"shape\":[200]},\"y\":{\"__ndarray__\":\"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\",\"dtype\":\"float64\",\"order\":\"little\",\"shape\":[200]}},\"selected\":{\"id\":\"2240\"},\"selection_policy\":{\"id\":\"2241\"}},\"id\":\"2226\",\"type\":\"ColumnDataSource\"},{\"attributes\":{\"axis_label\":\"[Ligands]M\",\"formatter\":{\"id\":\"2236\"},\"major_label_policy\":{\"id\":\"2237\"},\"ticker\":{\"id\":\"2205\"}},\"id\":\"2204\",\"type\":\"LogAxis\"},{\"attributes\":{\"data_source\":{\"id\":\"2244\"},\"glyph\":{\"id\":\"2245\"},\"hover_glyph\":null,\"muted_glyph\":null,\"nonselection_glyph\":{\"id\":\"2246\"},\"view\":{\"id\":\"2248\"}},\"id\":\"2247\",\"type\":\"GlyphRenderer\"},{\"attributes\":{},\"id\":\"2198\",\"type\":\"DataRange1d\"},{\"attributes\":{\"data_source\":{\"id\":\"2263\"},\"glyph\":{\"id\":\"2264\"},\"hover_glyph\":null,\"muted_glyph\":null,\"nonselection_glyph\":{\"id\":\"2265\"},\"view\":{\"id\":\"2267\"}},\"id\":\"2266\",\"type\":\"GlyphRenderer\"},{\"attributes\":{\"data\":{\"x\":{\"__ndarray__\":\"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\",\"dtype\":\"float64\",\"order\":\"little\",\"shape\":[200]},\"y\":{\"__ndarray__\":\"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\",\"dtype\":\"float64\",\"order\":\"little\",\"shape\":[200]}},\"selected\":{\"id\":\"2260\"},\"selection_policy\":{\"id\":\"2261\"}},\"id\":\"2244\",\"type\":\"ColumnDataSource\"},{\"attributes\":{\"line_color\":\"#140D35\",\"x\":{\"field\":\"x\"},\"y\":{\"field\":\"y\"}},\"id\":\"2245\",\"type\":\"Line\"},{\"attributes\":{\"line_alpha\":0.1,\"line_color\":\"#140D35\",\"x\":{\"field\":\"x\"},\"y\":{\"field\":\"y\"}},\"id\":\"2246\",\"type\":\"Line\"},{\"attributes\":{\"source\":{\"id\":\"2244\"}},\"id\":\"2248\",\"type\":\"CDSView\"},{\"attributes\":{\"label\":{\"value\":\"delta E=-1.375\"},\"renderers\":[{\"id\":\"2247\"}]},\"id\":\"2262\",\"type\":\"LegendItem\"},{\"attributes\":{\"axis\":{\"id\":\"2208\"},\"dimension\":1,\"ticker\":null},\"id\":\"2211\",\"type\":\"Grid\"}],\"root_ids\":[\"2195\"]},\"title\":\"Bokeh Application\",\"version\":\"2.3.3\"}};\n",
       "  var render_items = [{\"docid\":\"c480c079-1866-4314-972a-f01887774327\",\"root_ids\":[\"2195\"],\"roots\":{\"2195\":\"8c8ac384-56ff-4e26-abce-3fa2e69f351f\"}}];\n",
       "  root.Bokeh.embed.embed_items_notebook(docs_json, render_items);\n",
       "\n",
       "  }\n",
       "  if (root.Bokeh !== undefined) {\n",
       "    embed_document(root);\n",
       "  } else {\n",
       "    var attempts = 0;\n",
       "    var timer = setInterval(function(root) {\n",
       "      if (root.Bokeh !== undefined) {\n",
       "        clearInterval(timer);\n",
       "        embed_document(root);\n",
       "      } else {\n",
       "        attempts++;\n",
       "        if (attempts > 100) {\n",
       "          clearInterval(timer);\n",
       "          console.log(\"Bokeh: ERROR: Unable to run BokehJS code because BokehJS library is missing\");\n",
       "        }\n",
       "      }\n",
       "    }, 10, root)\n",
       "  }\n",
       "})(window);"
      ],
      "application/vnd.bokehjs_exec.v0+json": ""
     },
     "metadata": {
      "application/vnd.bokehjs_exec.v0+json": {
       "id": "2195"
      }
     },
     "output_type": "display_data"
    }
   ],
   "source": [
    "#set up plot\n",
    "from bokeh.plotting import curdoc \n",
    "curdoc().clear()\n",
    "p = bokeh.plotting.figure(plot_height=600,\n",
    "                         plot_width=600,\n",
    "                         x_axis_label='[Ligands]M',\n",
    "                          y_axis_label='active_probability',\n",
    "                          x_axis_type='log')\n",
    "\n",
    "colors=bokeh.palettes.Magma[11]\n",
    "\n",
    "ligand_smooth=np.logspace(-13,-5,200)\n",
    "\n",
    "for i,deltaE in enumerate(np.linspace(-1,-4,9)):    \n",
    "    p.line(ligand_smooth, agonist_only_p_active_theory(ligand_smooth, -10.9, -9.9, deltaE), color=colors[i],legend_label='delta E='+str(deltaE))\n",
    "\n",
    "p.legend.location = \"top_left\"\n",
    "\n",
    "bokeh.io.show(p);"
   ]
  },
  {
   "cell_type": "code",
   "execution_count": 15,
   "id": "e38d6550",
   "metadata": {},
   "outputs": [
    {
     "data": {
      "text/html": [
       "\n",
       "\n",
       "\n",
       "\n",
       "\n",
       "\n",
       "  <div class=\"bk-root\" id=\"9062ddef-78d5-4d03-890b-ebdf577d3c6d\" data-root-id=\"2614\"></div>\n"
      ]
     },
     "metadata": {},
     "output_type": "display_data"
    },
    {
     "data": {
      "application/javascript": [
       "(function(root) {\n",
       "  function embed_document(root) {\n",
       "    \n",
       "  var docs_json = {\"da442adb-625f-4723-ae0b-6fde6c8a6dd5\":{\"defs\":[],\"roots\":{\"references\":[{\"attributes\":{\"below\":[{\"id\":\"2623\"}],\"center\":[{\"id\":\"2626\"},{\"id\":\"2630\"},{\"id\":\"2661\"}],\"left\":[{\"id\":\"2627\"}],\"renderers\":[{\"id\":\"2648\"},{\"id\":\"2666\"},{\"id\":\"2685\"},{\"id\":\"2706\"},{\"id\":\"2729\"},{\"id\":\"2754\"},{\"id\":\"2781\"},{\"id\":\"2810\"},{\"id\":\"2841\"}],\"title\":{\"id\":\"2651\"},\"toolbar\":{\"id\":\"2638\"},\"x_range\":{\"id\":\"2615\"},\"x_scale\":{\"id\":\"2619\"},\"y_range\":{\"id\":\"2617\"},\"y_scale\":{\"id\":\"2621\"}},\"id\":\"2614\",\"subtype\":\"Figure\",\"type\":\"Plot\"},{\"attributes\":{},\"id\":\"2656\",\"type\":\"AllLabels\"},{\"attributes\":{\"data_source\":{\"id\":\"2807\"},\"glyph\":{\"id\":\"2808\"},\"hover_glyph\":null,\"muted_glyph\":null,\"nonselection_glyph\":{\"id\":\"2809\"},\"view\":{\"id\":\"2811\"}},\"id\":\"2810\",\"type\":\"GlyphRenderer\"},{\"attributes\":{\"active_multi\":null,\"tools\":[{\"id\":\"2631\"},{\"id\":\"2632\"},{\"id\":\"2633\"},{\"id\":\"2634\"},{\"id\":\"2635\"},{\"id\":\"2636\"}]},\"id\":\"2638\",\"type\":\"Toolbar\"},{\"attributes\":{\"source\":{\"id\":\"2682\"}},\"id\":\"2686\",\"type\":\"CDSView\"},{\"attributes\":{\"line_color\":\"#000003\",\"x\":{\"field\":\"x\"},\"y\":{\"field\":\"y\"}},\"id\":\"2646\",\"type\":\"Line\"},{\"attributes\":{},\"id\":\"2679\",\"type\":\"Selection\"},{\"attributes\":{\"items\":[{\"id\":\"2662\"},{\"id\":\"2681\"},{\"id\":\"2702\"},{\"id\":\"2725\"},{\"id\":\"2750\"},{\"id\":\"2777\"},{\"id\":\"2806\"},{\"id\":\"2837\"},{\"id\":\"2870\"}],\"location\":\"top_left\"},\"id\":\"2661\",\"type\":\"Legend\"},{\"attributes\":{\"data_source\":{\"id\":\"2838\"},\"glyph\":{\"id\":\"2839\"},\"hover_glyph\":null,\"muted_glyph\":null,\"nonselection_glyph\":{\"id\":\"2840\"},\"view\":{\"id\":\"2842\"}},\"id\":\"2841\",\"type\":\"GlyphRenderer\"},{\"attributes\":{},\"id\":\"2651\",\"type\":\"Title\"},{\"attributes\":{\"data_source\":{\"id\":\"2663\"},\"glyph\":{\"id\":\"2664\"},\"hover_glyph\":null,\"muted_glyph\":null,\"nonselection_glyph\":{\"id\":\"2665\"},\"view\":{\"id\":\"2667\"}},\"id\":\"2666\",\"type\":\"GlyphRenderer\"},{\"attributes\":{\"label\":{\"value\":\"Kd_inactive=-8.25\"},\"renderers\":[{\"id\":\"2810\"}]},\"id\":\"2837\",\"type\":\"LegendItem\"},{\"attributes\":{\"line_alpha\":0.1,\"line_color\":\"#3B0F6F\",\"x\":{\"field\":\"x\"},\"y\":{\"field\":\"y\"}},\"id\":\"2684\",\"type\":\"Line\"},{\"attributes\":{\"data\":{\"x\":{\"__ndarray__\":\"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\",\"dtype\":\"float64\",\"order\":\"little\",\"shape\":[200]},\"y\":{\"__ndarray__\":\"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\",\"dtype\":\"float64\",\"order\":\"little\",\"shape\":[200]}},\"selected\":{\"id\":\"2804\"},\"selection_policy\":{\"id\":\"2805\"}},\"id\":\"2778\",\"type\":\"ColumnDataSource\"},{\"attributes\":{\"line_color\":\"#140D35\",\"x\":{\"field\":\"x\"},\"y\":{\"field\":\"y\"}},\"id\":\"2664\",\"type\":\"Line\"},{\"attributes\":{},\"id\":\"2869\",\"type\":\"UnionRenderers\"},{\"attributes\":{\"source\":{\"id\":\"2778\"}},\"id\":\"2782\",\"type\":\"CDSView\"},{\"attributes\":{\"label\":{\"value\":\"Kd_inactive=-8.0\"},\"renderers\":[{\"id\":\"2841\"}]},\"id\":\"2870\",\"type\":\"LegendItem\"},{\"attributes\":{\"data\":{\"x\":{\"__ndarray__\":\"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\",\"dtype\":\"float64\",\"order\":\"little\",\"shape\":[200]},\"y\":{\"__ndarray__\":\"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\",\"dtype\":\"float64\",\"order\":\"little\",\"shape\":[200]}},\"selected\":{\"id\":\"2679\"},\"selection_policy\":{\"id\":\"2680\"}},\"id\":\"2663\",\"type\":\"ColumnDataSource\"},{\"attributes\":{\"line_alpha\":0.1,\"line_color\":\"#140D35\",\"x\":{\"field\":\"x\"},\"y\":{\"field\":\"y\"}},\"id\":\"2665\",\"type\":\"Line\"},{\"attributes\":{},\"id\":\"2868\",\"type\":\"Selection\"},{\"attributes\":{},\"id\":\"2724\",\"type\":\"UnionRenderers\"},{\"attributes\":{\"source\":{\"id\":\"2838\"}},\"id\":\"2842\",\"type\":\"CDSView\"},{\"attributes\":{\"label\":{\"value\":\"Kd_inactive=-9.75\"},\"renderers\":[{\"id\":\"2666\"}]},\"id\":\"2681\",\"type\":\"LegendItem\"},{\"attributes\":{\"label\":{\"value\":\"Kd_inactive=-9.5\"},\"renderers\":[{\"id\":\"2685\"}]},\"id\":\"2702\",\"type\":\"LegendItem\"},{\"attributes\":{},\"id\":\"2635\",\"type\":\"ResetTool\"},{\"attributes\":{},\"id\":\"2634\",\"type\":\"SaveTool\"},{\"attributes\":{\"line_alpha\":0.1,\"line_color\":\"#FD9F6C\",\"x\":{\"field\":\"x\"},\"y\":{\"field\":\"y\"}},\"id\":\"2840\",\"type\":\"Line\"},{\"attributes\":{},\"id\":\"2652\",\"type\":\"BasicTickFormatter\"},{\"attributes\":{},\"id\":\"2836\",\"type\":\"UnionRenderers\"},{\"attributes\":{\"line_alpha\":0.1,\"line_color\":\"#63197F\",\"x\":{\"field\":\"x\"},\"y\":{\"field\":\"y\"}},\"id\":\"2705\",\"type\":\"Line\"},{\"attributes\":{\"line_color\":\"#FD9F6C\",\"x\":{\"field\":\"x\"},\"y\":{\"field\":\"y\"}},\"id\":\"2839\",\"type\":\"Line\"},{\"attributes\":{},\"id\":\"2723\",\"type\":\"Selection\"},{\"attributes\":{},\"id\":\"2636\",\"type\":\"HelpTool\"},{\"attributes\":{\"line_alpha\":0.1,\"line_color\":\"#B53679\",\"x\":{\"field\":\"x\"},\"y\":{\"field\":\"y\"}},\"id\":\"2753\",\"type\":\"Line\"},{\"attributes\":{\"ticker\":null},\"id\":\"2655\",\"type\":\"LogTickFormatter\"},{\"attributes\":{\"data\":{\"x\":{\"__ndarray__\":\"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\",\"dtype\":\"float64\",\"order\":\"little\",\"shape\":[200]},\"y\":{\"__ndarray__\":\"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\",\"dtype\":\"float64\",\"order\":\"little\",\"shape\":[200]}},\"selected\":{\"id\":\"2723\"},\"selection_policy\":{\"id\":\"2724\"}},\"id\":\"2703\",\"type\":\"ColumnDataSource\"},{\"attributes\":{\"line_color\":\"#B53679\",\"x\":{\"field\":\"x\"},\"y\":{\"field\":\"y\"}},\"id\":\"2752\",\"type\":\"Line\"},{\"attributes\":{},\"id\":\"2653\",\"type\":\"AllLabels\"},{\"attributes\":{\"label\":{\"value\":\"Kd_inactive=-9.0\"},\"renderers\":[{\"id\":\"2729\"}]},\"id\":\"2750\",\"type\":\"LegendItem\"},{\"attributes\":{\"axis_label\":\"active_probability\",\"formatter\":{\"id\":\"2652\"},\"major_label_policy\":{\"id\":\"2653\"},\"ticker\":{\"id\":\"2628\"}},\"id\":\"2627\",\"type\":\"LinearAxis\"},{\"attributes\":{\"line_color\":\"#DD4968\",\"x\":{\"field\":\"x\"},\"y\":{\"field\":\"y\"}},\"id\":\"2779\",\"type\":\"Line\"},{\"attributes\":{},\"id\":\"2619\",\"type\":\"LogScale\"},{\"attributes\":{\"line_alpha\":0.1,\"line_color\":\"#DD4968\",\"x\":{\"field\":\"x\"},\"y\":{\"field\":\"y\"}},\"id\":\"2780\",\"type\":\"Line\"},{\"attributes\":{},\"id\":\"2632\",\"type\":\"WheelZoomTool\"},{\"attributes\":{\"line_color\":\"#8C2980\",\"x\":{\"field\":\"x\"},\"y\":{\"field\":\"y\"}},\"id\":\"2727\",\"type\":\"Line\"},{\"attributes\":{\"label\":{\"value\":\"Kd_inactive=-9.25\"},\"renderers\":[{\"id\":\"2706\"}]},\"id\":\"2725\",\"type\":\"LegendItem\"},{\"attributes\":{\"data\":{\"x\":{\"__ndarray__\":\"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\",\"dtype\":\"float64\",\"order\":\"little\",\"shape\":[200]},\"y\":{\"__ndarray__\":\"YrHofKNM0T8iR7N7y07RP3Vdi6koUdE/TXWvHMBT0T9i+v1ll1bRP1EWHZy0WdE/a+qRZx5d0T9vBdcP3GDRP+0Hgon1ZNE/IUaIhXNp0T8CwLGBX27RPxjpSNrDc9E/2FgU3at50T+XeqXdI4DRPyuOBEs5h9E/DZe+xvqO0T/lBVU9eJfRPzjCCADDoNE/oH/y3+2q0T+8tVBKDbbRP4fV52U3wtE/6RxDMYTP0T/XVZOhDd7RP52C1MHv7dE/RJLL0Uj/0T9qWVFkORLSPxrgP3zkJtI/6lcyp2890j8QmR4VA1bSP2DboKvJcNI/E8GfE/GN0j94Rbi/qa3SP3yzp+km0NI/GPKuhJ710j/DX7AiSR7TP4MRk8lhStM/Wm9HtiV60z/qraYK1K3TP415VmOt5dM/6UbjUvMh1D9KHG6/52LUP+v3niDMqNQ/IDYUnODz1D9NNUr/YkTVP3Vi/JaNmtU/CPdO5ZX21T8Baqg5q1jWP/YT/y71wNY/HSZ4F5Iv1z8q+3VelaTXP/3pgOwFINg/5Z+pmtyh2D/ef/DEAirZPygBrgxRuNk/aCy1XI5M2j/bOr5Ab+baPwj+Z6CVhds/tAiv65Ap3D/2ThTD3tHcPwf26CDsfd0/mxmIAxct3j+RQwWSsN7ePxIHbK7/kd8/WKdL8SEj4D9aqbJHXH3gP0dRCiFM1+A/Im+hCJAw4T8gzkZxyYjhP1Nfoj2e3+E/MoroILo04j8O2A/Nz4fiP43kj+aZ2OI/qfvYuNsm4z8ZHuapYXLjPxdHTG4Bu+M/UUDJAZoA5D/rom9qE0PkP+7iEU5eguQ/hnJ3YnO+5D8oAD7BUvfkP2gXICgDLeU/LrXKLZFf5T8tHpByDo/lPxK8OtOQu+U/osYfozHl5T+T/mvxDAzmP+YajdxAMOY/s2Kc9exR5j9HhtG0MXHmP0ygS/8vjuY/JNbpvQip5j97l3uE3MHmP4nDPkjL2OY/oORrJPTt5j/LyHErdQHnP0eNdUNrE+c/aoyuDPIj5z/MxELQIzPnP7sKXXYZQec/RPNPgupN5z/UwLQTrVnnP3L9kut1ZOc/tZq6dFhu5z8pfJbOZnfnP6Sg19mxf+c/G1JxRkmH5z8lp3SiO47nP8EmbWmWlOc/EpDxE2aa5z9swContp/nP3yYH0SRpOc/6sOfNgGp5z8wlLADD63nP6npZvfCsOc/tpofsiS05z9VFQ01O7fnPxxEFe4Muuc/2TH+wp+85z+In+ob+b7nPzHdKe0dwec/mNBfwBLD5z87Qwu928TnP+VmcbB8xuc/vQ32FPnH5z8aZugYVMnnPzIvzKSQyuc/HFwnYbHL5z9B/tu7uMznP+QeFu2ozec/ee3U+4PO5z+PWxbCS8/nPw3qq/AB0Oc/CRK/EqjQ5z9gVwuRP9HnP8u207TJ0ec/aMWYqkfS5z8hfpSEutLnP25iAD0j0+c/nUAquILT5z/voVvG2dPnP1+XlyUp1Oc/eVQyg3HU5z9GxEV9s9TnP2oFBqTv1Oc/tX/4eibV5z8yDhB6WNXnPwmGsA6G1ec/vrKbnK/V5z+9tMl+1dXnPzCGLgj41ec/0kRuhBfW5z+tvIE4NNbnP8qPTGNO1uc/mDkmPmbW5z+kEVf9e9bnP5BYitCP1uc/UEM246HW5z/a4/pcstbnP167+GHB1uc/UrAfE8/W5z+2EneO29bnPz1KX+/m1uc/SbzNTvHW5z+ka4PD+tbnP1/IPmID1+c/ARzpPQvX5z+29L9nEtfnP6npeu8Y1+c/sApu4x7X5z9XRqlQJNfnP8IKFUMp1+c/y1+MxS3X5z9os/ThMdfnP0GMU6E11+c/51HiCznX5z/hVSApPNfnPwZF4/8+1+c/GCVmlkHX5z9h/1byQ9fnP1lW4xhG1+c/dYHDDkjX5z8dCEXYSdfnP2cSVHlL1+c/RQSE9UzX5z8XVhdQTtfnP6i7BoxP1+c/cakHrFDX5z9QRpKyUdfnP7zW5qFS1+c/b60SfFPX5z8+rPRCVNfnPw1fQfhU1+c/57mGnVXX5z9Ygi80VtfnP6Zrhr1W1+c/n+y4OlfX5z861dmsV9fnP8ap4xRY1+c/xMi6c1jX5z8hYC/KWNfnPw==\",\"dtype\":\"float64\",\"order\":\"little\",\"shape\":[200]}},\"selected\":{\"id\":\"2659\"},\"selection_policy\":{\"id\":\"2660\"}},\"id\":\"2645\",\"type\":\"ColumnDataSource\"},{\"attributes\":{},\"id\":\"2749\",\"type\":\"UnionRenderers\"},{\"attributes\":{},\"id\":\"2617\",\"type\":\"DataRange1d\"},{\"attributes\":{\"source\":{\"id\":\"2703\"}},\"id\":\"2707\",\"type\":\"CDSView\"},{\"attributes\":{\"label\":{\"value\":\"Kd_inactive=-8.5\"},\"renderers\":[{\"id\":\"2781\"}]},\"id\":\"2806\",\"type\":\"LegendItem\"},{\"attributes\":{\"data_source\":{\"id\":\"2645\"},\"glyph\":{\"id\":\"2646\"},\"hover_glyph\":null,\"muted_glyph\":null,\"nonselection_glyph\":{\"id\":\"2647\"},\"view\":{\"id\":\"2649\"}},\"id\":\"2648\",\"type\":\"GlyphRenderer\"},{\"attributes\":{\"axis\":{\"id\":\"2627\"},\"dimension\":1,\"ticker\":null},\"id\":\"2630\",\"type\":\"Grid\"},{\"attributes\":{},\"id\":\"2700\",\"type\":\"Selection\"},{\"attributes\":{\"data_source\":{\"id\":\"2726\"},\"glyph\":{\"id\":\"2727\"},\"hover_glyph\":null,\"muted_glyph\":null,\"nonselection_glyph\":{\"id\":\"2728\"},\"view\":{\"id\":\"2730\"}},\"id\":\"2729\",\"type\":\"GlyphRenderer\"},{\"attributes\":{\"bottom_units\":\"screen\",\"fill_alpha\":0.5,\"fill_color\":\"lightgrey\",\"left_units\":\"screen\",\"level\":\"overlay\",\"line_alpha\":1.0,\"line_color\":\"black\",\"line_dash\":[4,4],\"line_width\":2,\"right_units\":\"screen\",\"syncable\":false,\"top_units\":\"screen\"},\"id\":\"2637\",\"type\":\"BoxAnnotation\"},{\"attributes\":{\"axis\":{\"id\":\"2623\"},\"ticker\":null},\"id\":\"2626\",\"type\":\"Grid\"},{\"attributes\":{\"data\":{\"x\":{\"__ndarray__\":\"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\",\"dtype\":\"float64\",\"order\":\"little\",\"shape\":[200]},\"y\":{\"__ndarray__\":\"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\",\"dtype\":\"float64\",\"order\":\"little\",\"shape\":[200]}},\"selected\":{\"id\":\"2748\"},\"selection_policy\":{\"id\":\"2749\"}},\"id\":\"2726\",\"type\":\"ColumnDataSource\"},{\"attributes\":{},\"id\":\"2660\",\"type\":\"UnionRenderers\"},{\"attributes\":{\"data_source\":{\"id\":\"2703\"},\"glyph\":{\"id\":\"2704\"},\"hover_glyph\":null,\"muted_glyph\":null,\"nonselection_glyph\":{\"id\":\"2705\"},\"view\":{\"id\":\"2707\"}},\"id\":\"2706\",\"type\":\"GlyphRenderer\"},{\"attributes\":{\"line_alpha\":0.1,\"line_color\":\"#8C2980\",\"x\":{\"field\":\"x\"},\"y\":{\"field\":\"y\"}},\"id\":\"2728\",\"type\":\"Line\"},{\"attributes\":{\"source\":{\"id\":\"2807\"}},\"id\":\"2811\",\"type\":\"CDSView\"},{\"attributes\":{},\"id\":\"2621\",\"type\":\"LinearScale\"},{\"attributes\":{\"label\":{\"value\":\"Kd_inactive=-10.0\"},\"renderers\":[{\"id\":\"2648\"}]},\"id\":\"2662\",\"type\":\"LegendItem\"},{\"attributes\":{},\"id\":\"2835\",\"type\":\"Selection\"},{\"attributes\":{},\"id\":\"2680\",\"type\":\"UnionRenderers\"},{\"attributes\":{\"source\":{\"id\":\"2726\"}},\"id\":\"2730\",\"type\":\"CDSView\"},{\"attributes\":{\"axis_label\":\"[Ligands]M\",\"formatter\":{\"id\":\"2655\"},\"major_label_policy\":{\"id\":\"2656\"},\"ticker\":{\"id\":\"2624\"}},\"id\":\"2623\",\"type\":\"LogAxis\"},{\"attributes\":{\"data_source\":{\"id\":\"2682\"},\"glyph\":{\"id\":\"2683\"},\"hover_glyph\":null,\"muted_glyph\":null,\"nonselection_glyph\":{\"id\":\"2684\"},\"view\":{\"id\":\"2686\"}},\"id\":\"2685\",\"type\":\"GlyphRenderer\"},{\"attributes\":{\"source\":{\"id\":\"2645\"}},\"id\":\"2649\",\"type\":\"CDSView\"},{\"attributes\":{\"line_alpha\":0.1,\"line_color\":\"#000003\",\"x\":{\"field\":\"x\"},\"y\":{\"field\":\"y\"}},\"id\":\"2647\",\"type\":\"Line\"},{\"attributes\":{\"num_minor_ticks\":10},\"id\":\"2624\",\"type\":\"LogTicker\"},{\"attributes\":{},\"id\":\"2631\",\"type\":\"PanTool\"},{\"attributes\":{},\"id\":\"2748\",\"type\":\"Selection\"},{\"attributes\":{},\"id\":\"2615\",\"type\":\"DataRange1d\"},{\"attributes\":{\"line_color\":\"#3B0F6F\",\"x\":{\"field\":\"x\"},\"y\":{\"field\":\"y\"}},\"id\":\"2683\",\"type\":\"Line\"},{\"attributes\":{\"data\":{\"x\":{\"__ndarray__\":\"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\",\"dtype\":\"float64\",\"order\":\"little\",\"shape\":[200]},\"y\":{\"__ndarray__\":\"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\",\"dtype\":\"float64\",\"order\":\"little\",\"shape\":[200]}},\"selected\":{\"id\":\"2700\"},\"selection_policy\":{\"id\":\"2701\"}},\"id\":\"2682\",\"type\":\"ColumnDataSource\"},{\"attributes\":{\"label\":{\"value\":\"Kd_inactive=-8.75\"},\"renderers\":[{\"id\":\"2754\"}]},\"id\":\"2777\",\"type\":\"LegendItem\"},{\"attributes\":{\"data\":{\"x\":{\"__ndarray__\":\"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\",\"dtype\":\"float64\",\"order\":\"little\",\"shape\":[200]},\"y\":{\"__ndarray__\":\"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\",\"dtype\":\"float64\",\"order\":\"little\",\"shape\":[200]}},\"selected\":{\"id\":\"2775\"},\"selection_policy\":{\"id\":\"2776\"}},\"id\":\"2751\",\"type\":\"ColumnDataSource\"},{\"attributes\":{\"data_source\":{\"id\":\"2751\"},\"glyph\":{\"id\":\"2752\"},\"hover_glyph\":null,\"muted_glyph\":null,\"nonselection_glyph\":{\"id\":\"2753\"},\"view\":{\"id\":\"2755\"}},\"id\":\"2754\",\"type\":\"GlyphRenderer\"},{\"attributes\":{},\"id\":\"2659\",\"type\":\"Selection\"},{\"attributes\":{},\"id\":\"2775\",\"type\":\"Selection\"},{\"attributes\":{},\"id\":\"2701\",\"type\":\"UnionRenderers\"},{\"attributes\":{\"data\":{\"x\":{\"__ndarray__\":\"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\",\"dtype\":\"float64\",\"order\":\"little\",\"shape\":[200]},\"y\":{\"__ndarray__\":\"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\",\"dtype\":\"float64\",\"order\":\"little\",\"shape\":[200]}},\"selected\":{\"id\":\"2868\"},\"selection_policy\":{\"id\":\"2869\"}},\"id\":\"2838\",\"type\":\"ColumnDataSource\"},{\"attributes\":{},\"id\":\"2776\",\"type\":\"UnionRenderers\"},{\"attributes\":{\"source\":{\"id\":\"2663\"}},\"id\":\"2667\",\"type\":\"CDSView\"},{\"attributes\":{\"line_color\":\"#63197F\",\"x\":{\"field\":\"x\"},\"y\":{\"field\":\"y\"}},\"id\":\"2704\",\"type\":\"Line\"},{\"attributes\":{},\"id\":\"2628\",\"type\":\"BasicTicker\"},{\"attributes\":{\"overlay\":{\"id\":\"2637\"}},\"id\":\"2633\",\"type\":\"BoxZoomTool\"},{\"attributes\":{\"data\":{\"x\":{\"__ndarray__\":\"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\",\"dtype\":\"float64\",\"order\":\"little\",\"shape\":[200]},\"y\":{\"__ndarray__\":\"Zy7K089P0T/UGD/bRlLRP+TH3Mj6VNE/gBkDdfFX0T/p3QhGMVvRPxKZXT3BXtE/Xq/QBali0T/s+hMD8WbRP3+lkGKia9E/edmlLcdw0T8tXGldanbRPw5aAvCXfNE/cIO2/1yD0T9W9MDbx4rRP04iCSPoktE/mgrO4M6b0T8T61arjqXRP5O8tsQ7sNE/Iy+qPey70T/Kx5AauMjRP5yheHq51tE/29oowAzm0T9zeAi90PbRP2ARrt0mCdI/ul7PVzMd0j/BUi5ZHTPSPwEHAzcPS9I/GRQ+nTZl0j9SLNW8xIHSPx+ZG3juoNI/rhjxi+zC0j8cSlO0++fSP+RYmMpcENM/yj9N21Q80z9KlF8xLWzTPw6/41MzoNM/4QZv87jY0z8OC6TDExbUP7iNPD2dWNQ/cW2SRLKg1D9qmnKwsu7UP5+E6KwAQ9U/EWq59f+d1T8XB4HkFADWPwWX2U6jadY/t4C9MQ3b1j/QzG4osVTXP+pAs67o1tc/1QMkMAZi2D+W6q/oUvbYPxotO50MlNk/NGBvNmM72j9T+jdLduzaPytL6atSp9s/tC1yAvBr3D8Y9/aeLjrdP1EOf4rVEd4/tfih+pDy3j+CEgtB8dvfP3W/+ye1ZuA/7Amp9Cnj4D88WFxE9WLhP7iQ0Yio5eE/hPowoclq4j+nEZtx1PHiP66bfc88euM/GlrAtHAD5D/V+7+n2ozkP3tn50LkFeU/QZfKxPid5T9MaSCRhyTmP6d15osGqeY/+hBFOvQq5z/jYDyY2annP6w9b5ZLJeg/A/UnOOyc6D+ZNZROaxDpP9JK1dKGf+k/3FiU5Arq6T+paBh20U/qPzk+RrHBsOo/655vIs8M6z+0SnS2+GPrP/ZJjZlHtus/4iRQA84D7D+DsDT7pUzsP/4TVx/wkOw/hdx2ddLQ7D+/DnRMdwztPynd3TIMRO0/xYmeBcF37T9ZxHgYx6ftP3526nhQ1O0/CpYgS4/97T9J8fQ/tSPuP8M+bSLzRu4/kOfbenhn7j9cQ5BFc4XuP+SA7roPoe4/r9HIJni67j812uXM1NHuP5XgvthL5+4/9oumVgH77j843LM0Fw3vP/aw+UmtHe8/LMG/YuEs7z9d25xQzzrvP+qtev2QR+8/xpOwgD5T7z8QoIQ17l3vPwFGgNK0Z+8/rY4ggaVw7z9e+oD10XjvPzwptIVKgO8/HnuOQB6H7z85SbUDW43vP8t40ZANk+8/aTLOoUGY7z/ByxT8AZ3vPwWnvYJYoe8/4S2zR06l7z96UMib66jvP41Bxx04rO8/TK5/yDqv7z+8jt3/+bHvP9f+Ep17tO8/zHPg+cS27z/aKAf72rjvP5je8RnCuu8/kQ2gbX687z+wht+yE77vP2cz4FOFv+8//0Utb9bA7z+ethbeCcLvP1BplToiw+8/4tGz5CHE7z8fXoQHC8XvP0pirp3fxe8/6LeZdaHG7z+9tUA1UsfvP2yjr13zx+8/Lks4TobI7z880l9HDMnvP6KMjG2Gye8/jRN5y/XJ7z9BfnFUW8rvP/M8X+a3yu8/drqnSwzL7z9fleE8WcvvP5/yY2Kfy+8/8iKzVd/L7z/bkM2iGczvP5OuW8lOzO8/cGHFPX/M7z9XMy9qq8zvP3VhYa/TzO8/kLKaZfjM7z+O1VDdGc3vP83i3184ze8/vHcqMFTN7z8cxCuLbc3vP6TCfKiEze8/EbzNupnN7z97GlXwrM3vP3d8NHO+ze8/s+LUac7N7z+Fvzr33M3vPwifUjvqze8/2Q03U/bN7z+uVnBZAc7vPyWhLmYLzu8/jPB+jxTO7z/edXvpHM7vP3yed4Ykzu8/jz8odyvO7z/mNcjKMc7vPy3KOY83zu8/fCIl0TzO7z/DAxScQc7vP8sfi/pFzu8/Gich9knO7z8r0ZOXTc7vPykJ2+ZQzu8/8mg661PO7z/KKFGrVs7vP6CmKC1Zzu8/tqRBdlvO7z+hXKCLXc7vPzmB13Ffzu8/gkcSLWHO7z95jB3BYs7vPwsscDFkzu8/RJsygWXO7z+L1kWzZs7vPwSzScpnzu8/AqGiyGjO7z8m7H6wac7vP6qE24Nqzu8/ZlyIRGvO7z8OYSz0a87vPw==\",\"dtype\":\"float64\",\"order\":\"little\",\"shape\":[200]}},\"selected\":{\"id\":\"2835\"},\"selection_policy\":{\"id\":\"2836\"}},\"id\":\"2807\",\"type\":\"ColumnDataSource\"},{\"attributes\":{},\"id\":\"2805\",\"type\":\"UnionRenderers\"},{\"attributes\":{\"line_color\":\"#F66E5B\",\"x\":{\"field\":\"x\"},\"y\":{\"field\":\"y\"}},\"id\":\"2808\",\"type\":\"Line\"},{\"attributes\":{},\"id\":\"2804\",\"type\":\"Selection\"},{\"attributes\":{\"line_alpha\":0.1,\"line_color\":\"#F66E5B\",\"x\":{\"field\":\"x\"},\"y\":{\"field\":\"y\"}},\"id\":\"2809\",\"type\":\"Line\"},{\"attributes\":{\"source\":{\"id\":\"2751\"}},\"id\":\"2755\",\"type\":\"CDSView\"},{\"attributes\":{\"data_source\":{\"id\":\"2778\"},\"glyph\":{\"id\":\"2779\"},\"hover_glyph\":null,\"muted_glyph\":null,\"nonselection_glyph\":{\"id\":\"2780\"},\"view\":{\"id\":\"2782\"}},\"id\":\"2781\",\"type\":\"GlyphRenderer\"}],\"root_ids\":[\"2614\"]},\"title\":\"Bokeh Application\",\"version\":\"2.3.3\"}};\n",
       "  var render_items = [{\"docid\":\"da442adb-625f-4723-ae0b-6fde6c8a6dd5\",\"root_ids\":[\"2614\"],\"roots\":{\"2614\":\"9062ddef-78d5-4d03-890b-ebdf577d3c6d\"}}];\n",
       "  root.Bokeh.embed.embed_items_notebook(docs_json, render_items);\n",
       "\n",
       "  }\n",
       "  if (root.Bokeh !== undefined) {\n",
       "    embed_document(root);\n",
       "  } else {\n",
       "    var attempts = 0;\n",
       "    var timer = setInterval(function(root) {\n",
       "      if (root.Bokeh !== undefined) {\n",
       "        clearInterval(timer);\n",
       "        embed_document(root);\n",
       "      } else {\n",
       "        attempts++;\n",
       "        if (attempts > 100) {\n",
       "          clearInterval(timer);\n",
       "          console.log(\"Bokeh: ERROR: Unable to run BokehJS code because BokehJS library is missing\");\n",
       "        }\n",
       "      }\n",
       "    }, 10, root)\n",
       "  }\n",
       "})(window);"
      ],
      "application/vnd.bokehjs_exec.v0+json": ""
     },
     "metadata": {
      "application/vnd.bokehjs_exec.v0+json": {
       "id": "2614"
      }
     },
     "output_type": "display_data"
    }
   ],
   "source": [
    "#set up plot\n",
    "from bokeh.plotting import curdoc \n",
    "curdoc().clear()\n",
    "p = bokeh.plotting.figure(plot_height=600,\n",
    "                         plot_width=600,\n",
    "                         x_axis_label='[Ligands]M',\n",
    "                          y_axis_label='active_probability',\n",
    "                          x_axis_type='log')\n",
    "\n",
    "colors=bokeh.palettes.Magma[11]\n",
    "ligand_smooth=np.logspace(-13,-5,200)\n",
    "\n",
    "for i,Kd_inactive in enumerate(np.linspace(-10,-8,9)):    \n",
    "    p.line(ligand_smooth, agonist_only_p_active_theory(ligand_smooth, -10.9, Kd_inactive, -1), color=colors[i],legend_label='Kd_inactive='+str(Kd_inactive))\n",
    "\n",
    "p.legend.location = \"top_left\"\n",
    "\n",
    "bokeh.io.show(p);"
   ]
  },
  {
   "cell_type": "code",
   "execution_count": 16,
   "id": "f6181cac",
   "metadata": {},
   "outputs": [
    {
     "data": {
      "text/html": [
       "\n",
       "\n",
       "\n",
       "\n",
       "\n",
       "\n",
       "  <div class=\"bk-root\" id=\"c6372997-b723-4d86-abab-f994fe50ea46\" data-root-id=\"3033\"></div>\n"
      ]
     },
     "metadata": {},
     "output_type": "display_data"
    },
    {
     "data": {
      "application/javascript": [
       "(function(root) {\n",
       "  function embed_document(root) {\n",
       "    \n",
       "  var docs_json = {\"1522f52a-5a6c-4233-aef1-7b73e51c9011\":{\"defs\":[],\"roots\":{\"references\":[{\"attributes\":{\"below\":[{\"id\":\"3042\"}],\"center\":[{\"id\":\"3045\"},{\"id\":\"3049\"},{\"id\":\"3080\"}],\"left\":[{\"id\":\"3046\"}],\"renderers\":[{\"id\":\"3067\"},{\"id\":\"3085\"},{\"id\":\"3104\"},{\"id\":\"3125\"},{\"id\":\"3148\"},{\"id\":\"3173\"},{\"id\":\"3200\"},{\"id\":\"3229\"},{\"id\":\"3260\"}],\"title\":{\"id\":\"3070\"},\"toolbar\":{\"id\":\"3057\"},\"x_range\":{\"id\":\"3034\"},\"x_scale\":{\"id\":\"3038\"},\"y_range\":{\"id\":\"3036\"},\"y_scale\":{\"id\":\"3040\"}},\"id\":\"3033\",\"subtype\":\"Figure\",\"type\":\"Plot\"},{\"attributes\":{},\"id\":\"3119\",\"type\":\"Selection\"},{\"attributes\":{},\"id\":\"3120\",\"type\":\"UnionRenderers\"},{\"attributes\":{\"axis_label\":\"[Ligands]M\",\"formatter\":{\"id\":\"3074\"},\"major_label_policy\":{\"id\":\"3075\"},\"ticker\":{\"id\":\"3043\"}},\"id\":\"3042\",\"type\":\"LogAxis\"},{\"attributes\":{},\"id\":\"3050\",\"type\":\"PanTool\"},{\"attributes\":{},\"id\":\"3254\",\"type\":\"Selection\"},{\"attributes\":{},\"id\":\"3055\",\"type\":\"HelpTool\"},{\"attributes\":{},\"id\":\"3255\",\"type\":\"UnionRenderers\"},{\"attributes\":{},\"id\":\"3054\",\"type\":\"ResetTool\"},{\"attributes\":{},\"id\":\"3038\",\"type\":\"LogScale\"},{\"attributes\":{},\"id\":\"3053\",\"type\":\"SaveTool\"},{\"attributes\":{\"overlay\":{\"id\":\"3056\"}},\"id\":\"3052\",\"type\":\"BoxZoomTool\"},{\"attributes\":{\"num_minor_ticks\":10},\"id\":\"3043\",\"type\":\"LogTicker\"},{\"attributes\":{\"data_source\":{\"id\":\"3064\"},\"glyph\":{\"id\":\"3065\"},\"hover_glyph\":null,\"muted_glyph\":null,\"nonselection_glyph\":{\"id\":\"3066\"},\"view\":{\"id\":\"3068\"}},\"id\":\"3067\",\"type\":\"GlyphRenderer\"},{\"attributes\":{\"data\":{\"x\":{\"__ndarray__\":\"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\",\"dtype\":\"float64\",\"order\":\"little\",\"shape\":[200]},\"y\":{\"__ndarray__\":\"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\",\"dtype\":\"float64\",\"order\":\"little\",\"shape\":[200]}},\"selected\":{\"id\":\"3142\"},\"selection_policy\":{\"id\":\"3143\"}},\"id\":\"3122\",\"type\":\"ColumnDataSource\"},{\"attributes\":{\"line_color\":\"#63197F\",\"x\":{\"field\":\"x\"},\"y\":{\"field\":\"y\"}},\"id\":\"3123\",\"type\":\"Line\"},{\"attributes\":{\"line_alpha\":0.1,\"line_color\":\"#63197F\",\"x\":{\"field\":\"x\"},\"y\":{\"field\":\"y\"}},\"id\":\"3124\",\"type\":\"Line\"},{\"attributes\":{\"source\":{\"id\":\"3122\"}},\"id\":\"3126\",\"type\":\"CDSView\"},{\"attributes\":{\"label\":{\"value\":\"Kd_active=-9.875\"},\"renderers\":[{\"id\":\"3125\"}]},\"id\":\"3144\",\"type\":\"LegendItem\"},{\"attributes\":{\"data\":{\"x\":{\"__ndarray__\":\"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\",\"dtype\":\"float64\",\"order\":\"little\",\"shape\":[200]},\"y\":{\"__ndarray__\":\"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\",\"dtype\":\"float64\",\"order\":\"little\",\"shape\":[200]}},\"selected\":{\"id\":\"3287\"},\"selection_policy\":{\"id\":\"3288\"}},\"id\":\"3257\",\"type\":\"ColumnDataSource\"},{\"attributes\":{\"line_color\":\"#FD9F6C\",\"x\":{\"field\":\"x\"},\"y\":{\"field\":\"y\"}},\"id\":\"3258\",\"type\":\"Line\"},{\"attributes\":{\"line_alpha\":0.1,\"line_color\":\"#FD9F6C\",\"x\":{\"field\":\"x\"},\"y\":{\"field\":\"y\"}},\"id\":\"3259\",\"type\":\"Line\"},{\"attributes\":{},\"id\":\"3142\",\"type\":\"Selection\"},{\"attributes\":{\"source\":{\"id\":\"3257\"}},\"id\":\"3261\",\"type\":\"CDSView\"},{\"attributes\":{},\"id\":\"3143\",\"type\":\"UnionRenderers\"},{\"attributes\":{\"label\":{\"value\":\"Kd_active=-8.0\"},\"renderers\":[{\"id\":\"3260\"}]},\"id\":\"3289\",\"type\":\"LegendItem\"},{\"attributes\":{},\"id\":\"3287\",\"type\":\"Selection\"},{\"attributes\":{},\"id\":\"3288\",\"type\":\"UnionRenderers\"},{\"attributes\":{\"axis\":{\"id\":\"3042\"},\"ticker\":null},\"id\":\"3045\",\"type\":\"Grid\"},{\"attributes\":{\"axis_label\":\"active_probability\",\"formatter\":{\"id\":\"3071\"},\"major_label_policy\":{\"id\":\"3072\"},\"ticker\":{\"id\":\"3047\"}},\"id\":\"3046\",\"type\":\"LinearAxis\"},{\"attributes\":{},\"id\":\"3040\",\"type\":\"LinearScale\"},{\"attributes\":{\"data\":{\"x\":{\"__ndarray__\":\"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\",\"dtype\":\"float64\",\"order\":\"little\",\"shape\":[200]},\"y\":{\"__ndarray__\":\"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\",\"dtype\":\"float64\",\"order\":\"little\",\"shape\":[200]}},\"selected\":{\"id\":\"3078\"},\"selection_policy\":{\"id\":\"3079\"}},\"id\":\"3064\",\"type\":\"ColumnDataSource\"},{\"attributes\":{\"data_source\":{\"id\":\"3145\"},\"glyph\":{\"id\":\"3146\"},\"hover_glyph\":null,\"muted_glyph\":null,\"nonselection_glyph\":{\"id\":\"3147\"},\"view\":{\"id\":\"3149\"}},\"id\":\"3148\",\"type\":\"GlyphRenderer\"},{\"attributes\":{},\"id\":\"3034\",\"type\":\"DataRange1d\"},{\"attributes\":{\"data_source\":{\"id\":\"3170\"},\"glyph\":{\"id\":\"3171\"},\"hover_glyph\":null,\"muted_glyph\":null,\"nonselection_glyph\":{\"id\":\"3172\"},\"view\":{\"id\":\"3174\"}},\"id\":\"3173\",\"type\":\"GlyphRenderer\"},{\"attributes\":{},\"id\":\"3051\",\"type\":\"WheelZoomTool\"},{\"attributes\":{\"data\":{\"x\":{\"__ndarray__\":\"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\",\"dtype\":\"float64\",\"order\":\"little\",\"shape\":[200]},\"y\":{\"__ndarray__\":\"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\",\"dtype\":\"float64\",\"order\":\"little\",\"shape\":[200]}},\"selected\":{\"id\":\"3167\"},\"selection_policy\":{\"id\":\"3168\"}},\"id\":\"3145\",\"type\":\"ColumnDataSource\"},{\"attributes\":{},\"id\":\"3036\",\"type\":\"DataRange1d\"},{\"attributes\":{\"line_color\":\"#8C2980\",\"x\":{\"field\":\"x\"},\"y\":{\"field\":\"y\"}},\"id\":\"3146\",\"type\":\"Line\"},{\"attributes\":{\"line_alpha\":0.1,\"line_color\":\"#8C2980\",\"x\":{\"field\":\"x\"},\"y\":{\"field\":\"y\"}},\"id\":\"3147\",\"type\":\"Line\"},{\"attributes\":{\"source\":{\"id\":\"3145\"}},\"id\":\"3149\",\"type\":\"CDSView\"},{\"attributes\":{\"axis\":{\"id\":\"3046\"},\"dimension\":1,\"ticker\":null},\"id\":\"3049\",\"type\":\"Grid\"},{\"attributes\":{\"label\":{\"value\":\"Kd_active=-9.5\"},\"renderers\":[{\"id\":\"3148\"}]},\"id\":\"3169\",\"type\":\"LegendItem\"},{\"attributes\":{\"active_multi\":null,\"tools\":[{\"id\":\"3050\"},{\"id\":\"3051\"},{\"id\":\"3052\"},{\"id\":\"3053\"},{\"id\":\"3054\"},{\"id\":\"3055\"}]},\"id\":\"3057\",\"type\":\"Toolbar\"},{\"attributes\":{},\"id\":\"3047\",\"type\":\"BasicTicker\"},{\"attributes\":{},\"id\":\"3078\",\"type\":\"Selection\"},{\"attributes\":{},\"id\":\"3079\",\"type\":\"UnionRenderers\"},{\"attributes\":{},\"id\":\"3167\",\"type\":\"Selection\"},{\"attributes\":{},\"id\":\"3168\",\"type\":\"UnionRenderers\"},{\"attributes\":{\"source\":{\"id\":\"3170\"}},\"id\":\"3174\",\"type\":\"CDSView\"},{\"attributes\":{\"bottom_units\":\"screen\",\"fill_alpha\":0.5,\"fill_color\":\"lightgrey\",\"left_units\":\"screen\",\"level\":\"overlay\",\"line_alpha\":1.0,\"line_color\":\"black\",\"line_dash\":[4,4],\"line_width\":2,\"right_units\":\"screen\",\"syncable\":false,\"top_units\":\"screen\"},\"id\":\"3056\",\"type\":\"BoxAnnotation\"},{\"attributes\":{\"data_source\":{\"id\":\"3226\"},\"glyph\":{\"id\":\"3227\"},\"hover_glyph\":null,\"muted_glyph\":null,\"nonselection_glyph\":{\"id\":\"3228\"},\"view\":{\"id\":\"3230\"}},\"id\":\"3229\",\"type\":\"GlyphRenderer\"},{\"attributes\":{\"data\":{\"x\":{\"__ndarray__\":\"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\",\"dtype\":\"float64\",\"order\":\"little\",\"shape\":[200]},\"y\":{\"__ndarray__\":\"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\",\"dtype\":\"float64\",\"order\":\"little\",\"shape\":[200]}},\"selected\":{\"id\":\"3194\"},\"selection_policy\":{\"id\":\"3195\"}},\"id\":\"3170\",\"type\":\"ColumnDataSource\"},{\"attributes\":{\"line_color\":\"#B53679\",\"x\":{\"field\":\"x\"},\"y\":{\"field\":\"y\"}},\"id\":\"3171\",\"type\":\"Line\"},{\"attributes\":{\"line_alpha\":0.1,\"line_color\":\"#B53679\",\"x\":{\"field\":\"x\"},\"y\":{\"field\":\"y\"}},\"id\":\"3172\",\"type\":\"Line\"},{\"attributes\":{\"label\":{\"value\":\"Kd_active=-9.125\"},\"renderers\":[{\"id\":\"3173\"}]},\"id\":\"3196\",\"type\":\"LegendItem\"},{\"attributes\":{\"data_source\":{\"id\":\"3197\"},\"glyph\":{\"id\":\"3198\"},\"hover_glyph\":null,\"muted_glyph\":null,\"nonselection_glyph\":{\"id\":\"3199\"},\"view\":{\"id\":\"3201\"}},\"id\":\"3200\",\"type\":\"GlyphRenderer\"},{\"attributes\":{\"data\":{\"x\":{\"__ndarray__\":\"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\",\"dtype\":\"float64\",\"order\":\"little\",\"shape\":[200]},\"y\":{\"__ndarray__\":\"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\",\"dtype\":\"float64\",\"order\":\"little\",\"shape\":[200]}},\"selected\":{\"id\":\"3254\"},\"selection_policy\":{\"id\":\"3255\"}},\"id\":\"3226\",\"type\":\"ColumnDataSource\"},{\"attributes\":{},\"id\":\"3194\",\"type\":\"Selection\"},{\"attributes\":{},\"id\":\"3195\",\"type\":\"UnionRenderers\"},{\"attributes\":{\"data_source\":{\"id\":\"3082\"},\"glyph\":{\"id\":\"3083\"},\"hover_glyph\":null,\"muted_glyph\":null,\"nonselection_glyph\":{\"id\":\"3084\"},\"view\":{\"id\":\"3086\"}},\"id\":\"3085\",\"type\":\"GlyphRenderer\"},{\"attributes\":{\"line_color\":\"#000003\",\"x\":{\"field\":\"x\"},\"y\":{\"field\":\"y\"}},\"id\":\"3065\",\"type\":\"Line\"},{\"attributes\":{\"items\":[{\"id\":\"3081\"},{\"id\":\"3100\"},{\"id\":\"3121\"},{\"id\":\"3144\"},{\"id\":\"3169\"},{\"id\":\"3196\"},{\"id\":\"3225\"},{\"id\":\"3256\"},{\"id\":\"3289\"}],\"location\":\"top_left\"},\"id\":\"3080\",\"type\":\"Legend\"},{\"attributes\":{\"data\":{\"x\":{\"__ndarray__\":\"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\",\"dtype\":\"float64\",\"order\":\"little\",\"shape\":[200]},\"y\":{\"__ndarray__\":\"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\",\"dtype\":\"float64\",\"order\":\"little\",\"shape\":[200]}},\"selected\":{\"id\":\"3098\"},\"selection_policy\":{\"id\":\"3099\"}},\"id\":\"3082\",\"type\":\"ColumnDataSource\"},{\"attributes\":{\"line_alpha\":0.1,\"line_color\":\"#000003\",\"x\":{\"field\":\"x\"},\"y\":{\"field\":\"y\"}},\"id\":\"3066\",\"type\":\"Line\"},{\"attributes\":{\"line_color\":\"#140D35\",\"x\":{\"field\":\"x\"},\"y\":{\"field\":\"y\"}},\"id\":\"3083\",\"type\":\"Line\"},{\"attributes\":{\"source\":{\"id\":\"3064\"}},\"id\":\"3068\",\"type\":\"CDSView\"},{\"attributes\":{\"line_alpha\":0.1,\"line_color\":\"#140D35\",\"x\":{\"field\":\"x\"},\"y\":{\"field\":\"y\"}},\"id\":\"3084\",\"type\":\"Line\"},{\"attributes\":{\"source\":{\"id\":\"3082\"}},\"id\":\"3086\",\"type\":\"CDSView\"},{\"attributes\":{\"label\":{\"value\":\"Kd_active=-11.0\"},\"renderers\":[{\"id\":\"3067\"}]},\"id\":\"3081\",\"type\":\"LegendItem\"},{\"attributes\":{\"label\":{\"value\":\"Kd_active=-8.75\"},\"renderers\":[{\"id\":\"3200\"}]},\"id\":\"3225\",\"type\":\"LegendItem\"},{\"attributes\":{},\"id\":\"3070\",\"type\":\"Title\"},{\"attributes\":{\"line_color\":\"#DD4968\",\"x\":{\"field\":\"x\"},\"y\":{\"field\":\"y\"}},\"id\":\"3198\",\"type\":\"Line\"},{\"attributes\":{\"label\":{\"value\":\"Kd_active=-10.625\"},\"renderers\":[{\"id\":\"3085\"}]},\"id\":\"3100\",\"type\":\"LegendItem\"},{\"attributes\":{\"data\":{\"x\":{\"__ndarray__\":\"gnZJaMIlPD38Q2qgneA+PRVoEyeg70A9vPHspB6UQj0hhBRRZWFEPVxAJ7hoW0Y9+Xmzmn+GSD0IW3BzbOdKPdJ67ulng009BFFYJBYwUD3Qr+oHAcJRPaFf9d/melM9ilOZfY9eVT3tC0ePIHFXPSISP7smt1k9Sv8YnJ81XD3P6Ty1BPJePTaqrbsr+WA9k2WiN5eeYj3xqAje4WxkPSYfK3YCaGY9DaWeMlKUaD2nHtg8lvZqPcuFwC0KlG09KK0hxTU5cD1kIocuA8xxPXpllYThhXM90tXkuZpqdT2fakTTVn53PQqqWwelxXk9N4/SwIVFfD10lfeYdQN/PX7IfrG8AoE9/a8gsRWpgj1O80vkZHiEPQ9qOk6jdIY9M0/olCyiiD2rTQuSyAWLPbNYjdG1pI09+DVKilpCkD1HHS75CtaRPZUhTVnikJM9HXzqv6x2lT1I2YSJlIuXPbOvnH4r1Jk9cTGA23RVnD29byFR8BSfPWL3jgtTDKE9V027FJqzoj2SdIRn7oOkPdPJVURLgaY9xYH0xQ6wqD1r9dp3AxWrPYeXndpqta09YtW3doRLsD3ofg1rGOCxPWlhmWHpm7M9tKp9k8WCtT3muDq22Zi3PS+3nCW64rk9NMgu8WxlvD0Xv0TjdCa/PdIg6MzuFcE945nHZSS+wj2NTFprfo/EPbEogFz6jcY9nr8pyvi9yD0w2hrzRiTLPaTgPE4pxs09eRdSjbNU0D1p8FSHK+rRPZ3p+KD2ptM94u1zOOWO1T3+x5pdJqbXPczs+ABR8dk9aQ7uBm513D1G6e5UAzjfPS7llfiPH+E98dKcp7TI4j2oqnfzFJvkPauzvpqwmuY9gwbxperL6D3BeKEIkzPrPZDOuTHx1u09YSsC0edd8D2h5jVRRPTxPSV37BoKsvM9Ivuksgub9T0JJNyDerP3PZMWURXw//k9PpnQIXiF/D0qdbCrm0n/PTucpZE2KQE+kheU3UrTAj4Qz4gDsqYEPtLbGANupwY+htC1XeTZCD7oB0i950ILPiH5ZYrC5w0+O+SyRCFnED4io+PLYv4RPl3A9tIjvRM+YLLqBTmnFT5kSjgt1sAXPriVR2eXDho+ydnrRouVHD6DDB3tPVsfPh1WJpviMiE+LGoIC+fdIj7fCzyfVbIkPohXmJkytCY+bhXm9eXnKD78eeoVRVIrPvv3lV2d+C0+FLpQ619wMD47NZP6hggyPiN2nMxDyDM+Kh8hNm2zNT5CGutdOc43PhdogftGHTo+nR5Ye6elPD6yfcse6mw/PlDcKBiUPEE+NbFWM4noQj5LxkHK/71EPtsjSWL+wEY+LUzycu/1SD5wfmcXq2FLPqZjobCBCU4+zcrJx6N5UD4De3vgsBJSPgZFZAtq01M+7HkmR6i/VT6S1TIapNtXPqspptb+K1o+epUwxMy1XD6UvVVGoH5fPp6yvwtLRmE+TrjdWTHzYj7Kd0yIsMlkPpGFOWHRzWY+DmxN2QAEaT5Xg6DGGXFrPqXX4ohvGm4+DtsN3eyCcD47ItWA4BxyPjHW1pKW3nM+KynbPOrLdT6gIlBmFul3PggWYP2+Ono+rEyTJvvFfD4R6VhpYJB/PhoY/3gHUIE+ezH+gd/9gj5FrxDdZ9WEPsUKepqr2oY+g+5sLRoSiT71tnkokYCLPsTzt+tmK44+MlcOLjuMkD6LqdreFSeSPt7QfmbJ6ZM+vcIhGzPYlT4kDYZGkPaXPtUJXHSHSZo+CTWhpzLWnD4KR3WNKqKfPhgI/WLJWaE+/rUar5MIoz5CEkXMJeGkPv2LHRKN56Y+G9DIczsgqT5JCdpBEZCrPg9egd5nPK4+N1S+vY6VsD5mYcj9UDGyPhXb6IkC9bM+CQ3f5YLktT7NBxq/EQS4PkeESUBYWLo+VCN+THPmvD4/Sk64/rO/Piw70cyQY8E+iseX5E0Twz4OXqJZ6uzEPn4tOcx19MY+UpLbsGQuyT6cLasXmp/LPnPEomZyTc4+q5ASj+ee0D4RbdzgkTvSPiKbowBCANQ+OwD6oNnw1T6P7VPUmhHYPp+o2mUxZ9o+6tFQGr323D7rkorv3MXfPioolbldbeE+VdHbJQ4e4z7xaOOItfjkPg==\",\"dtype\":\"float64\",\"order\":\"little\",\"shape\":[200]},\"y\":{\"__ndarray__\":\"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\",\"dtype\":\"float64\",\"order\":\"little\",\"shape\":[200]}},\"selected\":{\"id\":\"3223\"},\"selection_policy\":{\"id\":\"3224\"}},\"id\":\"3197\",\"type\":\"ColumnDataSource\"},{\"attributes\":{\"data_source\":{\"id\":\"3257\"},\"glyph\":{\"id\":\"3258\"},\"hover_glyph\":null,\"muted_glyph\":null,\"nonselection_glyph\":{\"id\":\"3259\"},\"view\":{\"id\":\"3261\"}},\"id\":\"3260\",\"type\":\"GlyphRenderer\"},{\"attributes\":{\"line_alpha\":0.1,\"line_color\":\"#DD4968\",\"x\":{\"field\":\"x\"},\"y\":{\"field\":\"y\"}},\"id\":\"3199\",\"type\":\"Line\"},{\"attributes\":{\"source\":{\"id\":\"3197\"}},\"id\":\"3201\",\"type\":\"CDSView\"},{\"attributes\":{},\"id\":\"3098\",\"type\":\"Selection\"},{\"attributes\":{},\"id\":\"3099\",\"type\":\"UnionRenderers\"},{\"attributes\":{},\"id\":\"3223\",\"type\":\"Selection\"},{\"attributes\":{},\"id\":\"3224\",\"type\":\"UnionRenderers\"},{\"attributes\":{\"data_source\":{\"id\":\"3101\"},\"glyph\":{\"id\":\"3102\"},\"hover_glyph\":null,\"muted_glyph\":null,\"nonselection_glyph\":{\"id\":\"3103\"},\"view\":{\"id\":\"3105\"}},\"id\":\"3104\",\"type\":\"GlyphRenderer\"},{\"attributes\":{},\"id\":\"3071\",\"type\":\"BasicTickFormatter\"},{\"attributes\":{\"data_source\":{\"id\":\"3122\"},\"glyph\":{\"id\":\"3123\"},\"hover_glyph\":null,\"muted_glyph\":null,\"nonselection_glyph\":{\"id\":\"3124\"},\"view\":{\"id\":\"3126\"}},\"id\":\"3125\",\"type\":\"GlyphRenderer\"},{\"attributes\":{\"data\":{\"x\":{\"__ndarray__\":\"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\",\"dtype\":\"float64\",\"order\":\"little\",\"shape\":[200]},\"y\":{\"__ndarray__\":\"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\",\"dtype\":\"float64\",\"order\":\"little\",\"shape\":[200]}},\"selected\":{\"id\":\"3119\"},\"selection_policy\":{\"id\":\"3120\"}},\"id\":\"3101\",\"type\":\"ColumnDataSource\"},{\"attributes\":{},\"id\":\"3072\",\"type\":\"AllLabels\"},{\"attributes\":{\"line_color\":\"#3B0F6F\",\"x\":{\"field\":\"x\"},\"y\":{\"field\":\"y\"}},\"id\":\"3102\",\"type\":\"Line\"},{\"attributes\":{\"ticker\":null},\"id\":\"3074\",\"type\":\"LogTickFormatter\"},{\"attributes\":{\"source\":{\"id\":\"3226\"}},\"id\":\"3230\",\"type\":\"CDSView\"},{\"attributes\":{\"line_alpha\":0.1,\"line_color\":\"#3B0F6F\",\"x\":{\"field\":\"x\"},\"y\":{\"field\":\"y\"}},\"id\":\"3103\",\"type\":\"Line\"},{\"attributes\":{\"source\":{\"id\":\"3101\"}},\"id\":\"3105\",\"type\":\"CDSView\"},{\"attributes\":{\"line_color\":\"#F66E5B\",\"x\":{\"field\":\"x\"},\"y\":{\"field\":\"y\"}},\"id\":\"3227\",\"type\":\"Line\"},{\"attributes\":{\"label\":{\"value\":\"Kd_active=-8.375\"},\"renderers\":[{\"id\":\"3229\"}]},\"id\":\"3256\",\"type\":\"LegendItem\"},{\"attributes\":{},\"id\":\"3075\",\"type\":\"AllLabels\"},{\"attributes\":{\"label\":{\"value\":\"Kd_active=-10.25\"},\"renderers\":[{\"id\":\"3104\"}]},\"id\":\"3121\",\"type\":\"LegendItem\"},{\"attributes\":{\"line_alpha\":0.1,\"line_color\":\"#F66E5B\",\"x\":{\"field\":\"x\"},\"y\":{\"field\":\"y\"}},\"id\":\"3228\",\"type\":\"Line\"}],\"root_ids\":[\"3033\"]},\"title\":\"Bokeh Application\",\"version\":\"2.3.3\"}};\n",
       "  var render_items = [{\"docid\":\"1522f52a-5a6c-4233-aef1-7b73e51c9011\",\"root_ids\":[\"3033\"],\"roots\":{\"3033\":\"c6372997-b723-4d86-abab-f994fe50ea46\"}}];\n",
       "  root.Bokeh.embed.embed_items_notebook(docs_json, render_items);\n",
       "\n",
       "  }\n",
       "  if (root.Bokeh !== undefined) {\n",
       "    embed_document(root);\n",
       "  } else {\n",
       "    var attempts = 0;\n",
       "    var timer = setInterval(function(root) {\n",
       "      if (root.Bokeh !== undefined) {\n",
       "        clearInterval(timer);\n",
       "        embed_document(root);\n",
       "      } else {\n",
       "        attempts++;\n",
       "        if (attempts > 100) {\n",
       "          clearInterval(timer);\n",
       "          console.log(\"Bokeh: ERROR: Unable to run BokehJS code because BokehJS library is missing\");\n",
       "        }\n",
       "      }\n",
       "    }, 10, root)\n",
       "  }\n",
       "})(window);"
      ],
      "application/vnd.bokehjs_exec.v0+json": ""
     },
     "metadata": {
      "application/vnd.bokehjs_exec.v0+json": {
       "id": "3033"
      }
     },
     "output_type": "display_data"
    }
   ],
   "source": [
    "#set up plot\n",
    "from bokeh.plotting import curdoc \n",
    "curdoc().clear()\n",
    "p = bokeh.plotting.figure(plot_height=600,\n",
    "                         plot_width=600,\n",
    "                         x_axis_label='[Ligands]M',\n",
    "                          y_axis_label='active_probability',\n",
    "                          x_axis_type='log')\n",
    "\n",
    "colors=bokeh.palettes.Magma[11]\n",
    "ligand_smooth=np.logspace(-13,-5,200)\n",
    "\n",
    "for i,Kd_active in enumerate(np.linspace(-11,-8,9)):    \n",
    "    p.line(ligand_smooth, agonist_only_p_active_theory(ligand_smooth, Kd_active, -9, -1), color=colors[i],legend_label='Kd_active='+str(Kd_active))\n",
    "\n",
    "p.legend.location = \"top_left\"\n",
    "\n",
    "bokeh.io.show(p);"
   ]
  },
  {
   "cell_type": "code",
   "execution_count": 20,
   "id": "503eb999",
   "metadata": {},
   "outputs": [],
   "source": [
    "from natsort import natsorted\n",
    "import glob"
   ]
  },
  {
   "cell_type": "code",
   "execution_count": 22,
   "id": "808bf3e4",
   "metadata": {},
   "outputs": [
    {
     "data": {
      "text/plain": [
       "['./jiawei_trupath_csv/MOR_BU72_Gi1_normalize_deer+Gi.xlsx',\n",
       " './jiawei_trupath_csv/MOR_DAMGO_Gi1_normalize_deer+Gi.xlsx',\n",
       " './jiawei_trupath_csv/MOR_MP_Gi1_normalize_deer+Gi.xlsx',\n",
       " './jiawei_trupath_csv/MOR_PZM21_Gi1_normalize_deer+Gi.xlsx',\n",
       " './jiawei_trupath_csv/MOR_TRV130_Gi1_normalize_deer+Gi.xlsx',\n",
       " './jiawei_trupath_csv/MOR_buprenorphine_Gi1_normalize_deer+Gi.xlsx',\n",
       " './jiawei_trupath_csv/MOR_lofentanil_Gi1_normalize_deer+Gi.xlsx',\n",
       " './jiawei_trupath_csv/MOR_morphine_Gi1_normalize_deer+Gi.xlsx']"
      ]
     },
     "execution_count": 22,
     "metadata": {},
     "output_type": "execute_result"
    }
   ],
   "source": [
    "fnames = natsorted(glob.glob(\"./jiawei_trupath_csv/MOR_*_Gi1_normalize_deer+Gi.xlsx\"))\n",
    "fnames"
   ]
  },
  {
   "cell_type": "code",
   "execution_count": 23,
   "id": "df862526",
   "metadata": {},
   "outputs": [
    {
     "data": {
      "text/html": [
       "<div>\n",
       "<style scoped>\n",
       "    .dataframe tbody tr th:only-of-type {\n",
       "        vertical-align: middle;\n",
       "    }\n",
       "\n",
       "    .dataframe tbody tr th {\n",
       "        vertical-align: top;\n",
       "    }\n",
       "\n",
       "    .dataframe thead th {\n",
       "        text-align: right;\n",
       "    }\n",
       "</style>\n",
       "<table border=\"1\" class=\"dataframe\">\n",
       "  <thead>\n",
       "    <tr style=\"text-align: right;\">\n",
       "      <th></th>\n",
       "      <th>conc</th>\n",
       "      <th>BU72</th>\n",
       "    </tr>\n",
       "  </thead>\n",
       "  <tbody>\n",
       "    <tr>\n",
       "      <th>0</th>\n",
       "      <td>1.000000e-05</td>\n",
       "      <td>0.758763</td>\n",
       "    </tr>\n",
       "    <tr>\n",
       "      <th>1</th>\n",
       "      <td>1.000000e-06</td>\n",
       "      <td>0.633927</td>\n",
       "    </tr>\n",
       "    <tr>\n",
       "      <th>2</th>\n",
       "      <td>1.000000e-07</td>\n",
       "      <td>0.862248</td>\n",
       "    </tr>\n",
       "    <tr>\n",
       "      <th>3</th>\n",
       "      <td>1.000000e-08</td>\n",
       "      <td>0.619476</td>\n",
       "    </tr>\n",
       "    <tr>\n",
       "      <th>4</th>\n",
       "      <td>1.000000e-09</td>\n",
       "      <td>0.567454</td>\n",
       "    </tr>\n",
       "    <tr>\n",
       "      <th>...</th>\n",
       "      <td>...</td>\n",
       "      <td>...</td>\n",
       "    </tr>\n",
       "    <tr>\n",
       "      <th>91</th>\n",
       "      <td>1.000000e-08</td>\n",
       "      <td>0.866254</td>\n",
       "    </tr>\n",
       "    <tr>\n",
       "      <th>92</th>\n",
       "      <td>1.000000e-09</td>\n",
       "      <td>0.711398</td>\n",
       "    </tr>\n",
       "    <tr>\n",
       "      <th>93</th>\n",
       "      <td>1.000000e-10</td>\n",
       "      <td>0.566599</td>\n",
       "    </tr>\n",
       "    <tr>\n",
       "      <th>94</th>\n",
       "      <td>1.000000e-11</td>\n",
       "      <td>0.348001</td>\n",
       "    </tr>\n",
       "    <tr>\n",
       "      <th>95</th>\n",
       "      <td>1.000000e-12</td>\n",
       "      <td>0.252693</td>\n",
       "    </tr>\n",
       "  </tbody>\n",
       "</table>\n",
       "<p>96 rows × 2 columns</p>\n",
       "</div>"
      ],
      "text/plain": [
       "            conc      BU72\n",
       "0   1.000000e-05  0.758763\n",
       "1   1.000000e-06  0.633927\n",
       "2   1.000000e-07  0.862248\n",
       "3   1.000000e-08  0.619476\n",
       "4   1.000000e-09  0.567454\n",
       "..           ...       ...\n",
       "91  1.000000e-08  0.866254\n",
       "92  1.000000e-09  0.711398\n",
       "93  1.000000e-10  0.566599\n",
       "94  1.000000e-11  0.348001\n",
       "95  1.000000e-12  0.252693\n",
       "\n",
       "[96 rows x 2 columns]"
      ]
     },
     "execution_count": 23,
     "metadata": {},
     "output_type": "execute_result"
    }
   ],
   "source": [
    "df = pd.read_excel(fnames[0])\n",
    "df\n"
   ]
  },
  {
   "cell_type": "code",
   "execution_count": 7,
   "id": "40c32914",
   "metadata": {},
   "outputs": [
    {
     "data": {
      "text/html": [
       "\n",
       "\n",
       "\n",
       "\n",
       "\n",
       "\n",
       "  <div class=\"bk-root\" id=\"4d5e83c0-562c-4953-b3af-dd4b5e778d33\" data-root-id=\"1240\"></div>\n"
      ]
     },
     "metadata": {},
     "output_type": "display_data"
    },
    {
     "data": {
      "application/javascript": [
       "(function(root) {\n",
       "  function embed_document(root) {\n",
       "    \n",
       "  const docs_json = {\"03c36abb-9413-4407-858b-d2dc6a446644\":{\"defs\":[],\"roots\":{\"references\":[{\"attributes\":{\"below\":[{\"id\":\"1249\"}],\"center\":[{\"id\":\"1252\"},{\"id\":\"1256\"},{\"id\":\"1288\"}],\"left\":[{\"id\":\"1253\"}],\"renderers\":[{\"id\":\"1275\"}],\"title\":{\"id\":\"1277\"},\"toolbar\":{\"id\":\"1264\"},\"x_range\":{\"id\":\"1241\"},\"x_scale\":{\"id\":\"1245\"},\"y_range\":{\"id\":\"1243\"},\"y_scale\":{\"id\":\"1247\"}},\"id\":\"1240\",\"subtype\":\"Figure\",\"type\":\"Plot\"},{\"attributes\":{\"fill_alpha\":{\"value\":0.1},\"fill_color\":{\"value\":\"#1f77b4\"},\"hatch_alpha\":{\"value\":0.1},\"hatch_color\":{\"value\":\"#1f77b4\"},\"line_alpha\":{\"value\":0.1},\"line_color\":{\"value\":\"#1f77b4\"},\"size\":{\"value\":7},\"x\":{\"field\":\"x\"},\"y\":{\"field\":\"y\"}},\"id\":\"1273\",\"type\":\"Circle\"},{\"attributes\":{},\"id\":\"1284\",\"type\":\"AllLabels\"},{\"attributes\":{},\"id\":\"1241\",\"type\":\"DataRange1d\"},{\"attributes\":{\"ticker\":null},\"id\":\"1283\",\"type\":\"LogTickFormatter\"},{\"attributes\":{\"coordinates\":null,\"group\":null,\"items\":[{\"id\":\"1289\"}]},\"id\":\"1288\",\"type\":\"Legend\"},{\"attributes\":{\"data\":{\"x\":{\"__ndarray__\":\"je21oPfGsD5Ir7ya8td6PjqMMOKOeUU+ldYm6AsuET67vdfZ33zbPZVkeeF//aU9EeotgZmXcT2CdklowiU8PY3ttaD3xrA+SK+8mvLXej46jDDijnlFPpXWJugLLhE+u73X2d982z2VZHnhf/2lPRHqLYGZl3E9gnZJaMIlPD2N7bWg98awPkivvJry13o+Ooww4o55RT6V1iboCy4RPru919nffNs9lWR54X/9pT0R6i2BmZdxPYJ2SWjCJTw9je21oPfGsD5Ir7ya8td6PjqMMOKOeUU+ldYm6AsuET67vdfZ33zbPZVkeeF//aU9EeotgZmXcT2CdklowiU8PY3ttaD3xrA+SK+8mvLXej46jDDijnlFPpXWJugLLhE+u73X2d982z2VZHnhf/2lPRHqLYGZl3E9gnZJaMIlPD2N7bWg98awPkivvJry13o+Ooww4o55RT6V1iboCy4RPru919nffNs9lWR54X/9pT0R6i2BmZdxPYJ2SWjCJTw9je21oPfGsD5Ir7ya8td6PjqMMOKOeUU+ldYm6AsuET67vdfZ33zbPZVkeeF//aU9EeotgZmXcT2CdklowiU8PY3ttaD3xrA+SK+8mvLXej46jDDijnlFPpXWJugLLhE+u73X2d982z2VZHnhf/2lPRHqLYGZl3E9gnZJaMIlPD2N7bWg98awPkivvJry13o+Ooww4o55RT6V1iboCy4RPru919nffNs9lWR54X/9pT0R6i2BmZdxPYJ2SWjCJTw9\",\"dtype\":\"float64\",\"order\":\"little\",\"shape\":[72]},\"y\":{\"__ndarray__\":\"Jug9W9076j+IQV/hhWDrP1jfJtqcw+o/CtnbuHM05T9EW3K07hjiPwDfLqMkmNw/BUUaZS9I0T+9JjeYtVvMP4cNs2pC9+k/Vkp2YsbY6j+tAJUOxyPqPxU/G5uXLOY/aO8ZYfpB4z/wCqIoZ/HZP0Kq3dPIWMw/8IDk/o570D/08FTcHbTpP0+vpQRSuOg/uMfY8X2d6T+zhPUTXIbmP+HWwq0QWuM/oCgQ9yNN3T/CS2z7JS7bP9i7C9ZJScs/ruT8mx2O5z/XbcWPTpXoP56XXK2zK+k/o0DnS7mZ5j+wWRuqLTbgP3T9l3T2Z9o/YvGiQm8/yz/+KqKZtJbNP8cgJaHkMuo/LAbYRLFF6j+QMZ2Kh/DlP08uYfT9l+Y/QOYqxI6i4j/YNXH7K6nePzjxoatF6dI/dOoTX+Ue0D8L79lmD7zoP0Ip4RW2Eeg/ClN4Mxuo6D+B1bLa6+TmP5iloFguj+I/BOsGjZRZ2D/Y4Yk7x4/NPx/n25fKKs4/kshdx7HO6j9LV6Q/H2DoP4JmcIRAgOc/9JSt5Tv45j/D91R97XrlP2bQyFuC0ds/eZdHDS4o0j8vFGIuEtDLP7fDIcYy/Ok/UgYJgWry5z9GJz+L7JvmP3Po5iQwz+c/kTAiIotA4z/khIHf8N7YP8Qk+53DbdI/i4QQHT0hyz9MREmmghbqP3KPWaMYfek/8uvTZQ9t6D/YuFoDlSLoP6XrPvqvbOM/RJhx5Owo3D+nGOUahl/QP83lgrl6zM0/\",\"dtype\":\"float64\",\"order\":\"little\",\"shape\":[72]}},\"selected\":{\"id\":\"1286\"},\"selection_policy\":{\"id\":\"1285\"}},\"id\":\"1271\",\"type\":\"ColumnDataSource\"},{\"attributes\":{\"fill_color\":{\"value\":\"#1f77b4\"},\"hatch_color\":{\"value\":\"#1f77b4\"},\"line_color\":{\"value\":\"#1f77b4\"},\"size\":{\"value\":7},\"x\":{\"field\":\"x\"},\"y\":{\"field\":\"y\"}},\"id\":\"1272\",\"type\":\"Circle\"},{\"attributes\":{\"axis_label\":\"[Ligands] M\",\"coordinates\":null,\"formatter\":{\"id\":\"1283\"},\"group\":null,\"major_label_policy\":{\"id\":\"1284\"},\"ticker\":{\"id\":\"1250\"}},\"id\":\"1249\",\"type\":\"LogAxis\"},{\"attributes\":{},\"id\":\"1245\",\"type\":\"LogScale\"},{\"attributes\":{},\"id\":\"1243\",\"type\":\"DataRange1d\"},{\"attributes\":{\"axis_label\":\"active_probability\",\"coordinates\":null,\"formatter\":{\"id\":\"1280\"},\"group\":null,\"major_label_policy\":{\"id\":\"1281\"},\"ticker\":{\"id\":\"1254\"}},\"id\":\"1253\",\"type\":\"LinearAxis\"},{\"attributes\":{},\"id\":\"1247\",\"type\":\"LinearScale\"},{\"attributes\":{\"fill_alpha\":{\"value\":0.2},\"fill_color\":{\"value\":\"#1f77b4\"},\"hatch_alpha\":{\"value\":0.2},\"hatch_color\":{\"value\":\"#1f77b4\"},\"line_alpha\":{\"value\":0.2},\"line_color\":{\"value\":\"#1f77b4\"},\"size\":{\"value\":7},\"x\":{\"field\":\"x\"},\"y\":{\"field\":\"y\"}},\"id\":\"1274\",\"type\":\"Circle\"},{\"attributes\":{\"num_minor_ticks\":10},\"id\":\"1250\",\"type\":\"LogTicker\"},{\"attributes\":{\"axis\":{\"id\":\"1249\"},\"coordinates\":null,\"group\":null,\"ticker\":null},\"id\":\"1252\",\"type\":\"Grid\"},{\"attributes\":{},\"id\":\"1258\",\"type\":\"WheelZoomTool\"},{\"attributes\":{},\"id\":\"1280\",\"type\":\"BasicTickFormatter\"},{\"attributes\":{\"source\":{\"id\":\"1271\"}},\"id\":\"1276\",\"type\":\"CDSView\"},{\"attributes\":{\"axis\":{\"id\":\"1253\"},\"coordinates\":null,\"dimension\":1,\"group\":null,\"ticker\":null},\"id\":\"1256\",\"type\":\"Grid\"},{\"attributes\":{},\"id\":\"1281\",\"type\":\"AllLabels\"},{\"attributes\":{},\"id\":\"1254\",\"type\":\"BasicTicker\"},{\"attributes\":{\"tools\":[{\"id\":\"1257\"},{\"id\":\"1258\"},{\"id\":\"1259\"},{\"id\":\"1260\"},{\"id\":\"1261\"},{\"id\":\"1262\"}]},\"id\":\"1264\",\"type\":\"Toolbar\"},{\"attributes\":{},\"id\":\"1262\",\"type\":\"HelpTool\"},{\"attributes\":{},\"id\":\"1257\",\"type\":\"PanTool\"},{\"attributes\":{\"overlay\":{\"id\":\"1263\"}},\"id\":\"1259\",\"type\":\"BoxZoomTool\"},{\"attributes\":{},\"id\":\"1260\",\"type\":\"SaveTool\"},{\"attributes\":{},\"id\":\"1261\",\"type\":\"ResetTool\"},{\"attributes\":{\"label\":{\"value\":\"lofentanyl\"},\"renderers\":[{\"id\":\"1275\"}]},\"id\":\"1289\",\"type\":\"LegendItem\"},{\"attributes\":{\"bottom_units\":\"screen\",\"coordinates\":null,\"fill_alpha\":0.5,\"fill_color\":\"lightgrey\",\"group\":null,\"left_units\":\"screen\",\"level\":\"overlay\",\"line_alpha\":1.0,\"line_color\":\"black\",\"line_dash\":[4,4],\"line_width\":2,\"right_units\":\"screen\",\"syncable\":false,\"top_units\":\"screen\"},\"id\":\"1263\",\"type\":\"BoxAnnotation\"},{\"attributes\":{\"coordinates\":null,\"data_source\":{\"id\":\"1271\"},\"glyph\":{\"id\":\"1272\"},\"group\":null,\"hover_glyph\":null,\"muted_glyph\":{\"id\":\"1274\"},\"nonselection_glyph\":{\"id\":\"1273\"},\"view\":{\"id\":\"1276\"}},\"id\":\"1275\",\"type\":\"GlyphRenderer\"},{\"attributes\":{},\"id\":\"1285\",\"type\":\"UnionRenderers\"},{\"attributes\":{\"coordinates\":null,\"group\":null},\"id\":\"1277\",\"type\":\"Title\"},{\"attributes\":{},\"id\":\"1286\",\"type\":\"Selection\"}],\"root_ids\":[\"1240\"]},\"title\":\"Bokeh Application\",\"version\":\"2.4.2\"}};\n",
       "  const render_items = [{\"docid\":\"03c36abb-9413-4407-858b-d2dc6a446644\",\"root_ids\":[\"1240\"],\"roots\":{\"1240\":\"4d5e83c0-562c-4953-b3af-dd4b5e778d33\"}}];\n",
       "  root.Bokeh.embed.embed_items_notebook(docs_json, render_items);\n",
       "\n",
       "  }\n",
       "  if (root.Bokeh !== undefined) {\n",
       "    embed_document(root);\n",
       "  } else {\n",
       "    let attempts = 0;\n",
       "    const timer = setInterval(function(root) {\n",
       "      if (root.Bokeh !== undefined) {\n",
       "        clearInterval(timer);\n",
       "        embed_document(root);\n",
       "      } else {\n",
       "        attempts++;\n",
       "        if (attempts > 100) {\n",
       "          clearInterval(timer);\n",
       "          console.log(\"Bokeh: ERROR: Unable to run BokehJS code because BokehJS library is missing\");\n",
       "        }\n",
       "      }\n",
       "    }, 10, root)\n",
       "  }\n",
       "})(window);"
      ],
      "application/vnd.bokehjs_exec.v0+json": ""
     },
     "metadata": {
      "application/vnd.bokehjs_exec.v0+json": {
       "id": "1240"
      }
     },
     "output_type": "display_data"
    }
   ],
   "source": [
    "curdoc().clear()\n",
    "p = bokeh.plotting.figure(plot_height=600,\n",
    "                         plot_width=600,\n",
    "                         x_axis_label='[Ligands] M',\n",
    "                          y_axis_label='active_probability',\n",
    "                          x_axis_type='log')\n",
    "colors=bokeh.palettes.d3['Category10'][10]\n",
    "\n",
    "for i,ligand in enumerate(df.columns[1:]):\n",
    "    c, p_active = df['conc'].values, df[ligand].values\n",
    "    p.circle(c, p_active, size=7, color=colors[i],legend_label=ligand)\n",
    "\n",
    "bokeh.io.show(p);"
   ]
  },
  {
   "cell_type": "code",
   "execution_count": 27,
   "id": "09130ed6",
   "metadata": {},
   "outputs": [
    {
     "data": {
      "text/plain": [
       "'BU72'"
      ]
     },
     "execution_count": 27,
     "metadata": {},
     "output_type": "execute_result"
    }
   ],
   "source": [
    "lidf.columns[1]"
   ]
  },
  {
   "cell_type": "code",
   "execution_count": 31,
   "id": "94d73bf0",
   "metadata": {},
   "outputs": [
    {
     "data": {
      "text/html": [
       "\n",
       "\n",
       "\n",
       "\n",
       "\n",
       "\n",
       "  <div class=\"bk-root\" id=\"6c00e016-56b7-4cab-9462-ea07b1b3502a\" data-root-id=\"3809\"></div>\n"
      ]
     },
     "metadata": {},
     "output_type": "display_data"
    },
    {
     "data": {
      "application/javascript": [
       "(function(root) {\n",
       "  function embed_document(root) {\n",
       "    \n",
       "  var docs_json = {\"feff5ea9-ce7c-43e2-9e6a-95b566e49487\":{\"defs\":[],\"roots\":{\"references\":[{\"attributes\":{\"below\":[{\"id\":\"3818\"}],\"center\":[{\"id\":\"3821\"},{\"id\":\"3825\"}],\"height\":400,\"left\":[{\"id\":\"3822\"}],\"renderers\":[{\"id\":\"3843\"},{\"id\":\"3848\"}],\"title\":{\"id\":\"3851\"},\"toolbar\":{\"id\":\"3833\"},\"x_range\":{\"id\":\"3810\"},\"x_scale\":{\"id\":\"3814\"},\"y_range\":{\"id\":\"3812\"},\"y_scale\":{\"id\":\"3816\"}},\"id\":\"3809\",\"subtype\":\"Figure\",\"type\":\"Plot\"},{\"attributes\":{},\"id\":\"3823\",\"type\":\"BasicTicker\"},{\"attributes\":{},\"id\":\"3831\",\"type\":\"HelpTool\"},{\"attributes\":{\"active_multi\":null,\"tools\":[{\"id\":\"3826\"},{\"id\":\"3827\"},{\"id\":\"3828\"},{\"id\":\"3829\"},{\"id\":\"3830\"},{\"id\":\"3831\"}]},\"id\":\"3833\",\"type\":\"Toolbar\"},{\"attributes\":{},\"id\":\"3812\",\"type\":\"DataRange1d\"},{\"attributes\":{},\"id\":\"3827\",\"type\":\"WheelZoomTool\"},{\"attributes\":{\"source\":{\"id\":\"3845\"}},\"id\":\"3849\",\"type\":\"CDSView\"},{\"attributes\":{\"line_alpha\":0.1,\"line_color\":\"#1f77b4\",\"x\":{\"field\":\"x\"},\"y\":{\"field\":\"y\"}},\"id\":\"3842\",\"type\":\"Line\"},{\"attributes\":{},\"id\":\"3814\",\"type\":\"LogScale\"},{\"attributes\":{},\"id\":\"3826\",\"type\":\"PanTool\"},{\"attributes\":{},\"id\":\"3862\",\"type\":\"UnionRenderers\"},{\"attributes\":{\"fill_alpha\":{\"value\":0.1},\"fill_color\":{\"value\":\"#1f77b4\"},\"line_alpha\":{\"value\":0.1},\"line_color\":{\"value\":\"#1f77b4\"},\"size\":{\"value\":7},\"x\":{\"field\":\"x\"},\"y\":{\"field\":\"y\"}},\"id\":\"3847\",\"type\":\"Circle\"},{\"attributes\":{},\"id\":\"3851\",\"type\":\"Title\"},{\"attributes\":{\"source\":{\"id\":\"3840\"}},\"id\":\"3844\",\"type\":\"CDSView\"},{\"attributes\":{},\"id\":\"3861\",\"type\":\"Selection\"},{\"attributes\":{\"axis\":{\"id\":\"3822\"},\"dimension\":1,\"ticker\":null},\"id\":\"3825\",\"type\":\"Grid\"},{\"attributes\":{\"data\":{\"x\":{\"__ndarray__\":\"8WjjiLX45D6N7bWg98awPkivvJry13o+Ooww4o55RT6V1iboCy4RPru919nffNs9lWR54X/9pT0R6i2BmZdxPfFo44i1+OQ+je21oPfGsD5Ir7ya8td6PjqMMOKOeUU+ldYm6AsuET67vdfZ33zbPZVkeeF//aU9EeotgZmXcT3xaOOItfjkPo3ttaD3xrA+SK+8mvLXej46jDDijnlFPpXWJugLLhE+u73X2d982z2VZHnhf/2lPRHqLYGZl3E98WjjiLX45D6N7bWg98awPkivvJry13o+Ooww4o55RT6V1iboCy4RPru919nffNs9lWR54X/9pT0R6i2BmZdxPfFo44i1+OQ+je21oPfGsD5Ir7ya8td6PjqMMOKOeUU+ldYm6AsuET67vdfZ33zbPZVkeeF//aU9EeotgZmXcT3xaOOItfjkPo3ttaD3xrA+SK+8mvLXej46jDDijnlFPpXWJugLLhE+u73X2d982z2VZHnhf/2lPRHqLYGZl3E98WjjiLX45D6N7bWg98awPkivvJry13o+Ooww4o55RT6V1iboCy4RPru919nffNs9lWR54X/9pT0R6i2BmZdxPfFo44i1+OQ+je21oPfGsD5Ir7ya8td6PjqMMOKOeUU+ldYm6AsuET67vdfZ33zbPZVkeeF//aU9EeotgZmXcT3xaOOItfjkPo3ttaD3xrA+SK+8mvLXej46jDDijnlFPpXWJugLLhE+u73X2d982z2VZHnhf/2lPRHqLYGZl3E9\",\"dtype\":\"float64\",\"order\":\"little\",\"shape\":[72]},\"y\":{\"__ndarray__\":\"JLtFw6z26D9AGfDWm9HnP97Hx0/7x+g/JLtFw6z26D+Xm6RzQnDeP+DdFQIuGNI/0XpTIKlqzD/4Gn25uwXQP2iSh5cumeY/pACPU7pV6j/a/VbNJ2znP2R0CtiD++g/40RgsNhE3z8eHv1eAvnMPwgNCdJRmNE/JAqw8AoTxT9ai82jeWLnP4ZjBt4S3ew/JkGz4OlA7T/yIE1gDC/pPyGfg0upltg/tqZOMnZ7zj9mv0ZoG3zOP2pIvLBv89A/vIDeEhGG6j9o+oymNsjmPwBIfSnIyuw/oqixQOqL6T+UxrQmF//hP8KaRcu/IdM/iOqAKD5R1D8his3fomjQP85XJXuYT+Y/AmARPCwb5z8o8qDlovzlP4yxa9Pxfus/8GJlm7vc4D+Ecrxjnv3WPwyTN3Nbusk//7eG9p+Pzz82x7JDkJXiP1I5pUZ5HuY/OBW7Xk2h7D8+KeVcfZDoP8TNnl/fe94/UBI+hsRa1z94jMqCGQHLP+Dsfcu06c4/nGK8B41G5T8QvBBYAM/nP8ZkaB/j/+k/nAWUOFMD5z8soCSbKQvhP7lgr4j46Nc/jwsNlZNWzz8R0O5llMTNP+gO6E02MuM/oky5cTsn6j+we2h5VdDrP+aqkJSqcuY/SPJnXaft4D8G5vchv9zYP7r0DDshhs0/OzVYVElIyz8iNCgg8CTmP7C9oU/ZAOo//DZoa/5e5j+Izj9vizPnP5AZeGzA8dw/OVWvW78A1z9URM9ELijVP6y6nV9X/Mk/\",\"dtype\":\"float64\",\"order\":\"little\",\"shape\":[72]}},\"selected\":{\"id\":\"3861\"},\"selection_policy\":{\"id\":\"3862\"}},\"id\":\"3845\",\"type\":\"ColumnDataSource\"},{\"attributes\":{},\"id\":\"3816\",\"type\":\"LinearScale\"},{\"attributes\":{\"line_color\":\"#1f77b4\",\"x\":{\"field\":\"x\"},\"y\":{\"field\":\"y\"}},\"id\":\"3841\",\"type\":\"Line\"},{\"attributes\":{\"data_source\":{\"id\":\"3845\"},\"glyph\":{\"id\":\"3846\"},\"hover_glyph\":null,\"muted_glyph\":null,\"nonselection_glyph\":{\"id\":\"3847\"},\"view\":{\"id\":\"3849\"}},\"id\":\"3848\",\"type\":\"GlyphRenderer\"},{\"attributes\":{\"num_minor_ticks\":10},\"id\":\"3819\",\"type\":\"LogTicker\"},{\"attributes\":{\"fill_color\":{\"value\":\"#1f77b4\"},\"line_color\":{\"value\":\"#1f77b4\"},\"size\":{\"value\":7},\"x\":{\"field\":\"x\"},\"y\":{\"field\":\"y\"}},\"id\":\"3846\",\"type\":\"Circle\"},{\"attributes\":{\"axis_label\":\"MP [M]\",\"formatter\":{\"id\":\"3855\"},\"major_label_policy\":{\"id\":\"3856\"},\"ticker\":{\"id\":\"3819\"}},\"id\":\"3818\",\"type\":\"LogAxis\"},{\"attributes\":{},\"id\":\"3810\",\"type\":\"DataRange1d\"},{\"attributes\":{\"overlay\":{\"id\":\"3832\"}},\"id\":\"3828\",\"type\":\"BoxZoomTool\"},{\"attributes\":{\"axis_label\":\"active_probability\",\"formatter\":{\"id\":\"3852\"},\"major_label_policy\":{\"id\":\"3853\"},\"ticker\":{\"id\":\"3823\"}},\"id\":\"3822\",\"type\":\"LinearAxis\"},{\"attributes\":{},\"id\":\"3856\",\"type\":\"AllLabels\"},{\"attributes\":{},\"id\":\"3853\",\"type\":\"AllLabels\"},{\"attributes\":{\"ticker\":null},\"id\":\"3855\",\"type\":\"LogTickFormatter\"},{\"attributes\":{\"data_source\":{\"id\":\"3840\"},\"glyph\":{\"id\":\"3841\"},\"hover_glyph\":null,\"muted_glyph\":null,\"nonselection_glyph\":{\"id\":\"3842\"},\"view\":{\"id\":\"3844\"}},\"id\":\"3843\",\"type\":\"GlyphRenderer\"},{\"attributes\":{\"bottom_units\":\"screen\",\"fill_alpha\":0.5,\"fill_color\":\"lightgrey\",\"left_units\":\"screen\",\"level\":\"overlay\",\"line_alpha\":1.0,\"line_color\":\"black\",\"line_dash\":[4,4],\"line_width\":2,\"right_units\":\"screen\",\"syncable\":false,\"top_units\":\"screen\"},\"id\":\"3832\",\"type\":\"BoxAnnotation\"},{\"attributes\":{\"axis\":{\"id\":\"3818\"},\"ticker\":null},\"id\":\"3821\",\"type\":\"Grid\"},{\"attributes\":{},\"id\":\"3859\",\"type\":\"Selection\"},{\"attributes\":{},\"id\":\"3852\",\"type\":\"BasicTickFormatter\"},{\"attributes\":{},\"id\":\"3860\",\"type\":\"UnionRenderers\"},{\"attributes\":{\"data\":{\"x\":{\"__ndarray__\":\"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\",\"dtype\":\"float64\",\"order\":\"little\",\"shape\":[200]},\"y\":{\"__ndarray__\":\"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\",\"dtype\":\"float64\",\"order\":\"little\",\"shape\":[200]}},\"selected\":{\"id\":\"3859\"},\"selection_policy\":{\"id\":\"3860\"}},\"id\":\"3840\",\"type\":\"ColumnDataSource\"},{\"attributes\":{},\"id\":\"3830\",\"type\":\"ResetTool\"},{\"attributes\":{},\"id\":\"3829\",\"type\":\"SaveTool\"}],\"root_ids\":[\"3809\"]},\"title\":\"Bokeh Application\",\"version\":\"2.3.3\"}};\n",
       "  var render_items = [{\"docid\":\"feff5ea9-ce7c-43e2-9e6a-95b566e49487\",\"root_ids\":[\"3809\"],\"roots\":{\"3809\":\"6c00e016-56b7-4cab-9462-ea07b1b3502a\"}}];\n",
       "  root.Bokeh.embed.embed_items_notebook(docs_json, render_items);\n",
       "\n",
       "  }\n",
       "  if (root.Bokeh !== undefined) {\n",
       "    embed_document(root);\n",
       "  } else {\n",
       "    var attempts = 0;\n",
       "    var timer = setInterval(function(root) {\n",
       "      if (root.Bokeh !== undefined) {\n",
       "        clearInterval(timer);\n",
       "        embed_document(root);\n",
       "      } else {\n",
       "        attempts++;\n",
       "        if (attempts > 100) {\n",
       "          clearInterval(timer);\n",
       "          console.log(\"Bokeh: ERROR: Unable to run BokehJS code because BokehJS library is missing\");\n",
       "        }\n",
       "      }\n",
       "    }, 10, root)\n",
       "  }\n",
       "})(window);"
      ],
      "application/vnd.bokehjs_exec.v0+json": ""
     },
     "metadata": {
      "application/vnd.bokehjs_exec.v0+json": {
       "id": "3809"
      }
     },
     "output_type": "display_data"
    },
    {
     "name": "stdout",
     "output_type": "stream",
     "text": [
      "[-9.51908246 -8.50333157 -1.12017514]\n",
      "[3.02633875e-10 3.13811193e-09 7.58271724e-02]\n"
     ]
    }
   ],
   "source": [
    "df = pd.read_excel(fnames[2])\n",
    "curdoc().clear()\n",
    "#initial parameter for optimization\n",
    "p0 = np.array([-7,-4,-4.5])\n",
    "ligand_name = df.columns[1]\n",
    "c, p_active = df['conc'].values, df[ligand_name].values\n",
    "\n",
    "#optimize kd and energy difference to fit the data\n",
    "res = scipy.optimize.least_squares(resid, p0, args = (c,p_active))\n",
    "\n",
    "curdoc().clear()\n",
    "p = bokeh.plotting.figure(plot_height=400,\n",
    "                         plot_width=600,\n",
    "                         x_axis_label=ligand_name+' [M]',\n",
    "                          y_axis_label='active_probability',\n",
    "                          x_axis_type='log')\n",
    "\n",
    "p.line(ligand_smooth, agonist_only_p_active_theory(ligand_smooth, res.x[0],res.x[1],res.x[2]))\n",
    "p.circle(c, p_active, size=7)\n",
    "\n",
    "bokeh.io.show(p);\n",
    "print(res.x)\n",
    "print(10**res.x)"
   ]
  },
  {
   "cell_type": "code",
   "execution_count": 54,
   "id": "621634c3",
   "metadata": {},
   "outputs": [
    {
     "data": {
      "text/plain": [
       "array([-9.6270621 , -7.09411868, -3.96001784])"
      ]
     },
     "execution_count": 54,
     "metadata": {},
     "output_type": "execute_result"
    }
   ],
   "source": [
    "res.x"
   ]
  },
  {
   "cell_type": "code",
   "execution_count": 14,
   "id": "0f463351",
   "metadata": {},
   "outputs": [
    {
     "data": {
      "text/html": [
       "\n",
       "\n",
       "\n",
       "\n",
       "\n",
       "\n",
       "  <div class=\"bk-root\" id=\"3a88548e-d530-40e1-8169-d45b50cc0960\" data-root-id=\"2068\"></div>\n"
      ]
     },
     "metadata": {},
     "output_type": "display_data"
    },
    {
     "data": {
      "application/javascript": [
       "(function(root) {\n",
       "  function embed_document(root) {\n",
       "    \n",
       "  const docs_json = {\"113b0457-f737-4f7e-a80c-3a7dc2e46f56\":{\"defs\":[],\"roots\":{\"references\":[{\"attributes\":{\"below\":[{\"id\":\"2077\"}],\"center\":[{\"id\":\"2080\"},{\"id\":\"2084\"}],\"height\":400,\"left\":[{\"id\":\"2081\"}],\"renderers\":[{\"id\":\"2103\"},{\"id\":\"2109\"}],\"title\":{\"id\":\"2111\"},\"toolbar\":{\"id\":\"2092\"},\"x_range\":{\"id\":\"2069\"},\"x_scale\":{\"id\":\"2073\"},\"y_range\":{\"id\":\"2071\"},\"y_scale\":{\"id\":\"2075\"}},\"id\":\"2068\",\"subtype\":\"Figure\",\"type\":\"Plot\"},{\"attributes\":{\"fill_alpha\":{\"value\":0.2},\"fill_color\":{\"value\":\"#d62728\"},\"hatch_alpha\":{\"value\":0.2},\"hatch_color\":{\"value\":\"#d62728\"},\"line_alpha\":{\"value\":0.2},\"line_color\":{\"value\":\"#d62728\"},\"size\":{\"value\":7},\"x\":{\"field\":\"x\"},\"y\":{\"field\":\"y\"}},\"id\":\"2108\",\"type\":\"Circle\"},{\"attributes\":{\"fill_color\":{\"value\":\"#d62728\"},\"hatch_color\":{\"value\":\"#d62728\"},\"line_color\":{\"value\":\"#d62728\"},\"size\":{\"value\":7},\"x\":{\"field\":\"x\"},\"y\":{\"field\":\"y\"}},\"id\":\"2106\",\"type\":\"Circle\"},{\"attributes\":{\"data\":{\"x\":{\"__ndarray__\":\"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\",\"dtype\":\"float64\",\"order\":\"little\",\"shape\":[200]},\"y\":{\"__ndarray__\":\"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\",\"dtype\":\"float64\",\"order\":\"little\",\"shape\":[200]}},\"selected\":{\"id\":\"2120\"},\"selection_policy\":{\"id\":\"2119\"}},\"id\":\"2099\",\"type\":\"ColumnDataSource\"},{\"attributes\":{\"axis_label\":\"active_probability\",\"coordinates\":null,\"formatter\":{\"id\":\"2114\"},\"group\":null,\"major_label_policy\":{\"id\":\"2115\"},\"ticker\":{\"id\":\"2082\"}},\"id\":\"2081\",\"type\":\"LinearAxis\"},{\"attributes\":{},\"id\":\"2075\",\"type\":\"LinearScale\"},{\"attributes\":{},\"id\":\"2120\",\"type\":\"Selection\"},{\"attributes\":{\"line_color\":\"#1f77b4\",\"x\":{\"field\":\"x\"},\"y\":{\"field\":\"y\"}},\"id\":\"2100\",\"type\":\"Line\"},{\"attributes\":{\"coordinates\":null,\"data_source\":{\"id\":\"2105\"},\"glyph\":{\"id\":\"2106\"},\"group\":null,\"hover_glyph\":null,\"muted_glyph\":{\"id\":\"2108\"},\"nonselection_glyph\":{\"id\":\"2107\"},\"view\":{\"id\":\"2110\"}},\"id\":\"2109\",\"type\":\"GlyphRenderer\"},{\"attributes\":{},\"id\":\"2069\",\"type\":\"DataRange1d\"},{\"attributes\":{\"line_alpha\":0.1,\"line_color\":\"#1f77b4\",\"x\":{\"field\":\"x\"},\"y\":{\"field\":\"y\"}},\"id\":\"2101\",\"type\":\"Line\"},{\"attributes\":{},\"id\":\"2119\",\"type\":\"UnionRenderers\"},{\"attributes\":{},\"id\":\"2071\",\"type\":\"DataRange1d\"},{\"attributes\":{},\"id\":\"2090\",\"type\":\"HelpTool\"},{\"attributes\":{},\"id\":\"2073\",\"type\":\"LogScale\"},{\"attributes\":{\"coordinates\":null,\"group\":null},\"id\":\"2111\",\"type\":\"Title\"},{\"attributes\":{},\"id\":\"2086\",\"type\":\"WheelZoomTool\"},{\"attributes\":{\"source\":{\"id\":\"2099\"}},\"id\":\"2104\",\"type\":\"CDSView\"},{\"attributes\":{},\"id\":\"2122\",\"type\":\"Selection\"},{\"attributes\":{\"ticker\":null},\"id\":\"2117\",\"type\":\"LogTickFormatter\"},{\"attributes\":{\"axis\":{\"id\":\"2081\"},\"coordinates\":null,\"dimension\":1,\"group\":null,\"ticker\":null},\"id\":\"2084\",\"type\":\"Grid\"},{\"attributes\":{\"line_alpha\":0.2,\"line_color\":\"#1f77b4\",\"x\":{\"field\":\"x\"},\"y\":{\"field\":\"y\"}},\"id\":\"2102\",\"type\":\"Line\"},{\"attributes\":{\"axis\":{\"id\":\"2077\"},\"coordinates\":null,\"group\":null,\"ticker\":null},\"id\":\"2080\",\"type\":\"Grid\"},{\"attributes\":{},\"id\":\"2088\",\"type\":\"SaveTool\"},{\"attributes\":{\"data\":{\"x\":{\"__ndarray__\":\"8WjjiLX45D679pawq8bAPhuSU62U2Jo+oI4DVa95dT7M4Xca2C1RPjaq640QfCs+3t8LVsL9BT7oVNoJf5fhPTSqdm7HIbw9TvOxegaBlj2fbg5/gAByPfFo44i1+OQ+u/aWsKvGwD4bklOtlNiaPqCOA1WveXU+zOF3GtgtUT42quuNEHwrPt7fC1bC/QU+6FTaCX+X4T00qnZuxyG8PU7zsXoGgZY9n24Of4AAcj0=\",\"dtype\":\"float64\",\"order\":\"little\",\"shape\":[22]},\"y\":{\"__ndarray__\":\"urA975R17z86WPX/iT3vP9LGNKFp3eo/tp4zG/jr6j9YztWMkTXkP1RYl5GaQNA/3Nin+K6WnD9kjzvKh/Wpv2qXFikhrrQ/7tGXFSrcmj/SOWrpLgmTPzoJht6fre8/t7Iydt7/7z/Uvu69QYjqP6G4yf0QWuw/4tCedy0j4z8Czv3UAMTSP2g2LvhkNqo/hE049mwBeL+OQ2ObGh+qP5ih/rQHEgC/AIylvgw0tT8=\",\"dtype\":\"float64\",\"order\":\"little\",\"shape\":[22]}},\"selected\":{\"id\":\"2122\"},\"selection_policy\":{\"id\":\"2121\"}},\"id\":\"2105\",\"type\":\"ColumnDataSource\"},{\"attributes\":{},\"id\":\"2115\",\"type\":\"AllLabels\"},{\"attributes\":{},\"id\":\"2082\",\"type\":\"BasicTicker\"},{\"attributes\":{},\"id\":\"2089\",\"type\":\"ResetTool\"},{\"attributes\":{\"axis_label\":\"[fentanyl] M\",\"coordinates\":null,\"formatter\":{\"id\":\"2117\"},\"group\":null,\"major_label_policy\":{\"id\":\"2118\"},\"ticker\":{\"id\":\"2078\"}},\"id\":\"2077\",\"type\":\"LogAxis\"},{\"attributes\":{\"num_minor_ticks\":10},\"id\":\"2078\",\"type\":\"LogTicker\"},{\"attributes\":{},\"id\":\"2085\",\"type\":\"PanTool\"},{\"attributes\":{},\"id\":\"2118\",\"type\":\"AllLabels\"},{\"attributes\":{\"source\":{\"id\":\"2105\"}},\"id\":\"2110\",\"type\":\"CDSView\"},{\"attributes\":{\"fill_alpha\":{\"value\":0.1},\"fill_color\":{\"value\":\"#d62728\"},\"hatch_alpha\":{\"value\":0.1},\"hatch_color\":{\"value\":\"#d62728\"},\"line_alpha\":{\"value\":0.1},\"line_color\":{\"value\":\"#d62728\"},\"size\":{\"value\":7},\"x\":{\"field\":\"x\"},\"y\":{\"field\":\"y\"}},\"id\":\"2107\",\"type\":\"Circle\"},{\"attributes\":{},\"id\":\"2114\",\"type\":\"BasicTickFormatter\"},{\"attributes\":{},\"id\":\"2121\",\"type\":\"UnionRenderers\"},{\"attributes\":{\"overlay\":{\"id\":\"2091\"}},\"id\":\"2087\",\"type\":\"BoxZoomTool\"},{\"attributes\":{\"bottom_units\":\"screen\",\"coordinates\":null,\"fill_alpha\":0.5,\"fill_color\":\"lightgrey\",\"group\":null,\"left_units\":\"screen\",\"level\":\"overlay\",\"line_alpha\":1.0,\"line_color\":\"black\",\"line_dash\":[4,4],\"line_width\":2,\"right_units\":\"screen\",\"syncable\":false,\"top_units\":\"screen\"},\"id\":\"2091\",\"type\":\"BoxAnnotation\"},{\"attributes\":{\"tools\":[{\"id\":\"2085\"},{\"id\":\"2086\"},{\"id\":\"2087\"},{\"id\":\"2088\"},{\"id\":\"2089\"},{\"id\":\"2090\"}]},\"id\":\"2092\",\"type\":\"Toolbar\"},{\"attributes\":{\"coordinates\":null,\"data_source\":{\"id\":\"2099\"},\"glyph\":{\"id\":\"2100\"},\"group\":null,\"hover_glyph\":null,\"muted_glyph\":{\"id\":\"2102\"},\"nonselection_glyph\":{\"id\":\"2101\"},\"view\":{\"id\":\"2104\"}},\"id\":\"2103\",\"type\":\"GlyphRenderer\"}],\"root_ids\":[\"2068\"]},\"title\":\"Bokeh Application\",\"version\":\"2.4.2\"}};\n",
       "  const render_items = [{\"docid\":\"113b0457-f737-4f7e-a80c-3a7dc2e46f56\",\"root_ids\":[\"2068\"],\"roots\":{\"2068\":\"3a88548e-d530-40e1-8169-d45b50cc0960\"}}];\n",
       "  root.Bokeh.embed.embed_items_notebook(docs_json, render_items);\n",
       "\n",
       "  }\n",
       "  if (root.Bokeh !== undefined) {\n",
       "    embed_document(root);\n",
       "  } else {\n",
       "    let attempts = 0;\n",
       "    const timer = setInterval(function(root) {\n",
       "      if (root.Bokeh !== undefined) {\n",
       "        clearInterval(timer);\n",
       "        embed_document(root);\n",
       "      } else {\n",
       "        attempts++;\n",
       "        if (attempts > 100) {\n",
       "          clearInterval(timer);\n",
       "          console.log(\"Bokeh: ERROR: Unable to run BokehJS code because BokehJS library is missing\");\n",
       "        }\n",
       "      }\n",
       "    }, 10, root)\n",
       "  }\n",
       "})(window);"
      ],
      "application/vnd.bokehjs_exec.v0+json": ""
     },
     "metadata": {
      "application/vnd.bokehjs_exec.v0+json": {
       "id": "2068"
      }
     },
     "output_type": "display_data"
    },
    {
     "name": "stdout",
     "output_type": "stream",
     "text": [
      "[1.50763146e-10 1.78055030e-07 7.27951523e-05]\n",
      "[-9.82170481 -6.74944575 -4.13789754]\n"
     ]
    }
   ],
   "source": [
    "curdoc().clear()\n",
    "#initial parameter for optimization\n",
    "p0 = np.array([-9,-4,-4])\n",
    "c, p_active = df['conc'].values, df['fentanyl'].values/100\n",
    "\n",
    "#optimize kd and energy difference to fit the data\n",
    "res = scipy.optimize.least_squares(resid, p0, args = (c,p_active))\n",
    "\n",
    "curdoc().clear()\n",
    "p = bokeh.plotting.figure(plot_height=400,\n",
    "                         plot_width=600,\n",
    "                         x_axis_label='[fentanyl] M',\n",
    "                          y_axis_label='active_probability',\n",
    "                          x_axis_type='log')\n",
    "\n",
    "p.line(ligand_smooth, agonist_only_p_active_theory(ligand_smooth, res.x[0],res.x[1],res.x[2]))\n",
    "p.circle(c, p_active, size=7, color=colors[i])\n",
    "\n",
    "bokeh.io.show(p);\n",
    "print(10**res.x)\n",
    "print(res.x)"
   ]
  },
  {
   "cell_type": "code",
   "execution_count": 67,
   "id": "792f7815",
   "metadata": {},
   "outputs": [
    {
     "data": {
      "text/plain": [
       "array([-9.82170484, -6.74944575, -4.1378976 ])"
      ]
     },
     "execution_count": 67,
     "metadata": {},
     "output_type": "execute_result"
    }
   ],
   "source": [
    "res.x"
   ]
  },
  {
   "cell_type": "code",
   "execution_count": 11,
   "id": "35007e21",
   "metadata": {},
   "outputs": [],
   "source": [
    "def partial_agonist_only_p_active_theory(c_agonist, log_Kd_active, log_Kd_inactive, beta_deltaE):\n",
    "    \"theoretical curve for mglur5 active probability\"\n",
    "    beta_deltaE = -4\n",
    "    Kd_active = 10**(log_Kd_active)\n",
    "    Kd_inactive = 10**(log_Kd_inactive)\n",
    "    a = (1 + c_agonist/Kd_active)\n",
    "\n",
    "    b = (1 + c_agonist/Kd_inactive)\n",
    "\n",
    "    return a/(a+b*np.exp(-beta_deltaE))\n",
    "\n",
    "def partial_resid(param, c, p_active):\n",
    "    return p_active - partial_agonist_only_p_active_theory(c, *param)"
   ]
  },
  {
   "cell_type": "code",
   "execution_count": 12,
   "id": "7dad449a",
   "metadata": {},
   "outputs": [
    {
     "data": {
      "text/html": [
       "\n",
       "\n",
       "\n",
       "\n",
       "\n",
       "\n",
       "  <div class=\"bk-root\" id=\"abf6d93b-1d25-419e-b412-a4feb862f8fe\" data-root-id=\"1719\"></div>\n"
      ]
     },
     "metadata": {},
     "output_type": "display_data"
    },
    {
     "data": {
      "application/javascript": [
       "(function(root) {\n",
       "  function embed_document(root) {\n",
       "    \n",
       "  const docs_json = {\"9fca8593-9fd5-4d66-bef3-33d7330b43c9\":{\"defs\":[],\"roots\":{\"references\":[{\"attributes\":{\"below\":[{\"id\":\"1728\"}],\"center\":[{\"id\":\"1731\"},{\"id\":\"1735\"}],\"height\":400,\"left\":[{\"id\":\"1732\"}],\"renderers\":[{\"id\":\"1754\"},{\"id\":\"1760\"}],\"title\":{\"id\":\"1762\"},\"toolbar\":{\"id\":\"1743\"},\"x_range\":{\"id\":\"1720\"},\"x_scale\":{\"id\":\"1724\"},\"y_range\":{\"id\":\"1722\"},\"y_scale\":{\"id\":\"1726\"}},\"id\":\"1719\",\"subtype\":\"Figure\",\"type\":\"Plot\"},{\"attributes\":{\"ticker\":null},\"id\":\"1768\",\"type\":\"LogTickFormatter\"},{\"attributes\":{},\"id\":\"1736\",\"type\":\"PanTool\"},{\"attributes\":{},\"id\":\"1722\",\"type\":\"DataRange1d\"},{\"attributes\":{\"overlay\":{\"id\":\"1742\"}},\"id\":\"1738\",\"type\":\"BoxZoomTool\"},{\"attributes\":{},\"id\":\"1769\",\"type\":\"AllLabels\"},{\"attributes\":{},\"id\":\"1740\",\"type\":\"ResetTool\"},{\"attributes\":{\"coordinates\":null,\"group\":null},\"id\":\"1762\",\"type\":\"Title\"},{\"attributes\":{},\"id\":\"1739\",\"type\":\"SaveTool\"},{\"attributes\":{\"bottom_units\":\"screen\",\"coordinates\":null,\"fill_alpha\":0.5,\"fill_color\":\"lightgrey\",\"group\":null,\"left_units\":\"screen\",\"level\":\"overlay\",\"line_alpha\":1.0,\"line_color\":\"black\",\"line_dash\":[4,4],\"line_width\":2,\"right_units\":\"screen\",\"syncable\":false,\"top_units\":\"screen\"},\"id\":\"1742\",\"type\":\"BoxAnnotation\"},{\"attributes\":{\"line_alpha\":0.1,\"line_color\":\"#1f77b4\",\"x\":{\"field\":\"x\"},\"y\":{\"field\":\"y\"}},\"id\":\"1752\",\"type\":\"Line\"},{\"attributes\":{},\"id\":\"1724\",\"type\":\"LogScale\"},{\"attributes\":{\"coordinates\":null,\"data_source\":{\"id\":\"1750\"},\"glyph\":{\"id\":\"1751\"},\"group\":null,\"hover_glyph\":null,\"muted_glyph\":{\"id\":\"1753\"},\"nonselection_glyph\":{\"id\":\"1752\"},\"view\":{\"id\":\"1755\"}},\"id\":\"1754\",\"type\":\"GlyphRenderer\"},{\"attributes\":{\"coordinates\":null,\"data_source\":{\"id\":\"1756\"},\"glyph\":{\"id\":\"1757\"},\"group\":null,\"hover_glyph\":null,\"muted_glyph\":{\"id\":\"1759\"},\"nonselection_glyph\":{\"id\":\"1758\"},\"view\":{\"id\":\"1761\"}},\"id\":\"1760\",\"type\":\"GlyphRenderer\"},{\"attributes\":{},\"id\":\"1726\",\"type\":\"LinearScale\"},{\"attributes\":{},\"id\":\"1770\",\"type\":\"UnionRenderers\"},{\"attributes\":{\"data\":{\"x\":{\"__ndarray__\":\"je21oPfGsD5Ir7ya8td6PjqMMOKOeUU+ldYm6AsuET67vdfZ33zbPZVkeeF//aU9EeotgZmXcT2CdklowiU8PY3ttaD3xrA+SK+8mvLXej46jDDijnlFPpXWJugLLhE+u73X2d982z2VZHnhf/2lPRHqLYGZl3E9gnZJaMIlPD2N7bWg98awPkivvJry13o+Ooww4o55RT6V1iboCy4RPru919nffNs9lWR54X/9pT0R6i2BmZdxPYJ2SWjCJTw9je21oPfGsD5Ir7ya8td6PjqMMOKOeUU+ldYm6AsuET67vdfZ33zbPZVkeeF//aU9EeotgZmXcT2CdklowiU8PY3ttaD3xrA+SK+8mvLXej46jDDijnlFPpXWJugLLhE+u73X2d982z2VZHnhf/2lPRHqLYGZl3E9gnZJaMIlPD2N7bWg98awPkivvJry13o+Ooww4o55RT6V1iboCy4RPru919nffNs9lWR54X/9pT0R6i2BmZdxPYJ2SWjCJTw9je21oPfGsD5Ir7ya8td6PjqMMOKOeUU+ldYm6AsuET67vdfZ33zbPZVkeeF//aU9EeotgZmXcT2CdklowiU8PY3ttaD3xrA+SK+8mvLXej46jDDijnlFPpXWJugLLhE+u73X2d982z2VZHnhf/2lPRHqLYGZl3E9gnZJaMIlPD2N7bWg98awPkivvJry13o+Ooww4o55RT6V1iboCy4RPru919nffNs9lWR54X/9pT0R6i2BmZdxPYJ2SWjCJTw9\",\"dtype\":\"float64\",\"order\":\"little\",\"shape\":[72]},\"y\":{\"__ndarray__\":\"Jug9W9076j+IQV/hhWDrP1jfJtqcw+o/CtnbuHM05T9EW3K07hjiPwDfLqMkmNw/BUUaZS9I0T+9JjeYtVvMP4cNs2pC9+k/Vkp2YsbY6j+tAJUOxyPqPxU/G5uXLOY/aO8ZYfpB4z/wCqIoZ/HZP0Kq3dPIWMw/8IDk/o570D/08FTcHbTpP0+vpQRSuOg/uMfY8X2d6T+zhPUTXIbmP+HWwq0QWuM/oCgQ9yNN3T/CS2z7JS7bP9i7C9ZJScs/ruT8mx2O5z/XbcWPTpXoP56XXK2zK+k/o0DnS7mZ5j+wWRuqLTbgP3T9l3T2Z9o/YvGiQm8/yz/+KqKZtJbNP8cgJaHkMuo/LAbYRLFF6j+QMZ2Kh/DlP08uYfT9l+Y/QOYqxI6i4j/YNXH7K6nePzjxoatF6dI/dOoTX+Ue0D8L79lmD7zoP0Ip4RW2Eeg/ClN4Mxuo6D+B1bLa6+TmP5iloFguj+I/BOsGjZRZ2D/Y4Yk7x4/NPx/n25fKKs4/kshdx7HO6j9LV6Q/H2DoP4JmcIRAgOc/9JSt5Tv45j/D91R97XrlP2bQyFuC0ds/eZdHDS4o0j8vFGIuEtDLP7fDIcYy/Ok/UgYJgWry5z9GJz+L7JvmP3Po5iQwz+c/kTAiIotA4z/khIHf8N7YP8Qk+53DbdI/i4QQHT0hyz9MREmmghbqP3KPWaMYfek/8uvTZQ9t6D/YuFoDlSLoP6XrPvqvbOM/RJhx5Owo3D+nGOUahl/QP83lgrl6zM0/\",\"dtype\":\"float64\",\"order\":\"little\",\"shape\":[72]}},\"selected\":{\"id\":\"1773\"},\"selection_policy\":{\"id\":\"1772\"}},\"id\":\"1756\",\"type\":\"ColumnDataSource\"},{\"attributes\":{\"source\":{\"id\":\"1756\"}},\"id\":\"1761\",\"type\":\"CDSView\"},{\"attributes\":{},\"id\":\"1771\",\"type\":\"Selection\"},{\"attributes\":{\"fill_alpha\":{\"value\":0.2},\"fill_color\":{\"value\":\"#1f77b4\"},\"hatch_alpha\":{\"value\":0.2},\"hatch_color\":{\"value\":\"#1f77b4\"},\"line_alpha\":{\"value\":0.2},\"line_color\":{\"value\":\"#1f77b4\"},\"size\":{\"value\":7},\"x\":{\"field\":\"x\"},\"y\":{\"field\":\"y\"}},\"id\":\"1759\",\"type\":\"Circle\"},{\"attributes\":{\"line_color\":\"#1f77b4\",\"x\":{\"field\":\"x\"},\"y\":{\"field\":\"y\"}},\"id\":\"1751\",\"type\":\"Line\"},{\"attributes\":{\"line_alpha\":0.2,\"line_color\":\"#1f77b4\",\"x\":{\"field\":\"x\"},\"y\":{\"field\":\"y\"}},\"id\":\"1753\",\"type\":\"Line\"},{\"attributes\":{\"data\":{\"x\":{\"__ndarray__\":\"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\",\"dtype\":\"float64\",\"order\":\"little\",\"shape\":[200]},\"y\":{\"__ndarray__\":\"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\",\"dtype\":\"float64\",\"order\":\"little\",\"shape\":[200]}},\"selected\":{\"id\":\"1771\"},\"selection_policy\":{\"id\":\"1770\"}},\"id\":\"1750\",\"type\":\"ColumnDataSource\"},{\"attributes\":{\"fill_alpha\":{\"value\":0.1},\"fill_color\":{\"value\":\"#1f77b4\"},\"hatch_alpha\":{\"value\":0.1},\"hatch_color\":{\"value\":\"#1f77b4\"},\"line_alpha\":{\"value\":0.1},\"line_color\":{\"value\":\"#1f77b4\"},\"size\":{\"value\":7},\"x\":{\"field\":\"x\"},\"y\":{\"field\":\"y\"}},\"id\":\"1758\",\"type\":\"Circle\"},{\"attributes\":{\"num_minor_ticks\":10},\"id\":\"1729\",\"type\":\"LogTicker\"},{\"attributes\":{\"tools\":[{\"id\":\"1736\"},{\"id\":\"1737\"},{\"id\":\"1738\"},{\"id\":\"1739\"},{\"id\":\"1740\"},{\"id\":\"1741\"}]},\"id\":\"1743\",\"type\":\"Toolbar\"},{\"attributes\":{\"source\":{\"id\":\"1750\"}},\"id\":\"1755\",\"type\":\"CDSView\"},{\"attributes\":{\"axis\":{\"id\":\"1728\"},\"coordinates\":null,\"group\":null,\"ticker\":null},\"id\":\"1731\",\"type\":\"Grid\"},{\"attributes\":{\"fill_color\":{\"value\":\"#1f77b4\"},\"hatch_color\":{\"value\":\"#1f77b4\"},\"line_color\":{\"value\":\"#1f77b4\"},\"size\":{\"value\":7},\"x\":{\"field\":\"x\"},\"y\":{\"field\":\"y\"}},\"id\":\"1757\",\"type\":\"Circle\"},{\"attributes\":{},\"id\":\"1737\",\"type\":\"WheelZoomTool\"},{\"attributes\":{},\"id\":\"1772\",\"type\":\"UnionRenderers\"},{\"attributes\":{},\"id\":\"1741\",\"type\":\"HelpTool\"},{\"attributes\":{},\"id\":\"1766\",\"type\":\"AllLabels\"},{\"attributes\":{\"axis_label\":\"active_probability\",\"coordinates\":null,\"formatter\":{\"id\":\"1765\"},\"group\":null,\"major_label_policy\":{\"id\":\"1766\"},\"ticker\":{\"id\":\"1733\"}},\"id\":\"1732\",\"type\":\"LinearAxis\"},{\"attributes\":{},\"id\":\"1773\",\"type\":\"Selection\"},{\"attributes\":{},\"id\":\"1720\",\"type\":\"DataRange1d\"},{\"attributes\":{\"axis_label\":\"[lofentanyl] M\",\"coordinates\":null,\"formatter\":{\"id\":\"1768\"},\"group\":null,\"major_label_policy\":{\"id\":\"1769\"},\"ticker\":{\"id\":\"1729\"}},\"id\":\"1728\",\"type\":\"LogAxis\"},{\"attributes\":{},\"id\":\"1765\",\"type\":\"BasicTickFormatter\"},{\"attributes\":{},\"id\":\"1733\",\"type\":\"BasicTicker\"},{\"attributes\":{\"axis\":{\"id\":\"1732\"},\"coordinates\":null,\"dimension\":1,\"group\":null,\"ticker\":null},\"id\":\"1735\",\"type\":\"Grid\"}],\"root_ids\":[\"1719\"]},\"title\":\"Bokeh Application\",\"version\":\"2.4.2\"}};\n",
       "  const render_items = [{\"docid\":\"9fca8593-9fd5-4d66-bef3-33d7330b43c9\",\"root_ids\":[\"1719\"],\"roots\":{\"1719\":\"abf6d93b-1d25-419e-b412-a4feb862f8fe\"}}];\n",
       "  root.Bokeh.embed.embed_items_notebook(docs_json, render_items);\n",
       "\n",
       "  }\n",
       "  if (root.Bokeh !== undefined) {\n",
       "    embed_document(root);\n",
       "  } else {\n",
       "    let attempts = 0;\n",
       "    const timer = setInterval(function(root) {\n",
       "      if (root.Bokeh !== undefined) {\n",
       "        clearInterval(timer);\n",
       "        embed_document(root);\n",
       "      } else {\n",
       "        attempts++;\n",
       "        if (attempts > 100) {\n",
       "          clearInterval(timer);\n",
       "          console.log(\"Bokeh: ERROR: Unable to run BokehJS code because BokehJS library is missing\");\n",
       "        }\n",
       "      }\n",
       "    }, 10, root)\n",
       "  }\n",
       "})(window);"
      ],
      "application/vnd.bokehjs_exec.v0+json": ""
     },
     "metadata": {
      "application/vnd.bokehjs_exec.v0+json": {
       "id": "1719"
      }
     },
     "output_type": "display_data"
    },
    {
     "name": "stdout",
     "output_type": "stream",
     "text": [
      "[1.07989867e-13 1.62414430e-11 1.09647820e-04]\n",
      "[-12.96661699 -10.78937539  -3.96      ]\n"
     ]
    }
   ],
   "source": [
    "curdoc().clear()\n",
    "#initial parameter for optimization\n",
    "p0 = np.array([-9,-7,-4.5])\n",
    "c, p_active = df['conc'].values, df['lofentanyl'].values\n",
    "\n",
    "#optimize kd and energy difference to fit the data\n",
    "res = scipy.optimize.least_squares(partial_resid, p0, args = (c,p_active))\n",
    "\n",
    "curdoc().clear()\n",
    "p = bokeh.plotting.figure(plot_height=400,\n",
    "                         plot_width=600,\n",
    "                         x_axis_label='[lofentanyl] M',\n",
    "                          y_axis_label='active_probability',\n",
    "                          x_axis_type='log')\n",
    "\n",
    "p.line(ligand_smooth, partial_agonist_only_p_active_theory(ligand_smooth, res.x[0],res.x[1],res.x[2]))\n",
    "p.circle(c, p_active, size=7, color=colors[i])\n",
    "\n",
    "bokeh.io.show(p);\n",
    "print(10**res.x)\n",
    "print(res.x)"
   ]
  },
  {
   "cell_type": "code",
   "execution_count": 25,
   "id": "2398f82e",
   "metadata": {},
   "outputs": [
    {
     "data": {
      "text/html": [
       "\n",
       "\n",
       "\n",
       "\n",
       "\n",
       "\n",
       "  <div class=\"bk-root\" id=\"a87d614a-762e-4fbb-b235-e839e55679cf\" data-root-id=\"3036\"></div>\n"
      ]
     },
     "metadata": {},
     "output_type": "display_data"
    },
    {
     "data": {
      "application/javascript": [
       "(function(root) {\n",
       "  function embed_document(root) {\n",
       "    \n",
       "  const docs_json = {\"06291b4a-1f4a-402b-9601-6567c04eb60a\":{\"defs\":[],\"roots\":{\"references\":[{\"attributes\":{\"below\":[{\"id\":\"3045\"}],\"center\":[{\"id\":\"3048\"},{\"id\":\"3052\"}],\"height\":400,\"left\":[{\"id\":\"3049\"}],\"renderers\":[{\"id\":\"3071\"},{\"id\":\"3077\"}],\"title\":{\"id\":\"3079\"},\"toolbar\":{\"id\":\"3060\"},\"x_range\":{\"id\":\"3037\"},\"x_scale\":{\"id\":\"3041\"},\"y_range\":{\"id\":\"3039\"},\"y_scale\":{\"id\":\"3043\"}},\"id\":\"3036\",\"subtype\":\"Figure\",\"type\":\"Plot\"},{\"attributes\":{},\"id\":\"3043\",\"type\":\"LinearScale\"},{\"attributes\":{\"coordinates\":null,\"data_source\":{\"id\":\"3067\"},\"glyph\":{\"id\":\"3068\"},\"group\":null,\"hover_glyph\":null,\"muted_glyph\":{\"id\":\"3070\"},\"nonselection_glyph\":{\"id\":\"3069\"},\"view\":{\"id\":\"3072\"}},\"id\":\"3071\",\"type\":\"GlyphRenderer\"},{\"attributes\":{\"fill_alpha\":{\"value\":0.1},\"fill_color\":{\"value\":\"#d62728\"},\"hatch_alpha\":{\"value\":0.1},\"hatch_color\":{\"value\":\"#d62728\"},\"line_alpha\":{\"value\":0.1},\"line_color\":{\"value\":\"#d62728\"},\"size\":{\"value\":7},\"x\":{\"field\":\"x\"},\"y\":{\"field\":\"y\"}},\"id\":\"3075\",\"type\":\"Circle\"},{\"attributes\":{},\"id\":\"3083\",\"type\":\"AllLabels\"},{\"attributes\":{\"source\":{\"id\":\"3067\"}},\"id\":\"3072\",\"type\":\"CDSView\"},{\"attributes\":{\"ticker\":null},\"id\":\"3085\",\"type\":\"LogTickFormatter\"},{\"attributes\":{\"line_alpha\":0.1,\"line_color\":\"#1f77b4\",\"x\":{\"field\":\"x\"},\"y\":{\"field\":\"y\"}},\"id\":\"3069\",\"type\":\"Line\"},{\"attributes\":{\"data\":{\"x\":{\"__ndarray__\":\"8WjjiLX45D679pawq8bAPhuSU62U2Jo+oI4DVa95dT7M4Xca2C1RPjaq640QfCs+3t8LVsL9BT7oVNoJf5fhPTSqdm7HIbw9TvOxegaBlj2fbg5/gAByPfFo44i1+OQ+u/aWsKvGwD4bklOtlNiaPqCOA1WveXU+zOF3GtgtUT42quuNEHwrPt7fC1bC/QU+6FTaCX+X4T00qnZuxyG8PU7zsXoGgZY9n24Of4AAcj0=\",\"dtype\":\"float64\",\"order\":\"little\",\"shape\":[22]},\"y\":{\"__ndarray__\":\"vNQK6OC03j/jyvAw+Z/hP+irZGpvxtc/iDwj5zlx0z9b8Arp6aLUP01aftAdG88/ERIx9I1qob/O+xMCff2xvw2t0l6Wv7y/jaluZtkTrD+tgOqaNoOxv1HRz8XVPuM/r6O+zEzv3z9SWE6WoefdP5v1EGh5X9k/yKuqlcNV1D9t2DQ2Wa2wP9JFFce046M/EY3KVNIgur8dvEK06cG5v6Z42lg665y/oNZH7dZvpj8=\",\"dtype\":\"float64\",\"order\":\"little\",\"shape\":[22]}},\"selected\":{\"id\":\"3090\"},\"selection_policy\":{\"id\":\"3089\"}},\"id\":\"3073\",\"type\":\"ColumnDataSource\"},{\"attributes\":{},\"id\":\"3086\",\"type\":\"AllLabels\"},{\"attributes\":{\"coordinates\":null,\"group\":null},\"id\":\"3079\",\"type\":\"Title\"},{\"attributes\":{\"bottom_units\":\"screen\",\"coordinates\":null,\"fill_alpha\":0.5,\"fill_color\":\"lightgrey\",\"group\":null,\"left_units\":\"screen\",\"level\":\"overlay\",\"line_alpha\":1.0,\"line_color\":\"black\",\"line_dash\":[4,4],\"line_width\":2,\"right_units\":\"screen\",\"syncable\":false,\"top_units\":\"screen\"},\"id\":\"3059\",\"type\":\"BoxAnnotation\"},{\"attributes\":{\"source\":{\"id\":\"3073\"}},\"id\":\"3078\",\"type\":\"CDSView\"},{\"attributes\":{\"coordinates\":null,\"data_source\":{\"id\":\"3073\"},\"glyph\":{\"id\":\"3074\"},\"group\":null,\"hover_glyph\":null,\"muted_glyph\":{\"id\":\"3076\"},\"nonselection_glyph\":{\"id\":\"3075\"},\"view\":{\"id\":\"3078\"}},\"id\":\"3077\",\"type\":\"GlyphRenderer\"},{\"attributes\":{\"data\":{\"x\":{\"__ndarray__\":\"EeotgZmXcT1+akKEYkxzPRpC2DCIK3U9Ky4oTiY5dz0ppVmlvnl5PXMQMeZC8ns9eFhggR+ofj3lOCbIo9CAPcMMNfIgcoI9RWVurRs8hD3EW+VJgTKGPYq38pegWYg9bKj/XDO2ij3ozhizaE2NPVVrBzV4EpA9jp+PwYOhkT0iEkbxQleTPcQUmap2N5U9+P6KBT1Glz0u04pVGoiZPe/mtRMDApw9UE5Gv2a5nj0oEwfmHdqgPZ9TmFyGfKI9cRhqNoNHpD396ij6Az+mPdm+uuVZZ6g9RwteaEHFqj1GhRWI7F2tPUZKmSSHG7A9g5mDmHOrsT1ovZp/KWKzPZ163t1rQ7U9/NtoHVtTtz0h8F4dfpa5PZMEySHMEbw9AGMiurfKvj2LEEdbnePAPXBX+KLxhsI9dsPcLPFSxD2ZpHm3jUvGPfppoO8adcg9JBvl71fUyj2aD+areW7NPdDtIS+bJNA95x4wCWm10T3W5bQyFm3TPTq1cs5nT9U9rCDqmYBg1z23kWUB6qTZPUg8axWeIdw9NqJxdxLc3j1j2egqIu3gPbR+oshikeI9uspllGVe5D2i3tCFHljmPcO5/7njgug9YRVd+Hbj6j0gZ8kjEH/tPX3ygVe0LfA9IT29FmS/8T1u9woOCXjzPQcpIoBqW/U9XIA5f61t9z2x3zAGXrP5Pd0yoPN4Mfw9hS+0/Hbt/j1eyPBXrPYAPmcM5tDZmwI+V52mcOBpBD6DLCpptmQGPgQkN0m0kAg+WumQhp7yCj79eQH1r48NPgCUm6DSNhA+AclUxGTJET7MURUVAoMTPnleu/ZzZxU+rQeE0eF6Fz5SlVUw2sEZPpZgbsFcQRw+I0htT+X+Hj5562TlOwAhPhohFL9WpiI+ObZCxWF1JD5JYINlVXEmPu+Up6GMnig+6zlOn84BKz4LLdMkWaAtPhyuUg32PzA+x18iFWvTMT47SU5LAY4zPkoDDzaEczU+dh35lB2INz7UAmuEXtA5PsYS34NJUTw+p0QjdV0QPz7xBE3W0AlBPrW7f5bZsEI+Sp3flemARD7ri9x++31GPoJwtMdsrEg++F5lRwcRSz7rXIa4C7FNPpO9jKAeSVA+HmhTDHfdUT7dJzK0BplTPqXr70Gbf1U+qYTKzWCVVz7XDgsH695ZPntt/j8/YVw+25pfc98hXz4+jLItaxNhPvK6fVpiu2I+megk5neMZD6WAji5qIpmPrqTw79Uumg+9Gapg0ggaz7C4GW1x8FtPg7hMF1MUnA+LBMXrYjncT6aLj9TEqRzPmUTMx65i3U+dV0sgKuidz7dN9K8f+15PtFs2/o9cXw+ON+uT2szfz4Gr6DuCh2BPkjeZA7xxYI+gD28uQyYhD7EWZoYXZeGPkdWPY5EyIg+ZhjwWJIviz72ir8gjdKNPgvaJ0Z/W5A+bF2e+p/xkT58lvUrJK+TPkafr87dl5U+YSZVsP2vlz68lV+qHPyZPvXmh7lFgZw+EsegDwFFnz4XUiQcsCahPsfGjbWF0KI+0VFRFKijpD7JagqhGKSmPr2LjDc81qg+dfMRzOQ+qz5IK+T/W+OtPsUNXF63ZLA+6w8c+Lz7sT6rkddBPLqzPiDePlcJpLU+2r19Yle9tz4X21TUwQq6PneNGIFWkbw+JCrIuKBWvz5ZEky5WjDBPlv4UlMg28I+/+yR+UmvxD7uU5FW27DGPhWFHsA75Mg+bTPq4T9Oyz5tkCdYNPTNPiWGuaj0bdA+JsHEqN8F0j5mTGmYWsXTPh9KvLs7sNU+fWPhmrjK1z7SVlY/bxnaPv3upFZwodw+IgS7UEpo3z7NRSjJCjrhPsnaEOvA5eI+RektbfK65D6/eTo9pb3mPtsRYyxD8ug+S9BWn6Nd6z7AieAuFgXuPqzyLSg3d/A+FdbODwgQ8j5n7jAzf9DzPveJBQB1vPU+bbm9XSHY9z6R9QrwJCj6Pt54Rz+Tsfw+53YS3f15/z6C/MpOwEMBP8i6JYBn8AI/1TTXcqHGBD9WiBNZdsoGP+qBzIBSAAk/SYA4CRBtCz/z6GiJARYOP2OpqN9+gBA/MoNyMDYaEj/Tm7YVqtsTPzRy+ie1yBU/qsVSr5HlFz8tQxzr4jYaPw==\",\"dtype\":\"float64\",\"order\":\"little\",\"shape\":[200]},\"y\":{\"__ndarray__\":\"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\",\"dtype\":\"float64\",\"order\":\"little\",\"shape\":[200]}},\"selected\":{\"id\":\"3088\"},\"selection_policy\":{\"id\":\"3087\"}},\"id\":\"3067\",\"type\":\"ColumnDataSource\"},{\"attributes\":{},\"id\":\"3054\",\"type\":\"WheelZoomTool\"},{\"attributes\":{\"fill_alpha\":{\"value\":0.2},\"fill_color\":{\"value\":\"#d62728\"},\"hatch_alpha\":{\"value\":0.2},\"hatch_color\":{\"value\":\"#d62728\"},\"line_alpha\":{\"value\":0.2},\"line_color\":{\"value\":\"#d62728\"},\"size\":{\"value\":7},\"x\":{\"field\":\"x\"},\"y\":{\"field\":\"y\"}},\"id\":\"3076\",\"type\":\"Circle\"},{\"attributes\":{},\"id\":\"3090\",\"type\":\"Selection\"},{\"attributes\":{},\"id\":\"3039\",\"type\":\"DataRange1d\"},{\"attributes\":{},\"id\":\"3037\",\"type\":\"DataRange1d\"},{\"attributes\":{},\"id\":\"3087\",\"type\":\"UnionRenderers\"},{\"attributes\":{\"overlay\":{\"id\":\"3059\"}},\"id\":\"3055\",\"type\":\"BoxZoomTool\"},{\"attributes\":{},\"id\":\"3088\",\"type\":\"Selection\"},{\"attributes\":{\"line_color\":\"#1f77b4\",\"x\":{\"field\":\"x\"},\"y\":{\"field\":\"y\"}},\"id\":\"3068\",\"type\":\"Line\"},{\"attributes\":{\"axis_label\":\"[PZM21] M\",\"coordinates\":null,\"formatter\":{\"id\":\"3085\"},\"group\":null,\"major_label_policy\":{\"id\":\"3086\"},\"ticker\":{\"id\":\"3046\"}},\"id\":\"3045\",\"type\":\"LogAxis\"},{\"attributes\":{},\"id\":\"3058\",\"type\":\"HelpTool\"},{\"attributes\":{\"fill_color\":{\"value\":\"#d62728\"},\"hatch_color\":{\"value\":\"#d62728\"},\"line_color\":{\"value\":\"#d62728\"},\"size\":{\"value\":7},\"x\":{\"field\":\"x\"},\"y\":{\"field\":\"y\"}},\"id\":\"3074\",\"type\":\"Circle\"},{\"attributes\":{},\"id\":\"3082\",\"type\":\"BasicTickFormatter\"},{\"attributes\":{},\"id\":\"3041\",\"type\":\"LogScale\"},{\"attributes\":{\"tools\":[{\"id\":\"3053\"},{\"id\":\"3054\"},{\"id\":\"3055\"},{\"id\":\"3056\"},{\"id\":\"3057\"},{\"id\":\"3058\"}]},\"id\":\"3060\",\"type\":\"Toolbar\"},{\"attributes\":{},\"id\":\"3057\",\"type\":\"ResetTool\"},{\"attributes\":{},\"id\":\"3050\",\"type\":\"BasicTicker\"},{\"attributes\":{\"num_minor_ticks\":10},\"id\":\"3046\",\"type\":\"LogTicker\"},{\"attributes\":{},\"id\":\"3089\",\"type\":\"UnionRenderers\"},{\"attributes\":{\"line_alpha\":0.2,\"line_color\":\"#1f77b4\",\"x\":{\"field\":\"x\"},\"y\":{\"field\":\"y\"}},\"id\":\"3070\",\"type\":\"Line\"},{\"attributes\":{\"axis_label\":\"active_probability\",\"coordinates\":null,\"formatter\":{\"id\":\"3082\"},\"group\":null,\"major_label_policy\":{\"id\":\"3083\"},\"ticker\":{\"id\":\"3050\"}},\"id\":\"3049\",\"type\":\"LinearAxis\"},{\"attributes\":{\"axis\":{\"id\":\"3049\"},\"coordinates\":null,\"dimension\":1,\"group\":null,\"ticker\":null},\"id\":\"3052\",\"type\":\"Grid\"},{\"attributes\":{\"axis\":{\"id\":\"3045\"},\"coordinates\":null,\"group\":null,\"ticker\":null},\"id\":\"3048\",\"type\":\"Grid\"},{\"attributes\":{},\"id\":\"3053\",\"type\":\"PanTool\"},{\"attributes\":{},\"id\":\"3056\",\"type\":\"SaveTool\"}],\"root_ids\":[\"3036\"]},\"title\":\"Bokeh Application\",\"version\":\"2.4.2\"}};\n",
       "  const render_items = [{\"docid\":\"06291b4a-1f4a-402b-9601-6567c04eb60a\",\"root_ids\":[\"3036\"],\"roots\":{\"3036\":\"a87d614a-762e-4fbb-b235-e839e55679cf\"}}];\n",
       "  root.Bokeh.embed.embed_items_notebook(docs_json, render_items);\n",
       "\n",
       "  }\n",
       "  if (root.Bokeh !== undefined) {\n",
       "    embed_document(root);\n",
       "  } else {\n",
       "    let attempts = 0;\n",
       "    const timer = setInterval(function(root) {\n",
       "      if (root.Bokeh !== undefined) {\n",
       "        clearInterval(timer);\n",
       "        embed_document(root);\n",
       "      } else {\n",
       "        attempts++;\n",
       "        if (attempts > 100) {\n",
       "          clearInterval(timer);\n",
       "          console.log(\"Bokeh: ERROR: Unable to run BokehJS code because BokehJS library is missing\");\n",
       "        }\n",
       "      }\n",
       "    }, 10, root)\n",
       "  }\n",
       "})(window);"
      ],
      "application/vnd.bokehjs_exec.v0+json": ""
     },
     "metadata": {
      "application/vnd.bokehjs_exec.v0+json": {
       "id": "3036"
      }
     },
     "output_type": "display_data"
    },
    {
     "name": "stdout",
     "output_type": "stream",
     "text": [
      "[4.24527530e-10 2.18645805e-08 1.00000000e-04]\n",
      "[-9.37209414 -7.66025885 -4.        ]\n"
     ]
    }
   ],
   "source": [
    "curdoc().clear()\n",
    "#initial parameter for optimization\n",
    "p0 = np.array([-9,-7,-4])\n",
    "c, p_active = df['conc'].values, df['PZM21'].values/100\n",
    "\n",
    "#optimize kd and energy difference to fit the data\n",
    "res = scipy.optimize.least_squares(partial_resid, p0, args = (c,p_active))\n",
    "\n",
    "curdoc().clear()\n",
    "p = bokeh.plotting.figure(plot_height=400,\n",
    "                         plot_width=600,\n",
    "                         x_axis_label='[PZM21] M',\n",
    "                          y_axis_label='active_probability',\n",
    "                          x_axis_type='log')\n",
    "\n",
    "p.line(ligand_smooth, partial_agonist_only_p_active_theory(ligand_smooth, res.x[0],res.x[1],res.x[2]))\n",
    "p.circle(c, p_active, size=7, color=colors[i])\n",
    "\n",
    "bokeh.io.show(p);\n",
    "print(10**res.x)\n",
    "print(res.x)"
   ]
  },
  {
   "cell_type": "code",
   "execution_count": null,
   "id": "638328ef",
   "metadata": {},
   "outputs": [],
   "source": []
  }
 ],
 "metadata": {
  "kernelspec": {
   "display_name": "Python 3",
   "language": "python",
   "name": "python3"
  },
  "language_info": {
   "codemirror_mode": {
    "name": "ipython",
    "version": 3
   },
   "file_extension": ".py",
   "mimetype": "text/x-python",
   "name": "python",
   "nbconvert_exporter": "python",
   "pygments_lexer": "ipython3",
   "version": "3.8.3"
  }
 },
 "nbformat": 4,
 "nbformat_minor": 5
}
